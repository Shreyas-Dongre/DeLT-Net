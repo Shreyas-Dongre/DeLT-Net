{
  "nbformat": 4,
  "nbformat_minor": 0,
  "metadata": {
    "colab": {
      "provenance": [],
      "gpuType": "T4"
    },
    "kernelspec": {
      "name": "python3",
      "display_name": "Python 3"
    },
    "language_info": {
      "name": "python"
    },
    "widgets": {
      "application/vnd.jupyter.widget-state+json": {
        "6979dad7476e4935ab74fd59d6e357e2": {
          "model_module": "@jupyter-widgets/controls",
          "model_name": "HBoxModel",
          "model_module_version": "1.5.0",
          "state": {
            "_dom_classes": [],
            "_model_module": "@jupyter-widgets/controls",
            "_model_module_version": "1.5.0",
            "_model_name": "HBoxModel",
            "_view_count": null,
            "_view_module": "@jupyter-widgets/controls",
            "_view_module_version": "1.5.0",
            "_view_name": "HBoxView",
            "box_style": "",
            "children": [
              "IPY_MODEL_6b83d35a0b3640f5a5edf9acfcb9dd3b",
              "IPY_MODEL_f61a1a170b5f4ee6b52c1599ab837bdf",
              "IPY_MODEL_407ab68abec845649ad1d4afef852090"
            ],
            "layout": "IPY_MODEL_d8dcb9c1cc1c4f7db50482bf4cc11f3d"
          }
        },
        "6b83d35a0b3640f5a5edf9acfcb9dd3b": {
          "model_module": "@jupyter-widgets/controls",
          "model_name": "HTMLModel",
          "model_module_version": "1.5.0",
          "state": {
            "_dom_classes": [],
            "_model_module": "@jupyter-widgets/controls",
            "_model_module_version": "1.5.0",
            "_model_name": "HTMLModel",
            "_view_count": null,
            "_view_module": "@jupyter-widgets/controls",
            "_view_module_version": "1.5.0",
            "_view_name": "HTMLView",
            "description": "",
            "description_tooltip": null,
            "layout": "IPY_MODEL_5952bfb8d050492ca4ea99dcbb22b173",
            "placeholder": "​",
            "style": "IPY_MODEL_ef361ae7e3254c60850ba901041e0020",
            "value": "Downloading (…)okenizer_config.json: 100%"
          }
        },
        "f61a1a170b5f4ee6b52c1599ab837bdf": {
          "model_module": "@jupyter-widgets/controls",
          "model_name": "FloatProgressModel",
          "model_module_version": "1.5.0",
          "state": {
            "_dom_classes": [],
            "_model_module": "@jupyter-widgets/controls",
            "_model_module_version": "1.5.0",
            "_model_name": "FloatProgressModel",
            "_view_count": null,
            "_view_module": "@jupyter-widgets/controls",
            "_view_module_version": "1.5.0",
            "_view_name": "ProgressView",
            "bar_style": "success",
            "description": "",
            "description_tooltip": null,
            "layout": "IPY_MODEL_b81120dde08c4d6f9f3c444df8d54d9a",
            "max": 28,
            "min": 0,
            "orientation": "horizontal",
            "style": "IPY_MODEL_1cddc37efdc1466298258cc7aab95f72",
            "value": 28
          }
        },
        "407ab68abec845649ad1d4afef852090": {
          "model_module": "@jupyter-widgets/controls",
          "model_name": "HTMLModel",
          "model_module_version": "1.5.0",
          "state": {
            "_dom_classes": [],
            "_model_module": "@jupyter-widgets/controls",
            "_model_module_version": "1.5.0",
            "_model_name": "HTMLModel",
            "_view_count": null,
            "_view_module": "@jupyter-widgets/controls",
            "_view_module_version": "1.5.0",
            "_view_name": "HTMLView",
            "description": "",
            "description_tooltip": null,
            "layout": "IPY_MODEL_5d0492e855954991956181f59826909d",
            "placeholder": "​",
            "style": "IPY_MODEL_5c3924ad55534a7da1959041ada05acf",
            "value": " 28.0/28.0 [00:00&lt;00:00, 1.77kB/s]"
          }
        },
        "d8dcb9c1cc1c4f7db50482bf4cc11f3d": {
          "model_module": "@jupyter-widgets/base",
          "model_name": "LayoutModel",
          "model_module_version": "1.2.0",
          "state": {
            "_model_module": "@jupyter-widgets/base",
            "_model_module_version": "1.2.0",
            "_model_name": "LayoutModel",
            "_view_count": null,
            "_view_module": "@jupyter-widgets/base",
            "_view_module_version": "1.2.0",
            "_view_name": "LayoutView",
            "align_content": null,
            "align_items": null,
            "align_self": null,
            "border": null,
            "bottom": null,
            "display": null,
            "flex": null,
            "flex_flow": null,
            "grid_area": null,
            "grid_auto_columns": null,
            "grid_auto_flow": null,
            "grid_auto_rows": null,
            "grid_column": null,
            "grid_gap": null,
            "grid_row": null,
            "grid_template_areas": null,
            "grid_template_columns": null,
            "grid_template_rows": null,
            "height": null,
            "justify_content": null,
            "justify_items": null,
            "left": null,
            "margin": null,
            "max_height": null,
            "max_width": null,
            "min_height": null,
            "min_width": null,
            "object_fit": null,
            "object_position": null,
            "order": null,
            "overflow": null,
            "overflow_x": null,
            "overflow_y": null,
            "padding": null,
            "right": null,
            "top": null,
            "visibility": null,
            "width": null
          }
        },
        "5952bfb8d050492ca4ea99dcbb22b173": {
          "model_module": "@jupyter-widgets/base",
          "model_name": "LayoutModel",
          "model_module_version": "1.2.0",
          "state": {
            "_model_module": "@jupyter-widgets/base",
            "_model_module_version": "1.2.0",
            "_model_name": "LayoutModel",
            "_view_count": null,
            "_view_module": "@jupyter-widgets/base",
            "_view_module_version": "1.2.0",
            "_view_name": "LayoutView",
            "align_content": null,
            "align_items": null,
            "align_self": null,
            "border": null,
            "bottom": null,
            "display": null,
            "flex": null,
            "flex_flow": null,
            "grid_area": null,
            "grid_auto_columns": null,
            "grid_auto_flow": null,
            "grid_auto_rows": null,
            "grid_column": null,
            "grid_gap": null,
            "grid_row": null,
            "grid_template_areas": null,
            "grid_template_columns": null,
            "grid_template_rows": null,
            "height": null,
            "justify_content": null,
            "justify_items": null,
            "left": null,
            "margin": null,
            "max_height": null,
            "max_width": null,
            "min_height": null,
            "min_width": null,
            "object_fit": null,
            "object_position": null,
            "order": null,
            "overflow": null,
            "overflow_x": null,
            "overflow_y": null,
            "padding": null,
            "right": null,
            "top": null,
            "visibility": null,
            "width": null
          }
        },
        "ef361ae7e3254c60850ba901041e0020": {
          "model_module": "@jupyter-widgets/controls",
          "model_name": "DescriptionStyleModel",
          "model_module_version": "1.5.0",
          "state": {
            "_model_module": "@jupyter-widgets/controls",
            "_model_module_version": "1.5.0",
            "_model_name": "DescriptionStyleModel",
            "_view_count": null,
            "_view_module": "@jupyter-widgets/base",
            "_view_module_version": "1.2.0",
            "_view_name": "StyleView",
            "description_width": ""
          }
        },
        "b81120dde08c4d6f9f3c444df8d54d9a": {
          "model_module": "@jupyter-widgets/base",
          "model_name": "LayoutModel",
          "model_module_version": "1.2.0",
          "state": {
            "_model_module": "@jupyter-widgets/base",
            "_model_module_version": "1.2.0",
            "_model_name": "LayoutModel",
            "_view_count": null,
            "_view_module": "@jupyter-widgets/base",
            "_view_module_version": "1.2.0",
            "_view_name": "LayoutView",
            "align_content": null,
            "align_items": null,
            "align_self": null,
            "border": null,
            "bottom": null,
            "display": null,
            "flex": null,
            "flex_flow": null,
            "grid_area": null,
            "grid_auto_columns": null,
            "grid_auto_flow": null,
            "grid_auto_rows": null,
            "grid_column": null,
            "grid_gap": null,
            "grid_row": null,
            "grid_template_areas": null,
            "grid_template_columns": null,
            "grid_template_rows": null,
            "height": null,
            "justify_content": null,
            "justify_items": null,
            "left": null,
            "margin": null,
            "max_height": null,
            "max_width": null,
            "min_height": null,
            "min_width": null,
            "object_fit": null,
            "object_position": null,
            "order": null,
            "overflow": null,
            "overflow_x": null,
            "overflow_y": null,
            "padding": null,
            "right": null,
            "top": null,
            "visibility": null,
            "width": null
          }
        },
        "1cddc37efdc1466298258cc7aab95f72": {
          "model_module": "@jupyter-widgets/controls",
          "model_name": "ProgressStyleModel",
          "model_module_version": "1.5.0",
          "state": {
            "_model_module": "@jupyter-widgets/controls",
            "_model_module_version": "1.5.0",
            "_model_name": "ProgressStyleModel",
            "_view_count": null,
            "_view_module": "@jupyter-widgets/base",
            "_view_module_version": "1.2.0",
            "_view_name": "StyleView",
            "bar_color": null,
            "description_width": ""
          }
        },
        "5d0492e855954991956181f59826909d": {
          "model_module": "@jupyter-widgets/base",
          "model_name": "LayoutModel",
          "model_module_version": "1.2.0",
          "state": {
            "_model_module": "@jupyter-widgets/base",
            "_model_module_version": "1.2.0",
            "_model_name": "LayoutModel",
            "_view_count": null,
            "_view_module": "@jupyter-widgets/base",
            "_view_module_version": "1.2.0",
            "_view_name": "LayoutView",
            "align_content": null,
            "align_items": null,
            "align_self": null,
            "border": null,
            "bottom": null,
            "display": null,
            "flex": null,
            "flex_flow": null,
            "grid_area": null,
            "grid_auto_columns": null,
            "grid_auto_flow": null,
            "grid_auto_rows": null,
            "grid_column": null,
            "grid_gap": null,
            "grid_row": null,
            "grid_template_areas": null,
            "grid_template_columns": null,
            "grid_template_rows": null,
            "height": null,
            "justify_content": null,
            "justify_items": null,
            "left": null,
            "margin": null,
            "max_height": null,
            "max_width": null,
            "min_height": null,
            "min_width": null,
            "object_fit": null,
            "object_position": null,
            "order": null,
            "overflow": null,
            "overflow_x": null,
            "overflow_y": null,
            "padding": null,
            "right": null,
            "top": null,
            "visibility": null,
            "width": null
          }
        },
        "5c3924ad55534a7da1959041ada05acf": {
          "model_module": "@jupyter-widgets/controls",
          "model_name": "DescriptionStyleModel",
          "model_module_version": "1.5.0",
          "state": {
            "_model_module": "@jupyter-widgets/controls",
            "_model_module_version": "1.5.0",
            "_model_name": "DescriptionStyleModel",
            "_view_count": null,
            "_view_module": "@jupyter-widgets/base",
            "_view_module_version": "1.2.0",
            "_view_name": "StyleView",
            "description_width": ""
          }
        },
        "3152b41136a94f3183b8289d08715ffb": {
          "model_module": "@jupyter-widgets/controls",
          "model_name": "HBoxModel",
          "model_module_version": "1.5.0",
          "state": {
            "_dom_classes": [],
            "_model_module": "@jupyter-widgets/controls",
            "_model_module_version": "1.5.0",
            "_model_name": "HBoxModel",
            "_view_count": null,
            "_view_module": "@jupyter-widgets/controls",
            "_view_module_version": "1.5.0",
            "_view_name": "HBoxView",
            "box_style": "",
            "children": [
              "IPY_MODEL_0dd71a643a184a56ae07ced3923617dd",
              "IPY_MODEL_b1ff16f451954aadae7cc0483793f7b5",
              "IPY_MODEL_615674930e0c4cfab053b6e55e725e38"
            ],
            "layout": "IPY_MODEL_2a011bffff424fbaaedaf0aab1e61fcc"
          }
        },
        "0dd71a643a184a56ae07ced3923617dd": {
          "model_module": "@jupyter-widgets/controls",
          "model_name": "HTMLModel",
          "model_module_version": "1.5.0",
          "state": {
            "_dom_classes": [],
            "_model_module": "@jupyter-widgets/controls",
            "_model_module_version": "1.5.0",
            "_model_name": "HTMLModel",
            "_view_count": null,
            "_view_module": "@jupyter-widgets/controls",
            "_view_module_version": "1.5.0",
            "_view_name": "HTMLView",
            "description": "",
            "description_tooltip": null,
            "layout": "IPY_MODEL_d375a5e0a937455c809a78cff3ef632c",
            "placeholder": "​",
            "style": "IPY_MODEL_d310f73f0157422e8639e5d647afef75",
            "value": "Downloading (…)lve/main/config.json: 100%"
          }
        },
        "b1ff16f451954aadae7cc0483793f7b5": {
          "model_module": "@jupyter-widgets/controls",
          "model_name": "FloatProgressModel",
          "model_module_version": "1.5.0",
          "state": {
            "_dom_classes": [],
            "_model_module": "@jupyter-widgets/controls",
            "_model_module_version": "1.5.0",
            "_model_name": "FloatProgressModel",
            "_view_count": null,
            "_view_module": "@jupyter-widgets/controls",
            "_view_module_version": "1.5.0",
            "_view_name": "ProgressView",
            "bar_style": "success",
            "description": "",
            "description_tooltip": null,
            "layout": "IPY_MODEL_bb0750ddc31c46c4bb3c617d6952a37a",
            "max": 483,
            "min": 0,
            "orientation": "horizontal",
            "style": "IPY_MODEL_f8a9ef62a136478d8228cfaaf26d13bf",
            "value": 483
          }
        },
        "615674930e0c4cfab053b6e55e725e38": {
          "model_module": "@jupyter-widgets/controls",
          "model_name": "HTMLModel",
          "model_module_version": "1.5.0",
          "state": {
            "_dom_classes": [],
            "_model_module": "@jupyter-widgets/controls",
            "_model_module_version": "1.5.0",
            "_model_name": "HTMLModel",
            "_view_count": null,
            "_view_module": "@jupyter-widgets/controls",
            "_view_module_version": "1.5.0",
            "_view_name": "HTMLView",
            "description": "",
            "description_tooltip": null,
            "layout": "IPY_MODEL_3849fec1cb784897ab2dd98aba5df29d",
            "placeholder": "​",
            "style": "IPY_MODEL_062317d4b225416abcb9768fd1a136da",
            "value": " 483/483 [00:00&lt;00:00, 37.4kB/s]"
          }
        },
        "2a011bffff424fbaaedaf0aab1e61fcc": {
          "model_module": "@jupyter-widgets/base",
          "model_name": "LayoutModel",
          "model_module_version": "1.2.0",
          "state": {
            "_model_module": "@jupyter-widgets/base",
            "_model_module_version": "1.2.0",
            "_model_name": "LayoutModel",
            "_view_count": null,
            "_view_module": "@jupyter-widgets/base",
            "_view_module_version": "1.2.0",
            "_view_name": "LayoutView",
            "align_content": null,
            "align_items": null,
            "align_self": null,
            "border": null,
            "bottom": null,
            "display": null,
            "flex": null,
            "flex_flow": null,
            "grid_area": null,
            "grid_auto_columns": null,
            "grid_auto_flow": null,
            "grid_auto_rows": null,
            "grid_column": null,
            "grid_gap": null,
            "grid_row": null,
            "grid_template_areas": null,
            "grid_template_columns": null,
            "grid_template_rows": null,
            "height": null,
            "justify_content": null,
            "justify_items": null,
            "left": null,
            "margin": null,
            "max_height": null,
            "max_width": null,
            "min_height": null,
            "min_width": null,
            "object_fit": null,
            "object_position": null,
            "order": null,
            "overflow": null,
            "overflow_x": null,
            "overflow_y": null,
            "padding": null,
            "right": null,
            "top": null,
            "visibility": null,
            "width": null
          }
        },
        "d375a5e0a937455c809a78cff3ef632c": {
          "model_module": "@jupyter-widgets/base",
          "model_name": "LayoutModel",
          "model_module_version": "1.2.0",
          "state": {
            "_model_module": "@jupyter-widgets/base",
            "_model_module_version": "1.2.0",
            "_model_name": "LayoutModel",
            "_view_count": null,
            "_view_module": "@jupyter-widgets/base",
            "_view_module_version": "1.2.0",
            "_view_name": "LayoutView",
            "align_content": null,
            "align_items": null,
            "align_self": null,
            "border": null,
            "bottom": null,
            "display": null,
            "flex": null,
            "flex_flow": null,
            "grid_area": null,
            "grid_auto_columns": null,
            "grid_auto_flow": null,
            "grid_auto_rows": null,
            "grid_column": null,
            "grid_gap": null,
            "grid_row": null,
            "grid_template_areas": null,
            "grid_template_columns": null,
            "grid_template_rows": null,
            "height": null,
            "justify_content": null,
            "justify_items": null,
            "left": null,
            "margin": null,
            "max_height": null,
            "max_width": null,
            "min_height": null,
            "min_width": null,
            "object_fit": null,
            "object_position": null,
            "order": null,
            "overflow": null,
            "overflow_x": null,
            "overflow_y": null,
            "padding": null,
            "right": null,
            "top": null,
            "visibility": null,
            "width": null
          }
        },
        "d310f73f0157422e8639e5d647afef75": {
          "model_module": "@jupyter-widgets/controls",
          "model_name": "DescriptionStyleModel",
          "model_module_version": "1.5.0",
          "state": {
            "_model_module": "@jupyter-widgets/controls",
            "_model_module_version": "1.5.0",
            "_model_name": "DescriptionStyleModel",
            "_view_count": null,
            "_view_module": "@jupyter-widgets/base",
            "_view_module_version": "1.2.0",
            "_view_name": "StyleView",
            "description_width": ""
          }
        },
        "bb0750ddc31c46c4bb3c617d6952a37a": {
          "model_module": "@jupyter-widgets/base",
          "model_name": "LayoutModel",
          "model_module_version": "1.2.0",
          "state": {
            "_model_module": "@jupyter-widgets/base",
            "_model_module_version": "1.2.0",
            "_model_name": "LayoutModel",
            "_view_count": null,
            "_view_module": "@jupyter-widgets/base",
            "_view_module_version": "1.2.0",
            "_view_name": "LayoutView",
            "align_content": null,
            "align_items": null,
            "align_self": null,
            "border": null,
            "bottom": null,
            "display": null,
            "flex": null,
            "flex_flow": null,
            "grid_area": null,
            "grid_auto_columns": null,
            "grid_auto_flow": null,
            "grid_auto_rows": null,
            "grid_column": null,
            "grid_gap": null,
            "grid_row": null,
            "grid_template_areas": null,
            "grid_template_columns": null,
            "grid_template_rows": null,
            "height": null,
            "justify_content": null,
            "justify_items": null,
            "left": null,
            "margin": null,
            "max_height": null,
            "max_width": null,
            "min_height": null,
            "min_width": null,
            "object_fit": null,
            "object_position": null,
            "order": null,
            "overflow": null,
            "overflow_x": null,
            "overflow_y": null,
            "padding": null,
            "right": null,
            "top": null,
            "visibility": null,
            "width": null
          }
        },
        "f8a9ef62a136478d8228cfaaf26d13bf": {
          "model_module": "@jupyter-widgets/controls",
          "model_name": "ProgressStyleModel",
          "model_module_version": "1.5.0",
          "state": {
            "_model_module": "@jupyter-widgets/controls",
            "_model_module_version": "1.5.0",
            "_model_name": "ProgressStyleModel",
            "_view_count": null,
            "_view_module": "@jupyter-widgets/base",
            "_view_module_version": "1.2.0",
            "_view_name": "StyleView",
            "bar_color": null,
            "description_width": ""
          }
        },
        "3849fec1cb784897ab2dd98aba5df29d": {
          "model_module": "@jupyter-widgets/base",
          "model_name": "LayoutModel",
          "model_module_version": "1.2.0",
          "state": {
            "_model_module": "@jupyter-widgets/base",
            "_model_module_version": "1.2.0",
            "_model_name": "LayoutModel",
            "_view_count": null,
            "_view_module": "@jupyter-widgets/base",
            "_view_module_version": "1.2.0",
            "_view_name": "LayoutView",
            "align_content": null,
            "align_items": null,
            "align_self": null,
            "border": null,
            "bottom": null,
            "display": null,
            "flex": null,
            "flex_flow": null,
            "grid_area": null,
            "grid_auto_columns": null,
            "grid_auto_flow": null,
            "grid_auto_rows": null,
            "grid_column": null,
            "grid_gap": null,
            "grid_row": null,
            "grid_template_areas": null,
            "grid_template_columns": null,
            "grid_template_rows": null,
            "height": null,
            "justify_content": null,
            "justify_items": null,
            "left": null,
            "margin": null,
            "max_height": null,
            "max_width": null,
            "min_height": null,
            "min_width": null,
            "object_fit": null,
            "object_position": null,
            "order": null,
            "overflow": null,
            "overflow_x": null,
            "overflow_y": null,
            "padding": null,
            "right": null,
            "top": null,
            "visibility": null,
            "width": null
          }
        },
        "062317d4b225416abcb9768fd1a136da": {
          "model_module": "@jupyter-widgets/controls",
          "model_name": "DescriptionStyleModel",
          "model_module_version": "1.5.0",
          "state": {
            "_model_module": "@jupyter-widgets/controls",
            "_model_module_version": "1.5.0",
            "_model_name": "DescriptionStyleModel",
            "_view_count": null,
            "_view_module": "@jupyter-widgets/base",
            "_view_module_version": "1.2.0",
            "_view_name": "StyleView",
            "description_width": ""
          }
        },
        "8e0b81ee1cf64bc396abcbcc221aad5d": {
          "model_module": "@jupyter-widgets/controls",
          "model_name": "HBoxModel",
          "model_module_version": "1.5.0",
          "state": {
            "_dom_classes": [],
            "_model_module": "@jupyter-widgets/controls",
            "_model_module_version": "1.5.0",
            "_model_name": "HBoxModel",
            "_view_count": null,
            "_view_module": "@jupyter-widgets/controls",
            "_view_module_version": "1.5.0",
            "_view_name": "HBoxView",
            "box_style": "",
            "children": [
              "IPY_MODEL_d1828f8bdf6142c4b9a1b692afebb79f",
              "IPY_MODEL_0d2176cb003f4f5f8cca6c85589d2a1e",
              "IPY_MODEL_57507825dbc0420eaa3f44ad410d9436"
            ],
            "layout": "IPY_MODEL_8d1012954b3142eb8c254e7dc3f663fe"
          }
        },
        "d1828f8bdf6142c4b9a1b692afebb79f": {
          "model_module": "@jupyter-widgets/controls",
          "model_name": "HTMLModel",
          "model_module_version": "1.5.0",
          "state": {
            "_dom_classes": [],
            "_model_module": "@jupyter-widgets/controls",
            "_model_module_version": "1.5.0",
            "_model_name": "HTMLModel",
            "_view_count": null,
            "_view_module": "@jupyter-widgets/controls",
            "_view_module_version": "1.5.0",
            "_view_name": "HTMLView",
            "description": "",
            "description_tooltip": null,
            "layout": "IPY_MODEL_c40b04cd8a0b490d9e5d61ba4f1d68f0",
            "placeholder": "​",
            "style": "IPY_MODEL_19245f91382445138615bff8ccc7ee2e",
            "value": "Downloading (…)solve/main/vocab.txt: 100%"
          }
        },
        "0d2176cb003f4f5f8cca6c85589d2a1e": {
          "model_module": "@jupyter-widgets/controls",
          "model_name": "FloatProgressModel",
          "model_module_version": "1.5.0",
          "state": {
            "_dom_classes": [],
            "_model_module": "@jupyter-widgets/controls",
            "_model_module_version": "1.5.0",
            "_model_name": "FloatProgressModel",
            "_view_count": null,
            "_view_module": "@jupyter-widgets/controls",
            "_view_module_version": "1.5.0",
            "_view_name": "ProgressView",
            "bar_style": "success",
            "description": "",
            "description_tooltip": null,
            "layout": "IPY_MODEL_26aca5bffdc44ecda1b0b669f067ece5",
            "max": 231508,
            "min": 0,
            "orientation": "horizontal",
            "style": "IPY_MODEL_dd28c3ba0ad946ed9380db9eb8d2b583",
            "value": 231508
          }
        },
        "57507825dbc0420eaa3f44ad410d9436": {
          "model_module": "@jupyter-widgets/controls",
          "model_name": "HTMLModel",
          "model_module_version": "1.5.0",
          "state": {
            "_dom_classes": [],
            "_model_module": "@jupyter-widgets/controls",
            "_model_module_version": "1.5.0",
            "_model_name": "HTMLModel",
            "_view_count": null,
            "_view_module": "@jupyter-widgets/controls",
            "_view_module_version": "1.5.0",
            "_view_name": "HTMLView",
            "description": "",
            "description_tooltip": null,
            "layout": "IPY_MODEL_5cceb48be179463c8f4a6c7baa6d938b",
            "placeholder": "​",
            "style": "IPY_MODEL_139e3b2dc19d45ebabfff82ab7cc4c8c",
            "value": " 232k/232k [00:00&lt;00:00, 8.28MB/s]"
          }
        },
        "8d1012954b3142eb8c254e7dc3f663fe": {
          "model_module": "@jupyter-widgets/base",
          "model_name": "LayoutModel",
          "model_module_version": "1.2.0",
          "state": {
            "_model_module": "@jupyter-widgets/base",
            "_model_module_version": "1.2.0",
            "_model_name": "LayoutModel",
            "_view_count": null,
            "_view_module": "@jupyter-widgets/base",
            "_view_module_version": "1.2.0",
            "_view_name": "LayoutView",
            "align_content": null,
            "align_items": null,
            "align_self": null,
            "border": null,
            "bottom": null,
            "display": null,
            "flex": null,
            "flex_flow": null,
            "grid_area": null,
            "grid_auto_columns": null,
            "grid_auto_flow": null,
            "grid_auto_rows": null,
            "grid_column": null,
            "grid_gap": null,
            "grid_row": null,
            "grid_template_areas": null,
            "grid_template_columns": null,
            "grid_template_rows": null,
            "height": null,
            "justify_content": null,
            "justify_items": null,
            "left": null,
            "margin": null,
            "max_height": null,
            "max_width": null,
            "min_height": null,
            "min_width": null,
            "object_fit": null,
            "object_position": null,
            "order": null,
            "overflow": null,
            "overflow_x": null,
            "overflow_y": null,
            "padding": null,
            "right": null,
            "top": null,
            "visibility": null,
            "width": null
          }
        },
        "c40b04cd8a0b490d9e5d61ba4f1d68f0": {
          "model_module": "@jupyter-widgets/base",
          "model_name": "LayoutModel",
          "model_module_version": "1.2.0",
          "state": {
            "_model_module": "@jupyter-widgets/base",
            "_model_module_version": "1.2.0",
            "_model_name": "LayoutModel",
            "_view_count": null,
            "_view_module": "@jupyter-widgets/base",
            "_view_module_version": "1.2.0",
            "_view_name": "LayoutView",
            "align_content": null,
            "align_items": null,
            "align_self": null,
            "border": null,
            "bottom": null,
            "display": null,
            "flex": null,
            "flex_flow": null,
            "grid_area": null,
            "grid_auto_columns": null,
            "grid_auto_flow": null,
            "grid_auto_rows": null,
            "grid_column": null,
            "grid_gap": null,
            "grid_row": null,
            "grid_template_areas": null,
            "grid_template_columns": null,
            "grid_template_rows": null,
            "height": null,
            "justify_content": null,
            "justify_items": null,
            "left": null,
            "margin": null,
            "max_height": null,
            "max_width": null,
            "min_height": null,
            "min_width": null,
            "object_fit": null,
            "object_position": null,
            "order": null,
            "overflow": null,
            "overflow_x": null,
            "overflow_y": null,
            "padding": null,
            "right": null,
            "top": null,
            "visibility": null,
            "width": null
          }
        },
        "19245f91382445138615bff8ccc7ee2e": {
          "model_module": "@jupyter-widgets/controls",
          "model_name": "DescriptionStyleModel",
          "model_module_version": "1.5.0",
          "state": {
            "_model_module": "@jupyter-widgets/controls",
            "_model_module_version": "1.5.0",
            "_model_name": "DescriptionStyleModel",
            "_view_count": null,
            "_view_module": "@jupyter-widgets/base",
            "_view_module_version": "1.2.0",
            "_view_name": "StyleView",
            "description_width": ""
          }
        },
        "26aca5bffdc44ecda1b0b669f067ece5": {
          "model_module": "@jupyter-widgets/base",
          "model_name": "LayoutModel",
          "model_module_version": "1.2.0",
          "state": {
            "_model_module": "@jupyter-widgets/base",
            "_model_module_version": "1.2.0",
            "_model_name": "LayoutModel",
            "_view_count": null,
            "_view_module": "@jupyter-widgets/base",
            "_view_module_version": "1.2.0",
            "_view_name": "LayoutView",
            "align_content": null,
            "align_items": null,
            "align_self": null,
            "border": null,
            "bottom": null,
            "display": null,
            "flex": null,
            "flex_flow": null,
            "grid_area": null,
            "grid_auto_columns": null,
            "grid_auto_flow": null,
            "grid_auto_rows": null,
            "grid_column": null,
            "grid_gap": null,
            "grid_row": null,
            "grid_template_areas": null,
            "grid_template_columns": null,
            "grid_template_rows": null,
            "height": null,
            "justify_content": null,
            "justify_items": null,
            "left": null,
            "margin": null,
            "max_height": null,
            "max_width": null,
            "min_height": null,
            "min_width": null,
            "object_fit": null,
            "object_position": null,
            "order": null,
            "overflow": null,
            "overflow_x": null,
            "overflow_y": null,
            "padding": null,
            "right": null,
            "top": null,
            "visibility": null,
            "width": null
          }
        },
        "dd28c3ba0ad946ed9380db9eb8d2b583": {
          "model_module": "@jupyter-widgets/controls",
          "model_name": "ProgressStyleModel",
          "model_module_version": "1.5.0",
          "state": {
            "_model_module": "@jupyter-widgets/controls",
            "_model_module_version": "1.5.0",
            "_model_name": "ProgressStyleModel",
            "_view_count": null,
            "_view_module": "@jupyter-widgets/base",
            "_view_module_version": "1.2.0",
            "_view_name": "StyleView",
            "bar_color": null,
            "description_width": ""
          }
        },
        "5cceb48be179463c8f4a6c7baa6d938b": {
          "model_module": "@jupyter-widgets/base",
          "model_name": "LayoutModel",
          "model_module_version": "1.2.0",
          "state": {
            "_model_module": "@jupyter-widgets/base",
            "_model_module_version": "1.2.0",
            "_model_name": "LayoutModel",
            "_view_count": null,
            "_view_module": "@jupyter-widgets/base",
            "_view_module_version": "1.2.0",
            "_view_name": "LayoutView",
            "align_content": null,
            "align_items": null,
            "align_self": null,
            "border": null,
            "bottom": null,
            "display": null,
            "flex": null,
            "flex_flow": null,
            "grid_area": null,
            "grid_auto_columns": null,
            "grid_auto_flow": null,
            "grid_auto_rows": null,
            "grid_column": null,
            "grid_gap": null,
            "grid_row": null,
            "grid_template_areas": null,
            "grid_template_columns": null,
            "grid_template_rows": null,
            "height": null,
            "justify_content": null,
            "justify_items": null,
            "left": null,
            "margin": null,
            "max_height": null,
            "max_width": null,
            "min_height": null,
            "min_width": null,
            "object_fit": null,
            "object_position": null,
            "order": null,
            "overflow": null,
            "overflow_x": null,
            "overflow_y": null,
            "padding": null,
            "right": null,
            "top": null,
            "visibility": null,
            "width": null
          }
        },
        "139e3b2dc19d45ebabfff82ab7cc4c8c": {
          "model_module": "@jupyter-widgets/controls",
          "model_name": "DescriptionStyleModel",
          "model_module_version": "1.5.0",
          "state": {
            "_model_module": "@jupyter-widgets/controls",
            "_model_module_version": "1.5.0",
            "_model_name": "DescriptionStyleModel",
            "_view_count": null,
            "_view_module": "@jupyter-widgets/base",
            "_view_module_version": "1.2.0",
            "_view_name": "StyleView",
            "description_width": ""
          }
        },
        "5330876eeafc426faa633311709a5ab0": {
          "model_module": "@jupyter-widgets/controls",
          "model_name": "HBoxModel",
          "model_module_version": "1.5.0",
          "state": {
            "_dom_classes": [],
            "_model_module": "@jupyter-widgets/controls",
            "_model_module_version": "1.5.0",
            "_model_name": "HBoxModel",
            "_view_count": null,
            "_view_module": "@jupyter-widgets/controls",
            "_view_module_version": "1.5.0",
            "_view_name": "HBoxView",
            "box_style": "",
            "children": [
              "IPY_MODEL_7160c6d7c97d4a15b9b61f1bc0020fec",
              "IPY_MODEL_3a67f565dd3e49bb9e574a8ca328b78e",
              "IPY_MODEL_8128531bfb6d4dd5817a12c2c2aaab46"
            ],
            "layout": "IPY_MODEL_393510e1147a4c8693ceb7bc602ebf6a"
          }
        },
        "7160c6d7c97d4a15b9b61f1bc0020fec": {
          "model_module": "@jupyter-widgets/controls",
          "model_name": "HTMLModel",
          "model_module_version": "1.5.0",
          "state": {
            "_dom_classes": [],
            "_model_module": "@jupyter-widgets/controls",
            "_model_module_version": "1.5.0",
            "_model_name": "HTMLModel",
            "_view_count": null,
            "_view_module": "@jupyter-widgets/controls",
            "_view_module_version": "1.5.0",
            "_view_name": "HTMLView",
            "description": "",
            "description_tooltip": null,
            "layout": "IPY_MODEL_4c8e10f881454cd987ed1d20c7bb5af8",
            "placeholder": "​",
            "style": "IPY_MODEL_eedf4a8ebc5940758c75f24d95226619",
            "value": "Downloading (…)/main/tokenizer.json: 100%"
          }
        },
        "3a67f565dd3e49bb9e574a8ca328b78e": {
          "model_module": "@jupyter-widgets/controls",
          "model_name": "FloatProgressModel",
          "model_module_version": "1.5.0",
          "state": {
            "_dom_classes": [],
            "_model_module": "@jupyter-widgets/controls",
            "_model_module_version": "1.5.0",
            "_model_name": "FloatProgressModel",
            "_view_count": null,
            "_view_module": "@jupyter-widgets/controls",
            "_view_module_version": "1.5.0",
            "_view_name": "ProgressView",
            "bar_style": "success",
            "description": "",
            "description_tooltip": null,
            "layout": "IPY_MODEL_37515f6794ab498289ae98e3ea98cdb2",
            "max": 466062,
            "min": 0,
            "orientation": "horizontal",
            "style": "IPY_MODEL_75d678757dea47f1b1a43e0b81a977ed",
            "value": 466062
          }
        },
        "8128531bfb6d4dd5817a12c2c2aaab46": {
          "model_module": "@jupyter-widgets/controls",
          "model_name": "HTMLModel",
          "model_module_version": "1.5.0",
          "state": {
            "_dom_classes": [],
            "_model_module": "@jupyter-widgets/controls",
            "_model_module_version": "1.5.0",
            "_model_name": "HTMLModel",
            "_view_count": null,
            "_view_module": "@jupyter-widgets/controls",
            "_view_module_version": "1.5.0",
            "_view_name": "HTMLView",
            "description": "",
            "description_tooltip": null,
            "layout": "IPY_MODEL_398b0a5247fc4c1aaf6a21e843834212",
            "placeholder": "​",
            "style": "IPY_MODEL_2c10249a4ccd4b85ad74b07e3db822ba",
            "value": " 466k/466k [00:00&lt;00:00, 2.85MB/s]"
          }
        },
        "393510e1147a4c8693ceb7bc602ebf6a": {
          "model_module": "@jupyter-widgets/base",
          "model_name": "LayoutModel",
          "model_module_version": "1.2.0",
          "state": {
            "_model_module": "@jupyter-widgets/base",
            "_model_module_version": "1.2.0",
            "_model_name": "LayoutModel",
            "_view_count": null,
            "_view_module": "@jupyter-widgets/base",
            "_view_module_version": "1.2.0",
            "_view_name": "LayoutView",
            "align_content": null,
            "align_items": null,
            "align_self": null,
            "border": null,
            "bottom": null,
            "display": null,
            "flex": null,
            "flex_flow": null,
            "grid_area": null,
            "grid_auto_columns": null,
            "grid_auto_flow": null,
            "grid_auto_rows": null,
            "grid_column": null,
            "grid_gap": null,
            "grid_row": null,
            "grid_template_areas": null,
            "grid_template_columns": null,
            "grid_template_rows": null,
            "height": null,
            "justify_content": null,
            "justify_items": null,
            "left": null,
            "margin": null,
            "max_height": null,
            "max_width": null,
            "min_height": null,
            "min_width": null,
            "object_fit": null,
            "object_position": null,
            "order": null,
            "overflow": null,
            "overflow_x": null,
            "overflow_y": null,
            "padding": null,
            "right": null,
            "top": null,
            "visibility": null,
            "width": null
          }
        },
        "4c8e10f881454cd987ed1d20c7bb5af8": {
          "model_module": "@jupyter-widgets/base",
          "model_name": "LayoutModel",
          "model_module_version": "1.2.0",
          "state": {
            "_model_module": "@jupyter-widgets/base",
            "_model_module_version": "1.2.0",
            "_model_name": "LayoutModel",
            "_view_count": null,
            "_view_module": "@jupyter-widgets/base",
            "_view_module_version": "1.2.0",
            "_view_name": "LayoutView",
            "align_content": null,
            "align_items": null,
            "align_self": null,
            "border": null,
            "bottom": null,
            "display": null,
            "flex": null,
            "flex_flow": null,
            "grid_area": null,
            "grid_auto_columns": null,
            "grid_auto_flow": null,
            "grid_auto_rows": null,
            "grid_column": null,
            "grid_gap": null,
            "grid_row": null,
            "grid_template_areas": null,
            "grid_template_columns": null,
            "grid_template_rows": null,
            "height": null,
            "justify_content": null,
            "justify_items": null,
            "left": null,
            "margin": null,
            "max_height": null,
            "max_width": null,
            "min_height": null,
            "min_width": null,
            "object_fit": null,
            "object_position": null,
            "order": null,
            "overflow": null,
            "overflow_x": null,
            "overflow_y": null,
            "padding": null,
            "right": null,
            "top": null,
            "visibility": null,
            "width": null
          }
        },
        "eedf4a8ebc5940758c75f24d95226619": {
          "model_module": "@jupyter-widgets/controls",
          "model_name": "DescriptionStyleModel",
          "model_module_version": "1.5.0",
          "state": {
            "_model_module": "@jupyter-widgets/controls",
            "_model_module_version": "1.5.0",
            "_model_name": "DescriptionStyleModel",
            "_view_count": null,
            "_view_module": "@jupyter-widgets/base",
            "_view_module_version": "1.2.0",
            "_view_name": "StyleView",
            "description_width": ""
          }
        },
        "37515f6794ab498289ae98e3ea98cdb2": {
          "model_module": "@jupyter-widgets/base",
          "model_name": "LayoutModel",
          "model_module_version": "1.2.0",
          "state": {
            "_model_module": "@jupyter-widgets/base",
            "_model_module_version": "1.2.0",
            "_model_name": "LayoutModel",
            "_view_count": null,
            "_view_module": "@jupyter-widgets/base",
            "_view_module_version": "1.2.0",
            "_view_name": "LayoutView",
            "align_content": null,
            "align_items": null,
            "align_self": null,
            "border": null,
            "bottom": null,
            "display": null,
            "flex": null,
            "flex_flow": null,
            "grid_area": null,
            "grid_auto_columns": null,
            "grid_auto_flow": null,
            "grid_auto_rows": null,
            "grid_column": null,
            "grid_gap": null,
            "grid_row": null,
            "grid_template_areas": null,
            "grid_template_columns": null,
            "grid_template_rows": null,
            "height": null,
            "justify_content": null,
            "justify_items": null,
            "left": null,
            "margin": null,
            "max_height": null,
            "max_width": null,
            "min_height": null,
            "min_width": null,
            "object_fit": null,
            "object_position": null,
            "order": null,
            "overflow": null,
            "overflow_x": null,
            "overflow_y": null,
            "padding": null,
            "right": null,
            "top": null,
            "visibility": null,
            "width": null
          }
        },
        "75d678757dea47f1b1a43e0b81a977ed": {
          "model_module": "@jupyter-widgets/controls",
          "model_name": "ProgressStyleModel",
          "model_module_version": "1.5.0",
          "state": {
            "_model_module": "@jupyter-widgets/controls",
            "_model_module_version": "1.5.0",
            "_model_name": "ProgressStyleModel",
            "_view_count": null,
            "_view_module": "@jupyter-widgets/base",
            "_view_module_version": "1.2.0",
            "_view_name": "StyleView",
            "bar_color": null,
            "description_width": ""
          }
        },
        "398b0a5247fc4c1aaf6a21e843834212": {
          "model_module": "@jupyter-widgets/base",
          "model_name": "LayoutModel",
          "model_module_version": "1.2.0",
          "state": {
            "_model_module": "@jupyter-widgets/base",
            "_model_module_version": "1.2.0",
            "_model_name": "LayoutModel",
            "_view_count": null,
            "_view_module": "@jupyter-widgets/base",
            "_view_module_version": "1.2.0",
            "_view_name": "LayoutView",
            "align_content": null,
            "align_items": null,
            "align_self": null,
            "border": null,
            "bottom": null,
            "display": null,
            "flex": null,
            "flex_flow": null,
            "grid_area": null,
            "grid_auto_columns": null,
            "grid_auto_flow": null,
            "grid_auto_rows": null,
            "grid_column": null,
            "grid_gap": null,
            "grid_row": null,
            "grid_template_areas": null,
            "grid_template_columns": null,
            "grid_template_rows": null,
            "height": null,
            "justify_content": null,
            "justify_items": null,
            "left": null,
            "margin": null,
            "max_height": null,
            "max_width": null,
            "min_height": null,
            "min_width": null,
            "object_fit": null,
            "object_position": null,
            "order": null,
            "overflow": null,
            "overflow_x": null,
            "overflow_y": null,
            "padding": null,
            "right": null,
            "top": null,
            "visibility": null,
            "width": null
          }
        },
        "2c10249a4ccd4b85ad74b07e3db822ba": {
          "model_module": "@jupyter-widgets/controls",
          "model_name": "DescriptionStyleModel",
          "model_module_version": "1.5.0",
          "state": {
            "_model_module": "@jupyter-widgets/controls",
            "_model_module_version": "1.5.0",
            "_model_name": "DescriptionStyleModel",
            "_view_count": null,
            "_view_module": "@jupyter-widgets/base",
            "_view_module_version": "1.2.0",
            "_view_name": "StyleView",
            "description_width": ""
          }
        },
        "b542645c17774832a53d38e64e809428": {
          "model_module": "@jupyter-widgets/controls",
          "model_name": "HBoxModel",
          "model_module_version": "1.5.0",
          "state": {
            "_dom_classes": [],
            "_model_module": "@jupyter-widgets/controls",
            "_model_module_version": "1.5.0",
            "_model_name": "HBoxModel",
            "_view_count": null,
            "_view_module": "@jupyter-widgets/controls",
            "_view_module_version": "1.5.0",
            "_view_name": "HBoxView",
            "box_style": "",
            "children": [
              "IPY_MODEL_801c0220375241d59813318cf3e50d2b",
              "IPY_MODEL_6f3de048d0764a20b64ae232f853c1df",
              "IPY_MODEL_02d54eb8710c468999a81cb58ac968e7"
            ],
            "layout": "IPY_MODEL_1125f30cac8e4763a3e7b7bfc8fff5a8"
          }
        },
        "801c0220375241d59813318cf3e50d2b": {
          "model_module": "@jupyter-widgets/controls",
          "model_name": "HTMLModel",
          "model_module_version": "1.5.0",
          "state": {
            "_dom_classes": [],
            "_model_module": "@jupyter-widgets/controls",
            "_model_module_version": "1.5.0",
            "_model_name": "HTMLModel",
            "_view_count": null,
            "_view_module": "@jupyter-widgets/controls",
            "_view_module_version": "1.5.0",
            "_view_name": "HTMLView",
            "description": "",
            "description_tooltip": null,
            "layout": "IPY_MODEL_d31dd0282ff94d0bbd4ef1402d57188b",
            "placeholder": "​",
            "style": "IPY_MODEL_373de9900c1842a6b8320ff5ac7e29db",
            "value": "100%"
          }
        },
        "6f3de048d0764a20b64ae232f853c1df": {
          "model_module": "@jupyter-widgets/controls",
          "model_name": "FloatProgressModel",
          "model_module_version": "1.5.0",
          "state": {
            "_dom_classes": [],
            "_model_module": "@jupyter-widgets/controls",
            "_model_module_version": "1.5.0",
            "_model_name": "FloatProgressModel",
            "_view_count": null,
            "_view_module": "@jupyter-widgets/controls",
            "_view_module_version": "1.5.0",
            "_view_name": "ProgressView",
            "bar_style": "success",
            "description": "",
            "description_tooltip": null,
            "layout": "IPY_MODEL_0b9a53c05e7445439225b8ebfb9b5b01",
            "max": 500,
            "min": 0,
            "orientation": "horizontal",
            "style": "IPY_MODEL_1a16981cb7864a60b6fdfdc147dc3af3",
            "value": 500
          }
        },
        "02d54eb8710c468999a81cb58ac968e7": {
          "model_module": "@jupyter-widgets/controls",
          "model_name": "HTMLModel",
          "model_module_version": "1.5.0",
          "state": {
            "_dom_classes": [],
            "_model_module": "@jupyter-widgets/controls",
            "_model_module_version": "1.5.0",
            "_model_name": "HTMLModel",
            "_view_count": null,
            "_view_module": "@jupyter-widgets/controls",
            "_view_module_version": "1.5.0",
            "_view_name": "HTMLView",
            "description": "",
            "description_tooltip": null,
            "layout": "IPY_MODEL_ae7a8a52735049e0afe3d00c4495d677",
            "placeholder": "​",
            "style": "IPY_MODEL_65cde305698b4351bcb6c6b377797708",
            "value": " 500/500 [1:39:52&lt;00:00, 12.53s/it]"
          }
        },
        "1125f30cac8e4763a3e7b7bfc8fff5a8": {
          "model_module": "@jupyter-widgets/base",
          "model_name": "LayoutModel",
          "model_module_version": "1.2.0",
          "state": {
            "_model_module": "@jupyter-widgets/base",
            "_model_module_version": "1.2.0",
            "_model_name": "LayoutModel",
            "_view_count": null,
            "_view_module": "@jupyter-widgets/base",
            "_view_module_version": "1.2.0",
            "_view_name": "LayoutView",
            "align_content": null,
            "align_items": null,
            "align_self": null,
            "border": null,
            "bottom": null,
            "display": null,
            "flex": null,
            "flex_flow": null,
            "grid_area": null,
            "grid_auto_columns": null,
            "grid_auto_flow": null,
            "grid_auto_rows": null,
            "grid_column": null,
            "grid_gap": null,
            "grid_row": null,
            "grid_template_areas": null,
            "grid_template_columns": null,
            "grid_template_rows": null,
            "height": null,
            "justify_content": null,
            "justify_items": null,
            "left": null,
            "margin": null,
            "max_height": null,
            "max_width": null,
            "min_height": null,
            "min_width": null,
            "object_fit": null,
            "object_position": null,
            "order": null,
            "overflow": null,
            "overflow_x": null,
            "overflow_y": null,
            "padding": null,
            "right": null,
            "top": null,
            "visibility": null,
            "width": null
          }
        },
        "d31dd0282ff94d0bbd4ef1402d57188b": {
          "model_module": "@jupyter-widgets/base",
          "model_name": "LayoutModel",
          "model_module_version": "1.2.0",
          "state": {
            "_model_module": "@jupyter-widgets/base",
            "_model_module_version": "1.2.0",
            "_model_name": "LayoutModel",
            "_view_count": null,
            "_view_module": "@jupyter-widgets/base",
            "_view_module_version": "1.2.0",
            "_view_name": "LayoutView",
            "align_content": null,
            "align_items": null,
            "align_self": null,
            "border": null,
            "bottom": null,
            "display": null,
            "flex": null,
            "flex_flow": null,
            "grid_area": null,
            "grid_auto_columns": null,
            "grid_auto_flow": null,
            "grid_auto_rows": null,
            "grid_column": null,
            "grid_gap": null,
            "grid_row": null,
            "grid_template_areas": null,
            "grid_template_columns": null,
            "grid_template_rows": null,
            "height": null,
            "justify_content": null,
            "justify_items": null,
            "left": null,
            "margin": null,
            "max_height": null,
            "max_width": null,
            "min_height": null,
            "min_width": null,
            "object_fit": null,
            "object_position": null,
            "order": null,
            "overflow": null,
            "overflow_x": null,
            "overflow_y": null,
            "padding": null,
            "right": null,
            "top": null,
            "visibility": null,
            "width": null
          }
        },
        "373de9900c1842a6b8320ff5ac7e29db": {
          "model_module": "@jupyter-widgets/controls",
          "model_name": "DescriptionStyleModel",
          "model_module_version": "1.5.0",
          "state": {
            "_model_module": "@jupyter-widgets/controls",
            "_model_module_version": "1.5.0",
            "_model_name": "DescriptionStyleModel",
            "_view_count": null,
            "_view_module": "@jupyter-widgets/base",
            "_view_module_version": "1.2.0",
            "_view_name": "StyleView",
            "description_width": ""
          }
        },
        "0b9a53c05e7445439225b8ebfb9b5b01": {
          "model_module": "@jupyter-widgets/base",
          "model_name": "LayoutModel",
          "model_module_version": "1.2.0",
          "state": {
            "_model_module": "@jupyter-widgets/base",
            "_model_module_version": "1.2.0",
            "_model_name": "LayoutModel",
            "_view_count": null,
            "_view_module": "@jupyter-widgets/base",
            "_view_module_version": "1.2.0",
            "_view_name": "LayoutView",
            "align_content": null,
            "align_items": null,
            "align_self": null,
            "border": null,
            "bottom": null,
            "display": null,
            "flex": null,
            "flex_flow": null,
            "grid_area": null,
            "grid_auto_columns": null,
            "grid_auto_flow": null,
            "grid_auto_rows": null,
            "grid_column": null,
            "grid_gap": null,
            "grid_row": null,
            "grid_template_areas": null,
            "grid_template_columns": null,
            "grid_template_rows": null,
            "height": null,
            "justify_content": null,
            "justify_items": null,
            "left": null,
            "margin": null,
            "max_height": null,
            "max_width": null,
            "min_height": null,
            "min_width": null,
            "object_fit": null,
            "object_position": null,
            "order": null,
            "overflow": null,
            "overflow_x": null,
            "overflow_y": null,
            "padding": null,
            "right": null,
            "top": null,
            "visibility": null,
            "width": null
          }
        },
        "1a16981cb7864a60b6fdfdc147dc3af3": {
          "model_module": "@jupyter-widgets/controls",
          "model_name": "ProgressStyleModel",
          "model_module_version": "1.5.0",
          "state": {
            "_model_module": "@jupyter-widgets/controls",
            "_model_module_version": "1.5.0",
            "_model_name": "ProgressStyleModel",
            "_view_count": null,
            "_view_module": "@jupyter-widgets/base",
            "_view_module_version": "1.2.0",
            "_view_name": "StyleView",
            "bar_color": null,
            "description_width": ""
          }
        },
        "ae7a8a52735049e0afe3d00c4495d677": {
          "model_module": "@jupyter-widgets/base",
          "model_name": "LayoutModel",
          "model_module_version": "1.2.0",
          "state": {
            "_model_module": "@jupyter-widgets/base",
            "_model_module_version": "1.2.0",
            "_model_name": "LayoutModel",
            "_view_count": null,
            "_view_module": "@jupyter-widgets/base",
            "_view_module_version": "1.2.0",
            "_view_name": "LayoutView",
            "align_content": null,
            "align_items": null,
            "align_self": null,
            "border": null,
            "bottom": null,
            "display": null,
            "flex": null,
            "flex_flow": null,
            "grid_area": null,
            "grid_auto_columns": null,
            "grid_auto_flow": null,
            "grid_auto_rows": null,
            "grid_column": null,
            "grid_gap": null,
            "grid_row": null,
            "grid_template_areas": null,
            "grid_template_columns": null,
            "grid_template_rows": null,
            "height": null,
            "justify_content": null,
            "justify_items": null,
            "left": null,
            "margin": null,
            "max_height": null,
            "max_width": null,
            "min_height": null,
            "min_width": null,
            "object_fit": null,
            "object_position": null,
            "order": null,
            "overflow": null,
            "overflow_x": null,
            "overflow_y": null,
            "padding": null,
            "right": null,
            "top": null,
            "visibility": null,
            "width": null
          }
        },
        "65cde305698b4351bcb6c6b377797708": {
          "model_module": "@jupyter-widgets/controls",
          "model_name": "DescriptionStyleModel",
          "model_module_version": "1.5.0",
          "state": {
            "_model_module": "@jupyter-widgets/controls",
            "_model_module_version": "1.5.0",
            "_model_name": "DescriptionStyleModel",
            "_view_count": null,
            "_view_module": "@jupyter-widgets/base",
            "_view_module_version": "1.2.0",
            "_view_name": "StyleView",
            "description_width": ""
          }
        }
      }
    },
    "accelerator": "GPU"
  },
  "cells": [
    {
      "cell_type": "code",
      "source": [
        "from google.colab import drive\n",
        "drive.mount('/content/drive')"
      ],
      "metadata": {
        "id": "IEOKc4aWqgEX",
        "colab": {
          "base_uri": "https://localhost:8080/"
        },
        "outputId": "e3c9e2c4-ee1b-42dc-9ab9-c34860dde29b"
      },
      "execution_count": null,
      "outputs": [
        {
          "output_type": "stream",
          "name": "stdout",
          "text": [
            "Mounted at /content/drive\n"
          ]
        }
      ]
    },
    {
      "cell_type": "code",
      "source": [
        "!curl -L 'https://drive.google.com/uc?export=download&id=1uUETGOKiSrbdUzjjk758avUQeovdjwIc&confirm=t' > DeLT_distilbert-classification.zip\n",
        "!unzip DeLT_distilbert-classification.zip -d DeLT_distilbert-classification"
      ],
      "metadata": {
        "colab": {
          "base_uri": "https://localhost:8080/"
        },
        "id": "NzG3IgdsOdZp",
        "outputId": "d0848fac-8498-4dad-ce75-b33ee9d0c89b"
      },
      "execution_count": null,
      "outputs": [
        {
          "output_type": "stream",
          "name": "stdout",
          "text": [
            "  % Total    % Received % Xferd  Average Speed   Time    Time     Time  Current\n",
            "                                 Dload  Upload   Total   Spent    Left  Speed\n",
            "  0     0    0     0    0     0      0      0 --:--:-- --:--:-- --:--:--     0\n",
            "100  766M  100  766M    0     0  72.3M      0  0:00:10  0:00:10 --:--:-- 52.1M\n",
            "Archive:  DeLT_distilbert-classification.zip\n",
            " extracting: DeLT_distilbert-classification/config.json  \n",
            " extracting: DeLT_distilbert-classification/optimizer.pt  \n",
            " extracting: DeLT_distilbert-classification/pytorch_model.bin  \n",
            " extracting: DeLT_distilbert-classification/rng_state.pth  \n",
            " extracting: DeLT_distilbert-classification/scheduler.pt  \n",
            " extracting: DeLT_distilbert-classification/trainer_state.json  \n",
            " extracting: DeLT_distilbert-classification/training_args.bin  \n"
          ]
        }
      ]
    },
    {
      "cell_type": "code",
      "source": [
        "#load temporary model\n",
        "!curl -L 'https://drive.google.com/uc?export=download&id=1X-ty6_UcAxWFHlO9dDbKYz5H50qRnZpH&confirm=t' > DeiT_CNN.pt\n",
        "!curl -L 'https://drive.google.com/uc?export=download&id=1h5Jvvbjy2mK3ncoeiuTM57pHefgjCS20&confirm=t' > TIMESERIES_LSTM.h5"
      ],
      "metadata": {
        "colab": {
          "base_uri": "https://localhost:8080/"
        },
        "id": "wAUhTyN-NNnB",
        "outputId": "2f4b24ea-086d-4a9d-b3de-ce10f11e995c"
      },
      "execution_count": null,
      "outputs": [
        {
          "output_type": "stream",
          "name": "stdout",
          "text": [
            "  % Total    % Received % Xferd  Average Speed   Time    Time     Time  Current\n",
            "                                 Dload  Upload   Total   Spent    Left  Speed\n",
            "  0     0    0     0    0     0      0      0 --:--:-- --:--:-- --:--:--     0\n",
            "100  159M  100  159M    0     0  35.0M      0  0:00:04  0:00:04 --:--:-- 43.3M\n",
            "  % Total    % Received % Xferd  Average Speed   Time    Time     Time  Current\n",
            "                                 Dload  Upload   Total   Spent    Left  Speed\n",
            "  0     0    0     0    0     0      0      0 --:--:--  0:00:03 --:--:--     0\n",
            "100 9307k  100 9307k    0     0  2157k      0  0:00:04  0:00:04 --:--:-- 8023k\n"
          ]
        }
      ]
    },
    {
      "cell_type": "markdown",
      "source": [
        "#DistilBert - Span Extraction"
      ],
      "metadata": {
        "id": "BhVR36XNvGmT"
      }
    },
    {
      "cell_type": "code",
      "source": [
        "#LOGGER\n",
        "import sys\n",
        "from termcolor import colored\n",
        "# Basic logging infrastructure. Simpler than the python 'logging' module.\n",
        "def info(message):\n",
        "    print(colored(message, 'blue'), file=sys.stderr)\n",
        "def warn(message):\n",
        "    print(colored(message, 'yellow'), file=sys.stderr)\n",
        "def error(message):\n",
        "    print(colored(message, 'red'), file=sys.stderr)"
      ],
      "metadata": {
        "id": "czN1FW9aI6bk"
      },
      "execution_count": null,
      "outputs": []
    },
    {
      "cell_type": "code",
      "source": [
        "! pip install yt_dlp webvtt-py transformers datasets ffmpeg timm > /dev/null 2>&1"
      ],
      "metadata": {
        "id": "GB2yOYlSzizO"
      },
      "execution_count": null,
      "outputs": []
    },
    {
      "cell_type": "code",
      "source": [
        "import os\n",
        "import threading\n",
        "import pandas as pd\n",
        "import numpy as np\n",
        "import time\n",
        "from concurrent.futures import thread\n",
        "from glob import glob\n",
        "import sys\n",
        "import multiprocessing.dummy\n",
        "import subprocess\n",
        "from sys import stdout\n",
        "import yt_dlp\n",
        "from yt_dlp import DownloadError, SameFileError\n",
        "import time,re\n",
        "import re\n",
        "from time import time\n",
        "from typing import Iterable, Iterator, List, Optional, Tuple\n",
        "from enum import Enum\n",
        "from datetime import timedelta\n",
        "import random\n",
        "import webvtt\n",
        "from typing import Generator, Iterable, List, Optional, Tuple\n",
        "from numpy import isin\n",
        "import torch\n",
        "import transformers\n",
        "from datasets import Dataset, IterableDataset, IterableDatasetDict, ClassLabel, load_dataset, load_from_disk, load_metric\n",
        "from transformers import AutoTokenizer, AutoModelForSequenceClassification, TrainingArguments, Trainer, DataCollatorWithPadding\n",
        "import pyarrow as pa\n",
        "import itertools\n",
        "from collections import defaultdict\n",
        "from numpy.lib.function_base import delete\n",
        "from termcolor import colored\n",
        "from sklearn.metrics import confusion_matrix, accuracy_score, precision_score, recall_score, precision_recall_curve, roc_curve\n",
        "from tqdm.auto import tqdm\n",
        "import matplotlib.pyplot as plt\n",
        "import plotly.express as px # to plot the time series plot\n",
        "from sklearn import metrics # for the evaluation\n",
        "from sklearn.preprocessing import LabelEncoder,MinMaxScaler\n",
        "from sklearn.model_selection import train_test_split\n",
        "import tensorflow as tf\n",
        "from keras.models import Sequential\n",
        "from keras.layers import Dense\n",
        "from keras.layers import LSTM, Bidirectional\n",
        "from keras.layers import Dropout\n",
        "import requests,json\n",
        "import keras\n",
        "import warnings\n",
        "warnings.filterwarnings(\"ignore\")\n",
        "from tqdm import tqdm\n",
        "import copy\n",
        "%matplotlib inline\n",
        "import torchvision\n",
        "from torchvision import datasets\n",
        "from torchvision import transforms as T # for simplifying the transforms\n",
        "from torch import nn, optim\n",
        "from torch.nn import functional as F\n",
        "from torch.utils.data import DataLoader, sampler, random_split\n",
        "from torchvision import models\n",
        "from PIL import Image, ImageFile\n",
        "import timm\n",
        "from timm.loss import LabelSmoothingCrossEntropy # This is better than normal nn.CrossEntropyLoss\n",
        "import PIL\n",
        "from PIL import Image"
      ],
      "metadata": {
        "id": "5cMh_6s5vGX-"
      },
      "execution_count": null,
      "outputs": []
    },
    {
      "cell_type": "code",
      "source": [
        "#Global vars to store final predicted range given by the respective models\n",
        "DistilBert, LSTM, DeiT = (0,0), (0,0), (0,0)"
      ],
      "metadata": {
        "id": "9BD7rDIEuIRJ"
      },
      "execution_count": null,
      "outputs": []
    },
    {
      "cell_type": "code",
      "source": [
        "list1=[]\n",
        "class Caption:\n",
        "\tdef __init__(self, start: int, end: int, text: str):\n",
        "\t\tself.start = start\n",
        "\t\tself.end = end\n",
        "\t\tself.text = text\n",
        "\t\t# self.is_sponsor = False\n",
        "\n",
        "\tdef __repr__(self):\n",
        "\t\ttext = self.text.replace('\\n', '\\\\n')   #we remove the esc seq and concat the two lines.\n",
        "\t\treturn f'Caption{{{self.start}:{self.end},{text}}}'\n",
        "\n",
        "class DBSegment:\n",
        "\tcategory: str\n",
        "\tstartTime: float\n",
        "\tendTime: float\n",
        "\tUUID: str\n",
        "\tuserID: str\n",
        "\tvotes: int\n",
        "\tviews: int\n",
        "\tlocked: int\n",
        "\thidden: int\n",
        "\tshadowHidden: int\n",
        "\tvideoID: str\n",
        "\tvideoDuration: int\n",
        "\treputation: int\n",
        "\thashedVideoID: str\n",
        "\ttimeSubmitted: int\n",
        "\tuserAgent: str\n",
        "\tservice: str\n",
        "\tdescription: str\n",
        "\n",
        "class OverlappingSegmentGroup:\n",
        "\tdef __init__(self):\n",
        "\t\tself.segments: List[DBSegment] = []\n",
        "\t\tself.votes = 0\n",
        "\n",
        "def get_caption_list_from_path(path: str):\n",
        "\tcap_iter: Iterator[webvtt.Caption] = webvtt.read(path)  #loads the .vtt file from the path\n",
        "\t# The cap_iter may contain overlapping caption regions like below:\n",
        "\t#\t<Caption start=00:00:00.060 end=00:00:01.730 text= \\nyou know working with tech all the time>\n",
        "\t#\t<Caption start=00:00:01.730 end=00:00:01.740 text=you know working with tech all the time\\n >\n",
        "\t#\t<Caption start=00:00:01.740 end=00:00:03.470 text=you know working with tech all the time\\nI sometimes forget that not everyone>\n",
        "\t#\t<Caption start=00:00:03.470 end=00:00:03.480 text=I sometimes forget that not everyone\\n >\n",
        "\t#\t<Caption start=00:00:03.480 end=00:00:05.059 text=I sometimes forget that not everyone\\nknows about even the most basic of>\n",
        "\t#\t<Caption start=00:00:05.059 end=00:00:05.069 text=knows about even the most basic of\\n >\n",
        "\t#\t<Caption start=00:00:05.069 end=00:00:07.579 text=knows about even the most basic of\\nthings example well the various>\n",
        "\t#\t<Caption start=00:00:07.579 end=00:00:07.589 text=things example well the various\\n >\n",
        "\t#\t<Caption start=00:00:07.589 end=00:00:10.070 text=things example well the various\\nstandards of network cables cat 5 versus>\n",
        "\t#\t<Caption start=00:00:10.070 end=00:00:10.080 text=standards of network cables cat 5 versus\\n >\n",
        "\t# This is how auto-generated captions follow a person's speech.\n",
        "\t# cap[1] replaces cap[0] on-screen and creates a sliding effect.\n",
        "\t# This is fine for YT but not for us.\n",
        "\n",
        "\t# To fix remove the duplication, we check for overlapping parts of text\n",
        "\t# between the captions and eliminate them.\n",
        "\toutput: List[Caption] = []\n",
        "\tprev_cap = Caption(start=0, end=0, text=\"\")\n",
        "\tfor cap in cap_iter:\n",
        "\t\tcap = Caption(cap.start_in_seconds, cap.end_in_seconds, cap.text)\n",
        "\t\tcap.text = clean_text(cap.text)  #clean_text() returns plain text with no punc,\n",
        "\n",
        "\t\tif cap.text == '':\n",
        "\t\t\tcontinue\n",
        "\n",
        "\t\tilen = get_intersection_length(prev_cap.text, cap.text)\n",
        "\t\t# Is the overlap a whole token or more?\n",
        "\t\tif ilen > 0 and ilen >= len(cap.text.split(' ', 1)[0]):\n",
        "\t\t\tif len(cap.text) == ilen:\n",
        "\t\t\t\t# Remove the whole caption altogether, it is duplicated\n",
        "\t\t\t\tcontinue\n",
        "\t\t\telse:\n",
        "\t\t\t\t# Remove the overlap from this caption\n",
        "\t\t\t\tcap.text = cap.text[ilen:]\n",
        "\n",
        "\t\toutput.append(cap)\n",
        "\t\tprev_cap = cap\n",
        "\n",
        "\treturn output\n",
        "\n",
        "def get_intersection_length(left: str, right: str):\n",
        "\t\"\"\"\n",
        "\tFinds how many characters of overlap is there between left and right.\n",
        "\n",
        "\t```\n",
        "\tleft  = \"except the various\"\n",
        "\tright =            \"various forms\"\n",
        "\t\t\t\t\t\t^^^^^^^\n",
        "\t```\n",
        "\t\"\"\"\n",
        "\ti = 0\n",
        "\twhile not right.startswith(left[i:]):\n",
        "\t\ti += 1\n",
        "\tilen = len(left) - i\n",
        "\tassert ilen == 0 or left[-ilen:] == right[:ilen]\n",
        "\treturn ilen\n",
        "\n",
        "def clean_text(text: str) -> str:\n",
        "\t# Clean italicised quotes\n",
        "\ttext = text.replace('\\u2019', '\\'')\n",
        "\t# Clean HTML and ASCII whitespace\n",
        "\ttext = re.sub(r\"&nbsp;|\\s+\", \" \", text, flags=re.MULTILINE)\n",
        "\t# Remove markers like [Music], (Intro), special ... and emphasis (*) characters\n",
        "\ttext = re.sub(r\"\\[.+?\\]|\\(.+?\\)|\\u2026\\*\", \"\", text)\n",
        "\treturn text.strip()\n",
        "\n",
        "def build_segment_groups(segments: List[DBSegment]) -> List[OverlappingSegmentGroup]:\n",
        "\t\"\"\"\n",
        "\tThis function will find segments that are contained inside of eachother, called similar segments.  (Timestamps)\n",
        "\tSegments with less than -1 votes are already ignored before this function is called.\n",
        "\n",
        "\tBased on https://github.com/ajayyy/SponsorBlockServer/blob/e74b985304443b17b429c5c82696c7a03e78a166/src/routes/getSkipSegments.ts#L276\n",
        "\t\"\"\"\n",
        "\n",
        "\t# Create groups of segments that are similar to eachother\n",
        "\t# Segments must be sorted by their startTime so that we can build groups chronologically:\n",
        "\t# 1. As long as the segments' startTime fall inside the currentGroup, we keep adding them to that group\n",
        "\t# 2. If a segment starts after the end of the currentGroup (> cursor), no other segment will ever fall\n",
        "\t#    inside that group (because they're sorted) so we can create a new one\n",
        "\toverlappingSegmentsGroups: List[OverlappingSegmentGroup] = []\n",
        "\tcurrentGroup = None\n",
        "\tcursor = -1 # -1 to make sure that, even if the 1st segment starts at 0, a new group is created\n",
        "\tfor segment in segments:\n",
        "\t\tif segment.startTime >= cursor:\n",
        "\t\t\tcurrentGroup = OverlappingSegmentGroup()\n",
        "\t\t\toverlappingSegmentsGroups.append(currentGroup)\n",
        "\n",
        "\t\tcurrentGroup.segments.append(segment)\n",
        "\t\t# only if it is a positive vote, otherwise it is probably just a sponsor time with slightly wrong time\n",
        "\t\tif segment.votes > 0:\n",
        "\t\t\tcurrentGroup.votes += segment.votes\n",
        "\n",
        "\t\tcursor = max(cursor, segment.endTime)\n",
        "\n",
        "\treturn overlappingSegmentsGroups\n",
        "\n",
        "def get_best_segment(group: OverlappingSegmentGroup):\n",
        "\t\"\"\"\n",
        "\tSponsorBlock chooses a segment from an overlap group randomly by using the\n",
        "\tvotes property as a weight. This is done so that all segments can have a\n",
        "\tchance of appearing and makes sense in that system, but here we just\n",
        "\twant the best possible match, hence we pick the segment with the highest vote.\n",
        "\t\"\"\"\n",
        "\n",
        "\treturn max(group.segments, key=lambda segment: segment.votes)\n",
        "\n",
        "def prepare_data(captions_path: str, output_path: str, vote_threshold: int, chunk_size: int):\n",
        "\tfilenames = os.listdir(captions_path)\n",
        "\trows = []\n",
        "\n",
        "\tstart_time = time()\n",
        "\n",
        "\tchunk_id = 0\n",
        "\tdef write_chunk():\n",
        "\t\tnonlocal chunk_id\n",
        "\t\tnonlocal rows\n",
        "\t\tchunk_id += 1\n",
        "\t\tdf = pd.DataFrame(rows, columns=['video_id', 'captions', 'sponsor_times'])  # we are initiating pandas df with 3 cols and storing corresponding data in it.\n",
        "\t\tfilename, ext = output_path.rsplit('.json', 1)\n",
        "\t\tchunk_filename = f'{filename}.{chunk_id}.json{ext}'                                    #writing pandas df to json with chunksize 20,000 per json file.\n",
        "\t\tdf.to_json(chunk_filename, compression='infer', orient='records', lines=True)\n",
        "\t\trows = []\n",
        "\n",
        "\tprint('Processing captions...')\n",
        "\tfor i, filename in enumerate(filenames):                #filenames is basically .vtt caption file path\n",
        "\t\tprogress = (i + 1) / len(filenames) * 100\n",
        "\t\telapsed = time() - start_time\n",
        "\t\tremaining = (100 - progress) * elapsed / progress\n",
        "\t\tprint('\\u001b[2K\\r', end='')\n",
        "\t\tprint(f'{progress:.2f}% ' +\n",
        "\t\t\tf'elapsed: {timedelta(seconds=int(elapsed))}, ' +\n",
        "\t\t\tf'remaining: {timedelta(seconds=int(remaining))}',\n",
        "\t\t\tend='', flush=True)\n",
        "\t\tvideoID = filename.split('.')[0]         #filenames= [videoid1videoid2]\n",
        "\n",
        "\t\ttry:\n",
        "\t\t\tcaptions = get_caption_list_from_path(f'{captions_path}/{filename}')\n",
        "\t\texcept Exception as e:\n",
        "\t\t\te.args = (*e.args, f'while processing {filename}')\n",
        "\t\t\traise e\n",
        "\n",
        "\t\tcaptions_as_tuples = [(cap.text, cap.start, cap.end) for cap in captions]\n",
        "\t\trows.append((videoID, captions_as_tuples,list1))                              #calling the above explained funcs and storing captions & sponsor segment with start,end times\n",
        "                                                                                           # {\"video_id\":\"--ABCD\",\"captions\":[[\"Hey....\",0.16,6.24],[],[] ],\"sponsor_times\":[[101.29842,128.87369]]}\n",
        "\t\tif len(rows) > chunk_size:\n",
        "\t\t\twrite_chunk()\n",
        "\n",
        "\tif len(rows) > 0:\n",
        "\t\twrite_chunk()\n",
        "\n",
        "def get_or_default(arr, i, default):\n",
        "\treturn arr[i] if i < len(arr) else default\n",
        "\n",
        "CAPTIONS_PATH = '/content/TestFolder1'#'/content/sponsor'\n",
        "OUTPUT_PATH =  '/content/TestFolder2/data.json.gz'#'/content/myfiles/data.json.gz'\n",
        "VOTE_THRESHOLD = 1 # Higher threshold than minimum (-1) for SponsorBlock\n",
        "CHUNK_SIZE = 1\n",
        "def main():\n",
        "\t!mkdir -p /content/TestFolder2\n",
        "\tprepare_data(CAPTIONS_PATH, OUTPUT_PATH, VOTE_THRESHOLD, CHUNK_SIZE)\n",
        "\n",
        "#if __name__ == '__main__':\n",
        "#\tmain()"
      ],
      "metadata": {
        "id": "1wbtB991z4xH"
      },
      "execution_count": null,
      "outputs": []
    },
    {
      "cell_type": "code",
      "execution_count": null,
      "metadata": {
        "id": "G4aaEOqpmkmL"
      },
      "outputs": [],
      "source": [
        "#SEQUENCE CLASSIFICATION\n",
        "sys.path.append(os.path.dirname(os.path.realpath('..')))\n",
        "#from data_loader import load_examples_from_chunks, load_captions_from_chunks\n",
        "\n",
        "os.environ[\"WANDB_DISABLED\"] = \"true\""
      ]
    },
    {
      "cell_type": "code",
      "execution_count": null,
      "metadata": {
        "id": "UWAgwYwVSMZU",
        "colab": {
          "base_uri": "https://localhost:8080/",
          "height": 145,
          "referenced_widgets": [
            "6979dad7476e4935ab74fd59d6e357e2",
            "6b83d35a0b3640f5a5edf9acfcb9dd3b",
            "f61a1a170b5f4ee6b52c1599ab837bdf",
            "407ab68abec845649ad1d4afef852090",
            "d8dcb9c1cc1c4f7db50482bf4cc11f3d",
            "5952bfb8d050492ca4ea99dcbb22b173",
            "ef361ae7e3254c60850ba901041e0020",
            "b81120dde08c4d6f9f3c444df8d54d9a",
            "1cddc37efdc1466298258cc7aab95f72",
            "5d0492e855954991956181f59826909d",
            "5c3924ad55534a7da1959041ada05acf",
            "3152b41136a94f3183b8289d08715ffb",
            "0dd71a643a184a56ae07ced3923617dd",
            "b1ff16f451954aadae7cc0483793f7b5",
            "615674930e0c4cfab053b6e55e725e38",
            "2a011bffff424fbaaedaf0aab1e61fcc",
            "d375a5e0a937455c809a78cff3ef632c",
            "d310f73f0157422e8639e5d647afef75",
            "bb0750ddc31c46c4bb3c617d6952a37a",
            "f8a9ef62a136478d8228cfaaf26d13bf",
            "3849fec1cb784897ab2dd98aba5df29d",
            "062317d4b225416abcb9768fd1a136da",
            "8e0b81ee1cf64bc396abcbcc221aad5d",
            "d1828f8bdf6142c4b9a1b692afebb79f",
            "0d2176cb003f4f5f8cca6c85589d2a1e",
            "57507825dbc0420eaa3f44ad410d9436",
            "8d1012954b3142eb8c254e7dc3f663fe",
            "c40b04cd8a0b490d9e5d61ba4f1d68f0",
            "19245f91382445138615bff8ccc7ee2e",
            "26aca5bffdc44ecda1b0b669f067ece5",
            "dd28c3ba0ad946ed9380db9eb8d2b583",
            "5cceb48be179463c8f4a6c7baa6d938b",
            "139e3b2dc19d45ebabfff82ab7cc4c8c",
            "5330876eeafc426faa633311709a5ab0",
            "7160c6d7c97d4a15b9b61f1bc0020fec",
            "3a67f565dd3e49bb9e574a8ca328b78e",
            "8128531bfb6d4dd5817a12c2c2aaab46",
            "393510e1147a4c8693ceb7bc602ebf6a",
            "4c8e10f881454cd987ed1d20c7bb5af8",
            "eedf4a8ebc5940758c75f24d95226619",
            "37515f6794ab498289ae98e3ea98cdb2",
            "75d678757dea47f1b1a43e0b81a977ed",
            "398b0a5247fc4c1aaf6a21e843834212",
            "2c10249a4ccd4b85ad74b07e3db822ba"
          ]
        },
        "outputId": "40595380-a513-4184-fe1c-29ca6e8d4201"
      },
      "outputs": [
        {
          "output_type": "display_data",
          "data": {
            "text/plain": [
              "Downloading (…)okenizer_config.json:   0%|          | 0.00/28.0 [00:00<?, ?B/s]"
            ],
            "application/vnd.jupyter.widget-view+json": {
              "version_major": 2,
              "version_minor": 0,
              "model_id": "6979dad7476e4935ab74fd59d6e357e2"
            }
          },
          "metadata": {}
        },
        {
          "output_type": "display_data",
          "data": {
            "text/plain": [
              "Downloading (…)lve/main/config.json:   0%|          | 0.00/483 [00:00<?, ?B/s]"
            ],
            "application/vnd.jupyter.widget-view+json": {
              "version_major": 2,
              "version_minor": 0,
              "model_id": "3152b41136a94f3183b8289d08715ffb"
            }
          },
          "metadata": {}
        },
        {
          "output_type": "display_data",
          "data": {
            "text/plain": [
              "Downloading (…)solve/main/vocab.txt:   0%|          | 0.00/232k [00:00<?, ?B/s]"
            ],
            "application/vnd.jupyter.widget-view+json": {
              "version_major": 2,
              "version_minor": 0,
              "model_id": "8e0b81ee1cf64bc396abcbcc221aad5d"
            }
          },
          "metadata": {}
        },
        {
          "output_type": "display_data",
          "data": {
            "text/plain": [
              "Downloading (…)/main/tokenizer.json:   0%|          | 0.00/466k [00:00<?, ?B/s]"
            ],
            "application/vnd.jupyter.widget-view+json": {
              "version_major": 2,
              "version_minor": 0,
              "model_id": "5330876eeafc426faa633311709a5ab0"
            }
          },
          "metadata": {}
        }
      ],
      "source": [
        "#Tokenize the datatset with the pre-trained tokenizer. Sequences are padded to the maximum length supported by BERT and truncated if longer.\n",
        "tokenizer = AutoTokenizer.from_pretrained(\"distilbert-base-uncased\")\n",
        "\n",
        "def tokenize_function(examples):\n",
        "    return tokenizer(examples[\"text\"], padding=\"max_length\", truncation=True)"
      ]
    },
    {
      "cell_type": "code",
      "source": [
        "model = None\n",
        "trainer = None\n",
        "trained = None\n",
        "\n",
        "def softmax_outputs(outputs) -> dict:\n",
        "    return torch.nn.functional.softmax(outputs.logits, dim=-1)[0].tolist()\n",
        "\n",
        "trained = AutoModelForSequenceClassification.from_pretrained('/content/DeLT_distilbert-classification')   #7210   7449 drive/MyDrive/distilbert-classification-uncased/\n",
        "\n",
        "\n",
        "trained.to('cuda') #Uncomment this if you are using Nvidia GPU"
      ],
      "metadata": {
        "id": "50ceoXTYz3-m",
        "colab": {
          "base_uri": "https://localhost:8080/"
        },
        "outputId": "4a703a05-27d2-4206-9b3d-52c12e6168fe"
      },
      "execution_count": null,
      "outputs": [
        {
          "output_type": "execute_result",
          "data": {
            "text/plain": [
              "DistilBertForSequenceClassification(\n",
              "  (distilbert): DistilBertModel(\n",
              "    (embeddings): Embeddings(\n",
              "      (word_embeddings): Embedding(30522, 768, padding_idx=0)\n",
              "      (position_embeddings): Embedding(512, 768)\n",
              "      (LayerNorm): LayerNorm((768,), eps=1e-12, elementwise_affine=True)\n",
              "      (dropout): Dropout(p=0.1, inplace=False)\n",
              "    )\n",
              "    (transformer): Transformer(\n",
              "      (layer): ModuleList(\n",
              "        (0-5): 6 x TransformerBlock(\n",
              "          (attention): MultiHeadSelfAttention(\n",
              "            (dropout): Dropout(p=0.1, inplace=False)\n",
              "            (q_lin): Linear(in_features=768, out_features=768, bias=True)\n",
              "            (k_lin): Linear(in_features=768, out_features=768, bias=True)\n",
              "            (v_lin): Linear(in_features=768, out_features=768, bias=True)\n",
              "            (out_lin): Linear(in_features=768, out_features=768, bias=True)\n",
              "          )\n",
              "          (sa_layer_norm): LayerNorm((768,), eps=1e-12, elementwise_affine=True)\n",
              "          (ffn): FFN(\n",
              "            (dropout): Dropout(p=0.1, inplace=False)\n",
              "            (lin1): Linear(in_features=768, out_features=3072, bias=True)\n",
              "            (lin2): Linear(in_features=3072, out_features=768, bias=True)\n",
              "            (activation): GELUActivation()\n",
              "          )\n",
              "          (output_layer_norm): LayerNorm((768,), eps=1e-12, elementwise_affine=True)\n",
              "        )\n",
              "      )\n",
              "    )\n",
              "  )\n",
              "  (pre_classifier): Linear(in_features=768, out_features=768, bias=True)\n",
              "  (classifier): Linear(in_features=768, out_features=2, bias=True)\n",
              "  (dropout): Dropout(p=0.2, inplace=False)\n",
              ")"
            ]
          },
          "metadata": {},
          "execution_count": 12
        }
      ]
    },
    {
      "cell_type": "code",
      "source": [
        "#from data_loader import Caption, load_captions_from_chunks, segment_text, get_intersection_range\n",
        "\n",
        "def caption_times(c):\n",
        "    return c.start, c.end\n",
        "\n",
        "def prediction_times(p):\n",
        "    return tuple(p[0])\n",
        "\n",
        "def tumbling_time_window(captions, duration, key=caption_times):\n",
        "    results = [captions[0]]\n",
        "    for caption in captions:\n",
        "        if key(results[-1])[1] - key(results[0])[0] <= duration:\n",
        "            results.append(caption)\n",
        "        else:\n",
        "            yield results\n",
        "            results = [caption]\n",
        "\n",
        "    yield results\n",
        "\n",
        "def session_time_window(captions, duration, key=caption_times):\n",
        "\n",
        "    captions_iter = iter(captions)\n",
        "    results = [next(captions_iter)]\n",
        "    for caption in captions_iter:\n",
        "        if key(results[-1])[1] - key(caption)[0] <= duration:\n",
        "            results.append(caption)\n",
        "        else:\n",
        "            yield results\n",
        "            results = [caption]\n",
        "\n",
        "    yield results\n",
        "\n",
        "def batch(iterable, n):\n",
        "    length = len(iterable)\n",
        "    for i in range(0, length, n):\n",
        "        yield iterable[i:min(i + n, length)]\n",
        "\n",
        "def decode_label(outputs):\n",
        "    content, sponsor = outputs\n",
        "\n",
        "    prediction_dict = {'sponsor': sponsor, 'content': content}\n",
        "    prediction_dict = {k: v for k, v in sorted(prediction_dict.items(), key=lambda item: item[1], reverse=True)}\n",
        "\n",
        "    return next(iter(prediction_dict.items()))\n",
        "\n",
        "def predict_in_batches(texts, batch_size: int = 8):\n",
        "    batches = list(batch(texts, batch_size))\n",
        "    for b in batches:\n",
        "        inputs = defaultdict(list)\n",
        "        for text in b:\n",
        "            tokenized = tokenize_function({ 'text': text })\n",
        "            for k, v in tokenized.items():\n",
        "                inputs[k].append(v)\n",
        "\n",
        "        inputs = { k: torch.tensor(v).cuda() for k, v in inputs.items() }               # IF MODEL WAS LOADED TO GPU THEN ADD \".cuda()\" to torch.tensor(v)\n",
        "        outputs = trained(**inputs)\n",
        "        predictions = torch.nn.functional.softmax(outputs.logits, dim=-1).tolist()\n",
        "        yield from predictions\n",
        "\n",
        "def predict_sponsor_segments(captions, window_duration=10):\n",
        "    windows = list(tumbling_time_window(captions, window_duration))\n",
        "    window_texts = [segment_text(window) for window in windows]\n",
        "    predictions = predict_in_batches(window_texts, 4)\n",
        "\n",
        "    for window, text, prediction in zip(windows, window_texts, predictions):\n",
        "        yield [window[0].start, window[-1].end], text, *decode_label(prediction)\n",
        "\n",
        "def merge_prediction_(predictions):\n",
        "    assert len(set((label for _, _, label, _ in predictions))) == 1\n",
        "    # All co-occurring predictions have the same label so we merge them\n",
        "    merged_start, merged_end = predictions[0][0][0], predictions[-1][0][1]\n",
        "    merged_text = ' '.join((text for _, text, _, _ in predictions))\n",
        "    # Don't know what the correct way to compute the joint probability here is,\n",
        "    # just assume they are independent; We don't really use this number anywhere\n",
        "    prob = np.prod([prob for _, _, _, prob in predictions])\n",
        "    return [merged_start, merged_end], merged_text, predictions[0][2], prob\n",
        "\n",
        "def merge_predictions(predictions, within_duration=5):\n",
        "    for co_occuring in session_time_window(predictions, within_duration, key=prediction_times):\n",
        "        merged = [co_occuring[0]]\n",
        "        for times, text, label, prob in co_occuring[1:]:\n",
        "            _, _, prev_label, _ = merged[0]\n",
        "            if label == prev_label:\n",
        "                merged.append((times, text, label, prob))\n",
        "            else:\n",
        "                yield merge_prediction_(merged)\n",
        "                merged = [(times, text, label, prob)]\n",
        "\n",
        "        if len(merged) > 0:\n",
        "            yield merge_prediction_(merged)"
      ],
      "metadata": {
        "id": "DLyOxGMrETsy"
      },
      "execution_count": null,
      "outputs": []
    },
    {
      "cell_type": "code",
      "source": [
        "def range_equals(left: 'Tuple[float, float]', right: 'Tuple[float, float]', eps: float) -> bool:\n",
        "    left_start, left_end = left\n",
        "    right_start, right_end = right\n",
        "\n",
        "    return (abs(left_start - right_start) <= eps\n",
        "        and abs(left_end - right_end) <= eps)\n",
        "\n",
        "def count_range_equals(pairs, eps: float) -> int:\n",
        "    cnt = 0\n",
        "    for left, right in pairs:\n",
        "        if range_equals(left, right, eps):\n",
        "            cnt += 1\n",
        "    return cnt\n",
        "\n",
        "assert range_equals([0, 5], [0, 5], eps=0)\n",
        "assert range_equals([1, 6], [0, 5], eps=1)\n",
        "assert range_equals([-1, 4], [0, 5], eps=1)\n",
        "assert not range_equals([-2, 4], [0, 5], eps=1)\n",
        "assert not range_equals([1, 7], [0, 5], eps=1)\n",
        "\n",
        "def range_negation(base: 'Tuple[float, float]', ranges: 'List[Tuple[float, float]]') -> 'List[Tuple[float, float]]':\n",
        "    \"\"\"\n",
        "    base:    |-------------|\n",
        "    ranges:  | ***   **    |\n",
        "    Return:  |#   ###  ####|\n",
        "    \"\"\"\n",
        "    results = []\n",
        "    last_end = base[0]\n",
        "    for r in ranges:\n",
        "        if last_end != r[0]:\n",
        "            results.append((last_end, r[0]))\n",
        "        last_end = r[1]\n",
        "    if last_end != base[1]:\n",
        "        results.append((last_end, base[1]))\n",
        "\n",
        "    return results\n",
        "\n",
        "assert range_negation((2, 10), [(3,4), (5, 6)]) == [(2, 3), (4, 5), (6, 10)]\n",
        "assert range_negation((2, 6), [(3,4), (5, 6)]) == [(2, 3), (4, 5)]\n",
        "assert range_negation((3, 6), [(3,4), (5, 6)]) == [(4, 5)]"
      ],
      "metadata": {
        "id": "41CGnKTUMhWn"
      },
      "execution_count": null,
      "outputs": []
    },
    {
      "cell_type": "code",
      "source": [
        "def create_labels_from_range(captions, sponsor_ranges):\n",
        "    token_labels = []\n",
        "    try:\n",
        "      caption_labels = np.zeros(len(captions), dtype=bool)\n",
        "      for start_idx, end_idx in sponsor_ranges:\n",
        "          if start_idx is None or end_idx is None:\n",
        "              continue\n",
        "          for i in range(start_idx, end_idx + 1):\n",
        "              caption_labels[i] = True\n",
        "\n",
        "      token_labels = []\n",
        "      for i, caption in enumerate(captions):\n",
        "          num_tokens = len(caption.text.split())\n",
        "          token_labels.extend([caption_labels[i]] * num_tokens)\n",
        "    except:\n",
        "       token_labels = []\n",
        "    return token_labels\n",
        "\n",
        "def create_labels_from_times(captions, sponsor_times):\n",
        "    try:\n",
        "      ranges = [get_intersection_range(captions, *pair[1]) for pair in sponsor_times]\n",
        "    except:\n",
        "      ranges = [(0,0)]\n",
        "\n",
        "    return create_labels_from_range(captions, ranges)\n",
        "\n",
        "def evaluate(videos, eps=5, window_duration=10):\n",
        "    global DistilBert\n",
        "    predicted_labels = np.empty(0)\n",
        "    actual_labels = np.empty(0)\n",
        "    # Values for our close match metric (exact match with threshold)\n",
        "    # Number of maches\n",
        "    close_matches = 0\n",
        "    # Number of predicted ranges\n",
        "    total_predicted_ranges = 0\n",
        "\n",
        "    for video_id, captions, sponsor_ranges in tqdm(videos):\n",
        "        print(colored(f'Input Video ID: {video_id}', None, 'on_magenta'))\n",
        "        sponsor_times = [(captions[start].start, captions[end].end) for start, end in sponsor_ranges]\n",
        "        predicted_sponsor_times = []\n",
        "\n",
        "        for times, text, label, prob in merge_predictions(predict_sponsor_segments(captions, window_duration), window_duration):\n",
        "            if label == 'sponsor':\n",
        "                predicted_sponsor_times.append((f'{int(prob * 100)}%', times))\n",
        "\n",
        "            color = { 'sponsor': 'yellow', 'content': None }[label]\n",
        "\n",
        "            if any((range_equals(times, actual_times, eps) for actual_times in sponsor_times)):\n",
        "                close_matches += 1\n",
        "            total_predicted_ranges += 1\n",
        "\n",
        "        predicted_sponsor_ranges = [get_intersection_range(captions, *pair[1]) for pair in predicted_sponsor_times]\n",
        "        predicted_labels = np.append(predicted_labels, create_labels_from_range(captions, predicted_sponsor_ranges))\n",
        "        actual_labels = np.append(actual_labels, create_labels_from_range(captions, sponsor_ranges))\n",
        "        print('p1',predicted_sponsor_ranges)\n",
        "        try:\n",
        "\n",
        "          predicted_sponsor_rangesii = predicted_sponsor_ranges                 #[item for item in predicted_sponsor_ranges if abs(item[1] - item[0]) >= 7]\n",
        "          print('p2',predicted_sponsor_rangesii)\n",
        "          predicted_sponsor_rangesiii=[]\n",
        "          temp1=0\n",
        "          if len(predicted_sponsor_rangesii) > 1:\n",
        "            for i in predicted_sponsor_rangesii:\n",
        "              temp=i[1]-i[0]\n",
        "              if temp>temp1:\n",
        "                temp1=temp\n",
        "                predicted_sponsor_rangesiii.clear()\n",
        "                predicted_sponsor_rangesiii.append(i)\n",
        "              elif temp==temp1:\n",
        "                #temp1=temp\n",
        "                predicted_sponsor_rangesiii.clear()\n",
        "                predicted_sponsor_rangesiii.append(i)\n",
        "            predicted_sponsor_rangesiii = predicted_sponsor_rangesiii[0]\n",
        "\n",
        "          elif len(predicted_sponsor_rangesii) == 1:\n",
        "            predicted_sponsor_rangesiii = predicted_sponsor_rangesii[0]\n",
        "\n",
        "          else:\n",
        "            predicted_sponsor_rangesiii = (0,0)\n",
        "        except:\n",
        "            predicted_sponsor_rangesiii = (0,0)\n",
        "\n",
        "        DistilBert = predicted_sponsor_rangesiii\n",
        "        #print(f'\\tPredicted = {predicted_sponsor_rangesiii}')"
      ],
      "metadata": {
        "id": "Qzkmlrq9Mhbh"
      },
      "execution_count": null,
      "outputs": []
    },
    {
      "cell_type": "code",
      "source": [
        "def make_captions(vid_id):\n",
        "  vid_id = vid_id                           #\"YLt73w6criQ\"\n",
        "  output_path=\"/content/TestFolder1\"\n",
        "  url = f'https://www.youtube.com/watch?v={vid_id}'\n",
        "  try:\n",
        "      yt_dlp._real_main([\n",
        "      \"-4\",\n",
        "      \"-o\", output_path + \"/%(id)s.%(ext)s\",\n",
        "      \"--skip-download\",\n",
        "      \"--write-sub\",\n",
        "      \"--sub-lang\", \"en,en-AU,en-BZ,en-CA,en-IE,en-JM,en-NZ,en-ZA,en-TT,en-GB,en-US\",\n",
        "      url\n",
        "      ])\n",
        "  except Exception:\n",
        "      DistilBert = None\n",
        "      pass\n",
        "  except SystemExit:\n",
        "          DistilBert = None\n",
        "          pass\n",
        "  # Check for the output files (if any).\n",
        "  files = glob(f'{output_path}/{vid_id}.*')\n",
        "  if len(files) > 0:\n",
        "      # Keep only the first result (in alphabetical order ~ *.en.*)\n",
        "      for file in files[1:]:\n",
        "          os.remove(file)\n",
        "      filepath=['/content/TestFolder1']\n",
        "      lenfolder = len([entry for entry in os.listdir(filepath[0]) if os.path.isfile(os.path.join(filepath[0], entry))])\n",
        "      if lenfolder>0:\n",
        "        main()\n",
        "        test_videos2 = list(itertools.islice(load_captions_from_chunks2('data', '/content/TestFolder2', [1]), 0, 1))\n",
        "        evaluate(videos=test_videos2,window_duration=10,eps=5,)\n",
        "        !rm -r TestFolder1\n",
        "        !rm -r TestFolder2\n",
        "      else:\n",
        "        DistilBert=None\n",
        "  else:\n",
        "      error = None\n",
        "      DistilBert = None\n",
        "      try:\n",
        "        yt_dlp._real_main([ \"-4\", \"-o\", output_path + \"/%(id)s.%(ext)s\",\"--skip-download\",\"--write-auto-sub\",\n",
        "        \"--sub-lang\", \"en\", url])\n",
        "        # Check for the output files (if any).\n",
        "        files = glob(f'{output_path}/{vid_id}.*')\n",
        "        if len(files) > 0:\n",
        "            # Keep only the first result (in alphabetical order ~ *.en.*)\n",
        "            for file in files[1:]:\n",
        "                os.remove(file)\n",
        "            filepath=['/content/TestFolder1']\n",
        "            lenfolder = len([entry for entry in os.listdir(filepath[0]) if os.path.isfile(os.path.join(filepath[0], entry))])\n",
        "            if lenfolder>0:\n",
        "              main()\n",
        "              test_videos2 = list(itertools.islice(load_captions_from_chunks2('data', '/content/TestFolder2', [1]), 0, 1))\n",
        "              evaluate(videos=test_videos2,window_duration=10,eps=5,)\n",
        "              !rm -r TestFolder1\n",
        "              !rm -r TestFolder2\n",
        "            else:\n",
        "              DistilBert=None\n",
        "      except DownloadError:\n",
        "          DistilBert = None\n",
        "          error = f'Download error!'\n",
        "      except SameFileError as e:\n",
        "          error2 = f'There seems to exist a file with same name, Maybe check your files and delete the old .vtt file or rename it and try again!'\n",
        "          error = str(e)\n",
        "      except SystemExit:\n",
        "          DistilBert = None\n",
        "          pass\n",
        "      files = glob(f'{output_path}/{vid_id}.*')"
      ],
      "metadata": {
        "id": "o4egM__YvGPH"
      },
      "execution_count": null,
      "outputs": []
    },
    {
      "cell_type": "markdown",
      "source": [
        "#LSTM"
      ],
      "metadata": {
        "id": "5LocKM3nvD5w"
      }
    },
    {
      "cell_type": "code",
      "source": [
        "def getContentFromURL(url):\n",
        "   return requests.get(url).text\n",
        "\n",
        "def vid_process(vid_id):\n",
        "  global LSTM\n",
        "  LSTM = 0\n",
        "  trap2=0\n",
        "  url = f'http://192.241.157.192/videos?part=mostReplayed&id={vid_id}'     #'https://yt.lemnoslife.com/videos?part=mostReplayed&id={vid_id}'\n",
        "\n",
        "  content = getContentFromURL(url)\n",
        "  data = json.loads(content)\n",
        "\n",
        "  if(len(content) > 256):\n",
        "        MV1=[]\n",
        "        for heatMarker in data['items'][0]['mostReplayed']['heatMarkers']:\n",
        "            heatMarker = heatMarker['heatMarkerRenderer']\n",
        "            intensityScoreNormalized = heatMarker['heatMarkerIntensityScoreNormalized']\n",
        "            a = heatMarker['timeRangeStartMillis']\n",
        "            b = heatMarker['markerDurationMillis']\n",
        "            MV1 += [intensityScoreNormalized]\n",
        "            MV1 += [a]\n",
        "            MV1 += [b]\n",
        "\n",
        "        subList99 = [MV1[n:n+3] for n in range(0, len(MV1), 3)]\n",
        "        subListtemp=[]\n",
        "        subListtemp2=[]\n",
        "        subListtemp3=[]\n",
        "        subListtemp4=[]\n",
        "\n",
        "        for i in range(len(subList99)):\n",
        "            for j in range(len(subList99[i])):\n",
        "              j=j-1\n",
        "            subList99[i][j]=subList99[i][j]/1000   #range start ms to sec\n",
        "            subListtemp.append(subList99[i][j])\n",
        "\n",
        "        for i in range(len(subList99)):\n",
        "            for j in range(len(subList99[i])):\n",
        "              j=j\n",
        "            subList99[i][j]=subList99[i][j]/1000   #marker duration ms to sec\n",
        "            subListtemp3.append(subList99[i][j])\n",
        "\n",
        "        for i in range(len(subList99)):\n",
        "            for j in range(len(subList99[i])):    #rounding normalized score to 4 decimal places\n",
        "              j=j-2\n",
        "            subList99[i][j]=round(subList99[i][j],4)\n",
        "            subListtemp2.append(subList99[i][j])\n",
        "\n",
        "        for i in range(len(subList99)):\n",
        "          if i==0:\n",
        "            subListtemp4.append(vid_id)\n",
        "          else:\n",
        "            subListtemp4.append(np.NAN)\n",
        "                                                  #[vid_id, heatMarkerIntensityScoreNormalized, IsSponsor , timeRangeStartMillis, markerDurationMillis]\n",
        "        df99 = pd.DataFrame({'vid_id': pd.Series(pd.arrays.SparseArray(subListtemp4)),'Intensity_Score': subListtemp2, 'IsSponsor': '0',\n",
        "                          'TimeRangeStart': subListtemp,\n",
        "                          'Marker_Duration': subListtemp3})\n",
        "        #print(df99)\n",
        "        return df99  #[1,0.8,0.9] len 100\n",
        "  else:\n",
        "    LSTM = None\n",
        "    return LSTM"
      ],
      "metadata": {
        "id": "d7Z5qZ0hqf8i"
      },
      "execution_count": null,
      "outputs": []
    },
    {
      "cell_type": "code",
      "source": [
        "model_intrestgraph = keras.models.load_model('/content/TIMESERIES_LSTM.h5')"
      ],
      "metadata": {
        "id": "9lFUXoeOOKJd"
      },
      "execution_count": null,
      "outputs": []
    },
    {
      "cell_type": "code",
      "source": [
        "# correct -FINALL- solution:\n",
        "def find_dominant_value(values):\n",
        "    # Create a histogram with 1000 bins\n",
        "    hist, bin_edges = np.histogram(values, bins=1000)\n",
        "\n",
        "    # Find the bin index with the highest frequency\n",
        "    dominant_bin_index = np.argmax(hist)\n",
        "\n",
        "    # Get the bin edges for the dominant bin\n",
        "    dominant_bin_start = bin_edges[dominant_bin_index]\n",
        "    dominant_bin_end = bin_edges[dominant_bin_index + 1]\n",
        "\n",
        "    # Estimate the dominant value as the midpoint of the dominant bin\n",
        "    dominant_value = (dominant_bin_start + dominant_bin_end) / 2\n",
        "\n",
        "    # Round the dominant value to 6 decimal places\n",
        "    rounded_dominant_value = round(dominant_value, 6)\n",
        "\n",
        "    return rounded_dominant_value\n",
        "\n",
        "def softmax(x):\n",
        "    exlist=[]\n",
        "    x_max = np.max(x)\n",
        "    exlist = np.exp(x - x_max)\n",
        "    #e_x = np.exp(x - 0.0000082561802864)\n",
        "    return exlist / exlist.sum(axis=0) # only difference 0,998x\n",
        "\n",
        "def calcv(ll):\n",
        "  flagg1=0\n",
        "  flagg2=0\n",
        "  data1=0\n",
        "  data2=0\n",
        "  timestampstart=-1\n",
        "  finaltimestampend=-1\n",
        "  finaltimestampstart=0\n",
        "  y=0\n",
        "  startidx=0\n",
        "  startidxb=0\n",
        "  startidxb2=0\n",
        "  datal=[]\n",
        "  list3=[]\n",
        "  temp1=0\n",
        "  ididit=0\n",
        "  dupfinaltimestampend2ii=0\n",
        "  finaltimestampend2=0\n",
        "  dupfinaltimestampend2=0\n",
        "  subt1=0\n",
        "  tempn,tempn1,tempn2=0,0,0\n",
        "  prevflagg1=0\n",
        "  for i in range(len(ll)):\n",
        "    if ll[i]==1:\n",
        "      flagg1=flagg1+1\n",
        "      y+=1\n",
        "      if timestampstart==-1:\n",
        "        timestampstart=i\n",
        "      flagg2=0\n",
        "    else:\n",
        "      flagg2=flagg2+1\n",
        "      if flagg2<=2 and i>6 and y<=2: y+=1\n",
        "      if flagg2>2:\n",
        "        startidx+=1\n",
        "        flagg1=0\n",
        "        timestampstart=-1\n",
        "        flagg2=0\n",
        "        y=0\n",
        "        if startidx == 1:\n",
        "          startidxb2=i-2\n",
        "          startidxb=9999 #starting all high vals done\n",
        "\n",
        "    if (startidxb==9999) or (startidxb==99999):\n",
        "      if y>2 :\n",
        "        x=finaltimestampstart\n",
        "        finaltimestampstart=timestampstart\n",
        "        finaltimestampend=i\n",
        "        #print(finaltimestampstart,x)\n",
        "        #print('i',i)\n",
        "        if x!=finaltimestampstart and finaltimestampend!=finaltimestampend2 and x!=finaltimestampend and x!=0 and finaltimestampend2!=startidxb2 and ((finaltimestampend-x)>6) or i==len(ll)-1:\n",
        "          #print(ididit)\n",
        "          if ididit==0:\n",
        "            if startidxb==9999 and i>6:\n",
        "              datal.clear()\n",
        "              startidxb=99999\n",
        "            else:\n",
        "              #datal.clear()\n",
        "              startidxb=99999\n",
        "\n",
        "            if i==len(ll)-1:\n",
        "              finaltimerange=(prevflagg1,x,finaltimestampend2+1)\n",
        "              datal.append(finaltimerange)\n",
        "            else:\n",
        "              finaltimerange=(prevflagg1,x,finaltimestampend2)\n",
        "              datal.append(finaltimerange)\n",
        "        prevflagg1=flagg1\n",
        "        finaltimestampend2=i\n",
        "\n",
        "    else:\n",
        "      if y>2 :\n",
        "        x=finaltimestampstart\n",
        "        finaltimestampstart=timestampstart\n",
        "        finaltimestampend=i\n",
        "\n",
        "        if x!=finaltimestampstart or finaltimestampend!=finaltimestampend2 and x!=finaltimestampend  and ((finaltimestampend-x)>=4) or i>2:\n",
        "          finaltimerange=(flagg1,x,finaltimestampend2)\n",
        "          datal.clear()\n",
        "          datal.append(finaltimerange)\n",
        "          dupfinaltimestampend2=i\n",
        "        finaltimestampend2=i\n",
        "        if dupfinaltimestampend2ii==1:\n",
        "          subt1=1\n",
        "          dupfinaltimestampend2ii=99999\n",
        "        elif len(datal)>0 and subt1==1:\n",
        "          subt1=0\n",
        "        if i > (dupfinaltimestampend2-x-subt1)  or dupfinaltimestampend2>6 or flagg1>6:\n",
        "\n",
        "            ididit=0\n",
        "        else:\n",
        "          for k in range(i,11):\n",
        "            if ll[k] == 1:\n",
        "              ididit=1\n",
        "            elif ll[k] == 0:\n",
        "              ididit=0\n",
        "\n",
        "  for i in datal:\n",
        "    temp=i[0]\n",
        "    if temp>temp1:\n",
        "      temp1=temp\n",
        "      list3.clear()\n",
        "      list3.append((i[1],i[2]))\n",
        "    if len(datal)==0 or (i[1]==0 and i[2]-i[1]>6):\n",
        "        list3.clear()\n",
        "        list3.append((0,0))\n",
        "\n",
        "  return datal\n",
        "\n"
      ],
      "metadata": {
        "id": "nHuJ0VrdrOus"
      },
      "execution_count": null,
      "outputs": []
    },
    {
      "cell_type": "code",
      "source": [
        "def final_lstm_prediction(yt_test_timeseries):\n",
        "  global LSTM, model_intrestgraph\n",
        "  flag1 = 0\n",
        "  if LSTM != None:\n",
        "    testt=[]\n",
        "    jj=0\n",
        "    rawarray=yt_test_timeseries[['Intensity_Score']]\n",
        "    for i in range(0,rawarray.shape[0],100):\n",
        "      testt.append(np.reshape(np.array(rawarray[i:i+100]),(jj+1, 100,rawarray.shape[1])))\n",
        "    test1i = np.array(testt)\n",
        "    #print('tes',test1i)\n",
        "    xttii = np.reshape(np.array(test1i),(test1i.shape[0], 100,1))\n",
        "    prediii = model_intrestgraph.predict(xttii)\n",
        "\n",
        "    z1=yt_test_timeseries['TimeRangeStart']\n",
        "    z1dup=int(z1[1]-z1[0])\n",
        "    #print(z1dup)\n",
        "    #iparray = prediii[0,:]\n",
        "    maxval = 0\n",
        "    coeff = 0 #40%\n",
        "    flag2 = 0\n",
        "    datatimestart=-1\n",
        "    datatimestop=0\n",
        "\n",
        "    asq = np.array(prediii.reshape(100))\n",
        "    sof1 = softmax(asq)\n",
        "    sof1=sof1*100\n",
        "    sof1 = np.round_(sof1,6)\n",
        "    q=find_dominant_value(sof1)\n",
        "\n",
        "    value = q\n",
        "\n",
        "    last_three_digits = int(value * 1000000) % 1000\n",
        "\n",
        "    if last_three_digits // 100 % 10 == 0:\n",
        "        output_threedigit = f\"0.00{last_three_digits:03d}\"\n",
        "    else:\n",
        "        output_threedigit = f\"0.000{last_three_digits:03d}\"\n",
        "\n",
        "    output_threedigit = float(output_threedigit)\n",
        "    #print(output_threedigit)\n",
        "\n",
        "    # Convert the number to a string\n",
        "    number_str = str(value)\n",
        "\n",
        "    # Extract the first three numbers\n",
        "    first_three_numbers = number_str[2:7]\n",
        "    first_three_numbers = int(first_three_numbers)\n",
        "\n",
        "\n",
        "    ll=[]\n",
        "    for i in range(1,(len(sof1))):\n",
        "      if abs(sof1[i]-sof1[i-1]) > output_threedigit:\n",
        "        ll.append(1)\n",
        "      else:\n",
        "        ll.append(0)\n",
        "\n",
        "    if first_three_numbers < 99830:  #NON_SPONS\n",
        "      LSTM = (0,0)\n",
        "      #print(LSTM)\n",
        "    else:                            #SPONS\n",
        "      tq = calcv(ll)\n",
        "      #print(tq)\n",
        "      try:\n",
        "        start_tq = int(z1[tq[0][1]])\n",
        "        end_tq = int((z1[tq[0][2]]))\n",
        "      except:\n",
        "        start_tq = 0\n",
        "        end_tq = 0\n",
        "      #print(z1[tq[0]])\n",
        "      tq2 = (start_tq,end_tq)\n",
        "      LSTM = tq2\n",
        "\n",
        "  else:\n",
        "    LSTM = None\n",
        "  return LSTM"
      ],
      "metadata": {
        "id": "nQbw1ZQm4NYw"
      },
      "execution_count": null,
      "outputs": []
    },
    {
      "cell_type": "markdown",
      "source": [
        "#CNN"
      ],
      "metadata": {
        "id": "1kaUG1lfvLfr"
      }
    },
    {
      "cell_type": "code",
      "source": [
        "# now, for the model\n",
        "device = torch.device('cuda' if torch.cuda.is_available() else 'cpu')\n",
        "model_parent = torch.hub.load('facebookresearch/deit:main', 'deit_small_patch16_224', pretrained=True)\n",
        "for param in model_parent.parameters(): #freeze model\n",
        "    param.requires_grad = False\n",
        "\n",
        "n_inputs = model_parent.head.in_features\n",
        "model_parent.head = nn.Sequential(\n",
        "    nn.Linear(n_inputs, 2048),\n",
        "    nn.ReLU(),\n",
        "    nn.Dropout(0.3),\n",
        "    nn.Linear(2048, 1524),\n",
        "    nn.ReLU(),\n",
        "    nn.Linear(1524, 1024),\n",
        "    nn.Dropout(0.25),\n",
        "    nn.Linear(1024, 800),\n",
        "    nn.Linear(800, 512),\n",
        "    nn.Linear(512, 2)  #2 classes ----/\n",
        ")\n",
        "model2 = model_parent.to(device)\n",
        "\n",
        "# Define the dropout layer to be added\n",
        "dropout_layer = nn.Dropout(0.3)\n",
        "\n",
        "# Get the reference to the existing layer\n",
        "old_conv = model2.head[7]\n",
        "\n",
        "# Create a new sequential module with the dropout layer followed by the existing layer\n",
        "new_conv = nn.Sequential(\n",
        "    old_conv, dropout_layer\n",
        ")\n",
        "# Update the model with the new sequential module\n",
        "model2.head[7] = new_conv\n",
        "\n",
        "print(model2.head)\n",
        "\n",
        "checkpoint = torch.load(\"/content/DeiT_CNN.pt\", map_location=torch.device('cpu'))\n",
        "optimizer = torch.optim.AdamW(model2.head.parameters(), lr=0.001, weight_decay=0.1)\n",
        "model2.load_state_dict(checkpoint['model_state_dict'])\n",
        "optimizer.load_state_dict(checkpoint['optimizer_state_dict'])\n",
        "criterion = LabelSmoothingCrossEntropy()\n",
        "criterion = criterion.to(device)\n",
        "optimizer.param_groups[0]['weight_decay'] = 0.1"
      ],
      "metadata": {
        "colab": {
          "base_uri": "https://localhost:8080/"
        },
        "id": "W2cjwJdMwnEh",
        "outputId": "8ddfafa4-7b7e-4e03-d47f-3e495e1f1205"
      },
      "execution_count": null,
      "outputs": [
        {
          "output_type": "stream",
          "name": "stderr",
          "text": [
            "Downloading: \"https://github.com/facebookresearch/deit/zipball/main\" to /root/.cache/torch/hub/main.zip\n",
            "Downloading: \"https://dl.fbaipublicfiles.com/deit/deit_small_patch16_224-cd65a155.pth\" to /root/.cache/torch/hub/checkpoints/deit_small_patch16_224-cd65a155.pth\n",
            "100%|██████████| 84.2M/84.2M [00:00<00:00, 160MB/s]\n"
          ]
        },
        {
          "output_type": "stream",
          "name": "stdout",
          "text": [
            "Sequential(\n",
            "  (0): Linear(in_features=384, out_features=2048, bias=True)\n",
            "  (1): ReLU()\n",
            "  (2): Dropout(p=0.3, inplace=False)\n",
            "  (3): Linear(in_features=2048, out_features=1524, bias=True)\n",
            "  (4): ReLU()\n",
            "  (5): Linear(in_features=1524, out_features=1024, bias=True)\n",
            "  (6): Dropout(p=0.25, inplace=False)\n",
            "  (7): Sequential(\n",
            "    (0): Linear(in_features=1024, out_features=800, bias=True)\n",
            "    (1): Dropout(p=0.3, inplace=False)\n",
            "  )\n",
            "  (8): Linear(in_features=800, out_features=512, bias=True)\n",
            "  (9): Linear(in_features=512, out_features=2, bias=True)\n",
            ")\n"
          ]
        }
      ]
    },
    {
      "cell_type": "code",
      "source": [
        "def predict_fps(vid_id1):\n",
        "  global model2\n",
        "  transform = T.Compose([ # We dont need augmentation for test transforms\n",
        "              T.Resize(256),\n",
        "              T.CenterCrop(224),\n",
        "              T.ToTensor(),\n",
        "              T.Normalize((0.485, 0.456, 0.406), (0.229, 0.224, 0.225)), # imagenet means\n",
        "          ])\n",
        "  filepath=[\"/content/TestFolderCNN/\"]\n",
        "  list1=[]\n",
        "  fw = 1\n",
        "  ll=[]\n",
        "  !rm -r TestFolder_I/.ipynb_checkpoints > /dev/null 2>&1\n",
        "  lenfolder = len([entry for entry in os.listdir(filepath[0]) if os.path.isfile(os.path.join(filepath[0], entry))])\n",
        "  while fw <= lenfolder:\n",
        "      fw2 = vid_id1+'_'+str(fw)+'.jpg'\n",
        "      temp=str(filepath[0])+fw2\n",
        "      #print(temp)\n",
        "      image1=Image.open(temp)\n",
        "      image1=transform(image1)\n",
        "      image1=image1.view(1,3,224,224)\n",
        "      image1=image1.cuda()             #Removee cuda() if using cpu\n",
        "      model2.eval()\n",
        "      output=model2(image1)\n",
        "      prediction=int(torch.max(output.cpu().data,1)[1].numpy())    #torch.softmax(output, dim=1)\n",
        "      list1.append(prediction)\n",
        "      fw+=1\n",
        "  !rm -r TestFolderCNN\n",
        "  return list1\n",
        "\n",
        "\n",
        "\n",
        "def preprocess_frames(vid_id):\n",
        "  folder_path = './TestFolderCNN'\n",
        "  os.makedirs(folder_path, exist_ok=True)\n",
        "  os.listdir('.')\n",
        "  vid_id1=vid_id\n",
        "  str_command1 = f''' ! ffmpeg -i $(yt-dlp -f worstvideo --get-url \"https://www.youtube.com/watch?v={vid_id1}\") -vf fps=1 /content/TestFolderCNN/{vid_id1}_%d.jpg > /dev/null 2>&1 '''\n",
        "  os.system(str_command1)\n",
        "  list1 = predict_fps(vid_id1)\n",
        "  return list1"
      ],
      "metadata": {
        "id": "cNEOPpI2wvo8"
      },
      "execution_count": null,
      "outputs": []
    },
    {
      "cell_type": "code",
      "source": [
        "def DeLT_Calculate(vid_id):\n",
        "  make_captions(vid_id)\n",
        "\n",
        "  yt_test_timeseries=vid_process(vid_id)\n",
        "  final_lstm_prediction(yt_test_timeseries)\n",
        "\n",
        "  preprocess_framesii = preprocess_frames(vid_id)\n",
        "  calculate_timerangeDeiT(preprocess_framesii)"
      ],
      "metadata": {
        "id": "rPTAiI6kIk5c"
      },
      "execution_count": null,
      "outputs": []
    },
    {
      "cell_type": "code",
      "source": [
        "DeLT_Calculate('RFfIjOOJbcM')\n",
        "print(DistilBert)\n",
        "print(LSTM)\n",
        "#print(DeiT) #340-420"
      ],
      "metadata": {
        "colab": {
          "base_uri": "https://localhost:8080/"
        },
        "id": "LFzaQSahIk9H",
        "outputId": "3c0d9037-b2a4-42ae-aef5-02b5c7551615"
      },
      "execution_count": null,
      "outputs": [
        {
          "output_type": "stream",
          "name": "stdout",
          "text": [
            "[youtube] Extracting URL: https://www.youtube.com/watch?v=RFfIjOOJbcM\n",
            "[youtube] RFfIjOOJbcM: Downloading webpage\n",
            "[youtube] RFfIjOOJbcM: Downloading android player API JSON\n",
            "[info] RFfIjOOJbcM: Downloading subtitles: en\n",
            "[info] RFfIjOOJbcM: Downloading 1 format(s): 248+251\n",
            "[info] Writing video subtitles to: /content/TestFolder1/RFfIjOOJbcM.en.vtt\n",
            "[download] Destination: /content/TestFolder1/RFfIjOOJbcM.en.vtt\n",
            "[download] 100% of   11.93KiB in 00:00:00 at 386.53KiB/s\n",
            "Processing captions...\n",
            "100.00% elapsed: 0:00:00, remaining: 0:00:00"
          ]
        },
        {
          "output_type": "stream",
          "name": "stderr",
          "text": [
            "Opening /content/TestFolder2/data.1.json.gz for reading...\n",
            "Closed /content/TestFolder2/data.1.json.gz.\n",
            "  0%|          | 0/1 [00:00<?, ?it/s]"
          ]
        },
        {
          "output_type": "stream",
          "name": "stdout",
          "text": [
            "Input Video ID: RFfIjOOJbcM\n"
          ]
        },
        {
          "output_type": "stream",
          "name": "stderr",
          "text": [
            "100%|██████████| 1/1 [00:00<00:00,  1.41it/s]"
          ]
        },
        {
          "output_type": "stream",
          "name": "stdout",
          "text": [
            "p1 [(68, 73), (None, None)]\n"
          ]
        },
        {
          "output_type": "stream",
          "name": "stderr",
          "text": [
            "\n"
          ]
        },
        {
          "output_type": "stream",
          "name": "stdout",
          "text": [
            "(0, 0)\n",
            "(0, 0)\n"
          ]
        }
      ]
    },
    {
      "cell_type": "code",
      "source": [
        "DeLT_Calculate('7Qi6oIOHbDg')\n",
        "print(DistilBert)\n",
        "print(LSTM)\n",
        "print(DeiT) #247-300"
      ],
      "metadata": {
        "colab": {
          "base_uri": "https://localhost:8080/"
        },
        "id": "faoEupysP1uT",
        "outputId": "39c26ada-89fe-4b67-a0be-7e06a2a738c0"
      },
      "execution_count": null,
      "outputs": [
        {
          "output_type": "stream",
          "name": "stdout",
          "text": [
            "1/1 [==============================] - 0s 48ms/step\n",
            "[(2, 95, 98)]\n",
            "0\n",
            "(286, 295)\n",
            "0\n"
          ]
        }
      ]
    },
    {
      "cell_type": "code",
      "source": [
        "DeLT_Calculate('5CUBJgknoW0')  #no spons no time g\n",
        "print(DistilBert)\n",
        "print(LSTM)\n",
        "print(DeiT)"
      ],
      "metadata": {
        "colab": {
          "base_uri": "https://localhost:8080/"
        },
        "id": "YrWhpssOrg0i",
        "outputId": "5b1d357b-53c4-4e0c-d9ed-535722c7bd50"
      },
      "execution_count": null,
      "outputs": [
        {
          "output_type": "stream",
          "name": "stdout",
          "text": [
            "1/1 [==============================] - 0s 69ms/step\n",
            "0\n",
            "(0, 0)\n",
            "0\n"
          ]
        }
      ]
    },
    {
      "cell_type": "code",
      "source": [
        "DeLT_Calculate('p1F0bMlGkXU')  #no spons no time g no sub\n",
        "print(DistilBert)\n",
        "print(LSTM)\n",
        "print(DeiT)"
      ],
      "metadata": {
        "colab": {
          "base_uri": "https://localhost:8080/"
        },
        "id": "BRrltobnrg-I",
        "outputId": "22b8e3dd-8857-4359-ddf9-d1a47687966a"
      },
      "execution_count": null,
      "outputs": [
        {
          "output_type": "stream",
          "name": "stdout",
          "text": [
            "[youtube] Extracting URL: https://www.youtube.com/watch?v=p1F0bMlGkXU\n",
            "[youtube] p1F0bMlGkXU: Downloading webpage\n",
            "[youtube] p1F0bMlGkXU: Downloading android player API JSON\n",
            "[info] p1F0bMlGkXU: Downloading 1 format(s): 303+251\n",
            "[info] There's no subtitles for the requested languages\n",
            "[youtube] Extracting URL: https://www.youtube.com/watch?v=p1F0bMlGkXU\n",
            "[youtube] p1F0bMlGkXU: Downloading webpage\n",
            "[youtube] p1F0bMlGkXU: Downloading android player API JSON\n",
            "[info] p1F0bMlGkXU: Downloading subtitles: en\n",
            "[info] p1F0bMlGkXU: Downloading 1 format(s): 303+251\n",
            "[info] Writing video subtitles to: /content/TestFolder1/p1F0bMlGkXU.en.vtt\n",
            "[download] Destination: /content/TestFolder1/p1F0bMlGkXU.en.vtt\n",
            "[download] 100% of   14.60KiB in 00:00:00 at 107.49KiB/s\n",
            "Processing captions...\n",
            "100.00% elapsed: 0:00:00, remaining: 0:00:00"
          ]
        },
        {
          "output_type": "stream",
          "name": "stderr",
          "text": [
            "Opening /content/TestFolder2/data.1.json.gz for reading...\n",
            "Closed /content/TestFolder2/data.1.json.gz.\n",
            "  0%|          | 0/1 [00:00<?, ?it/s]"
          ]
        },
        {
          "output_type": "stream",
          "name": "stdout",
          "text": [
            "Input Video ID: p1F0bMlGkXU\n"
          ]
        },
        {
          "output_type": "stream",
          "name": "stderr",
          "text": [
            "100%|██████████| 1/1 [00:28<00:00, 28.70s/it]"
          ]
        },
        {
          "output_type": "stream",
          "name": "stdout",
          "text": [
            "p1 [(25, 27)]\n",
            "p2 []\n",
            "\tPredicted = (0, 0)\n"
          ]
        },
        {
          "output_type": "stream",
          "name": "stderr",
          "text": [
            "\n"
          ]
        },
        {
          "output_type": "stream",
          "name": "stdout",
          "text": [
            "1/1 [==============================] - 0s 63ms/step\n",
            "(0, 0)\n",
            "(0, 0)\n",
            "(436, 457)\n"
          ]
        }
      ]
    },
    {
      "cell_type": "code",
      "source": [
        "DeLT_Calculate('E5HRvQNg4pQ')  #263-320\n",
        "print(DistilBert)\n",
        "print(LSTM)\n",
        "print(DeiT)"
      ],
      "metadata": {
        "colab": {
          "base_uri": "https://localhost:8080/"
        },
        "id": "4pw1rfWdswtW",
        "outputId": "a9a9627a-80b1-4582-afe9-e71488fb1a74"
      },
      "execution_count": null,
      "outputs": [
        {
          "output_type": "stream",
          "name": "stdout",
          "text": [
            "1/1 [==============================] - 0s 64ms/step\n",
            "[(10, 16, 27), (14, 38, 53), (3, 55, 60), (3, 95, 98)]\n",
            "0\n",
            "(54, 92)\n",
            "0\n"
          ]
        }
      ]
    },
    {
      "cell_type": "code",
      "source": [
        "DeLT_Calculate('IoTL9xZOdP0')\n",
        "print(DistilBert)\n",
        "print(LSTM)\n",
        "print(DeiT)"
      ],
      "metadata": {
        "colab": {
          "base_uri": "https://localhost:8080/"
        },
        "id": "rRvHqyrIswv7",
        "outputId": "a92fef97-ee5a-4eba-e197-8a184040c1c1"
      },
      "execution_count": null,
      "outputs": [
        {
          "output_type": "stream",
          "name": "stdout",
          "text": [
            "[youtube] Extracting URL: https://www.youtube.com/watch?v=IoTL9xZOdP0\n",
            "[youtube] IoTL9xZOdP0: Downloading webpage\n",
            "[youtube] IoTL9xZOdP0: Downloading android player API JSON\n",
            "[info] IoTL9xZOdP0: Downloading 1 format(s): 248+251\n",
            "[info] There's no subtitles for the requested languages\n",
            "[youtube] Extracting URL: https://www.youtube.com/watch?v=IoTL9xZOdP0\n",
            "[youtube] IoTL9xZOdP0: Downloading webpage\n",
            "[youtube] IoTL9xZOdP0: Downloading android player API JSON\n",
            "[info] IoTL9xZOdP0: Downloading 1 format(s): 248+251\n",
            "[info] There's no subtitles for the requested languages\n",
            "1/1 [==============================] - 0s 82ms/step\n",
            "(0, 0)\n",
            "[(4, 43, 49), (1, 72, 74), (1, 92, 95)]\n",
            "(531, 545)\n"
          ]
        }
      ]
    },
    {
      "cell_type": "markdown",
      "source": [
        "#FINAL WEIGHTS"
      ],
      "metadata": {
        "id": "GrH5RKabvPq9"
      }
    },
    {
      "cell_type": "code",
      "execution_count": null,
      "metadata": {
        "id": "roTu-m_lGiiT"
      },
      "outputs": [],
      "source": [
        "def finalmerge(in1,in2,in3):  #flow chart, avg duration\n",
        "  if in1!=None and in2!=None and in3!=None:\n",
        "    try:\n",
        "      final=(int(in1[0]*0.8+in2[0]*0.05+in3[0]*0.15),int(in1[1]*0.8+in2[1]*0.05+in3[1]*0.15))\n",
        "    except:\n",
        "      final=(int(in3[0]*0.85+in2[0]*0.15),int(in3[1]*0.85+in2[1]*0.15))\n",
        "    # final=list(final)\n",
        "    if (in2[1]==0 and in3[1]==0):\n",
        "       final=(in1[0],in1[1])\n",
        "    if (in1[0]==0 and in1[1]==0):\n",
        "      final=(0,0)\n",
        "    if (final[1]-final[0]<=0 and final[1]!=None or final[0]!=None):\n",
        "      final=(0,0)\n",
        "    else:\n",
        "      final=(0,0)\n",
        "    print(\"ALL Available\")\n",
        "  elif in1!=None and in2==None and in3!=None:\n",
        "    try:\n",
        "      final=(int(in1[0]*0.65+in3[0]*0.35),int(in1[1]*0.65+in3[1]*0.35))\n",
        "    except:\n",
        "       final=(in3[0],in3[1])\n",
        "    #if (in1[0]==0 and in1[1]==0):\n",
        "    #  final=(0,0)\n",
        "    print(\"NLP & CNN Available\")\n",
        "  elif in2!=None and in1==None and in3!=None:\n",
        "    final=(int(in2[0]*0.1+in3[0]*0.9),int(in2[1]*0.1+in3[1]*0.9))\n",
        "    if (in2[0]==0 and in2[1]==0):\n",
        "      final=(in3[0],in3[1])\n",
        "    print(\"LSTM & CNN Available\")\n",
        "  elif in2==None and in1==None and in3!=None:\n",
        "    final=(in3[0],in3[1])\n",
        "    print(\"Only CNN Available\")\n",
        "  else:\n",
        "      print('oopsieee:',type(in1),type(in2),type(in3))\n",
        "      final=(0,0)\n",
        "\n",
        "  return final"
      ]
    },
    {
      "cell_type": "code",
      "source": [
        "from termcolor import colored\n",
        "IOU=[]\n",
        "accu=[]\n",
        "pred_labels = np.empty(0)\n",
        "actual_labels = np.empty(0)\n",
        "def create_iou(start_gt,end_gt,len_gt,start_pred,end_pred,len_pred,length_in_seconds):\n",
        "    global IOU,accu,pred_labels,actual_labels\n",
        "\n",
        "    # Step 1: Convert the range format to individual values\n",
        "\n",
        "    prediction_values = list(range(start_pred, end_pred + 1))\n",
        "    ground_truth_values = list(range(start_gt, end_gt + 1))\n",
        "\n",
        "    overlap_threshold = 0.4  # Adjust this threshold based on your problem\n",
        "    num_matches = sum(1 for val in prediction_values if val in ground_truth_values)\n",
        "    accuracy = num_matches / len(ground_truth_values)\n",
        "    accu.append(accuracy)\n",
        "    bigtemp=length_in_seconds\n",
        "    acc_gt_labels = np.zeros(bigtemp, dtype=bool)\n",
        "    acc_pred_labels = np.zeros(bigtemp, dtype=bool)\n",
        "    for i in range(start_gt,end_gt + 1):\n",
        "      try:\n",
        "        acc_gt_labels[i] = True\n",
        "      except:\n",
        "        pass\n",
        "    for i in range(start_pred,end_pred + 1):\n",
        "      try:\n",
        "        acc_pred_labels[i] = True\n",
        "      except:\n",
        "        pass\n",
        "\n",
        "    actual_labels = np.append(actual_labels,acc_gt_labels)\n",
        "    pred_labels = np.append(pred_labels,acc_pred_labels)\n",
        "\n",
        "    #numerator = max(0,min(end_pred,end_gt))\n",
        "    #denominator = len_gt+len_pred-numerator\n",
        "\n",
        "    intersection_lower = max(start_pred, start_gt)\n",
        "    intersection_upper = min(end_pred, end_gt)\n",
        "\n",
        "    intersection_width = intersection_upper - intersection_lower + 1 #(smoothing)  Predicted=(95, 110),Expected=[[0, 2]]\n",
        "    if intersection_width<0:\n",
        "      intersection_width=0\n",
        "    union_width = max(end_pred, end_gt) - min(start_pred, start_gt) + 1\n",
        "    final_iou = intersection_width / union_width\n",
        "    #final_iou = numerator/denominator\n",
        "    IOU.append(final_iou)\n",
        "def get_video_length(url):\n",
        "  try:\n",
        "    with yt_dlp.YoutubeDL({}) as ydl:\n",
        "        info = ydl.extract_info(url, download=False)\n",
        "        duration = info.get('duration', 0)\n",
        "        return int(duration)\n",
        "  except:\n",
        "    return 1000\n",
        "\n",
        "\n",
        "def evaluate_FINALE(videos, eps=5, window_duration=10):\n",
        "    from tqdm.auto import tqdm\n",
        "    global IOU,actual_labels,pred_labels\n",
        "    IOU.clear()\n",
        "    #predicted_labels = np.empty(0)\n",
        "    #actual_labels = np.empty(0)\n",
        "\n",
        "    # Values for our close match metric (exact match with threshold)\n",
        "    # Number of matches\n",
        "\n",
        "    # Number of predicted ranges\n",
        "    total_predicted_ranges = 0\n",
        "    iterate=0\n",
        "\n",
        "    for video_id,captions,sponsor_ranges in tqdm(videos):\n",
        "        length_in_seconds = get_video_length(video_id)\n",
        "        if length_in_seconds < 901:\n",
        "          iterate+=1\n",
        "          print(colored(f'{video_id} {sponsor_ranges}', None, 'on_magenta'))\n",
        "          #sponsor_times = [(captions[start].start, captions[end].end) for start, end in sponsor_ranges]\n",
        "          predicted_sponsor_times = []\n",
        "\n",
        "          DeLT_Calculate(video_id)\n",
        "          iter = 0\n",
        "          temp1=0\n",
        "          predicted_sponsor_ranges = finalmerge(DistilBert,LSTM,DeiT)\n",
        "          if len(sponsor_ranges) > 1:\n",
        "            for i in sponsor_ranges:\n",
        "              temp=i[1]-i[0]\n",
        "              if temp>temp1:\n",
        "                temp1=temp\n",
        "                sponsor_ranges.clear()\n",
        "                sponsor_ranges.append(i)\n",
        "              elif temp == temp1 and iter>0:\n",
        "                temp1=temp\n",
        "                sponsor_ranges.clear()\n",
        "                sponsor_ranges.append(i)\n",
        "              iter +=1\n",
        "\n",
        "            print('After reshape: ',sponsor_ranges)\n",
        "          if len(sponsor_ranges) > 0:\n",
        "            sponsor_rangesii = np.reshape(sponsor_ranges, (2))\n",
        "          else:\n",
        "            sponsor_ranges = [[0,0]]\n",
        "            sponsor_rangesii=(0,0)\n",
        "          start_gt = sponsor_rangesii[0]\n",
        "          start_pred = predicted_sponsor_ranges[0]\n",
        "          end_gt = sponsor_rangesii[1]\n",
        "          end_pred = predicted_sponsor_ranges[1]\n",
        "          len_pred = end_pred - start_pred\n",
        "          len_gt = end_gt-start_gt\n",
        "          #print(start_gt, start_pred, end_gt, end_pred, len_pred, len_gt)  #0 95 2 110 15 2    53 241 73 246 5 20\n",
        "          start_gt,end_gt,len_gt,start_pred,end_pred,len_pred = int(start_gt),int(end_gt),int(len_gt),int(start_pred),int(end_pred),int(len_pred)\n",
        "          create_iou(start_gt,end_gt,len_gt,start_pred,end_pred,len_pred,length_in_seconds)\n",
        "          print('NLP:',DistilBert)\n",
        "          print('LSTM:',LSTM)\n",
        "          print('DeiT',DeiT)\n",
        "          #predicted_sponsor_ranges = [get_intersection_range(captions, *pair[1]) for pair in predicted_sponsor_times]\n",
        "          #predicted_labels = np.append(predicted_labels, create_labels_from_range(captions, predicted_sponsor_ranges))\n",
        "          #actual_labels = np.append(actual_labels, create_labels_from_range(captions, sponsor_ranges))\n",
        "\n",
        "          print(f'\\tPredicted={predicted_sponsor_ranges},\\n\\tExpected={sponsor_ranges}')\n",
        "\n",
        "          if iterate % 10 == 0:\n",
        "            npIOU = np.array(IOU)\n",
        "            newIOU=np.mean(npIOU)\n",
        "            print('IOU:',newIOU)\n",
        "\n",
        "            print('Confusion matrix', confusion_matrix(actual_labels, pred_labels))\n",
        "            print('Accuracy', accuracy_score(actual_labels, pred_labels))\n",
        "            print('Precision', precision_score(actual_labels, pred_labels))\n",
        "            print('Recall', recall_score(actual_labels, pred_labels))\n",
        "        else:\n",
        "          pass\n",
        "\n",
        "    npIOU = np.array(IOU)\n",
        "    newIOU=np.mean(npIOU)\n",
        "    print('IOU:',newIOU)\n",
        "    print('Accuracy:',accu)\n",
        "    print('Confusion matrix', confusion_matrix(actual_labels, pred_labels))\n",
        "    print('Accuracy', accuracy_score(actual_labels, pred_labels))\n",
        "    print('Precision', precision_score(actual_labels, pred_labels))\n",
        "    print('Recall', recall_score(actual_labels, pred_labels))"
      ],
      "metadata": {
        "id": "1fThZSCE3taf"
      },
      "execution_count": null,
      "outputs": []
    },
    {
      "cell_type": "code",
      "execution_count": null,
      "metadata": {
        "colab": {
          "base_uri": "https://localhost:8080/"
        },
        "id": "iIkwL3zIe75x",
        "outputId": "613d45b3-c2cb-4f4c-f0ff-fa0674c9ab9f"
      },
      "outputs": [
        {
          "output_type": "stream",
          "name": "stderr",
          "text": [
            "Opening /content/drive/MyDrive/JSON/data.16.json.gz for reading...\n"
          ]
        }
      ],
      "source": [
        "test_videos = list(itertools.islice(load_data_from_chunks('data', '/content/drive/MyDrive/JSON', [16]), 1, 501))"
      ]
    },
    {
      "cell_type": "code",
      "source": [
        "len(test_videos)"
      ],
      "metadata": {
        "colab": {
          "base_uri": "https://localhost:8080/"
        },
        "id": "_V7TaE-YGEg3",
        "outputId": "ecab569d-215f-4471-a131-8ee30ce37fb6"
      },
      "execution_count": null,
      "outputs": [
        {
          "output_type": "execute_result",
          "data": {
            "text/plain": [
              "500"
            ]
          },
          "metadata": {},
          "execution_count": 29
        }
      ]
    },
    {
      "cell_type": "code",
      "source": [
        "evaluate_FINALE(test_videos)  #latest 1/6/23 8:15 PM  #highest IOU: 65.6%"
      ],
      "metadata": {
        "colab": {
          "base_uri": "https://localhost:8080/",
          "height": 1000,
          "referenced_widgets": [
            "b542645c17774832a53d38e64e809428",
            "801c0220375241d59813318cf3e50d2b",
            "6f3de048d0764a20b64ae232f853c1df",
            "02d54eb8710c468999a81cb58ac968e7",
            "1125f30cac8e4763a3e7b7bfc8fff5a8",
            "d31dd0282ff94d0bbd4ef1402d57188b",
            "373de9900c1842a6b8320ff5ac7e29db",
            "0b9a53c05e7445439225b8ebfb9b5b01",
            "1a16981cb7864a60b6fdfdc147dc3af3",
            "ae7a8a52735049e0afe3d00c4495d677",
            "65cde305698b4351bcb6c6b377797708"
          ]
        },
        "id": "L5_BRfdDEPIj",
        "outputId": "15592a19-f97d-4c5e-dab5-b026d9985326"
      },
      "execution_count": null,
      "outputs": [
        {
          "output_type": "display_data",
          "data": {
            "text/plain": [
              "  0%|          | 0/500 [00:00<?, ?it/s]"
            ],
            "application/vnd.jupyter.widget-view+json": {
              "version_major": 2,
              "version_minor": 0,
              "model_id": "b542645c17774832a53d38e64e809428"
            }
          },
          "metadata": {}
        },
        {
          "output_type": "stream",
          "name": "stdout",
          "text": [
            "[youtube] Extracting URL: 79rP8OJ-Wao\n",
            "[youtube] 79rP8OJ-Wao: Downloading webpage\n",
            "[youtube] 79rP8OJ-Wao: Downloading android player API JSON\n",
            "[youtube] Extracting URL: L0TM5FWgBWk\n",
            "[youtube] L0TM5FWgBWk: Downloading webpage\n",
            "[youtube] L0TM5FWgBWk: Downloading android player API JSON\n",
            "L0TM5FWgBWk []\n",
            "[youtube] Extracting URL: https://www.youtube.com/watch?v=L0TM5FWgBWk\n",
            "[youtube] L0TM5FWgBWk: Downloading webpage\n",
            "[youtube] L0TM5FWgBWk: Downloading android player API JSON\n",
            "[info] L0TM5FWgBWk: Downloading 1 format(s): 313+251\n",
            "[info] There's no subtitles for the requested languages\n",
            "[youtube] Extracting URL: https://www.youtube.com/watch?v=L0TM5FWgBWk\n",
            "[youtube] L0TM5FWgBWk: Downloading webpage\n",
            "[youtube] L0TM5FWgBWk: Downloading android player API JSON\n",
            "[info] L0TM5FWgBWk: Downloading subtitles: en\n",
            "[info] L0TM5FWgBWk: Downloading 1 format(s): 313+251\n",
            "[info] Writing video subtitles to: /content/TestFolder1/L0TM5FWgBWk.en.vtt\n",
            "[download] Destination: /content/TestFolder1/L0TM5FWgBWk.en.vtt\n",
            "[download] 100% of   59.64KiB in 00:00:00 at 759.89KiB/s\n",
            "Processing captions...\n",
            "100.00% elapsed: 0:00:00, remaining: 0:00:00"
          ]
        },
        {
          "output_type": "stream",
          "name": "stderr",
          "text": [
            "Opening /content/TestFolder2/data.1.json.gz for reading...\n",
            "Closed /content/TestFolder2/data.1.json.gz.\n",
            "\n",
            "  0%|          | 0/1 [00:00<?, ?it/s]\u001b[A"
          ]
        },
        {
          "output_type": "stream",
          "name": "stdout",
          "text": [
            "Input Video ID: L0TM5FWgBWk\n"
          ]
        },
        {
          "output_type": "stream",
          "name": "stderr",
          "text": [
            "\n",
            "100%|██████████| 1/1 [00:01<00:00,  1.26s/it]"
          ]
        },
        {
          "output_type": "stream",
          "name": "stdout",
          "text": [
            "p1 []\n",
            "p2 []\n"
          ]
        },
        {
          "output_type": "stream",
          "name": "stderr",
          "text": [
            "\n"
          ]
        },
        {
          "output_type": "stream",
          "name": "stdout",
          "text": [
            "NLP & CNN Available\n",
            "NLP: (0, 0)\n",
            "LSTM: None\n",
            "DeiT (101, 118)\n",
            "\tPredicted=(30, 35),\n",
            "\tExpected=[[0, 0]]\n",
            "[youtube] Extracting URL: j3I9FaMk8oQ\n",
            "[youtube] j3I9FaMk8oQ: Downloading webpage\n",
            "[youtube] j3I9FaMk8oQ: Downloading android player API JSON\n",
            "j3I9FaMk8oQ []\n",
            "[youtube] Extracting URL: https://www.youtube.com/watch?v=j3I9FaMk8oQ\n",
            "[youtube] j3I9FaMk8oQ: Downloading webpage\n",
            "[youtube] j3I9FaMk8oQ: Downloading android player API JSON\n",
            "[info] j3I9FaMk8oQ: Downloading 1 format(s): 248+251\n",
            "[info] There's no subtitles for the requested languages\n",
            "[youtube] Extracting URL: https://www.youtube.com/watch?v=j3I9FaMk8oQ\n",
            "[youtube] j3I9FaMk8oQ: Downloading webpage\n",
            "[youtube] j3I9FaMk8oQ: Downloading android player API JSON\n",
            "[info] j3I9FaMk8oQ: Downloading subtitles: en\n",
            "[info] j3I9FaMk8oQ: Downloading 1 format(s): 248+251\n",
            "[info] Writing video subtitles to: /content/TestFolder1/j3I9FaMk8oQ.en.vtt\n",
            "[download] Destination: /content/TestFolder1/j3I9FaMk8oQ.en.vtt\n",
            "[download] 100% of  105.38KiB in 00:00:00 at 809.40KiB/s\n",
            "Processing captions...\n",
            "100.00% elapsed: 0:00:00, remaining: 0:00:00"
          ]
        },
        {
          "output_type": "stream",
          "name": "stderr",
          "text": [
            "Opening /content/TestFolder2/data.1.json.gz for reading...\n",
            "Closed /content/TestFolder2/data.1.json.gz.\n",
            "\n",
            "  0%|          | 0/1 [00:00<?, ?it/s]\u001b[A"
          ]
        },
        {
          "output_type": "stream",
          "name": "stdout",
          "text": [
            "Input Video ID: j3I9FaMk8oQ\n"
          ]
        },
        {
          "output_type": "stream",
          "name": "stderr",
          "text": [
            "\n",
            "100%|██████████| 1/1 [00:01<00:00,  1.03s/it]"
          ]
        },
        {
          "output_type": "stream",
          "name": "stdout",
          "text": [
            "p1 [(76, 80)]\n",
            "p2 [(76, 80)]\n"
          ]
        },
        {
          "output_type": "stream",
          "name": "stderr",
          "text": [
            "\n"
          ]
        },
        {
          "output_type": "stream",
          "name": "stdout",
          "text": [
            "NLP & CNN Available\n",
            "NLP: (76, 80)\n",
            "LSTM: None\n",
            "DeiT (0, 0)\n",
            "\tPredicted=(53, 56),\n",
            "\tExpected=[[0, 0]]\n",
            "[youtube] Extracting URL: M7wo_iDz3I0\n",
            "[youtube] M7wo_iDz3I0: Downloading webpage\n",
            "[youtube] M7wo_iDz3I0: Downloading android player API JSON\n",
            "[youtube] Extracting URL: RBjS8T9r5Jo\n",
            "[youtube] RBjS8T9r5Jo: Downloading webpage\n",
            "[youtube] RBjS8T9r5Jo: Downloading android player API JSON\n",
            "[youtube] Extracting URL: bniDWbGbgyI\n",
            "[youtube] bniDWbGbgyI: Downloading webpage\n",
            "[youtube] bniDWbGbgyI: Downloading android player API JSON\n",
            "bniDWbGbgyI []\n",
            "[youtube] Extracting URL: https://www.youtube.com/watch?v=bniDWbGbgyI\n",
            "[youtube] bniDWbGbgyI: Downloading webpage\n",
            "[youtube] bniDWbGbgyI: Downloading android player API JSON\n",
            "[info] bniDWbGbgyI: Downloading 1 format(s): 248+251\n",
            "[info] There's no subtitles for the requested languages\n",
            "[youtube] Extracting URL: https://www.youtube.com/watch?v=bniDWbGbgyI\n",
            "[youtube] bniDWbGbgyI: Downloading webpage\n",
            "[youtube] bniDWbGbgyI: Downloading android player API JSON\n",
            "[info] bniDWbGbgyI: Downloading subtitles: en\n",
            "[info] bniDWbGbgyI: Downloading 1 format(s): 248+251\n",
            "[info] Writing video subtitles to: /content/TestFolder1/bniDWbGbgyI.en.vtt\n",
            "[download] Destination: /content/TestFolder1/bniDWbGbgyI.en.vtt\n",
            "[download] 100% of  128.68KiB in 00:00:00 at 1.31MiB/s\n",
            "Processing captions...\n",
            "100.00% elapsed: 0:00:00, remaining: 0:00:00"
          ]
        },
        {
          "output_type": "stream",
          "name": "stderr",
          "text": [
            "Opening /content/TestFolder2/data.1.json.gz for reading...\n",
            "Closed /content/TestFolder2/data.1.json.gz.\n",
            "\n",
            "  0%|          | 0/1 [00:00<?, ?it/s]\u001b[A"
          ]
        },
        {
          "output_type": "stream",
          "name": "stdout",
          "text": [
            "Input Video ID: bniDWbGbgyI\n"
          ]
        },
        {
          "output_type": "stream",
          "name": "stderr",
          "text": [
            "\n",
            "100%|██████████| 1/1 [00:01<00:00,  1.16s/it]"
          ]
        },
        {
          "output_type": "stream",
          "name": "stdout",
          "text": [
            "p1 [(17, 21), (52, 57), (64, 69), (363, 369)]\n",
            "p2 [(17, 21), (52, 57), (64, 69), (363, 369)]\n"
          ]
        },
        {
          "output_type": "stream",
          "name": "stderr",
          "text": [
            "\n"
          ]
        },
        {
          "output_type": "stream",
          "name": "stdout",
          "text": [
            "NLP & CNN Available\n",
            "NLP: (363, 369)\n",
            "LSTM: None\n",
            "DeiT (45, 60)\n",
            "\tPredicted=(267, 276),\n",
            "\tExpected=[[0, 0]]\n",
            "[youtube] Extracting URL: owwZW90gKdc\n",
            "[youtube] owwZW90gKdc: Downloading webpage\n",
            "[youtube] owwZW90gKdc: Downloading android player API JSON\n",
            "owwZW90gKdc []\n",
            "[youtube] Extracting URL: https://www.youtube.com/watch?v=owwZW90gKdc\n",
            "[youtube] owwZW90gKdc: Downloading webpage\n",
            "[youtube] owwZW90gKdc: Downloading android player API JSON\n",
            "[info] owwZW90gKdc: Downloading 1 format(s): 313+251\n",
            "[info] There's no subtitles for the requested languages\n",
            "[youtube] Extracting URL: https://www.youtube.com/watch?v=owwZW90gKdc\n",
            "[youtube] owwZW90gKdc: Downloading webpage\n",
            "[youtube] owwZW90gKdc: Downloading android player API JSON\n",
            "[info] owwZW90gKdc: Downloading subtitles: en\n",
            "[info] owwZW90gKdc: Downloading 1 format(s): 313+251\n",
            "[info] Writing video subtitles to: /content/TestFolder1/owwZW90gKdc.en.vtt\n",
            "[download] Destination: /content/TestFolder1/owwZW90gKdc.en.vtt\n",
            "[download] 100% of   62.32KiB in 00:00:00 at 1.29MiB/s\n",
            "Processing captions...\n",
            "100.00% elapsed: 0:00:00, remaining: 0:00:00"
          ]
        },
        {
          "output_type": "stream",
          "name": "stderr",
          "text": [
            "Opening /content/TestFolder2/data.1.json.gz for reading...\n",
            "Closed /content/TestFolder2/data.1.json.gz.\n",
            "\n",
            "  0%|          | 0/1 [00:00<?, ?it/s]\u001b[A"
          ]
        },
        {
          "output_type": "stream",
          "name": "stdout",
          "text": [
            "Input Video ID: owwZW90gKdc\n"
          ]
        },
        {
          "output_type": "stream",
          "name": "stderr",
          "text": [
            "\n",
            "100%|██████████| 1/1 [00:00<00:00,  1.85it/s]"
          ]
        },
        {
          "output_type": "stream",
          "name": "stdout",
          "text": [
            "p1 [(0, 5), (130, 148), (167, 172)]\n",
            "p2 [(0, 5), (130, 148), (167, 172)]\n"
          ]
        },
        {
          "output_type": "stream",
          "name": "stderr",
          "text": [
            "\n"
          ]
        },
        {
          "output_type": "stream",
          "name": "stdout",
          "text": [
            "NLP & CNN Available\n",
            "NLP: (130, 148)\n",
            "LSTM: None\n",
            "DeiT (9, 25)\n",
            "\tPredicted=(93, 111),\n",
            "\tExpected=[[0, 0]]\n",
            "[youtube] Extracting URL: Q3wlc5ln_fc\n",
            "[youtube] Q3wlc5ln_fc: Downloading webpage\n",
            "[youtube] Q3wlc5ln_fc: Downloading android player API JSON\n",
            "Q3wlc5ln_fc [[0.0, 4.5]]\n",
            "[youtube] Extracting URL: https://www.youtube.com/watch?v=Q3wlc5ln_fc\n",
            "[youtube] Q3wlc5ln_fc: Downloading webpage\n",
            "[youtube] Q3wlc5ln_fc: Downloading android player API JSON\n",
            "[info] Q3wlc5ln_fc: Downloading 1 format(s): 248+251\n",
            "[info] There's no subtitles for the requested languages\n",
            "[youtube] Extracting URL: https://www.youtube.com/watch?v=Q3wlc5ln_fc\n",
            "[youtube] Q3wlc5ln_fc: Downloading webpage\n",
            "[youtube] Q3wlc5ln_fc: Downloading android player API JSON\n",
            "[info] Q3wlc5ln_fc: Downloading subtitles: en\n",
            "[info] Q3wlc5ln_fc: Downloading 1 format(s): 248+251\n",
            "[info] Writing video subtitles to: /content/TestFolder1/Q3wlc5ln_fc.en.vtt\n",
            "[download] Destination: /content/TestFolder1/Q3wlc5ln_fc.en.vtt\n",
            "[download] 100% of   68.85KiB in 00:00:00 at 249.56KiB/s\n",
            "Processing captions...\n",
            "100.00% elapsed: 0:00:00, remaining: 0:00:00"
          ]
        },
        {
          "output_type": "stream",
          "name": "stderr",
          "text": [
            "Opening /content/TestFolder2/data.1.json.gz for reading...\n",
            "Closed /content/TestFolder2/data.1.json.gz.\n",
            "\n",
            "  0%|          | 0/1 [00:00<?, ?it/s]\u001b[A"
          ]
        },
        {
          "output_type": "stream",
          "name": "stdout",
          "text": [
            "Input Video ID: Q3wlc5ln_fc\n"
          ]
        },
        {
          "output_type": "stream",
          "name": "stderr",
          "text": [
            "\n",
            "100%|██████████| 1/1 [00:00<00:00,  1.45it/s]"
          ]
        },
        {
          "output_type": "stream",
          "name": "stdout",
          "text": [
            "p1 [(0, 6), (46, 57)]\n",
            "p2 [(0, 6), (46, 57)]\n"
          ]
        },
        {
          "output_type": "stream",
          "name": "stderr",
          "text": [
            "\n"
          ]
        },
        {
          "output_type": "stream",
          "name": "stdout",
          "text": [
            "1/1 [==============================] - 2s 2s/step\n",
            "ALL Available\n",
            "NLP: (46, 57)\n",
            "LSTM: (0, 47)\n",
            "DeiT (315, 330)\n",
            "\tPredicted=(0, 0),\n",
            "\tExpected=[[0.0, 4.5]]\n",
            "[youtube] Extracting URL: 57NsxSjSWLQ\n",
            "[youtube] 57NsxSjSWLQ: Downloading webpage\n",
            "[youtube] 57NsxSjSWLQ: Downloading android player API JSON\n"
          ]
        },
        {
          "output_type": "stream",
          "name": "stderr",
          "text": [
            "ERROR: [youtube] 57NsxSjSWLQ: Video unavailable\n"
          ]
        },
        {
          "output_type": "stream",
          "name": "stdout",
          "text": [
            "[youtube] Extracting URL: vUIC74dpA-Q\n",
            "[youtube] vUIC74dpA-Q: Downloading webpage\n",
            "[youtube] vUIC74dpA-Q: Downloading android player API JSON\n",
            "vUIC74dpA-Q []\n",
            "[youtube] Extracting URL: https://www.youtube.com/watch?v=vUIC74dpA-Q\n",
            "[youtube] vUIC74dpA-Q: Downloading webpage\n",
            "[youtube] vUIC74dpA-Q: Downloading android player API JSON\n",
            "[info] vUIC74dpA-Q: Downloading 1 format(s): 248+251\n",
            "[info] There's no subtitles for the requested languages\n",
            "[youtube] Extracting URL: https://www.youtube.com/watch?v=vUIC74dpA-Q\n",
            "[youtube] vUIC74dpA-Q: Downloading webpage\n",
            "[youtube] vUIC74dpA-Q: Downloading android player API JSON\n",
            "[info] vUIC74dpA-Q: Downloading subtitles: en\n",
            "[info] vUIC74dpA-Q: Downloading 1 format(s): 248+251\n",
            "[info] Writing video subtitles to: /content/TestFolder1/vUIC74dpA-Q.en.vtt\n",
            "[download] Destination: /content/TestFolder1/vUIC74dpA-Q.en.vtt\n",
            "[download] 100% of  103.13KiB in 00:00:00 at 1.87MiB/s\n",
            "Processing captions...\n",
            "100.00% elapsed: 0:00:00, remaining: 0:00:00"
          ]
        },
        {
          "output_type": "stream",
          "name": "stderr",
          "text": [
            "Opening /content/TestFolder2/data.1.json.gz for reading...\n",
            "Closed /content/TestFolder2/data.1.json.gz.\n",
            "\n",
            "  0%|          | 0/1 [00:00<?, ?it/s]\u001b[A"
          ]
        },
        {
          "output_type": "stream",
          "name": "stdout",
          "text": [
            "Input Video ID: vUIC74dpA-Q\n"
          ]
        },
        {
          "output_type": "stream",
          "name": "stderr",
          "text": [
            "\n",
            "100%|██████████| 1/1 [00:01<00:00,  1.19s/it]"
          ]
        },
        {
          "output_type": "stream",
          "name": "stdout",
          "text": [
            "p1 [(0, 2), (50, 59), (65, 70)]\n",
            "p2 [(0, 2), (50, 59), (65, 70)]\n"
          ]
        },
        {
          "output_type": "stream",
          "name": "stderr",
          "text": [
            "\n"
          ]
        },
        {
          "output_type": "stream",
          "name": "stdout",
          "text": [
            "NLP & CNN Available\n",
            "NLP: (50, 59)\n",
            "LSTM: None\n",
            "DeiT (99, 113)\n",
            "\tPredicted=(64, 75),\n",
            "\tExpected=[[0, 0]]\n",
            "[youtube] Extracting URL: 83aD5OR_Dak\n",
            "[youtube] 83aD5OR_Dak: Downloading webpage\n",
            "[youtube] 83aD5OR_Dak: Downloading android player API JSON\n",
            "83aD5OR_Dak [[113.264, 166.68]]\n",
            "[youtube] Extracting URL: https://www.youtube.com/watch?v=83aD5OR_Dak\n",
            "[youtube] 83aD5OR_Dak: Downloading webpage\n",
            "[youtube] 83aD5OR_Dak: Downloading android player API JSON\n",
            "[info] 83aD5OR_Dak: Downloading 1 format(s): 248+251\n",
            "[info] There's no subtitles for the requested languages\n",
            "[youtube] Extracting URL: https://www.youtube.com/watch?v=83aD5OR_Dak\n",
            "[youtube] 83aD5OR_Dak: Downloading webpage\n",
            "[youtube] 83aD5OR_Dak: Downloading android player API JSON\n",
            "[info] 83aD5OR_Dak: Downloading subtitles: en\n",
            "[info] 83aD5OR_Dak: Downloading 1 format(s): 248+251\n",
            "[info] Writing video subtitles to: /content/TestFolder1/83aD5OR_Dak.en.vtt\n",
            "[download] Destination: /content/TestFolder1/83aD5OR_Dak.en.vtt\n",
            "[download] 100% of   87.59KiB in 00:00:00 at 1.10MiB/s\n",
            "Processing captions...\n",
            "100.00% elapsed: 0:00:00, remaining: 0:00:00"
          ]
        },
        {
          "output_type": "stream",
          "name": "stderr",
          "text": [
            "Opening /content/TestFolder2/data.1.json.gz for reading...\n",
            "Closed /content/TestFolder2/data.1.json.gz.\n",
            "\n",
            "  0%|          | 0/1 [00:00<?, ?it/s]\u001b[A"
          ]
        },
        {
          "output_type": "stream",
          "name": "stdout",
          "text": [
            "Input Video ID: 83aD5OR_Dak\n"
          ]
        },
        {
          "output_type": "stream",
          "name": "stderr",
          "text": [
            "\n",
            "100%|██████████| 1/1 [00:01<00:00,  1.10s/it]"
          ]
        },
        {
          "output_type": "stream",
          "name": "stdout",
          "text": [
            "p1 [(18, 22), (64, 68), (103, 108), (273, 279)]\n",
            "p2 [(18, 22), (64, 68), (103, 108), (273, 279)]\n"
          ]
        },
        {
          "output_type": "stream",
          "name": "stderr",
          "text": [
            "\n"
          ]
        },
        {
          "output_type": "stream",
          "name": "stdout",
          "text": [
            "1/1 [==============================] - 0s 33ms/step\n",
            "ALL Available\n",
            "NLP: (273, 279)\n",
            "LSTM: (499, 512)\n",
            "DeiT (0, 0)\n",
            "\tPredicted=(0, 0),\n",
            "\tExpected=[[113.264, 166.68]]\n",
            "[youtube] Extracting URL: -4ztcBC6G2g\n",
            "[youtube] -4ztcBC6G2g: Downloading webpage\n",
            "[youtube] -4ztcBC6G2g: Downloading android player API JSON\n",
            "[youtube] Extracting URL: JlOYmzpihcw\n",
            "[youtube] JlOYmzpihcw: Downloading webpage\n",
            "[youtube] JlOYmzpihcw: Downloading android player API JSON\n",
            "JlOYmzpihcw [[61.46674, 77.31985]]\n",
            "[youtube] Extracting URL: https://www.youtube.com/watch?v=JlOYmzpihcw\n",
            "[youtube] JlOYmzpihcw: Downloading webpage\n",
            "[youtube] JlOYmzpihcw: Downloading android player API JSON\n",
            "[info] JlOYmzpihcw: Downloading 1 format(s): 248+251\n",
            "[info] There's no subtitles for the requested languages\n",
            "[youtube] Extracting URL: https://www.youtube.com/watch?v=JlOYmzpihcw\n",
            "[youtube] JlOYmzpihcw: Downloading webpage\n",
            "[youtube] JlOYmzpihcw: Downloading android player API JSON\n",
            "[info] JlOYmzpihcw: Downloading subtitles: en\n",
            "[info] JlOYmzpihcw: Downloading 1 format(s): 248+251\n",
            "[info] Writing video subtitles to: /content/TestFolder1/JlOYmzpihcw.en.vtt\n",
            "[download] Destination: /content/TestFolder1/JlOYmzpihcw.en.vtt\n",
            "[download] 100% of    9.45KiB in 00:00:00 at 342.06KiB/s\n",
            "Processing captions...\n",
            "100.00% elapsed: 0:00:00, remaining: 0:00:00"
          ]
        },
        {
          "output_type": "stream",
          "name": "stderr",
          "text": [
            "Opening /content/TestFolder2/data.1.json.gz for reading...\n",
            "Closed /content/TestFolder2/data.1.json.gz.\n",
            "\n",
            "  0%|          | 0/1 [00:00<?, ?it/s]\u001b[A"
          ]
        },
        {
          "output_type": "stream",
          "name": "stdout",
          "text": [
            "Input Video ID: JlOYmzpihcw\n"
          ]
        },
        {
          "output_type": "stream",
          "name": "stderr",
          "text": [
            "\n",
            "100%|██████████| 1/1 [00:00<00:00,  5.93it/s]"
          ]
        },
        {
          "output_type": "stream",
          "name": "stdout",
          "text": [
            "p1 [(20, 24)]\n",
            "p2 [(20, 24)]\n"
          ]
        },
        {
          "output_type": "stream",
          "name": "stderr",
          "text": [
            "\n"
          ]
        },
        {
          "output_type": "stream",
          "name": "stdout",
          "text": [
            "1/1 [==============================] - 0s 27ms/step\n",
            "ALL Available\n",
            "NLP: (20, 24)\n",
            "LSTM: (51, 54)\n",
            "DeiT (21, 44)\n",
            "\tPredicted=(0, 0),\n",
            "\tExpected=[[61.46674, 77.31985]]\n",
            "[youtube] Extracting URL: WZRqN_8QPvM\n",
            "[youtube] WZRqN_8QPvM: Downloading webpage\n",
            "[youtube] WZRqN_8QPvM: Downloading android player API JSON\n",
            "WZRqN_8QPvM []\n",
            "[youtube] Extracting URL: https://www.youtube.com/watch?v=WZRqN_8QPvM\n",
            "[youtube] WZRqN_8QPvM: Downloading webpage\n",
            "[youtube] WZRqN_8QPvM: Downloading android player API JSON\n",
            "[info] WZRqN_8QPvM: Downloading 1 format(s): 313+251\n",
            "[info] There's no subtitles for the requested languages\n",
            "[youtube] Extracting URL: https://www.youtube.com/watch?v=WZRqN_8QPvM\n",
            "[youtube] WZRqN_8QPvM: Downloading webpage\n",
            "[youtube] WZRqN_8QPvM: Downloading android player API JSON\n",
            "[info] WZRqN_8QPvM: Downloading subtitles: en\n",
            "[info] WZRqN_8QPvM: Downloading 1 format(s): 313+251\n",
            "[info] Writing video subtitles to: /content/TestFolder1/WZRqN_8QPvM.en.vtt\n",
            "[download] Destination: /content/TestFolder1/WZRqN_8QPvM.en.vtt\n",
            "[download] 100% of   32.35KiB in 00:00:00 at 157.57KiB/s\n",
            "Processing captions...\n",
            "100.00% elapsed: 0:00:00, remaining: 0:00:00"
          ]
        },
        {
          "output_type": "stream",
          "name": "stderr",
          "text": [
            "Opening /content/TestFolder2/data.1.json.gz for reading...\n",
            "Closed /content/TestFolder2/data.1.json.gz.\n",
            "\n",
            "  0%|          | 0/1 [00:00<?, ?it/s]\u001b[A"
          ]
        },
        {
          "output_type": "stream",
          "name": "stdout",
          "text": [
            "Input Video ID: WZRqN_8QPvM\n"
          ]
        },
        {
          "output_type": "stream",
          "name": "stderr",
          "text": [
            "\n",
            "100%|██████████| 1/1 [00:00<00:00,  1.78it/s]"
          ]
        },
        {
          "output_type": "stream",
          "name": "stdout",
          "text": [
            "p1 [(63, 65)]\n",
            "p2 [(63, 65)]\n"
          ]
        },
        {
          "output_type": "stream",
          "name": "stderr",
          "text": [
            "\n"
          ]
        },
        {
          "output_type": "stream",
          "name": "stdout",
          "text": [
            "1/1 [==============================] - 0s 43ms/step\n",
            "ALL Available\n",
            "NLP: (63, 65)\n",
            "LSTM: (304, 314)\n",
            "DeiT (0, 0)\n",
            "\tPredicted=(0, 0),\n",
            "\tExpected=[[0, 0]]\n",
            "[youtube] Extracting URL: cZrJuHxcSc8\n",
            "[youtube] cZrJuHxcSc8: Downloading webpage\n",
            "[youtube] cZrJuHxcSc8: Downloading android player API JSON\n",
            "[youtube] Extracting URL: 1QLM1be2G68\n",
            "[youtube] 1QLM1be2G68: Downloading webpage\n",
            "[youtube] 1QLM1be2G68: Downloading android player API JSON\n",
            "[youtube] 1QLM1be2G68: Downloading MPD manifest\n",
            "1QLM1be2G68 []\n",
            "[youtube] Extracting URL: https://www.youtube.com/watch?v=1QLM1be2G68\n",
            "[youtube] 1QLM1be2G68: Downloading webpage\n",
            "[youtube] 1QLM1be2G68: Downloading android player API JSON\n",
            "[youtube] 1QLM1be2G68: Downloading MPD manifest\n",
            "[info] 1QLM1be2G68: Downloading 1 format(s): 248+251\n",
            "[info] There's no subtitles for the requested languages\n",
            "[youtube] Extracting URL: https://www.youtube.com/watch?v=1QLM1be2G68\n",
            "[youtube] 1QLM1be2G68: Downloading webpage\n",
            "[youtube] 1QLM1be2G68: Downloading android player API JSON\n",
            "[youtube] 1QLM1be2G68: Downloading MPD manifest\n",
            "[info] 1QLM1be2G68: Downloading subtitles: en\n",
            "[info] 1QLM1be2G68: Downloading 1 format(s): 248+251\n",
            "[info] Writing video subtitles to: /content/TestFolder1/1QLM1be2G68.en.vtt\n",
            "[download] Destination: /content/TestFolder1/1QLM1be2G68.en.vtt\n",
            "[download] 100% of   99.84KiB in 00:00:00 at 847.86KiB/s\n",
            "Processing captions...\n",
            "100.00% elapsed: 0:00:00, remaining: 0:00:00"
          ]
        },
        {
          "output_type": "stream",
          "name": "stderr",
          "text": [
            "Opening /content/TestFolder2/data.1.json.gz for reading...\n",
            "Closed /content/TestFolder2/data.1.json.gz.\n",
            "\n",
            "  0%|          | 0/1 [00:00<?, ?it/s]\u001b[A"
          ]
        },
        {
          "output_type": "stream",
          "name": "stdout",
          "text": [
            "Input Video ID: 1QLM1be2G68\n"
          ]
        },
        {
          "output_type": "stream",
          "name": "stderr",
          "text": [
            "\n",
            "100%|██████████| 1/1 [00:01<00:00,  1.17s/it]"
          ]
        },
        {
          "output_type": "stream",
          "name": "stdout",
          "text": [
            "p1 [(11, 15), (22, 27), (177, 182)]\n",
            "p2 [(11, 15), (22, 27), (177, 182)]\n"
          ]
        },
        {
          "output_type": "stream",
          "name": "stderr",
          "text": [
            "\n"
          ]
        },
        {
          "output_type": "stream",
          "name": "stdout",
          "text": [
            "NLP & CNN Available\n",
            "NLP: (177, 182)\n",
            "LSTM: None\n",
            "DeiT (121, 138)\n",
            "\tPredicted=(160, 168),\n",
            "\tExpected=[[0, 0]]\n",
            "IOU: 0.32\n",
            "Confusion matrix [[4996   62]\n",
            " [  81    2]]\n",
            "Accuracy 0.9721843999221941\n",
            "Precision 0.03125\n",
            "Recall 0.024096385542168676\n",
            "[youtube] Extracting URL: PULbm9z630I\n",
            "[youtube] PULbm9z630I: Downloading webpage\n",
            "[youtube] PULbm9z630I: Downloading android player API JSON\n",
            "[youtube] Extracting URL: qtqFLHhAQsU\n",
            "[youtube] qtqFLHhAQsU: Downloading webpage\n",
            "[youtube] qtqFLHhAQsU: Downloading android player API JSON\n",
            "[youtube] Extracting URL: 6YqpaYSmlDw\n",
            "[youtube] 6YqpaYSmlDw: Downloading webpage\n",
            "[youtube] 6YqpaYSmlDw: Downloading android player API JSON\n",
            "[youtube] 6YqpaYSmlDw: Downloading player bbe1b497\n",
            "6YqpaYSmlDw []\n",
            "[youtube] Extracting URL: https://www.youtube.com/watch?v=6YqpaYSmlDw\n",
            "[youtube] 6YqpaYSmlDw: Downloading webpage\n",
            "[youtube] 6YqpaYSmlDw: Downloading android player API JSON\n",
            "[youtube] 6YqpaYSmlDw: Downloading player f55759b8\n",
            "[info] 6YqpaYSmlDw: Downloading 1 format(s): 135+251\n",
            "[info] There's no subtitles for the requested languages\n",
            "[youtube] Extracting URL: https://www.youtube.com/watch?v=6YqpaYSmlDw\n",
            "[youtube] 6YqpaYSmlDw: Downloading webpage\n",
            "[youtube] 6YqpaYSmlDw: Downloading android player API JSON\n",
            "[info] 6YqpaYSmlDw: Downloading subtitles: en\n",
            "[info] 6YqpaYSmlDw: Downloading 1 format(s): 135+251\n",
            "[info] Writing video subtitles to: /content/TestFolder1/6YqpaYSmlDw.en.vtt\n",
            "[download] Destination: /content/TestFolder1/6YqpaYSmlDw.en.vtt\n",
            "[download] 100% of   10.73KiB in 00:00:00 at 50.51KiB/s\n",
            "Processing captions...\n",
            "100.00% elapsed: 0:00:00, remaining: 0:00:00"
          ]
        },
        {
          "output_type": "stream",
          "name": "stderr",
          "text": [
            "Opening /content/TestFolder2/data.1.json.gz for reading...\n",
            "Closed /content/TestFolder2/data.1.json.gz.\n",
            "\n",
            "  0%|          | 0/1 [00:00<?, ?it/s]\u001b[A"
          ]
        },
        {
          "output_type": "stream",
          "name": "stdout",
          "text": [
            "Input Video ID: 6YqpaYSmlDw\n"
          ]
        },
        {
          "output_type": "stream",
          "name": "stderr",
          "text": [
            "\n",
            "100%|██████████| 1/1 [00:00<00:00,  5.04it/s]"
          ]
        },
        {
          "output_type": "stream",
          "name": "stdout",
          "text": [
            "p1 []\n",
            "p2 []\n"
          ]
        },
        {
          "output_type": "stream",
          "name": "stderr",
          "text": [
            "\n"
          ]
        },
        {
          "output_type": "stream",
          "name": "stdout",
          "text": [
            "NLP & CNN Available\n",
            "NLP: (0, 0)\n",
            "LSTM: None\n",
            "DeiT (0, 0)\n",
            "\tPredicted=(0, 0),\n",
            "\tExpected=[[0, 0]]\n",
            "[youtube] Extracting URL: nkAyggAM1q4\n",
            "[youtube] nkAyggAM1q4: Downloading webpage\n",
            "[youtube] nkAyggAM1q4: Downloading android player API JSON\n",
            "nkAyggAM1q4 []\n",
            "[youtube] Extracting URL: https://www.youtube.com/watch?v=nkAyggAM1q4\n",
            "[youtube] nkAyggAM1q4: Downloading webpage\n",
            "[youtube] nkAyggAM1q4: Downloading android player API JSON\n",
            "[info] nkAyggAM1q4: Downloading subtitles: en\n",
            "[info] nkAyggAM1q4: Downloading 1 format(s): 303+251\n",
            "[info] Writing video subtitles to: /content/TestFolder1/nkAyggAM1q4.en.vtt\n",
            "[download] Destination: /content/TestFolder1/nkAyggAM1q4.en.vtt\n",
            "[download] 100% of   16.85KiB in 00:00:00 at 518.51KiB/s\n",
            "Processing captions...\n",
            "100.00% elapsed: 0:00:00, remaining: 0:00:00"
          ]
        },
        {
          "output_type": "stream",
          "name": "stderr",
          "text": [
            "Opening /content/TestFolder2/data.1.json.gz for reading...\n",
            "Closed /content/TestFolder2/data.1.json.gz.\n",
            "\n",
            "  0%|          | 0/1 [00:00<?, ?it/s]\u001b[A"
          ]
        },
        {
          "output_type": "stream",
          "name": "stdout",
          "text": [
            "Input Video ID: nkAyggAM1q4\n"
          ]
        },
        {
          "output_type": "stream",
          "name": "stderr",
          "text": [
            "\n",
            "100%|██████████| 1/1 [00:01<00:00,  1.33s/it]"
          ]
        },
        {
          "output_type": "stream",
          "name": "stdout",
          "text": [
            "p1 [(248, 252)]\n",
            "p2 [(248, 252)]\n"
          ]
        },
        {
          "output_type": "stream",
          "name": "stderr",
          "text": [
            "\n"
          ]
        },
        {
          "output_type": "stream",
          "name": "stdout",
          "text": [
            "1/1 [==============================] - 0s 48ms/step\n",
            "ALL Available\n",
            "NLP: (248, 252)\n",
            "LSTM: (0, 0)\n",
            "DeiT (532, 548)\n",
            "\tPredicted=(0, 0),\n",
            "\tExpected=[[0, 0]]\n",
            "[youtube] Extracting URL: iTeE9etnohE\n",
            "[youtube] iTeE9etnohE: Downloading webpage\n",
            "[youtube] iTeE9etnohE: Downloading android player API JSON\n",
            "iTeE9etnohE []\n",
            "[youtube] Extracting URL: https://www.youtube.com/watch?v=iTeE9etnohE\n",
            "[youtube] iTeE9etnohE: Downloading webpage\n",
            "[youtube] iTeE9etnohE: Downloading android player API JSON\n",
            "[info] iTeE9etnohE: Downloading 1 format(s): 313+251\n",
            "[info] There's no subtitles for the requested languages\n",
            "[youtube] Extracting URL: https://www.youtube.com/watch?v=iTeE9etnohE\n",
            "[youtube] iTeE9etnohE: Downloading webpage\n",
            "[youtube] iTeE9etnohE: Downloading android player API JSON\n",
            "[info] iTeE9etnohE: Downloading subtitles: en\n",
            "[info] iTeE9etnohE: Downloading 1 format(s): 313+251\n",
            "[info] Writing video subtitles to: /content/TestFolder1/iTeE9etnohE.en.vtt\n",
            "[download] Destination: /content/TestFolder1/iTeE9etnohE.en.vtt\n",
            "[download] 100% of   96.05KiB in 00:00:00 at 1.80MiB/s\n",
            "Processing captions...\n",
            "100.00% elapsed: 0:00:00, remaining: 0:00:00"
          ]
        },
        {
          "output_type": "stream",
          "name": "stderr",
          "text": [
            "Opening /content/TestFolder2/data.1.json.gz for reading...\n",
            "Closed /content/TestFolder2/data.1.json.gz.\n",
            "\n",
            "  0%|          | 0/1 [00:00<?, ?it/s]\u001b[A"
          ]
        },
        {
          "output_type": "stream",
          "name": "stdout",
          "text": [
            "Input Video ID: iTeE9etnohE\n"
          ]
        },
        {
          "output_type": "stream",
          "name": "stderr",
          "text": [
            "\n",
            "100%|██████████| 1/1 [00:00<00:00,  1.00it/s]"
          ]
        },
        {
          "output_type": "stream",
          "name": "stdout",
          "text": [
            "p1 [(18, 23), (60, 65)]\n",
            "p2 [(18, 23), (60, 65)]\n"
          ]
        },
        {
          "output_type": "stream",
          "name": "stderr",
          "text": [
            "\n"
          ]
        },
        {
          "output_type": "stream",
          "name": "stdout",
          "text": [
            "1/1 [==============================] - 0s 35ms/step\n",
            "ALL Available\n",
            "NLP: (60, 65)\n",
            "LSTM: (533, 550)\n",
            "DeiT (36, 52)\n",
            "\tPredicted=(0, 0),\n",
            "\tExpected=[[0, 0]]\n",
            "[youtube] Extracting URL: scf7Przmh7c\n",
            "[youtube] scf7Przmh7c: Downloading webpage\n",
            "[youtube] scf7Przmh7c: Downloading android player API JSON\n",
            "[youtube] Extracting URL: gjLSfTo2kSU\n",
            "[youtube] gjLSfTo2kSU: Downloading webpage\n",
            "[youtube] gjLSfTo2kSU: Downloading android player API JSON\n",
            "gjLSfTo2kSU []\n",
            "[youtube] Extracting URL: https://www.youtube.com/watch?v=gjLSfTo2kSU\n",
            "[youtube] gjLSfTo2kSU: Downloading webpage\n",
            "[youtube] gjLSfTo2kSU: Downloading android player API JSON\n",
            "[info] gjLSfTo2kSU: Downloading 1 format(s): 248+251\n",
            "[info] There's no subtitles for the requested languages\n",
            "[youtube] Extracting URL: https://www.youtube.com/watch?v=gjLSfTo2kSU\n",
            "[youtube] gjLSfTo2kSU: Downloading webpage\n",
            "[youtube] gjLSfTo2kSU: Downloading android player API JSON\n",
            "[info] gjLSfTo2kSU: Downloading subtitles: en\n",
            "[info] gjLSfTo2kSU: Downloading 1 format(s): 248+251\n",
            "[info] Writing video subtitles to: /content/TestFolder1/gjLSfTo2kSU.en.vtt\n",
            "[download] Destination: /content/TestFolder1/gjLSfTo2kSU.en.vtt\n",
            "[download] 100% of   38.62KiB in 00:00:00 at 170.54KiB/s\n",
            "Processing captions...\n",
            "100.00% elapsed: 0:00:00, remaining: 0:00:00"
          ]
        },
        {
          "output_type": "stream",
          "name": "stderr",
          "text": [
            "Opening /content/TestFolder2/data.1.json.gz for reading...\n",
            "Closed /content/TestFolder2/data.1.json.gz.\n",
            "\n",
            "  0%|          | 0/1 [00:00<?, ?it/s]\u001b[A"
          ]
        },
        {
          "output_type": "stream",
          "name": "stdout",
          "text": [
            "Input Video ID: gjLSfTo2kSU\n"
          ]
        },
        {
          "output_type": "stream",
          "name": "stderr",
          "text": [
            "\n",
            "100%|██████████| 1/1 [00:00<00:00,  1.28it/s]"
          ]
        },
        {
          "output_type": "stream",
          "name": "stdout",
          "text": [
            "p1 [(9, 10), (16, 20), (31, 32), (44, 46), (50, 52), (103, 108)]\n",
            "p2 [(9, 10), (16, 20), (31, 32), (44, 46), (50, 52), (103, 108)]\n"
          ]
        },
        {
          "output_type": "stream",
          "name": "stderr",
          "text": [
            "\n"
          ]
        },
        {
          "output_type": "stream",
          "name": "stdout",
          "text": [
            "NLP & CNN Available\n",
            "NLP: (103, 108)\n",
            "LSTM: None\n",
            "DeiT (423, 437)\n",
            "\tPredicted=(199, 206),\n",
            "\tExpected=[[0, 0]]\n",
            "[youtube] Extracting URL: pitWnQHYDaQ\n",
            "[youtube] pitWnQHYDaQ: Downloading webpage\n",
            "[youtube] pitWnQHYDaQ: Downloading android player API JSON\n",
            "pitWnQHYDaQ []\n",
            "[youtube] Extracting URL: https://www.youtube.com/watch?v=pitWnQHYDaQ\n",
            "[youtube] pitWnQHYDaQ: Downloading webpage\n",
            "[youtube] pitWnQHYDaQ: Downloading android player API JSON\n",
            "[info] pitWnQHYDaQ: Downloading 1 format(s): 248+251\n",
            "[info] There's no subtitles for the requested languages\n",
            "[youtube] Extracting URL: https://www.youtube.com/watch?v=pitWnQHYDaQ\n",
            "[youtube] pitWnQHYDaQ: Downloading webpage\n",
            "[youtube] pitWnQHYDaQ: Downloading android player API JSON\n",
            "[info] pitWnQHYDaQ: Downloading subtitles: en\n",
            "[info] pitWnQHYDaQ: Downloading 1 format(s): 248+251\n",
            "[info] Writing video subtitles to: /content/TestFolder1/pitWnQHYDaQ.en.vtt\n",
            "[download] Destination: /content/TestFolder1/pitWnQHYDaQ.en.vtt\n",
            "[download] 100% of  114.27KiB in 00:00:00 at 413.30KiB/s\n",
            "Processing captions...\n",
            "100.00% elapsed: 0:00:00, remaining: 0:00:00"
          ]
        },
        {
          "output_type": "stream",
          "name": "stderr",
          "text": [
            "Opening /content/TestFolder2/data.1.json.gz for reading...\n",
            "Closed /content/TestFolder2/data.1.json.gz.\n",
            "\n",
            "  0%|          | 0/1 [00:00<?, ?it/s]\u001b[A"
          ]
        },
        {
          "output_type": "stream",
          "name": "stdout",
          "text": [
            "Input Video ID: pitWnQHYDaQ\n"
          ]
        },
        {
          "output_type": "stream",
          "name": "stderr",
          "text": [
            "\n",
            "100%|██████████| 1/1 [00:01<00:00,  1.17s/it]"
          ]
        },
        {
          "output_type": "stream",
          "name": "stdout",
          "text": [
            "p1 [(75, 82), (89, 98)]\n",
            "p2 [(75, 82), (89, 98)]\n"
          ]
        },
        {
          "output_type": "stream",
          "name": "stderr",
          "text": [
            "\n"
          ]
        },
        {
          "output_type": "stream",
          "name": "stdout",
          "text": [
            "1/1 [==============================] - 0s 26ms/step\n",
            "ALL Available\n",
            "NLP: (89, 98)\n",
            "LSTM: (0, 0)\n",
            "DeiT (0, 0)\n",
            "\tPredicted=(0, 0),\n",
            "\tExpected=[[0, 0]]\n",
            "[youtube] Extracting URL: 1ieox-juk4o\n",
            "[youtube] 1ieox-juk4o: Downloading webpage\n",
            "[youtube] 1ieox-juk4o: Downloading android player API JSON\n",
            "[youtube] Extracting URL: Djt2Br1SYP0\n",
            "[youtube] Djt2Br1SYP0: Downloading webpage\n",
            "[youtube] Djt2Br1SYP0: Downloading android player API JSON\n",
            "[youtube] Djt2Br1SYP0: Downloading MPD manifest\n",
            "Djt2Br1SYP0 []\n",
            "[youtube] Extracting URL: https://www.youtube.com/watch?v=Djt2Br1SYP0\n",
            "[youtube] Djt2Br1SYP0: Downloading webpage\n",
            "[youtube] Djt2Br1SYP0: Downloading android player API JSON\n",
            "[youtube] Djt2Br1SYP0: Downloading MPD manifest\n",
            "[info] Djt2Br1SYP0: Downloading 1 format(s): 248+251\n",
            "[info] There's no subtitles for the requested languages\n",
            "[youtube] Extracting URL: https://www.youtube.com/watch?v=Djt2Br1SYP0\n",
            "[youtube] Djt2Br1SYP0: Downloading webpage\n",
            "[youtube] Djt2Br1SYP0: Downloading android player API JSON\n",
            "[youtube] Djt2Br1SYP0: Downloading MPD manifest\n",
            "[info] Djt2Br1SYP0: Downloading subtitles: en\n",
            "[info] Djt2Br1SYP0: Downloading 1 format(s): 248+251\n",
            "[info] Writing video subtitles to: /content/TestFolder1/Djt2Br1SYP0.en.vtt\n",
            "[download] Destination: /content/TestFolder1/Djt2Br1SYP0.en.vtt\n",
            "[download] 100% of    6.02KiB in 00:00:00 at 135.72KiB/s\n",
            "Processing captions...\n",
            "100.00% elapsed: 0:00:00, remaining: 0:00:00"
          ]
        },
        {
          "output_type": "stream",
          "name": "stderr",
          "text": [
            "Opening /content/TestFolder2/data.1.json.gz for reading...\n",
            "Closed /content/TestFolder2/data.1.json.gz.\n",
            "\n",
            "  0%|          | 0/1 [00:00<?, ?it/s]\u001b[A"
          ]
        },
        {
          "output_type": "stream",
          "name": "stdout",
          "text": [
            "Input Video ID: Djt2Br1SYP0\n"
          ]
        },
        {
          "output_type": "stream",
          "name": "stderr",
          "text": [
            "\r100%|██████████| 1/1 [00:00<00:00, 10.31it/s]"
          ]
        },
        {
          "output_type": "stream",
          "name": "stdout",
          "text": [
            "p1 []\n",
            "p2 []\n"
          ]
        },
        {
          "output_type": "stream",
          "name": "stderr",
          "text": [
            "\n"
          ]
        },
        {
          "output_type": "stream",
          "name": "stdout",
          "text": [
            "NLP & CNN Available\n",
            "NLP: (0, 0)\n",
            "LSTM: None\n",
            "DeiT (0, 0)\n",
            "\tPredicted=(0, 0),\n",
            "\tExpected=[[0, 0]]\n",
            "[youtube] Extracting URL: fM0iIe08ea4\n",
            "[youtube] fM0iIe08ea4: Downloading webpage\n",
            "[youtube] fM0iIe08ea4: Downloading android player API JSON\n",
            "fM0iIe08ea4 []\n",
            "[youtube] Extracting URL: https://www.youtube.com/watch?v=fM0iIe08ea4\n",
            "[youtube] fM0iIe08ea4: Downloading webpage\n",
            "[youtube] fM0iIe08ea4: Downloading android player API JSON\n",
            "[info] fM0iIe08ea4: Downloading 1 format(s): 313+251\n",
            "[info] There's no subtitles for the requested languages\n",
            "[youtube] Extracting URL: https://www.youtube.com/watch?v=fM0iIe08ea4\n",
            "[youtube] fM0iIe08ea4: Downloading webpage\n",
            "[youtube] fM0iIe08ea4: Downloading android player API JSON\n",
            "[info] fM0iIe08ea4: Downloading subtitles: en\n",
            "[info] fM0iIe08ea4: Downloading 1 format(s): 313+251\n",
            "[info] Writing video subtitles to: /content/TestFolder1/fM0iIe08ea4.en.vtt\n",
            "[download] Destination: /content/TestFolder1/fM0iIe08ea4.en.vtt\n",
            "[download] 100% of   50.76KiB in 00:00:00 at 1.21MiB/s\n",
            "Processing captions...\n",
            "100.00% elapsed: 0:00:00, remaining: 0:00:00"
          ]
        },
        {
          "output_type": "stream",
          "name": "stderr",
          "text": [
            "Opening /content/TestFolder2/data.1.json.gz for reading...\n",
            "Closed /content/TestFolder2/data.1.json.gz.\n",
            "\n",
            "  0%|          | 0/1 [00:00<?, ?it/s]\u001b[A"
          ]
        },
        {
          "output_type": "stream",
          "name": "stdout",
          "text": [
            "Input Video ID: fM0iIe08ea4\n"
          ]
        },
        {
          "output_type": "stream",
          "name": "stderr",
          "text": [
            "\n",
            "100%|██████████| 1/1 [00:00<00:00,  1.63it/s]"
          ]
        },
        {
          "output_type": "stream",
          "name": "stdout",
          "text": [
            "p1 []\n",
            "p2 []\n"
          ]
        },
        {
          "output_type": "stream",
          "name": "stderr",
          "text": [
            "\n"
          ]
        },
        {
          "output_type": "stream",
          "name": "stdout",
          "text": [
            "1/1 [==============================] - 0s 28ms/step\n",
            "ALL Available\n",
            "NLP: (0, 0)\n",
            "LSTM: (0, 17)\n",
            "DeiT (0, 0)\n",
            "\tPredicted=(0, 0),\n",
            "\tExpected=[[0, 0]]\n",
            "[youtube] Extracting URL: H7RhYSgv7HY\n",
            "[youtube] H7RhYSgv7HY: Downloading webpage\n",
            "[youtube] H7RhYSgv7HY: Downloading android player API JSON\n",
            "H7RhYSgv7HY [[130.53802, 138.961]]\n",
            "[youtube] Extracting URL: https://www.youtube.com/watch?v=H7RhYSgv7HY\n",
            "[youtube] H7RhYSgv7HY: Downloading webpage\n",
            "[youtube] H7RhYSgv7HY: Downloading android player API JSON\n",
            "[info] H7RhYSgv7HY: Downloading 1 format(s): 247+251\n",
            "[info] There's no subtitles for the requested languages\n",
            "[youtube] Extracting URL: https://www.youtube.com/watch?v=H7RhYSgv7HY\n",
            "[youtube] H7RhYSgv7HY: Downloading webpage\n",
            "[youtube] H7RhYSgv7HY: Downloading android player API JSON\n",
            "[info] H7RhYSgv7HY: Downloading subtitles: en\n",
            "[info] H7RhYSgv7HY: Downloading 1 format(s): 247+251\n",
            "[info] Writing video subtitles to: /content/TestFolder1/H7RhYSgv7HY.en.vtt\n",
            "[download] Destination: /content/TestFolder1/H7RhYSgv7HY.en.vtt\n",
            "[download] 100% of   25.65KiB in 00:00:00 at 319.87KiB/s\n",
            "Processing captions...\n",
            "100.00% elapsed: 0:00:00, remaining: 0:00:00"
          ]
        },
        {
          "output_type": "stream",
          "name": "stderr",
          "text": [
            "Opening /content/TestFolder2/data.1.json.gz for reading...\n",
            "Closed /content/TestFolder2/data.1.json.gz.\n",
            "\n",
            "  0%|          | 0/1 [00:00<?, ?it/s]\u001b[A"
          ]
        },
        {
          "output_type": "stream",
          "name": "stdout",
          "text": [
            "Input Video ID: H7RhYSgv7HY\n"
          ]
        },
        {
          "output_type": "stream",
          "name": "stderr",
          "text": [
            "\n",
            "100%|██████████| 1/1 [00:00<00:00,  3.38it/s]"
          ]
        },
        {
          "output_type": "stream",
          "name": "stdout",
          "text": [
            "p1 []\n",
            "p2 []\n"
          ]
        },
        {
          "output_type": "stream",
          "name": "stderr",
          "text": [
            "\n"
          ]
        },
        {
          "output_type": "stream",
          "name": "stdout",
          "text": [
            "1/1 [==============================] - 0s 35ms/step\n",
            "ALL Available\n",
            "NLP: (0, 0)\n",
            "LSTM: (0, 0)\n",
            "DeiT (0, 0)\n",
            "\tPredicted=(0, 0),\n",
            "\tExpected=[[130.53802, 138.961]]\n",
            "[youtube] Extracting URL: icfE5HpJ-Fc\n",
            "[youtube] icfE5HpJ-Fc: Downloading webpage\n",
            "[youtube] icfE5HpJ-Fc: Downloading android player API JSON\n",
            "[youtube] icfE5HpJ-Fc: Downloading MPD manifest\n",
            "[youtube] Extracting URL: fJVflBWdBTI\n",
            "[youtube] fJVflBWdBTI: Downloading webpage\n",
            "[youtube] fJVflBWdBTI: Downloading android player API JSON\n",
            "[youtube] Extracting URL: H4XI7pPIbm0\n",
            "[youtube] H4XI7pPIbm0: Downloading webpage\n",
            "[youtube] H4XI7pPIbm0: Downloading android player API JSON\n",
            "[youtube] Extracting URL: dRoPtR2PmsA\n",
            "[youtube] dRoPtR2PmsA: Downloading webpage\n",
            "[youtube] dRoPtR2PmsA: Downloading android player API JSON\n",
            "[youtube] dRoPtR2PmsA: Downloading MPD manifest\n",
            "dRoPtR2PmsA []\n",
            "[youtube] Extracting URL: https://www.youtube.com/watch?v=dRoPtR2PmsA\n",
            "[youtube] dRoPtR2PmsA: Downloading webpage\n",
            "[youtube] dRoPtR2PmsA: Downloading android player API JSON\n",
            "[youtube] dRoPtR2PmsA: Downloading MPD manifest\n",
            "[info] dRoPtR2PmsA: Downloading 1 format(s): 244+251\n",
            "[info] There's no subtitles for the requested languages\n",
            "[youtube] Extracting URL: https://www.youtube.com/watch?v=dRoPtR2PmsA\n",
            "[youtube] dRoPtR2PmsA: Downloading webpage\n",
            "[youtube] dRoPtR2PmsA: Downloading android player API JSON\n",
            "[youtube] dRoPtR2PmsA: Downloading MPD manifest\n",
            "[info] dRoPtR2PmsA: Downloading subtitles: en\n",
            "[info] dRoPtR2PmsA: Downloading 1 format(s): 244+251\n",
            "[info] Writing video subtitles to: /content/TestFolder1/dRoPtR2PmsA.en.vtt\n",
            "[download] Destination: /content/TestFolder1/dRoPtR2PmsA.en.vtt\n",
            "[download] 100% of   12.25KiB in 00:00:00 at 153.44KiB/s\n",
            "Processing captions...\n",
            "100.00% elapsed: 0:00:00, remaining: 0:00:00"
          ]
        },
        {
          "output_type": "stream",
          "name": "stderr",
          "text": [
            "Opening /content/TestFolder2/data.1.json.gz for reading...\n",
            "Closed /content/TestFolder2/data.1.json.gz.\n",
            "\n",
            "  0%|          | 0/1 [00:00<?, ?it/s]\u001b[A"
          ]
        },
        {
          "output_type": "stream",
          "name": "stdout",
          "text": [
            "Input Video ID: dRoPtR2PmsA\n"
          ]
        },
        {
          "output_type": "stream",
          "name": "stderr",
          "text": [
            "\n",
            "100%|██████████| 1/1 [00:00<00:00,  4.45it/s]"
          ]
        },
        {
          "output_type": "stream",
          "name": "stdout",
          "text": [
            "p1 [(10, 13), (34, 42)]\n",
            "p2 [(10, 13), (34, 42)]\n"
          ]
        },
        {
          "output_type": "stream",
          "name": "stderr",
          "text": [
            "\n"
          ]
        },
        {
          "output_type": "stream",
          "name": "stdout",
          "text": [
            "NLP & CNN Available\n",
            "NLP: (34, 42)\n",
            "LSTM: None\n",
            "DeiT (0, 0)\n",
            "\tPredicted=(23, 29),\n",
            "\tExpected=[[0, 0]]\n",
            "[youtube] Extracting URL: zEU5rMhY5OI\n",
            "[youtube] zEU5rMhY5OI: Downloading webpage\n",
            "[youtube] zEU5rMhY5OI: Downloading android player API JSON\n",
            "[youtube] Extracting URL: LhzM6KMPf0Y\n",
            "[youtube] LhzM6KMPf0Y: Downloading webpage\n",
            "[youtube] LhzM6KMPf0Y: Downloading android player API JSON\n",
            "LhzM6KMPf0Y []\n",
            "[youtube] Extracting URL: https://www.youtube.com/watch?v=LhzM6KMPf0Y\n",
            "[youtube] LhzM6KMPf0Y: Downloading webpage\n",
            "[youtube] LhzM6KMPf0Y: Downloading android player API JSON\n",
            "[info] LhzM6KMPf0Y: Downloading 1 format(s): 137+251\n",
            "[info] There's no subtitles for the requested languages\n",
            "[youtube] Extracting URL: https://www.youtube.com/watch?v=LhzM6KMPf0Y\n",
            "[youtube] LhzM6KMPf0Y: Downloading webpage\n",
            "[youtube] LhzM6KMPf0Y: Downloading android player API JSON\n",
            "[info] LhzM6KMPf0Y: Downloading subtitles: en\n",
            "[info] LhzM6KMPf0Y: Downloading 1 format(s): 137+251\n",
            "[info] Writing video subtitles to: /content/TestFolder1/LhzM6KMPf0Y.en.vtt\n",
            "[download] Destination: /content/TestFolder1/LhzM6KMPf0Y.en.vtt\n",
            "[download] 100% of  121.46KiB in 00:00:00 at 1.32MiB/s\n",
            "Processing captions...\n",
            "100.00% elapsed: 0:00:00, remaining: 0:00:00"
          ]
        },
        {
          "output_type": "stream",
          "name": "stderr",
          "text": [
            "Opening /content/TestFolder2/data.1.json.gz for reading...\n",
            "Closed /content/TestFolder2/data.1.json.gz.\n",
            "\n",
            "  0%|          | 0/1 [00:00<?, ?it/s]\u001b[A"
          ]
        },
        {
          "output_type": "stream",
          "name": "stdout",
          "text": [
            "Input Video ID: LhzM6KMPf0Y\n"
          ]
        },
        {
          "output_type": "stream",
          "name": "stderr",
          "text": [
            "\n",
            "100%|██████████| 1/1 [00:01<00:00,  1.48s/it]"
          ]
        },
        {
          "output_type": "stream",
          "name": "stdout",
          "text": [
            "p1 [(64, 67), (76, 79)]\n",
            "p2 [(64, 67), (76, 79)]\n"
          ]
        },
        {
          "output_type": "stream",
          "name": "stderr",
          "text": [
            "\n"
          ]
        },
        {
          "output_type": "stream",
          "name": "stdout",
          "text": [
            "NLP & CNN Available\n",
            "NLP: (76, 79)\n",
            "LSTM: None\n",
            "DeiT (565, 580)\n",
            "\tPredicted=(222, 229),\n",
            "\tExpected=[[0, 0]]\n",
            "IOU: 0.56\n",
            "Confusion matrix [[9413   86]\n",
            " [  93    8]]\n",
            "Accuracy 0.9813541666666666\n",
            "Precision 0.0851063829787234\n",
            "Recall 0.07920792079207921\n",
            "[youtube] Extracting URL: fbE18wWGtYQ\n",
            "[youtube] fbE18wWGtYQ: Downloading webpage\n",
            "[youtube] fbE18wWGtYQ: Downloading android player API JSON\n",
            "[youtube] Extracting URL: JuVGdkNMd50\n",
            "[youtube] JuVGdkNMd50: Downloading webpage\n",
            "[youtube] JuVGdkNMd50: Downloading android player API JSON\n",
            "JuVGdkNMd50 []\n",
            "[youtube] Extracting URL: https://www.youtube.com/watch?v=JuVGdkNMd50\n",
            "[youtube] JuVGdkNMd50: Downloading webpage\n",
            "[youtube] JuVGdkNMd50: Downloading android player API JSON\n",
            "[info] JuVGdkNMd50: Downloading 1 format(s): 303+251\n",
            "[info] There's no subtitles for the requested languages\n",
            "[youtube] Extracting URL: https://www.youtube.com/watch?v=JuVGdkNMd50\n",
            "[youtube] JuVGdkNMd50: Downloading webpage\n",
            "[youtube] JuVGdkNMd50: Downloading android player API JSON\n",
            "[info] JuVGdkNMd50: Downloading subtitles: en\n",
            "[info] JuVGdkNMd50: Downloading 1 format(s): 303+251\n",
            "[info] Writing video subtitles to: /content/TestFolder1/JuVGdkNMd50.en.vtt\n",
            "[download] Destination: /content/TestFolder1/JuVGdkNMd50.en.vtt\n",
            "[download] 100% of   95.17KiB in 00:00:00 at 1.46MiB/s\n",
            "Processing captions...\n",
            "100.00% elapsed: 0:00:00, remaining: 0:00:00"
          ]
        },
        {
          "output_type": "stream",
          "name": "stderr",
          "text": [
            "Opening /content/TestFolder2/data.1.json.gz for reading...\n",
            "Closed /content/TestFolder2/data.1.json.gz.\n",
            "\n",
            "  0%|          | 0/1 [00:00<?, ?it/s]\u001b[A"
          ]
        },
        {
          "output_type": "stream",
          "name": "stdout",
          "text": [
            "Input Video ID: JuVGdkNMd50\n"
          ]
        },
        {
          "output_type": "stream",
          "name": "stderr",
          "text": [
            "\n",
            "100%|██████████| 1/1 [00:01<00:00,  1.16s/it]"
          ]
        },
        {
          "output_type": "stream",
          "name": "stdout",
          "text": [
            "p1 []\n",
            "p2 []\n"
          ]
        },
        {
          "output_type": "stream",
          "name": "stderr",
          "text": [
            "\n"
          ]
        },
        {
          "output_type": "stream",
          "name": "stdout",
          "text": [
            "1/1 [==============================] - 0s 40ms/step\n",
            "ALL Available\n",
            "NLP: (0, 0)\n",
            "LSTM: (0, 60)\n",
            "DeiT (122, 140)\n",
            "\tPredicted=(0, 0),\n",
            "\tExpected=[[0, 0]]\n",
            "[youtube] Extracting URL: ju8t883Qng8\n",
            "[youtube] ju8t883Qng8: Downloading webpage\n",
            "[youtube] ju8t883Qng8: Downloading android player API JSON\n",
            "[youtube] Extracting URL: i4fqGj6fz-0\n",
            "[youtube] i4fqGj6fz-0: Downloading webpage\n",
            "[youtube] i4fqGj6fz-0: Downloading android player API JSON\n",
            "i4fqGj6fz-0 [[163.215, 172.333], [280.371, 338.807]]\n",
            "[youtube] Extracting URL: https://www.youtube.com/watch?v=i4fqGj6fz-0\n",
            "[youtube] i4fqGj6fz-0: Downloading webpage\n",
            "[youtube] i4fqGj6fz-0: Downloading android player API JSON\n",
            "[info] i4fqGj6fz-0: Downloading 1 format(s): 303+251\n",
            "[info] There's no subtitles for the requested languages\n",
            "[youtube] Extracting URL: https://www.youtube.com/watch?v=i4fqGj6fz-0\n",
            "[youtube] i4fqGj6fz-0: Downloading webpage\n",
            "[youtube] i4fqGj6fz-0: Downloading android player API JSON\n",
            "[info] i4fqGj6fz-0: Downloading subtitles: en\n",
            "[info] i4fqGj6fz-0: Downloading 1 format(s): 303+251\n",
            "[info] Writing video subtitles to: /content/TestFolder1/i4fqGj6fz-0.en.vtt\n",
            "[download] Destination: /content/TestFolder1/i4fqGj6fz-0.en.vtt\n",
            "[download] 100% of  113.01KiB in 00:00:00 at 1.26MiB/s\n",
            "Processing captions...\n",
            "100.00% elapsed: 0:00:00, remaining: 0:00:00"
          ]
        },
        {
          "output_type": "stream",
          "name": "stderr",
          "text": [
            "Opening /content/TestFolder2/data.1.json.gz for reading...\n",
            "Closed /content/TestFolder2/data.1.json.gz.\n",
            "\n",
            "  0%|          | 0/1 [00:00<?, ?it/s]\u001b[A"
          ]
        },
        {
          "output_type": "stream",
          "name": "stdout",
          "text": [
            "Input Video ID: i4fqGj6fz-0\n"
          ]
        },
        {
          "output_type": "stream",
          "name": "stderr",
          "text": [
            "\n",
            "100%|██████████| 1/1 [00:01<00:00,  1.19s/it]"
          ]
        },
        {
          "output_type": "stream",
          "name": "stdout",
          "text": [
            "p1 [(70, 72), (129, 150)]\n",
            "p2 [(70, 72), (129, 150)]\n"
          ]
        },
        {
          "output_type": "stream",
          "name": "stderr",
          "text": [
            "\n"
          ]
        },
        {
          "output_type": "stream",
          "name": "stdout",
          "text": [
            "1/1 [==============================] - 0s 29ms/step\n",
            "ALL Available\n",
            "After reshape:  [[163.215, 172.333]]\n",
            "NLP: (129, 150)\n",
            "LSTM: (250, 316)\n",
            "DeiT (280, 294)\n",
            "\tPredicted=(0, 0),\n",
            "\tExpected=[[163.215, 172.333]]\n",
            "[youtube] Extracting URL: vUkAf1C2ewY\n",
            "[youtube] vUkAf1C2ewY: Downloading webpage\n",
            "[youtube] vUkAf1C2ewY: Downloading android player API JSON\n",
            "[youtube] Extracting URL: 1BtBwwxi-jI\n",
            "[youtube] 1BtBwwxi-jI: Downloading webpage\n",
            "[youtube] 1BtBwwxi-jI: Downloading android player API JSON\n",
            "1BtBwwxi-jI [[8.25, 63.5]]\n",
            "[youtube] Extracting URL: https://www.youtube.com/watch?v=1BtBwwxi-jI\n",
            "[youtube] 1BtBwwxi-jI: Downloading webpage\n",
            "[youtube] 1BtBwwxi-jI: Downloading android player API JSON\n",
            "[info] 1BtBwwxi-jI: Downloading 1 format(s): 303+251\n",
            "[info] There's no subtitles for the requested languages\n",
            "[youtube] Extracting URL: https://www.youtube.com/watch?v=1BtBwwxi-jI\n",
            "[youtube] 1BtBwwxi-jI: Downloading webpage\n",
            "[youtube] 1BtBwwxi-jI: Downloading android player API JSON\n",
            "[info] 1BtBwwxi-jI: Downloading subtitles: en\n",
            "[info] 1BtBwwxi-jI: Downloading 1 format(s): 303+251\n",
            "[info] Writing video subtitles to: /content/TestFolder1/1BtBwwxi-jI.en.vtt\n",
            "[download] Destination: /content/TestFolder1/1BtBwwxi-jI.en.vtt\n",
            "[download] 100% of   91.94KiB in 00:00:00 at 724.57KiB/s\n",
            "Processing captions...\n",
            "100.00% elapsed: 0:00:00, remaining: 0:00:00"
          ]
        },
        {
          "output_type": "stream",
          "name": "stderr",
          "text": [
            "Opening /content/TestFolder2/data.1.json.gz for reading...\n",
            "Closed /content/TestFolder2/data.1.json.gz.\n",
            "\n",
            "  0%|          | 0/1 [00:00<?, ?it/s]\u001b[A"
          ]
        },
        {
          "output_type": "stream",
          "name": "stdout",
          "text": [
            "Input Video ID: 1BtBwwxi-jI\n"
          ]
        },
        {
          "output_type": "stream",
          "name": "stderr",
          "text": [
            "\n",
            "100%|██████████| 1/1 [00:01<00:00,  1.10s/it]"
          ]
        },
        {
          "output_type": "stream",
          "name": "stdout",
          "text": [
            "p1 [(5, 9)]\n",
            "p2 [(5, 9)]\n"
          ]
        },
        {
          "output_type": "stream",
          "name": "stderr",
          "text": [
            "\n"
          ]
        },
        {
          "output_type": "stream",
          "name": "stdout",
          "text": [
            "1/1 [==============================] - 0s 26ms/step\n",
            "ALL Available\n",
            "NLP: (5, 9)\n",
            "LSTM: (0, 0)\n",
            "DeiT (22, 36)\n",
            "\tPredicted=(0, 0),\n",
            "\tExpected=[[8.25, 63.5]]\n",
            "[youtube] Extracting URL: JLlbNysF-lI\n",
            "[youtube] JLlbNysF-lI: Downloading webpage\n",
            "[youtube] JLlbNysF-lI: Downloading android player API JSON\n",
            "JLlbNysF-lI []\n",
            "[youtube] Extracting URL: https://www.youtube.com/watch?v=JLlbNysF-lI\n",
            "[youtube] JLlbNysF-lI: Downloading webpage\n",
            "[youtube] JLlbNysF-lI: Downloading android player API JSON\n",
            "[info] JLlbNysF-lI: Downloading subtitles: en\n",
            "[info] JLlbNysF-lI: Downloading 1 format(s): 248+251\n",
            "[info] Writing video subtitles to: /content/TestFolder1/JLlbNysF-lI.en.vtt\n",
            "[download] Destination: /content/TestFolder1/JLlbNysF-lI.en.vtt\n",
            "[download] 100% of    2.05KiB in 00:00:00 at 33.11KiB/s\n",
            "Processing captions...\n",
            "100.00% elapsed: 0:00:00, remaining: 0:00:00"
          ]
        },
        {
          "output_type": "stream",
          "name": "stderr",
          "text": [
            "Opening /content/TestFolder2/data.1.json.gz for reading...\n",
            "Closed /content/TestFolder2/data.1.json.gz.\n",
            "\n",
            "  0%|          | 0/1 [00:00<?, ?it/s]\u001b[A"
          ]
        },
        {
          "output_type": "stream",
          "name": "stdout",
          "text": [
            "Input Video ID: JLlbNysF-lI\n"
          ]
        },
        {
          "output_type": "stream",
          "name": "stderr",
          "text": [
            "\n"
          ]
        },
        {
          "output_type": "stream",
          "name": "stdout",
          "text": [
            "p1 [(13, 15)]\n",
            "p2 [(13, 15)]\n"
          ]
        },
        {
          "output_type": "stream",
          "name": "stderr",
          "text": [
            "100%|██████████| 1/1 [00:00<00:00,  4.75it/s]\n"
          ]
        },
        {
          "output_type": "stream",
          "name": "stdout",
          "text": [
            "1/1 [==============================] - 0s 26ms/step\n",
            "ALL Available\n",
            "NLP: (13, 15)\n",
            "LSTM: (5, 29)\n",
            "DeiT (0, 0)\n",
            "\tPredicted=(0, 0),\n",
            "\tExpected=[[0, 0]]\n",
            "[youtube] Extracting URL: LMVxcCFw_8c\n",
            "[youtube] LMVxcCFw_8c: Downloading webpage\n",
            "[youtube] LMVxcCFw_8c: Downloading android player API JSON\n",
            "[youtube] Extracting URL: TcwYcct4ys0\n",
            "[youtube] TcwYcct4ys0: Downloading webpage\n",
            "[youtube] TcwYcct4ys0: Downloading android player API JSON\n",
            "TcwYcct4ys0 []\n",
            "[youtube] Extracting URL: https://www.youtube.com/watch?v=TcwYcct4ys0\n",
            "[youtube] TcwYcct4ys0: Downloading webpage\n",
            "[youtube] TcwYcct4ys0: Downloading android player API JSON\n",
            "[info] TcwYcct4ys0: Downloading 1 format(s): 248+251\n",
            "[info] There's no subtitles for the requested languages\n",
            "[youtube] Extracting URL: https://www.youtube.com/watch?v=TcwYcct4ys0\n",
            "[youtube] TcwYcct4ys0: Downloading webpage\n",
            "[youtube] TcwYcct4ys0: Downloading android player API JSON\n",
            "[info] TcwYcct4ys0: Downloading subtitles: en\n",
            "[info] TcwYcct4ys0: Downloading 1 format(s): 248+251\n",
            "[info] Writing video subtitles to: /content/TestFolder1/TcwYcct4ys0.en.vtt\n",
            "[download] Destination: /content/TestFolder1/TcwYcct4ys0.en.vtt\n",
            "[download] 100% of   81.63KiB in 00:00:00 at 301.80KiB/s\n",
            "Processing captions...\n",
            "100.00% elapsed: 0:00:00, remaining: 0:00:00"
          ]
        },
        {
          "output_type": "stream",
          "name": "stderr",
          "text": [
            "Opening /content/TestFolder2/data.1.json.gz for reading...\n",
            "Closed /content/TestFolder2/data.1.json.gz.\n",
            "\n",
            "  0%|          | 0/1 [00:00<?, ?it/s]\u001b[A"
          ]
        },
        {
          "output_type": "stream",
          "name": "stdout",
          "text": [
            "Input Video ID: TcwYcct4ys0\n"
          ]
        },
        {
          "output_type": "stream",
          "name": "stderr",
          "text": [
            "\n",
            "100%|██████████| 1/1 [00:00<00:00,  1.15it/s]"
          ]
        },
        {
          "output_type": "stream",
          "name": "stdout",
          "text": [
            "p1 []\n",
            "p2 []\n"
          ]
        },
        {
          "output_type": "stream",
          "name": "stderr",
          "text": [
            "\n"
          ]
        },
        {
          "output_type": "stream",
          "name": "stdout",
          "text": [
            "1/1 [==============================] - 0s 25ms/step\n",
            "ALL Available\n",
            "NLP: (0, 0)\n",
            "LSTM: (53, 90)\n",
            "DeiT (52, 66)\n",
            "\tPredicted=(0, 0),\n",
            "\tExpected=[[0, 0]]\n",
            "[youtube] Extracting URL: NU2a8w4yTn4\n",
            "[youtube] NU2a8w4yTn4: Downloading webpage\n",
            "[youtube] NU2a8w4yTn4: Downloading android player API JSON\n",
            "[youtube] NU2a8w4yTn4: Downloading MPD manifest\n",
            "NU2a8w4yTn4 []\n",
            "[youtube] Extracting URL: https://www.youtube.com/watch?v=NU2a8w4yTn4\n",
            "[youtube] NU2a8w4yTn4: Downloading webpage\n",
            "[youtube] NU2a8w4yTn4: Downloading android player API JSON\n",
            "[youtube] NU2a8w4yTn4: Downloading MPD manifest\n",
            "[info] NU2a8w4yTn4: Downloading 1 format(s): 137-dash+251\n",
            "[info] There's no subtitles for the requested languages\n",
            "[youtube] Extracting URL: https://www.youtube.com/watch?v=NU2a8w4yTn4\n",
            "[youtube] NU2a8w4yTn4: Downloading webpage\n",
            "[youtube] NU2a8w4yTn4: Downloading android player API JSON\n",
            "[youtube] NU2a8w4yTn4: Downloading MPD manifest\n",
            "[info] NU2a8w4yTn4: Downloading subtitles: en\n",
            "[info] NU2a8w4yTn4: Downloading 1 format(s): 137-dash+251\n",
            "[info] Writing video subtitles to: /content/TestFolder1/NU2a8w4yTn4.en.vtt\n",
            "[download] Destination: /content/TestFolder1/NU2a8w4yTn4.en.vtt\n",
            "[download] 100% of   29.17KiB in 00:00:00 at 298.96KiB/s\n",
            "Processing captions...\n",
            "100.00% elapsed: 0:00:00, remaining: 0:00:00"
          ]
        },
        {
          "output_type": "stream",
          "name": "stderr",
          "text": [
            "Opening /content/TestFolder2/data.1.json.gz for reading...\n",
            "Closed /content/TestFolder2/data.1.json.gz.\n",
            "\n",
            "  0%|          | 0/1 [00:00<?, ?it/s]\u001b[A"
          ]
        },
        {
          "output_type": "stream",
          "name": "stdout",
          "text": [
            "Input Video ID: NU2a8w4yTn4\n"
          ]
        },
        {
          "output_type": "stream",
          "name": "stderr",
          "text": [
            "\n",
            "100%|██████████| 1/1 [00:00<00:00,  2.57it/s]"
          ]
        },
        {
          "output_type": "stream",
          "name": "stdout",
          "text": [
            "p1 [(4, 12), (56, 60), (70, 73)]\n",
            "p2 [(4, 12), (56, 60), (70, 73)]\n"
          ]
        },
        {
          "output_type": "stream",
          "name": "stderr",
          "text": [
            "\n"
          ]
        },
        {
          "output_type": "stream",
          "name": "stdout",
          "text": [
            "NLP & CNN Available\n",
            "NLP: (4, 12)\n",
            "LSTM: None\n",
            "DeiT (4, 21)\n",
            "\tPredicted=(4, 14),\n",
            "\tExpected=[[0, 0]]\n",
            "[youtube] Extracting URL: RfVo_7BNz1I\n",
            "[youtube] RfVo_7BNz1I: Downloading webpage\n",
            "[youtube] RfVo_7BNz1I: Downloading android player API JSON\n",
            "[youtube] Extracting URL: ns-oyqlVdSQ\n",
            "[youtube] ns-oyqlVdSQ: Downloading webpage\n",
            "[youtube] ns-oyqlVdSQ: Downloading android player API JSON\n",
            "ns-oyqlVdSQ []\n",
            "[youtube] Extracting URL: https://www.youtube.com/watch?v=ns-oyqlVdSQ\n",
            "[youtube] ns-oyqlVdSQ: Downloading webpage\n",
            "[youtube] ns-oyqlVdSQ: Downloading android player API JSON\n",
            "[info] ns-oyqlVdSQ: Downloading 1 format(s): 248+251\n",
            "[info] There's no subtitles for the requested languages\n",
            "[youtube] Extracting URL: https://www.youtube.com/watch?v=ns-oyqlVdSQ\n",
            "[youtube] ns-oyqlVdSQ: Downloading webpage\n",
            "[youtube] ns-oyqlVdSQ: Downloading android player API JSON\n",
            "[info] ns-oyqlVdSQ: Downloading subtitles: en\n",
            "[info] ns-oyqlVdSQ: Downloading 1 format(s): 248+251\n",
            "[info] Writing video subtitles to: /content/TestFolder1/ns-oyqlVdSQ.en.vtt\n",
            "[download] Destination: /content/TestFolder1/ns-oyqlVdSQ.en.vtt\n",
            "[download] 100% of   62.23KiB in 00:00:00 at 264.38KiB/s\n",
            "Processing captions...\n",
            "100.00% elapsed: 0:00:00, remaining: 0:00:00"
          ]
        },
        {
          "output_type": "stream",
          "name": "stderr",
          "text": [
            "Opening /content/TestFolder2/data.1.json.gz for reading...\n",
            "Closed /content/TestFolder2/data.1.json.gz.\n",
            "\n",
            "  0%|          | 0/1 [00:00<?, ?it/s]\u001b[A"
          ]
        },
        {
          "output_type": "stream",
          "name": "stdout",
          "text": [
            "Input Video ID: ns-oyqlVdSQ\n"
          ]
        },
        {
          "output_type": "stream",
          "name": "stderr",
          "text": [
            "\n",
            "100%|██████████| 1/1 [00:00<00:00,  1.07it/s]"
          ]
        },
        {
          "output_type": "stream",
          "name": "stdout",
          "text": [
            "p1 []\n",
            "p2 []\n"
          ]
        },
        {
          "output_type": "stream",
          "name": "stderr",
          "text": [
            "\n"
          ]
        },
        {
          "output_type": "stream",
          "name": "stdout",
          "text": [
            "NLP & CNN Available\n",
            "NLP: (0, 0)\n",
            "LSTM: None\n",
            "DeiT (9, 30)\n",
            "\tPredicted=(2, 9),\n",
            "\tExpected=[[0, 0]]\n",
            "[youtube] Extracting URL: uMSOpVyFOjA\n",
            "[youtube] uMSOpVyFOjA: Downloading webpage\n",
            "[youtube] uMSOpVyFOjA: Downloading android player API JSON\n",
            "[youtube] Extracting URL: BG_gyQuUM0Q\n",
            "[youtube] BG_gyQuUM0Q: Downloading webpage\n",
            "[youtube] BG_gyQuUM0Q: Downloading android player API JSON\n",
            "[youtube] Extracting URL: DfkGr8FurOs\n",
            "[youtube] DfkGr8FurOs: Downloading webpage\n",
            "[youtube] DfkGr8FurOs: Downloading android player API JSON\n",
            "[youtube] Extracting URL: tZwJ15-yIi4\n",
            "[youtube] tZwJ15-yIi4: Downloading webpage\n",
            "[youtube] tZwJ15-yIi4: Downloading android player API JSON\n",
            "tZwJ15-yIi4 []\n",
            "[youtube] Extracting URL: https://www.youtube.com/watch?v=tZwJ15-yIi4\n",
            "[youtube] tZwJ15-yIi4: Downloading webpage\n",
            "[youtube] tZwJ15-yIi4: Downloading android player API JSON\n",
            "[info] tZwJ15-yIi4: Downloading 1 format(s): 248+251\n",
            "[info] There's no subtitles for the requested languages\n",
            "[youtube] Extracting URL: https://www.youtube.com/watch?v=tZwJ15-yIi4\n",
            "[youtube] tZwJ15-yIi4: Downloading webpage\n",
            "[youtube] tZwJ15-yIi4: Downloading android player API JSON\n",
            "[info] tZwJ15-yIi4: Downloading subtitles: en\n",
            "[info] tZwJ15-yIi4: Downloading 1 format(s): 248+251\n",
            "[info] Writing video subtitles to: /content/TestFolder1/tZwJ15-yIi4.en.vtt\n",
            "[download] Destination: /content/TestFolder1/tZwJ15-yIi4.en.vtt\n",
            "[download] 100% of   73.78KiB in 00:00:00 at 1.17MiB/s\n",
            "Processing captions...\n",
            "100.00% elapsed: 0:00:00, remaining: 0:00:00"
          ]
        },
        {
          "output_type": "stream",
          "name": "stderr",
          "text": [
            "Opening /content/TestFolder2/data.1.json.gz for reading...\n",
            "Closed /content/TestFolder2/data.1.json.gz.\n",
            "\n",
            "  0%|          | 0/1 [00:00<?, ?it/s]\u001b[A"
          ]
        },
        {
          "output_type": "stream",
          "name": "stdout",
          "text": [
            "Input Video ID: tZwJ15-yIi4\n"
          ]
        },
        {
          "output_type": "stream",
          "name": "stderr",
          "text": [
            "\n",
            "100%|██████████| 1/1 [00:00<00:00,  1.04it/s]"
          ]
        },
        {
          "output_type": "stream",
          "name": "stdout",
          "text": [
            "p1 [(68, 79)]\n",
            "p2 [(68, 79)]\n"
          ]
        },
        {
          "output_type": "stream",
          "name": "stderr",
          "text": [
            "\n"
          ]
        },
        {
          "output_type": "stream",
          "name": "stdout",
          "text": [
            "NLP & CNN Available\n",
            "NLP: (68, 79)\n",
            "LSTM: None\n",
            "DeiT (187, 204)\n",
            "\tPredicted=(103, 116),\n",
            "\tExpected=[[0, 0]]\n",
            "[youtube] Extracting URL: 8_XAU4W3Vmw\n",
            "[youtube] 8_XAU4W3Vmw: Downloading webpage\n",
            "[youtube] 8_XAU4W3Vmw: Downloading android player API JSON\n",
            "8_XAU4W3Vmw []\n",
            "[youtube] Extracting URL: https://www.youtube.com/watch?v=8_XAU4W3Vmw\n",
            "[youtube] 8_XAU4W3Vmw: Downloading webpage\n",
            "[youtube] 8_XAU4W3Vmw: Downloading android player API JSON\n",
            "[info] 8_XAU4W3Vmw: Downloading 1 format(s): 248+251\n",
            "[info] There's no subtitles for the requested languages\n",
            "[youtube] Extracting URL: https://www.youtube.com/watch?v=8_XAU4W3Vmw\n",
            "[youtube] 8_XAU4W3Vmw: Downloading webpage\n",
            "[youtube] 8_XAU4W3Vmw: Downloading android player API JSON\n",
            "[info] 8_XAU4W3Vmw: Downloading subtitles: en\n",
            "[info] 8_XAU4W3Vmw: Downloading 1 format(s): 248+251\n",
            "[info] Writing video subtitles to: /content/TestFolder1/8_XAU4W3Vmw.en.vtt\n",
            "[download] Destination: /content/TestFolder1/8_XAU4W3Vmw.en.vtt\n",
            "[download] 100% of  101.80KiB in 00:00:00 at 1.30MiB/s\n",
            "Processing captions...\n",
            "100.00% elapsed: 0:00:00, remaining: 0:00:00"
          ]
        },
        {
          "output_type": "stream",
          "name": "stderr",
          "text": [
            "Opening /content/TestFolder2/data.1.json.gz for reading...\n",
            "Closed /content/TestFolder2/data.1.json.gz.\n",
            "\n",
            "  0%|          | 0/1 [00:00<?, ?it/s]\u001b[A"
          ]
        },
        {
          "output_type": "stream",
          "name": "stdout",
          "text": [
            "Input Video ID: 8_XAU4W3Vmw\n"
          ]
        },
        {
          "output_type": "stream",
          "name": "stderr",
          "text": [
            "\n",
            "100%|██████████| 1/1 [00:01<00:00,  1.07s/it]"
          ]
        },
        {
          "output_type": "stream",
          "name": "stdout",
          "text": [
            "p1 [(34, 39), (314, 320)]\n",
            "p2 [(34, 39), (314, 320)]\n"
          ]
        },
        {
          "output_type": "stream",
          "name": "stderr",
          "text": [
            "\n"
          ]
        },
        {
          "output_type": "stream",
          "name": "stdout",
          "text": [
            "1/1 [==============================] - 0s 26ms/step\n",
            "ALL Available\n",
            "NLP: (314, 320)\n",
            "LSTM: (0, 19)\n",
            "DeiT (0, 0)\n",
            "\tPredicted=(0, 0),\n",
            "\tExpected=[[0, 0]]\n",
            "[youtube] Extracting URL: fVgIIeC6F9c\n",
            "[youtube] fVgIIeC6F9c: Downloading webpage\n",
            "[youtube] fVgIIeC6F9c: Downloading android player API JSON\n",
            "[youtube] fVgIIeC6F9c: Downloading MPD manifest\n",
            "fVgIIeC6F9c []\n",
            "[youtube] Extracting URL: https://www.youtube.com/watch?v=fVgIIeC6F9c\n",
            "[youtube] fVgIIeC6F9c: Downloading webpage\n",
            "[youtube] fVgIIeC6F9c: Downloading android player API JSON\n",
            "[youtube] fVgIIeC6F9c: Downloading MPD manifest\n",
            "[info] fVgIIeC6F9c: Downloading subtitles: en\n",
            "[info] fVgIIeC6F9c: Downloading 1 format(s): 248+251\n",
            "[info] Writing video subtitles to: /content/TestFolder1/fVgIIeC6F9c.en.vtt\n",
            "[download] Destination: /content/TestFolder1/fVgIIeC6F9c.en.vtt\n",
            "[download] 100% of    1.42KiB in 00:00:00 at 36.42KiB/s\n",
            "Processing captions...\n",
            "100.00% elapsed: 0:00:00, remaining: 0:00:00"
          ]
        },
        {
          "output_type": "stream",
          "name": "stderr",
          "text": [
            "Opening /content/TestFolder2/data.1.json.gz for reading...\n",
            "Closed /content/TestFolder2/data.1.json.gz.\n",
            "\n",
            "  0%|          | 0/1 [00:00<?, ?it/s]\u001b[A"
          ]
        },
        {
          "output_type": "stream",
          "name": "stdout",
          "text": [
            "Input Video ID: fVgIIeC6F9c\n"
          ]
        },
        {
          "output_type": "stream",
          "name": "stderr",
          "text": [
            "\n",
            "100%|██████████| 1/1 [00:00<00:00,  7.73it/s]"
          ]
        },
        {
          "output_type": "stream",
          "name": "stdout",
          "text": [
            "p1 []\n",
            "p2 []\n"
          ]
        },
        {
          "output_type": "stream",
          "name": "stderr",
          "text": [
            "\n"
          ]
        },
        {
          "output_type": "stream",
          "name": "stdout",
          "text": [
            "NLP & CNN Available\n",
            "NLP: (0, 0)\n",
            "LSTM: None\n",
            "DeiT (0, 0)\n",
            "\tPredicted=(0, 0),\n",
            "\tExpected=[[0, 0]]\n",
            "IOU: 0.6066666666666667\n",
            "Confusion matrix [[14288   121]\n",
            " [  162    13]]\n",
            "Accuracy 0.980595172792101\n",
            "Precision 0.09701492537313433\n",
            "Recall 0.07428571428571429\n",
            "[youtube] Extracting URL: EwC8JIJqlMc\n",
            "[youtube] EwC8JIJqlMc: Downloading webpage\n",
            "[youtube] EwC8JIJqlMc: Downloading android player API JSON\n",
            "EwC8JIJqlMc []\n",
            "[youtube] Extracting URL: https://www.youtube.com/watch?v=EwC8JIJqlMc\n",
            "[youtube] EwC8JIJqlMc: Downloading webpage\n",
            "[youtube] EwC8JIJqlMc: Downloading android player API JSON\n",
            "[info] EwC8JIJqlMc: Downloading 1 format(s): 248+251\n",
            "[info] There's no subtitles for the requested languages\n",
            "[youtube] Extracting URL: https://www.youtube.com/watch?v=EwC8JIJqlMc\n",
            "[youtube] EwC8JIJqlMc: Downloading webpage\n",
            "[youtube] EwC8JIJqlMc: Downloading android player API JSON\n",
            "[info] EwC8JIJqlMc: Downloading subtitles: en\n",
            "[info] EwC8JIJqlMc: Downloading 1 format(s): 248+251\n",
            "[info] Writing video subtitles to: /content/TestFolder1/EwC8JIJqlMc.en.vtt\n",
            "[download] Destination: /content/TestFolder1/EwC8JIJqlMc.en.vtt\n",
            "[download] 100% of   32.07KiB in 00:00:00 at 466.33KiB/s\n",
            "Processing captions...\n",
            "100.00% elapsed: 0:00:00, remaining: 0:00:00"
          ]
        },
        {
          "output_type": "stream",
          "name": "stderr",
          "text": [
            "Opening /content/TestFolder2/data.1.json.gz for reading...\n",
            "Closed /content/TestFolder2/data.1.json.gz.\n",
            "\n",
            "  0%|          | 0/1 [00:00<?, ?it/s]\u001b[A"
          ]
        },
        {
          "output_type": "stream",
          "name": "stdout",
          "text": [
            "Input Video ID: EwC8JIJqlMc\n"
          ]
        },
        {
          "output_type": "stream",
          "name": "stderr",
          "text": [
            "\n",
            "100%|██████████| 1/1 [00:00<00:00,  2.12it/s]"
          ]
        },
        {
          "output_type": "stream",
          "name": "stdout",
          "text": [
            "p1 []\n",
            "p2 []\n"
          ]
        },
        {
          "output_type": "stream",
          "name": "stderr",
          "text": [
            "\n"
          ]
        },
        {
          "output_type": "stream",
          "name": "stdout",
          "text": [
            "NLP & CNN Available\n",
            "NLP: (0, 0)\n",
            "LSTM: None\n",
            "DeiT (1, 16)\n",
            "\tPredicted=(0, 4),\n",
            "\tExpected=[[0, 0]]\n",
            "[youtube] Extracting URL: YyLWnTK0cQY\n",
            "[youtube] YyLWnTK0cQY: Downloading webpage\n",
            "[youtube] YyLWnTK0cQY: Downloading android player API JSON\n",
            "YyLWnTK0cQY []\n",
            "[youtube] Extracting URL: https://www.youtube.com/watch?v=YyLWnTK0cQY\n",
            "[youtube] YyLWnTK0cQY: Downloading webpage\n",
            "[youtube] YyLWnTK0cQY: Downloading android player API JSON\n",
            "[info] YyLWnTK0cQY: Downloading 1 format(s): 248+251\n",
            "[info] There's no subtitles for the requested languages\n",
            "[youtube] Extracting URL: https://www.youtube.com/watch?v=YyLWnTK0cQY\n",
            "[youtube] YyLWnTK0cQY: Downloading webpage\n",
            "[youtube] YyLWnTK0cQY: Downloading android player API JSON\n",
            "[info] YyLWnTK0cQY: Downloading subtitles: en\n",
            "[info] YyLWnTK0cQY: Downloading 1 format(s): 248+251\n",
            "[info] Writing video subtitles to: /content/TestFolder1/YyLWnTK0cQY.en.vtt\n",
            "[download] Destination: /content/TestFolder1/YyLWnTK0cQY.en.vtt\n",
            "[download] 100% of   18.49KiB in 00:00:00 at 67.74KiB/s\n",
            "Processing captions...\n",
            "100.00% elapsed: 0:00:00, remaining: 0:00:00"
          ]
        },
        {
          "output_type": "stream",
          "name": "stderr",
          "text": [
            "Opening /content/TestFolder2/data.1.json.gz for reading...\n",
            "Closed /content/TestFolder2/data.1.json.gz.\n",
            "\n",
            "  0%|          | 0/1 [00:00<?, ?it/s]\u001b[A"
          ]
        },
        {
          "output_type": "stream",
          "name": "stdout",
          "text": [
            "Input Video ID: YyLWnTK0cQY\n"
          ]
        },
        {
          "output_type": "stream",
          "name": "stderr",
          "text": [
            "\n",
            "100%|██████████| 1/1 [00:00<00:00,  4.18it/s]"
          ]
        },
        {
          "output_type": "stream",
          "name": "stdout",
          "text": [
            "p1 [(5, 8)]\n",
            "p2 [(5, 8)]\n"
          ]
        },
        {
          "output_type": "stream",
          "name": "stderr",
          "text": [
            "\n"
          ]
        },
        {
          "output_type": "stream",
          "name": "stdout",
          "text": [
            "NLP & CNN Available\n",
            "NLP: (5, 8)\n",
            "LSTM: None\n",
            "DeiT (0, 0)\n",
            "\tPredicted=(3, 5),\n",
            "\tExpected=[[0, 0]]\n",
            "[youtube] Extracting URL: vCkpCylPc4A\n",
            "[youtube] vCkpCylPc4A: Downloading webpage\n",
            "[youtube] vCkpCylPc4A: Downloading android player API JSON\n",
            "vCkpCylPc4A []\n",
            "[youtube] Extracting URL: https://www.youtube.com/watch?v=vCkpCylPc4A\n",
            "[youtube] vCkpCylPc4A: Downloading webpage\n",
            "[youtube] vCkpCylPc4A: Downloading android player API JSON\n",
            "[info] vCkpCylPc4A: Downloading 1 format(s): 248+251\n",
            "[info] There's no subtitles for the requested languages\n",
            "[youtube] Extracting URL: https://www.youtube.com/watch?v=vCkpCylPc4A\n",
            "[youtube] vCkpCylPc4A: Downloading webpage\n",
            "[youtube] vCkpCylPc4A: Downloading android player API JSON\n",
            "[info] vCkpCylPc4A: Downloading subtitles: en\n",
            "[info] vCkpCylPc4A: Downloading 1 format(s): 248+251\n",
            "[info] Writing video subtitles to: /content/TestFolder1/vCkpCylPc4A.en.vtt\n",
            "[download] Destination: /content/TestFolder1/vCkpCylPc4A.en.vtt\n",
            "[download] 100% of  131.97KiB in 00:00:00 at 2.80MiB/s\n",
            "Processing captions...\n",
            "100.00% elapsed: 0:00:00, remaining: 0:00:00"
          ]
        },
        {
          "output_type": "stream",
          "name": "stderr",
          "text": [
            "Opening /content/TestFolder2/data.1.json.gz for reading...\n",
            "Closed /content/TestFolder2/data.1.json.gz.\n",
            "\n",
            "  0%|          | 0/1 [00:00<?, ?it/s]\u001b[A"
          ]
        },
        {
          "output_type": "stream",
          "name": "stdout",
          "text": [
            "Input Video ID: vCkpCylPc4A\n"
          ]
        },
        {
          "output_type": "stream",
          "name": "stderr",
          "text": [
            "\n",
            "100%|██████████| 1/1 [00:01<00:00,  1.56s/it]"
          ]
        },
        {
          "output_type": "stream",
          "name": "stdout",
          "text": [
            "p1 [(41, 46), (236, 241), (440, 445)]\n",
            "p2 [(41, 46), (236, 241), (440, 445)]\n"
          ]
        },
        {
          "output_type": "stream",
          "name": "stderr",
          "text": [
            "\n"
          ]
        },
        {
          "output_type": "stream",
          "name": "stdout",
          "text": [
            "1/1 [==============================] - 0s 43ms/step\n",
            "ALL Available\n",
            "NLP: (440, 445)\n",
            "LSTM: (194, 230)\n",
            "DeiT (829, 843)\n",
            "\tPredicted=(0, 0),\n",
            "\tExpected=[[0, 0]]\n",
            "[youtube] Extracting URL: yHgiWmDL-NM\n",
            "[youtube] yHgiWmDL-NM: Downloading webpage\n",
            "[youtube] yHgiWmDL-NM: Downloading android player API JSON\n",
            "yHgiWmDL-NM []\n",
            "[youtube] Extracting URL: https://www.youtube.com/watch?v=yHgiWmDL-NM\n",
            "[youtube] yHgiWmDL-NM: Downloading webpage\n",
            "[youtube] yHgiWmDL-NM: Downloading android player API JSON\n",
            "[info] yHgiWmDL-NM: Downloading 1 format(s): 308+251\n",
            "[info] There's no subtitles for the requested languages\n",
            "[youtube] Extracting URL: https://www.youtube.com/watch?v=yHgiWmDL-NM\n",
            "[youtube] yHgiWmDL-NM: Downloading webpage\n",
            "[youtube] yHgiWmDL-NM: Downloading android player API JSON\n",
            "[info] yHgiWmDL-NM: Downloading subtitles: en\n",
            "[info] yHgiWmDL-NM: Downloading 1 format(s): 308+251\n",
            "[info] Writing video subtitles to: /content/TestFolder1/yHgiWmDL-NM.en.vtt\n",
            "[download] Destination: /content/TestFolder1/yHgiWmDL-NM.en.vtt\n",
            "[download] 100% of    6.77KiB in 00:00:00 at 162.74KiB/s\n",
            "Processing captions...\n",
            "100.00% elapsed: 0:00:00, remaining: 0:00:00"
          ]
        },
        {
          "output_type": "stream",
          "name": "stderr",
          "text": [
            "Opening /content/TestFolder2/data.1.json.gz for reading...\n",
            "Closed /content/TestFolder2/data.1.json.gz.\n",
            "\n",
            "  0%|          | 0/1 [00:00<?, ?it/s]\u001b[A"
          ]
        },
        {
          "output_type": "stream",
          "name": "stdout",
          "text": [
            "Input Video ID: yHgiWmDL-NM\n"
          ]
        },
        {
          "output_type": "stream",
          "name": "stderr",
          "text": [
            "\n",
            "100%|██████████| 1/1 [00:00<00:00,  4.76it/s]"
          ]
        },
        {
          "output_type": "stream",
          "name": "stdout",
          "text": [
            "p1 [(2, 3), (7, 8)]\n",
            "p2 [(2, 3), (7, 8)]\n"
          ]
        },
        {
          "output_type": "stream",
          "name": "stderr",
          "text": [
            "\n"
          ]
        },
        {
          "output_type": "stream",
          "name": "stdout",
          "text": [
            "NLP & CNN Available\n",
            "NLP: (7, 8)\n",
            "LSTM: None\n",
            "DeiT (34, 49)\n",
            "\tPredicted=(15, 20),\n",
            "\tExpected=[[0, 0]]\n",
            "[youtube] Extracting URL: keu_4AbHXIk\n",
            "[youtube] keu_4AbHXIk: Downloading webpage\n",
            "[youtube] keu_4AbHXIk: Downloading android player API JSON\n",
            "keu_4AbHXIk []\n",
            "[youtube] Extracting URL: https://www.youtube.com/watch?v=keu_4AbHXIk\n",
            "[youtube] keu_4AbHXIk: Downloading webpage\n",
            "[youtube] keu_4AbHXIk: Downloading android player API JSON\n",
            "[info] keu_4AbHXIk: Downloading subtitles: en\n",
            "[info] keu_4AbHXIk: Downloading 1 format(s): 248+251\n",
            "[info] Writing video subtitles to: /content/TestFolder1/keu_4AbHXIk.en.vtt\n",
            "[download] Destination: /content/TestFolder1/keu_4AbHXIk.en.vtt\n",
            "[download] 100% of   13.72KiB in 00:00:00 at 589.07KiB/s\n",
            "Processing captions...\n",
            "100.00% elapsed: 0:00:00, remaining: 0:00:00"
          ]
        },
        {
          "output_type": "stream",
          "name": "stderr",
          "text": [
            "Opening /content/TestFolder2/data.1.json.gz for reading...\n",
            "Closed /content/TestFolder2/data.1.json.gz.\n",
            "\n",
            "  0%|          | 0/1 [00:00<?, ?it/s]\u001b[A"
          ]
        },
        {
          "output_type": "stream",
          "name": "stdout",
          "text": [
            "Input Video ID: keu_4AbHXIk\n"
          ]
        },
        {
          "output_type": "stream",
          "name": "stderr",
          "text": [
            "\n",
            "100%|██████████| 1/1 [00:01<00:00,  1.05s/it]"
          ]
        },
        {
          "output_type": "stream",
          "name": "stdout",
          "text": [
            "p1 [(30, 34), (70, 73)]\n",
            "p2 [(30, 34), (70, 73)]\n"
          ]
        },
        {
          "output_type": "stream",
          "name": "stderr",
          "text": [
            "\n"
          ]
        },
        {
          "output_type": "stream",
          "name": "stdout",
          "text": [
            "1/1 [==============================] - 0s 29ms/step\n",
            "ALL Available\n",
            "NLP: (30, 34)\n",
            "LSTM: (0, 38)\n",
            "DeiT (17, 36)\n",
            "\tPredicted=(0, 0),\n",
            "\tExpected=[[0, 0]]\n",
            "[youtube] Extracting URL: JF8UziDHqZo\n",
            "[youtube] JF8UziDHqZo: Downloading webpage\n",
            "[youtube] JF8UziDHqZo: Downloading android player API JSON\n",
            "JF8UziDHqZo [[553.244, 588.408]]\n",
            "[youtube] Extracting URL: https://www.youtube.com/watch?v=JF8UziDHqZo\n",
            "[youtube] JF8UziDHqZo: Downloading webpage\n",
            "[youtube] JF8UziDHqZo: Downloading android player API JSON\n",
            "[info] JF8UziDHqZo: Downloading subtitles: en\n",
            "[info] JF8UziDHqZo: Downloading 1 format(s): 313+251\n",
            "[info] Writing video subtitles to: /content/TestFolder1/JF8UziDHqZo.en.vtt\n",
            "[download] Destination: /content/TestFolder1/JF8UziDHqZo.en.vtt\n",
            "[download] 100% of   24.80KiB in 00:00:00 at 670.63KiB/s\n",
            "Processing captions...\n",
            "100.00% elapsed: 0:00:00, remaining: 0:00:00"
          ]
        },
        {
          "output_type": "stream",
          "name": "stderr",
          "text": [
            "Opening /content/TestFolder2/data.1.json.gz for reading...\n",
            "Closed /content/TestFolder2/data.1.json.gz.\n",
            "\n",
            "  0%|          | 0/1 [00:00<?, ?it/s]\u001b[A"
          ]
        },
        {
          "output_type": "stream",
          "name": "stdout",
          "text": [
            "Input Video ID: JF8UziDHqZo\n"
          ]
        },
        {
          "output_type": "stream",
          "name": "stderr",
          "text": [
            "\n",
            "100%|██████████| 1/1 [00:01<00:00,  1.39s/it]"
          ]
        },
        {
          "output_type": "stream",
          "name": "stdout",
          "text": [
            "p1 [(164, 168), (223, 226), (260, 265), (272, 276)]\n",
            "p2 [(164, 168), (223, 226), (260, 265), (272, 276)]\n"
          ]
        },
        {
          "output_type": "stream",
          "name": "stderr",
          "text": [
            "\n"
          ]
        },
        {
          "output_type": "stream",
          "name": "stdout",
          "text": [
            "1/1 [==============================] - 0s 29ms/step\n",
            "ALL Available\n",
            "NLP: (260, 265)\n",
            "LSTM: (158, 224)\n",
            "DeiT (530, 546)\n",
            "\tPredicted=(0, 0),\n",
            "\tExpected=[[553.244, 588.408]]\n",
            "[youtube] Extracting URL: B83f6CT32ck\n",
            "[youtube] B83f6CT32ck: Downloading webpage\n",
            "[youtube] B83f6CT32ck: Downloading android player API JSON\n",
            "B83f6CT32ck []\n",
            "[youtube] Extracting URL: https://www.youtube.com/watch?v=B83f6CT32ck\n",
            "[youtube] B83f6CT32ck: Downloading webpage\n",
            "[youtube] B83f6CT32ck: Downloading android player API JSON\n",
            "[info] B83f6CT32ck: Downloading 1 format(s): 248+251\n",
            "[info] There's no subtitles for the requested languages\n",
            "[youtube] Extracting URL: https://www.youtube.com/watch?v=B83f6CT32ck\n",
            "[youtube] B83f6CT32ck: Downloading webpage\n",
            "[youtube] B83f6CT32ck: Downloading android player API JSON\n",
            "[info] B83f6CT32ck: Downloading subtitles: en\n",
            "[info] B83f6CT32ck: Downloading 1 format(s): 248+251\n",
            "[info] Writing video subtitles to: /content/TestFolder1/B83f6CT32ck.en.vtt\n",
            "[download] Destination: /content/TestFolder1/B83f6CT32ck.en.vtt\n",
            "[download] 100% of    6.18KiB in 00:00:00 at 61.58KiB/s\n",
            "Processing captions...\n",
            "100.00% elapsed: 0:00:00, remaining: 0:00:00"
          ]
        },
        {
          "output_type": "stream",
          "name": "stderr",
          "text": [
            "Opening /content/TestFolder2/data.1.json.gz for reading...\n",
            "Closed /content/TestFolder2/data.1.json.gz.\n",
            "\n",
            "  0%|          | 0/1 [00:00<?, ?it/s]\u001b[A"
          ]
        },
        {
          "output_type": "stream",
          "name": "stdout",
          "text": [
            "Input Video ID: B83f6CT32ck\n",
            "p1 [(15, 19)]\n",
            "p2 "
          ]
        },
        {
          "output_type": "stream",
          "name": "stderr",
          "text": [
            "\n",
            "100%|██████████| 1/1 [00:00<00:00,  5.35it/s]\n"
          ]
        },
        {
          "output_type": "stream",
          "name": "stdout",
          "text": [
            "[(15, 19)]\n",
            "1/1 [==============================] - 0s 25ms/step\n",
            "ALL Available\n",
            "NLP: (15, 19)\n",
            "LSTM: (92, 96)\n",
            "DeiT (101, 115)\n",
            "\tPredicted=(0, 0),\n",
            "\tExpected=[[0, 0]]\n",
            "[youtube] Extracting URL: jM6tgZ7fqSU\n",
            "[youtube] jM6tgZ7fqSU: Downloading webpage\n",
            "[youtube] jM6tgZ7fqSU: Downloading android player API JSON\n",
            "jM6tgZ7fqSU []\n",
            "[youtube] Extracting URL: https://www.youtube.com/watch?v=jM6tgZ7fqSU\n",
            "[youtube] jM6tgZ7fqSU: Downloading webpage\n",
            "[youtube] jM6tgZ7fqSU: Downloading android player API JSON\n",
            "[info] jM6tgZ7fqSU: Downloading 1 format(s): 313+251\n",
            "[info] There's no subtitles for the requested languages\n",
            "[youtube] Extracting URL: https://www.youtube.com/watch?v=jM6tgZ7fqSU\n",
            "[youtube] jM6tgZ7fqSU: Downloading webpage\n",
            "[youtube] jM6tgZ7fqSU: Downloading android player API JSON\n",
            "[info] jM6tgZ7fqSU: Downloading subtitles: en\n",
            "[info] jM6tgZ7fqSU: Downloading 1 format(s): 313+251\n",
            "[info] Writing video subtitles to: /content/TestFolder1/jM6tgZ7fqSU.en.vtt\n",
            "[download] Destination: /content/TestFolder1/jM6tgZ7fqSU.en.vtt\n",
            "[download] 100% of   78.70KiB in 00:00:00 at 286.57KiB/s\n",
            "Processing captions...\n",
            "100.00% elapsed: 0:00:00, remaining: 0:00:00"
          ]
        },
        {
          "output_type": "stream",
          "name": "stderr",
          "text": [
            "Opening /content/TestFolder2/data.1.json.gz for reading...\n",
            "Closed /content/TestFolder2/data.1.json.gz.\n",
            "\n",
            "  0%|          | 0/1 [00:00<?, ?it/s]\u001b[A"
          ]
        },
        {
          "output_type": "stream",
          "name": "stdout",
          "text": [
            "Input Video ID: jM6tgZ7fqSU\n"
          ]
        },
        {
          "output_type": "stream",
          "name": "stderr",
          "text": [
            "\n",
            "100%|██████████| 1/1 [00:00<00:00,  1.24it/s]"
          ]
        },
        {
          "output_type": "stream",
          "name": "stdout",
          "text": [
            "p1 []\n",
            "p2 []\n"
          ]
        },
        {
          "output_type": "stream",
          "name": "stderr",
          "text": [
            "\n"
          ]
        },
        {
          "output_type": "stream",
          "name": "stdout",
          "text": [
            "NLP & CNN Available\n",
            "NLP: (0, 0)\n",
            "LSTM: None\n",
            "DeiT (236, 250)\n",
            "\tPredicted=(70, 75),\n",
            "\tExpected=[[0, 0]]\n",
            "[youtube] Extracting URL: bL9bxNcHkKE\n",
            "[youtube] bL9bxNcHkKE: Downloading webpage\n",
            "[youtube] bL9bxNcHkKE: Downloading android player API JSON\n",
            "bL9bxNcHkKE []\n",
            "[youtube] Extracting URL: https://www.youtube.com/watch?v=bL9bxNcHkKE\n",
            "[youtube] bL9bxNcHkKE: Downloading webpage\n",
            "[youtube] bL9bxNcHkKE: Downloading android player API JSON\n",
            "[info] bL9bxNcHkKE: Downloading subtitles: en, en-US\n",
            "[info] bL9bxNcHkKE: Downloading 1 format(s): 303+251\n",
            "[info] Writing video subtitles to: /content/TestFolder1/bL9bxNcHkKE.en.vtt\n",
            "[download] Destination: /content/TestFolder1/bL9bxNcHkKE.en.vtt\n",
            "[download] 100% of   17.96KiB in 00:00:00 at 395.48KiB/s\n",
            "[info] Writing video subtitles to: /content/TestFolder1/bL9bxNcHkKE.en-US.vtt\n",
            "[download] Destination: /content/TestFolder1/bL9bxNcHkKE.en-US.vtt\n",
            "[download] 100% of   20.20KiB in 00:00:00 at 402.18KiB/s\n",
            "Processing captions...\n",
            "100.00% elapsed: 0:00:00, remaining: 0:00:00"
          ]
        },
        {
          "output_type": "stream",
          "name": "stderr",
          "text": [
            "Opening /content/TestFolder2/data.1.json.gz for reading...\n",
            "Closed /content/TestFolder2/data.1.json.gz.\n",
            "\n",
            "  0%|          | 0/1 [00:00<?, ?it/s]\u001b[A"
          ]
        },
        {
          "output_type": "stream",
          "name": "stdout",
          "text": [
            "Input Video ID: bL9bxNcHkKE\n"
          ]
        },
        {
          "output_type": "stream",
          "name": "stderr",
          "text": [
            "\n",
            "100%|██████████| 1/1 [00:01<00:00,  1.34s/it]"
          ]
        },
        {
          "output_type": "stream",
          "name": "stdout",
          "text": [
            "p1 [(6, 7), (16, 23)]\n",
            "p2 [(6, 7), (16, 23)]\n"
          ]
        },
        {
          "output_type": "stream",
          "name": "stderr",
          "text": [
            "\n"
          ]
        },
        {
          "output_type": "stream",
          "name": "stdout",
          "text": [
            "1/1 [==============================] - 0s 25ms/step\n",
            "ALL Available\n",
            "NLP: (16, 23)\n",
            "LSTM: (103, 155)\n",
            "DeiT (40, 55)\n",
            "\tPredicted=(0, 0),\n",
            "\tExpected=[[0, 0]]\n",
            "[youtube] Extracting URL: 9y64R5-8APM\n",
            "[youtube] 9y64R5-8APM: Downloading webpage\n",
            "[youtube] 9y64R5-8APM: Downloading android player API JSON\n",
            "9y64R5-8APM []\n",
            "[youtube] Extracting URL: https://www.youtube.com/watch?v=9y64R5-8APM\n",
            "[youtube] 9y64R5-8APM: Downloading webpage\n",
            "[youtube] 9y64R5-8APM: Downloading android player API JSON\n",
            "[info] 9y64R5-8APM: Downloading 1 format(s): 248+251\n",
            "[info] There's no subtitles for the requested languages\n",
            "[youtube] Extracting URL: https://www.youtube.com/watch?v=9y64R5-8APM\n",
            "[youtube] 9y64R5-8APM: Downloading webpage\n",
            "[youtube] 9y64R5-8APM: Downloading android player API JSON\n",
            "[info] 9y64R5-8APM: Downloading subtitles: en\n",
            "[info] 9y64R5-8APM: Downloading 1 format(s): 248+251\n",
            "[info] Writing video subtitles to: /content/TestFolder1/9y64R5-8APM.en.vtt\n",
            "[download] Destination: /content/TestFolder1/9y64R5-8APM.en.vtt\n",
            "[download] 100% of   51.19KiB in 00:00:00 at 1.69MiB/s\n",
            "Processing captions...\n",
            "100.00% elapsed: 0:00:00, remaining: 0:00:00"
          ]
        },
        {
          "output_type": "stream",
          "name": "stderr",
          "text": [
            "Opening /content/TestFolder2/data.1.json.gz for reading...\n",
            "Closed /content/TestFolder2/data.1.json.gz.\n",
            "\n",
            "  0%|          | 0/1 [00:00<?, ?it/s]\u001b[A"
          ]
        },
        {
          "output_type": "stream",
          "name": "stdout",
          "text": [
            "Input Video ID: 9y64R5-8APM\n"
          ]
        },
        {
          "output_type": "stream",
          "name": "stderr",
          "text": [
            "\n",
            "100%|██████████| 1/1 [00:00<00:00,  1.52it/s]"
          ]
        },
        {
          "output_type": "stream",
          "name": "stdout",
          "text": [
            "p1 [(15, 20)]\n",
            "p2 [(15, 20)]\n"
          ]
        },
        {
          "output_type": "stream",
          "name": "stderr",
          "text": [
            "\n"
          ]
        },
        {
          "output_type": "stream",
          "name": "stdout",
          "text": [
            "1/1 [==============================] - 0s 25ms/step\n",
            "ALL Available\n",
            "NLP: (15, 20)\n",
            "LSTM: (404, 417)\n",
            "DeiT (123, 138)\n",
            "\tPredicted=(0, 0),\n",
            "\tExpected=[[0, 0]]\n",
            "IOU: 0.635\n",
            "Confusion matrix [[19582   141]\n",
            " [  201    19]]\n",
            "Accuracy 0.9828511257082686\n",
            "Precision 0.11875\n",
            "Recall 0.08636363636363636\n",
            "[youtube] Extracting URL: s3TLQKgHgIA\n",
            "[youtube] s3TLQKgHgIA: Downloading webpage\n",
            "[youtube] s3TLQKgHgIA: Downloading android player API JSON\n",
            "[youtube] Extracting URL: yZOx02ZtmA4\n",
            "[youtube] yZOx02ZtmA4: Downloading webpage\n",
            "[youtube] yZOx02ZtmA4: Downloading android player API JSON\n",
            "yZOx02ZtmA4 []\n",
            "[youtube] Extracting URL: https://www.youtube.com/watch?v=yZOx02ZtmA4\n",
            "[youtube] yZOx02ZtmA4: Downloading webpage\n",
            "[youtube] yZOx02ZtmA4: Downloading android player API JSON\n",
            "[info] yZOx02ZtmA4: Downloading 1 format(s): 303+251\n",
            "[info] There's no subtitles for the requested languages\n",
            "[youtube] Extracting URL: https://www.youtube.com/watch?v=yZOx02ZtmA4\n",
            "[youtube] yZOx02ZtmA4: Downloading webpage\n",
            "[youtube] yZOx02ZtmA4: Downloading android player API JSON\n",
            "[info] yZOx02ZtmA4: Downloading subtitles: en\n",
            "[info] yZOx02ZtmA4: Downloading 1 format(s): 303+251\n",
            "[info] Writing video subtitles to: /content/TestFolder1/yZOx02ZtmA4.en.vtt\n",
            "[download] Destination: /content/TestFolder1/yZOx02ZtmA4.en.vtt\n",
            "[download] 100% of   33.48KiB in 00:00:00 at 137.95KiB/s\n",
            "Processing captions...\n",
            "100.00% elapsed: 0:00:00, remaining: 0:00:00"
          ]
        },
        {
          "output_type": "stream",
          "name": "stderr",
          "text": [
            "Opening /content/TestFolder2/data.1.json.gz for reading...\n",
            "Closed /content/TestFolder2/data.1.json.gz.\n",
            "\n",
            "  0%|          | 0/1 [00:00<?, ?it/s]\u001b[A"
          ]
        },
        {
          "output_type": "stream",
          "name": "stdout",
          "text": [
            "Input Video ID: yZOx02ZtmA4\n"
          ]
        },
        {
          "output_type": "stream",
          "name": "stderr",
          "text": [
            "\n",
            "100%|██████████| 1/1 [00:00<00:00,  1.66it/s]"
          ]
        },
        {
          "output_type": "stream",
          "name": "stdout",
          "text": [
            "p1 [(79, 81)]\n",
            "p2 [(79, 81)]\n"
          ]
        },
        {
          "output_type": "stream",
          "name": "stderr",
          "text": [
            "\n"
          ]
        },
        {
          "output_type": "stream",
          "name": "stdout",
          "text": [
            "NLP & CNN Available\n",
            "NLP: (79, 81)\n",
            "LSTM: None\n",
            "DeiT (0, 0)\n",
            "\tPredicted=(55, 56),\n",
            "\tExpected=[[0, 0]]\n",
            "[youtube] Extracting URL: DNMJHOGJZLo\n",
            "[youtube] DNMJHOGJZLo: Downloading webpage\n",
            "[youtube] DNMJHOGJZLo: Downloading android player API JSON\n",
            "DNMJHOGJZLo []\n",
            "[youtube] Extracting URL: https://www.youtube.com/watch?v=DNMJHOGJZLo\n",
            "[youtube] DNMJHOGJZLo: Downloading webpage\n",
            "[youtube] DNMJHOGJZLo: Downloading android player API JSON\n",
            "[info] DNMJHOGJZLo: Downloading 1 format(s): 248+251\n",
            "[info] There's no subtitles for the requested languages\n",
            "[youtube] Extracting URL: https://www.youtube.com/watch?v=DNMJHOGJZLo\n",
            "[youtube] DNMJHOGJZLo: Downloading webpage\n",
            "[youtube] DNMJHOGJZLo: Downloading android player API JSON\n",
            "[info] DNMJHOGJZLo: Downloading subtitles: en\n",
            "[info] DNMJHOGJZLo: Downloading 1 format(s): 248+251\n",
            "[info] Writing video subtitles to: /content/TestFolder1/DNMJHOGJZLo.en.vtt\n",
            "[download] Destination: /content/TestFolder1/DNMJHOGJZLo.en.vtt\n",
            "[download] 100% of   10.02KiB in 00:00:00 at 49.04KiB/s\n",
            "Processing captions...\n",
            "100.00% elapsed: 0:00:00, remaining: 0:00:00"
          ]
        },
        {
          "output_type": "stream",
          "name": "stderr",
          "text": [
            "Opening /content/TestFolder2/data.1.json.gz for reading...\n",
            "Closed /content/TestFolder2/data.1.json.gz.\n",
            "\n",
            "  0%|          | 0/1 [00:00<?, ?it/s]\u001b[A"
          ]
        },
        {
          "output_type": "stream",
          "name": "stdout",
          "text": [
            "Input Video ID: DNMJHOGJZLo\n"
          ]
        },
        {
          "output_type": "stream",
          "name": "stderr",
          "text": [
            "\n",
            "100%|██████████| 1/1 [00:00<00:00,  5.16it/s]"
          ]
        },
        {
          "output_type": "stream",
          "name": "stdout",
          "text": [
            "p1 []\n",
            "p2 []\n"
          ]
        },
        {
          "output_type": "stream",
          "name": "stderr",
          "text": [
            "\n"
          ]
        },
        {
          "output_type": "stream",
          "name": "stdout",
          "text": [
            "1/1 [==============================] - 0s 27ms/step\n",
            "ALL Available\n",
            "NLP: (0, 0)\n",
            "LSTM: (0, 0)\n",
            "DeiT (66, 81)\n",
            "\tPredicted=(0, 0),\n",
            "\tExpected=[[0, 0]]\n",
            "[youtube] Extracting URL: MieibKkmAtA\n",
            "[youtube] MieibKkmAtA: Downloading webpage\n",
            "[youtube] MieibKkmAtA: Downloading android player API JSON\n",
            "MieibKkmAtA []\n",
            "[youtube] Extracting URL: https://www.youtube.com/watch?v=MieibKkmAtA\n",
            "[youtube] MieibKkmAtA: Downloading webpage\n",
            "[youtube] MieibKkmAtA: Downloading android player API JSON\n",
            "[info] MieibKkmAtA: Downloading 1 format(s): 303+251\n",
            "[info] There's no subtitles for the requested languages\n",
            "[youtube] Extracting URL: https://www.youtube.com/watch?v=MieibKkmAtA\n",
            "[youtube] MieibKkmAtA: Downloading webpage\n",
            "[youtube] MieibKkmAtA: Downloading android player API JSON\n",
            "[info] MieibKkmAtA: Downloading subtitles: en\n",
            "[info] MieibKkmAtA: Downloading 1 format(s): 303+251\n",
            "[info] Writing video subtitles to: /content/TestFolder1/MieibKkmAtA.en.vtt\n",
            "[download] Destination: /content/TestFolder1/MieibKkmAtA.en.vtt\n",
            "[download] 100% of  115.24KiB in 00:00:00 at 367.14KiB/s\n",
            "Processing captions...\n",
            "100.00% elapsed: 0:00:00, remaining: 0:00:00"
          ]
        },
        {
          "output_type": "stream",
          "name": "stderr",
          "text": [
            "Opening /content/TestFolder2/data.1.json.gz for reading...\n",
            "Closed /content/TestFolder2/data.1.json.gz.\n",
            "\n",
            "  0%|          | 0/1 [00:00<?, ?it/s]\u001b[A"
          ]
        },
        {
          "output_type": "stream",
          "name": "stdout",
          "text": [
            "Input Video ID: MieibKkmAtA\n"
          ]
        },
        {
          "output_type": "stream",
          "name": "stderr",
          "text": [
            "\n",
            "100%|██████████| 1/1 [00:01<00:00,  1.21s/it]"
          ]
        },
        {
          "output_type": "stream",
          "name": "stdout",
          "text": [
            "p1 [(41, 45), (94, 98), (179, 183)]\n",
            "p2 [(41, 45), (94, 98), (179, 183)]\n"
          ]
        },
        {
          "output_type": "stream",
          "name": "stderr",
          "text": [
            "\n"
          ]
        },
        {
          "output_type": "stream",
          "name": "stdout",
          "text": [
            "1/1 [==============================] - 0s 44ms/step\n",
            "ALL Available\n",
            "NLP: (179, 183)\n",
            "LSTM: (0, 0)\n",
            "DeiT (0, 0)\n",
            "\tPredicted=(0, 0),\n",
            "\tExpected=[[0, 0]]\n",
            "[youtube] Extracting URL: Nkj4k6dRSq0\n",
            "[youtube] Nkj4k6dRSq0: Downloading webpage\n",
            "[youtube] Nkj4k6dRSq0: Downloading android player API JSON\n",
            "Nkj4k6dRSq0 []\n",
            "[youtube] Extracting URL: https://www.youtube.com/watch?v=Nkj4k6dRSq0\n",
            "[youtube] Nkj4k6dRSq0: Downloading webpage\n",
            "[youtube] Nkj4k6dRSq0: Downloading android player API JSON\n",
            "[info] Nkj4k6dRSq0: Downloading 1 format(s): 248+251\n",
            "[info] There's no subtitles for the requested languages\n",
            "[youtube] Extracting URL: https://www.youtube.com/watch?v=Nkj4k6dRSq0\n",
            "[youtube] Nkj4k6dRSq0: Downloading webpage\n",
            "[youtube] Nkj4k6dRSq0: Downloading android player API JSON\n",
            "[info] Nkj4k6dRSq0: Downloading subtitles: en\n",
            "[info] Nkj4k6dRSq0: Downloading 1 format(s): 248+251\n",
            "[info] Writing video subtitles to: /content/TestFolder1/Nkj4k6dRSq0.en.vtt\n",
            "[download] Destination: /content/TestFolder1/Nkj4k6dRSq0.en.vtt\n",
            "[download] 100% of  119.92KiB in 00:00:00 at 341.27KiB/s\n",
            "Processing captions...\n",
            "100.00% elapsed: 0:00:00, remaining: 0:00:00"
          ]
        },
        {
          "output_type": "stream",
          "name": "stderr",
          "text": [
            "Opening /content/TestFolder2/data.1.json.gz for reading...\n",
            "Closed /content/TestFolder2/data.1.json.gz.\n",
            "\n",
            "  0%|          | 0/1 [00:00<?, ?it/s]\u001b[A"
          ]
        },
        {
          "output_type": "stream",
          "name": "stdout",
          "text": [
            "Input Video ID: Nkj4k6dRSq0\n"
          ]
        },
        {
          "output_type": "stream",
          "name": "stderr",
          "text": [
            "\n",
            "100%|██████████| 1/1 [00:01<00:00,  1.37s/it]"
          ]
        },
        {
          "output_type": "stream",
          "name": "stdout",
          "text": [
            "p1 [(16, 20), (32, 37)]\n",
            "p2 [(16, 20), (32, 37)]\n"
          ]
        },
        {
          "output_type": "stream",
          "name": "stderr",
          "text": [
            "\n"
          ]
        },
        {
          "output_type": "stream",
          "name": "stdout",
          "text": [
            "1/1 [==============================] - 0s 26ms/step\n",
            "ALL Available\n",
            "NLP: (32, 37)\n",
            "LSTM: (0, 0)\n",
            "DeiT (42, 56)\n",
            "\tPredicted=(0, 0),\n",
            "\tExpected=[[0, 0]]\n",
            "[youtube] Extracting URL: n-K86qIBBo8\n",
            "[youtube] n-K86qIBBo8: Downloading webpage\n",
            "[youtube] n-K86qIBBo8: Downloading android player API JSON\n",
            "[youtube] Extracting URL: gTkrZEIHEWg\n",
            "[youtube] gTkrZEIHEWg: Downloading webpage\n",
            "[youtube] gTkrZEIHEWg: Downloading android player API JSON\n",
            "[youtube] Extracting URL: AdxbA3rVbvw\n",
            "[youtube] AdxbA3rVbvw: Downloading webpage\n",
            "[youtube] AdxbA3rVbvw: Downloading android player API JSON\n",
            "AdxbA3rVbvw []\n",
            "[youtube] Extracting URL: https://www.youtube.com/watch?v=AdxbA3rVbvw\n",
            "[youtube] AdxbA3rVbvw: Downloading webpage\n",
            "[youtube] AdxbA3rVbvw: Downloading android player API JSON\n",
            "[info] AdxbA3rVbvw: Downloading 1 format(s): 248+251\n",
            "[info] There's no subtitles for the requested languages\n",
            "[youtube] Extracting URL: https://www.youtube.com/watch?v=AdxbA3rVbvw\n",
            "[youtube] AdxbA3rVbvw: Downloading webpage\n",
            "[youtube] AdxbA3rVbvw: Downloading android player API JSON\n",
            "[info] AdxbA3rVbvw: Downloading subtitles: en\n",
            "[info] AdxbA3rVbvw: Downloading 1 format(s): 248+251\n",
            "[info] Writing video subtitles to: /content/TestFolder1/AdxbA3rVbvw.en.vtt\n",
            "[download] Destination: /content/TestFolder1/AdxbA3rVbvw.en.vtt\n",
            "[download] 100% of  108.41KiB in 00:00:00 at 526.91KiB/s\n",
            "Processing captions...\n",
            "100.00% elapsed: 0:00:00, remaining: 0:00:00"
          ]
        },
        {
          "output_type": "stream",
          "name": "stderr",
          "text": [
            "Opening /content/TestFolder2/data.1.json.gz for reading...\n",
            "Closed /content/TestFolder2/data.1.json.gz.\n",
            "\n",
            "  0%|          | 0/1 [00:00<?, ?it/s]\u001b[A"
          ]
        },
        {
          "output_type": "stream",
          "name": "stdout",
          "text": [
            "Input Video ID: AdxbA3rVbvw\n"
          ]
        },
        {
          "output_type": "stream",
          "name": "stderr",
          "text": [
            "\n",
            "100%|██████████| 1/1 [00:01<00:00,  1.51s/it]"
          ]
        },
        {
          "output_type": "stream",
          "name": "stdout",
          "text": [
            "p1 [(9, 13), (17, 20), (95, 97), (140, 143)]\n",
            "p2 [(9, 13), (17, 20), (95, 97), (140, 143)]\n"
          ]
        },
        {
          "output_type": "stream",
          "name": "stderr",
          "text": [
            "\n"
          ]
        },
        {
          "output_type": "stream",
          "name": "stdout",
          "text": [
            "NLP & CNN Available\n",
            "NLP: (9, 13)\n",
            "LSTM: None\n",
            "DeiT (359, 374)\n",
            "\tPredicted=(114, 121),\n",
            "\tExpected=[[0, 0]]\n",
            "[youtube] Extracting URL: pVYwagnFXJI\n",
            "[youtube] pVYwagnFXJI: Downloading webpage\n",
            "[youtube] pVYwagnFXJI: Downloading android player API JSON\n",
            "[youtube] Extracting URL: _lUd5X9PtSI\n",
            "[youtube] _lUd5X9PtSI: Downloading webpage\n",
            "[youtube] _lUd5X9PtSI: Downloading android player API JSON\n",
            "_lUd5X9PtSI []\n",
            "[youtube] Extracting URL: https://www.youtube.com/watch?v=_lUd5X9PtSI\n",
            "[youtube] _lUd5X9PtSI: Downloading webpage\n",
            "[youtube] _lUd5X9PtSI: Downloading android player API JSON\n",
            "[info] _lUd5X9PtSI: Downloading subtitles: en, en-GB\n",
            "[info] _lUd5X9PtSI: Downloading 1 format(s): 248+251\n",
            "[info] Writing video subtitles to: /content/TestFolder1/_lUd5X9PtSI.en.vtt\n",
            "[download] Destination: /content/TestFolder1/_lUd5X9PtSI.en.vtt\n",
            "[download] 100% of    2.43KiB in 00:00:00 at 64.88KiB/s\n",
            "[info] Writing video subtitles to: /content/TestFolder1/_lUd5X9PtSI.en-GB.vtt\n",
            "[download] Destination: /content/TestFolder1/_lUd5X9PtSI.en-GB.vtt\n",
            "[download] 100% of    2.49KiB in 00:00:00 at 95.21KiB/s\n",
            "Processing captions...\n",
            "100.00% elapsed: 0:00:00, remaining: 0:00:00"
          ]
        },
        {
          "output_type": "stream",
          "name": "stderr",
          "text": [
            "Opening /content/TestFolder2/data.1.json.gz for reading...\n",
            "Closed /content/TestFolder2/data.1.json.gz.\n",
            "\n",
            "  0%|          | 0/1 [00:00<?, ?it/s]\u001b[A"
          ]
        },
        {
          "output_type": "stream",
          "name": "stdout",
          "text": [
            "Input Video ID: _lUd5X9PtSI\n"
          ]
        },
        {
          "output_type": "stream",
          "name": "stderr",
          "text": [
            "\n",
            "100%|██████████| 1/1 [00:00<00:00,  5.65it/s]"
          ]
        },
        {
          "output_type": "stream",
          "name": "stdout",
          "text": [
            "p1 [(3, 4), (7, 12)]\n",
            "p2 [(3, 4), (7, 12)]\n"
          ]
        },
        {
          "output_type": "stream",
          "name": "stderr",
          "text": [
            "\n"
          ]
        },
        {
          "output_type": "stream",
          "name": "stdout",
          "text": [
            "NLP & CNN Available\n",
            "NLP: (7, 12)\n",
            "LSTM: None\n",
            "DeiT (55, 70)\n",
            "\tPredicted=(21, 29),\n",
            "\tExpected=[[0, 0]]\n",
            "[youtube] Extracting URL: zZnGUknpFMM\n",
            "[youtube] zZnGUknpFMM: Downloading webpage\n",
            "[youtube] zZnGUknpFMM: Downloading android player API JSON\n",
            "[youtube] Extracting URL: FypOa1PlSSE\n",
            "[youtube] FypOa1PlSSE: Downloading webpage\n",
            "[youtube] FypOa1PlSSE: Downloading android player API JSON\n",
            "[youtube] Extracting URL: A0yjzSp_Lc4\n",
            "[youtube] A0yjzSp_Lc4: Downloading webpage\n",
            "[youtube] A0yjzSp_Lc4: Downloading android player API JSON\n",
            "A0yjzSp_Lc4 []\n",
            "[youtube] Extracting URL: https://www.youtube.com/watch?v=A0yjzSp_Lc4\n",
            "[youtube] A0yjzSp_Lc4: Downloading webpage\n",
            "[youtube] A0yjzSp_Lc4: Downloading android player API JSON\n",
            "[info] A0yjzSp_Lc4: Downloading 1 format(s): 248+251\n",
            "[info] There's no subtitles for the requested languages\n",
            "[youtube] Extracting URL: https://www.youtube.com/watch?v=A0yjzSp_Lc4\n",
            "[youtube] A0yjzSp_Lc4: Downloading webpage\n",
            "[youtube] A0yjzSp_Lc4: Downloading android player API JSON\n",
            "[info] A0yjzSp_Lc4: Downloading subtitles: en\n",
            "[info] A0yjzSp_Lc4: Downloading 1 format(s): 248+251\n",
            "[info] Writing video subtitles to: /content/TestFolder1/A0yjzSp_Lc4.en.vtt\n",
            "[download] Destination: /content/TestFolder1/A0yjzSp_Lc4.en.vtt\n",
            "[download] 100% of   44.39KiB in 00:00:00 at 694.42KiB/s\n",
            "Processing captions...\n",
            "100.00% elapsed: 0:00:00, remaining: 0:00:00"
          ]
        },
        {
          "output_type": "stream",
          "name": "stderr",
          "text": [
            "Opening /content/TestFolder2/data.1.json.gz for reading...\n",
            "Closed /content/TestFolder2/data.1.json.gz.\n",
            "\n",
            "  0%|          | 0/1 [00:00<?, ?it/s]\u001b[A"
          ]
        },
        {
          "output_type": "stream",
          "name": "stdout",
          "text": [
            "Input Video ID: A0yjzSp_Lc4\n"
          ]
        },
        {
          "output_type": "stream",
          "name": "stderr",
          "text": [
            "\n",
            "100%|██████████| 1/1 [00:00<00:00,  1.58it/s]"
          ]
        },
        {
          "output_type": "stream",
          "name": "stdout",
          "text": [
            "p1 [(53, 57)]\n",
            "p2 [(53, 57)]\n"
          ]
        },
        {
          "output_type": "stream",
          "name": "stderr",
          "text": [
            "\n"
          ]
        },
        {
          "output_type": "stream",
          "name": "stdout",
          "text": [
            "1/1 [==============================] - 0s 25ms/step\n",
            "ALL Available\n",
            "NLP: (53, 57)\n",
            "LSTM: (144, 159)\n",
            "DeiT (0, 0)\n",
            "\tPredicted=(0, 0),\n",
            "\tExpected=[[0, 0]]\n",
            "[youtube] Extracting URL: j0ZhqStOwhc\n",
            "[youtube] j0ZhqStOwhc: Downloading webpage\n",
            "[youtube] j0ZhqStOwhc: Downloading android player API JSON\n",
            "j0ZhqStOwhc [[0.621854, 10.941666], [711.6503, 748.01086]]\n",
            "[youtube] Extracting URL: https://www.youtube.com/watch?v=j0ZhqStOwhc\n",
            "[youtube] j0ZhqStOwhc: Downloading webpage\n",
            "[youtube] j0ZhqStOwhc: Downloading android player API JSON\n",
            "[info] j0ZhqStOwhc: Downloading subtitles: en\n",
            "[info] j0ZhqStOwhc: Downloading 1 format(s): 303+251\n",
            "[info] Writing video subtitles to: /content/TestFolder1/j0ZhqStOwhc.en.vtt\n",
            "[download] Destination: /content/TestFolder1/j0ZhqStOwhc.en.vtt\n",
            "[download] 100% of   20.01KiB in 00:00:00 at 461.34KiB/s\n",
            "Processing captions...\n",
            "100.00% elapsed: 0:00:00, remaining: 0:00:00"
          ]
        },
        {
          "output_type": "stream",
          "name": "stderr",
          "text": [
            "Opening /content/TestFolder2/data.1.json.gz for reading...\n",
            "Closed /content/TestFolder2/data.1.json.gz.\n",
            "\n",
            "  0%|          | 0/1 [00:00<?, ?it/s]\u001b[A"
          ]
        },
        {
          "output_type": "stream",
          "name": "stdout",
          "text": [
            "Input Video ID: j0ZhqStOwhc\n"
          ]
        },
        {
          "output_type": "stream",
          "name": "stderr",
          "text": [
            "\n",
            "100%|██████████| 1/1 [00:01<00:00,  1.23s/it]"
          ]
        },
        {
          "output_type": "stream",
          "name": "stdout",
          "text": [
            "p1 [(0, 2), (146, 148), (175, 178), (190, 193), (197, 199)]\n",
            "p2 [(0, 2), (146, 148), (175, 178), (190, 193), (197, 199)]\n"
          ]
        },
        {
          "output_type": "stream",
          "name": "stderr",
          "text": [
            "\n"
          ]
        },
        {
          "output_type": "stream",
          "name": "stdout",
          "text": [
            "1/1 [==============================] - 0s 26ms/step\n",
            "ALL Available\n",
            "After reshape:  [[0.621854, 10.941666]]\n",
            "NLP: (190, 193)\n",
            "LSTM: (736, 751)\n",
            "DeiT (729, 744)\n",
            "\tPredicted=(0, 0),\n",
            "\tExpected=[[0.621854, 10.941666]]\n",
            "[youtube] Extracting URL: 0oolx1d-wD8\n",
            "[youtube] 0oolx1d-wD8: Downloading webpage\n",
            "[youtube] 0oolx1d-wD8: Downloading android player API JSON\n",
            "0oolx1d-wD8 []\n",
            "[youtube] Extracting URL: https://www.youtube.com/watch?v=0oolx1d-wD8\n",
            "[youtube] 0oolx1d-wD8: Downloading webpage\n",
            "[youtube] 0oolx1d-wD8: Downloading android player API JSON\n",
            "[info] 0oolx1d-wD8: Downloading 1 format(s): 303+251\n",
            "[info] There's no subtitles for the requested languages\n",
            "[youtube] Extracting URL: https://www.youtube.com/watch?v=0oolx1d-wD8\n",
            "[youtube] 0oolx1d-wD8: Downloading webpage\n",
            "[youtube] 0oolx1d-wD8: Downloading android player API JSON\n",
            "[info] 0oolx1d-wD8: Downloading subtitles: en\n",
            "[info] 0oolx1d-wD8: Downloading 1 format(s): 303+251\n",
            "[info] Writing video subtitles to: /content/TestFolder1/0oolx1d-wD8.en.vtt\n",
            "[download] Destination: /content/TestFolder1/0oolx1d-wD8.en.vtt\n",
            "[download] 100% of   77.31KiB in 00:00:00 at 1.23MiB/s\n",
            "Processing captions...\n",
            "100.00% elapsed: 0:00:00, remaining: 0:00:00"
          ]
        },
        {
          "output_type": "stream",
          "name": "stderr",
          "text": [
            "Opening /content/TestFolder2/data.1.json.gz for reading...\n",
            "Closed /content/TestFolder2/data.1.json.gz.\n",
            "\n",
            "  0%|          | 0/1 [00:00<?, ?it/s]\u001b[A"
          ]
        },
        {
          "output_type": "stream",
          "name": "stdout",
          "text": [
            "Input Video ID: 0oolx1d-wD8\n"
          ]
        },
        {
          "output_type": "stream",
          "name": "stderr",
          "text": [
            "\n",
            "100%|██████████| 1/1 [00:01<00:00,  1.05s/it]"
          ]
        },
        {
          "output_type": "stream",
          "name": "stdout",
          "text": [
            "p1 [(0, 3), (16, 34), (49, 76)]\n",
            "p2 [(0, 3), (16, 34), (49, 76)]\n"
          ]
        },
        {
          "output_type": "stream",
          "name": "stderr",
          "text": [
            "\n"
          ]
        },
        {
          "output_type": "stream",
          "name": "stdout",
          "text": [
            "1/1 [==============================] - 0s 27ms/step\n",
            "ALL Available\n",
            "NLP: (49, 76)\n",
            "LSTM: (0, 0)\n",
            "DeiT (50, 65)\n",
            "\tPredicted=(0, 0),\n",
            "\tExpected=[[0, 0]]\n",
            "[youtube] Extracting URL: I7WfET83fGo\n",
            "[youtube] I7WfET83fGo: Downloading webpage\n",
            "[youtube] I7WfET83fGo: Downloading android player API JSON\n",
            "[youtube] Extracting URL: 0Mc0blKa5ok\n",
            "[youtube] 0Mc0blKa5ok: Downloading webpage\n",
            "[youtube] 0Mc0blKa5ok: Downloading android player API JSON\n",
            "[youtube] Extracting URL: Wax1zXVNNiY\n",
            "[youtube] Wax1zXVNNiY: Downloading webpage\n",
            "[youtube] Wax1zXVNNiY: Downloading android player API JSON\n",
            "Wax1zXVNNiY []\n",
            "[youtube] Extracting URL: https://www.youtube.com/watch?v=Wax1zXVNNiY\n",
            "[youtube] Wax1zXVNNiY: Downloading webpage\n",
            "[youtube] Wax1zXVNNiY: Downloading android player API JSON\n",
            "[info] Wax1zXVNNiY: Downloading 1 format(s): 303+251\n",
            "[info] There's no subtitles for the requested languages\n",
            "[youtube] Extracting URL: https://www.youtube.com/watch?v=Wax1zXVNNiY\n",
            "[youtube] Wax1zXVNNiY: Downloading webpage\n",
            "[youtube] Wax1zXVNNiY: Downloading android player API JSON\n",
            "[info] Wax1zXVNNiY: Downloading subtitles: en\n",
            "[info] Wax1zXVNNiY: Downloading 1 format(s): 303+251\n",
            "[info] Writing video subtitles to: /content/TestFolder1/Wax1zXVNNiY.en.vtt\n",
            "[download] Destination: /content/TestFolder1/Wax1zXVNNiY.en.vtt\n",
            "[download] 100% of  111.47KiB in 00:00:00 at 398.99KiB/s\n",
            "Processing captions...\n",
            "100.00% elapsed: 0:00:00, remaining: 0:00:00"
          ]
        },
        {
          "output_type": "stream",
          "name": "stderr",
          "text": [
            "Opening /content/TestFolder2/data.1.json.gz for reading...\n",
            "Closed /content/TestFolder2/data.1.json.gz.\n",
            "\n",
            "  0%|          | 0/1 [00:00<?, ?it/s]\u001b[A"
          ]
        },
        {
          "output_type": "stream",
          "name": "stdout",
          "text": [
            "Input Video ID: Wax1zXVNNiY\n"
          ]
        },
        {
          "output_type": "stream",
          "name": "stderr",
          "text": [
            "\n",
            "100%|██████████| 1/1 [00:01<00:00,  1.41s/it]"
          ]
        },
        {
          "output_type": "stream",
          "name": "stdout",
          "text": [
            "p1 [(13, 17), (261, 263)]\n",
            "p2 [(13, 17), (261, 263)]\n"
          ]
        },
        {
          "output_type": "stream",
          "name": "stderr",
          "text": [
            "\n"
          ]
        },
        {
          "output_type": "stream",
          "name": "stdout",
          "text": [
            "1/1 [==============================] - 0s 41ms/step\n",
            "ALL Available\n",
            "NLP: (13, 17)\n",
            "LSTM: (52, 156)\n",
            "DeiT (0, 0)\n",
            "\tPredicted=(0, 0),\n",
            "\tExpected=[[0, 0]]\n",
            "IOU: 0.6698181818181819\n",
            "Confusion matrix [[25840   160]\n",
            " [  214    26]]\n",
            "Accuracy 0.9857469512195122\n",
            "Precision 0.13978494623655913\n",
            "Recall 0.10833333333333334\n",
            "[youtube] Extracting URL: yFDq7eKic2U\n",
            "[youtube] yFDq7eKic2U: Downloading webpage\n",
            "[youtube] yFDq7eKic2U: Downloading android player API JSON\n",
            "yFDq7eKic2U []\n",
            "[youtube] Extracting URL: https://www.youtube.com/watch?v=yFDq7eKic2U\n",
            "[youtube] yFDq7eKic2U: Downloading webpage\n",
            "[youtube] yFDq7eKic2U: Downloading android player API JSON\n",
            "[info] yFDq7eKic2U: Downloading 1 format(s): 303+251\n",
            "[info] There's no subtitles for the requested languages\n",
            "[youtube] Extracting URL: https://www.youtube.com/watch?v=yFDq7eKic2U\n",
            "[youtube] yFDq7eKic2U: Downloading webpage\n",
            "[youtube] yFDq7eKic2U: Downloading android player API JSON\n",
            "[info] yFDq7eKic2U: Downloading subtitles: en\n",
            "[info] yFDq7eKic2U: Downloading 1 format(s): 303+251\n",
            "[info] Writing video subtitles to: /content/TestFolder1/yFDq7eKic2U.en.vtt\n",
            "[download] Destination: /content/TestFolder1/yFDq7eKic2U.en.vtt\n",
            "[download] 100% of   91.09KiB in 00:00:00 at 400.04KiB/s\n",
            "Processing captions...\n",
            "100.00% elapsed: 0:00:00, remaining: 0:00:00"
          ]
        },
        {
          "output_type": "stream",
          "name": "stderr",
          "text": [
            "Opening /content/TestFolder2/data.1.json.gz for reading...\n",
            "Closed /content/TestFolder2/data.1.json.gz.\n",
            "\n",
            "  0%|          | 0/1 [00:00<?, ?it/s]\u001b[A"
          ]
        },
        {
          "output_type": "stream",
          "name": "stdout",
          "text": [
            "Input Video ID: yFDq7eKic2U\n"
          ]
        },
        {
          "output_type": "stream",
          "name": "stderr",
          "text": [
            "\n",
            "100%|██████████| 1/1 [00:01<00:00,  1.12s/it]"
          ]
        },
        {
          "output_type": "stream",
          "name": "stdout",
          "text": [
            "p1 [(130, 135)]\n",
            "p2 [(130, 135)]\n"
          ]
        },
        {
          "output_type": "stream",
          "name": "stderr",
          "text": [
            "\n"
          ]
        },
        {
          "output_type": "stream",
          "name": "stdout",
          "text": [
            "1/1 [==============================] - 0s 25ms/step\n",
            "ALL Available\n",
            "NLP: (130, 135)\n",
            "LSTM: (208, 236)\n",
            "DeiT (0, 0)\n",
            "\tPredicted=(0, 0),\n",
            "\tExpected=[[0, 0]]\n",
            "[youtube] Extracting URL: i3BhEZWA-wY\n",
            "[youtube] i3BhEZWA-wY: Downloading webpage\n",
            "[youtube] i3BhEZWA-wY: Downloading android player API JSON\n",
            "i3BhEZWA-wY []\n",
            "[youtube] Extracting URL: https://www.youtube.com/watch?v=i3BhEZWA-wY\n",
            "[youtube] i3BhEZWA-wY: Downloading webpage\n",
            "[youtube] i3BhEZWA-wY: Downloading android player API JSON\n",
            "[info] i3BhEZWA-wY: Downloading 1 format(s): 303+251\n",
            "[info] There's no subtitles for the requested languages\n",
            "[youtube] Extracting URL: https://www.youtube.com/watch?v=i3BhEZWA-wY\n",
            "[youtube] i3BhEZWA-wY: Downloading webpage\n",
            "[youtube] i3BhEZWA-wY: Downloading android player API JSON\n",
            "[info] i3BhEZWA-wY: Downloading subtitles: en\n",
            "[info] i3BhEZWA-wY: Downloading 1 format(s): 303+251\n",
            "[info] Writing video subtitles to: /content/TestFolder1/i3BhEZWA-wY.en.vtt\n",
            "[download] Destination: /content/TestFolder1/i3BhEZWA-wY.en.vtt\n",
            "[download] 100% of   16.57KiB in 00:00:00 at 312.03KiB/s\n",
            "Processing captions...\n",
            "100.00% elapsed: 0:00:00, remaining: 0:00:00"
          ]
        },
        {
          "output_type": "stream",
          "name": "stderr",
          "text": [
            "Opening /content/TestFolder2/data.1.json.gz for reading...\n",
            "Closed /content/TestFolder2/data.1.json.gz.\n",
            "\n",
            "  0%|          | 0/1 [00:00<?, ?it/s]\u001b[A"
          ]
        },
        {
          "output_type": "stream",
          "name": "stdout",
          "text": [
            "Input Video ID: i3BhEZWA-wY\n"
          ]
        },
        {
          "output_type": "stream",
          "name": "stderr",
          "text": [
            "\n",
            "100%|██████████| 1/1 [00:00<00:00,  1.85it/s]"
          ]
        },
        {
          "output_type": "stream",
          "name": "stdout",
          "text": [
            "p1 [(4, 9)]\n",
            "p2 [(4, 9)]\n"
          ]
        },
        {
          "output_type": "stream",
          "name": "stderr",
          "text": [
            "\n"
          ]
        },
        {
          "output_type": "stream",
          "name": "stdout",
          "text": [
            "1/1 [==============================] - 0s 47ms/step\n",
            "ALL Available\n",
            "NLP: (4, 9)\n",
            "LSTM: (0, 0)\n",
            "DeiT (0, 0)\n",
            "\tPredicted=(0, 0),\n",
            "\tExpected=[[0, 0]]\n",
            "[youtube] Extracting URL: i08kySYG7lw\n",
            "[youtube] i08kySYG7lw: Downloading webpage\n",
            "[youtube] i08kySYG7lw: Downloading android player API JSON\n",
            "i08kySYG7lw []\n",
            "[youtube] Extracting URL: https://www.youtube.com/watch?v=i08kySYG7lw\n",
            "[youtube] i08kySYG7lw: Downloading webpage\n",
            "[youtube] i08kySYG7lw: Downloading android player API JSON\n",
            "[info] i08kySYG7lw: Downloading 1 format(s): 248+251\n",
            "[info] There's no subtitles for the requested languages\n",
            "[youtube] Extracting URL: https://www.youtube.com/watch?v=i08kySYG7lw\n",
            "[youtube] i08kySYG7lw: Downloading webpage\n",
            "[youtube] i08kySYG7lw: Downloading android player API JSON\n",
            "[info] i08kySYG7lw: Downloading subtitles: en\n",
            "[info] i08kySYG7lw: Downloading 1 format(s): 248+251\n",
            "[info] Writing video subtitles to: /content/TestFolder1/i08kySYG7lw.en.vtt\n",
            "[download] Destination: /content/TestFolder1/i08kySYG7lw.en.vtt\n",
            "[download] 100% of  111.95KiB in 00:00:00 at 1.05MiB/s\n",
            "Processing captions...\n",
            "100.00% elapsed: 0:00:00, remaining: 0:00:00"
          ]
        },
        {
          "output_type": "stream",
          "name": "stderr",
          "text": [
            "Opening /content/TestFolder2/data.1.json.gz for reading...\n",
            "Closed /content/TestFolder2/data.1.json.gz.\n",
            "\n",
            "  0%|          | 0/1 [00:00<?, ?it/s]\u001b[A"
          ]
        },
        {
          "output_type": "stream",
          "name": "stdout",
          "text": [
            "Input Video ID: i08kySYG7lw\n"
          ]
        },
        {
          "output_type": "stream",
          "name": "stderr",
          "text": [
            "\n",
            "100%|██████████| 1/1 [00:01<00:00,  1.27s/it]"
          ]
        },
        {
          "output_type": "stream",
          "name": "stdout",
          "text": [
            "p1 [(4, 14), (50, 55), (98, 103), (113, 122), (204, 208), (291, 296)]\n",
            "p2 [(4, 14), (50, 55), (98, 103), (113, 122), (204, 208), (291, 296)]\n"
          ]
        },
        {
          "output_type": "stream",
          "name": "stderr",
          "text": [
            "\n"
          ]
        },
        {
          "output_type": "stream",
          "name": "stdout",
          "text": [
            "NLP & CNN Available\n",
            "NLP: (4, 14)\n",
            "LSTM: None\n",
            "DeiT (180, 201)\n",
            "\tPredicted=(56, 70),\n",
            "\tExpected=[[0, 0]]\n",
            "[youtube] Extracting URL: GEPTSTsRYVE\n",
            "[youtube] GEPTSTsRYVE: Downloading webpage\n",
            "[youtube] GEPTSTsRYVE: Downloading android player API JSON\n",
            "GEPTSTsRYVE []\n",
            "[youtube] Extracting URL: https://www.youtube.com/watch?v=GEPTSTsRYVE\n",
            "[youtube] GEPTSTsRYVE: Downloading webpage\n",
            "[youtube] GEPTSTsRYVE: Downloading android player API JSON\n",
            "[info] GEPTSTsRYVE: Downloading 1 format(s): 303+251\n",
            "[info] There's no subtitles for the requested languages\n",
            "[youtube] Extracting URL: https://www.youtube.com/watch?v=GEPTSTsRYVE\n",
            "[youtube] GEPTSTsRYVE: Downloading webpage\n",
            "[youtube] GEPTSTsRYVE: Downloading android player API JSON\n",
            "[info] GEPTSTsRYVE: Downloading subtitles: en\n",
            "[info] GEPTSTsRYVE: Downloading 1 format(s): 303+251\n",
            "[info] Writing video subtitles to: /content/TestFolder1/GEPTSTsRYVE.en.vtt\n",
            "[download] Destination: /content/TestFolder1/GEPTSTsRYVE.en.vtt\n",
            "[download] 100% of   65.13KiB in 00:00:00 at 581.78KiB/s\n",
            "Processing captions...\n",
            "100.00% elapsed: 0:00:00, remaining: 0:00:00"
          ]
        },
        {
          "output_type": "stream",
          "name": "stderr",
          "text": [
            "Opening /content/TestFolder2/data.1.json.gz for reading...\n",
            "Closed /content/TestFolder2/data.1.json.gz.\n",
            "\n",
            "  0%|          | 0/1 [00:00<?, ?it/s]\u001b[A"
          ]
        },
        {
          "output_type": "stream",
          "name": "stdout",
          "text": [
            "Input Video ID: GEPTSTsRYVE\n"
          ]
        },
        {
          "output_type": "stream",
          "name": "stderr",
          "text": [
            "\n",
            "100%|██████████| 1/1 [00:00<00:00,  1.23it/s]"
          ]
        },
        {
          "output_type": "stream",
          "name": "stdout",
          "text": [
            "p1 [(120, 121), (128, 132), (138, 146)]\n",
            "p2 [(120, 121), (128, 132), (138, 146)]\n"
          ]
        },
        {
          "output_type": "stream",
          "name": "stderr",
          "text": [
            "\n"
          ]
        },
        {
          "output_type": "stream",
          "name": "stdout",
          "text": [
            "NLP & CNN Available\n",
            "NLP: (138, 146)\n",
            "LSTM: None\n",
            "DeiT (249, 264)\n",
            "\tPredicted=(171, 181),\n",
            "\tExpected=[[0, 0]]\n",
            "[youtube] Extracting URL: 4AXDKWuY9QM\n",
            "[youtube] 4AXDKWuY9QM: Downloading webpage\n",
            "[youtube] 4AXDKWuY9QM: Downloading android player API JSON\n",
            "4AXDKWuY9QM []\n",
            "[youtube] Extracting URL: https://www.youtube.com/watch?v=4AXDKWuY9QM\n",
            "[youtube] 4AXDKWuY9QM: Downloading webpage\n",
            "[youtube] 4AXDKWuY9QM: Downloading android player API JSON\n",
            "[info] 4AXDKWuY9QM: Downloading 1 format(s): 247+251\n",
            "[info] There's no subtitles for the requested languages\n",
            "[youtube] Extracting URL: https://www.youtube.com/watch?v=4AXDKWuY9QM\n",
            "[youtube] 4AXDKWuY9QM: Downloading webpage\n",
            "[youtube] 4AXDKWuY9QM: Downloading android player API JSON\n",
            "[info] 4AXDKWuY9QM: Downloading subtitles: en\n",
            "[info] 4AXDKWuY9QM: Downloading 1 format(s): 247+251\n",
            "[info] Writing video subtitles to: /content/TestFolder1/4AXDKWuY9QM.en.vtt\n",
            "[download] Destination: /content/TestFolder1/4AXDKWuY9QM.en.vtt\n",
            "[download] 100% of   42.12KiB in 00:00:00 at 891.65KiB/s\n",
            "Processing captions...\n",
            "100.00% elapsed: 0:00:00, remaining: 0:00:00"
          ]
        },
        {
          "output_type": "stream",
          "name": "stderr",
          "text": [
            "Opening /content/TestFolder2/data.1.json.gz for reading...\n",
            "Closed /content/TestFolder2/data.1.json.gz.\n",
            "\n",
            "  0%|          | 0/1 [00:00<?, ?it/s]\u001b[A"
          ]
        },
        {
          "output_type": "stream",
          "name": "stdout",
          "text": [
            "Input Video ID: 4AXDKWuY9QM\n"
          ]
        },
        {
          "output_type": "stream",
          "name": "stderr",
          "text": [
            "\n",
            "100%|██████████| 1/1 [00:00<00:00,  1.47it/s]"
          ]
        },
        {
          "output_type": "stream",
          "name": "stdout",
          "text": [
            "p1 [(89, 94)]\n",
            "p2 [(89, 94)]\n"
          ]
        },
        {
          "output_type": "stream",
          "name": "stderr",
          "text": [
            "\n"
          ]
        },
        {
          "output_type": "stream",
          "name": "stdout",
          "text": [
            "NLP & CNN Available\n",
            "NLP: (89, 94)\n",
            "LSTM: None\n",
            "DeiT (91, 105)\n",
            "\tPredicted=(89, 97),\n",
            "\tExpected=[[0, 0]]\n",
            "[youtube] Extracting URL: ZBt92YDdC2I\n",
            "[youtube] ZBt92YDdC2I: Downloading webpage\n",
            "[youtube] ZBt92YDdC2I: Downloading android player API JSON\n",
            "ZBt92YDdC2I []\n",
            "[youtube] Extracting URL: https://www.youtube.com/watch?v=ZBt92YDdC2I\n",
            "[youtube] ZBt92YDdC2I: Downloading webpage\n",
            "[youtube] ZBt92YDdC2I: Downloading android player API JSON\n",
            "[info] ZBt92YDdC2I: Downloading 1 format(s): 248+251\n",
            "[info] There's no subtitles for the requested languages\n",
            "[youtube] Extracting URL: https://www.youtube.com/watch?v=ZBt92YDdC2I\n",
            "[youtube] ZBt92YDdC2I: Downloading webpage\n",
            "[youtube] ZBt92YDdC2I: Downloading android player API JSON\n",
            "[info] ZBt92YDdC2I: Downloading subtitles: en\n",
            "[info] ZBt92YDdC2I: Downloading 1 format(s): 248+251\n",
            "[info] Writing video subtitles to: /content/TestFolder1/ZBt92YDdC2I.en.vtt\n",
            "[download] Destination: /content/TestFolder1/ZBt92YDdC2I.en.vtt\n",
            "[download] 100% of   17.83KiB in 00:00:00 at 55.45KiB/s\n",
            "Processing captions...\n",
            "100.00% elapsed: 0:00:00, remaining: 0:00:00"
          ]
        },
        {
          "output_type": "stream",
          "name": "stderr",
          "text": [
            "Opening /content/TestFolder2/data.1.json.gz for reading...\n",
            "Closed /content/TestFolder2/data.1.json.gz.\n",
            "\n",
            "  0%|          | 0/1 [00:00<?, ?it/s]\u001b[A"
          ]
        },
        {
          "output_type": "stream",
          "name": "stdout",
          "text": [
            "Input Video ID: ZBt92YDdC2I\n"
          ]
        },
        {
          "output_type": "stream",
          "name": "stderr",
          "text": [
            "\n",
            "100%|██████████| 1/1 [00:00<00:00,  3.37it/s]"
          ]
        },
        {
          "output_type": "stream",
          "name": "stdout",
          "text": [
            "p1 []\n",
            "p2 []\n"
          ]
        },
        {
          "output_type": "stream",
          "name": "stderr",
          "text": [
            "\n"
          ]
        },
        {
          "output_type": "stream",
          "name": "stdout",
          "text": [
            "NLP & CNN Available\n",
            "NLP: (0, 0)\n",
            "LSTM: None\n",
            "DeiT (128, 145)\n",
            "\tPredicted=(38, 43),\n",
            "\tExpected=[[0, 0]]\n",
            "[youtube] Extracting URL: bY_9XuiUztw\n",
            "[youtube] bY_9XuiUztw: Downloading webpage\n",
            "[youtube] bY_9XuiUztw: Downloading android player API JSON\n"
          ]
        },
        {
          "output_type": "stream",
          "name": "stderr",
          "text": [
            "ERROR: [youtube] bY_9XuiUztw: Join this channel to get access to members-only content like this video, and other exclusive perks.\n"
          ]
        },
        {
          "output_type": "stream",
          "name": "stdout",
          "text": [
            "[youtube] Extracting URL: 32c3zEHgqTw\n",
            "[youtube] 32c3zEHgqTw: Downloading webpage\n",
            "[youtube] 32c3zEHgqTw: Downloading android player API JSON\n",
            "32c3zEHgqTw []\n",
            "[youtube] Extracting URL: https://www.youtube.com/watch?v=32c3zEHgqTw\n",
            "[youtube] 32c3zEHgqTw: Downloading webpage\n",
            "[youtube] 32c3zEHgqTw: Downloading android player API JSON\n",
            "[info] 32c3zEHgqTw: Downloading 1 format(s): 303+251\n",
            "[info] There's no subtitles for the requested languages\n",
            "[youtube] Extracting URL: https://www.youtube.com/watch?v=32c3zEHgqTw\n",
            "[youtube] 32c3zEHgqTw: Downloading webpage\n",
            "[youtube] 32c3zEHgqTw: Downloading android player API JSON\n",
            "[info] 32c3zEHgqTw: Downloading subtitles: en\n",
            "[info] 32c3zEHgqTw: Downloading 1 format(s): 303+251\n",
            "[info] Writing video subtitles to: /content/TestFolder1/32c3zEHgqTw.en.vtt\n",
            "[download] Destination: /content/TestFolder1/32c3zEHgqTw.en.vtt\n",
            "[download] 100% of   60.67KiB in 00:00:00 at 211.17KiB/s\n",
            "Processing captions...\n",
            "100.00% elapsed: 0:00:00, remaining: 0:00:00"
          ]
        },
        {
          "output_type": "stream",
          "name": "stderr",
          "text": [
            "Opening /content/TestFolder2/data.1.json.gz for reading...\n",
            "Closed /content/TestFolder2/data.1.json.gz.\n",
            "\n",
            "  0%|          | 0/1 [00:00<?, ?it/s]\u001b[A"
          ]
        },
        {
          "output_type": "stream",
          "name": "stdout",
          "text": [
            "Input Video ID: 32c3zEHgqTw\n"
          ]
        },
        {
          "output_type": "stream",
          "name": "stderr",
          "text": [
            "\n",
            "100%|██████████| 1/1 [00:00<00:00,  1.20it/s]"
          ]
        },
        {
          "output_type": "stream",
          "name": "stdout",
          "text": [
            "p1 [(54, 55)]\n",
            "p2 [(54, 55)]\n"
          ]
        },
        {
          "output_type": "stream",
          "name": "stderr",
          "text": [
            "\n"
          ]
        },
        {
          "output_type": "stream",
          "name": "stdout",
          "text": [
            "1/1 [==============================] - 0s 38ms/step\n",
            "ALL Available\n",
            "NLP: (54, 55)\n",
            "LSTM: (0, 0)\n",
            "DeiT (296, 312)\n",
            "\tPredicted=(0, 0),\n",
            "\tExpected=[[0, 0]]\n",
            "[youtube] Extracting URL: _WFNoHlNif0\n",
            "[youtube] _WFNoHlNif0: Downloading webpage\n",
            "[youtube] _WFNoHlNif0: Downloading android player API JSON\n",
            "[youtube] Extracting URL: LrdeXH1wcDE\n",
            "[youtube] LrdeXH1wcDE: Downloading webpage\n",
            "[youtube] LrdeXH1wcDE: Downloading android player API JSON\n",
            "[youtube] Extracting URL: DQ3yiiVblDo\n",
            "[youtube] DQ3yiiVblDo: Downloading webpage\n",
            "[youtube] DQ3yiiVblDo: Downloading android player API JSON\n",
            "DQ3yiiVblDo []\n",
            "[youtube] Extracting URL: https://www.youtube.com/watch?v=DQ3yiiVblDo\n",
            "[youtube] DQ3yiiVblDo: Downloading webpage\n",
            "[youtube] DQ3yiiVblDo: Downloading android player API JSON\n",
            "[info] DQ3yiiVblDo: Downloading 1 format(s): 303+251\n",
            "[info] There's no subtitles for the requested languages\n",
            "[youtube] Extracting URL: https://www.youtube.com/watch?v=DQ3yiiVblDo\n",
            "[youtube] DQ3yiiVblDo: Downloading webpage\n",
            "[youtube] DQ3yiiVblDo: Downloading android player API JSON\n",
            "[info] DQ3yiiVblDo: Downloading subtitles: en\n",
            "[info] DQ3yiiVblDo: Downloading 1 format(s): 303+251\n",
            "[info] Writing video subtitles to: /content/TestFolder1/DQ3yiiVblDo.en.vtt\n",
            "[download] Destination: /content/TestFolder1/DQ3yiiVblDo.en.vtt\n",
            "[download] 100% of  114.68KiB in 00:00:00 at 2.12MiB/s\n",
            "Processing captions...\n",
            "100.00% elapsed: 0:00:00, remaining: 0:00:00"
          ]
        },
        {
          "output_type": "stream",
          "name": "stderr",
          "text": [
            "Opening /content/TestFolder2/data.1.json.gz for reading...\n",
            "Closed /content/TestFolder2/data.1.json.gz.\n",
            "\n",
            "  0%|          | 0/1 [00:00<?, ?it/s]\u001b[A"
          ]
        },
        {
          "output_type": "stream",
          "name": "stdout",
          "text": [
            "Input Video ID: DQ3yiiVblDo\n"
          ]
        },
        {
          "output_type": "stream",
          "name": "stderr",
          "text": [
            "\n",
            "100%|██████████| 1/1 [00:01<00:00,  1.34s/it]"
          ]
        },
        {
          "output_type": "stream",
          "name": "stdout",
          "text": [
            "p1 [(34, 38), (68, 73), (260, 263)]\n",
            "p2 [(34, 38), (68, 73), (260, 263)]\n"
          ]
        },
        {
          "output_type": "stream",
          "name": "stderr",
          "text": [
            "\n"
          ]
        },
        {
          "output_type": "stream",
          "name": "stdout",
          "text": [
            "1/1 [==============================] - 0s 38ms/step\n",
            "ALL Available\n",
            "NLP: (68, 73)\n",
            "LSTM: (0, 0)\n",
            "DeiT (296, 314)\n",
            "\tPredicted=(0, 0),\n",
            "\tExpected=[[0, 0]]\n",
            "[youtube] Extracting URL: ToyemCg1xB0\n",
            "[youtube] ToyemCg1xB0: Downloading webpage\n",
            "[youtube] ToyemCg1xB0: Downloading android player API JSON\n",
            "[youtube] Extracting URL: uSZwicXSO1k\n",
            "[youtube] uSZwicXSO1k: Downloading webpage\n",
            "[youtube] uSZwicXSO1k: Downloading android player API JSON\n",
            "uSZwicXSO1k []\n",
            "[youtube] Extracting URL: https://www.youtube.com/watch?v=uSZwicXSO1k\n",
            "[youtube] uSZwicXSO1k: Downloading webpage\n",
            "[youtube] uSZwicXSO1k: Downloading android player API JSON\n",
            "[info] uSZwicXSO1k: Downloading 1 format(s): 303+251\n",
            "[info] There's no subtitles for the requested languages\n",
            "[youtube] Extracting URL: https://www.youtube.com/watch?v=uSZwicXSO1k\n",
            "[youtube] uSZwicXSO1k: Downloading webpage\n",
            "[youtube] uSZwicXSO1k: Downloading android player API JSON\n",
            "[info] uSZwicXSO1k: Downloading subtitles: en\n",
            "[info] uSZwicXSO1k: Downloading 1 format(s): 303+251\n",
            "[info] Writing video subtitles to: /content/TestFolder1/uSZwicXSO1k.en.vtt\n",
            "[download] Destination: /content/TestFolder1/uSZwicXSO1k.en.vtt\n",
            "[download] 100% of   78.99KiB in 00:00:00 at 322.27KiB/s\n",
            "Processing captions...\n",
            "100.00% elapsed: 0:00:00, remaining: 0:00:00"
          ]
        },
        {
          "output_type": "stream",
          "name": "stderr",
          "text": [
            "Opening /content/TestFolder2/data.1.json.gz for reading...\n",
            "Closed /content/TestFolder2/data.1.json.gz.\n",
            "\n",
            "  0%|          | 0/1 [00:00<?, ?it/s]\u001b[A"
          ]
        },
        {
          "output_type": "stream",
          "name": "stdout",
          "text": [
            "Input Video ID: uSZwicXSO1k\n"
          ]
        },
        {
          "output_type": "stream",
          "name": "stderr",
          "text": [
            "\n",
            "100%|██████████| 1/1 [00:01<00:00,  1.01s/it]"
          ]
        },
        {
          "output_type": "stream",
          "name": "stdout",
          "text": [
            "p1 [(19, 23)]\n",
            "p2 [(19, 23)]\n"
          ]
        },
        {
          "output_type": "stream",
          "name": "stderr",
          "text": [
            "\n"
          ]
        },
        {
          "output_type": "stream",
          "name": "stdout",
          "text": [
            "NLP & CNN Available\n",
            "NLP: (19, 23)\n",
            "LSTM: None\n",
            "DeiT (45, 59)\n",
            "\tPredicted=(26, 33),\n",
            "\tExpected=[[0, 0]]\n",
            "[youtube] Extracting URL: 9lV1tFc8FLM\n",
            "[youtube] 9lV1tFc8FLM: Downloading webpage\n",
            "[youtube] 9lV1tFc8FLM: Downloading android player API JSON\n",
            "[youtube] Extracting URL: 17-LC-ZuURE\n",
            "[youtube] 17-LC-ZuURE: Downloading webpage\n",
            "[youtube] 17-LC-ZuURE: Downloading android player API JSON\n",
            "[youtube] Extracting URL: sTfT3PHYtfM\n",
            "[youtube] sTfT3PHYtfM: Downloading webpage\n",
            "[youtube] sTfT3PHYtfM: Downloading android player API JSON\n",
            "[youtube] Extracting URL: DoGfpkpQz4U\n",
            "[youtube] DoGfpkpQz4U: Downloading webpage\n",
            "[youtube] DoGfpkpQz4U: Downloading android player API JSON\n",
            "[youtube] Extracting URL: Jjxl0JEhQz0\n",
            "[youtube] Jjxl0JEhQz0: Downloading webpage\n",
            "[youtube] Jjxl0JEhQz0: Downloading android player API JSON\n",
            "[youtube] Extracting URL: sBN2VePdX_o\n",
            "[youtube] sBN2VePdX_o: Downloading webpage\n",
            "[youtube] sBN2VePdX_o: Downloading android player API JSON\n",
            "sBN2VePdX_o []\n",
            "[youtube] Extracting URL: https://www.youtube.com/watch?v=sBN2VePdX_o\n",
            "[youtube] sBN2VePdX_o: Downloading webpage\n",
            "[youtube] sBN2VePdX_o: Downloading android player API JSON\n",
            "[info] sBN2VePdX_o: Downloading 1 format(s): 315+251\n",
            "[info] There's no subtitles for the requested languages\n",
            "[youtube] Extracting URL: https://www.youtube.com/watch?v=sBN2VePdX_o\n",
            "[youtube] sBN2VePdX_o: Downloading webpage\n",
            "[youtube] sBN2VePdX_o: Downloading android player API JSON\n",
            "[info] sBN2VePdX_o: Downloading subtitles: en\n",
            "[info] sBN2VePdX_o: Downloading 1 format(s): 315+251\n",
            "[info] Writing video subtitles to: /content/TestFolder1/sBN2VePdX_o.en.vtt\n",
            "[download] Destination: /content/TestFolder1/sBN2VePdX_o.en.vtt\n",
            "[download] 100% of  122.01KiB in 00:00:00 at 568.43KiB/s\n",
            "Processing captions...\n",
            "100.00% elapsed: 0:00:00, remaining: 0:00:00"
          ]
        },
        {
          "output_type": "stream",
          "name": "stderr",
          "text": [
            "Opening /content/TestFolder2/data.1.json.gz for reading...\n",
            "Closed /content/TestFolder2/data.1.json.gz.\n",
            "\n",
            "  0%|          | 0/1 [00:00<?, ?it/s]\u001b[A"
          ]
        },
        {
          "output_type": "stream",
          "name": "stdout",
          "text": [
            "Input Video ID: sBN2VePdX_o\n"
          ]
        },
        {
          "output_type": "stream",
          "name": "stderr",
          "text": [
            "\n",
            "100%|██████████| 1/1 [00:01<00:00,  1.37s/it]"
          ]
        },
        {
          "output_type": "stream",
          "name": "stdout",
          "text": [
            "p1 [(4, 13), (37, 42)]\n",
            "p2 [(4, 13), (37, 42)]\n"
          ]
        },
        {
          "output_type": "stream",
          "name": "stderr",
          "text": [
            "\n"
          ]
        },
        {
          "output_type": "stream",
          "name": "stdout",
          "text": [
            "1/1 [==============================] - 0s 30ms/step\n",
            "ALL Available\n",
            "NLP: (4, 13)\n",
            "LSTM: (0, 0)\n",
            "DeiT (0, 0)\n",
            "\tPredicted=(0, 0),\n",
            "\tExpected=[[0, 0]]\n",
            "IOU: 0.6748484848484848\n",
            "Confusion matrix [[31893   209]\n",
            " [  219    31]]\n",
            "Accuracy 0.9867705242334323\n",
            "Precision 0.12916666666666668\n",
            "Recall 0.124\n",
            "[youtube] Extracting URL: DGvNlOnwUQI\n",
            "[youtube] DGvNlOnwUQI: Downloading webpage\n",
            "[youtube] DGvNlOnwUQI: Downloading android player API JSON\n",
            "DGvNlOnwUQI []\n",
            "[youtube] Extracting URL: https://www.youtube.com/watch?v=DGvNlOnwUQI\n",
            "[youtube] DGvNlOnwUQI: Downloading webpage\n",
            "[youtube] DGvNlOnwUQI: Downloading android player API JSON\n",
            "[info] DGvNlOnwUQI: Downloading 1 format(s): 308+251\n",
            "[info] There's no subtitles for the requested languages\n",
            "[youtube] Extracting URL: https://www.youtube.com/watch?v=DGvNlOnwUQI\n",
            "[youtube] DGvNlOnwUQI: Downloading webpage\n",
            "[youtube] DGvNlOnwUQI: Downloading android player API JSON\n",
            "[info] DGvNlOnwUQI: Downloading subtitles: en\n",
            "[info] DGvNlOnwUQI: Downloading 1 format(s): 308+251\n",
            "[info] Writing video subtitles to: /content/TestFolder1/DGvNlOnwUQI.en.vtt\n",
            "[download] Destination: /content/TestFolder1/DGvNlOnwUQI.en.vtt\n",
            "[download] 100% of   65.03KiB in 00:00:00 at 298.84KiB/s\n",
            "Processing captions...\n",
            "100.00% elapsed: 0:00:00, remaining: 0:00:00"
          ]
        },
        {
          "output_type": "stream",
          "name": "stderr",
          "text": [
            "Opening /content/TestFolder2/data.1.json.gz for reading...\n",
            "Closed /content/TestFolder2/data.1.json.gz.\n",
            "\n",
            "  0%|          | 0/1 [00:00<?, ?it/s]\u001b[A"
          ]
        },
        {
          "output_type": "stream",
          "name": "stdout",
          "text": [
            "Input Video ID: DGvNlOnwUQI\n"
          ]
        },
        {
          "output_type": "stream",
          "name": "stderr",
          "text": [
            "\n",
            "100%|██████████| 1/1 [00:00<00:00,  1.17it/s]"
          ]
        },
        {
          "output_type": "stream",
          "name": "stdout",
          "text": [
            "p1 [(41, 51), (66, 71)]\n",
            "p2 [(41, 51), (66, 71)]\n"
          ]
        },
        {
          "output_type": "stream",
          "name": "stderr",
          "text": [
            "\n"
          ]
        },
        {
          "output_type": "stream",
          "name": "stdout",
          "text": [
            "NLP & CNN Available\n",
            "NLP: (41, 51)\n",
            "LSTM: None\n",
            "DeiT (137, 151)\n",
            "\tPredicted=(69, 81),\n",
            "\tExpected=[[0, 0]]\n",
            "[youtube] Extracting URL: iMnWk5MaexE\n",
            "[youtube] iMnWk5MaexE: Downloading webpage\n",
            "[youtube] iMnWk5MaexE: Downloading android player API JSON\n",
            "iMnWk5MaexE []\n",
            "[youtube] Extracting URL: https://www.youtube.com/watch?v=iMnWk5MaexE\n",
            "[youtube] iMnWk5MaexE: Downloading webpage\n",
            "[youtube] iMnWk5MaexE: Downloading android player API JSON\n",
            "[info] iMnWk5MaexE: Downloading 1 format(s): 248+251\n",
            "[info] There's no subtitles for the requested languages\n",
            "[youtube] Extracting URL: https://www.youtube.com/watch?v=iMnWk5MaexE\n",
            "[youtube] iMnWk5MaexE: Downloading webpage\n",
            "[youtube] iMnWk5MaexE: Downloading android player API JSON\n",
            "[info] iMnWk5MaexE: Downloading subtitles: en\n",
            "[info] iMnWk5MaexE: Downloading 1 format(s): 248+251\n",
            "[info] Writing video subtitles to: /content/TestFolder1/iMnWk5MaexE.en.vtt\n",
            "[download] Destination: /content/TestFolder1/iMnWk5MaexE.en.vtt\n",
            "[download] 100% of   70.73KiB in 00:00:00 at 294.04KiB/s\n",
            "Processing captions...\n",
            "100.00% elapsed: 0:00:00, remaining: 0:00:00"
          ]
        },
        {
          "output_type": "stream",
          "name": "stderr",
          "text": [
            "Opening /content/TestFolder2/data.1.json.gz for reading...\n",
            "Closed /content/TestFolder2/data.1.json.gz.\n",
            "\n",
            "  0%|          | 0/1 [00:00<?, ?it/s]\u001b[A"
          ]
        },
        {
          "output_type": "stream",
          "name": "stdout",
          "text": [
            "Input Video ID: iMnWk5MaexE\n"
          ]
        },
        {
          "output_type": "stream",
          "name": "stderr",
          "text": [
            "\n",
            "100%|██████████| 1/1 [00:00<00:00,  1.27it/s]"
          ]
        },
        {
          "output_type": "stream",
          "name": "stdout",
          "text": [
            "p1 [(12, 18)]\n",
            "p2 [(12, 18)]\n"
          ]
        },
        {
          "output_type": "stream",
          "name": "stderr",
          "text": [
            "\n"
          ]
        },
        {
          "output_type": "stream",
          "name": "stdout",
          "text": [
            "1/1 [==============================] - 0s 41ms/step\n",
            "ALL Available\n",
            "NLP: (12, 18)\n",
            "LSTM: (0, 80)\n",
            "DeiT (0, 0)\n",
            "\tPredicted=(0, 0),\n",
            "\tExpected=[[0, 0]]\n",
            "[youtube] Extracting URL: 3C-EOCK1Z3g\n",
            "[youtube] 3C-EOCK1Z3g: Downloading webpage\n",
            "[youtube] 3C-EOCK1Z3g: Downloading android player API JSON\n",
            "[youtube] 3C-EOCK1Z3g: Downloading MPD manifest\n",
            "[youtube] Extracting URL: ctzhMvZkdB4\n",
            "[youtube] ctzhMvZkdB4: Downloading webpage\n",
            "[youtube] ctzhMvZkdB4: Downloading android player API JSON\n",
            "ctzhMvZkdB4 []\n",
            "[youtube] Extracting URL: https://www.youtube.com/watch?v=ctzhMvZkdB4\n",
            "[youtube] ctzhMvZkdB4: Downloading webpage\n",
            "[youtube] ctzhMvZkdB4: Downloading android player API JSON\n",
            "[info] ctzhMvZkdB4: Downloading 1 format(s): 248+251\n",
            "[info] There's no subtitles for the requested languages\n",
            "[youtube] Extracting URL: https://www.youtube.com/watch?v=ctzhMvZkdB4\n",
            "[youtube] ctzhMvZkdB4: Downloading webpage\n",
            "[youtube] ctzhMvZkdB4: Downloading android player API JSON\n",
            "[info] ctzhMvZkdB4: Downloading subtitles: en\n",
            "[info] ctzhMvZkdB4: Downloading 1 format(s): 248+251\n",
            "[info] Writing video subtitles to: /content/TestFolder1/ctzhMvZkdB4.en.vtt\n",
            "[download] Destination: /content/TestFolder1/ctzhMvZkdB4.en.vtt\n",
            "[download] 100% of   22.64KiB in 00:00:00 at 99.62KiB/s\n",
            "Processing captions...\n",
            "100.00% elapsed: 0:00:00, remaining: 0:00:00"
          ]
        },
        {
          "output_type": "stream",
          "name": "stderr",
          "text": [
            "Opening /content/TestFolder2/data.1.json.gz for reading...\n",
            "Closed /content/TestFolder2/data.1.json.gz.\n",
            "\n",
            "  0%|          | 0/1 [00:00<?, ?it/s]\u001b[A"
          ]
        },
        {
          "output_type": "stream",
          "name": "stdout",
          "text": [
            "Input Video ID: ctzhMvZkdB4\n"
          ]
        },
        {
          "output_type": "stream",
          "name": "stderr",
          "text": [
            "\n",
            "100%|██████████| 1/1 [00:00<00:00,  1.86it/s]"
          ]
        },
        {
          "output_type": "stream",
          "name": "stdout",
          "text": [
            "p1 [(19, 20)]\n",
            "p2 [(19, 20)]\n"
          ]
        },
        {
          "output_type": "stream",
          "name": "stderr",
          "text": [
            "\n"
          ]
        },
        {
          "output_type": "stream",
          "name": "stdout",
          "text": [
            "NLP & CNN Available\n",
            "NLP: (19, 20)\n",
            "LSTM: None\n",
            "DeiT (99, 113)\n",
            "\tPredicted=(43, 47),\n",
            "\tExpected=[[0, 0]]\n",
            "[youtube] Extracting URL: EfnP-qdN79s\n",
            "[youtube] EfnP-qdN79s: Downloading webpage\n",
            "[youtube] EfnP-qdN79s: Downloading android player API JSON\n",
            "[youtube] Extracting URL: aVWFuH33jR0\n",
            "[youtube] aVWFuH33jR0: Downloading webpage\n",
            "[youtube] aVWFuH33jR0: Downloading android player API JSON\n",
            "aVWFuH33jR0 [[0.0, 5.634]]\n",
            "[youtube] Extracting URL: https://www.youtube.com/watch?v=aVWFuH33jR0\n",
            "[youtube] aVWFuH33jR0: Downloading webpage\n",
            "[youtube] aVWFuH33jR0: Downloading android player API JSON\n",
            "[info] aVWFuH33jR0: Downloading subtitles: en\n",
            "[info] aVWFuH33jR0: Downloading 1 format(s): 313+251\n",
            "[info] Writing video subtitles to: /content/TestFolder1/aVWFuH33jR0.en.vtt\n",
            "[download] Destination: /content/TestFolder1/aVWFuH33jR0.en.vtt\n",
            "[download] 100% of    2.89KiB in 00:00:00 at 45.28KiB/s\n",
            "Processing captions...\n",
            "100.00% elapsed: 0:00:00, remaining: 0:00:00"
          ]
        },
        {
          "output_type": "stream",
          "name": "stderr",
          "text": [
            "Opening /content/TestFolder2/data.1.json.gz for reading...\n",
            "Closed /content/TestFolder2/data.1.json.gz.\n",
            "\n",
            "  0%|          | 0/1 [00:00<?, ?it/s]\u001b[A"
          ]
        },
        {
          "output_type": "stream",
          "name": "stdout",
          "text": [
            "Input Video ID: aVWFuH33jR0\n"
          ]
        },
        {
          "output_type": "stream",
          "name": "stderr",
          "text": [
            "\n",
            "100%|██████████| 1/1 [00:00<00:00,  4.26it/s]"
          ]
        },
        {
          "output_type": "stream",
          "name": "stdout",
          "text": [
            "p1 []\n",
            "p2 []\n"
          ]
        },
        {
          "output_type": "stream",
          "name": "stderr",
          "text": [
            "\n"
          ]
        },
        {
          "output_type": "stream",
          "name": "stdout",
          "text": [
            "1/1 [==============================] - 0s 25ms/step\n",
            "ALL Available\n",
            "NLP: (0, 0)\n",
            "LSTM: (0, 8)\n",
            "DeiT (0, 0)\n",
            "\tPredicted=(0, 0),\n",
            "\tExpected=[[0.0, 5.634]]\n",
            "[youtube] Extracting URL: ZzzVdhyKjww\n",
            "[youtube] ZzzVdhyKjww: Downloading webpage\n",
            "[youtube] ZzzVdhyKjww: Downloading android player API JSON\n",
            "[youtube] Extracting URL: Xq8H0GHU8AQ\n",
            "[youtube] Xq8H0GHU8AQ: Downloading webpage\n",
            "[youtube] Xq8H0GHU8AQ: Downloading android player API JSON\n",
            "Xq8H0GHU8AQ [[83.429855, 99.71675]]\n",
            "[youtube] Extracting URL: https://www.youtube.com/watch?v=Xq8H0GHU8AQ\n",
            "[youtube] Xq8H0GHU8AQ: Downloading webpage\n",
            "[youtube] Xq8H0GHU8AQ: Downloading android player API JSON\n",
            "[info] Xq8H0GHU8AQ: Downloading subtitles: en-US\n",
            "[info] Xq8H0GHU8AQ: Downloading 1 format(s): 313+251\n",
            "[info] Writing video subtitles to: /content/TestFolder1/Xq8H0GHU8AQ.en-US.vtt\n",
            "[download] Destination: /content/TestFolder1/Xq8H0GHU8AQ.en-US.vtt\n",
            "[download] 100% of   15.21KiB in 00:00:00 at 623.80KiB/s\n",
            "Processing captions...\n",
            "100.00% elapsed: 0:00:00, remaining: 0:00:00"
          ]
        },
        {
          "output_type": "stream",
          "name": "stderr",
          "text": [
            "Opening /content/TestFolder2/data.1.json.gz for reading...\n",
            "Closed /content/TestFolder2/data.1.json.gz.\n",
            "\n",
            "  0%|          | 0/1 [00:00<?, ?it/s]\u001b[A"
          ]
        },
        {
          "output_type": "stream",
          "name": "stdout",
          "text": [
            "Input Video ID: Xq8H0GHU8AQ\n"
          ]
        },
        {
          "output_type": "stream",
          "name": "stderr",
          "text": [
            "\n",
            "100%|██████████| 1/1 [00:00<00:00,  1.09it/s]"
          ]
        },
        {
          "output_type": "stream",
          "name": "stdout",
          "text": [
            "p1 []\n",
            "p2 []\n"
          ]
        },
        {
          "output_type": "stream",
          "name": "stderr",
          "text": [
            "\n"
          ]
        },
        {
          "output_type": "stream",
          "name": "stdout",
          "text": [
            "1/1 [==============================] - 0s 26ms/step\n",
            "ALL Available\n",
            "NLP: (0, 0)\n",
            "LSTM: (0, 48)\n",
            "DeiT (83, 100)\n",
            "\tPredicted=(0, 0),\n",
            "\tExpected=[[83.429855, 99.71675]]\n",
            "[youtube] Extracting URL: qiuFj-R7Et0\n",
            "[youtube] qiuFj-R7Et0: Downloading webpage\n",
            "[youtube] qiuFj-R7Et0: Downloading android player API JSON\n",
            "qiuFj-R7Et0 [[0.0, 2.556666], [557.8385, 602.23376]]\n",
            "[youtube] Extracting URL: https://www.youtube.com/watch?v=qiuFj-R7Et0\n",
            "[youtube] qiuFj-R7Et0: Downloading webpage\n",
            "[youtube] qiuFj-R7Et0: Downloading android player API JSON\n",
            "[info] qiuFj-R7Et0: Downloading subtitles: en\n",
            "[info] qiuFj-R7Et0: Downloading 1 format(s): 248+251\n",
            "[info] Writing video subtitles to: /content/TestFolder1/qiuFj-R7Et0.en.vtt\n",
            "[download] Destination: /content/TestFolder1/qiuFj-R7Et0.en.vtt\n",
            "[download] 100% of   16.95KiB in 00:00:00 at 623.73KiB/s\n",
            "Processing captions...\n",
            "100.00% elapsed: 0:00:00, remaining: 0:00:00"
          ]
        },
        {
          "output_type": "stream",
          "name": "stderr",
          "text": [
            "Opening /content/TestFolder2/data.1.json.gz for reading...\n",
            "Closed /content/TestFolder2/data.1.json.gz.\n",
            "\n",
            "  0%|          | 0/1 [00:00<?, ?it/s]\u001b[A"
          ]
        },
        {
          "output_type": "stream",
          "name": "stdout",
          "text": [
            "Input Video ID: qiuFj-R7Et0\n"
          ]
        },
        {
          "output_type": "stream",
          "name": "stderr",
          "text": [
            "\n",
            "100%|██████████| 1/1 [00:00<00:00,  1.07it/s]"
          ]
        },
        {
          "output_type": "stream",
          "name": "stdout",
          "text": [
            "p1 [(164, 170)]\n",
            "p2 [(164, 170)]\n"
          ]
        },
        {
          "output_type": "stream",
          "name": "stderr",
          "text": [
            "\n"
          ]
        },
        {
          "output_type": "stream",
          "name": "stdout",
          "text": [
            "1/1 [==============================] - 0s 40ms/step\n",
            "ALL Available\n",
            "After reshape:  [[0.0, 2.556666]]\n",
            "NLP: (164, 170)\n",
            "LSTM: (296, 321)\n",
            "DeiT (0, 0)\n",
            "\tPredicted=(0, 0),\n",
            "\tExpected=[[0.0, 2.556666]]\n",
            "[youtube] Extracting URL: CYfQu1yO0vk\n",
            "[youtube] CYfQu1yO0vk: Downloading webpage\n",
            "[youtube] CYfQu1yO0vk: Downloading android player API JSON\n",
            "CYfQu1yO0vk [[186.36, 223.537]]\n",
            "[youtube] Extracting URL: https://www.youtube.com/watch?v=CYfQu1yO0vk\n",
            "[youtube] CYfQu1yO0vk: Downloading webpage\n",
            "[youtube] CYfQu1yO0vk: Downloading android player API JSON\n",
            "[info] CYfQu1yO0vk: Downloading 1 format(s): 313+251\n",
            "[info] There's no subtitles for the requested languages\n",
            "[youtube] Extracting URL: https://www.youtube.com/watch?v=CYfQu1yO0vk\n",
            "[youtube] CYfQu1yO0vk: Downloading webpage\n",
            "[youtube] CYfQu1yO0vk: Downloading android player API JSON\n",
            "[info] CYfQu1yO0vk: Downloading subtitles: en\n",
            "[info] CYfQu1yO0vk: Downloading 1 format(s): 313+251\n",
            "[info] Writing video subtitles to: /content/TestFolder1/CYfQu1yO0vk.en.vtt\n",
            "[download] Destination: /content/TestFolder1/CYfQu1yO0vk.en.vtt\n",
            "[download] 100% of   57.39KiB in 00:00:00 at 945.73KiB/s\n",
            "Processing captions...\n",
            "100.00% elapsed: 0:00:00, remaining: 0:00:00"
          ]
        },
        {
          "output_type": "stream",
          "name": "stderr",
          "text": [
            "Opening /content/TestFolder2/data.1.json.gz for reading...\n",
            "Closed /content/TestFolder2/data.1.json.gz.\n",
            "\n",
            "  0%|          | 0/1 [00:00<?, ?it/s]\u001b[A"
          ]
        },
        {
          "output_type": "stream",
          "name": "stdout",
          "text": [
            "Input Video ID: CYfQu1yO0vk\n"
          ]
        },
        {
          "output_type": "stream",
          "name": "stderr",
          "text": [
            "\n",
            "100%|██████████| 1/1 [00:00<00:00,  1.47it/s]"
          ]
        },
        {
          "output_type": "stream",
          "name": "stdout",
          "text": [
            "p1 [(88, 97), (None, None)]\n",
            "p2 [(88, 97), (None, None)]\n"
          ]
        },
        {
          "output_type": "stream",
          "name": "stderr",
          "text": [
            "\n"
          ]
        },
        {
          "output_type": "stream",
          "name": "stdout",
          "text": [
            "1/1 [==============================] - 0s 42ms/step\n",
            "ALL Available\n",
            "NLP: (0, 0)\n",
            "LSTM: (108, 142)\n",
            "DeiT (189, 203)\n",
            "\tPredicted=(0, 0),\n",
            "\tExpected=[[186.36, 223.537]]\n",
            "[youtube] Extracting URL: Efnr5Sq6i6E\n",
            "[youtube] Efnr5Sq6i6E: Downloading webpage\n",
            "[youtube] Efnr5Sq6i6E: Downloading android player API JSON\n",
            "[youtube] Extracting URL: 9jedcZTwJEQ\n",
            "[youtube] 9jedcZTwJEQ: Downloading webpage\n",
            "[youtube] 9jedcZTwJEQ: Downloading android player API JSON\n",
            "[youtube] Extracting URL: c0L1dsu0Q2k\n",
            "[youtube] c0L1dsu0Q2k: Downloading webpage\n",
            "[youtube] c0L1dsu0Q2k: Downloading android player API JSON\n",
            "c0L1dsu0Q2k [[2.761, 27.798000000000002]]\n",
            "[youtube] Extracting URL: https://www.youtube.com/watch?v=c0L1dsu0Q2k\n",
            "[youtube] c0L1dsu0Q2k: Downloading webpage\n",
            "[youtube] c0L1dsu0Q2k: Downloading android player API JSON\n",
            "[info] c0L1dsu0Q2k: Downloading 1 format(s): 313+251\n",
            "[info] There's no subtitles for the requested languages\n",
            "[youtube] Extracting URL: https://www.youtube.com/watch?v=c0L1dsu0Q2k\n",
            "[youtube] c0L1dsu0Q2k: Downloading webpage\n",
            "[youtube] c0L1dsu0Q2k: Downloading android player API JSON\n",
            "[info] c0L1dsu0Q2k: Downloading subtitles: en\n",
            "[info] c0L1dsu0Q2k: Downloading 1 format(s): 313+251\n",
            "[info] Writing video subtitles to: /content/TestFolder1/c0L1dsu0Q2k.en.vtt\n",
            "[download] Destination: /content/TestFolder1/c0L1dsu0Q2k.en.vtt\n",
            "[download] 100% of   79.40KiB in 00:00:00 at 346.03KiB/s\n",
            "Processing captions...\n",
            "100.00% elapsed: 0:00:00, remaining: 0:00:00"
          ]
        },
        {
          "output_type": "stream",
          "name": "stderr",
          "text": [
            "Opening /content/TestFolder2/data.1.json.gz for reading...\n",
            "Closed /content/TestFolder2/data.1.json.gz.\n",
            "\n",
            "  0%|          | 0/1 [00:00<?, ?it/s]\u001b[A"
          ]
        },
        {
          "output_type": "stream",
          "name": "stdout",
          "text": [
            "Input Video ID: c0L1dsu0Q2k\n"
          ]
        },
        {
          "output_type": "stream",
          "name": "stderr",
          "text": [
            "\n",
            "100%|██████████| 1/1 [00:00<00:00,  1.12it/s]"
          ]
        },
        {
          "output_type": "stream",
          "name": "stdout",
          "text": [
            "p1 []\n",
            "p2 []\n"
          ]
        },
        {
          "output_type": "stream",
          "name": "stderr",
          "text": [
            "\n"
          ]
        },
        {
          "output_type": "stream",
          "name": "stdout",
          "text": [
            "NLP & CNN Available\n",
            "NLP: (0, 0)\n",
            "LSTM: None\n",
            "DeiT (1, 19)\n",
            "\tPredicted=(0, 5),\n",
            "\tExpected=[[2.761, 27.798000000000002]]\n",
            "[youtube] Extracting URL: SH7DZcy8nzs\n",
            "[youtube] SH7DZcy8nzs: Downloading webpage\n",
            "[youtube] SH7DZcy8nzs: Downloading android player API JSON\n"
          ]
        },
        {
          "output_type": "stream",
          "name": "stderr",
          "text": [
            "ERROR: [youtube] SH7DZcy8nzs: Video unavailable. This video has been removed by the uploader\n"
          ]
        },
        {
          "output_type": "stream",
          "name": "stdout",
          "text": [
            "[youtube] Extracting URL: 5p7SGo5f1so\n",
            "[youtube] 5p7SGo5f1so: Downloading webpage\n",
            "[youtube] 5p7SGo5f1so: Downloading android player API JSON\n",
            "5p7SGo5f1so []\n",
            "[youtube] Extracting URL: https://www.youtube.com/watch?v=5p7SGo5f1so\n",
            "[youtube] 5p7SGo5f1so: Downloading webpage\n",
            "[youtube] 5p7SGo5f1so: Downloading android player API JSON\n",
            "[info] 5p7SGo5f1so: Downloading 1 format(s): 313+251\n",
            "[info] There's no subtitles for the requested languages\n",
            "[youtube] Extracting URL: https://www.youtube.com/watch?v=5p7SGo5f1so\n",
            "[youtube] 5p7SGo5f1so: Downloading webpage\n",
            "[youtube] 5p7SGo5f1so: Downloading android player API JSON\n",
            "[info] 5p7SGo5f1so: Downloading subtitles: en\n",
            "[info] 5p7SGo5f1so: Downloading 1 format(s): 313+251\n",
            "[info] Writing video subtitles to: /content/TestFolder1/5p7SGo5f1so.en.vtt\n",
            "[download] Destination: /content/TestFolder1/5p7SGo5f1so.en.vtt\n",
            "[download] 100% of   40.79KiB in 00:00:00 at 1.18MiB/s\n",
            "Processing captions...\n",
            "100.00% elapsed: 0:00:00, remaining: 0:00:00"
          ]
        },
        {
          "output_type": "stream",
          "name": "stderr",
          "text": [
            "Opening /content/TestFolder2/data.1.json.gz for reading...\n",
            "Closed /content/TestFolder2/data.1.json.gz.\n",
            "\n",
            "  0%|          | 0/1 [00:00<?, ?it/s]\u001b[A"
          ]
        },
        {
          "output_type": "stream",
          "name": "stdout",
          "text": [
            "Input Video ID: 5p7SGo5f1so\n"
          ]
        },
        {
          "output_type": "stream",
          "name": "stderr",
          "text": [
            "\n",
            "100%|██████████| 1/1 [00:00<00:00,  2.06it/s]"
          ]
        },
        {
          "output_type": "stream",
          "name": "stdout",
          "text": [
            "p1 [(9, 10)]\n",
            "p2 [(9, 10)]\n"
          ]
        },
        {
          "output_type": "stream",
          "name": "stderr",
          "text": [
            "\n"
          ]
        },
        {
          "output_type": "stream",
          "name": "stdout",
          "text": [
            "NLP & CNN Available\n",
            "NLP: (9, 10)\n",
            "LSTM: None\n",
            "DeiT (0, 0)\n",
            "\tPredicted=(6, 7),\n",
            "\tExpected=[[0, 0]]\n",
            "[youtube] Extracting URL: Uvp6-wDADj4\n",
            "[youtube] Uvp6-wDADj4: Downloading webpage\n",
            "[youtube] Uvp6-wDADj4: Downloading android player API JSON\n",
            "Uvp6-wDADj4 []\n",
            "[youtube] Extracting URL: https://www.youtube.com/watch?v=Uvp6-wDADj4\n",
            "[youtube] Uvp6-wDADj4: Downloading webpage\n",
            "[youtube] Uvp6-wDADj4: Downloading android player API JSON\n",
            "[info] Uvp6-wDADj4: Downloading 1 format(s): 247+251\n",
            "[info] There's no subtitles for the requested languages\n",
            "[youtube] Extracting URL: https://www.youtube.com/watch?v=Uvp6-wDADj4\n",
            "[youtube] Uvp6-wDADj4: Downloading webpage\n",
            "[youtube] Uvp6-wDADj4: Downloading android player API JSON\n",
            "[info] Uvp6-wDADj4: Downloading subtitles: en\n",
            "[info] Uvp6-wDADj4: Downloading 1 format(s): 247+251\n",
            "[info] Writing video subtitles to: /content/TestFolder1/Uvp6-wDADj4.en.vtt\n",
            "[download] Destination: /content/TestFolder1/Uvp6-wDADj4.en.vtt\n",
            "[download] 100% of    5.42KiB in 00:00:00 at 24.89KiB/s\n",
            "Processing captions...\n",
            "100.00% elapsed: 0:00:00, remaining: 0:00:00"
          ]
        },
        {
          "output_type": "stream",
          "name": "stderr",
          "text": [
            "Opening /content/TestFolder2/data.1.json.gz for reading...\n",
            "Closed /content/TestFolder2/data.1.json.gz.\n",
            "\n",
            "  0%|          | 0/1 [00:00<?, ?it/s]\u001b[A"
          ]
        },
        {
          "output_type": "stream",
          "name": "stdout",
          "text": [
            "Input Video ID: Uvp6-wDADj4\n"
          ]
        },
        {
          "output_type": "stream",
          "name": "stderr",
          "text": [
            "\r100%|██████████| 1/1 [00:00<00:00, 10.73it/s]"
          ]
        },
        {
          "output_type": "stream",
          "name": "stdout",
          "text": [
            "p1 []\n",
            "p2 []\n"
          ]
        },
        {
          "output_type": "stream",
          "name": "stderr",
          "text": [
            "\n"
          ]
        },
        {
          "output_type": "stream",
          "name": "stdout",
          "text": [
            "1/1 [==============================] - 0s 41ms/step\n",
            "ALL Available\n",
            "NLP: (0, 0)\n",
            "LSTM: (0, 0)\n",
            "DeiT (8, 26)\n",
            "\tPredicted=(0, 0),\n",
            "\tExpected=[[0, 0]]\n",
            "IOU: 0.6447680890538032\n",
            "Confusion matrix [[35998   233]\n",
            " [  306    39]]\n",
            "Accuracy 0.9852635608048994\n",
            "Precision 0.14338235294117646\n",
            "Recall 0.11304347826086956\n",
            "[youtube] Extracting URL: H5FIkuFB42A\n",
            "[youtube] H5FIkuFB42A: Downloading webpage\n",
            "[youtube] H5FIkuFB42A: Downloading android player API JSON\n",
            "[youtube] Extracting URL: zazxFjb-QfU\n",
            "[youtube] zazxFjb-QfU: Downloading webpage\n",
            "[youtube] zazxFjb-QfU: Downloading android player API JSON\n",
            "zazxFjb-QfU [[0.0, 4.6]]\n",
            "[youtube] Extracting URL: https://www.youtube.com/watch?v=zazxFjb-QfU\n",
            "[youtube] zazxFjb-QfU: Downloading webpage\n",
            "[youtube] zazxFjb-QfU: Downloading android player API JSON\n",
            "[info] zazxFjb-QfU: Downloading 1 format(s): 248+251\n",
            "[info] There's no subtitles for the requested languages\n",
            "[youtube] Extracting URL: https://www.youtube.com/watch?v=zazxFjb-QfU\n",
            "[youtube] zazxFjb-QfU: Downloading webpage\n",
            "[youtube] zazxFjb-QfU: Downloading android player API JSON\n",
            "[info] zazxFjb-QfU: Downloading subtitles: en\n",
            "[info] zazxFjb-QfU: Downloading 1 format(s): 248+251\n",
            "[info] Writing video subtitles to: /content/TestFolder1/zazxFjb-QfU.en.vtt\n",
            "[download] Destination: /content/TestFolder1/zazxFjb-QfU.en.vtt\n",
            "[download] 100% of   45.49KiB in 00:00:00 at 717.47KiB/s\n",
            "Processing captions...\n",
            "100.00% elapsed: 0:00:00, remaining: 0:00:00"
          ]
        },
        {
          "output_type": "stream",
          "name": "stderr",
          "text": [
            "Opening /content/TestFolder2/data.1.json.gz for reading...\n",
            "Closed /content/TestFolder2/data.1.json.gz.\n",
            "\n",
            "  0%|          | 0/1 [00:00<?, ?it/s]\u001b[A"
          ]
        },
        {
          "output_type": "stream",
          "name": "stdout",
          "text": [
            "Input Video ID: zazxFjb-QfU\n"
          ]
        },
        {
          "output_type": "stream",
          "name": "stderr",
          "text": [
            "\n",
            "100%|██████████| 1/1 [00:00<00:00,  2.23it/s]"
          ]
        },
        {
          "output_type": "stream",
          "name": "stdout",
          "text": [
            "p1 []\n",
            "p2 []\n"
          ]
        },
        {
          "output_type": "stream",
          "name": "stderr",
          "text": [
            "\n"
          ]
        },
        {
          "output_type": "stream",
          "name": "stdout",
          "text": [
            "1/1 [==============================] - 0s 25ms/step\n",
            "ALL Available\n",
            "NLP: (0, 0)\n",
            "LSTM: (49, 81)\n",
            "DeiT (0, 0)\n",
            "\tPredicted=(0, 0),\n",
            "\tExpected=[[0.0, 4.6]]\n",
            "[youtube] Extracting URL: SlgeKjKFJkE\n",
            "[youtube] SlgeKjKFJkE: Downloading webpage\n",
            "[youtube] SlgeKjKFJkE: Downloading android player API JSON\n",
            "SlgeKjKFJkE []\n",
            "[youtube] Extracting URL: https://www.youtube.com/watch?v=SlgeKjKFJkE\n",
            "[youtube] SlgeKjKFJkE: Downloading webpage\n",
            "[youtube] SlgeKjKFJkE: Downloading android player API JSON\n",
            "[info] SlgeKjKFJkE: Downloading 1 format(s): 248+251\n",
            "[info] There's no subtitles for the requested languages\n",
            "[youtube] Extracting URL: https://www.youtube.com/watch?v=SlgeKjKFJkE\n",
            "[youtube] SlgeKjKFJkE: Downloading webpage\n",
            "[youtube] SlgeKjKFJkE: Downloading android player API JSON\n",
            "[info] SlgeKjKFJkE: Downloading subtitles: en\n",
            "[info] SlgeKjKFJkE: Downloading 1 format(s): 248+251\n",
            "[info] Writing video subtitles to: /content/TestFolder1/SlgeKjKFJkE.en.vtt\n",
            "[download] Destination: /content/TestFolder1/SlgeKjKFJkE.en.vtt\n",
            "[download] 100% of   93.84KiB in 00:00:00 at 1.35MiB/s\n",
            "Processing captions...\n",
            "100.00% elapsed: 0:00:00, remaining: 0:00:00"
          ]
        },
        {
          "output_type": "stream",
          "name": "stderr",
          "text": [
            "Opening /content/TestFolder2/data.1.json.gz for reading...\n",
            "Closed /content/TestFolder2/data.1.json.gz.\n",
            "\n",
            "  0%|          | 0/1 [00:00<?, ?it/s]\u001b[A"
          ]
        },
        {
          "output_type": "stream",
          "name": "stdout",
          "text": [
            "Input Video ID: SlgeKjKFJkE\n"
          ]
        },
        {
          "output_type": "stream",
          "name": "stderr",
          "text": [
            "\n",
            "100%|██████████| 1/1 [00:00<00:00,  1.03it/s]"
          ]
        },
        {
          "output_type": "stream",
          "name": "stdout",
          "text": [
            "p1 [(192, 195)]\n",
            "p2 [(192, 195)]\n"
          ]
        },
        {
          "output_type": "stream",
          "name": "stderr",
          "text": [
            "\n"
          ]
        },
        {
          "output_type": "stream",
          "name": "stdout",
          "text": [
            "1/1 [==============================] - 0s 25ms/step\n",
            "ALL Available\n",
            "NLP: (192, 195)\n",
            "LSTM: (100, 137)\n",
            "DeiT (497, 520)\n",
            "\tPredicted=(0, 0),\n",
            "\tExpected=[[0, 0]]\n",
            "[youtube] Extracting URL: dNDA30SHhxg\n",
            "[youtube] dNDA30SHhxg: Downloading webpage\n",
            "[youtube] dNDA30SHhxg: Downloading android player API JSON\n",
            "[youtube] Extracting URL: ktBn5xyLbvE\n",
            "[youtube] ktBn5xyLbvE: Downloading webpage\n",
            "[youtube] ktBn5xyLbvE: Downloading android player API JSON\n"
          ]
        },
        {
          "output_type": "stream",
          "name": "stderr",
          "text": [
            "ERROR: [youtube] ktBn5xyLbvE: Private video. Sign in if you've been granted access to this video\n"
          ]
        },
        {
          "output_type": "stream",
          "name": "stdout",
          "text": [
            "[youtube] Extracting URL: 8J4-uOiPkCg\n",
            "[youtube] 8J4-uOiPkCg: Downloading webpage\n",
            "[youtube] 8J4-uOiPkCg: Downloading android player API JSON\n",
            "[youtube] Extracting URL: 8hxdKilh08A\n",
            "[youtube] 8hxdKilh08A: Downloading webpage\n",
            "[youtube] 8hxdKilh08A: Downloading android player API JSON\n",
            "8hxdKilh08A []\n",
            "[youtube] Extracting URL: https://www.youtube.com/watch?v=8hxdKilh08A\n",
            "[youtube] 8hxdKilh08A: Downloading webpage\n",
            "[youtube] 8hxdKilh08A: Downloading android player API JSON\n",
            "[info] 8hxdKilh08A: Downloading subtitles: en\n",
            "[info] 8hxdKilh08A: Downloading 1 format(s): 303+251\n",
            "[info] Writing video subtitles to: /content/TestFolder1/8hxdKilh08A.en.vtt\n",
            "[download] Destination: /content/TestFolder1/8hxdKilh08A.en.vtt\n",
            "[download] 100% of    9.13KiB in 00:00:00 at 243.53KiB/s\n",
            "Processing captions...\n",
            "100.00% elapsed: 0:00:00, remaining: 0:00:00"
          ]
        },
        {
          "output_type": "stream",
          "name": "stderr",
          "text": [
            "Opening /content/TestFolder2/data.1.json.gz for reading...\n",
            "Closed /content/TestFolder2/data.1.json.gz.\n",
            "\n",
            "  0%|          | 0/1 [00:00<?, ?it/s]\u001b[A"
          ]
        },
        {
          "output_type": "stream",
          "name": "stdout",
          "text": [
            "Input Video ID: 8hxdKilh08A\n"
          ]
        },
        {
          "output_type": "stream",
          "name": "stderr",
          "text": [
            "\n",
            "100%|██████████| 1/1 [00:00<00:00,  1.74it/s]"
          ]
        },
        {
          "output_type": "stream",
          "name": "stdout",
          "text": [
            "p1 []\n",
            "p2 []\n"
          ]
        },
        {
          "output_type": "stream",
          "name": "stderr",
          "text": [
            "\n"
          ]
        },
        {
          "output_type": "stream",
          "name": "stdout",
          "text": [
            "NLP & CNN Available\n",
            "NLP: (0, 0)\n",
            "LSTM: None\n",
            "DeiT (26, 41)\n",
            "\tPredicted=(7, 12),\n",
            "\tExpected=[[0, 0]]\n",
            "[youtube] Extracting URL: 9bBdH7HdRyg\n",
            "[youtube] 9bBdH7HdRyg: Downloading webpage\n",
            "[youtube] 9bBdH7HdRyg: Downloading android player API JSON\n",
            "9bBdH7HdRyg []\n",
            "[youtube] Extracting URL: https://www.youtube.com/watch?v=9bBdH7HdRyg\n",
            "[youtube] 9bBdH7HdRyg: Downloading webpage\n",
            "[youtube] 9bBdH7HdRyg: Downloading android player API JSON\n",
            "[info] 9bBdH7HdRyg: Downloading 1 format(s): 248+251\n",
            "[info] There's no subtitles for the requested languages\n",
            "[youtube] Extracting URL: https://www.youtube.com/watch?v=9bBdH7HdRyg\n",
            "[youtube] 9bBdH7HdRyg: Downloading webpage\n",
            "[youtube] 9bBdH7HdRyg: Downloading android player API JSON\n",
            "[info] 9bBdH7HdRyg: Downloading subtitles: en\n",
            "[info] 9bBdH7HdRyg: Downloading 1 format(s): 248+251\n",
            "[info] Writing video subtitles to: /content/TestFolder1/9bBdH7HdRyg.en.vtt\n",
            "[download] Destination: /content/TestFolder1/9bBdH7HdRyg.en.vtt\n",
            "[download] 100% of   71.65KiB in 00:00:00 at 1.22MiB/s\n",
            "Processing captions...\n",
            "100.00% elapsed: 0:00:00, remaining: 0:00:00"
          ]
        },
        {
          "output_type": "stream",
          "name": "stderr",
          "text": [
            "Opening /content/TestFolder2/data.1.json.gz for reading...\n",
            "Closed /content/TestFolder2/data.1.json.gz.\n",
            "\n",
            "  0%|          | 0/1 [00:00<?, ?it/s]\u001b[A"
          ]
        },
        {
          "output_type": "stream",
          "name": "stdout",
          "text": [
            "Input Video ID: 9bBdH7HdRyg\n"
          ]
        },
        {
          "output_type": "stream",
          "name": "stderr",
          "text": [
            "\n",
            "100%|██████████| 1/1 [00:00<00:00,  1.27it/s]"
          ]
        },
        {
          "output_type": "stream",
          "name": "stdout",
          "text": [
            "p1 [(9, 13)]\n",
            "p2 [(9, 13)]\n"
          ]
        },
        {
          "output_type": "stream",
          "name": "stderr",
          "text": [
            "\n"
          ]
        },
        {
          "output_type": "stream",
          "name": "stdout",
          "text": [
            "NLP & CNN Available\n",
            "NLP: (9, 13)\n",
            "LSTM: None\n",
            "DeiT (4, 25)\n",
            "\tPredicted=(7, 16),\n",
            "\tExpected=[[0, 0]]\n",
            "[youtube] Extracting URL: gqwnyBKaQig\n",
            "[youtube] gqwnyBKaQig: Downloading webpage\n",
            "[youtube] gqwnyBKaQig: Downloading android player API JSON\n",
            "[youtube] Extracting URL: dnsAWSkYbvU\n",
            "[youtube] dnsAWSkYbvU: Downloading webpage\n",
            "[youtube] dnsAWSkYbvU: Downloading android player API JSON\n",
            "[youtube] Extracting URL: Qvy8IXKgdvc\n",
            "[youtube] Qvy8IXKgdvc: Downloading webpage\n",
            "[youtube] Qvy8IXKgdvc: Downloading android player API JSON\n",
            "Qvy8IXKgdvc []\n",
            "[youtube] Extracting URL: https://www.youtube.com/watch?v=Qvy8IXKgdvc\n",
            "[youtube] Qvy8IXKgdvc: Downloading webpage\n",
            "[youtube] Qvy8IXKgdvc: Downloading android player API JSON\n",
            "[info] Qvy8IXKgdvc: Downloading 1 format(s): 271+251\n",
            "[info] There's no subtitles for the requested languages\n",
            "[youtube] Extracting URL: https://www.youtube.com/watch?v=Qvy8IXKgdvc\n",
            "[youtube] Qvy8IXKgdvc: Downloading webpage\n",
            "[youtube] Qvy8IXKgdvc: Downloading android player API JSON\n",
            "[info] Qvy8IXKgdvc: Downloading subtitles: en\n",
            "[info] Qvy8IXKgdvc: Downloading 1 format(s): 271+251\n",
            "[info] Writing video subtitles to: /content/TestFolder1/Qvy8IXKgdvc.en.vtt\n",
            "[download] Destination: /content/TestFolder1/Qvy8IXKgdvc.en.vtt\n",
            "[download] 100% of   56.09KiB in 00:00:00 at 202.03KiB/s\n",
            "Processing captions...\n",
            "100.00% elapsed: 0:00:00, remaining: 0:00:00"
          ]
        },
        {
          "output_type": "stream",
          "name": "stderr",
          "text": [
            "Opening /content/TestFolder2/data.1.json.gz for reading...\n",
            "Closed /content/TestFolder2/data.1.json.gz.\n",
            "\n",
            "  0%|          | 0/1 [00:00<?, ?it/s]\u001b[A"
          ]
        },
        {
          "output_type": "stream",
          "name": "stdout",
          "text": [
            "Input Video ID: Qvy8IXKgdvc\n"
          ]
        },
        {
          "output_type": "stream",
          "name": "stderr",
          "text": [
            "\n",
            "100%|██████████| 1/1 [00:00<00:00,  1.44it/s]"
          ]
        },
        {
          "output_type": "stream",
          "name": "stdout",
          "text": [
            "p1 [(36, 40)]\n",
            "p2 [(36, 40)]\n"
          ]
        },
        {
          "output_type": "stream",
          "name": "stderr",
          "text": [
            "\n"
          ]
        },
        {
          "output_type": "stream",
          "name": "stdout",
          "text": [
            "1/1 [==============================] - 0s 26ms/step\n",
            "ALL Available\n",
            "NLP: (36, 40)\n",
            "LSTM: (48, 133)\n",
            "DeiT (223, 240)\n",
            "\tPredicted=(0, 0),\n",
            "\tExpected=[[0, 0]]\n",
            "[youtube] Extracting URL: 5nT3K-rH-LM\n",
            "[youtube] 5nT3K-rH-LM: Downloading webpage\n",
            "[youtube] 5nT3K-rH-LM: Downloading android player API JSON\n",
            "[youtube] 5nT3K-rH-LM: Downloading MPD manifest\n",
            "[youtube] Extracting URL: v1233RZLBxw\n",
            "[youtube] v1233RZLBxw: Downloading webpage\n",
            "[youtube] v1233RZLBxw: Downloading android player API JSON\n",
            "v1233RZLBxw []\n",
            "[youtube] Extracting URL: https://www.youtube.com/watch?v=v1233RZLBxw\n",
            "[youtube] v1233RZLBxw: Downloading webpage\n",
            "[youtube] v1233RZLBxw: Downloading android player API JSON\n",
            "[info] v1233RZLBxw: Downloading 1 format(s): 303+251\n",
            "[info] There's no subtitles for the requested languages\n",
            "[youtube] Extracting URL: https://www.youtube.com/watch?v=v1233RZLBxw\n",
            "[youtube] v1233RZLBxw: Downloading webpage\n",
            "[youtube] v1233RZLBxw: Downloading android player API JSON\n",
            "[info] v1233RZLBxw: Downloading subtitles: en\n",
            "[info] v1233RZLBxw: Downloading 1 format(s): 303+251\n",
            "[info] Writing video subtitles to: /content/TestFolder1/v1233RZLBxw.en.vtt\n",
            "[download] Destination: /content/TestFolder1/v1233RZLBxw.en.vtt\n",
            "[download] 100% of   90.80KiB in 00:00:00 at 1.42MiB/s\n",
            "Processing captions...\n",
            "100.00% elapsed: 0:00:00, remaining: 0:00:00"
          ]
        },
        {
          "output_type": "stream",
          "name": "stderr",
          "text": [
            "Opening /content/TestFolder2/data.1.json.gz for reading...\n",
            "Closed /content/TestFolder2/data.1.json.gz.\n",
            "\n",
            "  0%|          | 0/1 [00:00<?, ?it/s]\u001b[A"
          ]
        },
        {
          "output_type": "stream",
          "name": "stdout",
          "text": [
            "Input Video ID: v1233RZLBxw\n"
          ]
        },
        {
          "output_type": "stream",
          "name": "stderr",
          "text": [
            "\n",
            "100%|██████████| 1/1 [00:01<00:00,  1.04s/it]"
          ]
        },
        {
          "output_type": "stream",
          "name": "stdout",
          "text": [
            "p1 [(61, 70), (82, 86), (92, 97), (108, 112), (168, 173), (215, 219), (240, 244), (272, 276)]\n",
            "p2 [(61, 70), (82, 86), (92, 97), (108, 112), (168, 173), (215, 219), (240, 244), (272, 276)]\n"
          ]
        },
        {
          "output_type": "stream",
          "name": "stderr",
          "text": [
            "\n"
          ]
        },
        {
          "output_type": "stream",
          "name": "stdout",
          "text": [
            "NLP & CNN Available\n",
            "NLP: (61, 70)\n",
            "LSTM: None\n",
            "DeiT (213, 228)\n",
            "\tPredicted=(106, 117),\n",
            "\tExpected=[[0, 0]]\n",
            "[youtube] Extracting URL: 9ujxa9_1iEc\n",
            "[youtube] 9ujxa9_1iEc: Downloading webpage\n",
            "[youtube] 9ujxa9_1iEc: Downloading android player API JSON\n",
            "[youtube] Extracting URL: d_Un5tnKuIc\n",
            "[youtube] d_Un5tnKuIc: Downloading webpage\n",
            "[youtube] d_Un5tnKuIc: Downloading android player API JSON\n",
            "[youtube] Extracting URL: xUQZF2GbHQo\n",
            "[youtube] xUQZF2GbHQo: Downloading webpage\n",
            "[youtube] xUQZF2GbHQo: Downloading android player API JSON\n",
            "[youtube] Extracting URL: 0M_OlmjfjF4\n",
            "[youtube] 0M_OlmjfjF4: Downloading webpage\n",
            "[youtube] 0M_OlmjfjF4: Downloading android player API JSON\n",
            "[youtube] Extracting URL: kUD4R3XzQSg\n",
            "[youtube] kUD4R3XzQSg: Downloading webpage\n",
            "[youtube] kUD4R3XzQSg: Downloading android player API JSON\n",
            "[youtube] Extracting URL: 0TKXzy062C0\n",
            "[youtube] 0TKXzy062C0: Downloading webpage\n",
            "[youtube] 0TKXzy062C0: Downloading android player API JSON\n",
            "[youtube] Extracting URL: MCyD4u7VaFQ\n",
            "[youtube] MCyD4u7VaFQ: Downloading webpage\n",
            "[youtube] MCyD4u7VaFQ: Downloading android player API JSON\n",
            "MCyD4u7VaFQ []\n",
            "[youtube] Extracting URL: https://www.youtube.com/watch?v=MCyD4u7VaFQ\n",
            "[youtube] MCyD4u7VaFQ: Downloading webpage\n",
            "[youtube] MCyD4u7VaFQ: Downloading android player API JSON\n",
            "[info] MCyD4u7VaFQ: Downloading 1 format(s): 248+251\n",
            "[info] There's no subtitles for the requested languages\n",
            "[youtube] Extracting URL: https://www.youtube.com/watch?v=MCyD4u7VaFQ\n",
            "[youtube] MCyD4u7VaFQ: Downloading webpage\n",
            "[youtube] MCyD4u7VaFQ: Downloading android player API JSON\n",
            "[info] MCyD4u7VaFQ: Downloading subtitles: en\n",
            "[info] MCyD4u7VaFQ: Downloading 1 format(s): 248+251\n",
            "[info] Writing video subtitles to: /content/TestFolder1/MCyD4u7VaFQ.en.vtt\n",
            "[download] Destination: /content/TestFolder1/MCyD4u7VaFQ.en.vtt\n",
            "[download] 100% of   33.66KiB in 00:00:00 at 312.67KiB/s\n",
            "Processing captions...\n",
            "100.00% elapsed: 0:00:00, remaining: 0:00:00"
          ]
        },
        {
          "output_type": "stream",
          "name": "stderr",
          "text": [
            "Opening /content/TestFolder2/data.1.json.gz for reading...\n",
            "Closed /content/TestFolder2/data.1.json.gz.\n",
            "\n",
            "  0%|          | 0/1 [00:00<?, ?it/s]\u001b[A"
          ]
        },
        {
          "output_type": "stream",
          "name": "stdout",
          "text": [
            "Input Video ID: MCyD4u7VaFQ\n"
          ]
        },
        {
          "output_type": "stream",
          "name": "stderr",
          "text": [
            "\n",
            "100%|██████████| 1/1 [00:00<00:00,  2.63it/s]"
          ]
        },
        {
          "output_type": "stream",
          "name": "stdout",
          "text": [
            "p1 []\n",
            "p2 []\n"
          ]
        },
        {
          "output_type": "stream",
          "name": "stderr",
          "text": [
            "\n"
          ]
        },
        {
          "output_type": "stream",
          "name": "stdout",
          "text": [
            "1/1 [==============================] - 0s 44ms/step\n",
            "ALL Available\n",
            "NLP: (0, 0)\n",
            "LSTM: (0, 0)\n",
            "DeiT (169, 186)\n",
            "\tPredicted=(0, 0),\n",
            "\tExpected=[[0, 0]]\n",
            "[youtube] Extracting URL: 9eujBdqKVxI\n",
            "[youtube] 9eujBdqKVxI: Downloading webpage\n",
            "[youtube] 9eujBdqKVxI: Downloading android player API JSON\n",
            "[youtube] Extracting URL: Fh3NtooivLg\n",
            "[youtube] Fh3NtooivLg: Downloading webpage\n",
            "[youtube] Fh3NtooivLg: Downloading android player API JSON\n",
            "Fh3NtooivLg []\n",
            "[youtube] Extracting URL: https://www.youtube.com/watch?v=Fh3NtooivLg\n",
            "[youtube] Fh3NtooivLg: Downloading webpage\n",
            "[youtube] Fh3NtooivLg: Downloading android player API JSON\n",
            "[info] Fh3NtooivLg: Downloading 1 format(s): 303+251\n",
            "[info] There's no subtitles for the requested languages\n",
            "[youtube] Extracting URL: https://www.youtube.com/watch?v=Fh3NtooivLg\n",
            "[youtube] Fh3NtooivLg: Downloading webpage\n",
            "[youtube] Fh3NtooivLg: Downloading android player API JSON\n",
            "[info] Fh3NtooivLg: Downloading subtitles: en\n",
            "[info] Fh3NtooivLg: Downloading 1 format(s): 303+251\n",
            "[info] Writing video subtitles to: /content/TestFolder1/Fh3NtooivLg.en.vtt\n",
            "[download] Destination: /content/TestFolder1/Fh3NtooivLg.en.vtt\n",
            "[download] 100% of   51.62KiB in 00:00:00 at 910.60KiB/s\n",
            "Processing captions...\n",
            "100.00% elapsed: 0:00:00, remaining: 0:00:00"
          ]
        },
        {
          "output_type": "stream",
          "name": "stderr",
          "text": [
            "Opening /content/TestFolder2/data.1.json.gz for reading...\n",
            "Closed /content/TestFolder2/data.1.json.gz.\n",
            "\n",
            "  0%|          | 0/1 [00:00<?, ?it/s]\u001b[A"
          ]
        },
        {
          "output_type": "stream",
          "name": "stdout",
          "text": [
            "Input Video ID: Fh3NtooivLg\n"
          ]
        },
        {
          "output_type": "stream",
          "name": "stderr",
          "text": [
            "\n",
            "100%|██████████| 1/1 [00:00<00:00,  1.31it/s]"
          ]
        },
        {
          "output_type": "stream",
          "name": "stdout",
          "text": [
            "p1 [(22, 26), (58, 61)]\n",
            "p2 [(22, 26), (58, 61)]\n"
          ]
        },
        {
          "output_type": "stream",
          "name": "stderr",
          "text": [
            "\n"
          ]
        },
        {
          "output_type": "stream",
          "name": "stdout",
          "text": [
            "1/1 [==============================] - 0s 37ms/step\n",
            "ALL Available\n",
            "NLP: (22, 26)\n",
            "LSTM: (0, 24)\n",
            "DeiT (0, 0)\n",
            "\tPredicted=(0, 0),\n",
            "\tExpected=[[0, 0]]\n",
            "[youtube] Extracting URL: o5vApJxDBrw\n",
            "[youtube] o5vApJxDBrw: Downloading webpage\n",
            "[youtube] o5vApJxDBrw: Downloading android player API JSON\n",
            "[youtube] Extracting URL: 3kVb0zmjR74\n",
            "[youtube] 3kVb0zmjR74: Downloading webpage\n",
            "[youtube] 3kVb0zmjR74: Downloading android player API JSON\n",
            "[youtube] Extracting URL: 2dzeYfhsO_s\n",
            "[youtube] 2dzeYfhsO_s: Downloading webpage\n",
            "[youtube] 2dzeYfhsO_s: Downloading android player API JSON\n",
            "[youtube] Extracting URL: 3G4H3t3QQDo\n",
            "[youtube] 3G4H3t3QQDo: Downloading webpage\n",
            "[youtube] 3G4H3t3QQDo: Downloading android player API JSON\n",
            "3G4H3t3QQDo []\n",
            "[youtube] Extracting URL: https://www.youtube.com/watch?v=3G4H3t3QQDo\n",
            "[youtube] 3G4H3t3QQDo: Downloading webpage\n",
            "[youtube] 3G4H3t3QQDo: Downloading android player API JSON\n",
            "[info] 3G4H3t3QQDo: Downloading subtitles: en\n",
            "[info] 3G4H3t3QQDo: Downloading 1 format(s): 247+251\n",
            "[info] Writing video subtitles to: /content/TestFolder1/3G4H3t3QQDo.en.vtt\n",
            "[download] Destination: /content/TestFolder1/3G4H3t3QQDo.en.vtt\n",
            "[download] 100% of    3.25KiB in 00:00:00 at 46.21KiB/s\n",
            "Processing captions...\n",
            "100.00% elapsed: 0:00:00, remaining: 0:00:00"
          ]
        },
        {
          "output_type": "stream",
          "name": "stderr",
          "text": [
            "Opening /content/TestFolder2/data.1.json.gz for reading...\n",
            "Closed /content/TestFolder2/data.1.json.gz.\n",
            "\n",
            "  0%|          | 0/1 [00:00<?, ?it/s]\u001b[A"
          ]
        },
        {
          "output_type": "stream",
          "name": "stdout",
          "text": [
            "Input Video ID: 3G4H3t3QQDo\n"
          ]
        },
        {
          "output_type": "stream",
          "name": "stderr",
          "text": [
            "\n",
            "100%|██████████| 1/1 [00:00<00:00,  4.27it/s]"
          ]
        },
        {
          "output_type": "stream",
          "name": "stdout",
          "text": [
            "p1 [(2, 5)]\n",
            "p2 [(2, 5)]\n"
          ]
        },
        {
          "output_type": "stream",
          "name": "stderr",
          "text": [
            "\n"
          ]
        },
        {
          "output_type": "stream",
          "name": "stdout",
          "text": [
            "NLP & CNN Available\n",
            "NLP: (2, 5)\n",
            "LSTM: None\n",
            "DeiT (0, 0)\n",
            "\tPredicted=(1, 3),\n",
            "\tExpected=[[0, 0]]\n",
            "[youtube] Extracting URL: wTYpjp9Bzrs\n",
            "[youtube] wTYpjp9Bzrs: Downloading webpage\n",
            "[youtube] wTYpjp9Bzrs: Downloading android player API JSON\n",
            "[youtube] Extracting URL: uJYro6qM-Nk\n",
            "[youtube] uJYro6qM-Nk: Downloading webpage\n",
            "[youtube] uJYro6qM-Nk: Downloading android player API JSON\n",
            "[youtube] Extracting URL: zImW9pGPASQ\n",
            "[youtube] zImW9pGPASQ: Downloading webpage\n",
            "[youtube] zImW9pGPASQ: Downloading android player API JSON\n",
            "[youtube] Extracting URL: ERYmdvlBmJg\n",
            "[youtube] ERYmdvlBmJg: Downloading webpage\n",
            "[youtube] ERYmdvlBmJg: Downloading android player API JSON\n",
            "[youtube] Extracting URL: tPG_JksjTfg\n",
            "[youtube] tPG_JksjTfg: Downloading webpage\n",
            "[youtube] tPG_JksjTfg: Downloading android player API JSON\n"
          ]
        },
        {
          "output_type": "stream",
          "name": "stderr",
          "text": [
            "ERROR: [youtube] tPG_JksjTfg: Video unavailable. This video is no longer available because the YouTube account associated with this video has been terminated.\n"
          ]
        },
        {
          "output_type": "stream",
          "name": "stdout",
          "text": [
            "[youtube] Extracting URL: DxjLbjfTfqA\n",
            "[youtube] DxjLbjfTfqA: Downloading webpage\n",
            "[youtube] DxjLbjfTfqA: Downloading android player API JSON\n",
            "[youtube] Extracting URL: yWJhZkRxLCs\n",
            "[youtube] yWJhZkRxLCs: Downloading webpage\n",
            "[youtube] yWJhZkRxLCs: Downloading android player API JSON\n",
            "yWJhZkRxLCs []\n",
            "[youtube] Extracting URL: https://www.youtube.com/watch?v=yWJhZkRxLCs\n",
            "[youtube] yWJhZkRxLCs: Downloading webpage\n",
            "[youtube] yWJhZkRxLCs: Downloading android player API JSON\n",
            "[info] yWJhZkRxLCs: Downloading subtitles: en\n",
            "[info] yWJhZkRxLCs: Downloading 1 format(s): 248+251\n",
            "[info] Writing video subtitles to: /content/TestFolder1/yWJhZkRxLCs.en.vtt\n",
            "[download] Destination: /content/TestFolder1/yWJhZkRxLCs.en.vtt\n",
            "[download] 100% of   11.56KiB in 00:00:00 at 151.89KiB/s\n",
            "Processing captions...\n",
            "100.00% elapsed: 0:00:00, remaining: 0:00:00"
          ]
        },
        {
          "output_type": "stream",
          "name": "stderr",
          "text": [
            "Opening /content/TestFolder2/data.1.json.gz for reading...\n",
            "Closed /content/TestFolder2/data.1.json.gz.\n",
            "\n",
            "  0%|          | 0/1 [00:00<?, ?it/s]\u001b[A"
          ]
        },
        {
          "output_type": "stream",
          "name": "stdout",
          "text": [
            "Input Video ID: yWJhZkRxLCs\n"
          ]
        },
        {
          "output_type": "stream",
          "name": "stderr",
          "text": [
            "\n",
            "100%|██████████| 1/1 [00:00<00:00,  1.41it/s]"
          ]
        },
        {
          "output_type": "stream",
          "name": "stdout",
          "text": [
            "p1 [(5, 6), (95, 99), (133, 135)]\n",
            "p2 [(5, 6), (95, 99), (133, 135)]\n"
          ]
        },
        {
          "output_type": "stream",
          "name": "stderr",
          "text": [
            "\n"
          ]
        },
        {
          "output_type": "stream",
          "name": "stdout",
          "text": [
            "1/1 [==============================] - 0s 46ms/step\n",
            "ALL Available\n",
            "NLP: (95, 99)\n",
            "LSTM: (61, 95)\n",
            "DeiT (417, 431)\n",
            "\tPredicted=(0, 0),\n",
            "\tExpected=[[0, 0]]\n",
            "IOU: 0.6541720779220779\n",
            "Confusion matrix [[40184   264]\n",
            " [  314    45]]\n",
            "Accuracy 0.9858357634719533\n",
            "Precision 0.14563106796116504\n",
            "Recall 0.12534818941504178\n",
            "[youtube] Extracting URL: BHEPVdfBAqE\n",
            "[youtube] BHEPVdfBAqE: Downloading webpage\n",
            "[youtube] BHEPVdfBAqE: Downloading android player API JSON\n",
            "BHEPVdfBAqE [[0.0, 35.076]]\n",
            "[youtube] Extracting URL: https://www.youtube.com/watch?v=BHEPVdfBAqE\n",
            "[youtube] BHEPVdfBAqE: Downloading webpage\n",
            "[youtube] BHEPVdfBAqE: Downloading android player API JSON\n",
            "[info] BHEPVdfBAqE: Downloading 1 format(s): 248+251\n",
            "[info] There's no subtitles for the requested languages\n",
            "[youtube] Extracting URL: https://www.youtube.com/watch?v=BHEPVdfBAqE\n",
            "[youtube] BHEPVdfBAqE: Downloading webpage\n",
            "[youtube] BHEPVdfBAqE: Downloading android player API JSON\n",
            "[info] BHEPVdfBAqE: Downloading subtitles: en\n",
            "[info] BHEPVdfBAqE: Downloading 1 format(s): 248+251\n",
            "[info] Writing video subtitles to: /content/TestFolder1/BHEPVdfBAqE.en.vtt\n",
            "[download] Destination: /content/TestFolder1/BHEPVdfBAqE.en.vtt\n",
            "[download] 100% of   27.58KiB in 00:00:00 at 844.53KiB/s\n",
            "Processing captions...\n",
            "100.00% elapsed: 0:00:00, remaining: 0:00:00"
          ]
        },
        {
          "output_type": "stream",
          "name": "stderr",
          "text": [
            "Opening /content/TestFolder2/data.1.json.gz for reading...\n",
            "Closed /content/TestFolder2/data.1.json.gz.\n",
            "\n",
            "  0%|          | 0/1 [00:00<?, ?it/s]\u001b[A"
          ]
        },
        {
          "output_type": "stream",
          "name": "stdout",
          "text": [
            "Input Video ID: BHEPVdfBAqE\n"
          ]
        },
        {
          "output_type": "stream",
          "name": "stderr",
          "text": [
            "\n",
            "100%|██████████| 1/1 [00:00<00:00,  2.32it/s]"
          ]
        },
        {
          "output_type": "stream",
          "name": "stdout",
          "text": [
            "p1 [(0, 3), (9, 13), (32, 35), (44, 47)]\n",
            "p2 [(0, 3), (9, 13), (32, 35), (44, 47)]\n"
          ]
        },
        {
          "output_type": "stream",
          "name": "stderr",
          "text": [
            "\n"
          ]
        },
        {
          "output_type": "stream",
          "name": "stdout",
          "text": [
            "1/1 [==============================] - 0s 45ms/step\n",
            "ALL Available\n",
            "NLP: (9, 13)\n",
            "LSTM: (0, 0)\n",
            "DeiT (0, 0)\n",
            "\tPredicted=(0, 0),\n",
            "\tExpected=[[0.0, 35.076]]\n",
            "[youtube] Extracting URL: 0YqUTdUEQuA\n",
            "[youtube] 0YqUTdUEQuA: Downloading webpage\n",
            "[youtube] 0YqUTdUEQuA: Downloading android player API JSON\n",
            "0YqUTdUEQuA []\n",
            "[youtube] Extracting URL: https://www.youtube.com/watch?v=0YqUTdUEQuA\n",
            "[youtube] 0YqUTdUEQuA: Downloading webpage\n",
            "[youtube] 0YqUTdUEQuA: Downloading android player API JSON\n",
            "[info] 0YqUTdUEQuA: Downloading 1 format(s): 137+251\n",
            "[info] There's no subtitles for the requested languages\n",
            "[youtube] Extracting URL: https://www.youtube.com/watch?v=0YqUTdUEQuA\n",
            "[youtube] 0YqUTdUEQuA: Downloading webpage\n",
            "[youtube] 0YqUTdUEQuA: Downloading android player API JSON\n",
            "[info] 0YqUTdUEQuA: Downloading subtitles: en\n",
            "[info] 0YqUTdUEQuA: Downloading 1 format(s): 137+251\n",
            "[info] Writing video subtitles to: /content/TestFolder1/0YqUTdUEQuA.en.vtt\n",
            "[download] Destination: /content/TestFolder1/0YqUTdUEQuA.en.vtt\n",
            "[download] 100% of   25.80KiB in 00:00:00 at 420.79KiB/s\n",
            "Processing captions...\n",
            "100.00% elapsed: 0:00:00, remaining: 0:00:00"
          ]
        },
        {
          "output_type": "stream",
          "name": "stderr",
          "text": [
            "Opening /content/TestFolder2/data.1.json.gz for reading...\n",
            "Closed /content/TestFolder2/data.1.json.gz.\n",
            "\n",
            "  0%|          | 0/1 [00:00<?, ?it/s]\u001b[A"
          ]
        },
        {
          "output_type": "stream",
          "name": "stdout",
          "text": [
            "Input Video ID: 0YqUTdUEQuA\n"
          ]
        },
        {
          "output_type": "stream",
          "name": "stderr",
          "text": [
            "\n",
            "100%|██████████| 1/1 [00:00<00:00,  2.46it/s]"
          ]
        },
        {
          "output_type": "stream",
          "name": "stdout",
          "text": [
            "p1 [(24, 29), (40, 43), (56, 60), (81, 85)]\n",
            "p2 [(24, 29), (40, 43), (56, 60), (81, 85)]\n"
          ]
        },
        {
          "output_type": "stream",
          "name": "stderr",
          "text": [
            "\n"
          ]
        },
        {
          "output_type": "stream",
          "name": "stdout",
          "text": [
            "NLP & CNN Available\n",
            "NLP: (24, 29)\n",
            "LSTM: None\n",
            "DeiT (180, 194)\n",
            "\tPredicted=(70, 78),\n",
            "\tExpected=[[0, 0]]\n",
            "[youtube] Extracting URL: pzOj9ar8qRM\n",
            "[youtube] pzOj9ar8qRM: Downloading webpage\n",
            "[youtube] pzOj9ar8qRM: Downloading android player API JSON\n",
            "pzOj9ar8qRM []\n",
            "[youtube] Extracting URL: https://www.youtube.com/watch?v=pzOj9ar8qRM\n",
            "[youtube] pzOj9ar8qRM: Downloading webpage\n",
            "[youtube] pzOj9ar8qRM: Downloading android player API JSON\n",
            "[info] pzOj9ar8qRM: Downloading 1 format(s): 248+251\n",
            "[info] There's no subtitles for the requested languages\n",
            "[youtube] Extracting URL: https://www.youtube.com/watch?v=pzOj9ar8qRM\n",
            "[youtube] pzOj9ar8qRM: Downloading webpage\n",
            "[youtube] pzOj9ar8qRM: Downloading android player API JSON\n",
            "[info] pzOj9ar8qRM: Downloading subtitles: en\n",
            "[info] pzOj9ar8qRM: Downloading 1 format(s): 248+251\n",
            "[info] Writing video subtitles to: /content/TestFolder1/pzOj9ar8qRM.en.vtt\n",
            "[download] Destination: /content/TestFolder1/pzOj9ar8qRM.en.vtt\n",
            "[download] 100% of   90.23KiB in 00:00:00 at 447.75KiB/s\n",
            "Processing captions...\n",
            "100.00% elapsed: 0:00:00, remaining: 0:00:00"
          ]
        },
        {
          "output_type": "stream",
          "name": "stderr",
          "text": [
            "Opening /content/TestFolder2/data.1.json.gz for reading...\n",
            "Closed /content/TestFolder2/data.1.json.gz.\n",
            "\n",
            "  0%|          | 0/1 [00:00<?, ?it/s]\u001b[A"
          ]
        },
        {
          "output_type": "stream",
          "name": "stdout",
          "text": [
            "Input Video ID: pzOj9ar8qRM\n"
          ]
        },
        {
          "output_type": "stream",
          "name": "stderr",
          "text": [
            "\n",
            "100%|██████████| 1/1 [00:01<00:00,  1.16s/it]"
          ]
        },
        {
          "output_type": "stream",
          "name": "stdout",
          "text": [
            "p1 [(253, 258), (275, 281)]\n",
            "p2 [(253, 258), (275, 281)]\n"
          ]
        },
        {
          "output_type": "stream",
          "name": "stderr",
          "text": [
            "\n"
          ]
        },
        {
          "output_type": "stream",
          "name": "stdout",
          "text": [
            "1/1 [==============================] - 0s 27ms/step\n",
            "ALL Available\n",
            "NLP: (275, 281)\n",
            "LSTM: (559, 572)\n",
            "DeiT (0, 0)\n",
            "\tPredicted=(0, 0),\n",
            "\tExpected=[[0, 0]]\n",
            "[youtube] Extracting URL: upoKb50FiC4\n",
            "[youtube] upoKb50FiC4: Downloading webpage\n",
            "[youtube] upoKb50FiC4: Downloading android player API JSON\n",
            "upoKb50FiC4 [[53.102, 57.542], [675.116, 724.394]]\n",
            "[youtube] Extracting URL: https://www.youtube.com/watch?v=upoKb50FiC4\n",
            "[youtube] upoKb50FiC4: Downloading webpage\n",
            "[youtube] upoKb50FiC4: Downloading android player API JSON\n",
            "[info] upoKb50FiC4: Downloading 1 format(s): 248+251\n",
            "[info] There's no subtitles for the requested languages\n",
            "[youtube] Extracting URL: https://www.youtube.com/watch?v=upoKb50FiC4\n",
            "[youtube] upoKb50FiC4: Downloading webpage\n",
            "[youtube] upoKb50FiC4: Downloading android player API JSON\n",
            "[info] upoKb50FiC4: Downloading subtitles: en\n",
            "[info] upoKb50FiC4: Downloading 1 format(s): 248+251\n",
            "[info] Writing video subtitles to: /content/TestFolder1/upoKb50FiC4.en.vtt\n",
            "[download] Destination: /content/TestFolder1/upoKb50FiC4.en.vtt\n",
            "[download] 100% of  129.07KiB in 00:00:00 at 1.34MiB/s\n",
            "Processing captions...\n",
            "100.00% elapsed: 0:00:00, remaining: 0:00:00"
          ]
        },
        {
          "output_type": "stream",
          "name": "stderr",
          "text": [
            "Opening /content/TestFolder2/data.1.json.gz for reading...\n",
            "Closed /content/TestFolder2/data.1.json.gz.\n",
            "\n",
            "  0%|          | 0/1 [00:00<?, ?it/s]\u001b[A"
          ]
        },
        {
          "output_type": "stream",
          "name": "stdout",
          "text": [
            "Input Video ID: upoKb50FiC4\n"
          ]
        },
        {
          "output_type": "stream",
          "name": "stderr",
          "text": [
            "\n",
            "100%|██████████| 1/1 [00:01<00:00,  1.47s/it]"
          ]
        },
        {
          "output_type": "stream",
          "name": "stdout",
          "text": [
            "p1 [(20, 25), (91, 94), (168, 172), (323, 327), (333, 346)]\n",
            "p2 [(20, 25), (91, 94), (168, 172), (323, 327), (333, 346)]\n"
          ]
        },
        {
          "output_type": "stream",
          "name": "stderr",
          "text": [
            "\n"
          ]
        },
        {
          "output_type": "stream",
          "name": "stdout",
          "text": [
            "1/1 [==============================] - 0s 26ms/step\n",
            "ALL Available\n",
            "After reshape:  [[53.102, 57.542]]\n",
            "NLP: (333, 346)\n",
            "LSTM: (628, 747)\n",
            "DeiT (0, 0)\n",
            "\tPredicted=(0, 0),\n",
            "\tExpected=[[53.102, 57.542]]\n",
            "[youtube] Extracting URL: j6Kw6fUc7Bc\n",
            "[youtube] j6Kw6fUc7Bc: Downloading webpage\n",
            "[youtube] j6Kw6fUc7Bc: Downloading android player API JSON\n",
            "j6Kw6fUc7Bc []\n",
            "[youtube] Extracting URL: https://www.youtube.com/watch?v=j6Kw6fUc7Bc\n",
            "[youtube] j6Kw6fUc7Bc: Downloading webpage\n",
            "[youtube] j6Kw6fUc7Bc: Downloading android player API JSON\n",
            "[info] j6Kw6fUc7Bc: Downloading 1 format(s): 313+251\n",
            "[info] There's no subtitles for the requested languages\n",
            "[youtube] Extracting URL: https://www.youtube.com/watch?v=j6Kw6fUc7Bc\n",
            "[youtube] j6Kw6fUc7Bc: Downloading webpage\n",
            "[youtube] j6Kw6fUc7Bc: Downloading android player API JSON\n",
            "[info] j6Kw6fUc7Bc: Downloading subtitles: en\n",
            "[info] j6Kw6fUc7Bc: Downloading 1 format(s): 313+251\n",
            "[info] Writing video subtitles to: /content/TestFolder1/j6Kw6fUc7Bc.en.vtt\n",
            "[download] Destination: /content/TestFolder1/j6Kw6fUc7Bc.en.vtt\n",
            "[download] 100% of   57.95KiB in 00:00:00 at 1.72MiB/s\n",
            "Processing captions...\n",
            "100.00% elapsed: 0:00:00, remaining: 0:00:00"
          ]
        },
        {
          "output_type": "stream",
          "name": "stderr",
          "text": [
            "Opening /content/TestFolder2/data.1.json.gz for reading...\n",
            "Closed /content/TestFolder2/data.1.json.gz.\n",
            "\n",
            "  0%|          | 0/1 [00:00<?, ?it/s]\u001b[A"
          ]
        },
        {
          "output_type": "stream",
          "name": "stdout",
          "text": [
            "Input Video ID: j6Kw6fUc7Bc\n"
          ]
        },
        {
          "output_type": "stream",
          "name": "stderr",
          "text": [
            "\n",
            "100%|██████████| 1/1 [00:00<00:00,  1.48it/s]"
          ]
        },
        {
          "output_type": "stream",
          "name": "stdout",
          "text": [
            "p1 [(14, 21)]\n",
            "p2 [(14, 21)]\n"
          ]
        },
        {
          "output_type": "stream",
          "name": "stderr",
          "text": [
            "\n"
          ]
        },
        {
          "output_type": "stream",
          "name": "stdout",
          "text": [
            "1/1 [==============================] - 0s 29ms/step\n",
            "ALL Available\n",
            "NLP: (14, 21)\n",
            "LSTM: (0, 0)\n",
            "DeiT (286, 304)\n",
            "\tPredicted=(0, 0),\n",
            "\tExpected=[[0, 0]]\n",
            "[youtube] Extracting URL: Qr6s9cEiFjg\n",
            "[youtube] Qr6s9cEiFjg: Downloading webpage\n",
            "[youtube] Qr6s9cEiFjg: Downloading android player API JSON\n",
            "Qr6s9cEiFjg []\n",
            "[youtube] Extracting URL: https://www.youtube.com/watch?v=Qr6s9cEiFjg\n",
            "[youtube] Qr6s9cEiFjg: Downloading webpage\n",
            "[youtube] Qr6s9cEiFjg: Downloading android player API JSON\n",
            "[info] Qr6s9cEiFjg: Downloading 1 format(s): 303+251\n",
            "[info] There's no subtitles for the requested languages\n",
            "[youtube] Extracting URL: https://www.youtube.com/watch?v=Qr6s9cEiFjg\n",
            "[youtube] Qr6s9cEiFjg: Downloading webpage\n",
            "[youtube] Qr6s9cEiFjg: Downloading android player API JSON\n",
            "[info] Qr6s9cEiFjg: Downloading subtitles: en\n",
            "[info] Qr6s9cEiFjg: Downloading 1 format(s): 303+251\n",
            "[info] Writing video subtitles to: /content/TestFolder1/Qr6s9cEiFjg.en.vtt\n",
            "[download] Destination: /content/TestFolder1/Qr6s9cEiFjg.en.vtt\n",
            "[download] 100% of   57.59KiB in 00:00:00 at 227.84KiB/s\n",
            "Processing captions...\n",
            "100.00% elapsed: 0:00:00, remaining: 0:00:00"
          ]
        },
        {
          "output_type": "stream",
          "name": "stderr",
          "text": [
            "Opening /content/TestFolder2/data.1.json.gz for reading...\n",
            "Closed /content/TestFolder2/data.1.json.gz.\n",
            "\n",
            "  0%|          | 0/1 [00:00<?, ?it/s]\u001b[A"
          ]
        },
        {
          "output_type": "stream",
          "name": "stdout",
          "text": [
            "Input Video ID: Qr6s9cEiFjg\n"
          ]
        },
        {
          "output_type": "stream",
          "name": "stderr",
          "text": [
            "\n",
            "100%|██████████| 1/1 [00:00<00:00,  1.27it/s]"
          ]
        },
        {
          "output_type": "stream",
          "name": "stdout",
          "text": [
            "p1 [(114, 117), (121, 121)]\n",
            "p2 [(114, 117), (121, 121)]\n"
          ]
        },
        {
          "output_type": "stream",
          "name": "stderr",
          "text": [
            "\n"
          ]
        },
        {
          "output_type": "stream",
          "name": "stdout",
          "text": [
            "NLP & CNN Available\n",
            "NLP: (114, 117)\n",
            "LSTM: None\n",
            "DeiT (49, 65)\n",
            "\tPredicted=(94, 101),\n",
            "\tExpected=[[0, 0]]\n",
            "[youtube] Extracting URL: Ls5aoeT8ng4\n",
            "[youtube] Ls5aoeT8ng4: Downloading webpage\n",
            "[youtube] Ls5aoeT8ng4: Downloading android player API JSON\n",
            "[youtube] Extracting URL: rwSSjv-GuQc\n",
            "[youtube] rwSSjv-GuQc: Downloading webpage\n",
            "[youtube] rwSSjv-GuQc: Downloading android player API JSON\n",
            "rwSSjv-GuQc []\n",
            "[youtube] Extracting URL: https://www.youtube.com/watch?v=rwSSjv-GuQc\n",
            "[youtube] rwSSjv-GuQc: Downloading webpage\n",
            "[youtube] rwSSjv-GuQc: Downloading android player API JSON\n",
            "[info] rwSSjv-GuQc: Downloading subtitles: en-US\n",
            "[info] rwSSjv-GuQc: Downloading 1 format(s): 248+251\n",
            "[info] Writing video subtitles to: /content/TestFolder1/rwSSjv-GuQc.en-US.vtt\n",
            "[download] Destination: /content/TestFolder1/rwSSjv-GuQc.en-US.vtt\n",
            "[download] 100% of    2.08KiB in 00:00:00 at 58.78KiB/s\n",
            "Processing captions...\n",
            "100.00% elapsed: 0:00:00, remaining: 0:00:00"
          ]
        },
        {
          "output_type": "stream",
          "name": "stderr",
          "text": [
            "Opening /content/TestFolder2/data.1.json.gz for reading...\n",
            "Closed /content/TestFolder2/data.1.json.gz.\n",
            "\n",
            "  0%|          | 0/1 [00:00<?, ?it/s]\u001b[A"
          ]
        },
        {
          "output_type": "stream",
          "name": "stdout",
          "text": [
            "Input Video ID: rwSSjv-GuQc\n"
          ]
        },
        {
          "output_type": "stream",
          "name": "stderr",
          "text": [
            "\n",
            "100%|██████████| 1/1 [00:00<00:00,  5.96it/s]"
          ]
        },
        {
          "output_type": "stream",
          "name": "stdout",
          "text": [
            "p1 [(10, 12)]\n",
            "p2 [(10, 12)]\n"
          ]
        },
        {
          "output_type": "stream",
          "name": "stderr",
          "text": [
            "\n"
          ]
        },
        {
          "output_type": "stream",
          "name": "stdout",
          "text": [
            "1/1 [==============================] - 0s 44ms/step\n",
            "ALL Available\n",
            "NLP: (10, 12)\n",
            "LSTM: (0, 0)\n",
            "DeiT (75, 90)\n",
            "\tPredicted=(0, 0),\n",
            "\tExpected=[[0, 0]]\n",
            "[youtube] Extracting URL: fMB0XNuegfY\n",
            "[youtube] fMB0XNuegfY: Downloading webpage\n",
            "[youtube] fMB0XNuegfY: Downloading android player API JSON\n",
            "fMB0XNuegfY []\n",
            "[youtube] Extracting URL: https://www.youtube.com/watch?v=fMB0XNuegfY\n",
            "[youtube] fMB0XNuegfY: Downloading webpage\n",
            "[youtube] fMB0XNuegfY: Downloading android player API JSON\n",
            "[info] fMB0XNuegfY: Downloading 1 format(s): 308+251\n",
            "[info] There's no subtitles for the requested languages\n",
            "[youtube] Extracting URL: https://www.youtube.com/watch?v=fMB0XNuegfY\n",
            "[youtube] fMB0XNuegfY: Downloading webpage\n",
            "[youtube] fMB0XNuegfY: Downloading android player API JSON\n",
            "[info] fMB0XNuegfY: Downloading subtitles: en\n",
            "[info] fMB0XNuegfY: Downloading 1 format(s): 308+251\n",
            "[info] Writing video subtitles to: /content/TestFolder1/fMB0XNuegfY.en.vtt\n",
            "[download] Destination: /content/TestFolder1/fMB0XNuegfY.en.vtt\n",
            "[download] 100% of  109.14KiB in 00:00:00 at 393.08KiB/s\n",
            "Processing captions...\n",
            "100.00% elapsed: 0:00:00, remaining: 0:00:00"
          ]
        },
        {
          "output_type": "stream",
          "name": "stderr",
          "text": [
            "Opening /content/TestFolder2/data.1.json.gz for reading...\n",
            "Closed /content/TestFolder2/data.1.json.gz.\n",
            "\n",
            "  0%|          | 0/1 [00:00<?, ?it/s]\u001b[A"
          ]
        },
        {
          "output_type": "stream",
          "name": "stdout",
          "text": [
            "Input Video ID: fMB0XNuegfY\n"
          ]
        },
        {
          "output_type": "stream",
          "name": "stderr",
          "text": [
            "\n",
            "100%|██████████| 1/1 [00:01<00:00,  1.25s/it]"
          ]
        },
        {
          "output_type": "stream",
          "name": "stdout",
          "text": [
            "p1 [(7, 15), (25, 28), (228, 231), (236, 244)]\n",
            "p2 [(7, 15), (25, 28), (228, 231), (236, 244)]\n"
          ]
        },
        {
          "output_type": "stream",
          "name": "stderr",
          "text": [
            "\n"
          ]
        },
        {
          "output_type": "stream",
          "name": "stdout",
          "text": [
            "NLP & CNN Available\n",
            "NLP: (236, 244)\n",
            "LSTM: None\n",
            "DeiT (55, 72)\n",
            "\tPredicted=(181, 192),\n",
            "\tExpected=[[0, 0]]\n",
            "[youtube] Extracting URL: ZuX3OLboe8U\n",
            "[youtube] ZuX3OLboe8U: Downloading webpage\n",
            "[youtube] ZuX3OLboe8U: Downloading android player API JSON\n",
            "[youtube] ZuX3OLboe8U: Downloading MPD manifest\n",
            "ZuX3OLboe8U []\n",
            "[youtube] Extracting URL: https://www.youtube.com/watch?v=ZuX3OLboe8U\n",
            "[youtube] ZuX3OLboe8U: Downloading webpage\n",
            "[youtube] ZuX3OLboe8U: Downloading android player API JSON\n",
            "[youtube] ZuX3OLboe8U: Downloading MPD manifest\n",
            "[info] ZuX3OLboe8U: Downloading subtitles: en\n",
            "[info] ZuX3OLboe8U: Downloading 1 format(s): 248+251\n",
            "[info] Writing video subtitles to: /content/TestFolder1/ZuX3OLboe8U.en.vtt\n",
            "[download] Destination: /content/TestFolder1/ZuX3OLboe8U.en.vtt\n",
            "[download] 100% of    2.35KiB in 00:00:00 at 71.15KiB/s\n",
            "Processing captions...\n",
            "100.00% elapsed: 0:00:00, remaining: 0:00:00"
          ]
        },
        {
          "output_type": "stream",
          "name": "stderr",
          "text": [
            "Opening /content/TestFolder2/data.1.json.gz for reading...\n",
            "Closed /content/TestFolder2/data.1.json.gz.\n",
            "\n",
            "  0%|          | 0/1 [00:00<?, ?it/s]\u001b[A"
          ]
        },
        {
          "output_type": "stream",
          "name": "stdout",
          "text": [
            "Input Video ID: ZuX3OLboe8U\n"
          ]
        },
        {
          "output_type": "stream",
          "name": "stderr",
          "text": [
            "\n",
            "100%|██████████| 1/1 [00:00<00:00,  5.99it/s]"
          ]
        },
        {
          "output_type": "stream",
          "name": "stdout",
          "text": [
            "p1 [(0, 3)]\n",
            "p2 [(0, 3)]\n"
          ]
        },
        {
          "output_type": "stream",
          "name": "stderr",
          "text": [
            "\n"
          ]
        },
        {
          "output_type": "stream",
          "name": "stdout",
          "text": [
            "NLP & CNN Available\n",
            "NLP: (0, 3)\n",
            "LSTM: None\n",
            "DeiT (0, 0)\n",
            "\tPredicted=(0, 2),\n",
            "\tExpected=[[0, 0]]\n",
            "[youtube] Extracting URL: RoOJuzNb3UI\n",
            "[youtube] RoOJuzNb3UI: Downloading webpage\n",
            "[youtube] RoOJuzNb3UI: Downloading android player API JSON\n",
            "[youtube] Extracting URL: xbDRu172--s\n",
            "[youtube] xbDRu172--s: Downloading webpage\n",
            "[youtube] xbDRu172--s: Downloading android player API JSON\n",
            "[youtube] xbDRu172--s: Downloading MPD manifest\n",
            "xbDRu172--s []\n",
            "[youtube] Extracting URL: https://www.youtube.com/watch?v=xbDRu172--s\n",
            "[youtube] xbDRu172--s: Downloading webpage\n",
            "[youtube] xbDRu172--s: Downloading android player API JSON\n",
            "[youtube] xbDRu172--s: Downloading MPD manifest\n",
            "[info] xbDRu172--s: Downloading 1 format(s): 248+251\n",
            "[info] There's no subtitles for the requested languages\n",
            "[youtube] Extracting URL: https://www.youtube.com/watch?v=xbDRu172--s\n",
            "[youtube] xbDRu172--s: Downloading webpage\n",
            "[youtube] xbDRu172--s: Downloading android player API JSON\n",
            "[youtube] xbDRu172--s: Downloading MPD manifest\n",
            "[info] xbDRu172--s: Downloading subtitles: en\n",
            "[info] xbDRu172--s: Downloading 1 format(s): 248+251\n",
            "[info] Writing video subtitles to: /content/TestFolder1/xbDRu172--s.en.vtt\n",
            "[download] Destination: /content/TestFolder1/xbDRu172--s.en.vtt\n",
            "[download] 100% of   80.14KiB in 00:00:00 at 1.24MiB/s\n",
            "Processing captions...\n",
            "100.00% elapsed: 0:00:00, remaining: 0:00:00"
          ]
        },
        {
          "output_type": "stream",
          "name": "stderr",
          "text": [
            "Opening /content/TestFolder2/data.1.json.gz for reading...\n",
            "Closed /content/TestFolder2/data.1.json.gz.\n",
            "\n",
            "  0%|          | 0/1 [00:00<?, ?it/s]\u001b[A"
          ]
        },
        {
          "output_type": "stream",
          "name": "stdout",
          "text": [
            "Input Video ID: xbDRu172--s\n"
          ]
        },
        {
          "output_type": "stream",
          "name": "stderr",
          "text": [
            "\n",
            "100%|██████████| 1/1 [00:01<00:00,  1.04s/it]"
          ]
        },
        {
          "output_type": "stream",
          "name": "stdout",
          "text": [
            "p1 [(10, 14), (57, 60), (65, 68), (73, 76), (115, 118), (195, 197), (218, 222)]\n",
            "p2 [(10, 14), (57, 60), (65, 68), (73, 76), (115, 118), (195, 197), (218, 222)]\n"
          ]
        },
        {
          "output_type": "stream",
          "name": "stderr",
          "text": [
            "\n"
          ]
        },
        {
          "output_type": "stream",
          "name": "stdout",
          "text": [
            "NLP & CNN Available\n",
            "NLP: (218, 222)\n",
            "LSTM: None\n",
            "DeiT (212, 226)\n",
            "\tPredicted=(216, 223),\n",
            "\tExpected=[[0, 0]]\n",
            "IOU: 0.6410541927208595\n",
            "Confusion matrix [[44630   304]\n",
            " [  358    50]]\n",
            "Accuracy 0.985399850028671\n",
            "Precision 0.14124293785310735\n",
            "Recall 0.12254901960784313\n",
            "[youtube] Extracting URL: 8unOyycCpFs\n",
            "[youtube] 8unOyycCpFs: Downloading webpage\n",
            "[youtube] 8unOyycCpFs: Downloading android player API JSON\n",
            "[youtube] Extracting URL: gUX7xYZaC34\n",
            "[youtube] gUX7xYZaC34: Downloading webpage\n",
            "[youtube] gUX7xYZaC34: Downloading android player API JSON\n",
            "[youtube] Extracting URL: k2o2Y49_0xU\n",
            "[youtube] k2o2Y49_0xU: Downloading webpage\n",
            "[youtube] k2o2Y49_0xU: Downloading android player API JSON\n",
            "[youtube] Extracting URL: 2rPkbyyviGI\n",
            "[youtube] 2rPkbyyviGI: Downloading webpage\n",
            "[youtube] 2rPkbyyviGI: Downloading android player API JSON\n",
            "2rPkbyyviGI []\n",
            "[youtube] Extracting URL: https://www.youtube.com/watch?v=2rPkbyyviGI\n",
            "[youtube] 2rPkbyyviGI: Downloading webpage\n",
            "[youtube] 2rPkbyyviGI: Downloading android player API JSON\n",
            "[info] 2rPkbyyviGI: Downloading 1 format(s): 248+251\n",
            "[info] There's no subtitles for the requested languages\n",
            "[youtube] Extracting URL: https://www.youtube.com/watch?v=2rPkbyyviGI\n",
            "[youtube] 2rPkbyyviGI: Downloading webpage\n",
            "[youtube] 2rPkbyyviGI: Downloading android player API JSON\n",
            "[info] 2rPkbyyviGI: Downloading subtitles: en\n",
            "[info] 2rPkbyyviGI: Downloading 1 format(s): 248+251\n",
            "[info] Writing video subtitles to: /content/TestFolder1/2rPkbyyviGI.en.vtt\n",
            "[download] Destination: /content/TestFolder1/2rPkbyyviGI.en.vtt\n",
            "[download] 100% of   27.72KiB in 00:00:00 at 411.87KiB/s\n",
            "Processing captions...\n",
            "100.00% elapsed: 0:00:00, remaining: 0:00:00"
          ]
        },
        {
          "output_type": "stream",
          "name": "stderr",
          "text": [
            "Opening /content/TestFolder2/data.1.json.gz for reading...\n",
            "Closed /content/TestFolder2/data.1.json.gz.\n",
            "\n",
            "  0%|          | 0/1 [00:00<?, ?it/s]\u001b[A"
          ]
        },
        {
          "output_type": "stream",
          "name": "stdout",
          "text": [
            "Input Video ID: 2rPkbyyviGI\n"
          ]
        },
        {
          "output_type": "stream",
          "name": "stderr",
          "text": [
            "\n",
            "100%|██████████| 1/1 [00:00<00:00,  2.84it/s]"
          ]
        },
        {
          "output_type": "stream",
          "name": "stdout",
          "text": [
            "p1 []\n",
            "p2 []\n"
          ]
        },
        {
          "output_type": "stream",
          "name": "stderr",
          "text": [
            "\n"
          ]
        },
        {
          "output_type": "stream",
          "name": "stdout",
          "text": [
            "1/1 [==============================] - 0s 27ms/step\n",
            "ALL Available\n",
            "NLP: (0, 0)\n",
            "LSTM: (147, 155)\n",
            "DeiT (79, 94)\n",
            "\tPredicted=(0, 0),\n",
            "\tExpected=[[0, 0]]\n",
            "[youtube] Extracting URL: 2UCm2uaLdUo\n",
            "[youtube] 2UCm2uaLdUo: Downloading webpage\n",
            "[youtube] 2UCm2uaLdUo: Downloading android player API JSON\n",
            "2UCm2uaLdUo [[158.038, 237.053]]\n",
            "[youtube] Extracting URL: https://www.youtube.com/watch?v=2UCm2uaLdUo\n",
            "[youtube] 2UCm2uaLdUo: Downloading webpage\n",
            "[youtube] 2UCm2uaLdUo: Downloading android player API JSON\n",
            "[info] 2UCm2uaLdUo: Downloading 1 format(s): 313+251\n",
            "[info] There's no subtitles for the requested languages\n",
            "[youtube] Extracting URL: https://www.youtube.com/watch?v=2UCm2uaLdUo\n",
            "[youtube] 2UCm2uaLdUo: Downloading webpage\n",
            "[youtube] 2UCm2uaLdUo: Downloading android player API JSON\n",
            "[info] 2UCm2uaLdUo: Downloading subtitles: en\n",
            "[info] 2UCm2uaLdUo: Downloading 1 format(s): 313+251\n",
            "[info] Writing video subtitles to: /content/TestFolder1/2UCm2uaLdUo.en.vtt\n",
            "[download] Destination: /content/TestFolder1/2UCm2uaLdUo.en.vtt\n",
            "[download] 100% of  117.45KiB in 00:00:00 at 1.27MiB/s\n",
            "Processing captions...\n",
            "100.00% elapsed: 0:00:00, remaining: 0:00:00"
          ]
        },
        {
          "output_type": "stream",
          "name": "stderr",
          "text": [
            "Opening /content/TestFolder2/data.1.json.gz for reading...\n",
            "Closed /content/TestFolder2/data.1.json.gz.\n",
            "\n",
            "  0%|          | 0/1 [00:00<?, ?it/s]\u001b[A"
          ]
        },
        {
          "output_type": "stream",
          "name": "stdout",
          "text": [
            "Input Video ID: 2UCm2uaLdUo\n"
          ]
        },
        {
          "output_type": "stream",
          "name": "stderr",
          "text": [
            "\n",
            "100%|██████████| 1/1 [00:01<00:00,  1.38s/it]"
          ]
        },
        {
          "output_type": "stream",
          "name": "stdout",
          "text": [
            "p1 [(69, 70), (83, 89), (124, 128), (273, 277)]\n",
            "p2 [(69, 70), (83, 89), (124, 128), (273, 277)]\n"
          ]
        },
        {
          "output_type": "stream",
          "name": "stderr",
          "text": [
            "\n"
          ]
        },
        {
          "output_type": "stream",
          "name": "stdout",
          "text": [
            "1/1 [==============================] - 0s 44ms/step\n",
            "ALL Available\n",
            "NLP: (83, 89)\n",
            "LSTM: (226, 243)\n",
            "DeiT (733, 747)\n",
            "\tPredicted=(0, 0),\n",
            "\tExpected=[[158.038, 237.053]]\n",
            "[youtube] Extracting URL: BQrP7KIblHg\n",
            "[youtube] BQrP7KIblHg: Downloading webpage\n",
            "[youtube] BQrP7KIblHg: Downloading android player API JSON\n",
            "[youtube] Extracting URL: hK862BUrYGI\n",
            "[youtube] hK862BUrYGI: Downloading webpage\n",
            "[youtube] hK862BUrYGI: Downloading android player API JSON\n",
            "[youtube] Extracting URL: CIvGUfiAH70\n",
            "[youtube] CIvGUfiAH70: Downloading webpage\n",
            "[youtube] CIvGUfiAH70: Downloading android player API JSON\n",
            "CIvGUfiAH70 []\n",
            "[youtube] Extracting URL: https://www.youtube.com/watch?v=CIvGUfiAH70\n",
            "[youtube] CIvGUfiAH70: Downloading webpage\n",
            "[youtube] CIvGUfiAH70: Downloading android player API JSON\n",
            "[info] CIvGUfiAH70: Downloading 1 format(s): 313+251\n",
            "[info] There's no subtitles for the requested languages\n",
            "[youtube] Extracting URL: https://www.youtube.com/watch?v=CIvGUfiAH70\n",
            "[youtube] CIvGUfiAH70: Downloading webpage\n",
            "[youtube] CIvGUfiAH70: Downloading android player API JSON\n",
            "[info] CIvGUfiAH70: Downloading subtitles: en\n",
            "[info] CIvGUfiAH70: Downloading 1 format(s): 313+251\n",
            "[info] Writing video subtitles to: /content/TestFolder1/CIvGUfiAH70.en.vtt\n",
            "[download] Destination: /content/TestFolder1/CIvGUfiAH70.en.vtt\n",
            "[download] 100% of  127.66KiB in 00:00:00 at 2.25MiB/s\n",
            "Processing captions...\n",
            "100.00% elapsed: 0:00:00, remaining: 0:00:00"
          ]
        },
        {
          "output_type": "stream",
          "name": "stderr",
          "text": [
            "Opening /content/TestFolder2/data.1.json.gz for reading...\n",
            "Closed /content/TestFolder2/data.1.json.gz.\n",
            "\n",
            "  0%|          | 0/1 [00:00<?, ?it/s]\u001b[A"
          ]
        },
        {
          "output_type": "stream",
          "name": "stdout",
          "text": [
            "Input Video ID: CIvGUfiAH70\n"
          ]
        },
        {
          "output_type": "stream",
          "name": "stderr",
          "text": [
            "\n",
            "100%|██████████| 1/1 [00:01<00:00,  1.44s/it]"
          ]
        },
        {
          "output_type": "stream",
          "name": "stdout",
          "text": [
            "p1 [(43, 47), (57, 71), (377, 382)]\n",
            "p2 [(43, 47), (57, 71), (377, 382)]\n"
          ]
        },
        {
          "output_type": "stream",
          "name": "stderr",
          "text": [
            "\n"
          ]
        },
        {
          "output_type": "stream",
          "name": "stdout",
          "text": [
            "1/1 [==============================] - 0s 25ms/step\n",
            "ALL Available\n",
            "NLP: (57, 71)\n",
            "LSTM: (845, 872)\n",
            "DeiT (105, 122)\n",
            "\tPredicted=(0, 0),\n",
            "\tExpected=[[0, 0]]\n",
            "[youtube] Extracting URL: jlw4ExE6rFo\n",
            "[youtube] jlw4ExE6rFo: Downloading webpage\n",
            "[youtube] jlw4ExE6rFo: Downloading android player API JSON\n",
            "jlw4ExE6rFo []\n",
            "[youtube] Extracting URL: https://www.youtube.com/watch?v=jlw4ExE6rFo\n",
            "[youtube] jlw4ExE6rFo: Downloading webpage\n",
            "[youtube] jlw4ExE6rFo: Downloading android player API JSON\n",
            "[info] jlw4ExE6rFo: Downloading 1 format(s): 303+251\n",
            "[info] There's no subtitles for the requested languages\n",
            "[youtube] Extracting URL: https://www.youtube.com/watch?v=jlw4ExE6rFo\n",
            "[youtube] jlw4ExE6rFo: Downloading webpage\n",
            "[youtube] jlw4ExE6rFo: Downloading android player API JSON\n",
            "[info] jlw4ExE6rFo: Downloading subtitles: en\n",
            "[info] jlw4ExE6rFo: Downloading 1 format(s): 303+251\n",
            "[info] Writing video subtitles to: /content/TestFolder1/jlw4ExE6rFo.en.vtt\n",
            "[download] Destination: /content/TestFolder1/jlw4ExE6rFo.en.vtt\n",
            "[download] 100% of    8.93KiB in 00:00:00 at 146.32KiB/s\n",
            "Processing captions...\n",
            "100.00% elapsed: 0:00:00, remaining: 0:00:00"
          ]
        },
        {
          "output_type": "stream",
          "name": "stderr",
          "text": [
            "Opening /content/TestFolder2/data.1.json.gz for reading...\n",
            "Closed /content/TestFolder2/data.1.json.gz.\n",
            "\n",
            "  0%|          | 0/1 [00:00<?, ?it/s]\u001b[A"
          ]
        },
        {
          "output_type": "stream",
          "name": "stdout",
          "text": [
            "Input Video ID: jlw4ExE6rFo\n"
          ]
        },
        {
          "output_type": "stream",
          "name": "stderr",
          "text": [
            "\n",
            "100%|██████████| 1/1 [00:00<00:00,  5.85it/s]"
          ]
        },
        {
          "output_type": "stream",
          "name": "stdout",
          "text": [
            "p1 [(0, 4), (15, 19)]\n",
            "p2 [(0, 4), (15, 19)]\n"
          ]
        },
        {
          "output_type": "stream",
          "name": "stderr",
          "text": [
            "\n"
          ]
        },
        {
          "output_type": "stream",
          "name": "stdout",
          "text": [
            "1/1 [==============================] - 0s 37ms/step\n",
            "ALL Available\n",
            "NLP: (15, 19)\n",
            "LSTM: (0, 0)\n",
            "DeiT (51, 67)\n",
            "\tPredicted=(0, 0),\n",
            "\tExpected=[[0, 0]]\n",
            "[youtube] Extracting URL: BXz7Yof_9XE\n",
            "[youtube] BXz7Yof_9XE: Downloading webpage\n",
            "[youtube] BXz7Yof_9XE: Downloading android player API JSON\n",
            "BXz7Yof_9XE []\n",
            "[youtube] Extracting URL: https://www.youtube.com/watch?v=BXz7Yof_9XE\n",
            "[youtube] BXz7Yof_9XE: Downloading webpage\n",
            "[youtube] BXz7Yof_9XE: Downloading android player API JSON\n",
            "[info] BXz7Yof_9XE: Downloading 1 format(s): 248+251\n",
            "[info] There's no subtitles for the requested languages\n",
            "[youtube] Extracting URL: https://www.youtube.com/watch?v=BXz7Yof_9XE\n",
            "[youtube] BXz7Yof_9XE: Downloading webpage\n",
            "[youtube] BXz7Yof_9XE: Downloading android player API JSON\n",
            "[info] BXz7Yof_9XE: Downloading subtitles: en\n",
            "[info] BXz7Yof_9XE: Downloading 1 format(s): 248+251\n",
            "[info] Writing video subtitles to: /content/TestFolder1/BXz7Yof_9XE.en.vtt\n",
            "[download] Destination: /content/TestFolder1/BXz7Yof_9XE.en.vtt\n",
            "[download] 100% of  125.74KiB in 00:00:00 at 2.43MiB/s\n",
            "Processing captions...\n",
            "100.00% elapsed: 0:00:00, remaining: 0:00:00"
          ]
        },
        {
          "output_type": "stream",
          "name": "stderr",
          "text": [
            "Opening /content/TestFolder2/data.1.json.gz for reading...\n",
            "Closed /content/TestFolder2/data.1.json.gz.\n",
            "\n",
            "  0%|          | 0/1 [00:00<?, ?it/s]\u001b[A"
          ]
        },
        {
          "output_type": "stream",
          "name": "stdout",
          "text": [
            "Input Video ID: BXz7Yof_9XE\n"
          ]
        },
        {
          "output_type": "stream",
          "name": "stderr",
          "text": [
            "\n",
            "100%|██████████| 1/1 [00:01<00:00,  1.39s/it]"
          ]
        },
        {
          "output_type": "stream",
          "name": "stdout",
          "text": [
            "p1 [(41, 46), (51, 55), (61, 67), (140, 144)]\n",
            "p2 [(41, 46), (51, 55), (61, 67), (140, 144)]\n"
          ]
        },
        {
          "output_type": "stream",
          "name": "stderr",
          "text": [
            "\n"
          ]
        },
        {
          "output_type": "stream",
          "name": "stdout",
          "text": [
            "1/1 [==============================] - 0s 37ms/step\n",
            "ALL Available\n",
            "NLP: (61, 67)\n",
            "LSTM: (73, 171)\n",
            "DeiT (656, 672)\n",
            "\tPredicted=(0, 0),\n",
            "\tExpected=[[0, 0]]\n",
            "[youtube] Extracting URL: SUI4wpshOx4\n",
            "[youtube] SUI4wpshOx4: Downloading webpage\n",
            "[youtube] SUI4wpshOx4: Downloading android player API JSON\n",
            "SUI4wpshOx4 []\n",
            "[youtube] Extracting URL: https://www.youtube.com/watch?v=SUI4wpshOx4\n",
            "[youtube] SUI4wpshOx4: Downloading webpage\n",
            "[youtube] SUI4wpshOx4: Downloading android player API JSON\n",
            "[info] SUI4wpshOx4: Downloading 1 format(s): 248+251\n",
            "[info] There's no subtitles for the requested languages\n",
            "[youtube] Extracting URL: https://www.youtube.com/watch?v=SUI4wpshOx4\n",
            "[youtube] SUI4wpshOx4: Downloading webpage\n",
            "[youtube] SUI4wpshOx4: Downloading android player API JSON\n",
            "[info] SUI4wpshOx4: Downloading subtitles: en\n",
            "[info] SUI4wpshOx4: Downloading 1 format(s): 248+251\n",
            "[info] Writing video subtitles to: /content/TestFolder1/SUI4wpshOx4.en.vtt\n",
            "[download] Destination: /content/TestFolder1/SUI4wpshOx4.en.vtt\n",
            "[download] 100% of  100.37KiB in 00:00:00 at 347.99KiB/s\n",
            "Processing captions...\n",
            "100.00% elapsed: 0:00:00, remaining: 0:00:00"
          ]
        },
        {
          "output_type": "stream",
          "name": "stderr",
          "text": [
            "Opening /content/TestFolder2/data.1.json.gz for reading...\n",
            "Closed /content/TestFolder2/data.1.json.gz.\n",
            "\n",
            "  0%|          | 0/1 [00:00<?, ?it/s]\u001b[A"
          ]
        },
        {
          "output_type": "stream",
          "name": "stdout",
          "text": [
            "Input Video ID: SUI4wpshOx4\n"
          ]
        },
        {
          "output_type": "stream",
          "name": "stderr",
          "text": [
            "\n",
            "100%|██████████| 1/1 [00:01<00:00,  1.12s/it]"
          ]
        },
        {
          "output_type": "stream",
          "name": "stdout",
          "text": [
            "p1 [(52, 57), (145, 149), (179, 183), (195, 199), (226, 230)]\n",
            "p2 [(52, 57), (145, 149), (179, 183), (195, 199), (226, 230)]\n"
          ]
        },
        {
          "output_type": "stream",
          "name": "stderr",
          "text": [
            "\n"
          ]
        },
        {
          "output_type": "stream",
          "name": "stdout",
          "text": [
            "1/1 [==============================] - 0s 41ms/step\n",
            "ALL Available\n",
            "NLP: (52, 57)\n",
            "LSTM: (0, 0)\n",
            "DeiT (126, 140)\n",
            "\tPredicted=(0, 0),\n",
            "\tExpected=[[0, 0]]\n",
            "[youtube] Extracting URL: EC3RLKDxAHg\n",
            "[youtube] EC3RLKDxAHg: Downloading webpage\n",
            "[youtube] EC3RLKDxAHg: Downloading android player API JSON\n",
            "[youtube] Extracting URL: MEHeGKZIPOU\n",
            "[youtube] MEHeGKZIPOU: Downloading webpage\n",
            "[youtube] MEHeGKZIPOU: Downloading android player API JSON\n",
            "MEHeGKZIPOU []\n",
            "[youtube] Extracting URL: https://www.youtube.com/watch?v=MEHeGKZIPOU\n",
            "[youtube] MEHeGKZIPOU: Downloading webpage\n",
            "[youtube] MEHeGKZIPOU: Downloading android player API JSON\n",
            "[info] MEHeGKZIPOU: Downloading 1 format(s): 303+251\n",
            "[info] There's no subtitles for the requested languages\n",
            "[youtube] Extracting URL: https://www.youtube.com/watch?v=MEHeGKZIPOU\n",
            "[youtube] MEHeGKZIPOU: Downloading webpage\n",
            "[youtube] MEHeGKZIPOU: Downloading android player API JSON\n",
            "[info] MEHeGKZIPOU: Downloading subtitles: en\n",
            "[info] MEHeGKZIPOU: Downloading 1 format(s): 303+251\n",
            "[info] Writing video subtitles to: /content/TestFolder1/MEHeGKZIPOU.en.vtt\n",
            "[download] Destination: /content/TestFolder1/MEHeGKZIPOU.en.vtt\n",
            "[download] 100% of   95.97KiB in 00:00:00 at 1.41MiB/s\n",
            "Processing captions...\n",
            "100.00% elapsed: 0:00:00, remaining: 0:00:00"
          ]
        },
        {
          "output_type": "stream",
          "name": "stderr",
          "text": [
            "Opening /content/TestFolder2/data.1.json.gz for reading...\n",
            "Closed /content/TestFolder2/data.1.json.gz.\n",
            "\n",
            "  0%|          | 0/1 [00:00<?, ?it/s]\u001b[A"
          ]
        },
        {
          "output_type": "stream",
          "name": "stdout",
          "text": [
            "Input Video ID: MEHeGKZIPOU\n"
          ]
        },
        {
          "output_type": "stream",
          "name": "stderr",
          "text": [
            "\n",
            "100%|██████████| 1/1 [00:00<00:00,  1.02it/s]"
          ]
        },
        {
          "output_type": "stream",
          "name": "stdout",
          "text": [
            "p1 [(135, 139)]\n",
            "p2 [(135, 139)]\n"
          ]
        },
        {
          "output_type": "stream",
          "name": "stderr",
          "text": [
            "\n"
          ]
        },
        {
          "output_type": "stream",
          "name": "stdout",
          "text": [
            "1/1 [==============================] - 0s 29ms/step\n",
            "ALL Available\n",
            "NLP: (135, 139)\n",
            "LSTM: (5, 29)\n",
            "DeiT (0, 0)\n",
            "\tPredicted=(0, 0),\n",
            "\tExpected=[[0, 0]]\n",
            "[youtube] Extracting URL: 2vJNkgFDF-s\n",
            "[youtube] 2vJNkgFDF-s: Downloading webpage\n",
            "[youtube] 2vJNkgFDF-s: Downloading android player API JSON\n",
            "2vJNkgFDF-s []\n",
            "[youtube] Extracting URL: https://www.youtube.com/watch?v=2vJNkgFDF-s\n",
            "[youtube] 2vJNkgFDF-s: Downloading webpage\n",
            "[youtube] 2vJNkgFDF-s: Downloading android player API JSON\n",
            "[info] 2vJNkgFDF-s: Downloading subtitles: en\n",
            "[info] 2vJNkgFDF-s: Downloading 1 format(s): 248+251\n",
            "[info] Writing video subtitles to: /content/TestFolder1/2vJNkgFDF-s.en.vtt\n",
            "[download] Destination: /content/TestFolder1/2vJNkgFDF-s.en.vtt\n",
            "[download] 100% of    5.22KiB in 00:00:00 at 141.10KiB/s\n",
            "Processing captions...\n",
            "100.00% elapsed: 0:00:00, remaining: 0:00:00"
          ]
        },
        {
          "output_type": "stream",
          "name": "stderr",
          "text": [
            "Opening /content/TestFolder2/data.1.json.gz for reading...\n",
            "Closed /content/TestFolder2/data.1.json.gz.\n",
            "\n",
            "  0%|          | 0/1 [00:00<?, ?it/s]\u001b[A"
          ]
        },
        {
          "output_type": "stream",
          "name": "stdout",
          "text": [
            "Input Video ID: 2vJNkgFDF-s\n"
          ]
        },
        {
          "output_type": "stream",
          "name": "stderr",
          "text": [
            "\n",
            "100%|██████████| 1/1 [00:00<00:00,  3.55it/s]"
          ]
        },
        {
          "output_type": "stream",
          "name": "stdout",
          "text": [
            "p1 [(60, 64)]\n",
            "p2 [(60, 64)]\n"
          ]
        },
        {
          "output_type": "stream",
          "name": "stderr",
          "text": [
            "\n"
          ]
        },
        {
          "output_type": "stream",
          "name": "stdout",
          "text": [
            "NLP & CNN Available\n",
            "NLP: (60, 64)\n",
            "LSTM: None\n",
            "DeiT (121, 139)\n",
            "\tPredicted=(78, 86),\n",
            "\tExpected=[[0, 0]]\n",
            "[youtube] Extracting URL: s2K3deq996Q\n",
            "[youtube] s2K3deq996Q: Downloading webpage\n",
            "[youtube] s2K3deq996Q: Downloading android player API JSON\n",
            "[youtube] s2K3deq996Q: Downloading MPD manifest\n",
            "s2K3deq996Q []\n",
            "[youtube] Extracting URL: https://www.youtube.com/watch?v=s2K3deq996Q\n",
            "[youtube] s2K3deq996Q: Downloading webpage\n",
            "[youtube] s2K3deq996Q: Downloading android player API JSON\n",
            "[youtube] s2K3deq996Q: Downloading MPD manifest\n",
            "[info] s2K3deq996Q: Downloading subtitles: en\n",
            "[info] s2K3deq996Q: Downloading 1 format(s): 248+251\n",
            "[info] Writing video subtitles to: /content/TestFolder1/s2K3deq996Q.en.vtt\n",
            "[download] Destination: /content/TestFolder1/s2K3deq996Q.en.vtt\n",
            "[download] 100% of   24.84KiB in 00:00:00 at 420.28KiB/s\n",
            "Processing captions...\n",
            "100.00% elapsed: 0:00:00, remaining: 0:00:00"
          ]
        },
        {
          "output_type": "stream",
          "name": "stderr",
          "text": [
            "Opening /content/TestFolder2/data.1.json.gz for reading...\n",
            "Closed /content/TestFolder2/data.1.json.gz.\n",
            "\n",
            "  0%|          | 0/1 [00:00<?, ?it/s]\u001b[A"
          ]
        },
        {
          "output_type": "stream",
          "name": "stdout",
          "text": [
            "Input Video ID: s2K3deq996Q\n"
          ]
        },
        {
          "output_type": "stream",
          "name": "stderr",
          "text": [
            "\n",
            "100%|██████████| 1/1 [00:01<00:00,  1.33s/it]"
          ]
        },
        {
          "output_type": "stream",
          "name": "stdout",
          "text": [
            "p1 [(269, 273), (292, 295)]\n",
            "p2 [(269, 273), (292, 295)]\n"
          ]
        },
        {
          "output_type": "stream",
          "name": "stderr",
          "text": [
            "\n"
          ]
        },
        {
          "output_type": "stream",
          "name": "stdout",
          "text": [
            "NLP & CNN Available\n",
            "NLP: (269, 273)\n",
            "LSTM: None\n",
            "DeiT (0, 0)\n",
            "\tPredicted=(188, 191),\n",
            "\tExpected=[[0, 0]]\n",
            "[youtube] Extracting URL: 6Ubkz56npH8\n",
            "[youtube] 6Ubkz56npH8: Downloading webpage\n",
            "[youtube] 6Ubkz56npH8: Downloading android player API JSON\n",
            "[youtube] Extracting URL: H-uXTOpiKTY\n",
            "[youtube] H-uXTOpiKTY: Downloading webpage\n",
            "[youtube] H-uXTOpiKTY: Downloading android player API JSON\n",
            "H-uXTOpiKTY []\n",
            "[youtube] Extracting URL: https://www.youtube.com/watch?v=H-uXTOpiKTY\n",
            "[youtube] H-uXTOpiKTY: Downloading webpage\n",
            "[youtube] H-uXTOpiKTY: Downloading android player API JSON\n",
            "[info] H-uXTOpiKTY: Downloading 1 format(s): 248+251\n",
            "[info] There's no subtitles for the requested languages\n",
            "[youtube] Extracting URL: https://www.youtube.com/watch?v=H-uXTOpiKTY\n",
            "[youtube] H-uXTOpiKTY: Downloading webpage\n",
            "[youtube] H-uXTOpiKTY: Downloading android player API JSON\n",
            "[info] H-uXTOpiKTY: Downloading subtitles: en\n",
            "[info] H-uXTOpiKTY: Downloading 1 format(s): 248+251\n",
            "[info] Writing video subtitles to: /content/TestFolder1/H-uXTOpiKTY.en.vtt\n",
            "[download] Destination: /content/TestFolder1/H-uXTOpiKTY.en.vtt\n",
            "[download] 100% of   40.06KiB in 00:00:00 at 677.54KiB/s\n",
            "Processing captions...\n",
            "100.00% elapsed: 0:00:00, remaining: 0:00:00"
          ]
        },
        {
          "output_type": "stream",
          "name": "stderr",
          "text": [
            "Opening /content/TestFolder2/data.1.json.gz for reading...\n",
            "Closed /content/TestFolder2/data.1.json.gz.\n",
            "\n",
            "  0%|          | 0/1 [00:00<?, ?it/s]\u001b[A"
          ]
        },
        {
          "output_type": "stream",
          "name": "stdout",
          "text": [
            "Input Video ID: H-uXTOpiKTY\n"
          ]
        },
        {
          "output_type": "stream",
          "name": "stderr",
          "text": [
            "\n",
            "100%|██████████| 1/1 [00:00<00:00,  1.91it/s]"
          ]
        },
        {
          "output_type": "stream",
          "name": "stdout",
          "text": [
            "p1 []\n",
            "p2 []\n"
          ]
        },
        {
          "output_type": "stream",
          "name": "stderr",
          "text": [
            "\n"
          ]
        },
        {
          "output_type": "stream",
          "name": "stdout",
          "text": [
            "NLP & CNN Available\n",
            "NLP: (0, 0)\n",
            "LSTM: None\n",
            "DeiT (0, 0)\n",
            "\tPredicted=(0, 0),\n",
            "\tExpected=[[0, 0]]\n",
            "IOU: 0.6669487734487736\n",
            "Confusion matrix [[49969   318]\n",
            " [  440    57]]\n",
            "Accuracy 0.9850740390674229\n",
            "Precision 0.152\n",
            "Recall 0.11468812877263582\n",
            "[youtube] Extracting URL: MNn5qOprDAE\n",
            "[youtube] MNn5qOprDAE: Downloading webpage\n",
            "[youtube] MNn5qOprDAE: Downloading android player API JSON\n",
            "MNn5qOprDAE []\n",
            "[youtube] Extracting URL: https://www.youtube.com/watch?v=MNn5qOprDAE\n",
            "[youtube] MNn5qOprDAE: Downloading webpage\n",
            "[youtube] MNn5qOprDAE: Downloading android player API JSON\n",
            "[info] MNn5qOprDAE: Downloading subtitles: en-GB\n",
            "[info] MNn5qOprDAE: Downloading 1 format(s): 248+251\n",
            "[info] Writing video subtitles to: /content/TestFolder1/MNn5qOprDAE.en-GB.vtt\n",
            "[download] Destination: /content/TestFolder1/MNn5qOprDAE.en-GB.vtt\n",
            "[download] 100% of    7.53KiB in 00:00:00 at 257.39KiB/s\n",
            "Processing captions...\n",
            "100.00% elapsed: 0:00:00, remaining: 0:00:00"
          ]
        },
        {
          "output_type": "stream",
          "name": "stderr",
          "text": [
            "Opening /content/TestFolder2/data.1.json.gz for reading...\n",
            "Closed /content/TestFolder2/data.1.json.gz.\n",
            "\n",
            "  0%|          | 0/1 [00:00<?, ?it/s]\u001b[A"
          ]
        },
        {
          "output_type": "stream",
          "name": "stdout",
          "text": [
            "Input Video ID: MNn5qOprDAE\n"
          ]
        },
        {
          "output_type": "stream",
          "name": "stderr",
          "text": [
            "\n",
            "100%|██████████| 1/1 [00:00<00:00,  2.21it/s]"
          ]
        },
        {
          "output_type": "stream",
          "name": "stdout",
          "text": [
            "p1 []\n",
            "p2 []\n"
          ]
        },
        {
          "output_type": "stream",
          "name": "stderr",
          "text": [
            "\n"
          ]
        },
        {
          "output_type": "stream",
          "name": "stdout",
          "text": [
            "1/1 [==============================] - 0s 29ms/step\n",
            "ALL Available\n",
            "NLP: (0, 0)\n",
            "LSTM: (0, 0)\n",
            "DeiT (269, 284)\n",
            "\tPredicted=(0, 0),\n",
            "\tExpected=[[0, 0]]\n",
            "[youtube] Extracting URL: GaTz9XZ6rHU\n",
            "[youtube] GaTz9XZ6rHU: Downloading webpage\n",
            "[youtube] GaTz9XZ6rHU: Downloading android player API JSON\n",
            "[youtube] Extracting URL: r4l4EM3GPSk\n",
            "[youtube] r4l4EM3GPSk: Downloading webpage\n",
            "[youtube] r4l4EM3GPSk: Downloading android player API JSON\n",
            "[youtube] r4l4EM3GPSk: Downloading MPD manifest\n",
            "[youtube] Extracting URL: ZKwX_3ISblQ\n",
            "[youtube] ZKwX_3ISblQ: Downloading webpage\n",
            "[youtube] ZKwX_3ISblQ: Downloading android player API JSON\n",
            "[youtube] Extracting URL: ZfwGNPsyTzo\n",
            "[youtube] ZfwGNPsyTzo: Downloading webpage\n",
            "[youtube] ZfwGNPsyTzo: Downloading android player API JSON\n"
          ]
        },
        {
          "output_type": "stream",
          "name": "stderr",
          "text": [
            "ERROR: [youtube] ZfwGNPsyTzo: Video unavailable\n"
          ]
        },
        {
          "output_type": "stream",
          "name": "stdout",
          "text": [
            "[youtube] Extracting URL: Gz5whwc_Jr4\n",
            "[youtube] Gz5whwc_Jr4: Downloading webpage\n",
            "[youtube] Gz5whwc_Jr4: Downloading android player API JSON\n"
          ]
        },
        {
          "output_type": "stream",
          "name": "stderr",
          "text": [
            "ERROR: [youtube] Gz5whwc_Jr4: This video has been removed for violating YouTube's Terms of Service\n"
          ]
        },
        {
          "output_type": "stream",
          "name": "stdout",
          "text": [
            "[youtube] Extracting URL: CSlgkeaTTVo\n",
            "[youtube] CSlgkeaTTVo: Downloading webpage\n",
            "[youtube] CSlgkeaTTVo: Downloading android player API JSON\n",
            "[youtube] Extracting URL: JMEMKH6trf4\n",
            "[youtube] JMEMKH6trf4: Downloading webpage\n",
            "[youtube] JMEMKH6trf4: Downloading android player API JSON\n",
            "[youtube] Extracting URL: 0fUOdMtPIrA\n",
            "[youtube] 0fUOdMtPIrA: Downloading webpage\n",
            "[youtube] 0fUOdMtPIrA: Downloading android player API JSON\n",
            "0fUOdMtPIrA []\n",
            "[youtube] Extracting URL: https://www.youtube.com/watch?v=0fUOdMtPIrA\n",
            "[youtube] 0fUOdMtPIrA: Downloading webpage\n",
            "[youtube] 0fUOdMtPIrA: Downloading android player API JSON\n",
            "[info] 0fUOdMtPIrA: Downloading 1 format(s): 313+251\n",
            "[info] There's no subtitles for the requested languages\n",
            "[youtube] Extracting URL: https://www.youtube.com/watch?v=0fUOdMtPIrA\n",
            "[youtube] 0fUOdMtPIrA: Downloading webpage\n",
            "[youtube] 0fUOdMtPIrA: Downloading android player API JSON\n",
            "[info] 0fUOdMtPIrA: Downloading subtitles: en\n",
            "[info] 0fUOdMtPIrA: Downloading 1 format(s): 313+251\n",
            "[info] Writing video subtitles to: /content/TestFolder1/0fUOdMtPIrA.en.vtt\n",
            "[download] Destination: /content/TestFolder1/0fUOdMtPIrA.en.vtt\n",
            "[download] 100% of   83.85KiB in 00:00:00 at 922.23KiB/s\n",
            "Processing captions...\n",
            "100.00% elapsed: 0:00:00, remaining: 0:00:00"
          ]
        },
        {
          "output_type": "stream",
          "name": "stderr",
          "text": [
            "Opening /content/TestFolder2/data.1.json.gz for reading...\n",
            "Closed /content/TestFolder2/data.1.json.gz.\n",
            "\n",
            "  0%|          | 0/1 [00:00<?, ?it/s]\u001b[A"
          ]
        },
        {
          "output_type": "stream",
          "name": "stdout",
          "text": [
            "Input Video ID: 0fUOdMtPIrA\n"
          ]
        },
        {
          "output_type": "stream",
          "name": "stderr",
          "text": [
            "\n",
            "100%|██████████| 1/1 [00:01<00:00,  1.03s/it]"
          ]
        },
        {
          "output_type": "stream",
          "name": "stdout",
          "text": [
            "p1 [(135, 144), (227, 231), (237, 241)]\n",
            "p2 [(135, 144), (227, 231), (237, 241)]\n"
          ]
        },
        {
          "output_type": "stream",
          "name": "stderr",
          "text": [
            "\n"
          ]
        },
        {
          "output_type": "stream",
          "name": "stdout",
          "text": [
            "1/1 [==============================] - 0s 38ms/step\n",
            "ALL Available\n",
            "NLP: (135, 144)\n",
            "LSTM: (0, 0)\n",
            "DeiT (81, 98)\n",
            "\tPredicted=(0, 0),\n",
            "\tExpected=[[0, 0]]\n",
            "[youtube] Extracting URL: UkVSJXwV21U\n",
            "[youtube] UkVSJXwV21U: Downloading webpage\n",
            "[youtube] UkVSJXwV21U: Downloading android player API JSON\n",
            "UkVSJXwV21U []\n",
            "[youtube] Extracting URL: https://www.youtube.com/watch?v=UkVSJXwV21U\n",
            "[youtube] UkVSJXwV21U: Downloading webpage\n",
            "[youtube] UkVSJXwV21U: Downloading android player API JSON\n",
            "[info] UkVSJXwV21U: Downloading 1 format(s): 248+251\n",
            "[info] There's no subtitles for the requested languages\n",
            "[youtube] Extracting URL: https://www.youtube.com/watch?v=UkVSJXwV21U\n",
            "[youtube] UkVSJXwV21U: Downloading webpage\n",
            "[youtube] UkVSJXwV21U: Downloading android player API JSON\n",
            "[info] UkVSJXwV21U: Downloading subtitles: en\n",
            "[info] UkVSJXwV21U: Downloading 1 format(s): 248+251\n",
            "[info] Writing video subtitles to: /content/TestFolder1/UkVSJXwV21U.en.vtt\n",
            "[download] Destination: /content/TestFolder1/UkVSJXwV21U.en.vtt\n",
            "[download] 100% of   52.80KiB in 00:00:00 at 854.86KiB/s\n",
            "Processing captions...\n",
            "100.00% elapsed: 0:00:00, remaining: 0:00:00"
          ]
        },
        {
          "output_type": "stream",
          "name": "stderr",
          "text": [
            "Opening /content/TestFolder2/data.1.json.gz for reading...\n",
            "Closed /content/TestFolder2/data.1.json.gz.\n",
            "\n",
            "  0%|          | 0/1 [00:00<?, ?it/s]\u001b[A"
          ]
        },
        {
          "output_type": "stream",
          "name": "stdout",
          "text": [
            "Input Video ID: UkVSJXwV21U\n"
          ]
        },
        {
          "output_type": "stream",
          "name": "stderr",
          "text": [
            "\n",
            "100%|██████████| 1/1 [00:00<00:00,  1.28it/s]"
          ]
        },
        {
          "output_type": "stream",
          "name": "stdout",
          "text": [
            "p1 [(39, 41), (166, 169)]\n",
            "p2 [(39, 41), (166, 169)]\n"
          ]
        },
        {
          "output_type": "stream",
          "name": "stderr",
          "text": [
            "\n"
          ]
        },
        {
          "output_type": "stream",
          "name": "stdout",
          "text": [
            "NLP & CNN Available\n",
            "NLP: (166, 169)\n",
            "LSTM: None\n",
            "DeiT (0, 0)\n",
            "\tPredicted=(116, 118),\n",
            "\tExpected=[[0, 0]]\n",
            "[youtube] Extracting URL: XV9itZJyWsI\n",
            "[youtube] XV9itZJyWsI: Downloading webpage\n",
            "[youtube] XV9itZJyWsI: Downloading android player API JSON\n",
            "[youtube] Extracting URL: jxmjkUG-cXI\n",
            "[youtube] jxmjkUG-cXI: Downloading webpage\n",
            "[youtube] jxmjkUG-cXI: Downloading android player API JSON\n",
            "jxmjkUG-cXI []\n",
            "[youtube] Extracting URL: https://www.youtube.com/watch?v=jxmjkUG-cXI\n",
            "[youtube] jxmjkUG-cXI: Downloading webpage\n",
            "[youtube] jxmjkUG-cXI: Downloading android player API JSON\n",
            "[info] jxmjkUG-cXI: Downloading 1 format(s): 248+251\n",
            "[info] There's no subtitles for the requested languages\n",
            "[youtube] Extracting URL: https://www.youtube.com/watch?v=jxmjkUG-cXI\n",
            "[youtube] jxmjkUG-cXI: Downloading webpage\n",
            "[youtube] jxmjkUG-cXI: Downloading android player API JSON\n",
            "[info] jxmjkUG-cXI: Downloading subtitles: en\n",
            "[info] jxmjkUG-cXI: Downloading 1 format(s): 248+251\n",
            "[info] Writing video subtitles to: /content/TestFolder1/jxmjkUG-cXI.en.vtt\n",
            "[download] Destination: /content/TestFolder1/jxmjkUG-cXI.en.vtt\n",
            "[download] 100% of   20.39KiB in 00:00:00 at 101.38KiB/s\n",
            "Processing captions...\n",
            "100.00% elapsed: 0:00:00, remaining: 0:00:00"
          ]
        },
        {
          "output_type": "stream",
          "name": "stderr",
          "text": [
            "Opening /content/TestFolder2/data.1.json.gz for reading...\n",
            "Closed /content/TestFolder2/data.1.json.gz.\n",
            "\n",
            "  0%|          | 0/1 [00:00<?, ?it/s]\u001b[A"
          ]
        },
        {
          "output_type": "stream",
          "name": "stdout",
          "text": [
            "Input Video ID: jxmjkUG-cXI\n"
          ]
        },
        {
          "output_type": "stream",
          "name": "stderr",
          "text": [
            "\n",
            "100%|██████████| 1/1 [00:00<00:00,  3.31it/s]"
          ]
        },
        {
          "output_type": "stream",
          "name": "stdout",
          "text": [
            "p1 [(0, 2)]\n",
            "p2 [(0, 2)]\n"
          ]
        },
        {
          "output_type": "stream",
          "name": "stderr",
          "text": [
            "\n"
          ]
        },
        {
          "output_type": "stream",
          "name": "stdout",
          "text": [
            "NLP & CNN Available\n",
            "NLP: (0, 2)\n",
            "LSTM: None\n",
            "DeiT (99, 119)\n",
            "\tPredicted=(29, 37),\n",
            "\tExpected=[[0, 0]]\n",
            "[youtube] Extracting URL: 1QQPyvPCdEM\n",
            "[youtube] 1QQPyvPCdEM: Downloading webpage\n",
            "[youtube] 1QQPyvPCdEM: Downloading android player API JSON\n",
            "1QQPyvPCdEM []\n",
            "[youtube] Extracting URL: https://www.youtube.com/watch?v=1QQPyvPCdEM\n",
            "[youtube] 1QQPyvPCdEM: Downloading webpage\n",
            "[youtube] 1QQPyvPCdEM: Downloading android player API JSON\n",
            "[info] 1QQPyvPCdEM: Downloading 1 format(s): 248+251\n",
            "[info] There's no subtitles for the requested languages\n",
            "[youtube] Extracting URL: https://www.youtube.com/watch?v=1QQPyvPCdEM\n",
            "[youtube] 1QQPyvPCdEM: Downloading webpage\n",
            "[youtube] 1QQPyvPCdEM: Downloading android player API JSON\n",
            "[info] 1QQPyvPCdEM: Downloading subtitles: en\n",
            "[info] 1QQPyvPCdEM: Downloading 1 format(s): 248+251\n",
            "[info] Writing video subtitles to: /content/TestFolder1/1QQPyvPCdEM.en.vtt\n",
            "[download] Destination: /content/TestFolder1/1QQPyvPCdEM.en.vtt\n",
            "[download] 100% of   86.90KiB in 00:00:00 at 1.50MiB/s\n",
            "Processing captions...\n",
            "100.00% elapsed: 0:00:00, remaining: 0:00:00"
          ]
        },
        {
          "output_type": "stream",
          "name": "stderr",
          "text": [
            "Opening /content/TestFolder2/data.1.json.gz for reading...\n",
            "Closed /content/TestFolder2/data.1.json.gz.\n",
            "\n",
            "  0%|          | 0/1 [00:00<?, ?it/s]\u001b[A"
          ]
        },
        {
          "output_type": "stream",
          "name": "stdout",
          "text": [
            "Input Video ID: 1QQPyvPCdEM\n"
          ]
        },
        {
          "output_type": "stream",
          "name": "stderr",
          "text": [
            "\n",
            "100%|██████████| 1/1 [00:01<00:00,  1.04s/it]"
          ]
        },
        {
          "output_type": "stream",
          "name": "stdout",
          "text": [
            "p1 [(4, 14), (21, 25), (36, 40), (62, 65), (135, 139), (232, 236)]\n",
            "p2 [(4, 14), (21, 25), (36, 40), (62, 65), (135, 139), (232, 236)]\n"
          ]
        },
        {
          "output_type": "stream",
          "name": "stderr",
          "text": [
            "\n"
          ]
        },
        {
          "output_type": "stream",
          "name": "stdout",
          "text": [
            "NLP & CNN Available\n",
            "NLP: (4, 14)\n",
            "LSTM: None\n",
            "DeiT (276, 292)\n",
            "\tPredicted=(85, 97),\n",
            "\tExpected=[[0, 0]]\n",
            "[youtube] Extracting URL: oFeyxzVRZ7k\n",
            "[youtube] oFeyxzVRZ7k: Downloading webpage\n",
            "[youtube] oFeyxzVRZ7k: Downloading android player API JSON\n",
            "oFeyxzVRZ7k []\n",
            "[youtube] Extracting URL: https://www.youtube.com/watch?v=oFeyxzVRZ7k\n",
            "[youtube] oFeyxzVRZ7k: Downloading webpage\n",
            "[youtube] oFeyxzVRZ7k: Downloading android player API JSON\n",
            "[info] oFeyxzVRZ7k: Downloading subtitles: en-US\n",
            "[info] oFeyxzVRZ7k: Downloading 1 format(s): 248+251\n",
            "[info] Writing video subtitles to: /content/TestFolder1/oFeyxzVRZ7k.en-US.vtt\n",
            "[download] Destination: /content/TestFolder1/oFeyxzVRZ7k.en-US.vtt\n",
            "[download] 100% of   14.46KiB in 00:00:00 at 244.18KiB/s\n",
            "Processing captions...\n",
            "100.00% elapsed: 0:00:00, remaining: 0:00:00"
          ]
        },
        {
          "output_type": "stream",
          "name": "stderr",
          "text": [
            "Opening /content/TestFolder2/data.1.json.gz for reading...\n",
            "Closed /content/TestFolder2/data.1.json.gz.\n",
            "\n",
            "  0%|          | 0/1 [00:00<?, ?it/s]\u001b[A"
          ]
        },
        {
          "output_type": "stream",
          "name": "stdout",
          "text": [
            "Input Video ID: oFeyxzVRZ7k\n"
          ]
        },
        {
          "output_type": "stream",
          "name": "stderr",
          "text": [
            "\n",
            "100%|██████████| 1/1 [00:00<00:00,  1.24it/s]"
          ]
        },
        {
          "output_type": "stream",
          "name": "stdout",
          "text": [
            "p1 [(None, None)]\n",
            "p2 [(None, None)]\n"
          ]
        },
        {
          "output_type": "stream",
          "name": "stderr",
          "text": [
            "\n"
          ]
        },
        {
          "output_type": "stream",
          "name": "stdout",
          "text": [
            "1/1 [==============================] - 0s 29ms/step\n",
            "ALL Available\n",
            "NLP: (None, None)\n",
            "LSTM: (25, 85)\n",
            "DeiT (0, 0)\n",
            "\tPredicted=(0, 0),\n",
            "\tExpected=[[0, 0]]\n",
            "[youtube] Extracting URL: sOsyUOZTpfw\n",
            "[youtube] sOsyUOZTpfw: Downloading webpage\n",
            "[youtube] sOsyUOZTpfw: Downloading android player API JSON\n",
            "[youtube] sOsyUOZTpfw: Downloading MPD manifest\n",
            "[youtube] Extracting URL: lhpiA6cZVIU\n",
            "[youtube] lhpiA6cZVIU: Downloading webpage\n",
            "[youtube] lhpiA6cZVIU: Downloading android player API JSON\n",
            "lhpiA6cZVIU []\n",
            "[youtube] Extracting URL: https://www.youtube.com/watch?v=lhpiA6cZVIU\n",
            "[youtube] lhpiA6cZVIU: Downloading webpage\n",
            "[youtube] lhpiA6cZVIU: Downloading android player API JSON\n",
            "[info] lhpiA6cZVIU: Downloading 1 format(s): 303+251\n",
            "[info] There's no subtitles for the requested languages\n",
            "[youtube] Extracting URL: https://www.youtube.com/watch?v=lhpiA6cZVIU\n",
            "[youtube] lhpiA6cZVIU: Downloading webpage\n",
            "[youtube] lhpiA6cZVIU: Downloading android player API JSON\n",
            "[info] lhpiA6cZVIU: Downloading subtitles: en\n",
            "[info] lhpiA6cZVIU: Downloading 1 format(s): 303+251\n",
            "[info] Writing video subtitles to: /content/TestFolder1/lhpiA6cZVIU.en.vtt\n",
            "[download] Destination: /content/TestFolder1/lhpiA6cZVIU.en.vtt\n",
            "[download] 100% of    3.28KiB in 00:00:00 at 17.22KiB/s\n",
            "Processing captions...\n",
            "100.00% elapsed: 0:00:00, remaining: 0:00:00"
          ]
        },
        {
          "output_type": "stream",
          "name": "stderr",
          "text": [
            "Opening /content/TestFolder2/data.1.json.gz for reading...\n",
            "Closed /content/TestFolder2/data.1.json.gz.\n",
            "\n",
            "  0%|          | 0/1 [00:00<?, ?it/s]\u001b[A"
          ]
        },
        {
          "output_type": "stream",
          "name": "stdout",
          "text": [
            "Input Video ID: lhpiA6cZVIU\n"
          ]
        },
        {
          "output_type": "stream",
          "name": "stderr",
          "text": [
            "\r100%|██████████| 1/1 [00:00<00:00, 13.33it/s]"
          ]
        },
        {
          "output_type": "stream",
          "name": "stdout",
          "text": [
            "p1 []\n",
            "p2 []\n"
          ]
        },
        {
          "output_type": "stream",
          "name": "stderr",
          "text": [
            "\n"
          ]
        },
        {
          "output_type": "stream",
          "name": "stdout",
          "text": [
            "NLP & CNN Available\n",
            "NLP: (0, 0)\n",
            "LSTM: None\n",
            "DeiT (0, 0)\n",
            "\tPredicted=(0, 0),\n",
            "\tExpected=[[0, 0]]\n",
            "[youtube] Extracting URL: qprZr64xtaU\n",
            "[youtube] qprZr64xtaU: Downloading webpage\n",
            "[youtube] qprZr64xtaU: Downloading android player API JSON\n",
            "[youtube] Extracting URL: Dr1_Ns1fPXk\n",
            "[youtube] Dr1_Ns1fPXk: Downloading webpage\n",
            "[youtube] Dr1_Ns1fPXk: Downloading android player API JSON\n",
            "[youtube] Extracting URL: EHAbLm9J5G8\n",
            "[youtube] EHAbLm9J5G8: Downloading webpage\n",
            "[youtube] EHAbLm9J5G8: Downloading android player API JSON\n",
            "EHAbLm9J5G8 []\n",
            "[youtube] Extracting URL: https://www.youtube.com/watch?v=EHAbLm9J5G8\n",
            "[youtube] EHAbLm9J5G8: Downloading webpage\n",
            "[youtube] EHAbLm9J5G8: Downloading android player API JSON\n",
            "[info] EHAbLm9J5G8: Downloading 1 format(s): 303+251\n",
            "[info] There's no subtitles for the requested languages\n",
            "[youtube] Extracting URL: https://www.youtube.com/watch?v=EHAbLm9J5G8\n",
            "[youtube] EHAbLm9J5G8: Downloading webpage\n",
            "[youtube] EHAbLm9J5G8: Downloading android player API JSON\n",
            "[info] EHAbLm9J5G8: Downloading subtitles: en\n",
            "[info] EHAbLm9J5G8: Downloading 1 format(s): 303+251\n",
            "[info] Writing video subtitles to: /content/TestFolder1/EHAbLm9J5G8.en.vtt\n",
            "[download] Destination: /content/TestFolder1/EHAbLm9J5G8.en.vtt\n",
            "[download] 100% of   99.15KiB in 00:00:00 at 2.45MiB/s\n",
            "Processing captions...\n",
            "100.00% elapsed: 0:00:00, remaining: 0:00:00"
          ]
        },
        {
          "output_type": "stream",
          "name": "stderr",
          "text": [
            "Opening /content/TestFolder2/data.1.json.gz for reading...\n",
            "Closed /content/TestFolder2/data.1.json.gz.\n",
            "\n",
            "  0%|          | 0/1 [00:00<?, ?it/s]\u001b[A"
          ]
        },
        {
          "output_type": "stream",
          "name": "stdout",
          "text": [
            "Input Video ID: EHAbLm9J5G8\n"
          ]
        },
        {
          "output_type": "stream",
          "name": "stderr",
          "text": [
            "\n",
            "100%|██████████| 1/1 [00:01<00:00,  1.11s/it]"
          ]
        },
        {
          "output_type": "stream",
          "name": "stdout",
          "text": [
            "p1 [(36, 41), (47, 52), (58, 63), (275, 280)]\n",
            "p2 [(36, 41), (47, 52), (58, 63), (275, 280)]\n"
          ]
        },
        {
          "output_type": "stream",
          "name": "stderr",
          "text": [
            "\n"
          ]
        },
        {
          "output_type": "stream",
          "name": "stdout",
          "text": [
            "1/1 [==============================] - 0s 26ms/step\n",
            "ALL Available\n",
            "NLP: (275, 280)\n",
            "LSTM: (0, 0)\n",
            "DeiT (0, 0)\n",
            "\tPredicted=(0, 0),\n",
            "\tExpected=[[0, 0]]\n",
            "[youtube] Extracting URL: RlDz_K2YGic\n",
            "[youtube] RlDz_K2YGic: Downloading webpage\n",
            "[youtube] RlDz_K2YGic: Downloading android player API JSON\n",
            "[youtube] Extracting URL: y9_xnsAvFho\n",
            "[youtube] y9_xnsAvFho: Downloading webpage\n",
            "[youtube] y9_xnsAvFho: Downloading android player API JSON\n",
            "[youtube] Extracting URL: 0fKKp8lTT7A\n",
            "[youtube] 0fKKp8lTT7A: Downloading webpage\n",
            "[youtube] 0fKKp8lTT7A: Downloading android player API JSON\n",
            "0fKKp8lTT7A []\n",
            "[youtube] Extracting URL: https://www.youtube.com/watch?v=0fKKp8lTT7A\n",
            "[youtube] 0fKKp8lTT7A: Downloading webpage\n",
            "[youtube] 0fKKp8lTT7A: Downloading android player API JSON\n",
            "[info] 0fKKp8lTT7A: Downloading 1 format(s): 303+251\n",
            "[info] There's no subtitles for the requested languages\n",
            "[youtube] Extracting URL: https://www.youtube.com/watch?v=0fKKp8lTT7A\n",
            "[youtube] 0fKKp8lTT7A: Downloading webpage\n",
            "[youtube] 0fKKp8lTT7A: Downloading android player API JSON\n",
            "[info] 0fKKp8lTT7A: Downloading subtitles: en\n",
            "[info] 0fKKp8lTT7A: Downloading 1 format(s): 303+251\n",
            "[info] Writing video subtitles to: /content/TestFolder1/0fKKp8lTT7A.en.vtt\n",
            "[download] Destination: /content/TestFolder1/0fKKp8lTT7A.en.vtt\n",
            "[download] 100% of   77.83KiB in 00:00:00 at 853.67KiB/s\n",
            "Processing captions...\n",
            "100.00% elapsed: 0:00:00, remaining: 0:00:00"
          ]
        },
        {
          "output_type": "stream",
          "name": "stderr",
          "text": [
            "Opening /content/TestFolder2/data.1.json.gz for reading...\n",
            "Closed /content/TestFolder2/data.1.json.gz.\n",
            "\n",
            "  0%|          | 0/1 [00:00<?, ?it/s]\u001b[A"
          ]
        },
        {
          "output_type": "stream",
          "name": "stdout",
          "text": [
            "Input Video ID: 0fKKp8lTT7A\n"
          ]
        },
        {
          "output_type": "stream",
          "name": "stderr",
          "text": [
            "\n",
            "100%|██████████| 1/1 [00:00<00:00,  1.22it/s]"
          ]
        },
        {
          "output_type": "stream",
          "name": "stdout",
          "text": [
            "p1 [(10, 14), (20, 25), (59, 62), (183, 187)]\n",
            "p2 [(10, 14), (20, 25), (59, 62), (183, 187)]\n"
          ]
        },
        {
          "output_type": "stream",
          "name": "stderr",
          "text": [
            "\n"
          ]
        },
        {
          "output_type": "stream",
          "name": "stdout",
          "text": [
            "NLP & CNN Available\n",
            "NLP: (20, 25)\n",
            "LSTM: None\n",
            "DeiT (268, 284)\n",
            "\tPredicted=(94, 102),\n",
            "\tExpected=[[0, 0]]\n",
            "[youtube] Extracting URL: FBH70lxVQWQ\n",
            "[youtube] FBH70lxVQWQ: Downloading webpage\n",
            "[youtube] FBH70lxVQWQ: Downloading android player API JSON\n",
            "[youtube] Extracting URL: SHoWW09qsAs\n",
            "[youtube] SHoWW09qsAs: Downloading webpage\n",
            "[youtube] SHoWW09qsAs: Downloading android player API JSON\n"
          ]
        },
        {
          "output_type": "stream",
          "name": "stderr",
          "text": [
            "ERROR: [youtube] SHoWW09qsAs: Video unavailable. This video is no longer available because the YouTube account associated with this video has been terminated.\n"
          ]
        },
        {
          "output_type": "stream",
          "name": "stdout",
          "text": [
            "[youtube] Extracting URL: UIl3Q85MnQ0\n",
            "[youtube] UIl3Q85MnQ0: Downloading webpage\n",
            "[youtube] UIl3Q85MnQ0: Downloading android player API JSON\n",
            "UIl3Q85MnQ0 []\n",
            "[youtube] Extracting URL: https://www.youtube.com/watch?v=UIl3Q85MnQ0\n",
            "[youtube] UIl3Q85MnQ0: Downloading webpage\n",
            "[youtube] UIl3Q85MnQ0: Downloading android player API JSON\n",
            "[info] UIl3Q85MnQ0: Downloading 1 format(s): 303+251\n",
            "[info] There's no subtitles for the requested languages\n",
            "[youtube] Extracting URL: https://www.youtube.com/watch?v=UIl3Q85MnQ0\n",
            "[youtube] UIl3Q85MnQ0: Downloading webpage\n",
            "[youtube] UIl3Q85MnQ0: Downloading android player API JSON\n",
            "[info] UIl3Q85MnQ0: Downloading subtitles: en\n",
            "[info] UIl3Q85MnQ0: Downloading 1 format(s): 303+251\n",
            "[info] Writing video subtitles to: /content/TestFolder1/UIl3Q85MnQ0.en.vtt\n",
            "[download] Destination: /content/TestFolder1/UIl3Q85MnQ0.en.vtt\n",
            "[download] 100% of  128.92KiB in 00:00:00 at 1.39MiB/s\n",
            "Processing captions...\n",
            "100.00% elapsed: 0:00:00, remaining: 0:00:00"
          ]
        },
        {
          "output_type": "stream",
          "name": "stderr",
          "text": [
            "Opening /content/TestFolder2/data.1.json.gz for reading...\n",
            "Closed /content/TestFolder2/data.1.json.gz.\n",
            "\n",
            "  0%|          | 0/1 [00:00<?, ?it/s]\u001b[A"
          ]
        },
        {
          "output_type": "stream",
          "name": "stdout",
          "text": [
            "Input Video ID: UIl3Q85MnQ0\n"
          ]
        },
        {
          "output_type": "stream",
          "name": "stderr",
          "text": [
            "\n",
            "100%|██████████| 1/1 [00:01<00:00,  1.20s/it]"
          ]
        },
        {
          "output_type": "stream",
          "name": "stdout",
          "text": [
            "p1 [(12, 17), (30, 47), (231, 236), (358, 363)]\n",
            "p2 [(12, 17), (30, 47), (231, 236), (358, 363)]\n"
          ]
        },
        {
          "output_type": "stream",
          "name": "stderr",
          "text": [
            "\n"
          ]
        },
        {
          "output_type": "stream",
          "name": "stdout",
          "text": [
            "1/1 [==============================] - 0s 32ms/step\n",
            "ALL Available\n",
            "NLP: (30, 47)\n",
            "LSTM: (0, 0)\n",
            "DeiT (66, 80)\n",
            "\tPredicted=(0, 0),\n",
            "\tExpected=[[0, 0]]\n",
            "IOU: 0.679044339498885\n",
            "Confusion matrix [[54911   352]\n",
            " [  444    63]]\n",
            "Accuracy 0.9857270934194011\n",
            "Precision 0.15180722891566265\n",
            "Recall 0.1242603550295858\n",
            "[youtube] Extracting URL: nGF95wZV4_A\n",
            "[youtube] nGF95wZV4_A: Downloading webpage\n",
            "[youtube] nGF95wZV4_A: Downloading android player API JSON\n",
            "nGF95wZV4_A []\n",
            "[youtube] Extracting URL: https://www.youtube.com/watch?v=nGF95wZV4_A\n",
            "[youtube] nGF95wZV4_A: Downloading webpage\n",
            "[youtube] nGF95wZV4_A: Downloading android player API JSON\n",
            "[info] nGF95wZV4_A: Downloading 1 format(s): 248+251\n",
            "[info] There's no subtitles for the requested languages\n",
            "[youtube] Extracting URL: https://www.youtube.com/watch?v=nGF95wZV4_A\n",
            "[youtube] nGF95wZV4_A: Downloading webpage\n",
            "[youtube] nGF95wZV4_A: Downloading android player API JSON\n",
            "[info] nGF95wZV4_A: Downloading subtitles: en\n",
            "[info] nGF95wZV4_A: Downloading 1 format(s): 248+251\n",
            "[info] Writing video subtitles to: /content/TestFolder1/nGF95wZV4_A.en.vtt\n",
            "[download] Destination: /content/TestFolder1/nGF95wZV4_A.en.vtt\n",
            "[download] 100% of   34.95KiB in 00:00:00 at 186.47KiB/s\n",
            "Processing captions...\n",
            "100.00% elapsed: 0:00:00, remaining: 0:00:00"
          ]
        },
        {
          "output_type": "stream",
          "name": "stderr",
          "text": [
            "Opening /content/TestFolder2/data.1.json.gz for reading...\n",
            "Closed /content/TestFolder2/data.1.json.gz.\n",
            "\n",
            "  0%|          | 0/1 [00:00<?, ?it/s]\u001b[A"
          ]
        },
        {
          "output_type": "stream",
          "name": "stdout",
          "text": [
            "Input Video ID: nGF95wZV4_A\n"
          ]
        },
        {
          "output_type": "stream",
          "name": "stderr",
          "text": [
            "\n",
            "100%|██████████| 1/1 [00:00<00:00,  1.73it/s]"
          ]
        },
        {
          "output_type": "stream",
          "name": "stdout",
          "text": [
            "p1 [(None, None)]\n",
            "p2 [(None, None)]\n"
          ]
        },
        {
          "output_type": "stream",
          "name": "stderr",
          "text": [
            "\n"
          ]
        },
        {
          "output_type": "stream",
          "name": "stdout",
          "text": [
            "1/1 [==============================] - 0s 27ms/step\n",
            "ALL Available\n",
            "NLP: (None, None)\n",
            "LSTM: (0, 20)\n",
            "DeiT (20, 34)\n",
            "\tPredicted=(0, 0),\n",
            "\tExpected=[[0, 0]]\n",
            "[youtube] Extracting URL: LhZ-5y8eTZk\n",
            "[youtube] LhZ-5y8eTZk: Downloading webpage\n",
            "[youtube] LhZ-5y8eTZk: Downloading android player API JSON\n",
            "LhZ-5y8eTZk []\n",
            "[youtube] Extracting URL: https://www.youtube.com/watch?v=LhZ-5y8eTZk\n",
            "[youtube] LhZ-5y8eTZk: Downloading webpage\n",
            "[youtube] LhZ-5y8eTZk: Downloading android player API JSON\n",
            "[info] LhZ-5y8eTZk: Downloading 1 format(s): 248+251\n",
            "[info] There's no subtitles for the requested languages\n",
            "[youtube] Extracting URL: https://www.youtube.com/watch?v=LhZ-5y8eTZk\n",
            "[youtube] LhZ-5y8eTZk: Downloading webpage\n",
            "[youtube] LhZ-5y8eTZk: Downloading android player API JSON\n",
            "[info] LhZ-5y8eTZk: Downloading subtitles: en\n",
            "[info] LhZ-5y8eTZk: Downloading 1 format(s): 248+251\n",
            "[info] Writing video subtitles to: /content/TestFolder1/LhZ-5y8eTZk.en.vtt\n",
            "[download] Destination: /content/TestFolder1/LhZ-5y8eTZk.en.vtt\n",
            "[download] 100% of   79.13KiB in 00:00:00 at 1.06MiB/s\n",
            "Processing captions...\n",
            "100.00% elapsed: 0:00:00, remaining: 0:00:00"
          ]
        },
        {
          "output_type": "stream",
          "name": "stderr",
          "text": [
            "Opening /content/TestFolder2/data.1.json.gz for reading...\n",
            "Closed /content/TestFolder2/data.1.json.gz.\n",
            "\n",
            "  0%|          | 0/1 [00:00<?, ?it/s]\u001b[A"
          ]
        },
        {
          "output_type": "stream",
          "name": "stdout",
          "text": [
            "Input Video ID: LhZ-5y8eTZk\n"
          ]
        },
        {
          "output_type": "stream",
          "name": "stderr",
          "text": [
            "\n",
            "100%|██████████| 1/1 [00:00<00:00,  1.32it/s]"
          ]
        },
        {
          "output_type": "stream",
          "name": "stdout",
          "text": [
            "p1 []\n",
            "p2 []\n"
          ]
        },
        {
          "output_type": "stream",
          "name": "stderr",
          "text": [
            "\n"
          ]
        },
        {
          "output_type": "stream",
          "name": "stdout",
          "text": [
            "1/1 [==============================] - 0s 35ms/step\n",
            "ALL Available\n",
            "NLP: (0, 0)\n",
            "LSTM: (0, 18)\n",
            "DeiT (398, 415)\n",
            "\tPredicted=(0, 0),\n",
            "\tExpected=[[0, 0]]\n",
            "[youtube] Extracting URL: 4MbTxqVkB4Q\n",
            "[youtube] 4MbTxqVkB4Q: Downloading webpage\n",
            "[youtube] 4MbTxqVkB4Q: Downloading android player API JSON\n",
            "4MbTxqVkB4Q []\n",
            "[youtube] Extracting URL: https://www.youtube.com/watch?v=4MbTxqVkB4Q\n",
            "[youtube] 4MbTxqVkB4Q: Downloading webpage\n",
            "[youtube] 4MbTxqVkB4Q: Downloading android player API JSON\n",
            "[info] 4MbTxqVkB4Q: Downloading 1 format(s): 248+251\n",
            "[info] There's no subtitles for the requested languages\n",
            "[youtube] Extracting URL: https://www.youtube.com/watch?v=4MbTxqVkB4Q\n",
            "[youtube] 4MbTxqVkB4Q: Downloading webpage\n",
            "[youtube] 4MbTxqVkB4Q: Downloading android player API JSON\n",
            "[info] 4MbTxqVkB4Q: Downloading subtitles: en\n",
            "[info] 4MbTxqVkB4Q: Downloading 1 format(s): 248+251\n",
            "[info] Writing video subtitles to: /content/TestFolder1/4MbTxqVkB4Q.en.vtt\n",
            "[download] Destination: /content/TestFolder1/4MbTxqVkB4Q.en.vtt\n",
            "[download] 100% of   31.85KiB in 00:00:00 at 717.94KiB/s\n",
            "Processing captions...\n",
            "100.00% elapsed: 0:00:00, remaining: 0:00:00"
          ]
        },
        {
          "output_type": "stream",
          "name": "stderr",
          "text": [
            "Opening /content/TestFolder2/data.1.json.gz for reading...\n",
            "Closed /content/TestFolder2/data.1.json.gz.\n",
            "\n",
            "  0%|          | 0/1 [00:00<?, ?it/s]\u001b[A"
          ]
        },
        {
          "output_type": "stream",
          "name": "stdout",
          "text": [
            "Input Video ID: 4MbTxqVkB4Q\n"
          ]
        },
        {
          "output_type": "stream",
          "name": "stderr",
          "text": [
            "\n",
            "100%|██████████| 1/1 [00:00<00:00,  2.34it/s]"
          ]
        },
        {
          "output_type": "stream",
          "name": "stdout",
          "text": [
            "p1 [(0, 3), (30, 34)]\n",
            "p2 [(0, 3), (30, 34)]\n"
          ]
        },
        {
          "output_type": "stream",
          "name": "stderr",
          "text": [
            "\n"
          ]
        },
        {
          "output_type": "stream",
          "name": "stdout",
          "text": [
            "NLP & CNN Available\n",
            "NLP: (30, 34)\n",
            "LSTM: None\n",
            "DeiT (188, 204)\n",
            "\tPredicted=(77, 85),\n",
            "\tExpected=[[0, 0]]\n",
            "[youtube] Extracting URL: ftItsaeeP2M\n",
            "[youtube] ftItsaeeP2M: Downloading webpage\n",
            "[youtube] ftItsaeeP2M: Downloading android player API JSON\n",
            "ftItsaeeP2M []\n",
            "[youtube] Extracting URL: https://www.youtube.com/watch?v=ftItsaeeP2M\n",
            "[youtube] ftItsaeeP2M: Downloading webpage\n",
            "[youtube] ftItsaeeP2M: Downloading android player API JSON\n",
            "[info] ftItsaeeP2M: Downloading 1 format(s): 248+251\n",
            "[info] There's no subtitles for the requested languages\n",
            "[youtube] Extracting URL: https://www.youtube.com/watch?v=ftItsaeeP2M\n",
            "[youtube] ftItsaeeP2M: Downloading webpage\n",
            "[youtube] ftItsaeeP2M: Downloading android player API JSON\n",
            "[info] ftItsaeeP2M: Downloading subtitles: en\n",
            "[info] ftItsaeeP2M: Downloading 1 format(s): 248+251\n",
            "[info] Writing video subtitles to: /content/TestFolder1/ftItsaeeP2M.en.vtt\n",
            "[download] Destination: /content/TestFolder1/ftItsaeeP2M.en.vtt\n",
            "[download] 100% of  109.38KiB in 00:00:00 at 827.25KiB/s\n",
            "Processing captions...\n",
            "100.00% elapsed: 0:00:00, remaining: 0:00:00"
          ]
        },
        {
          "output_type": "stream",
          "name": "stderr",
          "text": [
            "Opening /content/TestFolder2/data.1.json.gz for reading...\n",
            "Closed /content/TestFolder2/data.1.json.gz.\n",
            "\n",
            "  0%|          | 0/1 [00:00<?, ?it/s]\u001b[A"
          ]
        },
        {
          "output_type": "stream",
          "name": "stdout",
          "text": [
            "Input Video ID: ftItsaeeP2M\n"
          ]
        },
        {
          "output_type": "stream",
          "name": "stderr",
          "text": [
            "\n",
            "100%|██████████| 1/1 [00:01<00:00,  1.43s/it]"
          ]
        },
        {
          "output_type": "stream",
          "name": "stdout",
          "text": [
            "p1 [(0, 3), (72, 90), (100, 103), (329, 333)]\n",
            "p2 [(0, 3), (72, 90), (100, 103), (329, 333)]\n"
          ]
        },
        {
          "output_type": "stream",
          "name": "stderr",
          "text": [
            "\n"
          ]
        },
        {
          "output_type": "stream",
          "name": "stdout",
          "text": [
            "1/1 [==============================] - 0s 32ms/step\n",
            "ALL Available\n",
            "NLP: (72, 90)\n",
            "LSTM: (8, 42)\n",
            "DeiT (494, 508)\n",
            "\tPredicted=(0, 0),\n",
            "\tExpected=[[0, 0]]\n",
            "[youtube] Extracting URL: 72eJDd3D6wY\n",
            "[youtube] 72eJDd3D6wY: Downloading webpage\n",
            "[youtube] 72eJDd3D6wY: Downloading android player API JSON\n",
            "[youtube] Extracting URL: YM74wuXbjPY\n",
            "[youtube] YM74wuXbjPY: Downloading webpage\n",
            "[youtube] YM74wuXbjPY: Downloading android player API JSON\n"
          ]
        },
        {
          "output_type": "stream",
          "name": "stderr",
          "text": [
            "ERROR: [youtube] YM74wuXbjPY: Private video. Sign in if you've been granted access to this video\n"
          ]
        },
        {
          "output_type": "stream",
          "name": "stdout",
          "text": [
            "[youtube] Extracting URL: _pDSBfmWm7c\n",
            "[youtube] _pDSBfmWm7c: Downloading webpage\n",
            "[youtube] _pDSBfmWm7c: Downloading android player API JSON\n",
            "_pDSBfmWm7c []\n",
            "[youtube] Extracting URL: https://www.youtube.com/watch?v=_pDSBfmWm7c\n",
            "[youtube] _pDSBfmWm7c: Downloading webpage\n",
            "[youtube] _pDSBfmWm7c: Downloading android player API JSON\n",
            "[info] _pDSBfmWm7c: Downloading 1 format(s): 303+251\n",
            "[info] There's no subtitles for the requested languages\n",
            "[youtube] Extracting URL: https://www.youtube.com/watch?v=_pDSBfmWm7c\n",
            "[youtube] _pDSBfmWm7c: Downloading webpage\n",
            "[youtube] _pDSBfmWm7c: Downloading android player API JSON\n",
            "[info] _pDSBfmWm7c: Downloading subtitles: en\n",
            "[info] _pDSBfmWm7c: Downloading 1 format(s): 303+251\n",
            "[info] Writing video subtitles to: /content/TestFolder1/_pDSBfmWm7c.en.vtt\n",
            "[download] Destination: /content/TestFolder1/_pDSBfmWm7c.en.vtt\n",
            "[download] 100% of   89.19KiB in 00:00:00 at 239.15KiB/s\n",
            "Processing captions...\n",
            "100.00% elapsed: 0:00:00, remaining: 0:00:00"
          ]
        },
        {
          "output_type": "stream",
          "name": "stderr",
          "text": [
            "Opening /content/TestFolder2/data.1.json.gz for reading...\n",
            "Closed /content/TestFolder2/data.1.json.gz.\n",
            "\n",
            "  0%|          | 0/1 [00:00<?, ?it/s]\u001b[A"
          ]
        },
        {
          "output_type": "stream",
          "name": "stdout",
          "text": [
            "Input Video ID: _pDSBfmWm7c\n"
          ]
        },
        {
          "output_type": "stream",
          "name": "stderr",
          "text": [
            "\n",
            "100%|██████████| 1/1 [00:01<00:00,  1.29s/it]"
          ]
        },
        {
          "output_type": "stream",
          "name": "stdout",
          "text": [
            "p1 [(38, 41)]\n",
            "p2 [(38, 41)]\n"
          ]
        },
        {
          "output_type": "stream",
          "name": "stderr",
          "text": [
            "\n"
          ]
        },
        {
          "output_type": "stream",
          "name": "stdout",
          "text": [
            "1/1 [==============================] - 0s 45ms/step\n",
            "ALL Available\n",
            "NLP: (38, 41)\n",
            "LSTM: (0, 0)\n",
            "DeiT (721, 735)\n",
            "\tPredicted=(0, 0),\n",
            "\tExpected=[[0, 0]]\n",
            "[youtube] Extracting URL: gv8y4vw-tJw\n",
            "[youtube] gv8y4vw-tJw: Downloading webpage\n",
            "[youtube] gv8y4vw-tJw: Downloading android player API JSON\n",
            "[youtube] gv8y4vw-tJw: Downloading tv embedded player API JSON\n",
            "[youtube] gv8y4vw-tJw: Downloading web embedded client config\n",
            "[youtube] gv8y4vw-tJw: Downloading player bbe1b497\n",
            "[youtube] gv8y4vw-tJw: Downloading web embedded player API JSON\n",
            "gv8y4vw-tJw []\n",
            "[youtube] Extracting URL: https://www.youtube.com/watch?v=gv8y4vw-tJw\n",
            "[youtube] gv8y4vw-tJw: Downloading webpage\n",
            "[youtube] gv8y4vw-tJw: Downloading android player API JSON\n",
            "[youtube] gv8y4vw-tJw: Downloading tv embedded player API JSON\n",
            "[youtube] gv8y4vw-tJw: Downloading web embedded client config\n",
            "[youtube] gv8y4vw-tJw: Downloading player bbe1b497\n",
            "[youtube] gv8y4vw-tJw: Downloading web embedded player API JSON\n",
            "[info] gv8y4vw-tJw: Downloading 1 format(s): 248+251\n",
            "[info] There's no subtitles for the requested languages\n",
            "[youtube] Extracting URL: https://www.youtube.com/watch?v=gv8y4vw-tJw\n",
            "[youtube] gv8y4vw-tJw: Downloading webpage\n",
            "[youtube] gv8y4vw-tJw: Downloading android player API JSON\n",
            "[youtube] gv8y4vw-tJw: Downloading tv embedded player API JSON\n",
            "[youtube] gv8y4vw-tJw: Downloading web embedded client config\n",
            "[youtube] gv8y4vw-tJw: Downloading player bbe1b497\n",
            "[youtube] gv8y4vw-tJw: Downloading web embedded player API JSON\n",
            "[info] gv8y4vw-tJw: Downloading subtitles: en\n",
            "[info] gv8y4vw-tJw: Downloading 1 format(s): 248+251\n",
            "[info] Writing video subtitles to: /content/TestFolder1/gv8y4vw-tJw.en.vtt\n",
            "[download] Destination: /content/TestFolder1/gv8y4vw-tJw.en.vtt\n",
            "[download] 100% of  121.17KiB in 00:00:00 at 403.09KiB/s\n",
            "Processing captions...\n",
            "100.00% elapsed: 0:00:00, remaining: 0:00:00"
          ]
        },
        {
          "output_type": "stream",
          "name": "stderr",
          "text": [
            "Opening /content/TestFolder2/data.1.json.gz for reading...\n",
            "Closed /content/TestFolder2/data.1.json.gz.\n",
            "\n",
            "  0%|          | 0/1 [00:00<?, ?it/s]\u001b[A"
          ]
        },
        {
          "output_type": "stream",
          "name": "stdout",
          "text": [
            "Input Video ID: gv8y4vw-tJw\n"
          ]
        },
        {
          "output_type": "stream",
          "name": "stderr",
          "text": [
            "\n",
            "100%|██████████| 1/1 [00:01<00:00,  1.41s/it]"
          ]
        },
        {
          "output_type": "stream",
          "name": "stdout",
          "text": [
            "p1 [(98, 101)]\n",
            "p2 [(98, 101)]\n"
          ]
        },
        {
          "output_type": "stream",
          "name": "stderr",
          "text": [
            "\n"
          ]
        },
        {
          "output_type": "stream",
          "name": "stdout",
          "text": [
            "NLP & CNN Available\n",
            "NLP: (98, 101)\n",
            "LSTM: None\n",
            "DeiT (1, 16)\n",
            "\tPredicted=(68, 75),\n",
            "\tExpected=[[0, 0]]\n",
            "[youtube] Extracting URL: edOAvxJodfM\n",
            "[youtube] edOAvxJodfM: Downloading webpage\n",
            "[youtube] edOAvxJodfM: Downloading android player API JSON\n",
            "[youtube] Extracting URL: bXrGUlgbl-s\n",
            "[youtube] bXrGUlgbl-s: Downloading webpage\n",
            "[youtube] bXrGUlgbl-s: Downloading android player API JSON\n",
            "[youtube] Extracting URL: M7aN7oLuAG8\n",
            "[youtube] M7aN7oLuAG8: Downloading webpage\n",
            "[youtube] M7aN7oLuAG8: Downloading android player API JSON\n",
            "[youtube] Extracting URL: 3shHO_OAVoY\n",
            "[youtube] 3shHO_OAVoY: Downloading webpage\n",
            "[youtube] 3shHO_OAVoY: Downloading android player API JSON\n",
            "[youtube] Extracting URL: dU3hw54ymUE\n",
            "[youtube] dU3hw54ymUE: Downloading webpage\n",
            "[youtube] dU3hw54ymUE: Downloading android player API JSON\n",
            "[youtube] Extracting URL: qmFH8PVD8Vk\n",
            "[youtube] qmFH8PVD8Vk: Downloading webpage\n",
            "[youtube] qmFH8PVD8Vk: Downloading android player API JSON\n",
            "[youtube] Extracting URL: hBWYrNTpIhc\n",
            "[youtube] hBWYrNTpIhc: Downloading webpage\n",
            "[youtube] hBWYrNTpIhc: Downloading android player API JSON\n",
            "[youtube] Extracting URL: 5HF2PbkSz1s\n",
            "[youtube] 5HF2PbkSz1s: Downloading webpage\n",
            "[youtube] 5HF2PbkSz1s: Downloading android player API JSON\n",
            "[youtube] 5HF2PbkSz1s: Downloading MPD manifest\n",
            "5HF2PbkSz1s []\n",
            "[youtube] Extracting URL: https://www.youtube.com/watch?v=5HF2PbkSz1s\n",
            "[youtube] 5HF2PbkSz1s: Downloading webpage\n",
            "[youtube] 5HF2PbkSz1s: Downloading android player API JSON\n",
            "[youtube] 5HF2PbkSz1s: Downloading MPD manifest\n",
            "[info] 5HF2PbkSz1s: Downloading 1 format(s): 248+251\n",
            "[info] There's no subtitles for the requested languages\n",
            "[youtube] Extracting URL: https://www.youtube.com/watch?v=5HF2PbkSz1s\n",
            "[youtube] 5HF2PbkSz1s: Downloading webpage\n",
            "[youtube] 5HF2PbkSz1s: Downloading android player API JSON\n",
            "[youtube] 5HF2PbkSz1s: Downloading MPD manifest\n",
            "[info] 5HF2PbkSz1s: Downloading subtitles: en\n",
            "[info] 5HF2PbkSz1s: Downloading 1 format(s): 248+251\n",
            "[info] Writing video subtitles to: /content/TestFolder1/5HF2PbkSz1s.en.vtt\n",
            "[download] Destination: /content/TestFolder1/5HF2PbkSz1s.en.vtt\n",
            "[download] 100% of   40.29KiB in 00:00:00 at 662.24KiB/s\n",
            "Processing captions...\n",
            "100.00% elapsed: 0:00:00, remaining: 0:00:00"
          ]
        },
        {
          "output_type": "stream",
          "name": "stderr",
          "text": [
            "Opening /content/TestFolder2/data.1.json.gz for reading...\n",
            "Closed /content/TestFolder2/data.1.json.gz.\n",
            "\n",
            "  0%|          | 0/1 [00:00<?, ?it/s]\u001b[A"
          ]
        },
        {
          "output_type": "stream",
          "name": "stdout",
          "text": [
            "Input Video ID: 5HF2PbkSz1s\n"
          ]
        },
        {
          "output_type": "stream",
          "name": "stderr",
          "text": [
            "\n",
            "100%|██████████| 1/1 [00:00<00:00,  2.36it/s]"
          ]
        },
        {
          "output_type": "stream",
          "name": "stdout",
          "text": [
            "p1 [(93, 97)]\n",
            "p2 [(93, 97)]\n"
          ]
        },
        {
          "output_type": "stream",
          "name": "stderr",
          "text": [
            "\n"
          ]
        },
        {
          "output_type": "stream",
          "name": "stdout",
          "text": [
            "NLP & CNN Available\n",
            "NLP: (93, 97)\n",
            "LSTM: None\n",
            "DeiT (0, 0)\n",
            "\tPredicted=(65, 67),\n",
            "\tExpected=[[0, 0]]\n",
            "[youtube] Extracting URL: jHXzzHElFPk\n",
            "[youtube] jHXzzHElFPk: Downloading webpage\n",
            "[youtube] jHXzzHElFPk: Downloading android player API JSON\n",
            "[youtube] Extracting URL: ZU5Pkh_dbzY\n",
            "[youtube] ZU5Pkh_dbzY: Downloading webpage\n",
            "[youtube] ZU5Pkh_dbzY: Downloading android player API JSON\n",
            "[youtube] Extracting URL: EbnvJE0Ri-c\n",
            "[youtube] EbnvJE0Ri-c: Downloading webpage\n",
            "[youtube] EbnvJE0Ri-c: Downloading android player API JSON\n",
            "[youtube] EbnvJE0Ri-c: Downloading MPD manifest\n",
            "[youtube] Extracting URL: gOVlfQrzWfg\n",
            "[youtube] gOVlfQrzWfg: Downloading webpage\n",
            "[youtube] gOVlfQrzWfg: Downloading android player API JSON\n",
            "gOVlfQrzWfg []\n",
            "[youtube] Extracting URL: https://www.youtube.com/watch?v=gOVlfQrzWfg\n",
            "[youtube] gOVlfQrzWfg: Downloading webpage\n",
            "[youtube] gOVlfQrzWfg: Downloading android player API JSON\n",
            "[info] gOVlfQrzWfg: Downloading 1 format(s): 303+251\n",
            "[info] There's no subtitles for the requested languages\n",
            "[youtube] Extracting URL: https://www.youtube.com/watch?v=gOVlfQrzWfg\n",
            "[youtube] gOVlfQrzWfg: Downloading webpage\n",
            "[youtube] gOVlfQrzWfg: Downloading android player API JSON\n",
            "[info] gOVlfQrzWfg: Downloading subtitles: en\n",
            "[info] gOVlfQrzWfg: Downloading 1 format(s): 303+251\n",
            "[info] Writing video subtitles to: /content/TestFolder1/gOVlfQrzWfg.en.vtt\n",
            "[download] Destination: /content/TestFolder1/gOVlfQrzWfg.en.vtt\n",
            "[download] 100% of  105.78KiB in 00:00:00 at 1.64MiB/s\n",
            "Processing captions...\n",
            "100.00% elapsed: 0:00:00, remaining: 0:00:00"
          ]
        },
        {
          "output_type": "stream",
          "name": "stderr",
          "text": [
            "Opening /content/TestFolder2/data.1.json.gz for reading...\n",
            "Closed /content/TestFolder2/data.1.json.gz.\n",
            "\n",
            "  0%|          | 0/1 [00:00<?, ?it/s]\u001b[A"
          ]
        },
        {
          "output_type": "stream",
          "name": "stdout",
          "text": [
            "Input Video ID: gOVlfQrzWfg\n"
          ]
        },
        {
          "output_type": "stream",
          "name": "stderr",
          "text": [
            "\n",
            "100%|██████████| 1/1 [00:01<00:00,  1.31s/it]"
          ]
        },
        {
          "output_type": "stream",
          "name": "stdout",
          "text": [
            "p1 []\n",
            "p2 []\n"
          ]
        },
        {
          "output_type": "stream",
          "name": "stderr",
          "text": [
            "\n"
          ]
        },
        {
          "output_type": "stream",
          "name": "stdout",
          "text": [
            "1/1 [==============================] - 0s 26ms/step\n",
            "ALL Available\n",
            "NLP: (0, 0)\n",
            "LSTM: (734, 757)\n",
            "DeiT (0, 0)\n",
            "\tPredicted=(0, 0),\n",
            "\tExpected=[[0, 0]]\n",
            "[youtube] Extracting URL: FFhTLigbjqU\n",
            "[youtube] FFhTLigbjqU: Downloading webpage\n",
            "[youtube] FFhTLigbjqU: Downloading android player API JSON\n",
            "[youtube] Extracting URL: xy0d5bmt8GI\n",
            "[youtube] xy0d5bmt8GI: Downloading webpage\n",
            "[youtube] xy0d5bmt8GI: Downloading android player API JSON\n",
            "[youtube] Extracting URL: npRMUjHSw8o\n",
            "[youtube] npRMUjHSw8o: Downloading webpage\n",
            "[youtube] npRMUjHSw8o: Downloading android player API JSON\n",
            "npRMUjHSw8o []\n",
            "[youtube] Extracting URL: https://www.youtube.com/watch?v=npRMUjHSw8o\n",
            "[youtube] npRMUjHSw8o: Downloading webpage\n",
            "[youtube] npRMUjHSw8o: Downloading android player API JSON\n",
            "[info] npRMUjHSw8o: Downloading 1 format(s): 313+251\n",
            "[info] There's no subtitles for the requested languages\n",
            "[youtube] Extracting URL: https://www.youtube.com/watch?v=npRMUjHSw8o\n",
            "[youtube] npRMUjHSw8o: Downloading webpage\n",
            "[youtube] npRMUjHSw8o: Downloading android player API JSON\n",
            "[info] npRMUjHSw8o: Downloading subtitles: en\n",
            "[info] npRMUjHSw8o: Downloading 1 format(s): 313+251\n",
            "[info] Writing video subtitles to: /content/TestFolder1/npRMUjHSw8o.en.vtt\n",
            "[download] Destination: /content/TestFolder1/npRMUjHSw8o.en.vtt\n",
            "[download] 100% of   83.85KiB in 00:00:00 at 1.60MiB/s\n",
            "Processing captions...\n",
            "100.00% elapsed: 0:00:00, remaining: 0:00:00"
          ]
        },
        {
          "output_type": "stream",
          "name": "stderr",
          "text": [
            "Opening /content/TestFolder2/data.1.json.gz for reading...\n",
            "Closed /content/TestFolder2/data.1.json.gz.\n",
            "\n",
            "  0%|          | 0/1 [00:00<?, ?it/s]\u001b[A"
          ]
        },
        {
          "output_type": "stream",
          "name": "stdout",
          "text": [
            "Input Video ID: npRMUjHSw8o\n"
          ]
        },
        {
          "output_type": "stream",
          "name": "stderr",
          "text": [
            "\n",
            "100%|██████████| 1/1 [00:01<00:00,  1.02s/it]"
          ]
        },
        {
          "output_type": "stream",
          "name": "stdout",
          "text": [
            "p1 [(40, 44), (88, 93)]\n",
            "p2 [(40, 44), (88, 93)]\n"
          ]
        },
        {
          "output_type": "stream",
          "name": "stderr",
          "text": [
            "\n"
          ]
        },
        {
          "output_type": "stream",
          "name": "stdout",
          "text": [
            "NLP & CNN Available\n",
            "NLP: (88, 93)\n",
            "LSTM: None\n",
            "DeiT (39, 53)\n",
            "\tPredicted=(73, 81),\n",
            "\tExpected=[[0, 0]]\n",
            "[youtube] Extracting URL: wqGs0DFb_q4\n",
            "[youtube] wqGs0DFb_q4: Downloading webpage\n",
            "[youtube] wqGs0DFb_q4: Downloading android player API JSON\n",
            "[youtube] Extracting URL: _zHGzs4qDhg\n",
            "[youtube] _zHGzs4qDhg: Downloading webpage\n",
            "[youtube] _zHGzs4qDhg: Downloading android player API JSON\n",
            "[youtube] Extracting URL: 5IEViysinHM\n",
            "[youtube] 5IEViysinHM: Downloading webpage\n",
            "[youtube] 5IEViysinHM: Downloading android player API JSON\n",
            "5IEViysinHM []\n",
            "[youtube] Extracting URL: https://www.youtube.com/watch?v=5IEViysinHM\n",
            "[youtube] 5IEViysinHM: Downloading webpage\n",
            "[youtube] 5IEViysinHM: Downloading android player API JSON\n",
            "[info] 5IEViysinHM: Downloading 1 format(s): 248+251\n",
            "[info] There's no subtitles for the requested languages\n",
            "[youtube] Extracting URL: https://www.youtube.com/watch?v=5IEViysinHM\n",
            "[youtube] 5IEViysinHM: Downloading webpage\n",
            "[youtube] 5IEViysinHM: Downloading android player API JSON\n",
            "[info] 5IEViysinHM: Downloading subtitles: en\n",
            "[info] 5IEViysinHM: Downloading 1 format(s): 248+251\n",
            "[info] Writing video subtitles to: /content/TestFolder1/5IEViysinHM.en.vtt\n",
            "[download] Destination: /content/TestFolder1/5IEViysinHM.en.vtt\n",
            "[download] 100% of   23.74KiB in 00:00:00 at 103.01KiB/s\n",
            "Processing captions...\n",
            "100.00% elapsed: 0:00:00, remaining: 0:00:00"
          ]
        },
        {
          "output_type": "stream",
          "name": "stderr",
          "text": [
            "Opening /content/TestFolder2/data.1.json.gz for reading...\n",
            "Closed /content/TestFolder2/data.1.json.gz.\n",
            "\n",
            "  0%|          | 0/1 [00:00<?, ?it/s]\u001b[A"
          ]
        },
        {
          "output_type": "stream",
          "name": "stdout",
          "text": [
            "Input Video ID: 5IEViysinHM\n"
          ]
        },
        {
          "output_type": "stream",
          "name": "stderr",
          "text": [
            "\n",
            "100%|██████████| 1/1 [00:00<00:00,  2.85it/s]"
          ]
        },
        {
          "output_type": "stream",
          "name": "stdout",
          "text": [
            "p1 [(66, 70)]\n",
            "p2 [(66, 70)]\n"
          ]
        },
        {
          "output_type": "stream",
          "name": "stderr",
          "text": [
            "\n"
          ]
        },
        {
          "output_type": "stream",
          "name": "stdout",
          "text": [
            "NLP & CNN Available\n",
            "NLP: (66, 70)\n",
            "LSTM: None\n",
            "DeiT (82, 96)\n",
            "\tPredicted=(70, 77),\n",
            "\tExpected=[[0, 0]]\n",
            "IOU: 0.6807906445406446\n",
            "Confusion matrix [[60261   389]\n",
            " [  449    68]]\n",
            "Accuracy 0.9862998021809145\n",
            "Precision 0.1487964989059081\n",
            "Recall 0.13152804642166344\n",
            "[youtube] Extracting URL: 8JX1nBpSB-A\n",
            "[youtube] 8JX1nBpSB-A: Downloading webpage\n",
            "[youtube] 8JX1nBpSB-A: Downloading android player API JSON\n",
            "8JX1nBpSB-A [[208.317, 310.598]]\n",
            "[youtube] Extracting URL: https://www.youtube.com/watch?v=8JX1nBpSB-A\n",
            "[youtube] 8JX1nBpSB-A: Downloading webpage\n",
            "[youtube] 8JX1nBpSB-A: Downloading android player API JSON\n",
            "[info] 8JX1nBpSB-A: Downloading 1 format(s): 248+251\n",
            "[info] There's no subtitles for the requested languages\n",
            "[youtube] Extracting URL: https://www.youtube.com/watch?v=8JX1nBpSB-A\n",
            "[youtube] 8JX1nBpSB-A: Downloading webpage\n",
            "[youtube] 8JX1nBpSB-A: Downloading android player API JSON\n",
            "[info] 8JX1nBpSB-A: Downloading subtitles: en\n",
            "[info] 8JX1nBpSB-A: Downloading 1 format(s): 248+251\n",
            "[info] Writing video subtitles to: /content/TestFolder1/8JX1nBpSB-A.en.vtt\n",
            "[download] Destination: /content/TestFolder1/8JX1nBpSB-A.en.vtt\n",
            "[download] 100% of  101.74KiB in 00:00:00 at 1.20MiB/s\n",
            "Processing captions...\n",
            "100.00% elapsed: 0:00:00, remaining: 0:00:00"
          ]
        },
        {
          "output_type": "stream",
          "name": "stderr",
          "text": [
            "Opening /content/TestFolder2/data.1.json.gz for reading...\n",
            "Closed /content/TestFolder2/data.1.json.gz.\n",
            "\n",
            "  0%|          | 0/1 [00:00<?, ?it/s]\u001b[A"
          ]
        },
        {
          "output_type": "stream",
          "name": "stdout",
          "text": [
            "Input Video ID: 8JX1nBpSB-A\n"
          ]
        },
        {
          "output_type": "stream",
          "name": "stderr",
          "text": [
            "\n",
            "100%|██████████| 1/1 [00:01<00:00,  1.29s/it]"
          ]
        },
        {
          "output_type": "stream",
          "name": "stdout",
          "text": [
            "p1 [(70, 75), (100, 104)]\n",
            "p2 [(70, 75), (100, 104)]\n"
          ]
        },
        {
          "output_type": "stream",
          "name": "stderr",
          "text": [
            "\n"
          ]
        },
        {
          "output_type": "stream",
          "name": "stdout",
          "text": [
            "1/1 [==============================] - 0s 26ms/step\n",
            "ALL Available\n",
            "NLP: (70, 75)\n",
            "LSTM: (0, 0)\n",
            "DeiT (0, 0)\n",
            "\tPredicted=(0, 0),\n",
            "\tExpected=[[208.317, 310.598]]\n",
            "[youtube] Extracting URL: 4TYWowP5ch8\n",
            "[youtube] 4TYWowP5ch8: Downloading webpage\n",
            "[youtube] 4TYWowP5ch8: Downloading android player API JSON\n",
            "[youtube] Extracting URL: GmQ-HY3-0XI\n",
            "[youtube] GmQ-HY3-0XI: Downloading webpage\n",
            "[youtube] GmQ-HY3-0XI: Downloading android player API JSON\n",
            "GmQ-HY3-0XI []\n",
            "[youtube] Extracting URL: https://www.youtube.com/watch?v=GmQ-HY3-0XI\n",
            "[youtube] GmQ-HY3-0XI: Downloading webpage\n",
            "[youtube] GmQ-HY3-0XI: Downloading android player API JSON\n",
            "[info] GmQ-HY3-0XI: Downloading 1 format(s): 247+251\n",
            "[info] There's no subtitles for the requested languages\n",
            "[youtube] Extracting URL: https://www.youtube.com/watch?v=GmQ-HY3-0XI\n",
            "[youtube] GmQ-HY3-0XI: Downloading webpage\n",
            "[youtube] GmQ-HY3-0XI: Downloading android player API JSON\n",
            "[info] GmQ-HY3-0XI: Downloading subtitles: en\n",
            "[info] GmQ-HY3-0XI: Downloading 1 format(s): 247+251\n",
            "[info] Writing video subtitles to: /content/TestFolder1/GmQ-HY3-0XI.en.vtt\n",
            "[download] Destination: /content/TestFolder1/GmQ-HY3-0XI.en.vtt\n",
            "[download] 100% of  108.74KiB in 00:00:00 at 485.27KiB/s\n",
            "Processing captions...\n",
            "100.00% elapsed: 0:00:00, remaining: 0:00:00"
          ]
        },
        {
          "output_type": "stream",
          "name": "stderr",
          "text": [
            "Opening /content/TestFolder2/data.1.json.gz for reading...\n",
            "Closed /content/TestFolder2/data.1.json.gz.\n",
            "\n",
            "  0%|          | 0/1 [00:00<?, ?it/s]\u001b[A"
          ]
        },
        {
          "output_type": "stream",
          "name": "stdout",
          "text": [
            "Input Video ID: GmQ-HY3-0XI\n"
          ]
        },
        {
          "output_type": "stream",
          "name": "stderr",
          "text": [
            "\n",
            "100%|██████████| 1/1 [00:01<00:00,  1.14s/it]"
          ]
        },
        {
          "output_type": "stream",
          "name": "stdout",
          "text": [
            "p1 [(76, 80), (97, 102), (109, 113)]\n",
            "p2 [(76, 80), (97, 102), (109, 113)]\n"
          ]
        },
        {
          "output_type": "stream",
          "name": "stderr",
          "text": [
            "\n"
          ]
        },
        {
          "output_type": "stream",
          "name": "stdout",
          "text": [
            "NLP & CNN Available\n",
            "NLP: (97, 102)\n",
            "LSTM: None\n",
            "DeiT (168, 183)\n",
            "\tPredicted=(118, 126),\n",
            "\tExpected=[[0, 0]]\n",
            "[youtube] Extracting URL: wtcMHC6Axbw\n",
            "[youtube] wtcMHC6Axbw: Downloading webpage\n",
            "[youtube] wtcMHC6Axbw: Downloading android player API JSON\n",
            "[youtube] wtcMHC6Axbw: Downloading MPD manifest\n",
            "wtcMHC6Axbw []\n",
            "[youtube] Extracting URL: https://www.youtube.com/watch?v=wtcMHC6Axbw\n",
            "[youtube] wtcMHC6Axbw: Downloading webpage\n",
            "[youtube] wtcMHC6Axbw: Downloading android player API JSON\n",
            "[youtube] wtcMHC6Axbw: Downloading MPD manifest\n",
            "[info] wtcMHC6Axbw: Downloading subtitles: en-US\n",
            "[info] wtcMHC6Axbw: Downloading 1 format(s): 247+251\n",
            "[info] Writing video subtitles to: /content/TestFolder1/wtcMHC6Axbw.en-US.vtt\n",
            "[download] Destination: /content/TestFolder1/wtcMHC6Axbw.en-US.vtt\n",
            "[download] 100% of    4.82KiB in 00:00:00 at 74.95KiB/s\n",
            "Processing captions...\n",
            "100.00% elapsed: 0:00:00, remaining: 0:00:00"
          ]
        },
        {
          "output_type": "stream",
          "name": "stderr",
          "text": [
            "Opening /content/TestFolder2/data.1.json.gz for reading...\n",
            "Closed /content/TestFolder2/data.1.json.gz.\n",
            "\n",
            "  0%|          | 0/1 [00:00<?, ?it/s]\u001b[A"
          ]
        },
        {
          "output_type": "stream",
          "name": "stdout",
          "text": [
            "Input Video ID: wtcMHC6Axbw\n"
          ]
        },
        {
          "output_type": "stream",
          "name": "stderr",
          "text": [
            "\n",
            "100%|██████████| 1/1 [00:00<00:00,  3.62it/s]"
          ]
        },
        {
          "output_type": "stream",
          "name": "stdout",
          "text": [
            "p1 [(6, 19), (25, 29)]\n",
            "p2 [(6, 19), (25, 29)]\n"
          ]
        },
        {
          "output_type": "stream",
          "name": "stderr",
          "text": [
            "\n"
          ]
        },
        {
          "output_type": "stream",
          "name": "stdout",
          "text": [
            "NLP & CNN Available\n",
            "NLP: (6, 19)\n",
            "LSTM: None\n",
            "DeiT (163, 177)\n",
            "\tPredicted=(53, 66),\n",
            "\tExpected=[[0, 0]]\n",
            "[youtube] Extracting URL: bMbIC6Q-9es\n",
            "[youtube] bMbIC6Q-9es: Downloading webpage\n",
            "[youtube] bMbIC6Q-9es: Downloading android player API JSON\n",
            "[youtube] Extracting URL: QXKC_IBmZkk\n",
            "[youtube] QXKC_IBmZkk: Downloading webpage\n",
            "[youtube] QXKC_IBmZkk: Downloading android player API JSON\n",
            "QXKC_IBmZkk []\n",
            "[youtube] Extracting URL: https://www.youtube.com/watch?v=QXKC_IBmZkk\n",
            "[youtube] QXKC_IBmZkk: Downloading webpage\n",
            "[youtube] QXKC_IBmZkk: Downloading android player API JSON\n",
            "[info] QXKC_IBmZkk: Downloading 1 format(s): 248+251\n",
            "[info] There's no subtitles for the requested languages\n",
            "[youtube] Extracting URL: https://www.youtube.com/watch?v=QXKC_IBmZkk\n",
            "[youtube] QXKC_IBmZkk: Downloading webpage\n",
            "[youtube] QXKC_IBmZkk: Downloading android player API JSON\n",
            "[info] QXKC_IBmZkk: Downloading subtitles: en\n",
            "[info] QXKC_IBmZkk: Downloading 1 format(s): 248+251\n",
            "[info] Writing video subtitles to: /content/TestFolder1/QXKC_IBmZkk.en.vtt\n",
            "[download] Destination: /content/TestFolder1/QXKC_IBmZkk.en.vtt\n",
            "[download] 100% of   84.67KiB in 00:00:00 at 312.92KiB/s\n",
            "Processing captions...\n",
            "100.00% elapsed: 0:00:00, remaining: 0:00:00"
          ]
        },
        {
          "output_type": "stream",
          "name": "stderr",
          "text": [
            "Opening /content/TestFolder2/data.1.json.gz for reading...\n",
            "Closed /content/TestFolder2/data.1.json.gz.\n",
            "\n",
            "  0%|          | 0/1 [00:00<?, ?it/s]\u001b[A"
          ]
        },
        {
          "output_type": "stream",
          "name": "stdout",
          "text": [
            "Input Video ID: QXKC_IBmZkk\n"
          ]
        },
        {
          "output_type": "stream",
          "name": "stderr",
          "text": [
            "\n",
            "100%|██████████| 1/1 [00:01<00:00,  1.08s/it]"
          ]
        },
        {
          "output_type": "stream",
          "name": "stdout",
          "text": [
            "p1 []\n",
            "p2 []\n"
          ]
        },
        {
          "output_type": "stream",
          "name": "stderr",
          "text": [
            "\n"
          ]
        },
        {
          "output_type": "stream",
          "name": "stdout",
          "text": [
            "1/1 [==============================] - 0s 27ms/step\n",
            "ALL Available\n",
            "NLP: (0, 0)\n",
            "LSTM: (295, 328)\n",
            "DeiT (0, 0)\n",
            "\tPredicted=(0, 0),\n",
            "\tExpected=[[0, 0]]\n",
            "[youtube] Extracting URL: oZSLKtpgQkc\n",
            "[youtube] oZSLKtpgQkc: Downloading webpage\n",
            "[youtube] oZSLKtpgQkc: Downloading android player API JSON\n",
            "[youtube] oZSLKtpgQkc: Downloading MPD manifest\n",
            "[youtube] Extracting URL: QB8zCn0AOkE\n",
            "[youtube] QB8zCn0AOkE: Downloading webpage\n",
            "[youtube] QB8zCn0AOkE: Downloading android player API JSON\n",
            "[youtube] Extracting URL: g4ujvHD6Hhg\n",
            "[youtube] g4ujvHD6Hhg: Downloading webpage\n",
            "[youtube] g4ujvHD6Hhg: Downloading android player API JSON\n",
            "g4ujvHD6Hhg []\n",
            "[youtube] Extracting URL: https://www.youtube.com/watch?v=g4ujvHD6Hhg\n",
            "[youtube] g4ujvHD6Hhg: Downloading webpage\n",
            "[youtube] g4ujvHD6Hhg: Downloading android player API JSON\n",
            "[info] g4ujvHD6Hhg: Downloading 1 format(s): 313+251\n",
            "[info] There's no subtitles for the requested languages\n",
            "[youtube] Extracting URL: https://www.youtube.com/watch?v=g4ujvHD6Hhg\n",
            "[youtube] g4ujvHD6Hhg: Downloading webpage\n",
            "[youtube] g4ujvHD6Hhg: Downloading android player API JSON\n",
            "[info] g4ujvHD6Hhg: Downloading subtitles: en\n",
            "[info] g4ujvHD6Hhg: Downloading 1 format(s): 313+251\n",
            "[info] Writing video subtitles to: /content/TestFolder1/g4ujvHD6Hhg.en.vtt\n",
            "[download] Destination: /content/TestFolder1/g4ujvHD6Hhg.en.vtt\n",
            "[download] 100% of  117.50KiB in 00:00:00 at 366.64KiB/s\n",
            "Processing captions...\n",
            "100.00% elapsed: 0:00:00, remaining: 0:00:00"
          ]
        },
        {
          "output_type": "stream",
          "name": "stderr",
          "text": [
            "Opening /content/TestFolder2/data.1.json.gz for reading...\n",
            "Closed /content/TestFolder2/data.1.json.gz.\n",
            "\n",
            "  0%|          | 0/1 [00:00<?, ?it/s]\u001b[A"
          ]
        },
        {
          "output_type": "stream",
          "name": "stdout",
          "text": [
            "Input Video ID: g4ujvHD6Hhg\n"
          ]
        },
        {
          "output_type": "stream",
          "name": "stderr",
          "text": [
            "\n",
            "100%|██████████| 1/1 [00:01<00:00,  1.40s/it]"
          ]
        },
        {
          "output_type": "stream",
          "name": "stdout",
          "text": [
            "p1 [(17, 18), (113, 116), (147, 150), (244, 248), (312, 316)]\n",
            "p2 [(17, 18), (113, 116), (147, 150), (244, 248), (312, 316)]\n"
          ]
        },
        {
          "output_type": "stream",
          "name": "stderr",
          "text": [
            "\n"
          ]
        },
        {
          "output_type": "stream",
          "name": "stdout",
          "text": [
            "1/1 [==============================] - 0s 30ms/step\n",
            "ALL Available\n",
            "NLP: (312, 316)\n",
            "LSTM: (0, 62)\n",
            "DeiT (716, 732)\n",
            "\tPredicted=(0, 0),\n",
            "\tExpected=[[0, 0]]\n",
            "[youtube] Extracting URL: ZIUXO1Q2OSw\n",
            "[youtube] ZIUXO1Q2OSw: Downloading webpage\n",
            "[youtube] ZIUXO1Q2OSw: Downloading android player API JSON\n",
            "ZIUXO1Q2OSw []\n",
            "[youtube] Extracting URL: https://www.youtube.com/watch?v=ZIUXO1Q2OSw\n",
            "[youtube] ZIUXO1Q2OSw: Downloading webpage\n",
            "[youtube] ZIUXO1Q2OSw: Downloading android player API JSON\n",
            "[info] ZIUXO1Q2OSw: Downloading 1 format(s): 248+251\n",
            "[info] There's no subtitles for the requested languages\n",
            "[youtube] Extracting URL: https://www.youtube.com/watch?v=ZIUXO1Q2OSw\n",
            "[youtube] ZIUXO1Q2OSw: Downloading webpage\n",
            "[youtube] ZIUXO1Q2OSw: Downloading android player API JSON\n",
            "[info] ZIUXO1Q2OSw: Downloading subtitles: en\n",
            "[info] ZIUXO1Q2OSw: Downloading 1 format(s): 248+251\n",
            "[info] Writing video subtitles to: /content/TestFolder1/ZIUXO1Q2OSw.en.vtt\n",
            "[download] Destination: /content/TestFolder1/ZIUXO1Q2OSw.en.vtt\n",
            "[download] 100% of   40.91KiB in 00:00:00 at 233.60KiB/s\n",
            "Processing captions...\n",
            "100.00% elapsed: 0:00:00, remaining: 0:00:00"
          ]
        },
        {
          "output_type": "stream",
          "name": "stderr",
          "text": [
            "Opening /content/TestFolder2/data.1.json.gz for reading...\n",
            "Closed /content/TestFolder2/data.1.json.gz.\n",
            "\n",
            "  0%|          | 0/1 [00:00<?, ?it/s]\u001b[A"
          ]
        },
        {
          "output_type": "stream",
          "name": "stdout",
          "text": [
            "Input Video ID: ZIUXO1Q2OSw\n"
          ]
        },
        {
          "output_type": "stream",
          "name": "stderr",
          "text": [
            "\n",
            "100%|██████████| 1/1 [00:00<00:00,  2.36it/s]"
          ]
        },
        {
          "output_type": "stream",
          "name": "stdout",
          "text": [
            "p1 []\n",
            "p2 []\n"
          ]
        },
        {
          "output_type": "stream",
          "name": "stderr",
          "text": [
            "\n"
          ]
        },
        {
          "output_type": "stream",
          "name": "stdout",
          "text": [
            "1/1 [==============================] - 0s 26ms/step\n",
            "ALL Available\n",
            "NLP: (0, 0)\n",
            "LSTM: (11, 38)\n",
            "DeiT (0, 0)\n",
            "\tPredicted=(0, 0),\n",
            "\tExpected=[[0, 0]]\n",
            "[youtube] Extracting URL: yDzJ1A0cyhg\n",
            "[youtube] yDzJ1A0cyhg: Downloading webpage\n",
            "[youtube] yDzJ1A0cyhg: Downloading android player API JSON\n",
            "[youtube] Extracting URL: IchvfekX5n8\n",
            "[youtube] IchvfekX5n8: Downloading webpage\n",
            "[youtube] IchvfekX5n8: Downloading android player API JSON\n",
            "[youtube] IchvfekX5n8: Downloading MPD manifest\n",
            "[youtube] Extracting URL: q8L7ygEvUUE\n",
            "[youtube] q8L7ygEvUUE: Downloading webpage\n",
            "[youtube] q8L7ygEvUUE: Downloading android player API JSON\n",
            "q8L7ygEvUUE []\n",
            "[youtube] Extracting URL: https://www.youtube.com/watch?v=q8L7ygEvUUE\n",
            "[youtube] q8L7ygEvUUE: Downloading webpage\n",
            "[youtube] q8L7ygEvUUE: Downloading android player API JSON\n",
            "[info] q8L7ygEvUUE: Downloading 1 format(s): 247+251\n",
            "[info] There's no subtitles for the requested languages\n",
            "[youtube] Extracting URL: https://www.youtube.com/watch?v=q8L7ygEvUUE\n",
            "[youtube] q8L7ygEvUUE: Downloading webpage\n",
            "[youtube] q8L7ygEvUUE: Downloading android player API JSON\n",
            "[info] q8L7ygEvUUE: Downloading subtitles: en\n",
            "[info] q8L7ygEvUUE: Downloading 1 format(s): 247+251\n",
            "[info] Writing video subtitles to: /content/TestFolder1/q8L7ygEvUUE.en.vtt\n",
            "[download] Destination: /content/TestFolder1/q8L7ygEvUUE.en.vtt\n",
            "[download] 100% of   22.75KiB in 00:00:00 at 478.39KiB/s\n",
            "Processing captions...\n",
            "100.00% elapsed: 0:00:00, remaining: 0:00:00"
          ]
        },
        {
          "output_type": "stream",
          "name": "stderr",
          "text": [
            "Opening /content/TestFolder2/data.1.json.gz for reading...\n",
            "Closed /content/TestFolder2/data.1.json.gz.\n",
            "\n",
            "  0%|          | 0/1 [00:00<?, ?it/s]\u001b[A"
          ]
        },
        {
          "output_type": "stream",
          "name": "stdout",
          "text": [
            "Input Video ID: q8L7ygEvUUE\n"
          ]
        },
        {
          "output_type": "stream",
          "name": "stderr",
          "text": [
            "\n",
            "100%|██████████| 1/1 [00:00<00:00,  3.17it/s]"
          ]
        },
        {
          "output_type": "stream",
          "name": "stdout",
          "text": [
            "p1 [(0, 4), (31, 33)]\n",
            "p2 [(0, 4), (31, 33)]\n"
          ]
        },
        {
          "output_type": "stream",
          "name": "stderr",
          "text": [
            "\n"
          ]
        },
        {
          "output_type": "stream",
          "name": "stdout",
          "text": [
            "NLP & CNN Available\n",
            "NLP: (0, 4)\n",
            "LSTM: None\n",
            "DeiT (146, 163)\n",
            "\tPredicted=(43, 51),\n",
            "\tExpected=[[0, 0]]\n",
            "[youtube] Extracting URL: rsxRYiCSy9I\n",
            "[youtube] rsxRYiCSy9I: Downloading webpage\n",
            "[youtube] rsxRYiCSy9I: Downloading android player API JSON\n"
          ]
        },
        {
          "output_type": "stream",
          "name": "stderr",
          "text": [
            "ERROR: [youtube] rsxRYiCSy9I: Video unavailable. This video is no longer available because the YouTube account associated with this video has been terminated.\n"
          ]
        },
        {
          "output_type": "stream",
          "name": "stdout",
          "text": [
            "[youtube] Extracting URL: 1pxGuB4fQqc\n",
            "[youtube] 1pxGuB4fQqc: Downloading webpage\n",
            "[youtube] 1pxGuB4fQqc: Downloading android player API JSON\n",
            "[youtube] Extracting URL: mB3hX1jsSgw\n",
            "[youtube] mB3hX1jsSgw: Downloading webpage\n",
            "[youtube] mB3hX1jsSgw: Downloading android player API JSON\n",
            "mB3hX1jsSgw []\n",
            "[youtube] Extracting URL: https://www.youtube.com/watch?v=mB3hX1jsSgw\n",
            "[youtube] mB3hX1jsSgw: Downloading webpage\n",
            "[youtube] mB3hX1jsSgw: Downloading android player API JSON\n",
            "[info] mB3hX1jsSgw: Downloading 1 format(s): 303+251\n",
            "[info] There's no subtitles for the requested languages\n",
            "[youtube] Extracting URL: https://www.youtube.com/watch?v=mB3hX1jsSgw\n",
            "[youtube] mB3hX1jsSgw: Downloading webpage\n",
            "[youtube] mB3hX1jsSgw: Downloading android player API JSON\n",
            "[info] mB3hX1jsSgw: Downloading subtitles: en\n",
            "[info] mB3hX1jsSgw: Downloading 1 format(s): 303+251\n",
            "[info] Writing video subtitles to: /content/TestFolder1/mB3hX1jsSgw.en.vtt\n",
            "[download] Destination: /content/TestFolder1/mB3hX1jsSgw.en.vtt\n",
            "[download] 100% of   87.18KiB in 00:00:00 at 883.42KiB/s\n",
            "Processing captions...\n",
            "100.00% elapsed: 0:00:00, remaining: 0:00:00"
          ]
        },
        {
          "output_type": "stream",
          "name": "stderr",
          "text": [
            "Opening /content/TestFolder2/data.1.json.gz for reading...\n",
            "Closed /content/TestFolder2/data.1.json.gz.\n",
            "\n",
            "  0%|          | 0/1 [00:00<?, ?it/s]\u001b[A"
          ]
        },
        {
          "output_type": "stream",
          "name": "stdout",
          "text": [
            "Input Video ID: mB3hX1jsSgw\n"
          ]
        },
        {
          "output_type": "stream",
          "name": "stderr",
          "text": [
            "\n",
            "100%|██████████| 1/1 [00:00<00:00,  1.12it/s]"
          ]
        },
        {
          "output_type": "stream",
          "name": "stdout",
          "text": [
            "p1 [(98, 101), (130, 136), (147, 150)]\n",
            "p2 [(98, 101), (130, 136), (147, 150)]\n"
          ]
        },
        {
          "output_type": "stream",
          "name": "stderr",
          "text": [
            "\n"
          ]
        },
        {
          "output_type": "stream",
          "name": "stdout",
          "text": [
            "NLP & CNN Available\n",
            "NLP: (130, 136)\n",
            "LSTM: None\n",
            "DeiT (240, 257)\n",
            "\tPredicted=(163, 172),\n",
            "\tExpected=[[0, 0]]\n",
            "[youtube] Extracting URL: kU3EoLjov5g\n",
            "[youtube] kU3EoLjov5g: Downloading webpage\n",
            "[youtube] kU3EoLjov5g: Downloading android player API JSON\n",
            "kU3EoLjov5g []\n",
            "[youtube] Extracting URL: https://www.youtube.com/watch?v=kU3EoLjov5g\n",
            "[youtube] kU3EoLjov5g: Downloading webpage\n",
            "[youtube] kU3EoLjov5g: Downloading android player API JSON\n",
            "[info] kU3EoLjov5g: Downloading 1 format(s): 248+251\n",
            "[info] There's no subtitles for the requested languages\n",
            "[youtube] Extracting URL: https://www.youtube.com/watch?v=kU3EoLjov5g\n",
            "[youtube] kU3EoLjov5g: Downloading webpage\n",
            "[youtube] kU3EoLjov5g: Downloading android player API JSON\n",
            "[info] kU3EoLjov5g: Downloading subtitles: en\n",
            "[info] kU3EoLjov5g: Downloading 1 format(s): 248+251\n",
            "[info] Writing video subtitles to: /content/TestFolder1/kU3EoLjov5g.en.vtt\n",
            "[download] Destination: /content/TestFolder1/kU3EoLjov5g.en.vtt\n",
            "[download] 100% of   38.92KiB in 00:00:00 at 235.63KiB/s\n",
            "Processing captions...\n",
            "100.00% elapsed: 0:00:00, remaining: 0:00:00"
          ]
        },
        {
          "output_type": "stream",
          "name": "stderr",
          "text": [
            "Opening /content/TestFolder2/data.1.json.gz for reading...\n",
            "Closed /content/TestFolder2/data.1.json.gz.\n",
            "\n",
            "  0%|          | 0/1 [00:00<?, ?it/s]\u001b[A"
          ]
        },
        {
          "output_type": "stream",
          "name": "stdout",
          "text": [
            "Input Video ID: kU3EoLjov5g\n"
          ]
        },
        {
          "output_type": "stream",
          "name": "stderr",
          "text": [
            "\n",
            "100%|██████████| 1/1 [00:00<00:00,  2.33it/s]"
          ]
        },
        {
          "output_type": "stream",
          "name": "stdout",
          "text": [
            "p1 [(80, 84)]\n",
            "p2 [(80, 84)]\n"
          ]
        },
        {
          "output_type": "stream",
          "name": "stderr",
          "text": [
            "\n"
          ]
        },
        {
          "output_type": "stream",
          "name": "stdout",
          "text": [
            "1/1 [==============================] - 0s 27ms/step\n",
            "ALL Available\n",
            "NLP: (80, 84)\n",
            "LSTM: (71, 75)\n",
            "DeiT (0, 0)\n",
            "\tPredicted=(0, 0),\n",
            "\tExpected=[[0, 0]]\n",
            "[youtube] Extracting URL: cHK2MpKIal8\n",
            "[youtube] cHK2MpKIal8: Downloading webpage\n",
            "[youtube] cHK2MpKIal8: Downloading android player API JSON\n",
            "[youtube] Extracting URL: ZmTJjhSzF7I\n",
            "[youtube] ZmTJjhSzF7I: Downloading webpage\n",
            "[youtube] ZmTJjhSzF7I: Downloading android player API JSON\n",
            "[youtube] Extracting URL: CiTdhmTzcx4\n",
            "[youtube] CiTdhmTzcx4: Downloading webpage\n",
            "[youtube] CiTdhmTzcx4: Downloading android player API JSON\n",
            "[youtube] Extracting URL: dxxsETEIo70\n",
            "[youtube] dxxsETEIo70: Downloading webpage\n",
            "[youtube] dxxsETEIo70: Downloading android player API JSON\n",
            "dxxsETEIo70 []\n",
            "[youtube] Extracting URL: https://www.youtube.com/watch?v=dxxsETEIo70\n",
            "[youtube] dxxsETEIo70: Downloading webpage\n",
            "[youtube] dxxsETEIo70: Downloading android player API JSON\n",
            "[info] dxxsETEIo70: Downloading 1 format(s): 308+251\n",
            "[info] There's no subtitles for the requested languages\n",
            "[youtube] Extracting URL: https://www.youtube.com/watch?v=dxxsETEIo70\n",
            "[youtube] dxxsETEIo70: Downloading webpage\n",
            "[youtube] dxxsETEIo70: Downloading android player API JSON\n",
            "[info] dxxsETEIo70: Downloading subtitles: en\n",
            "[info] dxxsETEIo70: Downloading 1 format(s): 308+251\n",
            "[info] Writing video subtitles to: /content/TestFolder1/dxxsETEIo70.en.vtt\n",
            "[download] Destination: /content/TestFolder1/dxxsETEIo70.en.vtt\n",
            "[download] 100% of   22.84KiB in 00:00:00 at 103.78KiB/s\n",
            "Processing captions...\n",
            "100.00% elapsed: 0:00:00, remaining: 0:00:00"
          ]
        },
        {
          "output_type": "stream",
          "name": "stderr",
          "text": [
            "Opening /content/TestFolder2/data.1.json.gz for reading...\n",
            "Closed /content/TestFolder2/data.1.json.gz.\n",
            "\n",
            "  0%|          | 0/1 [00:00<?, ?it/s]\u001b[A"
          ]
        },
        {
          "output_type": "stream",
          "name": "stdout",
          "text": [
            "Input Video ID: dxxsETEIo70\n"
          ]
        },
        {
          "output_type": "stream",
          "name": "stderr",
          "text": [
            "\n",
            "100%|██████████| 1/1 [00:00<00:00,  2.73it/s]"
          ]
        },
        {
          "output_type": "stream",
          "name": "stdout",
          "text": [
            "p1 [(4, 7)]\n",
            "p2 [(4, 7)]\n"
          ]
        },
        {
          "output_type": "stream",
          "name": "stderr",
          "text": [
            "\n"
          ]
        },
        {
          "output_type": "stream",
          "name": "stdout",
          "text": [
            "1/1 [==============================] - 0s 26ms/step\n",
            "ALL Available\n",
            "NLP: (4, 7)\n",
            "LSTM: (212, 219)\n",
            "DeiT (194, 210)\n",
            "\tPredicted=(0, 0),\n",
            "\tExpected=[[0, 0]]\n",
            "IOU: 0.6822682872682873\n",
            "Confusion matrix [[64697   432]\n",
            " [  556    73]]\n",
            "Accuracy 0.9849752121414885\n",
            "Precision 0.14455445544554454\n",
            "Recall 0.11605723370429252\n",
            "[youtube] Extracting URL: AFn6wNjhL18\n",
            "[youtube] AFn6wNjhL18: Downloading webpage\n",
            "[youtube] AFn6wNjhL18: Downloading android player API JSON\n",
            "[youtube] Extracting URL: 7bK5FQUwLJ4\n",
            "[youtube] 7bK5FQUwLJ4: Downloading webpage\n",
            "[youtube] 7bK5FQUwLJ4: Downloading android player API JSON\n",
            "[youtube] Extracting URL: u_GKvcTaaMk\n",
            "[youtube] u_GKvcTaaMk: Downloading webpage\n",
            "[youtube] u_GKvcTaaMk: Downloading android player API JSON\n",
            "[youtube] Extracting URL: zabIcG8JwI8\n",
            "[youtube] zabIcG8JwI8: Downloading webpage\n",
            "[youtube] zabIcG8JwI8: Downloading android player API JSON\n",
            "[youtube] Extracting URL: bi15MsII4_s\n",
            "[youtube] bi15MsII4_s: Downloading webpage\n",
            "[youtube] bi15MsII4_s: Downloading android player API JSON\n",
            "bi15MsII4_s []\n",
            "[youtube] Extracting URL: https://www.youtube.com/watch?v=bi15MsII4_s\n",
            "[youtube] bi15MsII4_s: Downloading webpage\n",
            "[youtube] bi15MsII4_s: Downloading android player API JSON\n",
            "[info] bi15MsII4_s: Downloading 1 format(s): 248+251\n",
            "[info] There's no subtitles for the requested languages\n",
            "[youtube] Extracting URL: https://www.youtube.com/watch?v=bi15MsII4_s\n",
            "[youtube] bi15MsII4_s: Downloading webpage\n",
            "[youtube] bi15MsII4_s: Downloading android player API JSON\n",
            "[info] bi15MsII4_s: Downloading subtitles: en\n",
            "[info] bi15MsII4_s: Downloading 1 format(s): 248+251\n",
            "[info] Writing video subtitles to: /content/TestFolder1/bi15MsII4_s.en.vtt\n",
            "[download] Destination: /content/TestFolder1/bi15MsII4_s.en.vtt\n",
            "[download] 100% of  106.08KiB in 00:00:00 at 1.19MiB/s\n",
            "Processing captions...\n",
            "100.00% elapsed: 0:00:00, remaining: 0:00:00"
          ]
        },
        {
          "output_type": "stream",
          "name": "stderr",
          "text": [
            "Opening /content/TestFolder2/data.1.json.gz for reading...\n",
            "Closed /content/TestFolder2/data.1.json.gz.\n",
            "\n",
            "  0%|          | 0/1 [00:00<?, ?it/s]\u001b[A"
          ]
        },
        {
          "output_type": "stream",
          "name": "stdout",
          "text": [
            "Input Video ID: bi15MsII4_s\n"
          ]
        },
        {
          "output_type": "stream",
          "name": "stderr",
          "text": [
            "\n",
            "100%|██████████| 1/1 [00:01<00:00,  1.03s/it]"
          ]
        },
        {
          "output_type": "stream",
          "name": "stdout",
          "text": [
            "p1 []\n",
            "p2 []\n"
          ]
        },
        {
          "output_type": "stream",
          "name": "stderr",
          "text": [
            "\n"
          ]
        },
        {
          "output_type": "stream",
          "name": "stdout",
          "text": [
            "NLP & CNN Available\n",
            "NLP: (0, 0)\n",
            "LSTM: None\n",
            "DeiT (0, 0)\n",
            "\tPredicted=(0, 0),\n",
            "\tExpected=[[0, 0]]\n",
            "[youtube] Extracting URL: fsU5Hn-3XYY\n",
            "[youtube] fsU5Hn-3XYY: Downloading webpage\n",
            "[youtube] fsU5Hn-3XYY: Downloading android player API JSON\n",
            "fsU5Hn-3XYY []\n",
            "[youtube] Extracting URL: https://www.youtube.com/watch?v=fsU5Hn-3XYY\n",
            "[youtube] fsU5Hn-3XYY: Downloading webpage\n",
            "[youtube] fsU5Hn-3XYY: Downloading android player API JSON\n",
            "[info] fsU5Hn-3XYY: Downloading 1 format(s): 248+251\n",
            "[info] There's no subtitles for the requested languages\n",
            "[youtube] Extracting URL: https://www.youtube.com/watch?v=fsU5Hn-3XYY\n",
            "[youtube] fsU5Hn-3XYY: Downloading webpage\n",
            "[youtube] fsU5Hn-3XYY: Downloading android player API JSON\n",
            "[info] fsU5Hn-3XYY: Downloading subtitles: en\n",
            "[info] fsU5Hn-3XYY: Downloading 1 format(s): 248+251\n",
            "[info] Writing video subtitles to: /content/TestFolder1/fsU5Hn-3XYY.en.vtt\n",
            "[download] Destination: /content/TestFolder1/fsU5Hn-3XYY.en.vtt\n",
            "[download] 100% of    5.97KiB in 00:00:00 at 113.55KiB/s\n",
            "Processing captions...\n",
            "100.00% elapsed: 0:00:00, remaining: 0:00:00"
          ]
        },
        {
          "output_type": "stream",
          "name": "stderr",
          "text": [
            "Opening /content/TestFolder2/data.1.json.gz for reading...\n",
            "Closed /content/TestFolder2/data.1.json.gz.\n",
            "\n",
            "  0%|          | 0/1 [00:00<?, ?it/s]\u001b[A"
          ]
        },
        {
          "output_type": "stream",
          "name": "stdout",
          "text": [
            "Input Video ID: fsU5Hn-3XYY\n"
          ]
        },
        {
          "output_type": "stream",
          "name": "stderr",
          "text": [
            "\n",
            "100%|██████████| 1/1 [00:00<00:00,  6.03it/s]"
          ]
        },
        {
          "output_type": "stream",
          "name": "stdout",
          "text": [
            "p1 [(None, None)]\n",
            "p2 [(None, None)]\n"
          ]
        },
        {
          "output_type": "stream",
          "name": "stderr",
          "text": [
            "\n"
          ]
        },
        {
          "output_type": "stream",
          "name": "stdout",
          "text": [
            "NLP & CNN Available\n",
            "NLP: (None, None)\n",
            "LSTM: None\n",
            "DeiT (109, 124)\n",
            "\tPredicted=(109, 124),\n",
            "\tExpected=[[0, 0]]\n",
            "[youtube] Extracting URL: uw3CVG0Z-BE\n",
            "[youtube] uw3CVG0Z-BE: Downloading webpage\n",
            "[youtube] uw3CVG0Z-BE: Downloading android player API JSON\n",
            "[youtube] uw3CVG0Z-BE: Downloading MPD manifest\n",
            "[youtube] Extracting URL: EkHdTTxIbzI\n",
            "[youtube] EkHdTTxIbzI: Downloading webpage\n",
            "[youtube] EkHdTTxIbzI: Downloading android player API JSON\n",
            "[youtube] EkHdTTxIbzI: Downloading MPD manifest\n",
            "EkHdTTxIbzI []\n",
            "[youtube] Extracting URL: https://www.youtube.com/watch?v=EkHdTTxIbzI\n",
            "[youtube] EkHdTTxIbzI: Downloading webpage\n",
            "[youtube] EkHdTTxIbzI: Downloading android player API JSON\n",
            "[youtube] EkHdTTxIbzI: Downloading MPD manifest\n",
            "[info] EkHdTTxIbzI: Downloading 1 format(s): 248+140\n",
            "[info] There's no subtitles for the requested languages\n",
            "[youtube] Extracting URL: https://www.youtube.com/watch?v=EkHdTTxIbzI\n",
            "[youtube] EkHdTTxIbzI: Downloading webpage\n",
            "[youtube] EkHdTTxIbzI: Downloading android player API JSON\n",
            "[youtube] EkHdTTxIbzI: Downloading MPD manifest\n",
            "[info] EkHdTTxIbzI: Downloading subtitles: en\n",
            "[info] EkHdTTxIbzI: Downloading 1 format(s): 248+140\n",
            "[info] Writing video subtitles to: /content/TestFolder1/EkHdTTxIbzI.en.vtt\n",
            "[download] Destination: /content/TestFolder1/EkHdTTxIbzI.en.vtt\n",
            "[download] 100% of    9.15KiB in 00:00:00 at 181.40KiB/s\n",
            "Processing captions...\n",
            "100.00% elapsed: 0:00:00, remaining: 0:00:00"
          ]
        },
        {
          "output_type": "stream",
          "name": "stderr",
          "text": [
            "Opening /content/TestFolder2/data.1.json.gz for reading...\n",
            "Closed /content/TestFolder2/data.1.json.gz.\n",
            "\n",
            "  0%|          | 0/1 [00:00<?, ?it/s]\u001b[A"
          ]
        },
        {
          "output_type": "stream",
          "name": "stdout",
          "text": [
            "Input Video ID: EkHdTTxIbzI\n"
          ]
        },
        {
          "output_type": "stream",
          "name": "stderr",
          "text": [
            "\n",
            "100%|██████████| 1/1 [00:00<00:00,  7.77it/s]"
          ]
        },
        {
          "output_type": "stream",
          "name": "stdout",
          "text": [
            "p1 [(0, 5)]\n",
            "p2 [(0, 5)]\n"
          ]
        },
        {
          "output_type": "stream",
          "name": "stderr",
          "text": [
            "\n"
          ]
        },
        {
          "output_type": "stream",
          "name": "stdout",
          "text": [
            "NLP & CNN Available\n",
            "NLP: (0, 5)\n",
            "LSTM: None\n",
            "DeiT (0, 0)\n",
            "\tPredicted=(0, 3),\n",
            "\tExpected=[[0, 0]]\n",
            "[youtube] Extracting URL: OvDptAv6j7I\n",
            "[youtube] OvDptAv6j7I: Downloading webpage\n",
            "[youtube] OvDptAv6j7I: Downloading android player API JSON\n",
            "OvDptAv6j7I []\n",
            "[youtube] Extracting URL: https://www.youtube.com/watch?v=OvDptAv6j7I\n",
            "[youtube] OvDptAv6j7I: Downloading webpage\n",
            "[youtube] OvDptAv6j7I: Downloading android player API JSON\n",
            "[info] OvDptAv6j7I: Downloading 1 format(s): 248+251\n",
            "[info] There's no subtitles for the requested languages\n",
            "[youtube] Extracting URL: https://www.youtube.com/watch?v=OvDptAv6j7I\n",
            "[youtube] OvDptAv6j7I: Downloading webpage\n",
            "[youtube] OvDptAv6j7I: Downloading android player API JSON\n",
            "[info] OvDptAv6j7I: Downloading subtitles: en\n",
            "[info] OvDptAv6j7I: Downloading 1 format(s): 248+251\n",
            "[info] Writing video subtitles to: /content/TestFolder1/OvDptAv6j7I.en.vtt\n",
            "[download] Destination: /content/TestFolder1/OvDptAv6j7I.en.vtt\n",
            "[download] 100% of   49.57KiB in 00:00:00 at 625.91KiB/s\n",
            "Processing captions...\n",
            "100.00% elapsed: 0:00:00, remaining: 0:00:00"
          ]
        },
        {
          "output_type": "stream",
          "name": "stderr",
          "text": [
            "Opening /content/TestFolder2/data.1.json.gz for reading...\n",
            "Closed /content/TestFolder2/data.1.json.gz.\n",
            "\n",
            "  0%|          | 0/1 [00:00<?, ?it/s]\u001b[A"
          ]
        },
        {
          "output_type": "stream",
          "name": "stdout",
          "text": [
            "Input Video ID: OvDptAv6j7I\n"
          ]
        },
        {
          "output_type": "stream",
          "name": "stderr",
          "text": [
            "\n",
            "100%|██████████| 1/1 [00:00<00:00,  1.61it/s]"
          ]
        },
        {
          "output_type": "stream",
          "name": "stdout",
          "text": [
            "p1 []\n",
            "p2 []\n"
          ]
        },
        {
          "output_type": "stream",
          "name": "stderr",
          "text": [
            "\n"
          ]
        },
        {
          "output_type": "stream",
          "name": "stdout",
          "text": [
            "NLP & CNN Available\n",
            "NLP: (0, 0)\n",
            "LSTM: None\n",
            "DeiT (0, 0)\n",
            "\tPredicted=(0, 0),\n",
            "\tExpected=[[0, 0]]\n",
            "[youtube] Extracting URL: pOFxMrJkPbU\n",
            "[youtube] pOFxMrJkPbU: Downloading webpage\n",
            "[youtube] pOFxMrJkPbU: Downloading android player API JSON\n",
            "[youtube] Extracting URL: 3m6UCoUjr2A\n",
            "[youtube] 3m6UCoUjr2A: Downloading webpage\n",
            "[youtube] 3m6UCoUjr2A: Downloading android player API JSON\n",
            "[youtube] 3m6UCoUjr2A: Downloading MPD manifest\n",
            "3m6UCoUjr2A []\n",
            "[youtube] Extracting URL: https://www.youtube.com/watch?v=3m6UCoUjr2A\n",
            "[youtube] 3m6UCoUjr2A: Downloading webpage\n",
            "[youtube] 3m6UCoUjr2A: Downloading android player API JSON\n",
            "[youtube] 3m6UCoUjr2A: Downloading MPD manifest\n",
            "[info] 3m6UCoUjr2A: Downloading subtitles: en\n",
            "[info] 3m6UCoUjr2A: Downloading 1 format(s): 248+251\n",
            "[info] Writing video subtitles to: /content/TestFolder1/3m6UCoUjr2A.en.vtt\n",
            "[download] Destination: /content/TestFolder1/3m6UCoUjr2A.en.vtt\n",
            "[download] 100% of    1.76KiB in 00:00:00 at 59.31KiB/s\n",
            "Processing captions...\n",
            "100.00% elapsed: 0:00:00, remaining: 0:00:00"
          ]
        },
        {
          "output_type": "stream",
          "name": "stderr",
          "text": [
            "Opening /content/TestFolder2/data.1.json.gz for reading...\n",
            "Closed /content/TestFolder2/data.1.json.gz.\n",
            "\n",
            "  0%|          | 0/1 [00:00<?, ?it/s]\u001b[A"
          ]
        },
        {
          "output_type": "stream",
          "name": "stdout",
          "text": [
            "Input Video ID: 3m6UCoUjr2A\n",
            "p1 [(0, 9), (19, 21)]\n"
          ]
        },
        {
          "output_type": "stream",
          "name": "stderr",
          "text": [
            "\n"
          ]
        },
        {
          "output_type": "stream",
          "name": "stdout",
          "text": [
            "p2 [(0, 9), (19, 21)]\n"
          ]
        },
        {
          "output_type": "stream",
          "name": "stderr",
          "text": [
            "100%|██████████| 1/1 [00:00<00:00,  6.64it/s]\n"
          ]
        },
        {
          "output_type": "stream",
          "name": "stdout",
          "text": [
            "NLP & CNN Available\n",
            "NLP: (0, 9)\n",
            "LSTM: None\n",
            "DeiT (0, 0)\n",
            "\tPredicted=(0, 6),\n",
            "\tExpected=[[0, 0]]\n",
            "[youtube] Extracting URL: F9NUZEJB5A0\n",
            "[youtube] F9NUZEJB5A0: Downloading webpage\n",
            "[youtube] F9NUZEJB5A0: Downloading android player API JSON\n",
            "F9NUZEJB5A0 []\n",
            "[youtube] Extracting URL: https://www.youtube.com/watch?v=F9NUZEJB5A0\n",
            "[youtube] F9NUZEJB5A0: Downloading webpage\n",
            "[youtube] F9NUZEJB5A0: Downloading android player API JSON\n",
            "[info] F9NUZEJB5A0: Downloading 1 format(s): 313+251\n",
            "[info] There's no subtitles for the requested languages\n",
            "[youtube] Extracting URL: https://www.youtube.com/watch?v=F9NUZEJB5A0\n",
            "[youtube] F9NUZEJB5A0: Downloading webpage\n",
            "[youtube] F9NUZEJB5A0: Downloading android player API JSON\n",
            "[info] F9NUZEJB5A0: Downloading subtitles: en\n",
            "[info] F9NUZEJB5A0: Downloading 1 format(s): 313+251\n",
            "[info] Writing video subtitles to: /content/TestFolder1/F9NUZEJB5A0.en.vtt\n",
            "[download] Destination: /content/TestFolder1/F9NUZEJB5A0.en.vtt\n",
            "[download] 100% of   62.04KiB in 00:00:00 at 1.58MiB/s\n",
            "Processing captions...\n",
            "100.00% elapsed: 0:00:00, remaining: 0:00:00"
          ]
        },
        {
          "output_type": "stream",
          "name": "stderr",
          "text": [
            "Opening /content/TestFolder2/data.1.json.gz for reading...\n",
            "Closed /content/TestFolder2/data.1.json.gz.\n",
            "\n",
            "  0%|          | 0/1 [00:00<?, ?it/s]\u001b[A"
          ]
        },
        {
          "output_type": "stream",
          "name": "stdout",
          "text": [
            "Input Video ID: F9NUZEJB5A0\n"
          ]
        },
        {
          "output_type": "stream",
          "name": "stderr",
          "text": [
            "\n",
            "100%|██████████| 1/1 [00:00<00:00,  1.68it/s]"
          ]
        },
        {
          "output_type": "stream",
          "name": "stdout",
          "text": [
            "p1 [(97, 103)]\n",
            "p2 [(97, 103)]\n"
          ]
        },
        {
          "output_type": "stream",
          "name": "stderr",
          "text": [
            "\n"
          ]
        },
        {
          "output_type": "stream",
          "name": "stdout",
          "text": [
            "1/1 [==============================] - 0s 29ms/step\n",
            "ALL Available\n",
            "NLP: (97, 103)\n",
            "LSTM: (0, 0)\n",
            "DeiT (225, 243)\n",
            "\tPredicted=(0, 0),\n",
            "\tExpected=[[0, 0]]\n",
            "[youtube] Extracting URL: hjJNdlCUt0o\n",
            "[youtube] hjJNdlCUt0o: Downloading webpage\n",
            "[youtube] hjJNdlCUt0o: Downloading android player API JSON\n",
            "hjJNdlCUt0o []\n",
            "[youtube] Extracting URL: https://www.youtube.com/watch?v=hjJNdlCUt0o\n",
            "[youtube] hjJNdlCUt0o: Downloading webpage\n",
            "[youtube] hjJNdlCUt0o: Downloading android player API JSON\n",
            "[info] hjJNdlCUt0o: Downloading 1 format(s): 248+251\n",
            "[info] There's no subtitles for the requested languages\n",
            "[youtube] Extracting URL: https://www.youtube.com/watch?v=hjJNdlCUt0o\n",
            "[youtube] hjJNdlCUt0o: Downloading webpage\n",
            "[youtube] hjJNdlCUt0o: Downloading android player API JSON\n",
            "[info] hjJNdlCUt0o: Downloading subtitles: en\n",
            "[info] hjJNdlCUt0o: Downloading 1 format(s): 248+251\n",
            "[info] Writing video subtitles to: /content/TestFolder1/hjJNdlCUt0o.en.vtt\n",
            "[download] Destination: /content/TestFolder1/hjJNdlCUt0o.en.vtt\n",
            "[download] 100% of   58.68KiB in 00:00:00 at 250.74KiB/s\n",
            "Processing captions...\n",
            "100.00% elapsed: 0:00:00, remaining: 0:00:00"
          ]
        },
        {
          "output_type": "stream",
          "name": "stderr",
          "text": [
            "Opening /content/TestFolder2/data.1.json.gz for reading...\n",
            "Closed /content/TestFolder2/data.1.json.gz.\n",
            "\n",
            "  0%|          | 0/1 [00:00<?, ?it/s]\u001b[A"
          ]
        },
        {
          "output_type": "stream",
          "name": "stdout",
          "text": [
            "Input Video ID: hjJNdlCUt0o\n"
          ]
        },
        {
          "output_type": "stream",
          "name": "stderr",
          "text": [
            "\n",
            "100%|██████████| 1/1 [00:00<00:00,  1.51it/s]"
          ]
        },
        {
          "output_type": "stream",
          "name": "stdout",
          "text": [
            "p1 []\n",
            "p2 []\n"
          ]
        },
        {
          "output_type": "stream",
          "name": "stderr",
          "text": [
            "\n"
          ]
        },
        {
          "output_type": "stream",
          "name": "stdout",
          "text": [
            "1/1 [==============================] - 0s 26ms/step\n",
            "ALL Available\n",
            "NLP: (0, 0)\n",
            "LSTM: (79, 99)\n",
            "DeiT (439, 457)\n",
            "\tPredicted=(0, 0),\n",
            "\tExpected=[[0, 0]]\n",
            "[youtube] Extracting URL: VLWPRiqyfYg\n",
            "[youtube] VLWPRiqyfYg: Downloading webpage\n",
            "[youtube] VLWPRiqyfYg: Downloading android player API JSON\n",
            "[youtube] Extracting URL: qcWlQuk7Mak\n",
            "[youtube] qcWlQuk7Mak: Downloading webpage\n",
            "[youtube] qcWlQuk7Mak: Downloading android player API JSON\n",
            "[youtube] Extracting URL: 9JGsvspiu74\n",
            "[youtube] 9JGsvspiu74: Downloading webpage\n",
            "[youtube] 9JGsvspiu74: Downloading android player API JSON\n",
            "9JGsvspiu74 []\n",
            "[youtube] Extracting URL: https://www.youtube.com/watch?v=9JGsvspiu74\n",
            "[youtube] 9JGsvspiu74: Downloading webpage\n",
            "[youtube] 9JGsvspiu74: Downloading android player API JSON\n",
            "[info] 9JGsvspiu74: Downloading subtitles: en\n",
            "[info] 9JGsvspiu74: Downloading 1 format(s): 248+251\n",
            "[info] Writing video subtitles to: /content/TestFolder1/9JGsvspiu74.en.vtt\n",
            "[download] Destination: /content/TestFolder1/9JGsvspiu74.en.vtt\n",
            "[download] 100% of    3.71KiB in 00:00:00 at 85.45KiB/s\n",
            "Processing captions...\n",
            "100.00% elapsed: 0:00:00, remaining: 0:00:00"
          ]
        },
        {
          "output_type": "stream",
          "name": "stderr",
          "text": [
            "Opening /content/TestFolder2/data.1.json.gz for reading...\n",
            "Closed /content/TestFolder2/data.1.json.gz.\n",
            "\n",
            "  0%|          | 0/1 [00:00<?, ?it/s]\u001b[A"
          ]
        },
        {
          "output_type": "stream",
          "name": "stdout",
          "text": [
            "Input Video ID: 9JGsvspiu74\n"
          ]
        },
        {
          "output_type": "stream",
          "name": "stderr",
          "text": [
            "\n",
            "100%|██████████| 1/1 [00:00<00:00,  3.68it/s]"
          ]
        },
        {
          "output_type": "stream",
          "name": "stdout",
          "text": [
            "p1 [(0, 2), (17, 18), (25, 27)]\n",
            "p2 [(0, 2), (17, 18), (25, 27)]\n"
          ]
        },
        {
          "output_type": "stream",
          "name": "stderr",
          "text": [
            "\n"
          ]
        },
        {
          "output_type": "stream",
          "name": "stdout",
          "text": [
            "NLP & CNN Available\n",
            "NLP: (25, 27)\n",
            "LSTM: None\n",
            "DeiT (1, 15)\n",
            "\tPredicted=(17, 23),\n",
            "\tExpected=[[0, 0]]\n",
            "[youtube] Extracting URL: 3N_c3UwginQ\n",
            "[youtube] 3N_c3UwginQ: Downloading webpage\n",
            "[youtube] 3N_c3UwginQ: Downloading android player API JSON\n",
            "[youtube] Extracting URL: Uc6y6QZ-Ohs\n",
            "[youtube] Uc6y6QZ-Ohs: Downloading webpage\n",
            "[youtube] Uc6y6QZ-Ohs: Downloading android player API JSON\n",
            "[youtube] Uc6y6QZ-Ohs: Downloading MPD manifest\n",
            "Uc6y6QZ-Ohs []\n",
            "[youtube] Extracting URL: https://www.youtube.com/watch?v=Uc6y6QZ-Ohs\n",
            "[youtube] Uc6y6QZ-Ohs: Downloading webpage\n",
            "[youtube] Uc6y6QZ-Ohs: Downloading android player API JSON\n",
            "[youtube] Uc6y6QZ-Ohs: Downloading MPD manifest\n",
            "[info] Uc6y6QZ-Ohs: Downloading 1 format(s): 248+251\n",
            "[info] There's no subtitles for the requested languages\n",
            "[youtube] Extracting URL: https://www.youtube.com/watch?v=Uc6y6QZ-Ohs\n",
            "[youtube] Uc6y6QZ-Ohs: Downloading webpage\n",
            "[youtube] Uc6y6QZ-Ohs: Downloading android player API JSON\n",
            "[youtube] Uc6y6QZ-Ohs: Downloading MPD manifest\n",
            "[info] Uc6y6QZ-Ohs: Downloading subtitles: en\n",
            "[info] Uc6y6QZ-Ohs: Downloading 1 format(s): 248+251\n",
            "[info] Writing video subtitles to: /content/TestFolder1/Uc6y6QZ-Ohs.en.vtt\n",
            "[download] Destination: /content/TestFolder1/Uc6y6QZ-Ohs.en.vtt\n",
            "[download] 100% of   34.87KiB in 00:00:00 at 440.86KiB/s\n",
            "Processing captions...\n",
            "100.00% elapsed: 0:00:00, remaining: 0:00:00"
          ]
        },
        {
          "output_type": "stream",
          "name": "stderr",
          "text": [
            "Opening /content/TestFolder2/data.1.json.gz for reading...\n",
            "Closed /content/TestFolder2/data.1.json.gz.\n",
            "\n",
            "  0%|          | 0/1 [00:00<?, ?it/s]\u001b[A"
          ]
        },
        {
          "output_type": "stream",
          "name": "stdout",
          "text": [
            "Input Video ID: Uc6y6QZ-Ohs\n"
          ]
        },
        {
          "output_type": "stream",
          "name": "stderr",
          "text": [
            "\n",
            "100%|██████████| 1/1 [00:00<00:00,  2.07it/s]"
          ]
        },
        {
          "output_type": "stream",
          "name": "stdout",
          "text": [
            "p1 [(88, 92)]\n",
            "p2 [(88, 92)]\n"
          ]
        },
        {
          "output_type": "stream",
          "name": "stderr",
          "text": [
            "\n"
          ]
        },
        {
          "output_type": "stream",
          "name": "stdout",
          "text": [
            "NLP & CNN Available\n",
            "NLP: (88, 92)\n",
            "LSTM: None\n",
            "DeiT (10, 24)\n",
            "\tPredicted=(64, 71),\n",
            "\tExpected=[[0, 0]]\n",
            "[youtube] Extracting URL: xL2rcnIKa-E\n",
            "[youtube] xL2rcnIKa-E: Downloading webpage\n",
            "[youtube] xL2rcnIKa-E: Downloading android player API JSON\n",
            "xL2rcnIKa-E []\n",
            "[youtube] Extracting URL: https://www.youtube.com/watch?v=xL2rcnIKa-E\n",
            "[youtube] xL2rcnIKa-E: Downloading webpage\n",
            "[youtube] xL2rcnIKa-E: Downloading android player API JSON\n",
            "[info] xL2rcnIKa-E: Downloading 1 format(s): 302+251\n",
            "[info] There's no subtitles for the requested languages\n",
            "[youtube] Extracting URL: https://www.youtube.com/watch?v=xL2rcnIKa-E\n",
            "[youtube] xL2rcnIKa-E: Downloading webpage\n",
            "[youtube] xL2rcnIKa-E: Downloading android player API JSON\n",
            "[info] xL2rcnIKa-E: Downloading subtitles: en\n",
            "[info] xL2rcnIKa-E: Downloading 1 format(s): 302+251\n",
            "[info] Writing video subtitles to: /content/TestFolder1/xL2rcnIKa-E.en.vtt\n",
            "[download] Destination: /content/TestFolder1/xL2rcnIKa-E.en.vtt\n",
            "[download] 100% of   26.75KiB in 00:00:00 at 94.06KiB/s\n",
            "Processing captions...\n",
            "100.00% elapsed: 0:00:00, remaining: 0:00:00"
          ]
        },
        {
          "output_type": "stream",
          "name": "stderr",
          "text": [
            "Opening /content/TestFolder2/data.1.json.gz for reading...\n",
            "Closed /content/TestFolder2/data.1.json.gz.\n",
            "\n",
            "  0%|          | 0/1 [00:00<?, ?it/s]\u001b[A"
          ]
        },
        {
          "output_type": "stream",
          "name": "stdout",
          "text": [
            "Input Video ID: xL2rcnIKa-E\n"
          ]
        },
        {
          "output_type": "stream",
          "name": "stderr",
          "text": [
            "\n",
            "100%|██████████| 1/1 [00:00<00:00,  1.43it/s]"
          ]
        },
        {
          "output_type": "stream",
          "name": "stdout",
          "text": [
            "p1 [(19, 21)]\n",
            "p2 [(19, 21)]\n"
          ]
        },
        {
          "output_type": "stream",
          "name": "stderr",
          "text": [
            "\n"
          ]
        },
        {
          "output_type": "stream",
          "name": "stdout",
          "text": [
            "NLP & CNN Available\n",
            "NLP: (19, 21)\n",
            "LSTM: None\n",
            "DeiT (5, 19)\n",
            "\tPredicted=(14, 20),\n",
            "\tExpected=[[0, 0]]\n",
            "IOU: 0.6791981034838177\n",
            "Confusion matrix [[67890   479]\n",
            " [  560    79]]\n",
            "Accuracy 0.984943774634825\n",
            "Precision 0.14157706093189965\n",
            "Recall 0.12363067292644757\n",
            "[youtube] Extracting URL: WWG1ZZdxMs4\n",
            "[youtube] WWG1ZZdxMs4: Downloading webpage\n",
            "[youtube] WWG1ZZdxMs4: Downloading android player API JSON\n",
            "[youtube] Extracting URL: 96MV1BgjP6s\n",
            "[youtube] 96MV1BgjP6s: Downloading webpage\n",
            "[youtube] 96MV1BgjP6s: Downloading android player API JSON\n",
            "96MV1BgjP6s []\n",
            "[youtube] Extracting URL: https://www.youtube.com/watch?v=96MV1BgjP6s\n",
            "[youtube] 96MV1BgjP6s: Downloading webpage\n",
            "[youtube] 96MV1BgjP6s: Downloading android player API JSON\n",
            "[info] 96MV1BgjP6s: Downloading 1 format(s): 248+251\n",
            "[info] There's no subtitles for the requested languages\n",
            "[youtube] Extracting URL: https://www.youtube.com/watch?v=96MV1BgjP6s\n",
            "[youtube] 96MV1BgjP6s: Downloading webpage\n",
            "[youtube] 96MV1BgjP6s: Downloading android player API JSON\n",
            "[info] 96MV1BgjP6s: Downloading subtitles: en\n",
            "[info] 96MV1BgjP6s: Downloading 1 format(s): 248+251\n",
            "[info] Writing video subtitles to: /content/TestFolder1/96MV1BgjP6s.en.vtt\n",
            "[download] Destination: /content/TestFolder1/96MV1BgjP6s.en.vtt\n",
            "[download] 100% of   44.83KiB in 00:00:00 at 172.48KiB/s\n",
            "Processing captions...\n",
            "100.00% elapsed: 0:00:00, remaining: 0:00:00"
          ]
        },
        {
          "output_type": "stream",
          "name": "stderr",
          "text": [
            "Opening /content/TestFolder2/data.1.json.gz for reading...\n",
            "Closed /content/TestFolder2/data.1.json.gz.\n",
            "\n",
            "  0%|          | 0/1 [00:00<?, ?it/s]\u001b[A"
          ]
        },
        {
          "output_type": "stream",
          "name": "stdout",
          "text": [
            "Input Video ID: 96MV1BgjP6s\n"
          ]
        },
        {
          "output_type": "stream",
          "name": "stderr",
          "text": [
            "\n",
            "100%|██████████| 1/1 [00:00<00:00,  1.88it/s]"
          ]
        },
        {
          "output_type": "stream",
          "name": "stdout",
          "text": [
            "p1 [(38, 42)]\n",
            "p2 [(38, 42)]\n"
          ]
        },
        {
          "output_type": "stream",
          "name": "stderr",
          "text": [
            "\n"
          ]
        },
        {
          "output_type": "stream",
          "name": "stdout",
          "text": [
            "NLP & CNN Available\n",
            "NLP: (38, 42)\n",
            "LSTM: None\n",
            "DeiT (202, 217)\n",
            "\tPredicted=(87, 94),\n",
            "\tExpected=[[0, 0]]\n",
            "[youtube] Extracting URL: n6lgP6Ir6Qs\n",
            "[youtube] n6lgP6Ir6Qs: Downloading webpage\n",
            "[youtube] n6lgP6Ir6Qs: Downloading android player API JSON\n",
            "n6lgP6Ir6Qs []\n",
            "[youtube] Extracting URL: https://www.youtube.com/watch?v=n6lgP6Ir6Qs\n",
            "[youtube] n6lgP6Ir6Qs: Downloading webpage\n",
            "[youtube] n6lgP6Ir6Qs: Downloading android player API JSON\n",
            "[info] n6lgP6Ir6Qs: Downloading 1 format(s): 244+251\n",
            "[info] There's no subtitles for the requested languages\n",
            "[youtube] Extracting URL: https://www.youtube.com/watch?v=n6lgP6Ir6Qs\n",
            "[youtube] n6lgP6Ir6Qs: Downloading webpage\n",
            "[youtube] n6lgP6Ir6Qs: Downloading android player API JSON\n",
            "[info] n6lgP6Ir6Qs: Downloading subtitles: en\n",
            "[info] n6lgP6Ir6Qs: Downloading 1 format(s): 244+251\n",
            "[info] Writing video subtitles to: /content/TestFolder1/n6lgP6Ir6Qs.en.vtt\n",
            "[download] Destination: /content/TestFolder1/n6lgP6Ir6Qs.en.vtt\n",
            "[download] 100% of   53.45KiB in 00:00:00 at 1.18MiB/s\n",
            "Processing captions...\n",
            "100.00% elapsed: 0:00:00, remaining: 0:00:00"
          ]
        },
        {
          "output_type": "stream",
          "name": "stderr",
          "text": [
            "Opening /content/TestFolder2/data.1.json.gz for reading...\n",
            "Closed /content/TestFolder2/data.1.json.gz.\n",
            "\n",
            "  0%|          | 0/1 [00:00<?, ?it/s]\u001b[A"
          ]
        },
        {
          "output_type": "stream",
          "name": "stdout",
          "text": [
            "Input Video ID: n6lgP6Ir6Qs\n"
          ]
        },
        {
          "output_type": "stream",
          "name": "stderr",
          "text": [
            "\n",
            "100%|██████████| 1/1 [00:00<00:00,  1.58it/s]"
          ]
        },
        {
          "output_type": "stream",
          "name": "stdout",
          "text": [
            "p1 []\n",
            "p2 []\n"
          ]
        },
        {
          "output_type": "stream",
          "name": "stderr",
          "text": [
            "\n"
          ]
        },
        {
          "output_type": "stream",
          "name": "stdout",
          "text": [
            "NLP & CNN Available\n",
            "NLP: (0, 0)\n",
            "LSTM: None\n",
            "DeiT (0, 0)\n",
            "\tPredicted=(0, 0),\n",
            "\tExpected=[[0, 0]]\n",
            "[youtube] Extracting URL: HfjxsF1tWAU\n",
            "[youtube] HfjxsF1tWAU: Downloading webpage\n",
            "[youtube] HfjxsF1tWAU: Downloading android player API JSON\n",
            "HfjxsF1tWAU []\n",
            "[youtube] Extracting URL: https://www.youtube.com/watch?v=HfjxsF1tWAU\n",
            "[youtube] HfjxsF1tWAU: Downloading webpage\n",
            "[youtube] HfjxsF1tWAU: Downloading android player API JSON\n",
            "[info] HfjxsF1tWAU: Downloading 1 format(s): 248+251\n",
            "[info] There's no subtitles for the requested languages\n",
            "[youtube] Extracting URL: https://www.youtube.com/watch?v=HfjxsF1tWAU\n",
            "[youtube] HfjxsF1tWAU: Downloading webpage\n",
            "[youtube] HfjxsF1tWAU: Downloading android player API JSON\n",
            "[info] HfjxsF1tWAU: Downloading subtitles: en\n",
            "[info] HfjxsF1tWAU: Downloading 1 format(s): 248+251\n",
            "[info] Writing video subtitles to: /content/TestFolder1/HfjxsF1tWAU.en.vtt\n",
            "[download] Destination: /content/TestFolder1/HfjxsF1tWAU.en.vtt\n",
            "[download] 100% of   74.84KiB in 00:00:00 at 905.93KiB/s\n",
            "Processing captions...\n",
            "100.00% elapsed: 0:00:00, remaining: 0:00:00"
          ]
        },
        {
          "output_type": "stream",
          "name": "stderr",
          "text": [
            "Opening /content/TestFolder2/data.1.json.gz for reading...\n",
            "Closed /content/TestFolder2/data.1.json.gz.\n",
            "\n",
            "  0%|          | 0/1 [00:00<?, ?it/s]\u001b[A"
          ]
        },
        {
          "output_type": "stream",
          "name": "stdout",
          "text": [
            "Input Video ID: HfjxsF1tWAU\n"
          ]
        },
        {
          "output_type": "stream",
          "name": "stderr",
          "text": [
            "\n",
            "100%|██████████| 1/1 [00:00<00:00,  1.05it/s]"
          ]
        },
        {
          "output_type": "stream",
          "name": "stdout",
          "text": [
            "p1 [(8, 11), (113, 116)]\n",
            "p2 [(8, 11), (113, 116)]\n"
          ]
        },
        {
          "output_type": "stream",
          "name": "stderr",
          "text": [
            "\n"
          ]
        },
        {
          "output_type": "stream",
          "name": "stdout",
          "text": [
            "1/1 [==============================] - 0s 27ms/step\n",
            "ALL Available\n",
            "NLP: (113, 116)\n",
            "LSTM: (259, 278)\n",
            "DeiT (0, 0)\n",
            "\tPredicted=(0, 0),\n",
            "\tExpected=[[0, 0]]\n",
            "[youtube] Extracting URL: qO9zpLVpdn0\n",
            "[youtube] qO9zpLVpdn0: Downloading webpage\n",
            "[youtube] qO9zpLVpdn0: Downloading android player API JSON\n",
            "qO9zpLVpdn0 []\n",
            "[youtube] Extracting URL: https://www.youtube.com/watch?v=qO9zpLVpdn0\n",
            "[youtube] qO9zpLVpdn0: Downloading webpage\n",
            "[youtube] qO9zpLVpdn0: Downloading android player API JSON\n",
            "[info] qO9zpLVpdn0: Downloading 1 format(s): 248+251\n",
            "[info] There's no subtitles for the requested languages\n",
            "[youtube] Extracting URL: https://www.youtube.com/watch?v=qO9zpLVpdn0\n",
            "[youtube] qO9zpLVpdn0: Downloading webpage\n",
            "[youtube] qO9zpLVpdn0: Downloading android player API JSON\n",
            "[info] qO9zpLVpdn0: Downloading subtitles: en\n",
            "[info] qO9zpLVpdn0: Downloading 1 format(s): 248+251\n",
            "[info] Writing video subtitles to: /content/TestFolder1/qO9zpLVpdn0.en.vtt\n",
            "[download] Destination: /content/TestFolder1/qO9zpLVpdn0.en.vtt\n",
            "[download] 100% of  113.73KiB in 00:00:00 at 394.31KiB/s\n",
            "Processing captions...\n",
            "100.00% elapsed: 0:00:00, remaining: 0:00:00"
          ]
        },
        {
          "output_type": "stream",
          "name": "stderr",
          "text": [
            "Opening /content/TestFolder2/data.1.json.gz for reading...\n",
            "Closed /content/TestFolder2/data.1.json.gz.\n",
            "\n",
            "  0%|          | 0/1 [00:00<?, ?it/s]\u001b[A"
          ]
        },
        {
          "output_type": "stream",
          "name": "stdout",
          "text": [
            "Input Video ID: qO9zpLVpdn0\n"
          ]
        },
        {
          "output_type": "stream",
          "name": "stderr",
          "text": [
            "\n",
            "100%|██████████| 1/1 [00:01<00:00,  1.42s/it]"
          ]
        },
        {
          "output_type": "stream",
          "name": "stdout",
          "text": [
            "p1 [(6, 10), (17, 21), (257, 260), (320, 324)]\n",
            "p2 [(6, 10), (17, 21), (257, 260), (320, 324)]\n"
          ]
        },
        {
          "output_type": "stream",
          "name": "stderr",
          "text": [
            "\n"
          ]
        },
        {
          "output_type": "stream",
          "name": "stdout",
          "text": [
            "NLP & CNN Available\n",
            "NLP: (320, 324)\n",
            "LSTM: None\n",
            "DeiT (47, 61)\n",
            "\tPredicted=(238, 245),\n",
            "\tExpected=[[0, 0]]\n",
            "[youtube] Extracting URL: y0Tzb2rf3Cs\n",
            "[youtube] y0Tzb2rf3Cs: Downloading webpage\n",
            "[youtube] y0Tzb2rf3Cs: Downloading android player API JSON\n",
            "y0Tzb2rf3Cs []\n",
            "[youtube] Extracting URL: https://www.youtube.com/watch?v=y0Tzb2rf3Cs\n",
            "[youtube] y0Tzb2rf3Cs: Downloading webpage\n",
            "[youtube] y0Tzb2rf3Cs: Downloading android player API JSON\n",
            "[info] y0Tzb2rf3Cs: Downloading 1 format(s): 303+251\n",
            "[info] There's no subtitles for the requested languages\n",
            "[youtube] Extracting URL: https://www.youtube.com/watch?v=y0Tzb2rf3Cs\n",
            "[youtube] y0Tzb2rf3Cs: Downloading webpage\n",
            "[youtube] y0Tzb2rf3Cs: Downloading android player API JSON\n",
            "[info] y0Tzb2rf3Cs: Downloading subtitles: en\n",
            "[info] y0Tzb2rf3Cs: Downloading 1 format(s): 303+251\n",
            "[info] Writing video subtitles to: /content/TestFolder1/y0Tzb2rf3Cs.en.vtt\n",
            "[download] Destination: /content/TestFolder1/y0Tzb2rf3Cs.en.vtt\n",
            "[download] 100% of   61.86KiB in 00:00:00 at 239.94KiB/s\n",
            "Processing captions...\n",
            "100.00% elapsed: 0:00:00, remaining: 0:00:00"
          ]
        },
        {
          "output_type": "stream",
          "name": "stderr",
          "text": [
            "Opening /content/TestFolder2/data.1.json.gz for reading...\n",
            "Closed /content/TestFolder2/data.1.json.gz.\n",
            "\n",
            "  0%|          | 0/1 [00:00<?, ?it/s]\u001b[A"
          ]
        },
        {
          "output_type": "stream",
          "name": "stdout",
          "text": [
            "Input Video ID: y0Tzb2rf3Cs\n"
          ]
        },
        {
          "output_type": "stream",
          "name": "stderr",
          "text": [
            "\n",
            "100%|██████████| 1/1 [00:00<00:00,  1.10it/s]"
          ]
        },
        {
          "output_type": "stream",
          "name": "stdout",
          "text": [
            "p1 [(12, 16), (149, 149)]\n",
            "p2 [(12, 16), (149, 149)]\n"
          ]
        },
        {
          "output_type": "stream",
          "name": "stderr",
          "text": [
            "\n"
          ]
        },
        {
          "output_type": "stream",
          "name": "stdout",
          "text": [
            "1/1 [==============================] - 0s 30ms/step\n",
            "ALL Available\n",
            "NLP: (12, 16)\n",
            "LSTM: (611, 637)\n",
            "DeiT (1, 17)\n",
            "\tPredicted=(0, 0),\n",
            "\tExpected=[[0, 0]]\n",
            "[youtube] Extracting URL: 5jjXlm4xkWk\n",
            "[youtube] 5jjXlm4xkWk: Downloading webpage\n",
            "[youtube] 5jjXlm4xkWk: Downloading android player API JSON\n",
            "5jjXlm4xkWk []\n",
            "[youtube] Extracting URL: https://www.youtube.com/watch?v=5jjXlm4xkWk\n",
            "[youtube] 5jjXlm4xkWk: Downloading webpage\n",
            "[youtube] 5jjXlm4xkWk: Downloading android player API JSON\n",
            "[info] 5jjXlm4xkWk: Downloading 1 format(s): 247+251\n",
            "[info] There's no subtitles for the requested languages\n",
            "[youtube] Extracting URL: https://www.youtube.com/watch?v=5jjXlm4xkWk\n",
            "[youtube] 5jjXlm4xkWk: Downloading webpage\n",
            "[youtube] 5jjXlm4xkWk: Downloading android player API JSON\n",
            "[info] 5jjXlm4xkWk: Downloading subtitles: en\n",
            "[info] 5jjXlm4xkWk: Downloading 1 format(s): 247+251\n",
            "[info] Writing video subtitles to: /content/TestFolder1/5jjXlm4xkWk.en.vtt\n",
            "[download] Destination: /content/TestFolder1/5jjXlm4xkWk.en.vtt\n",
            "[download] 100% of  105.42KiB in 00:00:00 at 1.78MiB/s\n",
            "Processing captions...\n",
            "100.00% elapsed: 0:00:00, remaining: 0:00:00"
          ]
        },
        {
          "output_type": "stream",
          "name": "stderr",
          "text": [
            "Opening /content/TestFolder2/data.1.json.gz for reading...\n",
            "Closed /content/TestFolder2/data.1.json.gz.\n",
            "\n",
            "  0%|          | 0/1 [00:00<?, ?it/s]\u001b[A"
          ]
        },
        {
          "output_type": "stream",
          "name": "stdout",
          "text": [
            "Input Video ID: 5jjXlm4xkWk\n"
          ]
        },
        {
          "output_type": "stream",
          "name": "stderr",
          "text": [
            "\n",
            "100%|██████████| 1/1 [00:00<00:00,  1.15it/s]"
          ]
        },
        {
          "output_type": "stream",
          "name": "stdout",
          "text": [
            "p1 [(159, 164)]\n",
            "p2 [(159, 164)]\n"
          ]
        },
        {
          "output_type": "stream",
          "name": "stderr",
          "text": [
            "\n"
          ]
        },
        {
          "output_type": "stream",
          "name": "stdout",
          "text": [
            "NLP & CNN Available\n",
            "NLP: (159, 164)\n",
            "LSTM: None\n",
            "DeiT (270, 287)\n",
            "\tPredicted=(192, 200),\n",
            "\tExpected=[[0, 0]]\n",
            "[youtube] Extracting URL: IU6HIIgHedw\n",
            "[youtube] IU6HIIgHedw: Downloading webpage\n",
            "[youtube] IU6HIIgHedw: Downloading android player API JSON\n",
            "IU6HIIgHedw []\n",
            "[youtube] Extracting URL: https://www.youtube.com/watch?v=IU6HIIgHedw\n",
            "[youtube] IU6HIIgHedw: Downloading webpage\n",
            "[youtube] IU6HIIgHedw: Downloading android player API JSON\n",
            "[info] IU6HIIgHedw: Downloading subtitles: en\n",
            "[info] IU6HIIgHedw: Downloading 1 format(s): 248+251\n",
            "[info] Writing video subtitles to: /content/TestFolder1/IU6HIIgHedw.en.vtt\n",
            "[download] Destination: /content/TestFolder1/IU6HIIgHedw.en.vtt\n",
            "[download] 100% of    5.98KiB in 00:00:00 at 79.92KiB/s\n",
            "Processing captions...\n",
            "100.00% elapsed: 0:00:00, remaining: 0:00:00"
          ]
        },
        {
          "output_type": "stream",
          "name": "stderr",
          "text": [
            "Opening /content/TestFolder2/data.1.json.gz for reading...\n",
            "Closed /content/TestFolder2/data.1.json.gz.\n",
            "\n",
            "  0%|          | 0/1 [00:00<?, ?it/s]\u001b[A"
          ]
        },
        {
          "output_type": "stream",
          "name": "stdout",
          "text": [
            "Input Video ID: IU6HIIgHedw\n"
          ]
        },
        {
          "output_type": "stream",
          "name": "stderr",
          "text": [
            "\n",
            "100%|██████████| 1/1 [00:00<00:00,  2.19it/s]"
          ]
        },
        {
          "output_type": "stream",
          "name": "stdout",
          "text": [
            "p1 [(0, 4), (7, 8), (36, 38), (None, None)]\n",
            "p2 [(0, 4), (7, 8), (36, 38), (None, None)]\n"
          ]
        },
        {
          "output_type": "stream",
          "name": "stderr",
          "text": [
            "\n"
          ]
        },
        {
          "output_type": "stream",
          "name": "stdout",
          "text": [
            "NLP & CNN Available\n",
            "NLP: (0, 0)\n",
            "LSTM: None\n",
            "DeiT (1, 15)\n",
            "\tPredicted=(0, 4),\n",
            "\tExpected=[[0, 0]]\n",
            "[youtube] Extracting URL: UTuSPu3jAjA\n",
            "[youtube] UTuSPu3jAjA: Downloading webpage\n",
            "[youtube] UTuSPu3jAjA: Downloading android player API JSON\n",
            "UTuSPu3jAjA []\n",
            "[youtube] Extracting URL: https://www.youtube.com/watch?v=UTuSPu3jAjA\n",
            "[youtube] UTuSPu3jAjA: Downloading webpage\n",
            "[youtube] UTuSPu3jAjA: Downloading android player API JSON\n",
            "[info] UTuSPu3jAjA: Downloading 1 format(s): 248+251\n",
            "[info] There's no subtitles for the requested languages\n",
            "[youtube] Extracting URL: https://www.youtube.com/watch?v=UTuSPu3jAjA\n",
            "[youtube] UTuSPu3jAjA: Downloading webpage\n",
            "[youtube] UTuSPu3jAjA: Downloading android player API JSON\n",
            "[info] UTuSPu3jAjA: Downloading subtitles: en\n",
            "[info] UTuSPu3jAjA: Downloading 1 format(s): 248+251\n",
            "[info] Writing video subtitles to: /content/TestFolder1/UTuSPu3jAjA.en.vtt\n",
            "[download] Destination: /content/TestFolder1/UTuSPu3jAjA.en.vtt\n",
            "[download] 100% of   88.27KiB in 00:00:00 at 333.84KiB/s\n",
            "Processing captions...\n",
            "100.00% elapsed: 0:00:00, remaining: 0:00:00"
          ]
        },
        {
          "output_type": "stream",
          "name": "stderr",
          "text": [
            "Opening /content/TestFolder2/data.1.json.gz for reading...\n",
            "Closed /content/TestFolder2/data.1.json.gz.\n",
            "\n",
            "  0%|          | 0/1 [00:00<?, ?it/s]\u001b[A"
          ]
        },
        {
          "output_type": "stream",
          "name": "stdout",
          "text": [
            "Input Video ID: UTuSPu3jAjA\n"
          ]
        },
        {
          "output_type": "stream",
          "name": "stderr",
          "text": [
            "\n",
            "100%|██████████| 1/1 [00:01<00:00,  1.11s/it]"
          ]
        },
        {
          "output_type": "stream",
          "name": "stdout",
          "text": [
            "p1 [(52, 64), (207, 210)]\n",
            "p2 [(52, 64), (207, 210)]\n"
          ]
        },
        {
          "output_type": "stream",
          "name": "stderr",
          "text": [
            "\n"
          ]
        },
        {
          "output_type": "stream",
          "name": "stdout",
          "text": [
            "1/1 [==============================] - 0s 25ms/step\n",
            "ALL Available\n",
            "NLP: (52, 64)\n",
            "LSTM: (642, 662)\n",
            "DeiT (484, 500)\n",
            "\tPredicted=(0, 0),\n",
            "\tExpected=[[0, 0]]\n",
            "[youtube] Extracting URL: 1tLht5bsOsg\n",
            "[youtube] 1tLht5bsOsg: Downloading webpage\n",
            "[youtube] 1tLht5bsOsg: Downloading android player API JSON\n",
            "[youtube] Extracting URL: BMOUC8N4whM\n",
            "[youtube] BMOUC8N4whM: Downloading webpage\n",
            "[youtube] BMOUC8N4whM: Downloading android player API JSON\n",
            "[youtube] BMOUC8N4whM: Downloading MPD manifest\n",
            "BMOUC8N4whM [[0.0, 0.0]]\n",
            "[youtube] Extracting URL: https://www.youtube.com/watch?v=BMOUC8N4whM\n",
            "[youtube] BMOUC8N4whM: Downloading webpage\n",
            "[youtube] BMOUC8N4whM: Downloading android player API JSON\n",
            "[youtube] BMOUC8N4whM: Downloading MPD manifest\n",
            "[info] BMOUC8N4whM: Downloading 1 format(s): 247+251\n",
            "[info] There's no subtitles for the requested languages\n",
            "[youtube] Extracting URL: https://www.youtube.com/watch?v=BMOUC8N4whM\n",
            "[youtube] BMOUC8N4whM: Downloading webpage\n",
            "[youtube] BMOUC8N4whM: Downloading android player API JSON\n",
            "[youtube] BMOUC8N4whM: Downloading MPD manifest\n",
            "[info] BMOUC8N4whM: Downloading subtitles: en\n",
            "[info] BMOUC8N4whM: Downloading 1 format(s): 247+251\n",
            "[info] Writing video subtitles to: /content/TestFolder1/BMOUC8N4whM.en.vtt\n",
            "[download] Destination: /content/TestFolder1/BMOUC8N4whM.en.vtt\n",
            "[download] 100% of    1.95KiB in 00:00:00 at 30.56KiB/s\n",
            "Processing captions...\n",
            "100.00% elapsed: 0:00:00, remaining: 0:00:00"
          ]
        },
        {
          "output_type": "stream",
          "name": "stderr",
          "text": [
            "Opening /content/TestFolder2/data.1.json.gz for reading...\n",
            "Closed /content/TestFolder2/data.1.json.gz.\n",
            "\n",
            "  0%|          | 0/1 [00:00<?, ?it/s]\u001b[A"
          ]
        },
        {
          "output_type": "stream",
          "name": "stdout",
          "text": [
            "Input Video ID: BMOUC8N4whM\n"
          ]
        },
        {
          "output_type": "stream",
          "name": "stderr",
          "text": [
            "\r100%|██████████| 1/1 [00:00<00:00, 19.40it/s]"
          ]
        },
        {
          "output_type": "stream",
          "name": "stdout",
          "text": [
            "p1 []\n",
            "p2 []\n"
          ]
        },
        {
          "output_type": "stream",
          "name": "stderr",
          "text": [
            "\n"
          ]
        },
        {
          "output_type": "stream",
          "name": "stdout",
          "text": [
            "NLP & CNN Available\n",
            "NLP: (0, 0)\n",
            "LSTM: None\n",
            "DeiT (0, 0)\n",
            "\tPredicted=(0, 0),\n",
            "\tExpected=[[0.0, 0.0]]\n",
            "[youtube] Extracting URL: BE1Do16zhWc\n",
            "[youtube] BE1Do16zhWc: Downloading webpage\n",
            "[youtube] BE1Do16zhWc: Downloading android player API JSON\n",
            "[youtube] BE1Do16zhWc: Downloading tv embedded player API JSON\n",
            "[youtube] BE1Do16zhWc: Downloading web embedded client config\n",
            "[youtube] BE1Do16zhWc: Downloading player f55759b8\n",
            "[youtube] BE1Do16zhWc: Downloading web embedded player API JSON\n",
            "BE1Do16zhWc []\n",
            "[youtube] Extracting URL: https://www.youtube.com/watch?v=BE1Do16zhWc\n",
            "[youtube] BE1Do16zhWc: Downloading webpage\n",
            "[youtube] BE1Do16zhWc: Downloading android player API JSON\n",
            "[youtube] BE1Do16zhWc: Downloading tv embedded player API JSON\n",
            "[youtube] BE1Do16zhWc: Downloading web embedded client config\n",
            "[youtube] BE1Do16zhWc: Downloading player bbe1b497\n",
            "[youtube] BE1Do16zhWc: Downloading web embedded player API JSON\n",
            "[info] BE1Do16zhWc: Downloading 1 format(s): 248+251\n",
            "[info] There's no subtitles for the requested languages\n",
            "[youtube] Extracting URL: https://www.youtube.com/watch?v=BE1Do16zhWc\n",
            "[youtube] BE1Do16zhWc: Downloading webpage\n",
            "[youtube] BE1Do16zhWc: Downloading android player API JSON\n",
            "[youtube] BE1Do16zhWc: Downloading tv embedded player API JSON\n",
            "[youtube] BE1Do16zhWc: Downloading web embedded client config\n",
            "[youtube] BE1Do16zhWc: Downloading player bbe1b497\n",
            "[youtube] BE1Do16zhWc: Downloading web embedded player API JSON\n",
            "[info] BE1Do16zhWc: Downloading subtitles: en\n",
            "[info] BE1Do16zhWc: Downloading 1 format(s): 248+251\n",
            "[info] Writing video subtitles to: /content/TestFolder1/BE1Do16zhWc.en.vtt\n",
            "[download] Destination: /content/TestFolder1/BE1Do16zhWc.en.vtt\n",
            "[download] 100% of   81.22KiB in 00:00:00 at 861.96KiB/s\n",
            "Processing captions...\n",
            "100.00% elapsed: 0:00:00, remaining: 0:00:00"
          ]
        },
        {
          "output_type": "stream",
          "name": "stderr",
          "text": [
            "Opening /content/TestFolder2/data.1.json.gz for reading...\n",
            "Closed /content/TestFolder2/data.1.json.gz.\n",
            "\n",
            "  0%|          | 0/1 [00:00<?, ?it/s]\u001b[A"
          ]
        },
        {
          "output_type": "stream",
          "name": "stdout",
          "text": [
            "Input Video ID: BE1Do16zhWc\n"
          ]
        },
        {
          "output_type": "stream",
          "name": "stderr",
          "text": [
            "\n",
            "100%|██████████| 1/1 [00:00<00:00,  1.17it/s]"
          ]
        },
        {
          "output_type": "stream",
          "name": "stdout",
          "text": [
            "p1 [(16, 21), (100, 104), (None, None)]\n",
            "p2 [(16, 21), (100, 104), (None, None)]\n"
          ]
        },
        {
          "output_type": "stream",
          "name": "stderr",
          "text": [
            "\n"
          ]
        },
        {
          "output_type": "stream",
          "name": "stdout",
          "text": [
            "NLP & CNN Available\n",
            "NLP: (0, 0)\n",
            "LSTM: None\n",
            "DeiT (0, 0)\n",
            "\tPredicted=(0, 0),\n",
            "\tExpected=[[0, 0]]\n",
            "IOU: 0.6885848965848966\n",
            "Confusion matrix [[72745   508]\n",
            " [  563    86]]\n",
            "Accuracy 0.9855078347000081\n",
            "Precision 0.1447811447811448\n",
            "Recall 0.1325115562403698\n",
            "[youtube] Extracting URL: _qTE_qyVmWg\n",
            "[youtube] _qTE_qyVmWg: Downloading webpage\n",
            "[youtube] _qTE_qyVmWg: Downloading android player API JSON\n",
            "_qTE_qyVmWg [[298.855, 386.414]]\n",
            "[youtube] Extracting URL: https://www.youtube.com/watch?v=_qTE_qyVmWg\n",
            "[youtube] _qTE_qyVmWg: Downloading webpage\n",
            "[youtube] _qTE_qyVmWg: Downloading android player API JSON\n",
            "[info] _qTE_qyVmWg: Downloading subtitles: en\n",
            "[info] _qTE_qyVmWg: Downloading 1 format(s): 248+251\n",
            "[info] Writing video subtitles to: /content/TestFolder1/_qTE_qyVmWg.en.vtt\n",
            "[download] Destination: /content/TestFolder1/_qTE_qyVmWg.en.vtt\n",
            "[download] 100% of   15.94KiB in 00:00:00 at 304.01KiB/s\n",
            "Processing captions...\n",
            "100.00% elapsed: 0:00:00, remaining: 0:00:00"
          ]
        },
        {
          "output_type": "stream",
          "name": "stderr",
          "text": [
            "Opening /content/TestFolder2/data.1.json.gz for reading...\n",
            "Closed /content/TestFolder2/data.1.json.gz.\n",
            "\n",
            "  0%|          | 0/1 [00:00<?, ?it/s]\u001b[A"
          ]
        },
        {
          "output_type": "stream",
          "name": "stdout",
          "text": [
            "Input Video ID: _qTE_qyVmWg\n"
          ]
        },
        {
          "output_type": "stream",
          "name": "stderr",
          "text": [
            "\n",
            "100%|██████████| 1/1 [00:00<00:00,  1.07it/s]"
          ]
        },
        {
          "output_type": "stream",
          "name": "stdout",
          "text": [
            "p1 [(196, 199)]\n",
            "p2 [(196, 199)]\n"
          ]
        },
        {
          "output_type": "stream",
          "name": "stderr",
          "text": [
            "\n"
          ]
        },
        {
          "output_type": "stream",
          "name": "stdout",
          "text": [
            "1/1 [==============================] - 0s 40ms/step\n",
            "ALL Available\n",
            "NLP: (196, 199)\n",
            "LSTM: (313, 343)\n",
            "DeiT (477, 492)\n",
            "\tPredicted=(0, 0),\n",
            "\tExpected=[[298.855, 386.414]]\n",
            "[youtube] Extracting URL: 01ssHr-OE8M\n",
            "[youtube] 01ssHr-OE8M: Downloading webpage\n",
            "[youtube] 01ssHr-OE8M: Downloading android player API JSON\n",
            "01ssHr-OE8M [[0.0, 6.474586], [283.16415, 326.321]]\n",
            "[youtube] Extracting URL: https://www.youtube.com/watch?v=01ssHr-OE8M\n",
            "[youtube] 01ssHr-OE8M: Downloading webpage\n",
            "[youtube] 01ssHr-OE8M: Downloading android player API JSON\n",
            "[info] 01ssHr-OE8M: Downloading subtitles: en\n",
            "[info] 01ssHr-OE8M: Downloading 1 format(s): 248+251\n",
            "[info] Writing video subtitles to: /content/TestFolder1/01ssHr-OE8M.en.vtt\n",
            "[download] Destination: /content/TestFolder1/01ssHr-OE8M.en.vtt\n",
            "[download] 100% of    8.88KiB in 00:00:00 at 277.60KiB/s\n",
            "Processing captions...\n",
            "100.00% elapsed: 0:00:00, remaining: 0:00:00"
          ]
        },
        {
          "output_type": "stream",
          "name": "stderr",
          "text": [
            "Opening /content/TestFolder2/data.1.json.gz for reading...\n",
            "Closed /content/TestFolder2/data.1.json.gz.\n",
            "\n",
            "  0%|          | 0/1 [00:00<?, ?it/s]\u001b[A"
          ]
        },
        {
          "output_type": "stream",
          "name": "stdout",
          "text": [
            "Input Video ID: 01ssHr-OE8M\n"
          ]
        },
        {
          "output_type": "stream",
          "name": "stderr",
          "text": [
            "\n",
            "100%|██████████| 1/1 [00:00<00:00,  2.09it/s]"
          ]
        },
        {
          "output_type": "stream",
          "name": "stdout",
          "text": [
            "p1 [(0, 2)]\n",
            "p2 [(0, 2)]\n"
          ]
        },
        {
          "output_type": "stream",
          "name": "stderr",
          "text": [
            "\n"
          ]
        },
        {
          "output_type": "stream",
          "name": "stdout",
          "text": [
            "1/1 [==============================] - 0s 41ms/step\n",
            "ALL Available\n",
            "After reshape:  [[0.0, 6.474586]]\n",
            "NLP: (0, 2)\n",
            "LSTM: (39, 68)\n",
            "DeiT (288, 302)\n",
            "\tPredicted=(0, 0),\n",
            "\tExpected=[[0.0, 6.474586]]\n",
            "[youtube] Extracting URL: b54ePSm2FlY\n",
            "[youtube] b54ePSm2FlY: Downloading webpage\n",
            "[youtube] b54ePSm2FlY: Downloading android player API JSON\n",
            "b54ePSm2FlY []\n",
            "[youtube] Extracting URL: https://www.youtube.com/watch?v=b54ePSm2FlY\n",
            "[youtube] b54ePSm2FlY: Downloading webpage\n",
            "[youtube] b54ePSm2FlY: Downloading android player API JSON\n",
            "[info] b54ePSm2FlY: Downloading 1 format(s): 248+251\n",
            "[info] There's no subtitles for the requested languages\n",
            "[youtube] Extracting URL: https://www.youtube.com/watch?v=b54ePSm2FlY\n",
            "[youtube] b54ePSm2FlY: Downloading webpage\n",
            "[youtube] b54ePSm2FlY: Downloading android player API JSON\n",
            "[info] b54ePSm2FlY: Downloading subtitles: en\n",
            "[info] b54ePSm2FlY: Downloading 1 format(s): 248+251\n",
            "[info] Writing video subtitles to: /content/TestFolder1/b54ePSm2FlY.en.vtt\n",
            "[download] Destination: /content/TestFolder1/b54ePSm2FlY.en.vtt\n",
            "[download] 100% of   12.85KiB in 00:00:00 at 181.71KiB/s\n",
            "Processing captions...\n",
            "100.00% elapsed: 0:00:00, remaining: 0:00:00"
          ]
        },
        {
          "output_type": "stream",
          "name": "stderr",
          "text": [
            "Opening /content/TestFolder2/data.1.json.gz for reading...\n",
            "Closed /content/TestFolder2/data.1.json.gz.\n",
            "\n",
            "  0%|          | 0/1 [00:00<?, ?it/s]\u001b[A"
          ]
        },
        {
          "output_type": "stream",
          "name": "stdout",
          "text": [
            "Input Video ID: b54ePSm2FlY\n"
          ]
        },
        {
          "output_type": "stream",
          "name": "stderr",
          "text": [
            "\n",
            "100%|██████████| 1/1 [00:00<00:00,  4.19it/s]"
          ]
        },
        {
          "output_type": "stream",
          "name": "stdout",
          "text": [
            "p1 [(0, 4)]\n",
            "p2 [(0, 4)]\n"
          ]
        },
        {
          "output_type": "stream",
          "name": "stderr",
          "text": [
            "\n"
          ]
        },
        {
          "output_type": "stream",
          "name": "stdout",
          "text": [
            "NLP & CNN Available\n",
            "NLP: (0, 4)\n",
            "LSTM: None\n",
            "DeiT (20, 40)\n",
            "\tPredicted=(6, 14),\n",
            "\tExpected=[[0, 0]]\n",
            "[youtube] Extracting URL: B9MDemWFEEU\n",
            "[youtube] B9MDemWFEEU: Downloading webpage\n",
            "[youtube] B9MDemWFEEU: Downloading android player API JSON\n",
            "B9MDemWFEEU []\n",
            "[youtube] Extracting URL: https://www.youtube.com/watch?v=B9MDemWFEEU\n",
            "[youtube] B9MDemWFEEU: Downloading webpage\n",
            "[youtube] B9MDemWFEEU: Downloading android player API JSON\n",
            "[info] B9MDemWFEEU: Downloading 1 format(s): 303+251\n",
            "[info] There's no subtitles for the requested languages\n",
            "[youtube] Extracting URL: https://www.youtube.com/watch?v=B9MDemWFEEU\n",
            "[youtube] B9MDemWFEEU: Downloading webpage\n",
            "[youtube] B9MDemWFEEU: Downloading android player API JSON\n",
            "[info] B9MDemWFEEU: Downloading subtitles: en\n",
            "[info] B9MDemWFEEU: Downloading 1 format(s): 303+251\n",
            "[info] Writing video subtitles to: /content/TestFolder1/B9MDemWFEEU.en.vtt\n",
            "[download] Destination: /content/TestFolder1/B9MDemWFEEU.en.vtt\n",
            "[download] 100% of    6.98KiB in 00:00:00 at 140.91KiB/s\n",
            "Processing captions...\n",
            "100.00% elapsed: 0:00:00, remaining: 0:00:00"
          ]
        },
        {
          "output_type": "stream",
          "name": "stderr",
          "text": [
            "Opening /content/TestFolder2/data.1.json.gz for reading...\n",
            "Closed /content/TestFolder2/data.1.json.gz.\n",
            "\n",
            "  0%|          | 0/1 [00:00<?, ?it/s]\u001b[A"
          ]
        },
        {
          "output_type": "stream",
          "name": "stdout",
          "text": [
            "Input Video ID: B9MDemWFEEU\n"
          ]
        },
        {
          "output_type": "stream",
          "name": "stderr",
          "text": [
            "\n",
            "100%|██████████| 1/1 [00:00<00:00,  2.27it/s]"
          ]
        },
        {
          "output_type": "stream",
          "name": "stdout",
          "text": [
            "p1 [(32, 33)]\n",
            "p2 [(32, 33)]\n"
          ]
        },
        {
          "output_type": "stream",
          "name": "stderr",
          "text": [
            "\n"
          ]
        },
        {
          "output_type": "stream",
          "name": "stdout",
          "text": [
            "NLP & CNN Available\n",
            "NLP: (32, 33)\n",
            "LSTM: None\n",
            "DeiT (260, 275)\n",
            "\tPredicted=(100, 105),\n",
            "\tExpected=[[0, 0]]\n",
            "[youtube] Extracting URL: 6C2ZLQal2tY\n",
            "[youtube] 6C2ZLQal2tY: Downloading webpage\n",
            "[youtube] 6C2ZLQal2tY: Downloading android player API JSON\n",
            "6C2ZLQal2tY []\n",
            "[youtube] Extracting URL: https://www.youtube.com/watch?v=6C2ZLQal2tY\n",
            "[youtube] 6C2ZLQal2tY: Downloading webpage\n",
            "[youtube] 6C2ZLQal2tY: Downloading android player API JSON\n",
            "[info] 6C2ZLQal2tY: Downloading 1 format(s): 248+251\n",
            "[info] There's no subtitles for the requested languages\n",
            "[youtube] Extracting URL: https://www.youtube.com/watch?v=6C2ZLQal2tY\n",
            "[youtube] 6C2ZLQal2tY: Downloading webpage\n",
            "[youtube] 6C2ZLQal2tY: Downloading android player API JSON\n",
            "[info] 6C2ZLQal2tY: Downloading subtitles: en\n",
            "[info] 6C2ZLQal2tY: Downloading 1 format(s): 248+251\n",
            "[info] Writing video subtitles to: /content/TestFolder1/6C2ZLQal2tY.en.vtt\n",
            "[download] Destination: /content/TestFolder1/6C2ZLQal2tY.en.vtt\n",
            "[download] 100% of   17.20KiB in 00:00:00 at 443.27KiB/s\n",
            "Processing captions...\n",
            "100.00% elapsed: 0:00:00, remaining: 0:00:00"
          ]
        },
        {
          "output_type": "stream",
          "name": "stderr",
          "text": [
            "Opening /content/TestFolder2/data.1.json.gz for reading...\n",
            "Closed /content/TestFolder2/data.1.json.gz.\n",
            "\n",
            "  0%|          | 0/1 [00:00<?, ?it/s]\u001b[A"
          ]
        },
        {
          "output_type": "stream",
          "name": "stdout",
          "text": [
            "Input Video ID: 6C2ZLQal2tY\n"
          ]
        },
        {
          "output_type": "stream",
          "name": "stderr",
          "text": [
            "\n",
            "100%|██████████| 1/1 [00:00<00:00,  3.57it/s]"
          ]
        },
        {
          "output_type": "stream",
          "name": "stdout",
          "text": [
            "p1 []\n",
            "p2 []\n"
          ]
        },
        {
          "output_type": "stream",
          "name": "stderr",
          "text": [
            "\n"
          ]
        },
        {
          "output_type": "stream",
          "name": "stdout",
          "text": [
            "NLP & CNN Available\n",
            "NLP: (0, 0)\n",
            "LSTM: None\n",
            "DeiT (33, 51)\n",
            "\tPredicted=(9, 15),\n",
            "\tExpected=[[0, 0]]\n",
            "[youtube] Extracting URL: jDn7kwBYnyE\n",
            "[youtube] jDn7kwBYnyE: Downloading webpage\n",
            "[youtube] jDn7kwBYnyE: Downloading android player API JSON\n",
            "[youtube] Extracting URL: GeqPf_-E184\n",
            "[youtube] GeqPf_-E184: Downloading webpage\n",
            "[youtube] GeqPf_-E184: Downloading android player API JSON\n",
            "[youtube] Extracting URL: oN8yM6QPHzw\n",
            "[youtube] oN8yM6QPHzw: Downloading webpage\n",
            "[youtube] oN8yM6QPHzw: Downloading android player API JSON\n",
            "[youtube] oN8yM6QPHzw: Downloading MPD manifest\n",
            "oN8yM6QPHzw []\n",
            "[youtube] Extracting URL: https://www.youtube.com/watch?v=oN8yM6QPHzw\n",
            "[youtube] oN8yM6QPHzw: Downloading webpage\n",
            "[youtube] oN8yM6QPHzw: Downloading android player API JSON\n",
            "[youtube] oN8yM6QPHzw: Downloading MPD manifest\n",
            "[info] oN8yM6QPHzw: Downloading 1 format(s): 244+251\n",
            "[info] There's no subtitles for the requested languages\n",
            "[youtube] Extracting URL: https://www.youtube.com/watch?v=oN8yM6QPHzw\n",
            "[youtube] oN8yM6QPHzw: Downloading webpage\n",
            "[youtube] oN8yM6QPHzw: Downloading android player API JSON\n",
            "[youtube] oN8yM6QPHzw: Downloading MPD manifest\n",
            "[info] oN8yM6QPHzw: Downloading subtitles: en\n",
            "[info] oN8yM6QPHzw: Downloading 1 format(s): 244+251\n",
            "[info] Writing video subtitles to: /content/TestFolder1/oN8yM6QPHzw.en.vtt\n",
            "[download] Destination: /content/TestFolder1/oN8yM6QPHzw.en.vtt\n",
            "[download] 100% of   16.33KiB in 00:00:00 at 312.29KiB/s\n",
            "Processing captions...\n",
            "100.00% elapsed: 0:00:00, remaining: 0:00:00"
          ]
        },
        {
          "output_type": "stream",
          "name": "stderr",
          "text": [
            "Opening /content/TestFolder2/data.1.json.gz for reading...\n",
            "Closed /content/TestFolder2/data.1.json.gz.\n",
            "\n",
            "  0%|          | 0/1 [00:00<?, ?it/s]\u001b[A"
          ]
        },
        {
          "output_type": "stream",
          "name": "stdout",
          "text": [
            "Input Video ID: oN8yM6QPHzw\n"
          ]
        },
        {
          "output_type": "stream",
          "name": "stderr",
          "text": [
            "\n",
            "100%|██████████| 1/1 [00:00<00:00,  3.04it/s]"
          ]
        },
        {
          "output_type": "stream",
          "name": "stdout",
          "text": [
            "p1 [(None, None)]\n",
            "p2 [(None, None)]\n"
          ]
        },
        {
          "output_type": "stream",
          "name": "stderr",
          "text": [
            "\n"
          ]
        },
        {
          "output_type": "stream",
          "name": "stdout",
          "text": [
            "NLP & CNN Available\n",
            "NLP: (None, None)\n",
            "LSTM: None\n",
            "DeiT (3, 17)\n",
            "\tPredicted=(3, 17),\n",
            "\tExpected=[[0, 0]]\n",
            "[youtube] Extracting URL: DPmZoOC2npQ\n",
            "[youtube] DPmZoOC2npQ: Downloading webpage\n",
            "[youtube] DPmZoOC2npQ: Downloading android player API JSON\n",
            "[youtube] DPmZoOC2npQ: Downloading MPD manifest\n",
            "DPmZoOC2npQ []\n",
            "[youtube] Extracting URL: https://www.youtube.com/watch?v=DPmZoOC2npQ\n",
            "[youtube] DPmZoOC2npQ: Downloading webpage\n",
            "[youtube] DPmZoOC2npQ: Downloading android player API JSON\n",
            "[youtube] DPmZoOC2npQ: Downloading MPD manifest\n",
            "[info] DPmZoOC2npQ: Downloading 1 format(s): 248+251\n",
            "[info] There's no subtitles for the requested languages\n",
            "[youtube] Extracting URL: https://www.youtube.com/watch?v=DPmZoOC2npQ\n",
            "[youtube] DPmZoOC2npQ: Downloading webpage\n",
            "[youtube] DPmZoOC2npQ: Downloading android player API JSON\n",
            "[youtube] DPmZoOC2npQ: Downloading MPD manifest\n",
            "[info] DPmZoOC2npQ: Downloading subtitles: en\n",
            "[info] DPmZoOC2npQ: Downloading 1 format(s): 248+251\n",
            "[info] Writing video subtitles to: /content/TestFolder1/DPmZoOC2npQ.en.vtt\n",
            "[download] Destination: /content/TestFolder1/DPmZoOC2npQ.en.vtt\n",
            "[download] 100% of   25.60KiB in 00:00:00 at 592.98KiB/s\n",
            "Processing captions...\n",
            "100.00% elapsed: 0:00:00, remaining: 0:00:00"
          ]
        },
        {
          "output_type": "stream",
          "name": "stderr",
          "text": [
            "Opening /content/TestFolder2/data.1.json.gz for reading...\n",
            "Closed /content/TestFolder2/data.1.json.gz.\n",
            "\n",
            "  0%|          | 0/1 [00:00<?, ?it/s]\u001b[A"
          ]
        },
        {
          "output_type": "stream",
          "name": "stdout",
          "text": [
            "Input Video ID: DPmZoOC2npQ\n"
          ]
        },
        {
          "output_type": "stream",
          "name": "stderr",
          "text": [
            "\n",
            "100%|██████████| 1/1 [00:00<00:00,  2.88it/s]"
          ]
        },
        {
          "output_type": "stream",
          "name": "stdout",
          "text": [
            "p1 [(None, None)]\n",
            "p2 [(None, None)]\n"
          ]
        },
        {
          "output_type": "stream",
          "name": "stderr",
          "text": [
            "\n"
          ]
        },
        {
          "output_type": "stream",
          "name": "stdout",
          "text": [
            "NLP & CNN Available\n",
            "NLP: (None, None)\n",
            "LSTM: None\n",
            "DeiT (182, 196)\n",
            "\tPredicted=(182, 196),\n",
            "\tExpected=[[0, 0]]\n",
            "[youtube] Extracting URL: VZ-Wd2CwJ6o\n",
            "[youtube] VZ-Wd2CwJ6o: Downloading webpage\n",
            "[youtube] VZ-Wd2CwJ6o: Downloading android player API JSON\n",
            "[youtube] Extracting URL: 3ZPoiX_MTNY\n",
            "[youtube] 3ZPoiX_MTNY: Downloading webpage\n",
            "[youtube] 3ZPoiX_MTNY: Downloading android player API JSON\n",
            "3ZPoiX_MTNY []\n",
            "[youtube] Extracting URL: https://www.youtube.com/watch?v=3ZPoiX_MTNY\n",
            "[youtube] 3ZPoiX_MTNY: Downloading webpage\n",
            "[youtube] 3ZPoiX_MTNY: Downloading android player API JSON\n",
            "[info] 3ZPoiX_MTNY: Downloading 1 format(s): 313+251\n",
            "[info] There's no subtitles for the requested languages\n",
            "[youtube] Extracting URL: https://www.youtube.com/watch?v=3ZPoiX_MTNY\n",
            "[youtube] 3ZPoiX_MTNY: Downloading webpage\n",
            "[youtube] 3ZPoiX_MTNY: Downloading android player API JSON\n",
            "[info] 3ZPoiX_MTNY: Downloading subtitles: en\n",
            "[info] 3ZPoiX_MTNY: Downloading 1 format(s): 313+251\n",
            "[info] Writing video subtitles to: /content/TestFolder1/3ZPoiX_MTNY.en.vtt\n",
            "[download] Destination: /content/TestFolder1/3ZPoiX_MTNY.en.vtt\n",
            "[download] 100% of   62.49KiB in 00:00:00 at 215.95KiB/s\n",
            "Processing captions...\n",
            "100.00% elapsed: 0:00:00, remaining: 0:00:00"
          ]
        },
        {
          "output_type": "stream",
          "name": "stderr",
          "text": [
            "Opening /content/TestFolder2/data.1.json.gz for reading...\n",
            "Closed /content/TestFolder2/data.1.json.gz.\n",
            "\n",
            "  0%|          | 0/1 [00:00<?, ?it/s]\u001b[A"
          ]
        },
        {
          "output_type": "stream",
          "name": "stdout",
          "text": [
            "Input Video ID: 3ZPoiX_MTNY\n"
          ]
        },
        {
          "output_type": "stream",
          "name": "stderr",
          "text": [
            "\n",
            "100%|██████████| 1/1 [00:00<00:00,  1.24it/s]"
          ]
        },
        {
          "output_type": "stream",
          "name": "stdout",
          "text": [
            "p1 [(138, 142)]\n",
            "p2 [(138, 142)]\n"
          ]
        },
        {
          "output_type": "stream",
          "name": "stderr",
          "text": [
            "\n"
          ]
        },
        {
          "output_type": "stream",
          "name": "stdout",
          "text": [
            "NLP & CNN Available\n",
            "NLP: (138, 142)\n",
            "LSTM: None\n",
            "DeiT (387, 404)\n",
            "\tPredicted=(212, 220),\n",
            "\tExpected=[[0, 0]]\n",
            "[youtube] Extracting URL: uArtB7RyBW8\n",
            "[youtube] uArtB7RyBW8: Downloading webpage\n",
            "[youtube] uArtB7RyBW8: Downloading android player API JSON\n"
          ]
        },
        {
          "output_type": "stream",
          "name": "stderr",
          "text": [
            "ERROR: [youtube] uArtB7RyBW8: Video unavailable. The uploader has not made this video available in your country\n"
          ]
        },
        {
          "output_type": "stream",
          "name": "stdout",
          "text": [
            "[youtube] Extracting URL: 9P4e6thHj7w\n",
            "[youtube] 9P4e6thHj7w: Downloading webpage\n",
            "[youtube] 9P4e6thHj7w: Downloading android player API JSON\n",
            "9P4e6thHj7w []\n",
            "[youtube] Extracting URL: https://www.youtube.com/watch?v=9P4e6thHj7w\n",
            "[youtube] 9P4e6thHj7w: Downloading webpage\n",
            "[youtube] 9P4e6thHj7w: Downloading android player API JSON\n",
            "[info] 9P4e6thHj7w: Downloading 1 format(s): 248+251\n",
            "[info] There's no subtitles for the requested languages\n",
            "[youtube] Extracting URL: https://www.youtube.com/watch?v=9P4e6thHj7w\n",
            "[youtube] 9P4e6thHj7w: Downloading webpage\n",
            "[youtube] 9P4e6thHj7w: Downloading android player API JSON\n",
            "[info] 9P4e6thHj7w: Downloading subtitles: en\n",
            "[info] 9P4e6thHj7w: Downloading 1 format(s): 248+251\n",
            "[info] Writing video subtitles to: /content/TestFolder1/9P4e6thHj7w.en.vtt\n",
            "[download] Destination: /content/TestFolder1/9P4e6thHj7w.en.vtt\n",
            "[download] 100% of   81.42KiB in 00:00:00 at 327.10KiB/s\n",
            "Processing captions...\n",
            "100.00% elapsed: 0:00:00, remaining: 0:00:00"
          ]
        },
        {
          "output_type": "stream",
          "name": "stderr",
          "text": [
            "Opening /content/TestFolder2/data.1.json.gz for reading...\n",
            "Closed /content/TestFolder2/data.1.json.gz.\n",
            "\n",
            "  0%|          | 0/1 [00:00<?, ?it/s]\u001b[A"
          ]
        },
        {
          "output_type": "stream",
          "name": "stdout",
          "text": [
            "Input Video ID: 9P4e6thHj7w\n"
          ]
        },
        {
          "output_type": "stream",
          "name": "stderr",
          "text": [
            "\n",
            "100%|██████████| 1/1 [00:01<00:00,  1.25s/it]"
          ]
        },
        {
          "output_type": "stream",
          "name": "stdout",
          "text": [
            "p1 [(128, 130)]\n",
            "p2 [(128, 130)]\n"
          ]
        },
        {
          "output_type": "stream",
          "name": "stderr",
          "text": [
            "\n"
          ]
        },
        {
          "output_type": "stream",
          "name": "stdout",
          "text": [
            "1/1 [==============================] - 0s 38ms/step\n",
            "ALL Available\n",
            "NLP: (128, 130)\n",
            "LSTM: (0, 0)\n",
            "DeiT (0, 0)\n",
            "\tPredicted=(0, 0),\n",
            "\tExpected=[[0, 0]]\n",
            "[youtube] Extracting URL: eGt38vp3fGI\n",
            "[youtube] eGt38vp3fGI: Downloading webpage\n",
            "[youtube] eGt38vp3fGI: Downloading android player API JSON\n",
            "[youtube] Extracting URL: 3n1u-LMiHhg\n",
            "[youtube] 3n1u-LMiHhg: Downloading webpage\n",
            "[youtube] 3n1u-LMiHhg: Downloading android player API JSON\n",
            "[youtube] Extracting URL: C4cgXq_uZaM\n",
            "[youtube] C4cgXq_uZaM: Downloading webpage\n",
            "[youtube] C4cgXq_uZaM: Downloading android player API JSON\n",
            "[youtube] Extracting URL: uXlQuTRSmzc\n",
            "[youtube] uXlQuTRSmzc: Downloading webpage\n",
            "[youtube] uXlQuTRSmzc: Downloading android player API JSON\n",
            "uXlQuTRSmzc [[0.0, 0.0], [384.111, 475.572], [480.86, 484.751]]\n",
            "[youtube] Extracting URL: https://www.youtube.com/watch?v=uXlQuTRSmzc\n",
            "[youtube] uXlQuTRSmzc: Downloading webpage\n",
            "[youtube] uXlQuTRSmzc: Downloading android player API JSON\n",
            "[info] uXlQuTRSmzc: Downloading subtitles: en\n",
            "[info] uXlQuTRSmzc: Downloading 1 format(s): 313+251\n",
            "[info] Writing video subtitles to: /content/TestFolder1/uXlQuTRSmzc.en.vtt\n",
            "[download] Destination: /content/TestFolder1/uXlQuTRSmzc.en.vtt\n",
            "[download] 100% of   14.03KiB in 00:00:00 at 526.98KiB/s\n",
            "Processing captions...\n",
            "100.00% elapsed: 0:00:00, remaining: 0:00:00"
          ]
        },
        {
          "output_type": "stream",
          "name": "stderr",
          "text": [
            "Opening /content/TestFolder2/data.1.json.gz for reading...\n",
            "Closed /content/TestFolder2/data.1.json.gz.\n",
            "\n",
            "  0%|          | 0/1 [00:00<?, ?it/s]\u001b[A"
          ]
        },
        {
          "output_type": "stream",
          "name": "stdout",
          "text": [
            "Input Video ID: uXlQuTRSmzc\n"
          ]
        },
        {
          "output_type": "stream",
          "name": "stderr",
          "text": [
            "\n",
            "100%|██████████| 1/1 [00:00<00:00,  1.29it/s]"
          ]
        },
        {
          "output_type": "stream",
          "name": "stdout",
          "text": [
            "p1 [(153, 157), (164, 168), (183, 187)]\n",
            "p2 [(153, 157), (164, 168), (183, 187)]\n"
          ]
        },
        {
          "output_type": "stream",
          "name": "stderr",
          "text": [
            "\n"
          ]
        },
        {
          "output_type": "stream",
          "name": "stdout",
          "text": [
            "1/1 [==============================] - 0s 26ms/step\n",
            "ALL Available\n",
            "After reshape:  [[384.111, 475.572]]\n",
            "NLP: (183, 187)\n",
            "LSTM: (117, 128)\n",
            "DeiT (227, 246)\n",
            "\tPredicted=(0, 0),\n",
            "\tExpected=[[384.111, 475.572]]\n",
            "IOU: 0.6651911976911977\n",
            "Confusion matrix [[76443   571]\n",
            " [  756    88]]\n",
            "Accuracy 0.9829561509414575\n",
            "Precision 0.13353566009104703\n",
            "Recall 0.10426540284360189\n",
            "[youtube] Extracting URL: 6pj0CSiPalY\n",
            "[youtube] 6pj0CSiPalY: Downloading webpage\n",
            "[youtube] 6pj0CSiPalY: Downloading android player API JSON\n",
            "[youtube] Extracting URL: 8LJ40KcjPwA\n",
            "[youtube] 8LJ40KcjPwA: Downloading webpage\n",
            "[youtube] 8LJ40KcjPwA: Downloading android player API JSON\n",
            "[youtube] 8LJ40KcjPwA: Downloading MPD manifest\n",
            "8LJ40KcjPwA []\n",
            "[youtube] Extracting URL: https://www.youtube.com/watch?v=8LJ40KcjPwA\n",
            "[youtube] 8LJ40KcjPwA: Downloading webpage\n",
            "[youtube] 8LJ40KcjPwA: Downloading android player API JSON\n",
            "[youtube] 8LJ40KcjPwA: Downloading MPD manifest\n",
            "[info] 8LJ40KcjPwA: Downloading 1 format(s): 303+251\n",
            "[info] There's no subtitles for the requested languages\n",
            "[youtube] Extracting URL: https://www.youtube.com/watch?v=8LJ40KcjPwA\n",
            "[youtube] 8LJ40KcjPwA: Downloading webpage\n",
            "[youtube] 8LJ40KcjPwA: Downloading android player API JSON\n",
            "[youtube] 8LJ40KcjPwA: Downloading MPD manifest\n",
            "[info] 8LJ40KcjPwA: Downloading subtitles: en\n",
            "[info] 8LJ40KcjPwA: Downloading 1 format(s): 303+251\n",
            "[info] Writing video subtitles to: /content/TestFolder1/8LJ40KcjPwA.en.vtt\n",
            "[download] Destination: /content/TestFolder1/8LJ40KcjPwA.en.vtt\n",
            "[download] 100% of   21.33KiB in 00:00:00 at 286.52KiB/s\n",
            "Processing captions...\n",
            "100.00% elapsed: 0:00:00, remaining: 0:00:00"
          ]
        },
        {
          "output_type": "stream",
          "name": "stderr",
          "text": [
            "Opening /content/TestFolder2/data.1.json.gz for reading...\n",
            "Closed /content/TestFolder2/data.1.json.gz.\n",
            "\n",
            "  0%|          | 0/1 [00:00<?, ?it/s]\u001b[A"
          ]
        },
        {
          "output_type": "stream",
          "name": "stdout",
          "text": [
            "Input Video ID: 8LJ40KcjPwA\n"
          ]
        },
        {
          "output_type": "stream",
          "name": "stderr",
          "text": [
            "\n",
            "100%|██████████| 1/1 [00:00<00:00,  2.80it/s]"
          ]
        },
        {
          "output_type": "stream",
          "name": "stdout",
          "text": [
            "p1 [(6, 10), (26, 29)]\n",
            "p2 [(6, 10), (26, 29)]\n"
          ]
        },
        {
          "output_type": "stream",
          "name": "stderr",
          "text": [
            "\n"
          ]
        },
        {
          "output_type": "stream",
          "name": "stdout",
          "text": [
            "NLP & CNN Available\n",
            "NLP: (6, 10)\n",
            "LSTM: None\n",
            "DeiT (1, 20)\n",
            "\tPredicted=(4, 13),\n",
            "\tExpected=[[0, 0]]\n",
            "[youtube] Extracting URL: 24vbWy0AzXY\n",
            "[youtube] 24vbWy0AzXY: Downloading webpage\n",
            "[youtube] 24vbWy0AzXY: Downloading android player API JSON\n",
            "24vbWy0AzXY []\n",
            "[youtube] Extracting URL: https://www.youtube.com/watch?v=24vbWy0AzXY\n",
            "[youtube] 24vbWy0AzXY: Downloading webpage\n",
            "[youtube] 24vbWy0AzXY: Downloading android player API JSON\n",
            "[info] 24vbWy0AzXY: Downloading 1 format(s): 308+251\n",
            "[info] There's no subtitles for the requested languages\n",
            "[youtube] Extracting URL: https://www.youtube.com/watch?v=24vbWy0AzXY\n",
            "[youtube] 24vbWy0AzXY: Downloading webpage\n",
            "[youtube] 24vbWy0AzXY: Downloading android player API JSON\n",
            "[info] 24vbWy0AzXY: Downloading subtitles: en\n",
            "[info] 24vbWy0AzXY: Downloading 1 format(s): 308+251\n",
            "[info] Writing video subtitles to: /content/TestFolder1/24vbWy0AzXY.en.vtt\n",
            "[download] Destination: /content/TestFolder1/24vbWy0AzXY.en.vtt\n",
            "[download] 100% of   76.19KiB in 00:00:00 at 303.50KiB/s\n",
            "Processing captions...\n",
            "100.00% elapsed: 0:00:00, remaining: 0:00:00"
          ]
        },
        {
          "output_type": "stream",
          "name": "stderr",
          "text": [
            "Opening /content/TestFolder2/data.1.json.gz for reading...\n",
            "Closed /content/TestFolder2/data.1.json.gz.\n",
            "\n",
            "  0%|          | 0/1 [00:00<?, ?it/s]\u001b[A"
          ]
        },
        {
          "output_type": "stream",
          "name": "stdout",
          "text": [
            "Input Video ID: 24vbWy0AzXY\n"
          ]
        },
        {
          "output_type": "stream",
          "name": "stderr",
          "text": [
            "\n",
            "100%|██████████| 1/1 [00:00<00:00,  1.15it/s]"
          ]
        },
        {
          "output_type": "stream",
          "name": "stdout",
          "text": [
            "p1 [(11, 23), (61, 62)]\n",
            "p2 [(11, 23), (61, 62)]\n"
          ]
        },
        {
          "output_type": "stream",
          "name": "stderr",
          "text": [
            "\n"
          ]
        },
        {
          "output_type": "stream",
          "name": "stdout",
          "text": [
            "1/1 [==============================] - 0s 26ms/step\n",
            "ALL Available\n",
            "NLP: (11, 23)\n",
            "LSTM: (0, 0)\n",
            "DeiT (13, 27)\n",
            "\tPredicted=(0, 0),\n",
            "\tExpected=[[0, 0]]\n",
            "[youtube] Extracting URL: nIUHDZgG_mI\n",
            "[youtube] nIUHDZgG_mI: Downloading webpage\n",
            "[youtube] nIUHDZgG_mI: Downloading android player API JSON\n",
            "nIUHDZgG_mI [[42.768997, 54.53047], [414.59198, 490.23965]]\n",
            "[youtube] Extracting URL: https://www.youtube.com/watch?v=nIUHDZgG_mI\n",
            "[youtube] nIUHDZgG_mI: Downloading webpage\n",
            "[youtube] nIUHDZgG_mI: Downloading android player API JSON\n",
            "[info] nIUHDZgG_mI: Downloading 1 format(s): 313+251\n",
            "[info] There's no subtitles for the requested languages\n",
            "[youtube] Extracting URL: https://www.youtube.com/watch?v=nIUHDZgG_mI\n",
            "[youtube] nIUHDZgG_mI: Downloading webpage\n",
            "[youtube] nIUHDZgG_mI: Downloading android player API JSON\n",
            "[info] nIUHDZgG_mI: Downloading subtitles: en\n",
            "[info] nIUHDZgG_mI: Downloading 1 format(s): 313+251\n",
            "[info] Writing video subtitles to: /content/TestFolder1/nIUHDZgG_mI.en.vtt\n",
            "[download] Destination: /content/TestFolder1/nIUHDZgG_mI.en.vtt\n",
            "[download] 100% of   66.29KiB in 00:00:00 at 1.49MiB/s\n",
            "Processing captions...\n",
            "100.00% elapsed: 0:00:00, remaining: 0:00:00"
          ]
        },
        {
          "output_type": "stream",
          "name": "stderr",
          "text": [
            "Opening /content/TestFolder2/data.1.json.gz for reading...\n",
            "Closed /content/TestFolder2/data.1.json.gz.\n",
            "\n",
            "  0%|          | 0/1 [00:00<?, ?it/s]\u001b[A"
          ]
        },
        {
          "output_type": "stream",
          "name": "stdout",
          "text": [
            "Input Video ID: nIUHDZgG_mI\n"
          ]
        },
        {
          "output_type": "stream",
          "name": "stderr",
          "text": [
            "\n",
            "100%|██████████| 1/1 [00:00<00:00,  1.16it/s]"
          ]
        },
        {
          "output_type": "stream",
          "name": "stdout",
          "text": [
            "p1 [(14, 16), (194, 197)]\n",
            "p2 [(14, 16), (194, 197)]\n"
          ]
        },
        {
          "output_type": "stream",
          "name": "stderr",
          "text": [
            "\n"
          ]
        },
        {
          "output_type": "stream",
          "name": "stdout",
          "text": [
            "1/1 [==============================] - 0s 26ms/step\n",
            "ALL Available\n",
            "After reshape:  [[42.768997, 54.53047]]\n",
            "NLP: (194, 197)\n",
            "LSTM: (0, 70)\n",
            "DeiT (37, 52)\n",
            "\tPredicted=(0, 0),\n",
            "\tExpected=[[42.768997, 54.53047]]\n",
            "[youtube] Extracting URL: wB3_d7dqOiE\n",
            "[youtube] wB3_d7dqOiE: Downloading webpage\n",
            "[youtube] wB3_d7dqOiE: Downloading android player API JSON\n",
            "[youtube] Extracting URL: UA-LVxPEtXM\n",
            "[youtube] UA-LVxPEtXM: Downloading webpage\n",
            "[youtube] UA-LVxPEtXM: Downloading android player API JSON\n",
            "[youtube] Extracting URL: CVvQEacKWUo\n",
            "[youtube] CVvQEacKWUo: Downloading webpage\n",
            "[youtube] CVvQEacKWUo: Downloading android player API JSON\n",
            "CVvQEacKWUo []\n",
            "[youtube] Extracting URL: https://www.youtube.com/watch?v=CVvQEacKWUo\n",
            "[youtube] CVvQEacKWUo: Downloading webpage\n",
            "[youtube] CVvQEacKWUo: Downloading android player API JSON\n",
            "[info] CVvQEacKWUo: Downloading subtitles: en\n",
            "[info] CVvQEacKWUo: Downloading 1 format(s): 313+251\n",
            "[info] Writing video subtitles to: /content/TestFolder1/CVvQEacKWUo.en.vtt\n",
            "[download] Destination: /content/TestFolder1/CVvQEacKWUo.en.vtt\n",
            "[download] 100% of   25.29KiB in 00:00:00 at 376.87KiB/s\n",
            "Processing captions...\n",
            "100.00% elapsed: 0:00:00, remaining: 0:00:00"
          ]
        },
        {
          "output_type": "stream",
          "name": "stderr",
          "text": [
            "Opening /content/TestFolder2/data.1.json.gz for reading...\n",
            "Closed /content/TestFolder2/data.1.json.gz.\n",
            "\n",
            "  0%|          | 0/1 [00:00<?, ?it/s]\u001b[A"
          ]
        },
        {
          "output_type": "stream",
          "name": "stdout",
          "text": [
            "Input Video ID: CVvQEacKWUo\n"
          ]
        },
        {
          "output_type": "stream",
          "name": "stderr",
          "text": [
            "\n",
            "100%|██████████| 1/1 [00:01<00:00,  1.41s/it]"
          ]
        },
        {
          "output_type": "stream",
          "name": "stdout",
          "text": [
            "p1 [(0, 1), (50, 53), (59, 66)]\n",
            "p2 [(0, 1), (50, 53), (59, 66)]\n"
          ]
        },
        {
          "output_type": "stream",
          "name": "stderr",
          "text": [
            "\n"
          ]
        },
        {
          "output_type": "stream",
          "name": "stdout",
          "text": [
            "NLP & CNN Available\n",
            "NLP: (59, 66)\n",
            "LSTM: None\n",
            "DeiT (148, 164)\n",
            "\tPredicted=(85, 95),\n",
            "\tExpected=[[0, 0]]\n",
            "[youtube] Extracting URL: RB7Q5GLUS4s\n",
            "[youtube] RB7Q5GLUS4s: Downloading webpage\n",
            "[youtube] RB7Q5GLUS4s: Downloading android player API JSON\n",
            "[youtube] RB7Q5GLUS4s: Downloading MPD manifest\n",
            "[youtube] Extracting URL: bMCFf-LkZ3c\n",
            "[youtube] bMCFf-LkZ3c: Downloading webpage\n",
            "[youtube] bMCFf-LkZ3c: Downloading android player API JSON\n",
            "[youtube] Extracting URL: QXVyCunZN2s\n",
            "[youtube] QXVyCunZN2s: Downloading webpage\n",
            "[youtube] QXVyCunZN2s: Downloading android player API JSON\n",
            "QXVyCunZN2s []\n",
            "[youtube] Extracting URL: https://www.youtube.com/watch?v=QXVyCunZN2s\n",
            "[youtube] QXVyCunZN2s: Downloading webpage\n",
            "[youtube] QXVyCunZN2s: Downloading android player API JSON\n",
            "[info] QXVyCunZN2s: Downloading 1 format(s): 248+251\n",
            "[info] There's no subtitles for the requested languages\n",
            "[youtube] Extracting URL: https://www.youtube.com/watch?v=QXVyCunZN2s\n",
            "[youtube] QXVyCunZN2s: Downloading webpage\n",
            "[youtube] QXVyCunZN2s: Downloading android player API JSON\n",
            "[info] QXVyCunZN2s: Downloading subtitles: en\n",
            "[info] QXVyCunZN2s: Downloading 1 format(s): 248+251\n",
            "[info] Writing video subtitles to: /content/TestFolder1/QXVyCunZN2s.en.vtt\n",
            "[download] Destination: /content/TestFolder1/QXVyCunZN2s.en.vtt\n",
            "[download] 100% of   74.43KiB in 00:00:00 at 286.05KiB/s\n",
            "Processing captions...\n",
            "100.00% elapsed: 0:00:00, remaining: 0:00:00"
          ]
        },
        {
          "output_type": "stream",
          "name": "stderr",
          "text": [
            "Opening /content/TestFolder2/data.1.json.gz for reading...\n",
            "Closed /content/TestFolder2/data.1.json.gz.\n",
            "\n",
            "  0%|          | 0/1 [00:00<?, ?it/s]\u001b[A"
          ]
        },
        {
          "output_type": "stream",
          "name": "stdout",
          "text": [
            "Input Video ID: QXVyCunZN2s\n"
          ]
        },
        {
          "output_type": "stream",
          "name": "stderr",
          "text": [
            "\n",
            "100%|██████████| 1/1 [00:00<00:00,  1.18it/s]"
          ]
        },
        {
          "output_type": "stream",
          "name": "stdout",
          "text": [
            "p1 [(0, 4), (60, 64), (117, 120), (213, 217)]\n",
            "p2 [(0, 4), (60, 64), (117, 120), (213, 217)]\n"
          ]
        },
        {
          "output_type": "stream",
          "name": "stderr",
          "text": [
            "\n"
          ]
        },
        {
          "output_type": "stream",
          "name": "stdout",
          "text": [
            "NLP & CNN Available\n",
            "NLP: (213, 217)\n",
            "LSTM: None\n",
            "DeiT (513, 529)\n",
            "\tPredicted=(303, 310),\n",
            "\tExpected=[[0, 0]]\n",
            "[youtube] Extracting URL: LzXoti3VVzk\n",
            "[youtube] LzXoti3VVzk: Downloading webpage\n",
            "[youtube] LzXoti3VVzk: Downloading android player API JSON\n",
            "[youtube] Extracting URL: hIFqQp-T-UI\n",
            "[youtube] hIFqQp-T-UI: Downloading webpage\n",
            "[youtube] hIFqQp-T-UI: Downloading android player API JSON\n",
            "[youtube] Extracting URL: 59-kFlEDMtE\n",
            "[youtube] 59-kFlEDMtE: Downloading webpage\n",
            "[youtube] 59-kFlEDMtE: Downloading android player API JSON\n",
            "[youtube] Extracting URL: tpUkL_eOqvU\n",
            "[youtube] tpUkL_eOqvU: Downloading webpage\n",
            "[youtube] tpUkL_eOqvU: Downloading android player API JSON\n",
            "tpUkL_eOqvU []\n",
            "[youtube] Extracting URL: https://www.youtube.com/watch?v=tpUkL_eOqvU\n",
            "[youtube] tpUkL_eOqvU: Downloading webpage\n",
            "[youtube] tpUkL_eOqvU: Downloading android player API JSON\n",
            "[info] tpUkL_eOqvU: Downloading 1 format(s): 248+251\n",
            "[info] There's no subtitles for the requested languages\n",
            "[youtube] Extracting URL: https://www.youtube.com/watch?v=tpUkL_eOqvU\n",
            "[youtube] tpUkL_eOqvU: Downloading webpage\n",
            "[youtube] tpUkL_eOqvU: Downloading android player API JSON\n",
            "[info] tpUkL_eOqvU: Downloading subtitles: en\n",
            "[info] tpUkL_eOqvU: Downloading 1 format(s): 248+251\n",
            "[info] Writing video subtitles to: /content/TestFolder1/tpUkL_eOqvU.en.vtt\n",
            "[download] Destination: /content/TestFolder1/tpUkL_eOqvU.en.vtt\n",
            "[download] 100% of   99.16KiB in 00:00:00 at 425.00KiB/s\n",
            "Processing captions...\n",
            "100.00% elapsed: 0:00:00, remaining: 0:00:00"
          ]
        },
        {
          "output_type": "stream",
          "name": "stderr",
          "text": [
            "Opening /content/TestFolder2/data.1.json.gz for reading...\n",
            "Closed /content/TestFolder2/data.1.json.gz.\n",
            "\n",
            "  0%|          | 0/1 [00:00<?, ?it/s]\u001b[A"
          ]
        },
        {
          "output_type": "stream",
          "name": "stdout",
          "text": [
            "Input Video ID: tpUkL_eOqvU\n"
          ]
        },
        {
          "output_type": "stream",
          "name": "stderr",
          "text": [
            "\n",
            "100%|██████████| 1/1 [00:01<00:00,  1.18s/it]"
          ]
        },
        {
          "output_type": "stream",
          "name": "stdout",
          "text": [
            "p1 [(4, 8), (219, 223)]\n",
            "p2 [(4, 8), (219, 223)]\n"
          ]
        },
        {
          "output_type": "stream",
          "name": "stderr",
          "text": [
            "\n"
          ]
        },
        {
          "output_type": "stream",
          "name": "stdout",
          "text": [
            "NLP & CNN Available\n",
            "NLP: (219, 223)\n",
            "LSTM: None\n",
            "DeiT (0, 0)\n",
            "\tPredicted=(153, 156),\n",
            "\tExpected=[[0, 0]]\n",
            "[youtube] Extracting URL: tUnWyGBEM7g\n",
            "[youtube] tUnWyGBEM7g: Downloading webpage\n",
            "[youtube] tUnWyGBEM7g: Downloading android player API JSON\n",
            "[youtube] Extracting URL: 2POX6tyuiGI\n",
            "[youtube] 2POX6tyuiGI: Downloading webpage\n",
            "[youtube] 2POX6tyuiGI: Downloading android player API JSON\n",
            "[youtube] 2POX6tyuiGI: Downloading MPD manifest\n",
            "2POX6tyuiGI []\n",
            "[youtube] Extracting URL: https://www.youtube.com/watch?v=2POX6tyuiGI\n",
            "[youtube] 2POX6tyuiGI: Downloading webpage\n",
            "[youtube] 2POX6tyuiGI: Downloading android player API JSON\n",
            "[youtube] 2POX6tyuiGI: Downloading MPD manifest\n",
            "[info] 2POX6tyuiGI: Downloading 1 format(s): 248+251\n",
            "[info] There's no subtitles for the requested languages\n",
            "[youtube] Extracting URL: https://www.youtube.com/watch?v=2POX6tyuiGI\n",
            "[youtube] 2POX6tyuiGI: Downloading webpage\n",
            "[youtube] 2POX6tyuiGI: Downloading android player API JSON\n",
            "[youtube] 2POX6tyuiGI: Downloading MPD manifest\n",
            "[info] 2POX6tyuiGI: Downloading subtitles: en\n",
            "[info] 2POX6tyuiGI: Downloading 1 format(s): 248+251\n",
            "[info] Writing video subtitles to: /content/TestFolder1/2POX6tyuiGI.en.vtt\n",
            "[download] Destination: /content/TestFolder1/2POX6tyuiGI.en.vtt\n",
            "[download] 100% of   14.82KiB in 00:00:00 at 59.53KiB/s\n",
            "Processing captions...\n",
            "100.00% elapsed: 0:00:00, remaining: 0:00:00"
          ]
        },
        {
          "output_type": "stream",
          "name": "stderr",
          "text": [
            "Opening /content/TestFolder2/data.1.json.gz for reading...\n",
            "Closed /content/TestFolder2/data.1.json.gz.\n",
            "\n",
            "  0%|          | 0/1 [00:00<?, ?it/s]\u001b[A"
          ]
        },
        {
          "output_type": "stream",
          "name": "stdout",
          "text": [
            "Input Video ID: 2POX6tyuiGI\n"
          ]
        },
        {
          "output_type": "stream",
          "name": "stderr",
          "text": [
            "\n",
            "100%|██████████| 1/1 [00:00<00:00,  3.94it/s]"
          ]
        },
        {
          "output_type": "stream",
          "name": "stdout",
          "text": [
            "p1 [(0, 1), (26, 27)]\n",
            "p2 [(0, 1), (26, 27)]\n"
          ]
        },
        {
          "output_type": "stream",
          "name": "stderr",
          "text": [
            "\n"
          ]
        },
        {
          "output_type": "stream",
          "name": "stdout",
          "text": [
            "NLP & CNN Available\n",
            "NLP: (26, 27)\n",
            "LSTM: None\n",
            "DeiT (117, 131)\n",
            "\tPredicted=(53, 58),\n",
            "\tExpected=[[0, 0]]\n",
            "[youtube] Extracting URL: wtchlz1rbJE\n",
            "[youtube] wtchlz1rbJE: Downloading webpage\n",
            "[youtube] wtchlz1rbJE: Downloading android player API JSON\n",
            "wtchlz1rbJE []\n",
            "[youtube] Extracting URL: https://www.youtube.com/watch?v=wtchlz1rbJE\n",
            "[youtube] wtchlz1rbJE: Downloading webpage\n",
            "[youtube] wtchlz1rbJE: Downloading android player API JSON\n",
            "[info] wtchlz1rbJE: Downloading 1 format(s): 302+251\n",
            "[info] There's no subtitles for the requested languages\n",
            "[youtube] Extracting URL: https://www.youtube.com/watch?v=wtchlz1rbJE\n",
            "[youtube] wtchlz1rbJE: Downloading webpage\n",
            "[youtube] wtchlz1rbJE: Downloading android player API JSON\n",
            "[info] wtchlz1rbJE: Downloading subtitles: en\n",
            "[info] wtchlz1rbJE: Downloading 1 format(s): 302+251\n",
            "[info] Writing video subtitles to: /content/TestFolder1/wtchlz1rbJE.en.vtt\n",
            "[download] Destination: /content/TestFolder1/wtchlz1rbJE.en.vtt\n",
            "[download] 100% of  127.17KiB in 00:00:00 at 2.03MiB/s\n",
            "Processing captions...\n",
            "100.00% elapsed: 0:00:00, remaining: 0:00:00"
          ]
        },
        {
          "output_type": "stream",
          "name": "stderr",
          "text": [
            "Opening /content/TestFolder2/data.1.json.gz for reading...\n",
            "Closed /content/TestFolder2/data.1.json.gz.\n",
            "\n",
            "  0%|          | 0/1 [00:00<?, ?it/s]\u001b[A"
          ]
        },
        {
          "output_type": "stream",
          "name": "stdout",
          "text": [
            "Input Video ID: wtchlz1rbJE\n"
          ]
        },
        {
          "output_type": "stream",
          "name": "stderr",
          "text": [
            "\n",
            "100%|██████████| 1/1 [00:01<00:00,  1.50s/it]"
          ]
        },
        {
          "output_type": "stream",
          "name": "stdout",
          "text": [
            "p1 [(294, 298)]\n",
            "p2 [(294, 298)]\n"
          ]
        },
        {
          "output_type": "stream",
          "name": "stderr",
          "text": [
            "\n"
          ]
        },
        {
          "output_type": "stream",
          "name": "stdout",
          "text": [
            "NLP & CNN Available\n",
            "NLP: (294, 298)\n",
            "LSTM: None\n",
            "DeiT (166, 182)\n",
            "\tPredicted=(255, 263),\n",
            "\tExpected=[[0, 0]]\n",
            "[youtube] Extracting URL: ComafZON75A\n",
            "[youtube] ComafZON75A: Downloading webpage\n",
            "[youtube] ComafZON75A: Downloading android player API JSON\n",
            "[youtube] Extracting URL: d-g2CvbY5gc\n",
            "[youtube] d-g2CvbY5gc: Downloading webpage\n",
            "[youtube] d-g2CvbY5gc: Downloading android player API JSON\n",
            "[youtube] d-g2CvbY5gc: Downloading MPD manifest\n",
            "d-g2CvbY5gc []\n",
            "[youtube] Extracting URL: https://www.youtube.com/watch?v=d-g2CvbY5gc\n",
            "[youtube] d-g2CvbY5gc: Downloading webpage\n",
            "[youtube] d-g2CvbY5gc: Downloading android player API JSON\n",
            "[youtube] d-g2CvbY5gc: Downloading MPD manifest\n",
            "[info] d-g2CvbY5gc: Downloading subtitles: en\n",
            "[info] d-g2CvbY5gc: Downloading 1 format(s): 248+251\n",
            "[info] Writing video subtitles to: /content/TestFolder1/d-g2CvbY5gc.en.vtt\n",
            "[download] Destination: /content/TestFolder1/d-g2CvbY5gc.en.vtt\n",
            "[download] 100% of    2.57KiB in 00:00:00 at 54.16KiB/s\n",
            "Processing captions...\n",
            "100.00% elapsed: 0:00:00, remaining: 0:00:00"
          ]
        },
        {
          "output_type": "stream",
          "name": "stderr",
          "text": [
            "Opening /content/TestFolder2/data.1.json.gz for reading...\n",
            "Closed /content/TestFolder2/data.1.json.gz.\n",
            "\n",
            "  0%|          | 0/1 [00:00<?, ?it/s]\u001b[A"
          ]
        },
        {
          "output_type": "stream",
          "name": "stdout",
          "text": [
            "Input Video ID: d-g2CvbY5gc\n"
          ]
        },
        {
          "output_type": "stream",
          "name": "stderr",
          "text": [
            "\n",
            "100%|██████████| 1/1 [00:00<00:00,  3.25it/s]"
          ]
        },
        {
          "output_type": "stream",
          "name": "stdout",
          "text": [
            "p1 [(4, 5), (10, 11), (14, 18), (None, None)]\n",
            "p2 [(4, 5), (10, 11), (14, 18), (None, None)]\n"
          ]
        },
        {
          "output_type": "stream",
          "name": "stderr",
          "text": [
            "\n"
          ]
        },
        {
          "output_type": "stream",
          "name": "stdout",
          "text": [
            "NLP & CNN Available\n",
            "NLP: (0, 0)\n",
            "LSTM: None\n",
            "DeiT (149, 164)\n",
            "\tPredicted=(44, 49),\n",
            "\tExpected=[[0, 0]]\n",
            "[youtube] Extracting URL: uCDvaJnIr1U\n",
            "[youtube] uCDvaJnIr1U: Downloading webpage\n",
            "[youtube] uCDvaJnIr1U: Downloading android player API JSON\n",
            "[youtube] Extracting URL: IsRLt3F13sY\n",
            "[youtube] IsRLt3F13sY: Downloading webpage\n",
            "[youtube] IsRLt3F13sY: Downloading android player API JSON\n",
            "IsRLt3F13sY []\n",
            "[youtube] Extracting URL: https://www.youtube.com/watch?v=IsRLt3F13sY\n",
            "[youtube] IsRLt3F13sY: Downloading webpage\n",
            "[youtube] IsRLt3F13sY: Downloading android player API JSON\n",
            "[info] IsRLt3F13sY: Downloading 1 format(s): 303+251\n",
            "[info] There's no subtitles for the requested languages\n",
            "[youtube] Extracting URL: https://www.youtube.com/watch?v=IsRLt3F13sY\n",
            "[youtube] IsRLt3F13sY: Downloading webpage\n",
            "[youtube] IsRLt3F13sY: Downloading android player API JSON\n",
            "[info] IsRLt3F13sY: Downloading subtitles: en\n",
            "[info] IsRLt3F13sY: Downloading 1 format(s): 303+251\n",
            "[info] Writing video subtitles to: /content/TestFolder1/IsRLt3F13sY.en.vtt\n",
            "[download] Destination: /content/TestFolder1/IsRLt3F13sY.en.vtt\n",
            "[download] 100% of   51.48KiB in 00:00:00 at 723.65KiB/s\n",
            "Processing captions...\n",
            "100.00% elapsed: 0:00:00, remaining: 0:00:00"
          ]
        },
        {
          "output_type": "stream",
          "name": "stderr",
          "text": [
            "Opening /content/TestFolder2/data.1.json.gz for reading...\n",
            "Closed /content/TestFolder2/data.1.json.gz.\n",
            "\n",
            "  0%|          | 0/1 [00:00<?, ?it/s]\u001b[A"
          ]
        },
        {
          "output_type": "stream",
          "name": "stdout",
          "text": [
            "Input Video ID: IsRLt3F13sY\n"
          ]
        },
        {
          "output_type": "stream",
          "name": "stderr",
          "text": [
            "\n",
            "100%|██████████| 1/1 [00:00<00:00,  1.38it/s]"
          ]
        },
        {
          "output_type": "stream",
          "name": "stdout",
          "text": [
            "p1 [(0, 5), (10, 14), (24, 34), (46, 50)]\n",
            "p2 [(0, 5), (10, 14), (24, 34), (46, 50)]\n"
          ]
        },
        {
          "output_type": "stream",
          "name": "stderr",
          "text": [
            "\n"
          ]
        },
        {
          "output_type": "stream",
          "name": "stdout",
          "text": [
            "NLP & CNN Available\n",
            "NLP: (24, 34)\n",
            "LSTM: None\n",
            "DeiT (0, 0)\n",
            "\tPredicted=(16, 23),\n",
            "\tExpected=[[0, 0]]\n",
            "IOU: 0.643709362532892\n",
            "Confusion matrix [[82063   634]\n",
            " [  777    89]]\n",
            "Accuracy 0.9831145363378528\n",
            "Precision 0.12309820193637622\n",
            "Recall 0.10277136258660508\n",
            "[youtube] Extracting URL: TwodWWxV4Bc\n",
            "[youtube] TwodWWxV4Bc: Downloading webpage\n",
            "[youtube] TwodWWxV4Bc: Downloading android player API JSON\n",
            "[youtube] Extracting URL: A9w_Si0rRek\n",
            "[youtube] A9w_Si0rRek: Downloading webpage\n",
            "[youtube] A9w_Si0rRek: Downloading android player API JSON\n",
            "[youtube] Extracting URL: Bnkpm62YUXo\n",
            "[youtube] Bnkpm62YUXo: Downloading webpage\n",
            "[youtube] Bnkpm62YUXo: Downloading android player API JSON\n",
            "Bnkpm62YUXo []\n",
            "[youtube] Extracting URL: https://www.youtube.com/watch?v=Bnkpm62YUXo\n",
            "[youtube] Bnkpm62YUXo: Downloading webpage\n",
            "[youtube] Bnkpm62YUXo: Downloading android player API JSON\n",
            "[info] Bnkpm62YUXo: Downloading 1 format(s): 247+251\n",
            "[info] There's no subtitles for the requested languages\n",
            "[youtube] Extracting URL: https://www.youtube.com/watch?v=Bnkpm62YUXo\n",
            "[youtube] Bnkpm62YUXo: Downloading webpage\n",
            "[youtube] Bnkpm62YUXo: Downloading android player API JSON\n",
            "[info] Bnkpm62YUXo: Downloading subtitles: en\n",
            "[info] Bnkpm62YUXo: Downloading 1 format(s): 247+251\n",
            "[info] Writing video subtitles to: /content/TestFolder1/Bnkpm62YUXo.en.vtt\n",
            "[download] Destination: /content/TestFolder1/Bnkpm62YUXo.en.vtt\n",
            "[download] 100% of    7.11KiB in 00:00:00 at 202.15KiB/s\n",
            "Processing captions...\n",
            "100.00% elapsed: 0:00:00, remaining: 0:00:00"
          ]
        },
        {
          "output_type": "stream",
          "name": "stderr",
          "text": [
            "Opening /content/TestFolder2/data.1.json.gz for reading...\n",
            "Closed /content/TestFolder2/data.1.json.gz.\n",
            "\n",
            "  0%|          | 0/1 [00:00<?, ?it/s]\u001b[A"
          ]
        },
        {
          "output_type": "stream",
          "name": "stdout",
          "text": [
            "Input Video ID: Bnkpm62YUXo\n",
            "p1 [(None, None)]\n"
          ]
        },
        {
          "output_type": "stream",
          "name": "stderr",
          "text": [
            "\n",
            "100%|██████████| 1/1 [00:00<00:00,  5.38it/s]\n"
          ]
        },
        {
          "output_type": "stream",
          "name": "stdout",
          "text": [
            "p2 [(None, None)]\n",
            "1/1 [==============================] - 0s 25ms/step\n",
            "ALL Available\n",
            "NLP: (None, None)\n",
            "LSTM: (90, 100)\n",
            "DeiT (74, 88)\n",
            "\tPredicted=(0, 0),\n",
            "\tExpected=[[0, 0]]\n",
            "[youtube] Extracting URL: ah_O30tkzA4\n",
            "[youtube] ah_O30tkzA4: Downloading webpage\n",
            "[youtube] ah_O30tkzA4: Downloading android player API JSON\n",
            "[youtube] Extracting URL: 4QmcsuvTzzY\n",
            "[youtube] 4QmcsuvTzzY: Downloading webpage\n",
            "[youtube] 4QmcsuvTzzY: Downloading android player API JSON\n"
          ]
        },
        {
          "output_type": "stream",
          "name": "stderr",
          "text": [
            "ERROR: [youtube] 4QmcsuvTzzY: Video unavailable\n"
          ]
        },
        {
          "output_type": "stream",
          "name": "stdout",
          "text": [
            "[youtube] Extracting URL: GX10rHjcqCI\n",
            "[youtube] GX10rHjcqCI: Downloading webpage\n",
            "[youtube] GX10rHjcqCI: Downloading android player API JSON\n",
            "GX10rHjcqCI []\n",
            "[youtube] Extracting URL: https://www.youtube.com/watch?v=GX10rHjcqCI\n",
            "[youtube] GX10rHjcqCI: Downloading webpage\n",
            "[youtube] GX10rHjcqCI: Downloading android player API JSON\n",
            "[info] GX10rHjcqCI: Downloading 1 format(s): 248+251\n",
            "[info] There's no subtitles for the requested languages\n",
            "[youtube] Extracting URL: https://www.youtube.com/watch?v=GX10rHjcqCI\n",
            "[youtube] GX10rHjcqCI: Downloading webpage\n",
            "[youtube] GX10rHjcqCI: Downloading android player API JSON\n",
            "[info] GX10rHjcqCI: Downloading subtitles: en\n",
            "[info] GX10rHjcqCI: Downloading 1 format(s): 248+251\n",
            "[info] Writing video subtitles to: /content/TestFolder1/GX10rHjcqCI.en.vtt\n",
            "[download] Destination: /content/TestFolder1/GX10rHjcqCI.en.vtt\n",
            "[download] 100% of   16.61KiB in 00:00:00 at 93.30KiB/s\n",
            "Processing captions...\n",
            "100.00% elapsed: 0:00:00, remaining: 0:00:00"
          ]
        },
        {
          "output_type": "stream",
          "name": "stderr",
          "text": [
            "Opening /content/TestFolder2/data.1.json.gz for reading...\n",
            "Closed /content/TestFolder2/data.1.json.gz.\n",
            "\n",
            "  0%|          | 0/1 [00:00<?, ?it/s]\u001b[A"
          ]
        },
        {
          "output_type": "stream",
          "name": "stdout",
          "text": [
            "Input Video ID: GX10rHjcqCI\n"
          ]
        },
        {
          "output_type": "stream",
          "name": "stderr",
          "text": [
            "\n",
            "100%|██████████| 1/1 [00:00<00:00,  3.24it/s]"
          ]
        },
        {
          "output_type": "stream",
          "name": "stdout",
          "text": [
            "p1 []\n",
            "p2 []\n"
          ]
        },
        {
          "output_type": "stream",
          "name": "stderr",
          "text": [
            "\n"
          ]
        },
        {
          "output_type": "stream",
          "name": "stdout",
          "text": [
            "NLP & CNN Available\n",
            "NLP: (0, 0)\n",
            "LSTM: None\n",
            "DeiT (12, 26)\n",
            "\tPredicted=(3, 7),\n",
            "\tExpected=[[0, 0]]\n",
            "[youtube] Extracting URL: 8EfNPNSrxhw\n",
            "[youtube] 8EfNPNSrxhw: Downloading webpage\n",
            "[youtube] 8EfNPNSrxhw: Downloading android player API JSON\n",
            "[youtube] Extracting URL: V60DbVRnHo4\n",
            "[youtube] V60DbVRnHo4: Downloading webpage\n",
            "[youtube] V60DbVRnHo4: Downloading android player API JSON\n",
            "[youtube] Extracting URL: IkideDaejA0\n",
            "[youtube] IkideDaejA0: Downloading webpage\n",
            "[youtube] IkideDaejA0: Downloading android player API JSON\n",
            "IkideDaejA0 []\n",
            "[youtube] Extracting URL: https://www.youtube.com/watch?v=IkideDaejA0\n",
            "[youtube] IkideDaejA0: Downloading webpage\n",
            "[youtube] IkideDaejA0: Downloading android player API JSON\n",
            "[info] IkideDaejA0: Downloading 1 format(s): 313+251\n",
            "[info] There's no subtitles for the requested languages\n",
            "[youtube] Extracting URL: https://www.youtube.com/watch?v=IkideDaejA0\n",
            "[youtube] IkideDaejA0: Downloading webpage\n",
            "[youtube] IkideDaejA0: Downloading android player API JSON\n",
            "[info] IkideDaejA0: Downloading subtitles: en\n",
            "[info] IkideDaejA0: Downloading 1 format(s): 313+251\n",
            "[info] Writing video subtitles to: /content/TestFolder1/IkideDaejA0.en.vtt\n",
            "[download] Destination: /content/TestFolder1/IkideDaejA0.en.vtt\n",
            "[download] 100% of   87.91KiB in 00:00:00 at 537.52KiB/s\n",
            "Processing captions...\n",
            "100.00% elapsed: 0:00:00, remaining: 0:00:00"
          ]
        },
        {
          "output_type": "stream",
          "name": "stderr",
          "text": [
            "Opening /content/TestFolder2/data.1.json.gz for reading...\n",
            "Closed /content/TestFolder2/data.1.json.gz.\n",
            "\n",
            "  0%|          | 0/1 [00:00<?, ?it/s]\u001b[A"
          ]
        },
        {
          "output_type": "stream",
          "name": "stdout",
          "text": [
            "Input Video ID: IkideDaejA0\n"
          ]
        },
        {
          "output_type": "stream",
          "name": "stderr",
          "text": [
            "\n",
            "100%|██████████| 1/1 [00:01<00:00,  1.00s/it]"
          ]
        },
        {
          "output_type": "stream",
          "name": "stdout",
          "text": [
            "p1 [(20, 23), (258, 263)]\n",
            "p2 [(20, 23), (258, 263)]\n"
          ]
        },
        {
          "output_type": "stream",
          "name": "stderr",
          "text": [
            "\n"
          ]
        },
        {
          "output_type": "stream",
          "name": "stdout",
          "text": [
            "1/1 [==============================] - 0s 54ms/step\n",
            "ALL Available\n",
            "NLP: (258, 263)\n",
            "LSTM: (496, 521)\n",
            "DeiT (528, 542)\n",
            "\tPredicted=(0, 0),\n",
            "\tExpected=[[0, 0]]\n",
            "[youtube] Extracting URL: rsKAA3Pg04g\n",
            "[youtube] rsKAA3Pg04g: Downloading webpage\n",
            "[youtube] rsKAA3Pg04g: Downloading android player API JSON\n",
            "rsKAA3Pg04g []\n",
            "[youtube] Extracting URL: https://www.youtube.com/watch?v=rsKAA3Pg04g\n",
            "[youtube] rsKAA3Pg04g: Downloading webpage\n",
            "[youtube] rsKAA3Pg04g: Downloading android player API JSON\n",
            "[info] rsKAA3Pg04g: Downloading 1 format(s): 313+251\n",
            "[info] There's no subtitles for the requested languages\n",
            "[youtube] Extracting URL: https://www.youtube.com/watch?v=rsKAA3Pg04g\n",
            "[youtube] rsKAA3Pg04g: Downloading webpage\n",
            "[youtube] rsKAA3Pg04g: Downloading android player API JSON\n",
            "[info] rsKAA3Pg04g: Downloading subtitles: en\n",
            "[info] rsKAA3Pg04g: Downloading 1 format(s): 313+251\n",
            "[info] Writing video subtitles to: /content/TestFolder1/rsKAA3Pg04g.en.vtt\n",
            "[download] Destination: /content/TestFolder1/rsKAA3Pg04g.en.vtt\n",
            "[download] 100% of   69.73KiB in 00:00:00 at 1.06MiB/s\n",
            "Processing captions...\n",
            "100.00% elapsed: 0:00:00, remaining: 0:00:00"
          ]
        },
        {
          "output_type": "stream",
          "name": "stderr",
          "text": [
            "Opening /content/TestFolder2/data.1.json.gz for reading...\n",
            "Closed /content/TestFolder2/data.1.json.gz.\n",
            "\n",
            "  0%|          | 0/1 [00:00<?, ?it/s]\u001b[A"
          ]
        },
        {
          "output_type": "stream",
          "name": "stdout",
          "text": [
            "Input Video ID: rsKAA3Pg04g\n"
          ]
        },
        {
          "output_type": "stream",
          "name": "stderr",
          "text": [
            "\n",
            "100%|██████████| 1/1 [00:00<00:00,  1.33it/s]"
          ]
        },
        {
          "output_type": "stream",
          "name": "stdout",
          "text": [
            "p1 [(24, 29), (35, 44)]\n",
            "p2 [(24, 29), (35, 44)]\n"
          ]
        },
        {
          "output_type": "stream",
          "name": "stderr",
          "text": [
            "\n"
          ]
        },
        {
          "output_type": "stream",
          "name": "stdout",
          "text": [
            "NLP & CNN Available\n",
            "NLP: (35, 44)\n",
            "LSTM: None\n",
            "DeiT (61, 76)\n",
            "\tPredicted=(42, 53),\n",
            "\tExpected=[[0, 0]]\n",
            "[youtube] Extracting URL: 1cucNFSjMEw\n",
            "[youtube] 1cucNFSjMEw: Downloading webpage\n",
            "[youtube] 1cucNFSjMEw: Downloading android player API JSON\n"
          ]
        },
        {
          "output_type": "stream",
          "name": "stderr",
          "text": [
            "ERROR: [youtube] 1cucNFSjMEw: Video unavailable. The uploader has not made this video available in your country\n"
          ]
        },
        {
          "output_type": "stream",
          "name": "stdout",
          "text": [
            "[youtube] Extracting URL: UrH0F8n42D0\n",
            "[youtube] UrH0F8n42D0: Downloading webpage\n",
            "[youtube] UrH0F8n42D0: Downloading android player API JSON\n",
            "[youtube] UrH0F8n42D0: Downloading MPD manifest\n",
            "[youtube] Extracting URL: Z8wxQpgHqfA\n",
            "[youtube] Z8wxQpgHqfA: Downloading webpage\n",
            "[youtube] Z8wxQpgHqfA: Downloading android player API JSON\n",
            "Z8wxQpgHqfA []\n",
            "[youtube] Extracting URL: https://www.youtube.com/watch?v=Z8wxQpgHqfA\n",
            "[youtube] Z8wxQpgHqfA: Downloading webpage\n",
            "[youtube] Z8wxQpgHqfA: Downloading android player API JSON\n",
            "[info] Z8wxQpgHqfA: Downloading subtitles: en\n",
            "[info] Z8wxQpgHqfA: Downloading 1 format(s): 248+251\n",
            "[info] Writing video subtitles to: /content/TestFolder1/Z8wxQpgHqfA.en.vtt\n",
            "[download] Destination: /content/TestFolder1/Z8wxQpgHqfA.en.vtt\n",
            "[download] 100% of    9.37KiB in 00:00:00 at 426.79KiB/s\n",
            "Processing captions...\n",
            "100.00% elapsed: 0:00:00, remaining: 0:00:00"
          ]
        },
        {
          "output_type": "stream",
          "name": "stderr",
          "text": [
            "Opening /content/TestFolder2/data.1.json.gz for reading...\n",
            "Closed /content/TestFolder2/data.1.json.gz.\n",
            "\n",
            "  0%|          | 0/1 [00:00<?, ?it/s]\u001b[A"
          ]
        },
        {
          "output_type": "stream",
          "name": "stdout",
          "text": [
            "Input Video ID: Z8wxQpgHqfA\n"
          ]
        },
        {
          "output_type": "stream",
          "name": "stderr",
          "text": [
            "\n",
            "100%|██████████| 1/1 [00:00<00:00,  1.91it/s]"
          ]
        },
        {
          "output_type": "stream",
          "name": "stdout",
          "text": [
            "p1 []\n",
            "p2 []\n"
          ]
        },
        {
          "output_type": "stream",
          "name": "stderr",
          "text": [
            "\n"
          ]
        },
        {
          "output_type": "stream",
          "name": "stdout",
          "text": [
            "NLP & CNN Available\n",
            "NLP: (0, 0)\n",
            "LSTM: None\n",
            "DeiT (0, 0)\n",
            "\tPredicted=(0, 0),\n",
            "\tExpected=[[0, 0]]\n",
            "[youtube] Extracting URL: alyDJysSzL4\n",
            "[youtube] alyDJysSzL4: Downloading webpage\n",
            "[youtube] alyDJysSzL4: Downloading android player API JSON\n",
            "[youtube] Extracting URL: DFV6eim5XV8\n",
            "[youtube] DFV6eim5XV8: Downloading webpage\n",
            "[youtube] DFV6eim5XV8: Downloading android player API JSON\n",
            "DFV6eim5XV8 []\n",
            "[youtube] Extracting URL: https://www.youtube.com/watch?v=DFV6eim5XV8\n",
            "[youtube] DFV6eim5XV8: Downloading webpage\n",
            "[youtube] DFV6eim5XV8: Downloading android player API JSON\n",
            "[info] DFV6eim5XV8: Downloading 1 format(s): 313+251\n",
            "[info] There's no subtitles for the requested languages\n",
            "[youtube] Extracting URL: https://www.youtube.com/watch?v=DFV6eim5XV8\n",
            "[youtube] DFV6eim5XV8: Downloading webpage\n",
            "[youtube] DFV6eim5XV8: Downloading android player API JSON\n",
            "[info] DFV6eim5XV8: Downloading subtitles: en\n",
            "[info] DFV6eim5XV8: Downloading 1 format(s): 313+251\n",
            "[info] Writing video subtitles to: /content/TestFolder1/DFV6eim5XV8.en.vtt\n",
            "[download] Destination: /content/TestFolder1/DFV6eim5XV8.en.vtt\n",
            "[download] 100% of   40.03KiB in 00:00:00 at 561.77KiB/s\n",
            "Processing captions...\n",
            "100.00% elapsed: 0:00:00, remaining: 0:00:00"
          ]
        },
        {
          "output_type": "stream",
          "name": "stderr",
          "text": [
            "Opening /content/TestFolder2/data.1.json.gz for reading...\n",
            "Closed /content/TestFolder2/data.1.json.gz.\n",
            "\n",
            "  0%|          | 0/1 [00:00<?, ?it/s]\u001b[A"
          ]
        },
        {
          "output_type": "stream",
          "name": "stdout",
          "text": [
            "Input Video ID: DFV6eim5XV8\n"
          ]
        },
        {
          "output_type": "stream",
          "name": "stderr",
          "text": [
            "\n",
            "100%|██████████| 1/1 [00:00<00:00,  1.95it/s]"
          ]
        },
        {
          "output_type": "stream",
          "name": "stdout",
          "text": [
            "p1 [(0, 8), (20, 24), (58, 62), (74, 85), (116, 124)]\n",
            "p2 [(0, 8), (20, 24), (58, 62), (74, 85), (116, 124)]\n"
          ]
        },
        {
          "output_type": "stream",
          "name": "stderr",
          "text": [
            "\n"
          ]
        },
        {
          "output_type": "stream",
          "name": "stdout",
          "text": [
            "NLP & CNN Available\n",
            "NLP: (74, 85)\n",
            "LSTM: None\n",
            "DeiT (269, 288)\n",
            "\tPredicted=(132, 145),\n",
            "\tExpected=[[0, 0]]\n",
            "[youtube] Extracting URL: RpL5Rx1jaK8\n",
            "[youtube] RpL5Rx1jaK8: Downloading webpage\n",
            "[youtube] RpL5Rx1jaK8: Downloading android player API JSON\n",
            "[youtube] RpL5Rx1jaK8: Downloading MPD manifest\n",
            "RpL5Rx1jaK8 []\n",
            "[youtube] Extracting URL: https://www.youtube.com/watch?v=RpL5Rx1jaK8\n",
            "[youtube] RpL5Rx1jaK8: Downloading webpage\n",
            "[youtube] RpL5Rx1jaK8: Downloading android player API JSON\n",
            "[youtube] RpL5Rx1jaK8: Downloading MPD manifest\n",
            "[info] RpL5Rx1jaK8: Downloading 1 format(s): 248+251\n",
            "[info] There's no subtitles for the requested languages\n",
            "[youtube] Extracting URL: https://www.youtube.com/watch?v=RpL5Rx1jaK8\n",
            "[youtube] RpL5Rx1jaK8: Downloading webpage\n",
            "[youtube] RpL5Rx1jaK8: Downloading android player API JSON\n",
            "[youtube] RpL5Rx1jaK8: Downloading MPD manifest\n",
            "[info] RpL5Rx1jaK8: Downloading subtitles: en\n",
            "[info] RpL5Rx1jaK8: Downloading 1 format(s): 248+251\n",
            "[info] Writing video subtitles to: /content/TestFolder1/RpL5Rx1jaK8.en.vtt\n",
            "[download] Destination: /content/TestFolder1/RpL5Rx1jaK8.en.vtt\n",
            "[download] 100% of   20.08KiB in 00:00:00 at 433.82KiB/s\n",
            "Processing captions...\n",
            "100.00% elapsed: 0:00:00, remaining: 0:00:00"
          ]
        },
        {
          "output_type": "stream",
          "name": "stderr",
          "text": [
            "Opening /content/TestFolder2/data.1.json.gz for reading...\n",
            "Closed /content/TestFolder2/data.1.json.gz.\n",
            "\n",
            "  0%|          | 0/1 [00:00<?, ?it/s]\u001b[A"
          ]
        },
        {
          "output_type": "stream",
          "name": "stdout",
          "text": [
            "Input Video ID: RpL5Rx1jaK8\n"
          ]
        },
        {
          "output_type": "stream",
          "name": "stderr",
          "text": [
            "\n",
            "100%|██████████| 1/1 [00:00<00:00,  4.06it/s]"
          ]
        },
        {
          "output_type": "stream",
          "name": "stdout",
          "text": [
            "p1 [(7, 12)]\n",
            "p2 [(7, 12)]\n"
          ]
        },
        {
          "output_type": "stream",
          "name": "stderr",
          "text": [
            "\n"
          ]
        },
        {
          "output_type": "stream",
          "name": "stdout",
          "text": [
            "NLP & CNN Available\n",
            "NLP: (7, 12)\n",
            "LSTM: None\n",
            "DeiT (0, 0)\n",
            "\tPredicted=(4, 8),\n",
            "\tExpected=[[0, 0]]\n",
            "[youtube] Extracting URL: MbJ2PddLWi0\n",
            "[youtube] MbJ2PddLWi0: Downloading webpage\n",
            "[youtube] MbJ2PddLWi0: Downloading android player API JSON\n",
            "[youtube] Extracting URL: 56W2ll-EDX8\n",
            "[youtube] 56W2ll-EDX8: Downloading webpage\n",
            "[youtube] 56W2ll-EDX8: Downloading android player API JSON\n",
            "[youtube] 56W2ll-EDX8: Downloading MPD manifest\n",
            "[youtube] Extracting URL: 4-gXn7N_mGw\n",
            "[youtube] 4-gXn7N_mGw: Downloading webpage\n",
            "[youtube] 4-gXn7N_mGw: Downloading android player API JSON\n",
            "[youtube] Extracting URL: NG-VVWpa2gA\n",
            "[youtube] NG-VVWpa2gA: Downloading webpage\n",
            "[youtube] NG-VVWpa2gA: Downloading android player API JSON\n",
            "[youtube] Extracting URL: CC6Op-H_I50\n",
            "[youtube] CC6Op-H_I50: Downloading webpage\n",
            "[youtube] CC6Op-H_I50: Downloading android player API JSON\n",
            "[youtube] Extracting URL: skRFfa4eD9U\n",
            "[youtube] skRFfa4eD9U: Downloading webpage\n",
            "[youtube] skRFfa4eD9U: Downloading android player API JSON\n",
            "skRFfa4eD9U []\n",
            "[youtube] Extracting URL: https://www.youtube.com/watch?v=skRFfa4eD9U\n",
            "[youtube] skRFfa4eD9U: Downloading webpage\n",
            "[youtube] skRFfa4eD9U: Downloading android player API JSON\n",
            "[info] skRFfa4eD9U: Downloading 1 format(s): 247+251\n",
            "[info] There's no subtitles for the requested languages\n",
            "[youtube] Extracting URL: https://www.youtube.com/watch?v=skRFfa4eD9U\n",
            "[youtube] skRFfa4eD9U: Downloading webpage\n",
            "[youtube] skRFfa4eD9U: Downloading android player API JSON\n",
            "[info] skRFfa4eD9U: Downloading subtitles: en\n",
            "[info] skRFfa4eD9U: Downloading 1 format(s): 247+251\n",
            "[info] Writing video subtitles to: /content/TestFolder1/skRFfa4eD9U.en.vtt\n",
            "[download] Destination: /content/TestFolder1/skRFfa4eD9U.en.vtt\n",
            "[download] 100% of   53.50KiB in 00:00:00 at 213.57KiB/s\n",
            "Processing captions...\n",
            "100.00% elapsed: 0:00:00, remaining: 0:00:00"
          ]
        },
        {
          "output_type": "stream",
          "name": "stderr",
          "text": [
            "Opening /content/TestFolder2/data.1.json.gz for reading...\n",
            "Closed /content/TestFolder2/data.1.json.gz.\n",
            "\n",
            "  0%|          | 0/1 [00:00<?, ?it/s]\u001b[A"
          ]
        },
        {
          "output_type": "stream",
          "name": "stdout",
          "text": [
            "Input Video ID: skRFfa4eD9U\n"
          ]
        },
        {
          "output_type": "stream",
          "name": "stderr",
          "text": [
            "\n",
            "100%|██████████| 1/1 [00:00<00:00,  1.52it/s]"
          ]
        },
        {
          "output_type": "stream",
          "name": "stdout",
          "text": [
            "p1 [(14, 19)]\n",
            "p2 [(14, 19)]\n"
          ]
        },
        {
          "output_type": "stream",
          "name": "stderr",
          "text": [
            "\n"
          ]
        },
        {
          "output_type": "stream",
          "name": "stdout",
          "text": [
            "1/1 [==============================] - 0s 26ms/step\n",
            "ALL Available\n",
            "NLP: (14, 19)\n",
            "LSTM: (0, 0)\n",
            "DeiT (29, 44)\n",
            "\tPredicted=(0, 0),\n",
            "\tExpected=[[0, 0]]\n",
            "[youtube] Extracting URL: usIWdUa7nc0\n",
            "[youtube] usIWdUa7nc0: Downloading webpage\n",
            "[youtube] usIWdUa7nc0: Downloading android player API JSON\n",
            "[youtube] usIWdUa7nc0: Downloading tv embedded player API JSON\n",
            "[youtube] usIWdUa7nc0: Downloading web embedded client config\n",
            "[youtube] usIWdUa7nc0: Downloading player bbe1b497\n",
            "[youtube] usIWdUa7nc0: Downloading web embedded player API JSON\n",
            "[youtube] Extracting URL: Zb6_jjukZ1Y\n",
            "[youtube] Zb6_jjukZ1Y: Downloading webpage\n",
            "[youtube] Zb6_jjukZ1Y: Downloading android player API JSON\n",
            "Zb6_jjukZ1Y []\n",
            "[youtube] Extracting URL: https://www.youtube.com/watch?v=Zb6_jjukZ1Y\n",
            "[youtube] Zb6_jjukZ1Y: Downloading webpage\n",
            "[youtube] Zb6_jjukZ1Y: Downloading android player API JSON\n",
            "[info] Zb6_jjukZ1Y: Downloading subtitles: en\n",
            "[info] Zb6_jjukZ1Y: Downloading 1 format(s): 303+251\n",
            "[info] Writing video subtitles to: /content/TestFolder1/Zb6_jjukZ1Y.en.vtt\n",
            "[download] Destination: /content/TestFolder1/Zb6_jjukZ1Y.en.vtt\n",
            "[download] 100% of    9.18KiB in 00:00:00 at 195.54KiB/s\n",
            "Processing captions...\n",
            "100.00% elapsed: 0:00:00, remaining: 0:00:00"
          ]
        },
        {
          "output_type": "stream",
          "name": "stderr",
          "text": [
            "Opening /content/TestFolder2/data.1.json.gz for reading...\n",
            "Closed /content/TestFolder2/data.1.json.gz.\n",
            "\n",
            "  0%|          | 0/1 [00:00<?, ?it/s]\u001b[A"
          ]
        },
        {
          "output_type": "stream",
          "name": "stdout",
          "text": [
            "Input Video ID: Zb6_jjukZ1Y\n"
          ]
        },
        {
          "output_type": "stream",
          "name": "stderr",
          "text": [
            "\n",
            "100%|██████████| 1/1 [00:00<00:00,  1.59it/s]"
          ]
        },
        {
          "output_type": "stream",
          "name": "stdout",
          "text": [
            "p1 []\n",
            "p2 []\n"
          ]
        },
        {
          "output_type": "stream",
          "name": "stderr",
          "text": [
            "\n"
          ]
        },
        {
          "output_type": "stream",
          "name": "stdout",
          "text": [
            "NLP & CNN Available\n",
            "NLP: (0, 0)\n",
            "LSTM: None\n",
            "DeiT (66, 83)\n",
            "\tPredicted=(19, 24),\n",
            "\tExpected=[[0, 0]]\n",
            "[youtube] Extracting URL: ETTceOCe6dk\n",
            "[youtube] ETTceOCe6dk: Downloading webpage\n",
            "[youtube] ETTceOCe6dk: Downloading android player API JSON\n",
            "[youtube] Extracting URL: DVSlyiZiBS4\n",
            "[youtube] DVSlyiZiBS4: Downloading webpage\n",
            "[youtube] DVSlyiZiBS4: Downloading android player API JSON\n",
            "[youtube] Extracting URL: 5gfzgx5orIM\n",
            "[youtube] 5gfzgx5orIM: Downloading webpage\n",
            "[youtube] 5gfzgx5orIM: Downloading android player API JSON\n",
            "5gfzgx5orIM [[284.45615, 314.00195]]\n",
            "[youtube] Extracting URL: https://www.youtube.com/watch?v=5gfzgx5orIM\n",
            "[youtube] 5gfzgx5orIM: Downloading webpage\n",
            "[youtube] 5gfzgx5orIM: Downloading android player API JSON\n",
            "[info] 5gfzgx5orIM: Downloading 1 format(s): 313+251\n",
            "[info] There's no subtitles for the requested languages\n",
            "[youtube] Extracting URL: https://www.youtube.com/watch?v=5gfzgx5orIM\n",
            "[youtube] 5gfzgx5orIM: Downloading webpage\n",
            "[youtube] 5gfzgx5orIM: Downloading android player API JSON\n",
            "[info] 5gfzgx5orIM: Downloading subtitles: en\n",
            "[info] 5gfzgx5orIM: Downloading 1 format(s): 313+251\n",
            "[info] Writing video subtitles to: /content/TestFolder1/5gfzgx5orIM.en.vtt\n",
            "[download] Destination: /content/TestFolder1/5gfzgx5orIM.en.vtt\n",
            "[download] 100% of   49.26KiB in 00:00:00 at 992.31KiB/s\n",
            "Processing captions...\n",
            "100.00% elapsed: 0:00:00, remaining: 0:00:00"
          ]
        },
        {
          "output_type": "stream",
          "name": "stderr",
          "text": [
            "Opening /content/TestFolder2/data.1.json.gz for reading...\n",
            "Closed /content/TestFolder2/data.1.json.gz.\n",
            "\n",
            "  0%|          | 0/1 [00:00<?, ?it/s]\u001b[A"
          ]
        },
        {
          "output_type": "stream",
          "name": "stdout",
          "text": [
            "Input Video ID: 5gfzgx5orIM\n"
          ]
        },
        {
          "output_type": "stream",
          "name": "stderr",
          "text": [
            "\n",
            "100%|██████████| 1/1 [00:00<00:00,  1.79it/s]"
          ]
        },
        {
          "output_type": "stream",
          "name": "stdout",
          "text": [
            "p1 [(126, 130), (135, 140)]\n",
            "p2 [(126, 130), (135, 140)]\n"
          ]
        },
        {
          "output_type": "stream",
          "name": "stderr",
          "text": [
            "\n"
          ]
        },
        {
          "output_type": "stream",
          "name": "stdout",
          "text": [
            "1/1 [==============================] - 0s 31ms/step\n",
            "ALL Available\n",
            "NLP: (135, 140)\n",
            "LSTM: (0, 0)\n",
            "DeiT (285, 299)\n",
            "\tPredicted=(0, 0),\n",
            "\tExpected=[[284.45615, 314.00195]]\n",
            "IOU: 0.641281064614398\n",
            "Confusion matrix [[85785   677]\n",
            " [  813    93]]\n",
            "Accuracy 0.982945700943137\n",
            "Precision 0.12077922077922078\n",
            "Recall 0.10264900662251655\n",
            "[youtube] Extracting URL: 60Eq8aGptw4\n",
            "[youtube] 60Eq8aGptw4: Downloading webpage\n",
            "[youtube] 60Eq8aGptw4: Downloading android player API JSON\n",
            "60Eq8aGptw4 [[100.322, 155.6]]\n",
            "[youtube] Extracting URL: https://www.youtube.com/watch?v=60Eq8aGptw4\n",
            "[youtube] 60Eq8aGptw4: Downloading webpage\n",
            "[youtube] 60Eq8aGptw4: Downloading android player API JSON\n",
            "[info] 60Eq8aGptw4: Downloading 1 format(s): 308+251\n",
            "[info] There's no subtitles for the requested languages\n",
            "[youtube] Extracting URL: https://www.youtube.com/watch?v=60Eq8aGptw4\n",
            "[youtube] 60Eq8aGptw4: Downloading webpage\n",
            "[youtube] 60Eq8aGptw4: Downloading android player API JSON\n",
            "[info] 60Eq8aGptw4: Downloading subtitles: en\n",
            "[info] 60Eq8aGptw4: Downloading 1 format(s): 308+251\n",
            "[info] Writing video subtitles to: /content/TestFolder1/60Eq8aGptw4.en.vtt\n",
            "[download] Destination: /content/TestFolder1/60Eq8aGptw4.en.vtt\n",
            "[download] 100% of   24.59KiB in 00:00:00 at 564.25KiB/s\n",
            "Processing captions...\n",
            "100.00% elapsed: 0:00:00, remaining: 0:00:00"
          ]
        },
        {
          "output_type": "stream",
          "name": "stderr",
          "text": [
            "Opening /content/TestFolder2/data.1.json.gz for reading...\n",
            "Closed /content/TestFolder2/data.1.json.gz.\n",
            "\n",
            "  0%|          | 0/1 [00:00<?, ?it/s]\u001b[A"
          ]
        },
        {
          "output_type": "stream",
          "name": "stdout",
          "text": [
            "Input Video ID: 60Eq8aGptw4\n"
          ]
        },
        {
          "output_type": "stream",
          "name": "stderr",
          "text": [
            "\n",
            "100%|██████████| 1/1 [00:00<00:00,  2.19it/s]"
          ]
        },
        {
          "output_type": "stream",
          "name": "stdout",
          "text": [
            "p1 [(20, 24), (54, 55)]\n",
            "p2 [(20, 24), (54, 55)]\n"
          ]
        },
        {
          "output_type": "stream",
          "name": "stderr",
          "text": [
            "\n"
          ]
        },
        {
          "output_type": "stream",
          "name": "stdout",
          "text": [
            "1/1 [==============================] - 0s 40ms/step\n",
            "ALL Available\n",
            "NLP: (20, 24)\n",
            "LSTM: (0, 0)\n",
            "DeiT (122, 141)\n",
            "\tPredicted=(0, 0),\n",
            "\tExpected=[[100.322, 155.6]]\n",
            "[youtube] Extracting URL: mky6MQgjMjc\n",
            "[youtube] mky6MQgjMjc: Downloading webpage\n",
            "[youtube] mky6MQgjMjc: Downloading android player API JSON\n",
            "[youtube] Extracting URL: U78xJINDSyc\n",
            "[youtube] U78xJINDSyc: Downloading webpage\n",
            "[youtube] U78xJINDSyc: Downloading android player API JSON\n",
            "U78xJINDSyc []\n",
            "[youtube] Extracting URL: https://www.youtube.com/watch?v=U78xJINDSyc\n",
            "[youtube] U78xJINDSyc: Downloading webpage\n",
            "[youtube] U78xJINDSyc: Downloading android player API JSON\n",
            "[info] U78xJINDSyc: Downloading subtitles: en\n",
            "[info] U78xJINDSyc: Downloading 1 format(s): 303+251\n",
            "[info] Writing video subtitles to: /content/TestFolder1/U78xJINDSyc.en.vtt\n",
            "[download] Destination: /content/TestFolder1/U78xJINDSyc.en.vtt\n",
            "[download] 100% of    3.52KiB in 00:00:00 at 108.74KiB/s\n",
            "Processing captions...\n",
            "100.00% elapsed: 0:00:00, remaining: 0:00:00"
          ]
        },
        {
          "output_type": "stream",
          "name": "stderr",
          "text": [
            "Opening /content/TestFolder2/data.1.json.gz for reading...\n",
            "Closed /content/TestFolder2/data.1.json.gz.\n",
            "\n",
            "  0%|          | 0/1 [00:00<?, ?it/s]\u001b[A"
          ]
        },
        {
          "output_type": "stream",
          "name": "stdout",
          "text": [
            "Input Video ID: U78xJINDSyc\n"
          ]
        },
        {
          "output_type": "stream",
          "name": "stderr",
          "text": [
            "\n",
            "100%|██████████| 1/1 [00:00<00:00,  2.91it/s]"
          ]
        },
        {
          "output_type": "stream",
          "name": "stdout",
          "text": [
            "p1 [(4, 6), (36, 39)]\n",
            "p2 [(4, 6), (36, 39)]\n"
          ]
        },
        {
          "output_type": "stream",
          "name": "stderr",
          "text": [
            "\n"
          ]
        },
        {
          "output_type": "stream",
          "name": "stdout",
          "text": [
            "NLP & CNN Available\n",
            "NLP: (36, 39)\n",
            "LSTM: None\n",
            "DeiT (92, 109)\n",
            "\tPredicted=(52, 59),\n",
            "\tExpected=[[0, 0]]\n",
            "[youtube] Extracting URL: 8dGl_9Kk18c\n",
            "[youtube] 8dGl_9Kk18c: Downloading webpage\n",
            "[youtube] 8dGl_9Kk18c: Downloading android player API JSON\n",
            "[youtube] Extracting URL: GvPjv5SNueY\n",
            "[youtube] GvPjv5SNueY: Downloading webpage\n",
            "[youtube] GvPjv5SNueY: Downloading android player API JSON\n",
            "GvPjv5SNueY []\n",
            "[youtube] Extracting URL: https://www.youtube.com/watch?v=GvPjv5SNueY\n",
            "[youtube] GvPjv5SNueY: Downloading webpage\n",
            "[youtube] GvPjv5SNueY: Downloading android player API JSON\n",
            "[info] GvPjv5SNueY: Downloading 1 format(s): 247+251\n",
            "[info] There's no subtitles for the requested languages\n",
            "[youtube] Extracting URL: https://www.youtube.com/watch?v=GvPjv5SNueY\n",
            "[youtube] GvPjv5SNueY: Downloading webpage\n",
            "[youtube] GvPjv5SNueY: Downloading android player API JSON\n",
            "[info] GvPjv5SNueY: Downloading subtitles: en\n",
            "[info] GvPjv5SNueY: Downloading 1 format(s): 247+251\n",
            "[info] Writing video subtitles to: /content/TestFolder1/GvPjv5SNueY.en.vtt\n",
            "[download] Destination: /content/TestFolder1/GvPjv5SNueY.en.vtt\n",
            "[download] 100% of   49.14KiB in 00:00:00 at 591.39KiB/s\n",
            "Processing captions...\n",
            "100.00% elapsed: 0:00:00, remaining: 0:00:00"
          ]
        },
        {
          "output_type": "stream",
          "name": "stderr",
          "text": [
            "Opening /content/TestFolder2/data.1.json.gz for reading...\n",
            "Closed /content/TestFolder2/data.1.json.gz.\n",
            "\n",
            "  0%|          | 0/1 [00:00<?, ?it/s]\u001b[A"
          ]
        },
        {
          "output_type": "stream",
          "name": "stdout",
          "text": [
            "Input Video ID: GvPjv5SNueY\n"
          ]
        },
        {
          "output_type": "stream",
          "name": "stderr",
          "text": [
            "\n",
            "100%|██████████| 1/1 [00:00<00:00,  1.69it/s]"
          ]
        },
        {
          "output_type": "stream",
          "name": "stdout",
          "text": [
            "p1 [(78, 81)]\n",
            "p2 [(78, 81)]\n"
          ]
        },
        {
          "output_type": "stream",
          "name": "stderr",
          "text": [
            "\n"
          ]
        },
        {
          "output_type": "stream",
          "name": "stdout",
          "text": [
            "NLP & CNN Available\n",
            "NLP: (78, 81)\n",
            "LSTM: None\n",
            "DeiT (0, 0)\n",
            "\tPredicted=(54, 56),\n",
            "\tExpected=[[0, 0]]\n",
            "[youtube] Extracting URL: mRBvBJo1s3Q\n",
            "[youtube] mRBvBJo1s3Q: Downloading webpage\n",
            "[youtube] mRBvBJo1s3Q: Downloading android player API JSON\n",
            "[youtube] Extracting URL: VBLKrWHKDqA\n",
            "[youtube] VBLKrWHKDqA: Downloading webpage\n",
            "[youtube] VBLKrWHKDqA: Downloading android player API JSON\n",
            "VBLKrWHKDqA []\n",
            "[youtube] Extracting URL: https://www.youtube.com/watch?v=VBLKrWHKDqA\n",
            "[youtube] VBLKrWHKDqA: Downloading webpage\n",
            "[youtube] VBLKrWHKDqA: Downloading android player API JSON\n",
            "[info] VBLKrWHKDqA: Downloading 1 format(s): 248+251\n",
            "[info] There's no subtitles for the requested languages\n",
            "[youtube] Extracting URL: https://www.youtube.com/watch?v=VBLKrWHKDqA\n",
            "[youtube] VBLKrWHKDqA: Downloading webpage\n",
            "[youtube] VBLKrWHKDqA: Downloading android player API JSON\n",
            "[info] VBLKrWHKDqA: Downloading subtitles: en\n",
            "[info] VBLKrWHKDqA: Downloading 1 format(s): 248+251\n",
            "[info] Writing video subtitles to: /content/TestFolder1/VBLKrWHKDqA.en.vtt\n",
            "[download] Destination: /content/TestFolder1/VBLKrWHKDqA.en.vtt\n",
            "[download] 100% of   67.60KiB in 00:00:00 at 346.08KiB/s\n",
            "Processing captions...\n",
            "100.00% elapsed: 0:00:00, remaining: 0:00:00"
          ]
        },
        {
          "output_type": "stream",
          "name": "stderr",
          "text": [
            "Opening /content/TestFolder2/data.1.json.gz for reading...\n",
            "Closed /content/TestFolder2/data.1.json.gz.\n",
            "\n",
            "  0%|          | 0/1 [00:00<?, ?it/s]\u001b[A"
          ]
        },
        {
          "output_type": "stream",
          "name": "stdout",
          "text": [
            "Input Video ID: VBLKrWHKDqA\n"
          ]
        },
        {
          "output_type": "stream",
          "name": "stderr",
          "text": [
            "\n",
            "100%|██████████| 1/1 [00:00<00:00,  1.33it/s]"
          ]
        },
        {
          "output_type": "stream",
          "name": "stdout",
          "text": [
            "p1 [(36, 39), (96, 99)]\n",
            "p2 [(36, 39), (96, 99)]\n"
          ]
        },
        {
          "output_type": "stream",
          "name": "stderr",
          "text": [
            "\n"
          ]
        },
        {
          "output_type": "stream",
          "name": "stdout",
          "text": [
            "1/1 [==============================] - 0s 25ms/step\n",
            "ALL Available\n",
            "NLP: (96, 99)\n",
            "LSTM: (53, 140)\n",
            "DeiT (240, 254)\n",
            "\tPredicted=(0, 0),\n",
            "\tExpected=[[0, 0]]\n",
            "[youtube] Extracting URL: m5R6u6z3Thc\n",
            "[youtube] m5R6u6z3Thc: Downloading webpage\n",
            "[youtube] m5R6u6z3Thc: Downloading android player API JSON\n",
            "[youtube] m5R6u6z3Thc: Downloading MPD manifest\n",
            "[youtube] Extracting URL: Me8QBgog45M\n",
            "[youtube] Me8QBgog45M: Downloading webpage\n",
            "[youtube] Me8QBgog45M: Downloading android player API JSON\n",
            "Me8QBgog45M []\n",
            "[youtube] Extracting URL: https://www.youtube.com/watch?v=Me8QBgog45M\n",
            "[youtube] Me8QBgog45M: Downloading webpage\n",
            "[youtube] Me8QBgog45M: Downloading android player API JSON\n",
            "[info] Me8QBgog45M: Downloading 1 format(s): 308+251\n",
            "[info] There's no subtitles for the requested languages\n",
            "[youtube] Extracting URL: https://www.youtube.com/watch?v=Me8QBgog45M\n",
            "[youtube] Me8QBgog45M: Downloading webpage\n",
            "[youtube] Me8QBgog45M: Downloading android player API JSON\n",
            "[youtube] Me8QBgog45M: Downloading player f55759b8\n",
            "[info] Me8QBgog45M: Downloading subtitles: en\n",
            "[info] Me8QBgog45M: Downloading 1 format(s): 308+251\n",
            "[info] Writing video subtitles to: /content/TestFolder1/Me8QBgog45M.en.vtt\n",
            "[download] Destination: /content/TestFolder1/Me8QBgog45M.en.vtt\n",
            "[download] 100% of    4.89KiB in 00:00:00 at 31.94KiB/s\n",
            "Processing captions...\n",
            "100.00% elapsed: 0:00:00, remaining: 0:00:00"
          ]
        },
        {
          "output_type": "stream",
          "name": "stderr",
          "text": [
            "Opening /content/TestFolder2/data.1.json.gz for reading...\n",
            "Closed /content/TestFolder2/data.1.json.gz.\n",
            "\n",
            "  0%|          | 0/1 [00:00<?, ?it/s]\u001b[A"
          ]
        },
        {
          "output_type": "stream",
          "name": "stdout",
          "text": [
            "Input Video ID: Me8QBgog45M\n"
          ]
        },
        {
          "output_type": "stream",
          "name": "stderr",
          "text": [
            "\r100%|██████████| 1/1 [00:00<00:00, 12.60it/s]"
          ]
        },
        {
          "output_type": "stream",
          "name": "stdout",
          "text": [
            "p1 [(6, 11)]\n",
            "p2 [(6, 11)]\n"
          ]
        },
        {
          "output_type": "stream",
          "name": "stderr",
          "text": [
            "\n"
          ]
        },
        {
          "output_type": "stream",
          "name": "stdout",
          "text": [
            "1/1 [==============================] - 0s 27ms/step\n",
            "ALL Available\n",
            "NLP: (6, 11)\n",
            "LSTM: (0, 0)\n",
            "DeiT (0, 0)\n",
            "\tPredicted=(0, 0),\n",
            "\tExpected=[[0, 0]]\n",
            "[youtube] Extracting URL: t2XncSTuJEY\n",
            "[youtube] t2XncSTuJEY: Downloading webpage\n",
            "[youtube] t2XncSTuJEY: Downloading android player API JSON\n",
            "[youtube] Extracting URL: kMP1dO5fgq4\n",
            "[youtube] kMP1dO5fgq4: Downloading webpage\n",
            "[youtube] kMP1dO5fgq4: Downloading android player API JSON\n",
            "kMP1dO5fgq4 []\n",
            "[youtube] Extracting URL: https://www.youtube.com/watch?v=kMP1dO5fgq4\n",
            "[youtube] kMP1dO5fgq4: Downloading webpage\n",
            "[youtube] kMP1dO5fgq4: Downloading android player API JSON\n",
            "[info] kMP1dO5fgq4: Downloading 1 format(s): 248+251\n",
            "[info] There's no subtitles for the requested languages\n",
            "[youtube] Extracting URL: https://www.youtube.com/watch?v=kMP1dO5fgq4\n",
            "[youtube] kMP1dO5fgq4: Downloading webpage\n",
            "[youtube] kMP1dO5fgq4: Downloading android player API JSON\n",
            "[info] kMP1dO5fgq4: Downloading subtitles: en\n",
            "[info] kMP1dO5fgq4: Downloading 1 format(s): 248+251\n",
            "[info] Writing video subtitles to: /content/TestFolder1/kMP1dO5fgq4.en.vtt\n",
            "[download] Destination: /content/TestFolder1/kMP1dO5fgq4.en.vtt\n",
            "[download] 100% of   19.30KiB in 00:00:00 at 309.43KiB/s\n",
            "Processing captions...\n",
            "100.00% elapsed: 0:00:00, remaining: 0:00:00"
          ]
        },
        {
          "output_type": "stream",
          "name": "stderr",
          "text": [
            "Opening /content/TestFolder2/data.1.json.gz for reading...\n",
            "Closed /content/TestFolder2/data.1.json.gz.\n",
            "\n",
            "  0%|          | 0/1 [00:00<?, ?it/s]\u001b[A"
          ]
        },
        {
          "output_type": "stream",
          "name": "stdout",
          "text": [
            "Input Video ID: kMP1dO5fgq4\n"
          ]
        },
        {
          "output_type": "stream",
          "name": "stderr",
          "text": [
            "\n",
            "100%|██████████| 1/1 [00:00<00:00,  3.02it/s]"
          ]
        },
        {
          "output_type": "stream",
          "name": "stdout",
          "text": [
            "p1 [(0, 5), (12, 28), (34, 38), (41, 45), (None, None)]\n",
            "p2 [(0, 5), (12, 28), (34, 38), (41, 45), (None, None)]\n"
          ]
        },
        {
          "output_type": "stream",
          "name": "stderr",
          "text": [
            "\n"
          ]
        },
        {
          "output_type": "stream",
          "name": "stdout",
          "text": [
            "1/1 [==============================] - 0s 25ms/step\n",
            "ALL Available\n",
            "NLP: (0, 0)\n",
            "LSTM: (556, 574)\n",
            "DeiT (324, 341)\n",
            "\tPredicted=(0, 0),\n",
            "\tExpected=[[0, 0]]\n",
            "[youtube] Extracting URL: XIHdIbZ2EEU\n",
            "[youtube] XIHdIbZ2EEU: Downloading webpage\n",
            "[youtube] XIHdIbZ2EEU: Downloading android player API JSON\n",
            "[youtube] XIHdIbZ2EEU: Downloading MPD manifest\n",
            "XIHdIbZ2EEU []\n",
            "[youtube] Extracting URL: https://www.youtube.com/watch?v=XIHdIbZ2EEU\n",
            "[youtube] XIHdIbZ2EEU: Downloading webpage\n",
            "[youtube] XIHdIbZ2EEU: Downloading android player API JSON\n",
            "[youtube] XIHdIbZ2EEU: Downloading MPD manifest\n",
            "[info] XIHdIbZ2EEU: Downloading 1 format(s): 248+140\n",
            "[info] There's no subtitles for the requested languages\n",
            "[youtube] Extracting URL: https://www.youtube.com/watch?v=XIHdIbZ2EEU\n",
            "[youtube] XIHdIbZ2EEU: Downloading webpage\n",
            "[youtube] XIHdIbZ2EEU: Downloading android player API JSON\n",
            "[youtube] XIHdIbZ2EEU: Downloading MPD manifest\n",
            "[info] XIHdIbZ2EEU: Downloading subtitles: en\n",
            "[info] XIHdIbZ2EEU: Downloading 1 format(s): 248+140\n",
            "[info] Writing video subtitles to: /content/TestFolder1/XIHdIbZ2EEU.en.vtt\n",
            "[download] Destination: /content/TestFolder1/XIHdIbZ2EEU.en.vtt\n",
            "[download] 100% of   14.42KiB in 00:00:00 at 322.08KiB/s\n",
            "Processing captions...\n",
            "100.00% elapsed: 0:00:00, remaining: 0:00:00"
          ]
        },
        {
          "output_type": "stream",
          "name": "stderr",
          "text": [
            "Opening /content/TestFolder2/data.1.json.gz for reading...\n",
            "Closed /content/TestFolder2/data.1.json.gz.\n",
            "\n",
            "  0%|          | 0/1 [00:00<?, ?it/s]\u001b[A"
          ]
        },
        {
          "output_type": "stream",
          "name": "stdout",
          "text": [
            "Input Video ID: XIHdIbZ2EEU\n"
          ]
        },
        {
          "output_type": "stream",
          "name": "stderr",
          "text": [
            "\n",
            "100%|██████████| 1/1 [00:00<00:00,  4.31it/s]"
          ]
        },
        {
          "output_type": "stream",
          "name": "stdout",
          "text": [
            "p1 [(16, 16)]\n",
            "p2 [(16, 16)]\n"
          ]
        },
        {
          "output_type": "stream",
          "name": "stderr",
          "text": [
            "\n"
          ]
        },
        {
          "output_type": "stream",
          "name": "stdout",
          "text": [
            "NLP & CNN Available\n",
            "NLP: (16, 16)\n",
            "LSTM: None\n",
            "DeiT (3, 21)\n",
            "\tPredicted=(12, 17),\n",
            "\tExpected=[[0, 0]]\n",
            "[youtube] Extracting URL: c7rjRxuZ4Uk\n",
            "[youtube] c7rjRxuZ4Uk: Downloading webpage\n",
            "[youtube] c7rjRxuZ4Uk: Downloading android player API JSON\n",
            "c7rjRxuZ4Uk []\n",
            "[youtube] Extracting URL: https://www.youtube.com/watch?v=c7rjRxuZ4Uk\n",
            "[youtube] c7rjRxuZ4Uk: Downloading webpage\n",
            "[youtube] c7rjRxuZ4Uk: Downloading android player API JSON\n",
            "[info] c7rjRxuZ4Uk: Downloading 1 format(s): 248+251\n",
            "[info] There's no subtitles for the requested languages\n",
            "[youtube] Extracting URL: https://www.youtube.com/watch?v=c7rjRxuZ4Uk\n",
            "[youtube] c7rjRxuZ4Uk: Downloading webpage\n",
            "[youtube] c7rjRxuZ4Uk: Downloading android player API JSON\n",
            "[info] c7rjRxuZ4Uk: Downloading subtitles: en\n",
            "[info] c7rjRxuZ4Uk: Downloading 1 format(s): 248+251\n",
            "[info] Writing video subtitles to: /content/TestFolder1/c7rjRxuZ4Uk.en.vtt\n",
            "[download] Destination: /content/TestFolder1/c7rjRxuZ4Uk.en.vtt\n",
            "[download] 100% of   56.87KiB in 00:00:00 at 215.45KiB/s\n",
            "Processing captions...\n",
            "100.00% elapsed: 0:00:00, remaining: 0:00:00"
          ]
        },
        {
          "output_type": "stream",
          "name": "stderr",
          "text": [
            "Opening /content/TestFolder2/data.1.json.gz for reading...\n",
            "Closed /content/TestFolder2/data.1.json.gz.\n",
            "\n",
            "  0%|          | 0/1 [00:00<?, ?it/s]\u001b[A"
          ]
        },
        {
          "output_type": "stream",
          "name": "stdout",
          "text": [
            "Input Video ID: c7rjRxuZ4Uk\n"
          ]
        },
        {
          "output_type": "stream",
          "name": "stderr",
          "text": [
            "\n",
            "100%|██████████| 1/1 [00:01<00:00,  1.16s/it]"
          ]
        },
        {
          "output_type": "stream",
          "name": "stdout",
          "text": [
            "p1 [(0, 3), (13, 17), (42, 43)]\n",
            "p2 [(0, 3), (13, 17), (42, 43)]\n"
          ]
        },
        {
          "output_type": "stream",
          "name": "stderr",
          "text": [
            "\n"
          ]
        },
        {
          "output_type": "stream",
          "name": "stdout",
          "text": [
            "1/1 [==============================] - 0s 30ms/step\n",
            "ALL Available\n",
            "NLP: (13, 17)\n",
            "LSTM: (0, 0)\n",
            "DeiT (0, 0)\n",
            "\tPredicted=(0, 0),\n",
            "\tExpected=[[0, 0]]\n",
            "[youtube] Extracting URL: lBwo37JodGc\n",
            "[youtube] lBwo37JodGc: Downloading webpage\n",
            "[youtube] lBwo37JodGc: Downloading android player API JSON\n",
            "lBwo37JodGc []\n",
            "[youtube] Extracting URL: https://www.youtube.com/watch?v=lBwo37JodGc\n",
            "[youtube] lBwo37JodGc: Downloading webpage\n",
            "[youtube] lBwo37JodGc: Downloading android player API JSON\n",
            "[info] lBwo37JodGc: Downloading subtitles: en-GB\n",
            "[info] lBwo37JodGc: Downloading 1 format(s): 313+251\n",
            "[info] Writing video subtitles to: /content/TestFolder1/lBwo37JodGc.en-GB.vtt\n",
            "[download] Destination: /content/TestFolder1/lBwo37JodGc.en-GB.vtt\n",
            "[download] 100% of    5.88KiB in 00:00:00 at 207.02KiB/s\n",
            "Processing captions...\n",
            "100.00% elapsed: 0:00:00, remaining: 0:00:00"
          ]
        },
        {
          "output_type": "stream",
          "name": "stderr",
          "text": [
            "Opening /content/TestFolder2/data.1.json.gz for reading...\n",
            "Closed /content/TestFolder2/data.1.json.gz.\n",
            "\n",
            "  0%|          | 0/1 [00:00<?, ?it/s]\u001b[A"
          ]
        },
        {
          "output_type": "stream",
          "name": "stdout",
          "text": [
            "Input Video ID: lBwo37JodGc\n"
          ]
        },
        {
          "output_type": "stream",
          "name": "stderr",
          "text": [
            "\n",
            "100%|██████████| 1/1 [00:00<00:00,  2.20it/s]"
          ]
        },
        {
          "output_type": "stream",
          "name": "stdout",
          "text": [
            "p1 [(0, 2), (31, 44)]\n",
            "p2 [(0, 2), (31, 44)]\n"
          ]
        },
        {
          "output_type": "stream",
          "name": "stderr",
          "text": [
            "\n"
          ]
        },
        {
          "output_type": "stream",
          "name": "stdout",
          "text": [
            "1/1 [==============================] - 0s 39ms/step\n",
            "ALL Available\n",
            "NLP: (31, 44)\n",
            "LSTM: (0, 0)\n",
            "DeiT (286, 301)\n",
            "\tPredicted=(0, 0),\n",
            "\tExpected=[[0, 0]]\n",
            "[youtube] Extracting URL: AUoK8rGt-Y8\n",
            "[youtube] AUoK8rGt-Y8: Downloading webpage\n",
            "[youtube] AUoK8rGt-Y8: Downloading android player API JSON\n",
            "AUoK8rGt-Y8 []\n",
            "[youtube] Extracting URL: https://www.youtube.com/watch?v=AUoK8rGt-Y8\n",
            "[youtube] AUoK8rGt-Y8: Downloading webpage\n",
            "[youtube] AUoK8rGt-Y8: Downloading android player API JSON\n",
            "[info] AUoK8rGt-Y8: Downloading 1 format(s): 303+251\n",
            "[info] There's no subtitles for the requested languages\n",
            "[youtube] Extracting URL: https://www.youtube.com/watch?v=AUoK8rGt-Y8\n",
            "[youtube] AUoK8rGt-Y8: Downloading webpage\n",
            "[youtube] AUoK8rGt-Y8: Downloading android player API JSON\n",
            "[info] AUoK8rGt-Y8: Downloading subtitles: en\n",
            "[info] AUoK8rGt-Y8: Downloading 1 format(s): 303+251\n",
            "[info] Writing video subtitles to: /content/TestFolder1/AUoK8rGt-Y8.en.vtt\n",
            "[download] Destination: /content/TestFolder1/AUoK8rGt-Y8.en.vtt\n",
            "[download] 100% of   89.36KiB in 00:00:00 at 851.76KiB/s\n",
            "Processing captions...\n",
            "100.00% elapsed: 0:00:00, remaining: 0:00:00"
          ]
        },
        {
          "output_type": "stream",
          "name": "stderr",
          "text": [
            "Opening /content/TestFolder2/data.1.json.gz for reading...\n",
            "Closed /content/TestFolder2/data.1.json.gz.\n",
            "\n",
            "  0%|          | 0/1 [00:00<?, ?it/s]\u001b[A"
          ]
        },
        {
          "output_type": "stream",
          "name": "stdout",
          "text": [
            "Input Video ID: AUoK8rGt-Y8\n"
          ]
        },
        {
          "output_type": "stream",
          "name": "stderr",
          "text": [
            "\n",
            "100%|██████████| 1/1 [00:01<00:00,  1.09s/it]"
          ]
        },
        {
          "output_type": "stream",
          "name": "stdout",
          "text": [
            "p1 [(5, 9), (47, 50), (61, 70), (238, 241)]\n",
            "p2 [(5, 9), (47, 50), (61, 70), (238, 241)]\n"
          ]
        },
        {
          "output_type": "stream",
          "name": "stderr",
          "text": [
            "\n"
          ]
        },
        {
          "output_type": "stream",
          "name": "stdout",
          "text": [
            "1/1 [==============================] - 0s 39ms/step\n",
            "ALL Available\n",
            "NLP: (61, 70)\n",
            "LSTM: (0, 0)\n",
            "DeiT (141, 158)\n",
            "\tPredicted=(0, 0),\n",
            "\tExpected=[[0, 0]]\n",
            "IOU: 0.6496346927925876\n",
            "Confusion matrix [[90236   695]\n",
            " [  872    99]]\n",
            "Accuracy 0.9829492285260386\n",
            "Precision 0.12468513853904283\n",
            "Recall 0.101956745623069\n",
            "[youtube] Extracting URL: 9AFnDw6tpdM\n",
            "[youtube] 9AFnDw6tpdM: Downloading webpage\n",
            "[youtube] 9AFnDw6tpdM: Downloading android player API JSON\n",
            "[youtube] Extracting URL: DbQzRcPqMMg\n",
            "[youtube] DbQzRcPqMMg: Downloading webpage\n",
            "[youtube] DbQzRcPqMMg: Downloading android player API JSON\n",
            "[youtube] Extracting URL: 1CCeVCETAnw\n",
            "[youtube] 1CCeVCETAnw: Downloading webpage\n",
            "[youtube] 1CCeVCETAnw: Downloading android player API JSON\n",
            "[youtube] Extracting URL: KXgM0XIE-Co\n",
            "[youtube] KXgM0XIE-Co: Downloading webpage\n",
            "[youtube] KXgM0XIE-Co: Downloading android player API JSON\n",
            "KXgM0XIE-Co []\n",
            "[youtube] Extracting URL: https://www.youtube.com/watch?v=KXgM0XIE-Co\n",
            "[youtube] KXgM0XIE-Co: Downloading webpage\n",
            "[youtube] KXgM0XIE-Co: Downloading android player API JSON\n",
            "[info] KXgM0XIE-Co: Downloading 1 format(s): 303+251\n",
            "[info] There's no subtitles for the requested languages\n",
            "[youtube] Extracting URL: https://www.youtube.com/watch?v=KXgM0XIE-Co\n",
            "[youtube] KXgM0XIE-Co: Downloading webpage\n",
            "[youtube] KXgM0XIE-Co: Downloading android player API JSON\n",
            "[info] KXgM0XIE-Co: Downloading subtitles: en\n",
            "[info] KXgM0XIE-Co: Downloading 1 format(s): 303+251\n",
            "[info] Writing video subtitles to: /content/TestFolder1/KXgM0XIE-Co.en.vtt\n",
            "[download] Destination: /content/TestFolder1/KXgM0XIE-Co.en.vtt\n",
            "[download] 100% of   78.28KiB in 00:00:00 at 309.39KiB/s\n",
            "Processing captions...\n",
            "100.00% elapsed: 0:00:00, remaining: 0:00:00"
          ]
        },
        {
          "output_type": "stream",
          "name": "stderr",
          "text": [
            "Opening /content/TestFolder2/data.1.json.gz for reading...\n",
            "Closed /content/TestFolder2/data.1.json.gz.\n",
            "\n",
            "  0%|          | 0/1 [00:00<?, ?it/s]\u001b[A"
          ]
        },
        {
          "output_type": "stream",
          "name": "stdout",
          "text": [
            "Input Video ID: KXgM0XIE-Co\n"
          ]
        },
        {
          "output_type": "stream",
          "name": "stderr",
          "text": [
            "\n",
            "100%|██████████| 1/1 [00:01<00:00,  1.09s/it]"
          ]
        },
        {
          "output_type": "stream",
          "name": "stdout",
          "text": [
            "p1 [(33, 37)]\n",
            "p2 [(33, 37)]\n"
          ]
        },
        {
          "output_type": "stream",
          "name": "stderr",
          "text": [
            "\n"
          ]
        },
        {
          "output_type": "stream",
          "name": "stdout",
          "text": [
            "NLP & CNN Available\n",
            "NLP: (33, 37)\n",
            "LSTM: None\n",
            "DeiT (68, 82)\n",
            "\tPredicted=(43, 50),\n",
            "\tExpected=[[0, 0]]\n",
            "[youtube] Extracting URL: mzdmMswjLQE\n",
            "[youtube] mzdmMswjLQE: Downloading webpage\n",
            "[youtube] mzdmMswjLQE: Downloading android player API JSON\n",
            "mzdmMswjLQE []\n",
            "[youtube] Extracting URL: https://www.youtube.com/watch?v=mzdmMswjLQE\n",
            "[youtube] mzdmMswjLQE: Downloading webpage\n",
            "[youtube] mzdmMswjLQE: Downloading android player API JSON\n",
            "[info] mzdmMswjLQE: Downloading subtitles: en\n",
            "[info] mzdmMswjLQE: Downloading 1 format(s): 248+251\n",
            "[info] Writing video subtitles to: /content/TestFolder1/mzdmMswjLQE.en.vtt\n",
            "[download] Destination: /content/TestFolder1/mzdmMswjLQE.en.vtt\n",
            "[download] 100% of   16.84KiB in 00:00:00 at 367.91KiB/s\n",
            "Processing captions...\n",
            "100.00% elapsed: 0:00:00, remaining: 0:00:00"
          ]
        },
        {
          "output_type": "stream",
          "name": "stderr",
          "text": [
            "Opening /content/TestFolder2/data.1.json.gz for reading...\n",
            "Closed /content/TestFolder2/data.1.json.gz.\n",
            "\n",
            "  0%|          | 0/1 [00:00<?, ?it/s]\u001b[A"
          ]
        },
        {
          "output_type": "stream",
          "name": "stdout",
          "text": [
            "Input Video ID: mzdmMswjLQE\n"
          ]
        },
        {
          "output_type": "stream",
          "name": "stderr",
          "text": [
            "\n",
            "100%|██████████| 1/1 [00:01<00:00,  1.37s/it]"
          ]
        },
        {
          "output_type": "stream",
          "name": "stdout",
          "text": [
            "p1 [(16, 17), (20, 21), (98, 99), (107, 109), (140, 143), (146, 148)]\n",
            "p2 [(16, 17), (20, 21), (98, 99), (107, 109), (140, 143), (146, 148)]\n"
          ]
        },
        {
          "output_type": "stream",
          "name": "stderr",
          "text": [
            "\n"
          ]
        },
        {
          "output_type": "stream",
          "name": "stdout",
          "text": [
            "1/1 [==============================] - 0s 26ms/step\n",
            "ALL Available\n",
            "NLP: (140, 143)\n",
            "LSTM: (0, 149)\n",
            "DeiT (0, 0)\n",
            "\tPredicted=(0, 0),\n",
            "\tExpected=[[0, 0]]\n",
            "[youtube] Extracting URL: hJoJwXkaD50\n",
            "[youtube] hJoJwXkaD50: Downloading webpage\n",
            "[youtube] hJoJwXkaD50: Downloading android player API JSON\n",
            "[youtube] Extracting URL: iwrMOlCl5aw\n",
            "[youtube] iwrMOlCl5aw: Downloading webpage\n",
            "[youtube] iwrMOlCl5aw: Downloading android player API JSON\n",
            "[youtube] Extracting URL: 31f9plPcQDM\n",
            "[youtube] 31f9plPcQDM: Downloading webpage\n",
            "[youtube] 31f9plPcQDM: Downloading android player API JSON\n",
            "[youtube] Extracting URL: rD-bZDsukbU\n",
            "[youtube] rD-bZDsukbU: Downloading webpage\n",
            "[youtube] rD-bZDsukbU: Downloading android player API JSON\n",
            "[youtube] Extracting URL: A_S8GTiq4sQ\n",
            "[youtube] A_S8GTiq4sQ: Downloading webpage\n",
            "[youtube] A_S8GTiq4sQ: Downloading android player API JSON\n",
            "A_S8GTiq4sQ [[0.0, 2.063]]\n",
            "[youtube] Extracting URL: https://www.youtube.com/watch?v=A_S8GTiq4sQ\n",
            "[youtube] A_S8GTiq4sQ: Downloading webpage\n",
            "[youtube] A_S8GTiq4sQ: Downloading android player API JSON\n",
            "[info] A_S8GTiq4sQ: Downloading 1 format(s): 303+251\n",
            "[info] There's no subtitles for the requested languages\n",
            "[youtube] Extracting URL: https://www.youtube.com/watch?v=A_S8GTiq4sQ\n",
            "[youtube] A_S8GTiq4sQ: Downloading webpage\n",
            "[youtube] A_S8GTiq4sQ: Downloading android player API JSON\n",
            "[info] A_S8GTiq4sQ: Downloading subtitles: en\n",
            "[info] A_S8GTiq4sQ: Downloading 1 format(s): 303+251\n",
            "[info] Writing video subtitles to: /content/TestFolder1/A_S8GTiq4sQ.en.vtt\n",
            "[download] Destination: /content/TestFolder1/A_S8GTiq4sQ.en.vtt\n",
            "[download] 100% of   96.11KiB in 00:00:00 at 2.57MiB/s\n",
            "Processing captions...\n",
            "100.00% elapsed: 0:00:00, remaining: 0:00:00"
          ]
        },
        {
          "output_type": "stream",
          "name": "stderr",
          "text": [
            "Opening /content/TestFolder2/data.1.json.gz for reading...\n",
            "Closed /content/TestFolder2/data.1.json.gz.\n",
            "\n",
            "  0%|          | 0/1 [00:00<?, ?it/s]\u001b[A"
          ]
        },
        {
          "output_type": "stream",
          "name": "stdout",
          "text": [
            "Input Video ID: A_S8GTiq4sQ\n"
          ]
        },
        {
          "output_type": "stream",
          "name": "stderr",
          "text": [
            "\n",
            "100%|██████████| 1/1 [00:01<00:00,  1.13s/it]"
          ]
        },
        {
          "output_type": "stream",
          "name": "stdout",
          "text": [
            "p1 [(0, 4), (106, 120), (126, 133), (277, 281)]\n",
            "p2 [(0, 4), (106, 120), (126, 133), (277, 281)]\n"
          ]
        },
        {
          "output_type": "stream",
          "name": "stderr",
          "text": [
            "\n"
          ]
        },
        {
          "output_type": "stream",
          "name": "stdout",
          "text": [
            "1/1 [==============================] - 0s 26ms/step\n",
            "ALL Available\n",
            "NLP: (106, 120)\n",
            "LSTM: (166, 200)\n",
            "DeiT (236, 253)\n",
            "\tPredicted=(0, 0),\n",
            "\tExpected=[[0.0, 2.063]]\n",
            "[youtube] Extracting URL: ZaZKZOCui5U\n",
            "[youtube] ZaZKZOCui5U: Downloading webpage\n",
            "[youtube] ZaZKZOCui5U: Downloading android player API JSON\n",
            "[youtube] Extracting URL: UoAU4GNJtkM\n",
            "[youtube] UoAU4GNJtkM: Downloading webpage\n",
            "[youtube] UoAU4GNJtkM: Downloading android player API JSON\n",
            "UoAU4GNJtkM []\n",
            "[youtube] Extracting URL: https://www.youtube.com/watch?v=UoAU4GNJtkM\n",
            "[youtube] UoAU4GNJtkM: Downloading webpage\n",
            "[youtube] UoAU4GNJtkM: Downloading android player API JSON\n",
            "[info] UoAU4GNJtkM: Downloading 1 format(s): 137+140\n",
            "[info] There's no subtitles for the requested languages\n",
            "[youtube] Extracting URL: https://www.youtube.com/watch?v=UoAU4GNJtkM\n",
            "[youtube] UoAU4GNJtkM: Downloading webpage\n",
            "[youtube] UoAU4GNJtkM: Downloading android player API JSON\n",
            "[info] UoAU4GNJtkM: Downloading subtitles: en\n",
            "[info] UoAU4GNJtkM: Downloading 1 format(s): 137+140\n",
            "[info] Writing video subtitles to: /content/TestFolder1/UoAU4GNJtkM.en.vtt\n",
            "[download] Destination: /content/TestFolder1/UoAU4GNJtkM.en.vtt\n",
            "[download] 100% of   74.30KiB in 00:00:00 at 920.26KiB/s\n",
            "Processing captions...\n",
            "100.00% elapsed: 0:00:00, remaining: 0:00:00"
          ]
        },
        {
          "output_type": "stream",
          "name": "stderr",
          "text": [
            "Opening /content/TestFolder2/data.1.json.gz for reading...\n",
            "Closed /content/TestFolder2/data.1.json.gz.\n",
            "\n",
            "  0%|          | 0/1 [00:00<?, ?it/s]\u001b[A"
          ]
        },
        {
          "output_type": "stream",
          "name": "stdout",
          "text": [
            "Input Video ID: UoAU4GNJtkM\n"
          ]
        },
        {
          "output_type": "stream",
          "name": "stderr",
          "text": [
            "\n",
            "100%|██████████| 1/1 [00:00<00:00,  1.28it/s]"
          ]
        },
        {
          "output_type": "stream",
          "name": "stdout",
          "text": [
            "p1 []\n",
            "p2 []\n"
          ]
        },
        {
          "output_type": "stream",
          "name": "stderr",
          "text": [
            "\n"
          ]
        },
        {
          "output_type": "stream",
          "name": "stdout",
          "text": [
            "NLP & CNN Available\n",
            "NLP: (0, 0)\n",
            "LSTM: None\n",
            "DeiT (109, 127)\n",
            "\tPredicted=(32, 38),\n",
            "\tExpected=[[0, 0]]\n",
            "[youtube] Extracting URL: lLVFM4tc5n0\n",
            "[youtube] lLVFM4tc5n0: Downloading webpage\n",
            "[youtube] lLVFM4tc5n0: Downloading android player API JSON\n",
            "[youtube] lLVFM4tc5n0: Downloading MPD manifest\n",
            "[youtube] Extracting URL: t8QhAC2jlAM\n",
            "[youtube] t8QhAC2jlAM: Downloading webpage\n",
            "[youtube] t8QhAC2jlAM: Downloading android player API JSON\n",
            "[youtube] Extracting URL: efFfrTFbd90\n",
            "[youtube] efFfrTFbd90: Downloading webpage\n",
            "[youtube] efFfrTFbd90: Downloading android player API JSON\n",
            "[youtube] Extracting URL: iasK3WOBdm0\n",
            "[youtube] iasK3WOBdm0: Downloading webpage\n",
            "[youtube] iasK3WOBdm0: Downloading android player API JSON\n"
          ]
        },
        {
          "output_type": "stream",
          "name": "stderr",
          "text": [
            "ERROR: [youtube] iasK3WOBdm0: Video unavailable\n"
          ]
        },
        {
          "output_type": "stream",
          "name": "stdout",
          "text": [
            "[youtube] Extracting URL: ELlAUSKJXpA\n",
            "[youtube] ELlAUSKJXpA: Downloading webpage\n",
            "[youtube] ELlAUSKJXpA: Downloading android player API JSON\n",
            "ELlAUSKJXpA []\n",
            "[youtube] Extracting URL: https://www.youtube.com/watch?v=ELlAUSKJXpA\n",
            "[youtube] ELlAUSKJXpA: Downloading webpage\n",
            "[youtube] ELlAUSKJXpA: Downloading android player API JSON\n",
            "[info] ELlAUSKJXpA: Downloading subtitles: en\n",
            "[info] ELlAUSKJXpA: Downloading 1 format(s): 303+251\n",
            "[info] Writing video subtitles to: /content/TestFolder1/ELlAUSKJXpA.en.vtt\n",
            "[download] Destination: /content/TestFolder1/ELlAUSKJXpA.en.vtt\n",
            "[download] 100% of    8.66KiB in 00:00:00 at 237.17KiB/s\n",
            "Processing captions...\n",
            "100.00% elapsed: 0:00:00, remaining: 0:00:00"
          ]
        },
        {
          "output_type": "stream",
          "name": "stderr",
          "text": [
            "Opening /content/TestFolder2/data.1.json.gz for reading...\n",
            "Closed /content/TestFolder2/data.1.json.gz.\n",
            "\n",
            "  0%|          | 0/1 [00:00<?, ?it/s]\u001b[A"
          ]
        },
        {
          "output_type": "stream",
          "name": "stdout",
          "text": [
            "Input Video ID: ELlAUSKJXpA\n"
          ]
        },
        {
          "output_type": "stream",
          "name": "stderr",
          "text": [
            "\n",
            "100%|██████████| 1/1 [00:00<00:00,  1.75it/s]"
          ]
        },
        {
          "output_type": "stream",
          "name": "stdout",
          "text": [
            "p1 [(0, 4), (9, 13), (41, 44), (70, 77), (108, 112)]\n",
            "p2 [(0, 4), (9, 13), (41, 44), (70, 77), (108, 112)]\n"
          ]
        },
        {
          "output_type": "stream",
          "name": "stderr",
          "text": [
            "\n"
          ]
        },
        {
          "output_type": "stream",
          "name": "stdout",
          "text": [
            "NLP & CNN Available\n",
            "NLP: (70, 77)\n",
            "LSTM: None\n",
            "DeiT (166, 180)\n",
            "\tPredicted=(98, 107),\n",
            "\tExpected=[[0, 0]]\n",
            "[youtube] Extracting URL: lh1NUFWsvXo\n",
            "[youtube] lh1NUFWsvXo: Downloading webpage\n",
            "[youtube] lh1NUFWsvXo: Downloading android player API JSON\n",
            "lh1NUFWsvXo []\n",
            "[youtube] Extracting URL: https://www.youtube.com/watch?v=lh1NUFWsvXo\n",
            "[youtube] lh1NUFWsvXo: Downloading webpage\n",
            "[youtube] lh1NUFWsvXo: Downloading android player API JSON\n",
            "[info] lh1NUFWsvXo: Downloading 1 format(s): 247+251\n",
            "[info] There's no subtitles for the requested languages\n",
            "[youtube] Extracting URL: https://www.youtube.com/watch?v=lh1NUFWsvXo\n",
            "[youtube] lh1NUFWsvXo: Downloading webpage\n",
            "[youtube] lh1NUFWsvXo: Downloading android player API JSON\n",
            "[info] lh1NUFWsvXo: Downloading subtitles: en\n",
            "[info] lh1NUFWsvXo: Downloading 1 format(s): 247+251\n",
            "[info] Writing video subtitles to: /content/TestFolder1/lh1NUFWsvXo.en.vtt\n",
            "[download] Destination: /content/TestFolder1/lh1NUFWsvXo.en.vtt\n",
            "[download] 100% of   45.06KiB in 00:00:00 at 509.53KiB/s\n",
            "Processing captions...\n",
            "100.00% elapsed: 0:00:00, remaining: 0:00:00"
          ]
        },
        {
          "output_type": "stream",
          "name": "stderr",
          "text": [
            "Opening /content/TestFolder2/data.1.json.gz for reading...\n",
            "Closed /content/TestFolder2/data.1.json.gz.\n",
            "\n",
            "  0%|          | 0/1 [00:00<?, ?it/s]\u001b[A"
          ]
        },
        {
          "output_type": "stream",
          "name": "stdout",
          "text": [
            "Input Video ID: lh1NUFWsvXo\n"
          ]
        },
        {
          "output_type": "stream",
          "name": "stderr",
          "text": [
            "\n",
            "100%|██████████| 1/1 [00:00<00:00,  1.88it/s]"
          ]
        },
        {
          "output_type": "stream",
          "name": "stdout",
          "text": [
            "p1 []\n",
            "p2 []\n"
          ]
        },
        {
          "output_type": "stream",
          "name": "stderr",
          "text": [
            "\n"
          ]
        },
        {
          "output_type": "stream",
          "name": "stdout",
          "text": [
            "1/1 [==============================] - 0s 27ms/step\n",
            "ALL Available\n",
            "NLP: (0, 0)\n",
            "LSTM: (51, 84)\n",
            "DeiT (0, 0)\n",
            "\tPredicted=(0, 0),\n",
            "\tExpected=[[0, 0]]\n",
            "[youtube] Extracting URL: LT3URAvKeHY\n",
            "[youtube] LT3URAvKeHY: Downloading webpage\n",
            "[youtube] LT3URAvKeHY: Downloading android player API JSON\n",
            "[youtube] Extracting URL: PEyjSHYCnhY\n",
            "[youtube] PEyjSHYCnhY: Downloading webpage\n",
            "[youtube] PEyjSHYCnhY: Downloading android player API JSON\n",
            "[youtube] Extracting URL: VFZfXDOm3I4\n",
            "[youtube] VFZfXDOm3I4: Downloading webpage\n",
            "[youtube] VFZfXDOm3I4: Downloading android player API JSON\n",
            "VFZfXDOm3I4 []\n",
            "[youtube] Extracting URL: https://www.youtube.com/watch?v=VFZfXDOm3I4\n",
            "[youtube] VFZfXDOm3I4: Downloading webpage\n",
            "[youtube] VFZfXDOm3I4: Downloading android player API JSON\n",
            "[info] VFZfXDOm3I4: Downloading subtitles: en\n",
            "[info] VFZfXDOm3I4: Downloading 1 format(s): 248+251\n",
            "[info] Writing video subtitles to: /content/TestFolder1/VFZfXDOm3I4.en.vtt\n",
            "[download] Destination: /content/TestFolder1/VFZfXDOm3I4.en.vtt\n",
            "[download] 100% of    958.00B in 00:00:00 at 17.85KiB/s\n",
            "Processing captions...\n",
            "100.00% elapsed: 0:00:00, remaining: 0:00:00"
          ]
        },
        {
          "output_type": "stream",
          "name": "stderr",
          "text": [
            "Opening /content/TestFolder2/data.1.json.gz for reading...\n",
            "Closed /content/TestFolder2/data.1.json.gz.\n",
            "\n",
            "  0%|          | 0/1 [00:00<?, ?it/s]\u001b[A"
          ]
        },
        {
          "output_type": "stream",
          "name": "stdout",
          "text": [
            "Input Video ID: VFZfXDOm3I4\n"
          ]
        },
        {
          "output_type": "stream",
          "name": "stderr",
          "text": [
            "\r100%|██████████| 1/1 [00:00<00:00, 13.76it/s]"
          ]
        },
        {
          "output_type": "stream",
          "name": "stdout",
          "text": [
            "p1 [(3, 5)]\n",
            "p2 [(3, 5)]\n"
          ]
        },
        {
          "output_type": "stream",
          "name": "stderr",
          "text": [
            "\n"
          ]
        },
        {
          "output_type": "stream",
          "name": "stdout",
          "text": [
            "NLP & CNN Available\n",
            "NLP: (3, 5)\n",
            "LSTM: None\n",
            "DeiT (0, 0)\n",
            "\tPredicted=(2, 3),\n",
            "\tExpected=[[0, 0]]\n",
            "[youtube] Extracting URL: Y2XgqKH2xDQ\n",
            "[youtube] Y2XgqKH2xDQ: Downloading webpage\n",
            "[youtube] Y2XgqKH2xDQ: Downloading android player API JSON\n",
            "Y2XgqKH2xDQ []\n",
            "[youtube] Extracting URL: https://www.youtube.com/watch?v=Y2XgqKH2xDQ\n",
            "[youtube] Y2XgqKH2xDQ: Downloading webpage\n",
            "[youtube] Y2XgqKH2xDQ: Downloading android player API JSON\n",
            "[info] Y2XgqKH2xDQ: Downloading 1 format(s): 303+251\n",
            "[info] There's no subtitles for the requested languages\n",
            "[youtube] Extracting URL: https://www.youtube.com/watch?v=Y2XgqKH2xDQ\n",
            "[youtube] Y2XgqKH2xDQ: Downloading webpage\n",
            "[youtube] Y2XgqKH2xDQ: Downloading android player API JSON\n",
            "[info] Y2XgqKH2xDQ: Downloading subtitles: en\n",
            "[info] Y2XgqKH2xDQ: Downloading 1 format(s): 303+251\n",
            "[info] Writing video subtitles to: /content/TestFolder1/Y2XgqKH2xDQ.en.vtt\n",
            "[download] Destination: /content/TestFolder1/Y2XgqKH2xDQ.en.vtt\n",
            "[download] 100% of   68.41KiB in 00:00:00 at 775.24KiB/s\n",
            "Processing captions...\n",
            "100.00% elapsed: 0:00:00, remaining: 0:00:00"
          ]
        },
        {
          "output_type": "stream",
          "name": "stderr",
          "text": [
            "Opening /content/TestFolder2/data.1.json.gz for reading...\n",
            "Closed /content/TestFolder2/data.1.json.gz.\n",
            "\n",
            "  0%|          | 0/1 [00:00<?, ?it/s]\u001b[A"
          ]
        },
        {
          "output_type": "stream",
          "name": "stdout",
          "text": [
            "Input Video ID: Y2XgqKH2xDQ\n"
          ]
        },
        {
          "output_type": "stream",
          "name": "stderr",
          "text": [
            "\n",
            "100%|██████████| 1/1 [00:01<00:00,  1.10s/it]"
          ]
        },
        {
          "output_type": "stream",
          "name": "stdout",
          "text": [
            "p1 [(20, 24), (52, 73), (172, 173)]\n",
            "p2 [(20, 24), (52, 73), (172, 173)]\n"
          ]
        },
        {
          "output_type": "stream",
          "name": "stderr",
          "text": [
            "\n"
          ]
        },
        {
          "output_type": "stream",
          "name": "stdout",
          "text": [
            "1/1 [==============================] - 0s 26ms/step\n",
            "ALL Available\n",
            "NLP: (52, 73)\n",
            "LSTM: (695, 717)\n",
            "DeiT (0, 0)\n",
            "\tPredicted=(0, 0),\n",
            "\tExpected=[[0, 0]]\n",
            "[youtube] Extracting URL: uVTDKsZUUEo\n",
            "[youtube] uVTDKsZUUEo: Downloading webpage\n",
            "[youtube] uVTDKsZUUEo: Downloading android player API JSON\n",
            "[youtube] Extracting URL: vpnoUoGZZzg\n",
            "[youtube] vpnoUoGZZzg: Downloading webpage\n",
            "[youtube] vpnoUoGZZzg: Downloading android player API JSON\n",
            "vpnoUoGZZzg []\n",
            "[youtube] Extracting URL: https://www.youtube.com/watch?v=vpnoUoGZZzg\n",
            "[youtube] vpnoUoGZZzg: Downloading webpage\n",
            "[youtube] vpnoUoGZZzg: Downloading android player API JSON\n",
            "[info] vpnoUoGZZzg: Downloading 1 format(s): 315+251\n",
            "[info] There's no subtitles for the requested languages\n",
            "[youtube] Extracting URL: https://www.youtube.com/watch?v=vpnoUoGZZzg\n",
            "[youtube] vpnoUoGZZzg: Downloading webpage\n",
            "[youtube] vpnoUoGZZzg: Downloading android player API JSON\n",
            "[info] vpnoUoGZZzg: Downloading subtitles: en\n",
            "[info] vpnoUoGZZzg: Downloading 1 format(s): 315+251\n",
            "[info] Writing video subtitles to: /content/TestFolder1/vpnoUoGZZzg.en.vtt\n",
            "[download] Destination: /content/TestFolder1/vpnoUoGZZzg.en.vtt\n",
            "[download] 100% of   98.84KiB in 00:00:00 at 386.91KiB/s\n",
            "Processing captions...\n",
            "100.00% elapsed: 0:00:00, remaining: 0:00:00"
          ]
        },
        {
          "output_type": "stream",
          "name": "stderr",
          "text": [
            "Opening /content/TestFolder2/data.1.json.gz for reading...\n",
            "Closed /content/TestFolder2/data.1.json.gz.\n",
            "\n",
            "  0%|          | 0/1 [00:00<?, ?it/s]\u001b[A"
          ]
        },
        {
          "output_type": "stream",
          "name": "stdout",
          "text": [
            "Input Video ID: vpnoUoGZZzg\n"
          ]
        },
        {
          "output_type": "stream",
          "name": "stderr",
          "text": [
            "\n",
            "100%|██████████| 1/1 [00:01<00:00,  1.39s/it]"
          ]
        },
        {
          "output_type": "stream",
          "name": "stdout",
          "text": [
            "p1 [(9, 13)]\n",
            "p2 [(9, 13)]\n"
          ]
        },
        {
          "output_type": "stream",
          "name": "stderr",
          "text": [
            "\n"
          ]
        },
        {
          "output_type": "stream",
          "name": "stdout",
          "text": [
            "NLP & CNN Available\n",
            "NLP: (9, 13)\n",
            "LSTM: None\n",
            "DeiT (746, 763)\n",
            "\tPredicted=(230, 238),\n",
            "\tExpected=[[0, 0]]\n",
            "[youtube] Extracting URL: Wy-RlscSOOo\n",
            "[youtube] Wy-RlscSOOo: Downloading webpage\n",
            "[youtube] Wy-RlscSOOo: Downloading android player API JSON\n",
            "Wy-RlscSOOo []\n",
            "[youtube] Extracting URL: https://www.youtube.com/watch?v=Wy-RlscSOOo\n",
            "[youtube] Wy-RlscSOOo: Downloading webpage\n",
            "[youtube] Wy-RlscSOOo: Downloading android player API JSON\n",
            "[info] Wy-RlscSOOo: Downloading 1 format(s): 303+251\n",
            "[info] There's no subtitles for the requested languages\n",
            "[youtube] Extracting URL: https://www.youtube.com/watch?v=Wy-RlscSOOo\n",
            "[youtube] Wy-RlscSOOo: Downloading webpage\n",
            "[youtube] Wy-RlscSOOo: Downloading android player API JSON\n",
            "[info] Wy-RlscSOOo: Downloading subtitles: en\n",
            "[info] Wy-RlscSOOo: Downloading 1 format(s): 303+251\n",
            "[info] Writing video subtitles to: /content/TestFolder1/Wy-RlscSOOo.en.vtt\n",
            "[download] Destination: /content/TestFolder1/Wy-RlscSOOo.en.vtt\n",
            "[download] 100% of   40.40KiB in 00:00:00 at 125.94KiB/s\n",
            "Processing captions...\n",
            "100.00% elapsed: 0:00:00, remaining: 0:00:00"
          ]
        },
        {
          "output_type": "stream",
          "name": "stderr",
          "text": [
            "Opening /content/TestFolder2/data.1.json.gz for reading...\n",
            "Closed /content/TestFolder2/data.1.json.gz.\n",
            "\n",
            "  0%|          | 0/1 [00:00<?, ?it/s]\u001b[A"
          ]
        },
        {
          "output_type": "stream",
          "name": "stdout",
          "text": [
            "Input Video ID: Wy-RlscSOOo\n"
          ]
        },
        {
          "output_type": "stream",
          "name": "stderr",
          "text": [
            "\n",
            "100%|██████████| 1/1 [00:00<00:00,  1.82it/s]"
          ]
        },
        {
          "output_type": "stream",
          "name": "stdout",
          "text": [
            "p1 []\n",
            "p2 []\n"
          ]
        },
        {
          "output_type": "stream",
          "name": "stderr",
          "text": [
            "\n"
          ]
        },
        {
          "output_type": "stream",
          "name": "stdout",
          "text": [
            "1/1 [==============================] - 0s 25ms/step\n",
            "ALL Available\n",
            "NLP: (0, 0)\n",
            "LSTM: (0, 0)\n",
            "DeiT (0, 0)\n",
            "\tPredicted=(0, 0),\n",
            "\tExpected=[[0, 0]]\n",
            "IOU: 0.6488196248196249\n",
            "Confusion matrix [[95667   731]\n",
            " [  879   104]]\n",
            "Accuracy 0.9834670007496329\n",
            "Precision 0.12455089820359282\n",
            "Recall 0.10579857578840285\n",
            "[youtube] Extracting URL: 5UA9S9oUsPI\n",
            "[youtube] 5UA9S9oUsPI: Downloading webpage\n",
            "[youtube] 5UA9S9oUsPI: Downloading android player API JSON\n"
          ]
        },
        {
          "output_type": "stream",
          "name": "stderr",
          "text": [
            "ERROR: [youtube] 5UA9S9oUsPI: Private video. Sign in if you've been granted access to this video\n"
          ]
        },
        {
          "output_type": "stream",
          "name": "stdout",
          "text": [
            "[youtube] Extracting URL: uD56upGScKw\n",
            "[youtube] uD56upGScKw: Downloading webpage\n",
            "[youtube] uD56upGScKw: Downloading android player API JSON\n",
            "[youtube] Extracting URL: vxMwuL0hX3U\n",
            "[youtube] vxMwuL0hX3U: Downloading webpage\n",
            "[youtube] vxMwuL0hX3U: Downloading android player API JSON\n",
            "[youtube] Extracting URL: rKKM76XJekM\n",
            "[youtube] rKKM76XJekM: Downloading webpage\n",
            "[youtube] rKKM76XJekM: Downloading android player API JSON\n",
            "[youtube] Extracting URL: 3b-GmvUhwUU\n",
            "[youtube] 3b-GmvUhwUU: Downloading webpage\n",
            "[youtube] 3b-GmvUhwUU: Downloading android player API JSON\n",
            "[youtube] Extracting URL: 3p9LtSQUer0\n",
            "[youtube] 3p9LtSQUer0: Downloading webpage\n",
            "[youtube] 3p9LtSQUer0: Downloading android player API JSON\n",
            "3p9LtSQUer0 []\n",
            "[youtube] Extracting URL: https://www.youtube.com/watch?v=3p9LtSQUer0\n",
            "[youtube] 3p9LtSQUer0: Downloading webpage\n",
            "[youtube] 3p9LtSQUer0: Downloading android player API JSON\n",
            "[info] 3p9LtSQUer0: Downloading 1 format(s): 315+251\n",
            "[info] There's no subtitles for the requested languages\n",
            "[youtube] Extracting URL: https://www.youtube.com/watch?v=3p9LtSQUer0\n",
            "[youtube] 3p9LtSQUer0: Downloading webpage\n",
            "[youtube] 3p9LtSQUer0: Downloading android player API JSON\n",
            "[info] 3p9LtSQUer0: Downloading subtitles: en\n",
            "[info] 3p9LtSQUer0: Downloading 1 format(s): 315+251\n",
            "[info] Writing video subtitles to: /content/TestFolder1/3p9LtSQUer0.en.vtt\n",
            "[download] Destination: /content/TestFolder1/3p9LtSQUer0.en.vtt\n",
            "[download] 100% of  141.34KiB in 00:00:00 at 1.36MiB/s\n",
            "Processing captions...\n",
            "100.00% elapsed: 0:00:00, remaining: 0:00:00"
          ]
        },
        {
          "output_type": "stream",
          "name": "stderr",
          "text": [
            "Opening /content/TestFolder2/data.1.json.gz for reading...\n",
            "Closed /content/TestFolder2/data.1.json.gz.\n",
            "\n",
            "  0%|          | 0/1 [00:00<?, ?it/s]\u001b[A"
          ]
        },
        {
          "output_type": "stream",
          "name": "stdout",
          "text": [
            "Input Video ID: 3p9LtSQUer0\n"
          ]
        },
        {
          "output_type": "stream",
          "name": "stderr",
          "text": [
            "\n",
            "100%|██████████| 1/1 [00:01<00:00,  1.36s/it]"
          ]
        },
        {
          "output_type": "stream",
          "name": "stdout",
          "text": [
            "p1 [(203, 207), (341, 345), (378, 383), (None, None)]\n",
            "p2 [(203, 207), (341, 345), (378, 383), (None, None)]\n"
          ]
        },
        {
          "output_type": "stream",
          "name": "stderr",
          "text": [
            "\n"
          ]
        },
        {
          "output_type": "stream",
          "name": "stdout",
          "text": [
            "1/1 [==============================] - 0s 40ms/step\n",
            "ALL Available\n",
            "NLP: (0, 0)\n",
            "LSTM: (190, 223)\n",
            "DeiT (0, 0)\n",
            "\tPredicted=(0, 0),\n",
            "\tExpected=[[0, 0]]\n",
            "[youtube] Extracting URL: y7LDaaFeNn4\n",
            "[youtube] y7LDaaFeNn4: Downloading webpage\n",
            "[youtube] y7LDaaFeNn4: Downloading android player API JSON\n",
            "y7LDaaFeNn4 []\n",
            "[youtube] Extracting URL: https://www.youtube.com/watch?v=y7LDaaFeNn4\n",
            "[youtube] y7LDaaFeNn4: Downloading webpage\n",
            "[youtube] y7LDaaFeNn4: Downloading android player API JSON\n",
            "[info] y7LDaaFeNn4: Downloading 1 format(s): 302+251\n",
            "[info] There's no subtitles for the requested languages\n",
            "[youtube] Extracting URL: https://www.youtube.com/watch?v=y7LDaaFeNn4\n",
            "[youtube] y7LDaaFeNn4: Downloading webpage\n",
            "[youtube] y7LDaaFeNn4: Downloading android player API JSON\n",
            "[info] y7LDaaFeNn4: Downloading subtitles: en\n",
            "[info] y7LDaaFeNn4: Downloading 1 format(s): 302+251\n",
            "[info] Writing video subtitles to: /content/TestFolder1/y7LDaaFeNn4.en.vtt\n",
            "[download] Destination: /content/TestFolder1/y7LDaaFeNn4.en.vtt\n",
            "[download] 100% of   53.41KiB in 00:00:00 at 1.38MiB/s\n",
            "Processing captions...\n",
            "100.00% elapsed: 0:00:00, remaining: 0:00:00"
          ]
        },
        {
          "output_type": "stream",
          "name": "stderr",
          "text": [
            "Opening /content/TestFolder2/data.1.json.gz for reading...\n",
            "Closed /content/TestFolder2/data.1.json.gz.\n",
            "\n",
            "  0%|          | 0/1 [00:00<?, ?it/s]\u001b[A"
          ]
        },
        {
          "output_type": "stream",
          "name": "stdout",
          "text": [
            "Input Video ID: y7LDaaFeNn4\n"
          ]
        },
        {
          "output_type": "stream",
          "name": "stderr",
          "text": [
            "\n",
            "100%|██████████| 1/1 [00:00<00:00,  1.59it/s]"
          ]
        },
        {
          "output_type": "stream",
          "name": "stdout",
          "text": [
            "p1 [(180, 185)]\n",
            "p2 [(180, 185)]\n"
          ]
        },
        {
          "output_type": "stream",
          "name": "stderr",
          "text": [
            "\n"
          ]
        },
        {
          "output_type": "stream",
          "name": "stdout",
          "text": [
            "NLP & CNN Available\n",
            "NLP: (180, 185)\n",
            "LSTM: None\n",
            "DeiT (9, 26)\n",
            "\tPredicted=(128, 137),\n",
            "\tExpected=[[0, 0]]\n",
            "[youtube] Extracting URL: TPm-UhWkiq8\n",
            "[youtube] TPm-UhWkiq8: Downloading webpage\n",
            "[youtube] TPm-UhWkiq8: Downloading android player API JSON\n",
            "[youtube] Extracting URL: E18EqFePgBA\n",
            "[youtube] E18EqFePgBA: Downloading webpage\n",
            "[youtube] E18EqFePgBA: Downloading android player API JSON\n",
            "[youtube] Extracting URL: _8vouepOFjA\n",
            "[youtube] _8vouepOFjA: Downloading webpage\n",
            "[youtube] _8vouepOFjA: Downloading android player API JSON\n",
            "[youtube] Extracting URL: LYqeWkZJJwE\n",
            "[youtube] LYqeWkZJJwE: Downloading webpage\n",
            "[youtube] LYqeWkZJJwE: Downloading android player API JSON\n",
            "LYqeWkZJJwE []\n",
            "[youtube] Extracting URL: https://www.youtube.com/watch?v=LYqeWkZJJwE\n",
            "[youtube] LYqeWkZJJwE: Downloading webpage\n",
            "[youtube] LYqeWkZJJwE: Downloading android player API JSON\n",
            "[info] LYqeWkZJJwE: Downloading 1 format(s): 313+251\n",
            "[info] There's no subtitles for the requested languages\n",
            "[youtube] Extracting URL: https://www.youtube.com/watch?v=LYqeWkZJJwE\n",
            "[youtube] LYqeWkZJJwE: Downloading webpage\n",
            "[youtube] LYqeWkZJJwE: Downloading android player API JSON\n",
            "[info] LYqeWkZJJwE: Downloading subtitles: en\n",
            "[info] LYqeWkZJJwE: Downloading 1 format(s): 313+251\n",
            "[info] Writing video subtitles to: /content/TestFolder1/LYqeWkZJJwE.en.vtt\n",
            "[download] Destination: /content/TestFolder1/LYqeWkZJJwE.en.vtt\n",
            "[download] 100% of   35.70KiB in 00:00:00 at 725.30KiB/s\n",
            "Processing captions...\n",
            "100.00% elapsed: 0:00:00, remaining: 0:00:00"
          ]
        },
        {
          "output_type": "stream",
          "name": "stderr",
          "text": [
            "Opening /content/TestFolder2/data.1.json.gz for reading...\n",
            "Closed /content/TestFolder2/data.1.json.gz.\n",
            "\n",
            "  0%|          | 0/1 [00:00<?, ?it/s]\u001b[A"
          ]
        },
        {
          "output_type": "stream",
          "name": "stdout",
          "text": [
            "Input Video ID: LYqeWkZJJwE\n"
          ]
        },
        {
          "output_type": "stream",
          "name": "stderr",
          "text": [
            "\n",
            "100%|██████████| 1/1 [00:00<00:00,  1.76it/s]"
          ]
        },
        {
          "output_type": "stream",
          "name": "stdout",
          "text": [
            "p1 [(16, 19), (55, 58), (104, 105)]\n",
            "p2 [(16, 19), (55, 58), (104, 105)]\n"
          ]
        },
        {
          "output_type": "stream",
          "name": "stderr",
          "text": [
            "\n"
          ]
        },
        {
          "output_type": "stream",
          "name": "stdout",
          "text": [
            "NLP & CNN Available\n",
            "NLP: (55, 58)\n",
            "LSTM: None\n",
            "DeiT (63, 82)\n",
            "\tPredicted=(57, 65),\n",
            "\tExpected=[[0, 0]]\n",
            "[youtube] Extracting URL: RAw8BdRtVD0\n",
            "[youtube] RAw8BdRtVD0: Downloading webpage\n",
            "[youtube] RAw8BdRtVD0: Downloading android player API JSON\n",
            "RAw8BdRtVD0 []\n",
            "[youtube] Extracting URL: https://www.youtube.com/watch?v=RAw8BdRtVD0\n",
            "[youtube] RAw8BdRtVD0: Downloading webpage\n",
            "[youtube] RAw8BdRtVD0: Downloading android player API JSON\n",
            "[info] RAw8BdRtVD0: Downloading 1 format(s): 303+251\n",
            "[info] There's no subtitles for the requested languages\n",
            "[youtube] Extracting URL: https://www.youtube.com/watch?v=RAw8BdRtVD0\n",
            "[youtube] RAw8BdRtVD0: Downloading webpage\n",
            "[youtube] RAw8BdRtVD0: Downloading android player API JSON\n",
            "[info] RAw8BdRtVD0: Downloading subtitles: en\n",
            "[info] RAw8BdRtVD0: Downloading 1 format(s): 303+251\n",
            "[info] Writing video subtitles to: /content/TestFolder1/RAw8BdRtVD0.en.vtt\n",
            "[download] Destination: /content/TestFolder1/RAw8BdRtVD0.en.vtt\n",
            "[download] 100% of  119.48KiB in 00:00:00 at 458.90KiB/s\n",
            "Processing captions...\n",
            "100.00% elapsed: 0:00:00, remaining: 0:00:00"
          ]
        },
        {
          "output_type": "stream",
          "name": "stderr",
          "text": [
            "Opening /content/TestFolder2/data.1.json.gz for reading...\n",
            "Closed /content/TestFolder2/data.1.json.gz.\n",
            "\n",
            "  0%|          | 0/1 [00:00<?, ?it/s]\u001b[A"
          ]
        },
        {
          "output_type": "stream",
          "name": "stdout",
          "text": [
            "Input Video ID: RAw8BdRtVD0\n"
          ]
        },
        {
          "output_type": "stream",
          "name": "stderr",
          "text": [
            "\n",
            "100%|██████████| 1/1 [00:01<00:00,  1.14s/it]"
          ]
        },
        {
          "output_type": "stream",
          "name": "stdout",
          "text": [
            "p1 []\n",
            "p2 []\n"
          ]
        },
        {
          "output_type": "stream",
          "name": "stderr",
          "text": [
            "\n"
          ]
        },
        {
          "output_type": "stream",
          "name": "stdout",
          "text": [
            "1/1 [==============================] - 0s 32ms/step\n",
            "ALL Available\n",
            "NLP: (0, 0)\n",
            "LSTM: (0, 0)\n",
            "DeiT (39, 57)\n",
            "\tPredicted=(0, 0),\n",
            "\tExpected=[[0, 0]]\n",
            "[youtube] Extracting URL: y5SnVmaNnRU\n",
            "[youtube] y5SnVmaNnRU: Downloading webpage\n",
            "[youtube] y5SnVmaNnRU: Downloading android player API JSON\n",
            "[youtube] Extracting URL: h70X9LrDCoo\n",
            "[youtube] h70X9LrDCoo: Downloading webpage\n",
            "[youtube] h70X9LrDCoo: Downloading android player API JSON\n",
            "[youtube] Extracting URL: 7K3Ezn1VeQo\n",
            "[youtube] 7K3Ezn1VeQo: Downloading webpage\n",
            "[youtube] 7K3Ezn1VeQo: Downloading android player API JSON\n",
            "7K3Ezn1VeQo []\n",
            "[youtube] Extracting URL: https://www.youtube.com/watch?v=7K3Ezn1VeQo\n",
            "[youtube] 7K3Ezn1VeQo: Downloading webpage\n",
            "[youtube] 7K3Ezn1VeQo: Downloading android player API JSON\n",
            "[info] 7K3Ezn1VeQo: Downloading 1 format(s): 247+251\n",
            "[info] There's no subtitles for the requested languages\n",
            "[youtube] Extracting URL: https://www.youtube.com/watch?v=7K3Ezn1VeQo\n",
            "[youtube] 7K3Ezn1VeQo: Downloading webpage\n",
            "[youtube] 7K3Ezn1VeQo: Downloading android player API JSON\n",
            "[info] 7K3Ezn1VeQo: Downloading subtitles: en\n",
            "[info] 7K3Ezn1VeQo: Downloading 1 format(s): 247+251\n",
            "[info] Writing video subtitles to: /content/TestFolder1/7K3Ezn1VeQo.en.vtt\n",
            "[download] Destination: /content/TestFolder1/7K3Ezn1VeQo.en.vtt\n",
            "[download] 100% of   15.31KiB in 00:00:00 at 141.85KiB/s\n",
            "Processing captions...\n",
            "100.00% elapsed: 0:00:00, remaining: 0:00:00"
          ]
        },
        {
          "output_type": "stream",
          "name": "stderr",
          "text": [
            "Opening /content/TestFolder2/data.1.json.gz for reading...\n",
            "Closed /content/TestFolder2/data.1.json.gz.\n",
            "\n",
            "  0%|          | 0/1 [00:00<?, ?it/s]\u001b[A"
          ]
        },
        {
          "output_type": "stream",
          "name": "stdout",
          "text": [
            "Input Video ID: 7K3Ezn1VeQo\n"
          ]
        },
        {
          "output_type": "stream",
          "name": "stderr",
          "text": [
            "\n",
            "100%|██████████| 1/1 [00:00<00:00,  4.37it/s]"
          ]
        },
        {
          "output_type": "stream",
          "name": "stdout",
          "text": [
            "p1 [(4, 8), (14, 18)]\n",
            "p2 [(4, 8), (14, 18)]\n"
          ]
        },
        {
          "output_type": "stream",
          "name": "stderr",
          "text": [
            "\n"
          ]
        },
        {
          "output_type": "stream",
          "name": "stdout",
          "text": [
            "NLP & CNN Available\n",
            "NLP: (14, 18)\n",
            "LSTM: None\n",
            "DeiT (0, 0)\n",
            "\tPredicted=(9, 12),\n",
            "\tExpected=[[0, 0]]\n",
            "[youtube] Extracting URL: QWxuElTdYH8\n",
            "[youtube] QWxuElTdYH8: Downloading webpage\n",
            "[youtube] QWxuElTdYH8: Downloading android player API JSON\n",
            "QWxuElTdYH8 []\n",
            "[youtube] Extracting URL: https://www.youtube.com/watch?v=QWxuElTdYH8\n",
            "[youtube] QWxuElTdYH8: Downloading webpage\n",
            "[youtube] QWxuElTdYH8: Downloading android player API JSON\n",
            "[info] QWxuElTdYH8: Downloading 1 format(s): 248+251\n",
            "[info] There's no subtitles for the requested languages\n",
            "[youtube] Extracting URL: https://www.youtube.com/watch?v=QWxuElTdYH8\n",
            "[youtube] QWxuElTdYH8: Downloading webpage\n",
            "[youtube] QWxuElTdYH8: Downloading android player API JSON\n",
            "[info] QWxuElTdYH8: Downloading subtitles: en\n",
            "[info] QWxuElTdYH8: Downloading 1 format(s): 248+251\n",
            "[info] Writing video subtitles to: /content/TestFolder1/QWxuElTdYH8.en.vtt\n",
            "[download] Destination: /content/TestFolder1/QWxuElTdYH8.en.vtt\n",
            "[download] 100% of  127.47KiB in 00:00:00 at 1.13MiB/s\n",
            "Processing captions...\n",
            "100.00% elapsed: 0:00:00, remaining: 0:00:00"
          ]
        },
        {
          "output_type": "stream",
          "name": "stderr",
          "text": [
            "Opening /content/TestFolder2/data.1.json.gz for reading...\n",
            "Closed /content/TestFolder2/data.1.json.gz.\n",
            "\n",
            "  0%|          | 0/1 [00:00<?, ?it/s]\u001b[A"
          ]
        },
        {
          "output_type": "stream",
          "name": "stdout",
          "text": [
            "Input Video ID: QWxuElTdYH8\n"
          ]
        },
        {
          "output_type": "stream",
          "name": "stderr",
          "text": [
            "\n",
            "100%|██████████| 1/1 [00:01<00:00,  1.30s/it]"
          ]
        },
        {
          "output_type": "stream",
          "name": "stdout",
          "text": [
            "p1 [(106, 123), (131, 135), (147, 163), (186, 192), (244, 256)]\n",
            "p2 [(106, 123), (131, 135), (147, 163), (186, 192), (244, 256)]\n"
          ]
        },
        {
          "output_type": "stream",
          "name": "stderr",
          "text": [
            "\n"
          ]
        },
        {
          "output_type": "stream",
          "name": "stdout",
          "text": [
            "NLP & CNN Available\n",
            "NLP: (106, 123)\n",
            "LSTM: None\n",
            "DeiT (543, 561)\n",
            "\tPredicted=(237, 254),\n",
            "\tExpected=[[0, 0]]\n",
            "[youtube] Extracting URL: wKKM0MTlv9U\n",
            "[youtube] wKKM0MTlv9U: Downloading webpage\n",
            "[youtube] wKKM0MTlv9U: Downloading android player API JSON\n",
            "wKKM0MTlv9U [[0.0, 6.577], [644.6, 723.861]]\n",
            "[youtube] Extracting URL: https://www.youtube.com/watch?v=wKKM0MTlv9U\n",
            "[youtube] wKKM0MTlv9U: Downloading webpage\n",
            "[youtube] wKKM0MTlv9U: Downloading android player API JSON\n",
            "[info] wKKM0MTlv9U: Downloading subtitles: en\n",
            "[info] wKKM0MTlv9U: Downloading 1 format(s): 303+251\n",
            "[info] Writing video subtitles to: /content/TestFolder1/wKKM0MTlv9U.en.vtt\n",
            "[download] Destination: /content/TestFolder1/wKKM0MTlv9U.en.vtt\n",
            "[download] 100% of   14.38KiB in 00:00:00 at 513.63KiB/s\n",
            "Processing captions...\n",
            "100.00% elapsed: 0:00:00, remaining: 0:00:00"
          ]
        },
        {
          "output_type": "stream",
          "name": "stderr",
          "text": [
            "Opening /content/TestFolder2/data.1.json.gz for reading...\n",
            "Closed /content/TestFolder2/data.1.json.gz.\n",
            "\n",
            "  0%|          | 0/1 [00:00<?, ?it/s]\u001b[A"
          ]
        },
        {
          "output_type": "stream",
          "name": "stdout",
          "text": [
            "Input Video ID: wKKM0MTlv9U\n"
          ]
        },
        {
          "output_type": "stream",
          "name": "stderr",
          "text": [
            "\n",
            "100%|██████████| 1/1 [00:01<00:00,  1.04s/it]"
          ]
        },
        {
          "output_type": "stream",
          "name": "stdout",
          "text": [
            "p1 [(0, 2), (136, 138), (145, 146)]\n",
            "p2 [(0, 2), (136, 138), (145, 146)]\n"
          ]
        },
        {
          "output_type": "stream",
          "name": "stderr",
          "text": [
            "\n"
          ]
        },
        {
          "output_type": "stream",
          "name": "stdout",
          "text": [
            "1/1 [==============================] - 0s 28ms/step\n",
            "ALL Available\n",
            "After reshape:  [[0.0, 6.577]]\n",
            "NLP: (136, 138)\n",
            "LSTM: (0, 0)\n",
            "DeiT (690, 704)\n",
            "\tPredicted=(0, 0),\n",
            "\tExpected=[[0.0, 6.577]]\n",
            "[youtube] Extracting URL: lnXc_7Ex28M\n",
            "[youtube] lnXc_7Ex28M: Downloading webpage\n",
            "[youtube] lnXc_7Ex28M: Downloading android player API JSON\n",
            "lnXc_7Ex28M []\n",
            "[youtube] Extracting URL: https://www.youtube.com/watch?v=lnXc_7Ex28M\n",
            "[youtube] lnXc_7Ex28M: Downloading webpage\n",
            "[youtube] lnXc_7Ex28M: Downloading android player API JSON\n",
            "[info] lnXc_7Ex28M: Downloading 1 format(s): 313+251\n",
            "[info] There's no subtitles for the requested languages\n",
            "[youtube] Extracting URL: https://www.youtube.com/watch?v=lnXc_7Ex28M\n",
            "[youtube] lnXc_7Ex28M: Downloading webpage\n",
            "[youtube] lnXc_7Ex28M: Downloading android player API JSON\n",
            "[info] lnXc_7Ex28M: Downloading subtitles: en\n",
            "[info] lnXc_7Ex28M: Downloading 1 format(s): 313+251\n",
            "[info] Writing video subtitles to: /content/TestFolder1/lnXc_7Ex28M.en.vtt\n",
            "[download] Destination: /content/TestFolder1/lnXc_7Ex28M.en.vtt\n",
            "[download] 100% of   99.18KiB in 00:00:00 at 2.55MiB/s\n",
            "Processing captions...\n",
            "100.00% elapsed: 0:00:00, remaining: 0:00:00"
          ]
        },
        {
          "output_type": "stream",
          "name": "stderr",
          "text": [
            "Opening /content/TestFolder2/data.1.json.gz for reading...\n",
            "Closed /content/TestFolder2/data.1.json.gz.\n",
            "\n",
            "  0%|          | 0/1 [00:00<?, ?it/s]\u001b[A"
          ]
        },
        {
          "output_type": "stream",
          "name": "stdout",
          "text": [
            "Input Video ID: lnXc_7Ex28M\n"
          ]
        },
        {
          "output_type": "stream",
          "name": "stderr",
          "text": [
            "\n",
            "100%|██████████| 1/1 [00:00<00:00,  1.01it/s]"
          ]
        },
        {
          "output_type": "stream",
          "name": "stdout",
          "text": [
            "p1 [(0, 3), (150, 160), (176, 182), (194, 204)]\n",
            "p2 [(0, 3), (150, 160), (176, 182), (194, 204)]\n"
          ]
        },
        {
          "output_type": "stream",
          "name": "stderr",
          "text": [
            "\n"
          ]
        },
        {
          "output_type": "stream",
          "name": "stdout",
          "text": [
            "NLP & CNN Available\n",
            "NLP: (194, 204)\n",
            "LSTM: None\n",
            "DeiT (403, 417)\n",
            "\tPredicted=(256, 267),\n",
            "\tExpected=[[0, 0]]\n",
            "[youtube] Extracting URL: ExWgujrjLUI\n",
            "[youtube] ExWgujrjLUI: Downloading webpage\n",
            "[youtube] ExWgujrjLUI: Downloading android player API JSON\n",
            "[youtube] Extracting URL: 9S0NSsz3PMc\n",
            "[youtube] 9S0NSsz3PMc: Downloading webpage\n",
            "[youtube] 9S0NSsz3PMc: Downloading android player API JSON\n",
            "[youtube] Extracting URL: bV7y6e8RMo8\n",
            "[youtube] bV7y6e8RMo8: Downloading webpage\n",
            "[youtube] bV7y6e8RMo8: Downloading android player API JSON\n",
            "bV7y6e8RMo8 [[177.63, 331.168]]\n",
            "[youtube] Extracting URL: https://www.youtube.com/watch?v=bV7y6e8RMo8\n",
            "[youtube] bV7y6e8RMo8: Downloading webpage\n",
            "[youtube] bV7y6e8RMo8: Downloading android player API JSON\n",
            "[info] bV7y6e8RMo8: Downloading 1 format(s): 313+251\n",
            "[info] There's no subtitles for the requested languages\n",
            "[youtube] Extracting URL: https://www.youtube.com/watch?v=bV7y6e8RMo8\n",
            "[youtube] bV7y6e8RMo8: Downloading webpage\n",
            "[youtube] bV7y6e8RMo8: Downloading android player API JSON\n",
            "[info] bV7y6e8RMo8: Downloading subtitles: en\n",
            "[info] bV7y6e8RMo8: Downloading 1 format(s): 313+251\n",
            "[info] Writing video subtitles to: /content/TestFolder1/bV7y6e8RMo8.en.vtt\n",
            "[download] Destination: /content/TestFolder1/bV7y6e8RMo8.en.vtt\n",
            "[download] 100% of   79.86KiB in 00:00:00 at 324.55KiB/s\n",
            "Processing captions...\n",
            "100.00% elapsed: 0:00:00, remaining: 0:00:00"
          ]
        },
        {
          "output_type": "stream",
          "name": "stderr",
          "text": [
            "Opening /content/TestFolder2/data.1.json.gz for reading...\n",
            "Closed /content/TestFolder2/data.1.json.gz.\n",
            "\n",
            "  0%|          | 0/1 [00:00<?, ?it/s]\u001b[A"
          ]
        },
        {
          "output_type": "stream",
          "name": "stdout",
          "text": [
            "Input Video ID: bV7y6e8RMo8\n"
          ]
        },
        {
          "output_type": "stream",
          "name": "stderr",
          "text": [
            "\n",
            "100%|██████████| 1/1 [00:00<00:00,  1.19it/s]"
          ]
        },
        {
          "output_type": "stream",
          "name": "stdout",
          "text": [
            "p1 [(78, 82), (137, 142), (211, 216)]\n",
            "p2 [(78, 82), (137, 142), (211, 216)]\n"
          ]
        },
        {
          "output_type": "stream",
          "name": "stderr",
          "text": [
            "\n"
          ]
        },
        {
          "output_type": "stream",
          "name": "stdout",
          "text": [
            "1/1 [==============================] - 0s 28ms/step\n",
            "ALL Available\n",
            "NLP: (211, 216)\n",
            "LSTM: (0, 0)\n",
            "DeiT (349, 364)\n",
            "\tPredicted=(0, 0),\n",
            "\tExpected=[[177.63, 331.168]]\n",
            "[youtube] Extracting URL: VWl1re5C5wY\n",
            "[youtube] VWl1re5C5wY: Downloading webpage\n",
            "[youtube] VWl1re5C5wY: Downloading android player API JSON\n",
            "[youtube] VWl1re5C5wY: Downloading MPD manifest\n",
            "[youtube] Extracting URL: sC9dlAEwPt4\n",
            "[youtube] sC9dlAEwPt4: Downloading webpage\n",
            "[youtube] sC9dlAEwPt4: Downloading android player API JSON\n",
            "sC9dlAEwPt4 [[25.23, 39.866]]\n",
            "[youtube] Extracting URL: https://www.youtube.com/watch?v=sC9dlAEwPt4\n",
            "[youtube] sC9dlAEwPt4: Downloading webpage\n",
            "[youtube] sC9dlAEwPt4: Downloading android player API JSON\n",
            "[info] sC9dlAEwPt4: Downloading 1 format(s): 248+251\n",
            "[info] There's no subtitles for the requested languages\n",
            "[youtube] Extracting URL: https://www.youtube.com/watch?v=sC9dlAEwPt4\n",
            "[youtube] sC9dlAEwPt4: Downloading webpage\n",
            "[youtube] sC9dlAEwPt4: Downloading android player API JSON\n",
            "[info] sC9dlAEwPt4: Downloading subtitles: en\n",
            "[info] sC9dlAEwPt4: Downloading 1 format(s): 248+251\n",
            "[info] Writing video subtitles to: /content/TestFolder1/sC9dlAEwPt4.en.vtt\n",
            "[download] Destination: /content/TestFolder1/sC9dlAEwPt4.en.vtt\n",
            "[download] 100% of   68.82KiB in 00:00:00 at 317.59KiB/s\n",
            "Processing captions...\n",
            "100.00% elapsed: 0:00:00, remaining: 0:00:00"
          ]
        },
        {
          "output_type": "stream",
          "name": "stderr",
          "text": [
            "Opening /content/TestFolder2/data.1.json.gz for reading...\n",
            "Closed /content/TestFolder2/data.1.json.gz.\n",
            "\n",
            "  0%|          | 0/1 [00:00<?, ?it/s]\u001b[A"
          ]
        },
        {
          "output_type": "stream",
          "name": "stdout",
          "text": [
            "Input Video ID: sC9dlAEwPt4\n"
          ]
        },
        {
          "output_type": "stream",
          "name": "stderr",
          "text": [
            "\n",
            "100%|██████████| 1/1 [00:00<00:00,  1.25it/s]"
          ]
        },
        {
          "output_type": "stream",
          "name": "stdout",
          "text": [
            "p1 [(5, 14)]\n",
            "p2 [(5, 14)]\n"
          ]
        },
        {
          "output_type": "stream",
          "name": "stderr",
          "text": [
            "\n"
          ]
        },
        {
          "output_type": "stream",
          "name": "stdout",
          "text": [
            "1/1 [==============================] - 0s 28ms/step\n",
            "ALL Available\n",
            "NLP: (5, 14)\n",
            "LSTM: (0, 0)\n",
            "DeiT (55, 72)\n",
            "\tPredicted=(0, 0),\n",
            "\tExpected=[[25.23, 39.866]]\n",
            "IOU: 0.6376513433656291\n",
            "Confusion matrix [[101231    786]\n",
            " [  1060    107]]\n",
            "Accuracy 0.982109629399907\n",
            "Precision 0.11982082866741321\n",
            "Recall 0.09168808911739502\n",
            "[youtube] Extracting URL: Dw2eWKYh-dc\n",
            "[youtube] Dw2eWKYh-dc: Downloading webpage\n",
            "[youtube] Dw2eWKYh-dc: Downloading android player API JSON\n",
            "Dw2eWKYh-dc []\n",
            "[youtube] Extracting URL: https://www.youtube.com/watch?v=Dw2eWKYh-dc\n",
            "[youtube] Dw2eWKYh-dc: Downloading webpage\n",
            "[youtube] Dw2eWKYh-dc: Downloading android player API JSON\n",
            "[info] Dw2eWKYh-dc: Downloading 1 format(s): 313+251\n",
            "[info] There's no subtitles for the requested languages\n",
            "[youtube] Extracting URL: https://www.youtube.com/watch?v=Dw2eWKYh-dc\n",
            "[youtube] Dw2eWKYh-dc: Downloading webpage\n",
            "[youtube] Dw2eWKYh-dc: Downloading android player API JSON\n",
            "[info] Dw2eWKYh-dc: Downloading subtitles: en\n",
            "[info] Dw2eWKYh-dc: Downloading 1 format(s): 313+251\n",
            "[info] Writing video subtitles to: /content/TestFolder1/Dw2eWKYh-dc.en.vtt\n",
            "[download] Destination: /content/TestFolder1/Dw2eWKYh-dc.en.vtt\n",
            "[download] 100% of    780.00B in 00:00:00 at 11.46KiB/s\n",
            "Processing captions...\n",
            "100.00% elapsed: 0:00:00, remaining: 0:00:00"
          ]
        },
        {
          "output_type": "stream",
          "name": "stderr",
          "text": [
            "Opening /content/TestFolder2/data.1.json.gz for reading...\n",
            "Closed /content/TestFolder2/data.1.json.gz.\n",
            "\n",
            "  0%|          | 0/1 [00:00<?, ?it/s]\u001b[A"
          ]
        },
        {
          "output_type": "stream",
          "name": "stdout",
          "text": [
            "Input Video ID: Dw2eWKYh-dc\n"
          ]
        },
        {
          "output_type": "stream",
          "name": "stderr",
          "text": [
            "\r100%|██████████| 1/1 [00:00<00:00, 13.97it/s]"
          ]
        },
        {
          "output_type": "stream",
          "name": "stdout",
          "text": [
            "p1 []\n",
            "p2 []\n"
          ]
        },
        {
          "output_type": "stream",
          "name": "stderr",
          "text": [
            "\n"
          ]
        },
        {
          "output_type": "stream",
          "name": "stdout",
          "text": [
            "NLP & CNN Available\n",
            "NLP: (0, 0)\n",
            "LSTM: None\n",
            "DeiT (0, 0)\n",
            "\tPredicted=(0, 0),\n",
            "\tExpected=[[0, 0]]\n",
            "[youtube] Extracting URL: JrPNaKZKlmE\n",
            "[youtube] JrPNaKZKlmE: Downloading webpage\n",
            "[youtube] JrPNaKZKlmE: Downloading android player API JSON\n",
            "JrPNaKZKlmE []\n",
            "[youtube] Extracting URL: https://www.youtube.com/watch?v=JrPNaKZKlmE\n",
            "[youtube] JrPNaKZKlmE: Downloading webpage\n",
            "[youtube] JrPNaKZKlmE: Downloading android player API JSON\n",
            "[info] JrPNaKZKlmE: Downloading 1 format(s): 308+251\n",
            "[info] There's no subtitles for the requested languages\n",
            "[youtube] Extracting URL: https://www.youtube.com/watch?v=JrPNaKZKlmE\n",
            "[youtube] JrPNaKZKlmE: Downloading webpage\n",
            "[youtube] JrPNaKZKlmE: Downloading android player API JSON\n",
            "[info] JrPNaKZKlmE: Downloading subtitles: en\n",
            "[info] JrPNaKZKlmE: Downloading 1 format(s): 308+251\n",
            "[info] Writing video subtitles to: /content/TestFolder1/JrPNaKZKlmE.en.vtt\n",
            "[download] Destination: /content/TestFolder1/JrPNaKZKlmE.en.vtt\n",
            "[download] 100% of    8.24KiB in 00:00:00 at 182.76KiB/s\n",
            "Processing captions...\n",
            "100.00% elapsed: 0:00:00, remaining: 0:00:00"
          ]
        },
        {
          "output_type": "stream",
          "name": "stderr",
          "text": [
            "Opening /content/TestFolder2/data.1.json.gz for reading...\n",
            "Closed /content/TestFolder2/data.1.json.gz.\n",
            "\n",
            "  0%|          | 0/1 [00:00<?, ?it/s]\u001b[A"
          ]
        },
        {
          "output_type": "stream",
          "name": "stdout",
          "text": [
            "Input Video ID: JrPNaKZKlmE\n"
          ]
        },
        {
          "output_type": "stream",
          "name": "stderr",
          "text": [
            "\n",
            "100%|██████████| 1/1 [00:00<00:00,  2.08it/s]"
          ]
        },
        {
          "output_type": "stream",
          "name": "stdout",
          "text": [
            "p1 [(0, 7)]\n",
            "p2 [(0, 7)]\n"
          ]
        },
        {
          "output_type": "stream",
          "name": "stderr",
          "text": [
            "\n"
          ]
        },
        {
          "output_type": "stream",
          "name": "stdout",
          "text": [
            "NLP & CNN Available\n",
            "NLP: (0, 7)\n",
            "LSTM: None\n",
            "DeiT (7, 21)\n",
            "\tPredicted=(2, 11),\n",
            "\tExpected=[[0, 0]]\n",
            "[youtube] Extracting URL: Rw9zLAJcY9A\n",
            "[youtube] Rw9zLAJcY9A: Downloading webpage\n",
            "[youtube] Rw9zLAJcY9A: Downloading android player API JSON\n",
            "Rw9zLAJcY9A []\n",
            "[youtube] Extracting URL: https://www.youtube.com/watch?v=Rw9zLAJcY9A\n",
            "[youtube] Rw9zLAJcY9A: Downloading webpage\n",
            "[youtube] Rw9zLAJcY9A: Downloading android player API JSON\n",
            "[info] Rw9zLAJcY9A: Downloading 1 format(s): 303+251\n",
            "[info] There's no subtitles for the requested languages\n",
            "[youtube] Extracting URL: https://www.youtube.com/watch?v=Rw9zLAJcY9A\n",
            "[youtube] Rw9zLAJcY9A: Downloading webpage\n",
            "[youtube] Rw9zLAJcY9A: Downloading android player API JSON\n",
            "[info] Rw9zLAJcY9A: Downloading subtitles: en\n",
            "[info] Rw9zLAJcY9A: Downloading 1 format(s): 303+251\n",
            "[info] Writing video subtitles to: /content/TestFolder1/Rw9zLAJcY9A.en.vtt\n",
            "[download] Destination: /content/TestFolder1/Rw9zLAJcY9A.en.vtt\n",
            "[download] 100% of   17.73KiB in 00:00:00 at 122.78KiB/s\n",
            "Processing captions...\n",
            "100.00% elapsed: 0:00:00, remaining: 0:00:00"
          ]
        },
        {
          "output_type": "stream",
          "name": "stderr",
          "text": [
            "Opening /content/TestFolder2/data.1.json.gz for reading...\n",
            "Closed /content/TestFolder2/data.1.json.gz.\n",
            "\n",
            "  0%|          | 0/1 [00:00<?, ?it/s]\u001b[A"
          ]
        },
        {
          "output_type": "stream",
          "name": "stdout",
          "text": [
            "Input Video ID: Rw9zLAJcY9A\n"
          ]
        },
        {
          "output_type": "stream",
          "name": "stderr",
          "text": [
            "\n",
            "100%|██████████| 1/1 [00:00<00:00,  1.91it/s]"
          ]
        },
        {
          "output_type": "stream",
          "name": "stdout",
          "text": [
            "p1 [(7, 23), (33, 34)]\n",
            "p2 [(7, 23), (33, 34)]\n"
          ]
        },
        {
          "output_type": "stream",
          "name": "stderr",
          "text": [
            "\n"
          ]
        },
        {
          "output_type": "stream",
          "name": "stdout",
          "text": [
            "1/1 [==============================] - 0s 35ms/step\n",
            "ALL Available\n",
            "NLP: (7, 23)\n",
            "LSTM: (462, 482)\n",
            "DeiT (41, 60)\n",
            "\tPredicted=(0, 0),\n",
            "\tExpected=[[0, 0]]\n",
            "[youtube] Extracting URL: krlAd2VbUiw\n",
            "[youtube] krlAd2VbUiw: Downloading webpage\n",
            "[youtube] krlAd2VbUiw: Downloading android player API JSON\n",
            "[youtube] Extracting URL: Eb3htRl41nw\n",
            "[youtube] Eb3htRl41nw: Downloading webpage\n",
            "[youtube] Eb3htRl41nw: Downloading android player API JSON\n",
            "[youtube] Extracting URL: 3jJRyJDdxF4\n",
            "[youtube] 3jJRyJDdxF4: Downloading webpage\n",
            "[youtube] 3jJRyJDdxF4: Downloading android player API JSON\n",
            "3jJRyJDdxF4 []\n",
            "[youtube] Extracting URL: https://www.youtube.com/watch?v=3jJRyJDdxF4\n",
            "[youtube] 3jJRyJDdxF4: Downloading webpage\n",
            "[youtube] 3jJRyJDdxF4: Downloading android player API JSON\n",
            "[info] 3jJRyJDdxF4: Downloading 1 format(s): 247+251\n",
            "[info] There's no subtitles for the requested languages\n",
            "[youtube] Extracting URL: https://www.youtube.com/watch?v=3jJRyJDdxF4\n",
            "[youtube] 3jJRyJDdxF4: Downloading webpage\n",
            "[youtube] 3jJRyJDdxF4: Downloading android player API JSON\n",
            "[info] 3jJRyJDdxF4: Downloading subtitles: en\n",
            "[info] 3jJRyJDdxF4: Downloading 1 format(s): 247+251\n",
            "[info] Writing video subtitles to: /content/TestFolder1/3jJRyJDdxF4.en.vtt\n",
            "[download] Destination: /content/TestFolder1/3jJRyJDdxF4.en.vtt\n",
            "[download] 100% of    6.42KiB in 00:00:00 at 96.05KiB/s\n",
            "Processing captions...\n",
            "100.00% elapsed: 0:00:00, remaining: 0:00:00"
          ]
        },
        {
          "output_type": "stream",
          "name": "stderr",
          "text": [
            "Opening /content/TestFolder2/data.1.json.gz for reading...\n",
            "Closed /content/TestFolder2/data.1.json.gz.\n",
            "\n",
            "  0%|          | 0/1 [00:00<?, ?it/s]\u001b[A"
          ]
        },
        {
          "output_type": "stream",
          "name": "stdout",
          "text": [
            "Input Video ID: 3jJRyJDdxF4\n"
          ]
        },
        {
          "output_type": "stream",
          "name": "stderr",
          "text": [
            "\n",
            "100%|██████████| 1/1 [00:00<00:00,  4.69it/s]"
          ]
        },
        {
          "output_type": "stream",
          "name": "stdout",
          "text": [
            "p1 [(0, 4), (25, 27)]\n",
            "p2 [(0, 4), (25, 27)]\n"
          ]
        },
        {
          "output_type": "stream",
          "name": "stderr",
          "text": [
            "\n"
          ]
        },
        {
          "output_type": "stream",
          "name": "stdout",
          "text": [
            "NLP & CNN Available\n",
            "NLP: (0, 4)\n",
            "LSTM: None\n",
            "DeiT (98, 112)\n",
            "\tPredicted=(29, 36),\n",
            "\tExpected=[[0, 0]]\n",
            "[youtube] Extracting URL: ytYfYRj0E98\n",
            "[youtube] ytYfYRj0E98: Downloading webpage\n",
            "[youtube] ytYfYRj0E98: Downloading android player API JSON\n",
            "[youtube] ytYfYRj0E98: Downloading MPD manifest\n",
            "[youtube] Extracting URL: Qv7ZJf0oNow\n",
            "[youtube] Qv7ZJf0oNow: Downloading webpage\n",
            "[youtube] Qv7ZJf0oNow: Downloading android player API JSON\n",
            "[youtube] Extracting URL: TDd1i0UP2nQ\n",
            "[youtube] TDd1i0UP2nQ: Downloading webpage\n",
            "[youtube] TDd1i0UP2nQ: Downloading android player API JSON\n",
            "[youtube] Extracting URL: APR5-upMcG4\n",
            "[youtube] APR5-upMcG4: Downloading webpage\n",
            "[youtube] APR5-upMcG4: Downloading android player API JSON\n",
            "[youtube] Extracting URL: t5bh_clEA3o\n",
            "[youtube] t5bh_clEA3o: Downloading webpage\n",
            "[youtube] t5bh_clEA3o: Downloading android player API JSON\n",
            "t5bh_clEA3o []\n",
            "[youtube] Extracting URL: https://www.youtube.com/watch?v=t5bh_clEA3o\n",
            "[youtube] t5bh_clEA3o: Downloading webpage\n",
            "[youtube] t5bh_clEA3o: Downloading android player API JSON\n",
            "[info] t5bh_clEA3o: Downloading 1 format(s): 248+251\n",
            "[info] There's no subtitles for the requested languages\n",
            "[youtube] Extracting URL: https://www.youtube.com/watch?v=t5bh_clEA3o\n",
            "[youtube] t5bh_clEA3o: Downloading webpage\n",
            "[youtube] t5bh_clEA3o: Downloading android player API JSON\n",
            "[info] t5bh_clEA3o: Downloading subtitles: en\n",
            "[info] t5bh_clEA3o: Downloading 1 format(s): 248+251\n",
            "[info] Writing video subtitles to: /content/TestFolder1/t5bh_clEA3o.en.vtt\n",
            "[download] Destination: /content/TestFolder1/t5bh_clEA3o.en.vtt\n",
            "[download] 100% of   95.57KiB in 00:00:00 at 401.38KiB/s\n",
            "Processing captions...\n",
            "100.00% elapsed: 0:00:00, remaining: 0:00:00"
          ]
        },
        {
          "output_type": "stream",
          "name": "stderr",
          "text": [
            "Opening /content/TestFolder2/data.1.json.gz for reading...\n",
            "Closed /content/TestFolder2/data.1.json.gz.\n",
            "\n",
            "  0%|          | 0/1 [00:00<?, ?it/s]\u001b[A"
          ]
        },
        {
          "output_type": "stream",
          "name": "stdout",
          "text": [
            "Input Video ID: t5bh_clEA3o\n"
          ]
        },
        {
          "output_type": "stream",
          "name": "stderr",
          "text": [
            "\n",
            "100%|██████████| 1/1 [00:01<00:00,  1.02s/it]"
          ]
        },
        {
          "output_type": "stream",
          "name": "stdout",
          "text": [
            "p1 []\n",
            "p2 []\n"
          ]
        },
        {
          "output_type": "stream",
          "name": "stderr",
          "text": [
            "\n"
          ]
        },
        {
          "output_type": "stream",
          "name": "stdout",
          "text": [
            "NLP & CNN Available\n",
            "NLP: (0, 0)\n",
            "LSTM: None\n",
            "DeiT (577, 591)\n",
            "\tPredicted=(173, 177),\n",
            "\tExpected=[[0, 0]]\n",
            "[youtube] Extracting URL: ZmpJ4sRKIF0\n",
            "[youtube] ZmpJ4sRKIF0: Downloading webpage\n",
            "[youtube] ZmpJ4sRKIF0: Downloading android player API JSON\n",
            "ZmpJ4sRKIF0 []\n",
            "[youtube] Extracting URL: https://www.youtube.com/watch?v=ZmpJ4sRKIF0\n",
            "[youtube] ZmpJ4sRKIF0: Downloading webpage\n",
            "[youtube] ZmpJ4sRKIF0: Downloading android player API JSON\n",
            "[info] ZmpJ4sRKIF0: Downloading 1 format(s): 248+251\n",
            "[info] There's no subtitles for the requested languages\n",
            "[youtube] Extracting URL: https://www.youtube.com/watch?v=ZmpJ4sRKIF0\n",
            "[youtube] ZmpJ4sRKIF0: Downloading webpage\n",
            "[youtube] ZmpJ4sRKIF0: Downloading android player API JSON\n",
            "[info] ZmpJ4sRKIF0: Downloading subtitles: en\n",
            "[info] ZmpJ4sRKIF0: Downloading 1 format(s): 248+251\n",
            "[info] Writing video subtitles to: /content/TestFolder1/ZmpJ4sRKIF0.en.vtt\n",
            "[download] Destination: /content/TestFolder1/ZmpJ4sRKIF0.en.vtt\n",
            "[download] 100% of   81.93KiB in 00:00:00 at 920.76KiB/s\n",
            "Processing captions...\n",
            "100.00% elapsed: 0:00:00, remaining: 0:00:00"
          ]
        },
        {
          "output_type": "stream",
          "name": "stderr",
          "text": [
            "Opening /content/TestFolder2/data.1.json.gz for reading...\n",
            "Closed /content/TestFolder2/data.1.json.gz.\n",
            "\n",
            "  0%|          | 0/1 [00:00<?, ?it/s]\u001b[A"
          ]
        },
        {
          "output_type": "stream",
          "name": "stdout",
          "text": [
            "Input Video ID: ZmpJ4sRKIF0\n"
          ]
        },
        {
          "output_type": "stream",
          "name": "stderr",
          "text": [
            "\n",
            "100%|██████████| 1/1 [00:00<00:00,  1.14it/s]"
          ]
        },
        {
          "output_type": "stream",
          "name": "stdout",
          "text": [
            "p1 [(100, 104), (111, 115), (179, 183), (225, 233)]\n",
            "p2 [(100, 104), (111, 115), (179, 183), (225, 233)]\n"
          ]
        },
        {
          "output_type": "stream",
          "name": "stderr",
          "text": [
            "\n"
          ]
        },
        {
          "output_type": "stream",
          "name": "stdout",
          "text": [
            "NLP & CNN Available\n",
            "NLP: (225, 233)\n",
            "LSTM: None\n",
            "DeiT (3, 18)\n",
            "\tPredicted=(158, 168),\n",
            "\tExpected=[[0, 0]]\n",
            "[youtube] Extracting URL: tTiAsKycOpc\n",
            "[youtube] tTiAsKycOpc: Downloading webpage\n",
            "[youtube] tTiAsKycOpc: Downloading android player API JSON\n",
            "[youtube] Extracting URL: Gb3-TsqtfBk\n",
            "[youtube] Gb3-TsqtfBk: Downloading webpage\n",
            "[youtube] Gb3-TsqtfBk: Downloading android player API JSON\n",
            "Gb3-TsqtfBk []\n",
            "[youtube] Extracting URL: https://www.youtube.com/watch?v=Gb3-TsqtfBk\n",
            "[youtube] Gb3-TsqtfBk: Downloading webpage\n",
            "[youtube] Gb3-TsqtfBk: Downloading android player API JSON\n",
            "[info] Gb3-TsqtfBk: Downloading 1 format(s): 313+251\n",
            "[info] There's no subtitles for the requested languages\n",
            "[youtube] Extracting URL: https://www.youtube.com/watch?v=Gb3-TsqtfBk\n",
            "[youtube] Gb3-TsqtfBk: Downloading webpage\n",
            "[youtube] Gb3-TsqtfBk: Downloading android player API JSON\n",
            "[info] Gb3-TsqtfBk: Downloading subtitles: en\n",
            "[info] Gb3-TsqtfBk: Downloading 1 format(s): 313+251\n",
            "[info] Writing video subtitles to: /content/TestFolder1/Gb3-TsqtfBk.en.vtt\n",
            "[download] Destination: /content/TestFolder1/Gb3-TsqtfBk.en.vtt\n",
            "[download] 100% of  160.84KiB in 00:00:00 at 518.30KiB/s\n",
            "Processing captions...\n",
            "100.00% elapsed: 0:00:00, remaining: 0:00:00"
          ]
        },
        {
          "output_type": "stream",
          "name": "stderr",
          "text": [
            "Opening /content/TestFolder2/data.1.json.gz for reading...\n",
            "Closed /content/TestFolder2/data.1.json.gz.\n",
            "\n",
            "  0%|          | 0/1 [00:00<?, ?it/s]\u001b[A"
          ]
        },
        {
          "output_type": "stream",
          "name": "stdout",
          "text": [
            "Input Video ID: Gb3-TsqtfBk\n"
          ]
        },
        {
          "output_type": "stream",
          "name": "stderr",
          "text": [
            "\n",
            "100%|██████████| 1/1 [00:01<00:00,  1.23s/it]"
          ]
        },
        {
          "output_type": "stream",
          "name": "stdout",
          "text": [
            "p1 [(24, 28), (394, 398)]\n",
            "p2 [(24, 28), (394, 398)]\n"
          ]
        },
        {
          "output_type": "stream",
          "name": "stderr",
          "text": [
            "\n"
          ]
        },
        {
          "output_type": "stream",
          "name": "stdout",
          "text": [
            "1/1 [==============================] - 0s 25ms/step\n",
            "ALL Available\n",
            "NLP: (394, 398)\n",
            "LSTM: (731, 754)\n",
            "DeiT (128, 147)\n",
            "\tPredicted=(0, 0),\n",
            "\tExpected=[[0, 0]]\n",
            "[youtube] Extracting URL: uTV0GgivJL8\n",
            "[youtube] uTV0GgivJL8: Downloading webpage\n",
            "[youtube] uTV0GgivJL8: Downloading android player API JSON\n",
            "[youtube] Extracting URL: 1CJTOZJioMM\n",
            "[youtube] 1CJTOZJioMM: Downloading webpage\n",
            "[youtube] 1CJTOZJioMM: Downloading android player API JSON\n",
            "[youtube] Extracting URL: nPcgvIMBv-A\n",
            "[youtube] nPcgvIMBv-A: Downloading webpage\n",
            "[youtube] nPcgvIMBv-A: Downloading android player API JSON\n",
            "[youtube] Extracting URL: s_xgdBDokPw\n",
            "[youtube] s_xgdBDokPw: Downloading webpage\n",
            "[youtube] s_xgdBDokPw: Downloading android player API JSON\n",
            "s_xgdBDokPw []\n",
            "[youtube] Extracting URL: https://www.youtube.com/watch?v=s_xgdBDokPw\n",
            "[youtube] s_xgdBDokPw: Downloading webpage\n",
            "[youtube] s_xgdBDokPw: Downloading android player API JSON\n",
            "[info] s_xgdBDokPw: Downloading 1 format(s): 248+251\n",
            "[info] There's no subtitles for the requested languages\n",
            "[youtube] Extracting URL: https://www.youtube.com/watch?v=s_xgdBDokPw\n",
            "[youtube] s_xgdBDokPw: Downloading webpage\n",
            "[youtube] s_xgdBDokPw: Downloading android player API JSON\n",
            "[info] s_xgdBDokPw: Downloading subtitles: en\n",
            "[info] s_xgdBDokPw: Downloading 1 format(s): 248+251\n",
            "[info] Writing video subtitles to: /content/TestFolder1/s_xgdBDokPw.en.vtt\n",
            "[download] Destination: /content/TestFolder1/s_xgdBDokPw.en.vtt\n",
            "[download] 100% of  109.13KiB in 00:00:00 at 1.82MiB/s\n",
            "Processing captions...\n",
            "100.00% elapsed: 0:00:00, remaining: 0:00:00"
          ]
        },
        {
          "output_type": "stream",
          "name": "stderr",
          "text": [
            "Opening /content/TestFolder2/data.1.json.gz for reading...\n",
            "Closed /content/TestFolder2/data.1.json.gz.\n",
            "\n",
            "  0%|          | 0/1 [00:00<?, ?it/s]\u001b[A"
          ]
        },
        {
          "output_type": "stream",
          "name": "stdout",
          "text": [
            "Input Video ID: s_xgdBDokPw\n"
          ]
        },
        {
          "output_type": "stream",
          "name": "stderr",
          "text": [
            "\n",
            "100%|██████████| 1/1 [00:01<00:00,  1.13s/it]"
          ]
        },
        {
          "output_type": "stream",
          "name": "stdout",
          "text": [
            "p1 [(5, 12), (204, 208)]\n",
            "p2 [(5, 12), (204, 208)]\n"
          ]
        },
        {
          "output_type": "stream",
          "name": "stderr",
          "text": [
            "\n"
          ]
        },
        {
          "output_type": "stream",
          "name": "stdout",
          "text": [
            "NLP & CNN Available\n",
            "NLP: (5, 12)\n",
            "LSTM: None\n",
            "DeiT (442, 456)\n",
            "\tPredicted=(136, 145),\n",
            "\tExpected=[[0, 0]]\n",
            "[youtube] Extracting URL: AO8_52Lo3J0\n",
            "[youtube] AO8_52Lo3J0: Downloading webpage\n",
            "[youtube] AO8_52Lo3J0: Downloading android player API JSON\n",
            "AO8_52Lo3J0 []\n",
            "[youtube] Extracting URL: https://www.youtube.com/watch?v=AO8_52Lo3J0\n",
            "[youtube] AO8_52Lo3J0: Downloading webpage\n",
            "[youtube] AO8_52Lo3J0: Downloading android player API JSON\n",
            "[info] AO8_52Lo3J0: Downloading 1 format(s): 248+251\n",
            "[info] There's no subtitles for the requested languages\n",
            "[youtube] Extracting URL: https://www.youtube.com/watch?v=AO8_52Lo3J0\n",
            "[youtube] AO8_52Lo3J0: Downloading webpage\n",
            "[youtube] AO8_52Lo3J0: Downloading android player API JSON\n",
            "[info] AO8_52Lo3J0: Downloading subtitles: en\n",
            "[info] AO8_52Lo3J0: Downloading 1 format(s): 248+251\n",
            "[info] Writing video subtitles to: /content/TestFolder1/AO8_52Lo3J0.en.vtt\n",
            "[download] Destination: /content/TestFolder1/AO8_52Lo3J0.en.vtt\n",
            "[download] 100% of   47.84KiB in 00:00:00 at 1.36MiB/s\n",
            "Processing captions...\n",
            "100.00% elapsed: 0:00:00, remaining: 0:00:00"
          ]
        },
        {
          "output_type": "stream",
          "name": "stderr",
          "text": [
            "Opening /content/TestFolder2/data.1.json.gz for reading...\n",
            "Closed /content/TestFolder2/data.1.json.gz.\n",
            "\n",
            "  0%|          | 0/1 [00:00<?, ?it/s]\u001b[A"
          ]
        },
        {
          "output_type": "stream",
          "name": "stdout",
          "text": [
            "Input Video ID: AO8_52Lo3J0\n"
          ]
        },
        {
          "output_type": "stream",
          "name": "stderr",
          "text": [
            "\n",
            "100%|██████████| 1/1 [00:00<00:00,  1.84it/s]"
          ]
        },
        {
          "output_type": "stream",
          "name": "stdout",
          "text": [
            "p1 [(68, 71), (86, 96), (107, 111), (120, 124)]\n",
            "p2 [(68, 71), (86, 96), (107, 111), (120, 124)]\n"
          ]
        },
        {
          "output_type": "stream",
          "name": "stderr",
          "text": [
            "\n"
          ]
        },
        {
          "output_type": "stream",
          "name": "stdout",
          "text": [
            "1/1 [==============================] - 0s 36ms/step\n",
            "ALL Available\n",
            "NLP: (86, 96)\n",
            "LSTM: (157, 192)\n",
            "DeiT (244, 258)\n",
            "\tPredicted=(0, 0),\n",
            "\tExpected=[[0, 0]]\n",
            "[youtube] Extracting URL: UMW4w6wMdL8\n",
            "[youtube] UMW4w6wMdL8: Downloading webpage\n",
            "[youtube] UMW4w6wMdL8: Downloading android player API JSON\n",
            "UMW4w6wMdL8 []\n",
            "[youtube] Extracting URL: https://www.youtube.com/watch?v=UMW4w6wMdL8\n",
            "[youtube] UMW4w6wMdL8: Downloading webpage\n",
            "[youtube] UMW4w6wMdL8: Downloading android player API JSON\n",
            "[info] UMW4w6wMdL8: Downloading 1 format(s): 313+251\n",
            "[info] There's no subtitles for the requested languages\n",
            "[youtube] Extracting URL: https://www.youtube.com/watch?v=UMW4w6wMdL8\n",
            "[youtube] UMW4w6wMdL8: Downloading webpage\n",
            "[youtube] UMW4w6wMdL8: Downloading android player API JSON\n",
            "[info] UMW4w6wMdL8: Downloading subtitles: en\n",
            "[info] UMW4w6wMdL8: Downloading 1 format(s): 313+251\n",
            "[info] Writing video subtitles to: /content/TestFolder1/UMW4w6wMdL8.en.vtt\n",
            "[download] Destination: /content/TestFolder1/UMW4w6wMdL8.en.vtt\n",
            "[download] 100% of   66.23KiB in 00:00:00 at 1.54MiB/s\n",
            "Processing captions...\n",
            "100.00% elapsed: 0:00:00, remaining: 0:00:00"
          ]
        },
        {
          "output_type": "stream",
          "name": "stderr",
          "text": [
            "Opening /content/TestFolder2/data.1.json.gz for reading...\n",
            "Closed /content/TestFolder2/data.1.json.gz.\n",
            "\n",
            "  0%|          | 0/1 [00:00<?, ?it/s]\u001b[A"
          ]
        },
        {
          "output_type": "stream",
          "name": "stdout",
          "text": [
            "Input Video ID: UMW4w6wMdL8\n"
          ]
        },
        {
          "output_type": "stream",
          "name": "stderr",
          "text": [
            "\n",
            "100%|██████████| 1/1 [00:00<00:00,  1.31it/s]"
          ]
        },
        {
          "output_type": "stream",
          "name": "stdout",
          "text": [
            "p1 [(151, 155), (161, 169)]\n",
            "p2 [(151, 155), (161, 169)]\n"
          ]
        },
        {
          "output_type": "stream",
          "name": "stderr",
          "text": [
            "\n"
          ]
        },
        {
          "output_type": "stream",
          "name": "stdout",
          "text": [
            "1/1 [==============================] - 0s 29ms/step\n",
            "ALL Available\n",
            "NLP: (161, 169)\n",
            "LSTM: (441, 455)\n",
            "DeiT (432, 446)\n",
            "\tPredicted=(0, 0),\n",
            "\tExpected=[[0, 0]]\n",
            "IOU: 0.640485373212646\n",
            "Confusion matrix [[106305    830]\n",
            " [  1065    112]]\n",
            "Accuracy 0.9825042469901766\n",
            "Precision 0.11889596602972399\n",
            "Recall 0.0951571792693288\n",
            "[youtube] Extracting URL: 5A8GUUuF0Gw\n",
            "[youtube] 5A8GUUuF0Gw: Downloading webpage\n",
            "[youtube] 5A8GUUuF0Gw: Downloading android player API JSON\n",
            "5A8GUUuF0Gw []\n",
            "[youtube] Extracting URL: https://www.youtube.com/watch?v=5A8GUUuF0Gw\n",
            "[youtube] 5A8GUUuF0Gw: Downloading webpage\n",
            "[youtube] 5A8GUUuF0Gw: Downloading android player API JSON\n",
            "[info] 5A8GUUuF0Gw: Downloading 1 format(s): 315+251\n",
            "[info] There's no subtitles for the requested languages\n",
            "[youtube] Extracting URL: https://www.youtube.com/watch?v=5A8GUUuF0Gw\n",
            "[youtube] 5A8GUUuF0Gw: Downloading webpage\n",
            "[youtube] 5A8GUUuF0Gw: Downloading android player API JSON\n",
            "[info] 5A8GUUuF0Gw: Downloading subtitles: en\n",
            "[info] 5A8GUUuF0Gw: Downloading 1 format(s): 315+251\n",
            "[info] Writing video subtitles to: /content/TestFolder1/5A8GUUuF0Gw.en.vtt\n",
            "[download] Destination: /content/TestFolder1/5A8GUUuF0Gw.en.vtt\n",
            "[download] 100% of   51.06KiB in 00:00:00 at 592.55KiB/s\n",
            "Processing captions...\n",
            "100.00% elapsed: 0:00:00, remaining: 0:00:00"
          ]
        },
        {
          "output_type": "stream",
          "name": "stderr",
          "text": [
            "Opening /content/TestFolder2/data.1.json.gz for reading...\n",
            "Closed /content/TestFolder2/data.1.json.gz.\n",
            "\n",
            "  0%|          | 0/1 [00:00<?, ?it/s]\u001b[A"
          ]
        },
        {
          "output_type": "stream",
          "name": "stdout",
          "text": [
            "Input Video ID: 5A8GUUuF0Gw\n"
          ]
        },
        {
          "output_type": "stream",
          "name": "stderr",
          "text": [
            "\n",
            "100%|██████████| 1/1 [00:00<00:00,  1.59it/s]"
          ]
        },
        {
          "output_type": "stream",
          "name": "stdout",
          "text": [
            "p1 [(137, 141), (157, 160)]\n",
            "p2 [(137, 141), (157, 160)]\n"
          ]
        },
        {
          "output_type": "stream",
          "name": "stderr",
          "text": [
            "\n"
          ]
        },
        {
          "output_type": "stream",
          "name": "stdout",
          "text": [
            "1/1 [==============================] - 0s 27ms/step\n",
            "ALL Available\n",
            "NLP: (137, 141)\n",
            "LSTM: (0, 0)\n",
            "DeiT (236, 250)\n",
            "\tPredicted=(0, 0),\n",
            "\tExpected=[[0, 0]]\n",
            "[youtube] Extracting URL: _ril0mgmMGk\n",
            "[youtube] _ril0mgmMGk: Downloading webpage\n",
            "[youtube] _ril0mgmMGk: Downloading android player API JSON\n",
            "_ril0mgmMGk []\n",
            "[youtube] Extracting URL: https://www.youtube.com/watch?v=_ril0mgmMGk\n",
            "[youtube] _ril0mgmMGk: Downloading webpage\n",
            "[youtube] _ril0mgmMGk: Downloading android player API JSON\n",
            "[info] _ril0mgmMGk: Downloading 1 format(s): 248+251\n",
            "[info] There's no subtitles for the requested languages\n",
            "[youtube] Extracting URL: https://www.youtube.com/watch?v=_ril0mgmMGk\n",
            "[youtube] _ril0mgmMGk: Downloading webpage\n",
            "[youtube] _ril0mgmMGk: Downloading android player API JSON\n",
            "[info] _ril0mgmMGk: Downloading subtitles: en\n",
            "[info] _ril0mgmMGk: Downloading 1 format(s): 248+251\n",
            "[info] Writing video subtitles to: /content/TestFolder1/_ril0mgmMGk.en.vtt\n",
            "[download] Destination: /content/TestFolder1/_ril0mgmMGk.en.vtt\n",
            "[download] 100% of  118.67KiB in 00:00:00 at 1.19MiB/s\n",
            "Processing captions...\n",
            "100.00% elapsed: 0:00:00, remaining: 0:00:00"
          ]
        },
        {
          "output_type": "stream",
          "name": "stderr",
          "text": [
            "Opening /content/TestFolder2/data.1.json.gz for reading...\n",
            "Closed /content/TestFolder2/data.1.json.gz.\n",
            "\n",
            "  0%|          | 0/1 [00:00<?, ?it/s]\u001b[A"
          ]
        },
        {
          "output_type": "stream",
          "name": "stdout",
          "text": [
            "Input Video ID: _ril0mgmMGk\n"
          ]
        },
        {
          "output_type": "stream",
          "name": "stderr",
          "text": [
            "\n",
            "100%|██████████| 1/1 [00:01<00:00,  1.23s/it]"
          ]
        },
        {
          "output_type": "stream",
          "name": "stdout",
          "text": [
            "p1 [(10, 23), (48, 61)]\n",
            "p2 [(10, 23), (48, 61)]\n"
          ]
        },
        {
          "output_type": "stream",
          "name": "stderr",
          "text": [
            "\n"
          ]
        },
        {
          "output_type": "stream",
          "name": "stdout",
          "text": [
            "1/1 [==============================] - 0s 26ms/step\n",
            "ALL Available\n",
            "NLP: (48, 61)\n",
            "LSTM: (0, 0)\n",
            "DeiT (435, 457)\n",
            "\tPredicted=(0, 0),\n",
            "\tExpected=[[0, 0]]\n",
            "[youtube] Extracting URL: mw0ozps3jLM\n",
            "[youtube] mw0ozps3jLM: Downloading webpage\n",
            "[youtube] mw0ozps3jLM: Downloading android player API JSON\n",
            "[youtube] Extracting URL: z4voBpLi1w8\n",
            "[youtube] z4voBpLi1w8: Downloading webpage\n",
            "[youtube] z4voBpLi1w8: Downloading android player API JSON\n",
            "[youtube] z4voBpLi1w8: Downloading MPD manifest\n",
            "z4voBpLi1w8 []\n",
            "[youtube] Extracting URL: https://www.youtube.com/watch?v=z4voBpLi1w8\n",
            "[youtube] z4voBpLi1w8: Downloading webpage\n",
            "[youtube] z4voBpLi1w8: Downloading android player API JSON\n",
            "[youtube] z4voBpLi1w8: Downloading MPD manifest\n",
            "[info] z4voBpLi1w8: Downloading 1 format(s): 248+251\n",
            "[info] There's no subtitles for the requested languages\n",
            "[youtube] Extracting URL: https://www.youtube.com/watch?v=z4voBpLi1w8\n",
            "[youtube] z4voBpLi1w8: Downloading webpage\n",
            "[youtube] z4voBpLi1w8: Downloading android player API JSON\n",
            "[youtube] z4voBpLi1w8: Downloading MPD manifest\n",
            "[info] z4voBpLi1w8: Downloading subtitles: en\n",
            "[info] z4voBpLi1w8: Downloading 1 format(s): 248+251\n",
            "[info] Writing video subtitles to: /content/TestFolder1/z4voBpLi1w8.en.vtt\n",
            "[download] Destination: /content/TestFolder1/z4voBpLi1w8.en.vtt\n",
            "[download] 100% of  113.25KiB in 00:00:00 at 1.75MiB/s\n",
            "Processing captions...\n",
            "100.00% elapsed: 0:00:00, remaining: 0:00:00"
          ]
        },
        {
          "output_type": "stream",
          "name": "stderr",
          "text": [
            "Opening /content/TestFolder2/data.1.json.gz for reading...\n",
            "Closed /content/TestFolder2/data.1.json.gz.\n",
            "\n",
            "  0%|          | 0/1 [00:00<?, ?it/s]\u001b[A"
          ]
        },
        {
          "output_type": "stream",
          "name": "stdout",
          "text": [
            "Input Video ID: z4voBpLi1w8\n"
          ]
        },
        {
          "output_type": "stream",
          "name": "stderr",
          "text": [
            "\n",
            "100%|██████████| 1/1 [00:01<00:00,  1.40s/it]"
          ]
        },
        {
          "output_type": "stream",
          "name": "stdout",
          "text": [
            "p1 [(19, 23), (293, 297), (333, 337)]\n",
            "p2 [(19, 23), (293, 297), (333, 337)]\n"
          ]
        },
        {
          "output_type": "stream",
          "name": "stderr",
          "text": [
            "\n"
          ]
        },
        {
          "output_type": "stream",
          "name": "stdout",
          "text": [
            "NLP & CNN Available\n",
            "NLP: (333, 337)\n",
            "LSTM: None\n",
            "DeiT (0, 0)\n",
            "\tPredicted=(233, 235),\n",
            "\tExpected=[[0, 0]]\n",
            "[youtube] Extracting URL: JXDv3GLDJLU\n",
            "[youtube] JXDv3GLDJLU: Downloading webpage\n",
            "[youtube] JXDv3GLDJLU: Downloading android player API JSON\n",
            "JXDv3GLDJLU []\n",
            "[youtube] Extracting URL: https://www.youtube.com/watch?v=JXDv3GLDJLU\n",
            "[youtube] JXDv3GLDJLU: Downloading webpage\n",
            "[youtube] JXDv3GLDJLU: Downloading android player API JSON\n",
            "[info] JXDv3GLDJLU: Downloading 1 format(s): 271+251\n",
            "[info] There's no subtitles for the requested languages\n",
            "[youtube] Extracting URL: https://www.youtube.com/watch?v=JXDv3GLDJLU\n",
            "[youtube] JXDv3GLDJLU: Downloading webpage\n",
            "[youtube] JXDv3GLDJLU: Downloading android player API JSON\n",
            "[info] JXDv3GLDJLU: Downloading subtitles: en\n",
            "[info] JXDv3GLDJLU: Downloading 1 format(s): 271+251\n",
            "[info] Writing video subtitles to: /content/TestFolder1/JXDv3GLDJLU.en.vtt\n",
            "[download] Destination: /content/TestFolder1/JXDv3GLDJLU.en.vtt\n",
            "[download] 100% of   94.28KiB in 00:00:00 at 1.58MiB/s\n",
            "Processing captions...\n",
            "100.00% elapsed: 0:00:00, remaining: 0:00:00"
          ]
        },
        {
          "output_type": "stream",
          "name": "stderr",
          "text": [
            "Opening /content/TestFolder2/data.1.json.gz for reading...\n",
            "Closed /content/TestFolder2/data.1.json.gz.\n",
            "\n",
            "  0%|          | 0/1 [00:00<?, ?it/s]\u001b[A"
          ]
        },
        {
          "output_type": "stream",
          "name": "stdout",
          "text": [
            "Input Video ID: JXDv3GLDJLU\n"
          ]
        },
        {
          "output_type": "stream",
          "name": "stderr",
          "text": [
            "\n",
            "100%|██████████| 1/1 [00:01<00:00,  1.02s/it]"
          ]
        },
        {
          "output_type": "stream",
          "name": "stdout",
          "text": [
            "p1 [(26, 29), (155, 160)]\n",
            "p2 [(26, 29), (155, 160)]\n"
          ]
        },
        {
          "output_type": "stream",
          "name": "stderr",
          "text": [
            "\n"
          ]
        },
        {
          "output_type": "stream",
          "name": "stdout",
          "text": [
            "1/1 [==============================] - 0s 45ms/step\n",
            "ALL Available\n",
            "NLP: (155, 160)\n",
            "LSTM: (0, 0)\n",
            "DeiT (0, 0)\n",
            "\tPredicted=(0, 0),\n",
            "\tExpected=[[0, 0]]\n",
            "[youtube] Extracting URL: oVH9gB0Xa7w\n",
            "[youtube] oVH9gB0Xa7w: Downloading webpage\n",
            "[youtube] oVH9gB0Xa7w: Downloading android player API JSON\n",
            "oVH9gB0Xa7w []\n",
            "[youtube] Extracting URL: https://www.youtube.com/watch?v=oVH9gB0Xa7w\n",
            "[youtube] oVH9gB0Xa7w: Downloading webpage\n",
            "[youtube] oVH9gB0Xa7w: Downloading android player API JSON\n",
            "[info] oVH9gB0Xa7w: Downloading 1 format(s): 248+251\n",
            "[info] There's no subtitles for the requested languages\n",
            "[youtube] Extracting URL: https://www.youtube.com/watch?v=oVH9gB0Xa7w\n",
            "[youtube] oVH9gB0Xa7w: Downloading webpage\n",
            "[youtube] oVH9gB0Xa7w: Downloading android player API JSON\n",
            "[info] oVH9gB0Xa7w: Downloading subtitles: en\n",
            "[info] oVH9gB0Xa7w: Downloading 1 format(s): 248+251\n",
            "[info] Writing video subtitles to: /content/TestFolder1/oVH9gB0Xa7w.en.vtt\n",
            "[download] Destination: /content/TestFolder1/oVH9gB0Xa7w.en.vtt\n",
            "[download] 100% of   37.90KiB in 00:00:00 at 1.04MiB/s\n",
            "Processing captions...\n",
            "100.00% elapsed: 0:00:00, remaining: 0:00:00"
          ]
        },
        {
          "output_type": "stream",
          "name": "stderr",
          "text": [
            "Opening /content/TestFolder2/data.1.json.gz for reading...\n",
            "Closed /content/TestFolder2/data.1.json.gz.\n",
            "\n",
            "  0%|          | 0/1 [00:00<?, ?it/s]\u001b[A"
          ]
        },
        {
          "output_type": "stream",
          "name": "stdout",
          "text": [
            "Input Video ID: oVH9gB0Xa7w\n"
          ]
        },
        {
          "output_type": "stream",
          "name": "stderr",
          "text": [
            "\n",
            "100%|██████████| 1/1 [00:00<00:00,  1.94it/s]"
          ]
        },
        {
          "output_type": "stream",
          "name": "stdout",
          "text": [
            "p1 []\n",
            "p2 []\n"
          ]
        },
        {
          "output_type": "stream",
          "name": "stderr",
          "text": [
            "\n"
          ]
        },
        {
          "output_type": "stream",
          "name": "stdout",
          "text": [
            "1/1 [==============================] - 0s 41ms/step\n",
            "ALL Available\n",
            "NLP: (0, 0)\n",
            "LSTM: (38, 76)\n",
            "DeiT (0, 0)\n",
            "\tPredicted=(0, 0),\n",
            "\tExpected=[[0, 0]]\n",
            "[youtube] Extracting URL: ILwpc5MUmUM\n",
            "[youtube] ILwpc5MUmUM: Downloading webpage\n",
            "[youtube] ILwpc5MUmUM: Downloading android player API JSON\n",
            "[youtube] ILwpc5MUmUM: Downloading MPD manifest\n",
            "ILwpc5MUmUM []\n",
            "[youtube] Extracting URL: https://www.youtube.com/watch?v=ILwpc5MUmUM\n",
            "[youtube] ILwpc5MUmUM: Downloading webpage\n",
            "[youtube] ILwpc5MUmUM: Downloading android player API JSON\n",
            "[youtube] ILwpc5MUmUM: Downloading MPD manifest\n",
            "[info] ILwpc5MUmUM: Downloading 1 format(s): 248-dash+251\n",
            "[info] There's no subtitles for the requested languages\n",
            "[youtube] Extracting URL: https://www.youtube.com/watch?v=ILwpc5MUmUM\n",
            "[youtube] ILwpc5MUmUM: Downloading webpage\n",
            "[youtube] ILwpc5MUmUM: Downloading android player API JSON\n",
            "[youtube] ILwpc5MUmUM: Downloading MPD manifest\n",
            "[info] ILwpc5MUmUM: Downloading subtitles: en\n",
            "[info] ILwpc5MUmUM: Downloading 1 format(s): 248-dash+251\n",
            "[info] Writing video subtitles to: /content/TestFolder1/ILwpc5MUmUM.en.vtt\n",
            "[download] Destination: /content/TestFolder1/ILwpc5MUmUM.en.vtt\n",
            "[download] 100% of   12.69KiB in 00:00:00 at 209.45KiB/s\n",
            "Processing captions...\n",
            "100.00% elapsed: 0:00:00, remaining: 0:00:00"
          ]
        },
        {
          "output_type": "stream",
          "name": "stderr",
          "text": [
            "Opening /content/TestFolder2/data.1.json.gz for reading...\n",
            "Closed /content/TestFolder2/data.1.json.gz.\n",
            "\n",
            "  0%|          | 0/1 [00:00<?, ?it/s]\u001b[A"
          ]
        },
        {
          "output_type": "stream",
          "name": "stdout",
          "text": [
            "Input Video ID: ILwpc5MUmUM\n"
          ]
        },
        {
          "output_type": "stream",
          "name": "stderr",
          "text": [
            "\n",
            "100%|██████████| 1/1 [00:00<00:00,  3.79it/s]"
          ]
        },
        {
          "output_type": "stream",
          "name": "stdout",
          "text": [
            "p1 []\n",
            "p2 []\n"
          ]
        },
        {
          "output_type": "stream",
          "name": "stderr",
          "text": [
            "\n"
          ]
        },
        {
          "output_type": "stream",
          "name": "stdout",
          "text": [
            "NLP & CNN Available\n",
            "NLP: (0, 0)\n",
            "LSTM: None\n",
            "DeiT (101, 119)\n",
            "\tPredicted=(30, 35),\n",
            "\tExpected=[[0, 0]]\n",
            "[youtube] Extracting URL: 4WroAQxx40U\n",
            "[youtube] 4WroAQxx40U: Downloading webpage\n",
            "[youtube] 4WroAQxx40U: Downloading android player API JSON\n",
            "[youtube] Extracting URL: AdRwM_QRE9c\n",
            "[youtube] AdRwM_QRE9c: Downloading webpage\n",
            "[youtube] AdRwM_QRE9c: Downloading android player API JSON\n",
            "[youtube] Extracting URL: _uNRfNM-Z2k\n",
            "[youtube] _uNRfNM-Z2k: Downloading webpage\n",
            "[youtube] _uNRfNM-Z2k: Downloading android player API JSON\n",
            "[youtube] Extracting URL: 0K39ONrgl_0\n",
            "[youtube] 0K39ONrgl_0: Downloading webpage\n",
            "[youtube] 0K39ONrgl_0: Downloading android player API JSON\n",
            "[youtube] Extracting URL: KcXVh125afc\n",
            "[youtube] KcXVh125afc: Downloading webpage\n",
            "[youtube] KcXVh125afc: Downloading android player API JSON\n",
            "[youtube] Extracting URL: oppFKafOsO0\n",
            "[youtube] oppFKafOsO0: Downloading webpage\n",
            "[youtube] oppFKafOsO0: Downloading android player API JSON\n",
            "[youtube] Extracting URL: tOUIDYHq2ok\n",
            "[youtube] tOUIDYHq2ok: Downloading webpage\n",
            "[youtube] tOUIDYHq2ok: Downloading android player API JSON\n",
            "tOUIDYHq2ok []\n",
            "[youtube] Extracting URL: https://www.youtube.com/watch?v=tOUIDYHq2ok\n",
            "[youtube] tOUIDYHq2ok: Downloading webpage\n",
            "[youtube] tOUIDYHq2ok: Downloading android player API JSON\n",
            "[info] tOUIDYHq2ok: Downloading 1 format(s): 313+251\n",
            "[info] There's no subtitles for the requested languages\n",
            "[youtube] Extracting URL: https://www.youtube.com/watch?v=tOUIDYHq2ok\n",
            "[youtube] tOUIDYHq2ok: Downloading webpage\n",
            "[youtube] tOUIDYHq2ok: Downloading android player API JSON\n",
            "[info] tOUIDYHq2ok: Downloading subtitles: en\n",
            "[info] tOUIDYHq2ok: Downloading 1 format(s): 313+251\n",
            "[info] Writing video subtitles to: /content/TestFolder1/tOUIDYHq2ok.en.vtt\n",
            "[download] Destination: /content/TestFolder1/tOUIDYHq2ok.en.vtt\n",
            "[download] 100% of   86.54KiB in 00:00:00 at 1.00MiB/s\n",
            "Processing captions...\n",
            "100.00% elapsed: 0:00:00, remaining: 0:00:00"
          ]
        },
        {
          "output_type": "stream",
          "name": "stderr",
          "text": [
            "Opening /content/TestFolder2/data.1.json.gz for reading...\n",
            "Closed /content/TestFolder2/data.1.json.gz.\n",
            "\n",
            "  0%|          | 0/1 [00:00<?, ?it/s]\u001b[A"
          ]
        },
        {
          "output_type": "stream",
          "name": "stdout",
          "text": [
            "Input Video ID: tOUIDYHq2ok\n"
          ]
        },
        {
          "output_type": "stream",
          "name": "stderr",
          "text": [
            "\n",
            "100%|██████████| 1/1 [00:00<00:00,  1.23it/s]"
          ]
        },
        {
          "output_type": "stream",
          "name": "stdout",
          "text": [
            "p1 [(39, 44), (94, 103), (116, 121), (238, 242)]\n",
            "p2 [(39, 44), (94, 103), (116, 121), (238, 242)]\n"
          ]
        },
        {
          "output_type": "stream",
          "name": "stderr",
          "text": [
            "\n"
          ]
        },
        {
          "output_type": "stream",
          "name": "stdout",
          "text": [
            "NLP & CNN Available\n",
            "NLP: (94, 103)\n",
            "LSTM: None\n",
            "DeiT (229, 245)\n",
            "\tPredicted=(134, 145),\n",
            "\tExpected=[[0, 0]]\n",
            "[youtube] Extracting URL: KR7SR967fpE\n",
            "[youtube] KR7SR967fpE: Downloading webpage\n",
            "[youtube] KR7SR967fpE: Downloading android player API JSON\n",
            "KR7SR967fpE []\n",
            "[youtube] Extracting URL: https://www.youtube.com/watch?v=KR7SR967fpE\n",
            "[youtube] KR7SR967fpE: Downloading webpage\n",
            "[youtube] KR7SR967fpE: Downloading android player API JSON\n",
            "[info] KR7SR967fpE: Downloading 1 format(s): 248+251\n",
            "[info] There's no subtitles for the requested languages\n",
            "[youtube] Extracting URL: https://www.youtube.com/watch?v=KR7SR967fpE\n",
            "[youtube] KR7SR967fpE: Downloading webpage\n",
            "[youtube] KR7SR967fpE: Downloading android player API JSON\n",
            "[info] KR7SR967fpE: Downloading subtitles: en\n",
            "[info] KR7SR967fpE: Downloading 1 format(s): 248+251\n",
            "[info] Writing video subtitles to: /content/TestFolder1/KR7SR967fpE.en.vtt\n",
            "[download] Destination: /content/TestFolder1/KR7SR967fpE.en.vtt\n",
            "[download] 100% of   75.13KiB in 00:00:00 at 1.20MiB/s\n",
            "Processing captions...\n",
            "100.00% elapsed: 0:00:00, remaining: 0:00:00"
          ]
        },
        {
          "output_type": "stream",
          "name": "stderr",
          "text": [
            "Opening /content/TestFolder2/data.1.json.gz for reading...\n",
            "Closed /content/TestFolder2/data.1.json.gz.\n",
            "\n",
            "  0%|          | 0/1 [00:00<?, ?it/s]\u001b[A"
          ]
        },
        {
          "output_type": "stream",
          "name": "stdout",
          "text": [
            "Input Video ID: KR7SR967fpE\n"
          ]
        },
        {
          "output_type": "stream",
          "name": "stderr",
          "text": [
            "\n",
            "100%|██████████| 1/1 [00:01<00:00,  1.12s/it]"
          ]
        },
        {
          "output_type": "stream",
          "name": "stdout",
          "text": [
            "p1 [(0, 1), (29, 33), (40, 44), (64, 68), (78, 87), (195, 196)]\n",
            "p2 [(0, 1), (29, 33), (40, 44), (64, 68), (78, 87), (195, 196)]\n"
          ]
        },
        {
          "output_type": "stream",
          "name": "stderr",
          "text": [
            "\n"
          ]
        },
        {
          "output_type": "stream",
          "name": "stdout",
          "text": [
            "NLP & CNN Available\n",
            "NLP: (78, 87)\n",
            "LSTM: None\n",
            "DeiT (177, 194)\n",
            "\tPredicted=(107, 119),\n",
            "\tExpected=[[0, 0]]\n",
            "[youtube] Extracting URL: fozVwKNumkk\n",
            "[youtube] fozVwKNumkk: Downloading webpage\n",
            "[youtube] fozVwKNumkk: Downloading android player API JSON\n",
            "fozVwKNumkk []\n",
            "[youtube] Extracting URL: https://www.youtube.com/watch?v=fozVwKNumkk\n",
            "[youtube] fozVwKNumkk: Downloading webpage\n",
            "[youtube] fozVwKNumkk: Downloading android player API JSON\n",
            "[info] fozVwKNumkk: Downloading 1 format(s): 248+251\n",
            "[info] There's no subtitles for the requested languages\n",
            "[youtube] Extracting URL: https://www.youtube.com/watch?v=fozVwKNumkk\n",
            "[youtube] fozVwKNumkk: Downloading webpage\n",
            "[youtube] fozVwKNumkk: Downloading android player API JSON\n",
            "[info] fozVwKNumkk: Downloading subtitles: en\n",
            "[info] fozVwKNumkk: Downloading 1 format(s): 248+251\n",
            "[info] Writing video subtitles to: /content/TestFolder1/fozVwKNumkk.en.vtt\n",
            "[download] Destination: /content/TestFolder1/fozVwKNumkk.en.vtt\n",
            "[download] 100% of    5.39KiB in 00:00:00 at 26.72KiB/s\n",
            "Processing captions...\n",
            "100.00% elapsed: 0:00:00, remaining: 0:00:00"
          ]
        },
        {
          "output_type": "stream",
          "name": "stderr",
          "text": [
            "Opening /content/TestFolder2/data.1.json.gz for reading...\n",
            "Closed /content/TestFolder2/data.1.json.gz.\n",
            "\n",
            "100%|██████████| 1/1 [00:00<00:00, 10.84it/s]"
          ]
        },
        {
          "output_type": "stream",
          "name": "stdout",
          "text": [
            "Input Video ID: fozVwKNumkk\n",
            "p1 [(5, 10)]\n",
            "p2 [(5, 10)]\n"
          ]
        },
        {
          "output_type": "stream",
          "name": "stderr",
          "text": [
            "\n"
          ]
        },
        {
          "output_type": "stream",
          "name": "stdout",
          "text": [
            "NLP & CNN Available\n",
            "NLP: (5, 10)\n",
            "LSTM: None\n",
            "DeiT (0, 0)\n",
            "\tPredicted=(3, 7),\n",
            "\tExpected=[[0, 0]]\n",
            "[youtube] Extracting URL: dE2T6ZxcAiQ\n",
            "[youtube] dE2T6ZxcAiQ: Downloading webpage\n",
            "[youtube] dE2T6ZxcAiQ: Downloading android player API JSON\n",
            "[youtube] Extracting URL: LvxaofxAWTM\n",
            "[youtube] LvxaofxAWTM: Downloading webpage\n",
            "[youtube] LvxaofxAWTM: Downloading android player API JSON\n",
            "LvxaofxAWTM []\n",
            "[youtube] Extracting URL: https://www.youtube.com/watch?v=LvxaofxAWTM\n",
            "[youtube] LvxaofxAWTM: Downloading webpage\n",
            "[youtube] LvxaofxAWTM: Downloading android player API JSON\n",
            "[info] LvxaofxAWTM: Downloading 1 format(s): 308+251\n",
            "[info] There's no subtitles for the requested languages\n",
            "[youtube] Extracting URL: https://www.youtube.com/watch?v=LvxaofxAWTM\n",
            "[youtube] LvxaofxAWTM: Downloading webpage\n",
            "[youtube] LvxaofxAWTM: Downloading android player API JSON\n",
            "[info] LvxaofxAWTM: Downloading subtitles: en\n",
            "[info] LvxaofxAWTM: Downloading 1 format(s): 308+251\n",
            "[info] Writing video subtitles to: /content/TestFolder1/LvxaofxAWTM.en.vtt\n",
            "[download] Destination: /content/TestFolder1/LvxaofxAWTM.en.vtt\n",
            "[download] 100% of   34.70KiB in 00:00:00 at 389.81KiB/s\n",
            "Processing captions...\n",
            "100.00% elapsed: 0:00:00, remaining: 0:00:00"
          ]
        },
        {
          "output_type": "stream",
          "name": "stderr",
          "text": [
            "Opening /content/TestFolder2/data.1.json.gz for reading...\n",
            "Closed /content/TestFolder2/data.1.json.gz.\n",
            "\n",
            "  0%|          | 0/1 [00:00<?, ?it/s]\u001b[A"
          ]
        },
        {
          "output_type": "stream",
          "name": "stdout",
          "text": [
            "Input Video ID: LvxaofxAWTM\n"
          ]
        },
        {
          "output_type": "stream",
          "name": "stderr",
          "text": [
            "\n",
            "100%|██████████| 1/1 [00:00<00:00,  1.09it/s]"
          ]
        },
        {
          "output_type": "stream",
          "name": "stdout",
          "text": [
            "p1 [(5, 6), (None, None)]\n",
            "p2 [(5, 6), (None, None)]\n"
          ]
        },
        {
          "output_type": "stream",
          "name": "stderr",
          "text": [
            "\n"
          ]
        },
        {
          "output_type": "stream",
          "name": "stdout",
          "text": [
            "NLP & CNN Available\n",
            "NLP: (0, 0)\n",
            "LSTM: None\n",
            "DeiT (0, 0)\n",
            "\tPredicted=(0, 0),\n",
            "\tExpected=[[0, 0]]\n",
            "IOU: 0.6430729656816614\n",
            "Confusion matrix [[111732    869]\n",
            " [  1070    117]]\n",
            "Accuracy 0.9829595387914367\n",
            "Precision 0.11866125760649088\n",
            "Recall 0.09856781802864364\n",
            "[youtube] Extracting URL: 2P1Sa1GhGWk\n",
            "[youtube] 2P1Sa1GhGWk: Downloading webpage\n",
            "[youtube] 2P1Sa1GhGWk: Downloading android player API JSON\n",
            "2P1Sa1GhGWk []\n",
            "[youtube] Extracting URL: https://www.youtube.com/watch?v=2P1Sa1GhGWk\n",
            "[youtube] 2P1Sa1GhGWk: Downloading webpage\n",
            "[youtube] 2P1Sa1GhGWk: Downloading android player API JSON\n",
            "[info] 2P1Sa1GhGWk: Downloading 1 format(s): 303+251\n",
            "[info] There's no subtitles for the requested languages\n",
            "[youtube] Extracting URL: https://www.youtube.com/watch?v=2P1Sa1GhGWk\n",
            "[youtube] 2P1Sa1GhGWk: Downloading webpage\n",
            "[youtube] 2P1Sa1GhGWk: Downloading android player API JSON\n",
            "[info] 2P1Sa1GhGWk: Downloading subtitles: en\n",
            "[info] 2P1Sa1GhGWk: Downloading 1 format(s): 303+251\n",
            "[info] Writing video subtitles to: /content/TestFolder1/2P1Sa1GhGWk.en.vtt\n",
            "[download] Destination: /content/TestFolder1/2P1Sa1GhGWk.en.vtt\n",
            "[download] 100% of    9.05KiB in 00:00:00 at 42.98KiB/s\n",
            "Processing captions...\n",
            "100.00% elapsed: 0:00:00, remaining: 0:00:00"
          ]
        },
        {
          "output_type": "stream",
          "name": "stderr",
          "text": [
            "Opening /content/TestFolder2/data.1.json.gz for reading...\n",
            "Closed /content/TestFolder2/data.1.json.gz.\n",
            "\n",
            "  0%|          | 0/1 [00:00<?, ?it/s]\u001b[A"
          ]
        },
        {
          "output_type": "stream",
          "name": "stdout",
          "text": [
            "Input Video ID: 2P1Sa1GhGWk\n"
          ]
        },
        {
          "output_type": "stream",
          "name": "stderr",
          "text": [
            "\n",
            "100%|██████████| 1/1 [00:00<00:00,  5.36it/s]\n"
          ]
        },
        {
          "output_type": "stream",
          "name": "stdout",
          "text": [
            "p1 [(0, 9), (None, None)]\n",
            "p2 [(0, 9), (None, None)]\n",
            "NLP & CNN Available\n",
            "NLP: (0, 0)\n",
            "LSTM: None\n",
            "DeiT (0, 0)\n",
            "\tPredicted=(0, 0),\n",
            "\tExpected=[[0, 0]]\n",
            "[youtube] Extracting URL: OBwJfr-BRIs\n",
            "[youtube] OBwJfr-BRIs: Downloading webpage\n",
            "[youtube] OBwJfr-BRIs: Downloading android player API JSON\n",
            "OBwJfr-BRIs []\n",
            "[youtube] Extracting URL: https://www.youtube.com/watch?v=OBwJfr-BRIs\n",
            "[youtube] OBwJfr-BRIs: Downloading webpage\n",
            "[youtube] OBwJfr-BRIs: Downloading android player API JSON\n",
            "[info] OBwJfr-BRIs: Downloading 1 format(s): 248+251\n",
            "[info] There's no subtitles for the requested languages\n",
            "[youtube] Extracting URL: https://www.youtube.com/watch?v=OBwJfr-BRIs\n",
            "[youtube] OBwJfr-BRIs: Downloading webpage\n",
            "[youtube] OBwJfr-BRIs: Downloading android player API JSON\n",
            "[info] OBwJfr-BRIs: Downloading subtitles: en\n",
            "[info] OBwJfr-BRIs: Downloading 1 format(s): 248+251\n",
            "[info] Writing video subtitles to: /content/TestFolder1/OBwJfr-BRIs.en.vtt\n",
            "[download] Destination: /content/TestFolder1/OBwJfr-BRIs.en.vtt\n",
            "[download] 100% of   60.66KiB in 00:00:00 at 1.85MiB/s\n",
            "Processing captions...\n",
            "100.00% elapsed: 0:00:00, remaining: 0:00:00"
          ]
        },
        {
          "output_type": "stream",
          "name": "stderr",
          "text": [
            "Opening /content/TestFolder2/data.1.json.gz for reading...\n",
            "Closed /content/TestFolder2/data.1.json.gz.\n",
            "\n",
            "  0%|          | 0/1 [00:00<?, ?it/s]\u001b[A"
          ]
        },
        {
          "output_type": "stream",
          "name": "stdout",
          "text": [
            "Input Video ID: OBwJfr-BRIs\n"
          ]
        },
        {
          "output_type": "stream",
          "name": "stderr",
          "text": [
            "\n",
            "100%|██████████| 1/1 [00:00<00:00,  1.38it/s]"
          ]
        },
        {
          "output_type": "stream",
          "name": "stdout",
          "text": [
            "p1 [(91, 122), (128, 131)]\n",
            "p2 [(91, 122), (128, 131)]\n"
          ]
        },
        {
          "output_type": "stream",
          "name": "stderr",
          "text": [
            "\n"
          ]
        },
        {
          "output_type": "stream",
          "name": "stdout",
          "text": [
            "NLP & CNN Available\n",
            "NLP: (91, 122)\n",
            "LSTM: None\n",
            "DeiT (253, 270)\n",
            "\tPredicted=(139, 166),\n",
            "\tExpected=[[0, 0]]\n",
            "[youtube] Extracting URL: os2AyD_4RjM\n",
            "[youtube] os2AyD_4RjM: Downloading webpage\n",
            "[youtube] os2AyD_4RjM: Downloading android player API JSON\n",
            "[youtube] Extracting URL: 5RTjdF2Qa14\n",
            "[youtube] 5RTjdF2Qa14: Downloading webpage\n",
            "[youtube] 5RTjdF2Qa14: Downloading android player API JSON\n",
            "5RTjdF2Qa14 []\n",
            "[youtube] Extracting URL: https://www.youtube.com/watch?v=5RTjdF2Qa14\n",
            "[youtube] 5RTjdF2Qa14: Downloading webpage\n",
            "[youtube] 5RTjdF2Qa14: Downloading android player API JSON\n",
            "[info] 5RTjdF2Qa14: Downloading 1 format(s): 248+251\n",
            "[info] There's no subtitles for the requested languages\n",
            "[youtube] Extracting URL: https://www.youtube.com/watch?v=5RTjdF2Qa14\n",
            "[youtube] 5RTjdF2Qa14: Downloading webpage\n",
            "[youtube] 5RTjdF2Qa14: Downloading android player API JSON\n",
            "[info] 5RTjdF2Qa14: Downloading subtitles: en\n",
            "[info] 5RTjdF2Qa14: Downloading 1 format(s): 248+251\n",
            "[info] Writing video subtitles to: /content/TestFolder1/5RTjdF2Qa14.en.vtt\n",
            "[download] Destination: /content/TestFolder1/5RTjdF2Qa14.en.vtt\n",
            "[download] 100% of  106.88KiB in 00:00:00 at 2.63MiB/s\n",
            "Processing captions...\n",
            "100.00% elapsed: 0:00:00, remaining: 0:00:00"
          ]
        },
        {
          "output_type": "stream",
          "name": "stderr",
          "text": [
            "Opening /content/TestFolder2/data.1.json.gz for reading...\n",
            "Closed /content/TestFolder2/data.1.json.gz.\n",
            "\n",
            "  0%|          | 0/1 [00:00<?, ?it/s]\u001b[A"
          ]
        },
        {
          "output_type": "stream",
          "name": "stdout",
          "text": [
            "Input Video ID: 5RTjdF2Qa14\n"
          ]
        },
        {
          "output_type": "stream",
          "name": "stderr",
          "text": [
            "\n",
            "100%|██████████| 1/1 [00:01<00:00,  1.12s/it]"
          ]
        },
        {
          "output_type": "stream",
          "name": "stdout",
          "text": [
            "p1 []\n",
            "p2 []\n"
          ]
        },
        {
          "output_type": "stream",
          "name": "stderr",
          "text": [
            "\n"
          ]
        },
        {
          "output_type": "stream",
          "name": "stdout",
          "text": [
            "1/1 [==============================] - 0s 25ms/step\n",
            "ALL Available\n",
            "NLP: (0, 0)\n",
            "LSTM: (319, 348)\n",
            "DeiT (0, 0)\n",
            "\tPredicted=(0, 0),\n",
            "\tExpected=[[0, 0]]\n",
            "[youtube] Extracting URL: 4sbRFo5zlhk\n",
            "[youtube] 4sbRFo5zlhk: Downloading webpage\n",
            "[youtube] 4sbRFo5zlhk: Downloading android player API JSON\n",
            "4sbRFo5zlhk []\n",
            "[youtube] Extracting URL: https://www.youtube.com/watch?v=4sbRFo5zlhk\n",
            "[youtube] 4sbRFo5zlhk: Downloading webpage\n",
            "[youtube] 4sbRFo5zlhk: Downloading android player API JSON\n",
            "[info] 4sbRFo5zlhk: Downloading 1 format(s): 247+251\n",
            "[info] There's no subtitles for the requested languages\n",
            "[youtube] Extracting URL: https://www.youtube.com/watch?v=4sbRFo5zlhk\n",
            "[youtube] 4sbRFo5zlhk: Downloading webpage\n",
            "[youtube] 4sbRFo5zlhk: Downloading android player API JSON\n",
            "[info] 4sbRFo5zlhk: Downloading subtitles: en\n",
            "[info] 4sbRFo5zlhk: Downloading 1 format(s): 247+251\n",
            "[info] Writing video subtitles to: /content/TestFolder1/4sbRFo5zlhk.en.vtt\n",
            "[download] Destination: /content/TestFolder1/4sbRFo5zlhk.en.vtt\n",
            "[download] 100% of   62.54KiB in 00:00:00 at 284.48KiB/s\n",
            "Processing captions...\n",
            "100.00% elapsed: 0:00:00, remaining: 0:00:00"
          ]
        },
        {
          "output_type": "stream",
          "name": "stderr",
          "text": [
            "Opening /content/TestFolder2/data.1.json.gz for reading...\n",
            "Closed /content/TestFolder2/data.1.json.gz.\n",
            "\n",
            "  0%|          | 0/1 [00:00<?, ?it/s]\u001b[A"
          ]
        },
        {
          "output_type": "stream",
          "name": "stdout",
          "text": [
            "Input Video ID: 4sbRFo5zlhk\n"
          ]
        },
        {
          "output_type": "stream",
          "name": "stderr",
          "text": [
            "\n",
            "100%|██████████| 1/1 [00:00<00:00,  1.31it/s]"
          ]
        },
        {
          "output_type": "stream",
          "name": "stdout",
          "text": [
            "p1 [(172, 175)]\n",
            "p2 [(172, 175)]\n"
          ]
        },
        {
          "output_type": "stream",
          "name": "stderr",
          "text": [
            "\n"
          ]
        },
        {
          "output_type": "stream",
          "name": "stdout",
          "text": [
            "NLP & CNN Available\n",
            "NLP: (172, 175)\n",
            "LSTM: None\n",
            "DeiT (7, 24)\n",
            "\tPredicted=(122, 129),\n",
            "\tExpected=[[0, 0]]\n",
            "[youtube] Extracting URL: fQCLNHr8VUY\n",
            "[youtube] fQCLNHr8VUY: Downloading webpage\n",
            "[youtube] fQCLNHr8VUY: Downloading android player API JSON\n",
            "fQCLNHr8VUY []\n",
            "[youtube] Extracting URL: https://www.youtube.com/watch?v=fQCLNHr8VUY\n",
            "[youtube] fQCLNHr8VUY: Downloading webpage\n",
            "[youtube] fQCLNHr8VUY: Downloading android player API JSON\n",
            "[info] fQCLNHr8VUY: Downloading 1 format(s): 271+251\n",
            "[info] There's no subtitles for the requested languages\n",
            "[youtube] Extracting URL: https://www.youtube.com/watch?v=fQCLNHr8VUY\n",
            "[youtube] fQCLNHr8VUY: Downloading webpage\n",
            "[youtube] fQCLNHr8VUY: Downloading android player API JSON\n",
            "[info] fQCLNHr8VUY: Downloading subtitles: en\n",
            "[info] fQCLNHr8VUY: Downloading 1 format(s): 271+251\n",
            "[info] Writing video subtitles to: /content/TestFolder1/fQCLNHr8VUY.en.vtt\n",
            "[download] Destination: /content/TestFolder1/fQCLNHr8VUY.en.vtt\n",
            "[download] 100% of   65.91KiB in 00:00:00 at 255.38KiB/s\n",
            "Processing captions...\n",
            "100.00% elapsed: 0:00:00, remaining: 0:00:00"
          ]
        },
        {
          "output_type": "stream",
          "name": "stderr",
          "text": [
            "Opening /content/TestFolder2/data.1.json.gz for reading...\n",
            "Closed /content/TestFolder2/data.1.json.gz.\n",
            "\n",
            "  0%|          | 0/1 [00:00<?, ?it/s]\u001b[A"
          ]
        },
        {
          "output_type": "stream",
          "name": "stdout",
          "text": [
            "Input Video ID: fQCLNHr8VUY\n"
          ]
        },
        {
          "output_type": "stream",
          "name": "stderr",
          "text": [
            "\n",
            "100%|██████████| 1/1 [00:00<00:00,  1.42it/s]"
          ]
        },
        {
          "output_type": "stream",
          "name": "stdout",
          "text": [
            "p1 []\n",
            "p2 []\n"
          ]
        },
        {
          "output_type": "stream",
          "name": "stderr",
          "text": [
            "\n"
          ]
        },
        {
          "output_type": "stream",
          "name": "stdout",
          "text": [
            "NLP & CNN Available\n",
            "NLP: (0, 0)\n",
            "LSTM: None\n",
            "DeiT (48, 62)\n",
            "\tPredicted=(14, 18),\n",
            "\tExpected=[[0, 0]]\n",
            "[youtube] Extracting URL: QuH8qIuygU0\n",
            "[youtube] QuH8qIuygU0: Downloading webpage\n",
            "[youtube] QuH8qIuygU0: Downloading android player API JSON\n",
            "[youtube] Extracting URL: YLA75xNFKVU\n",
            "[youtube] YLA75xNFKVU: Downloading webpage\n",
            "[youtube] YLA75xNFKVU: Downloading android player API JSON\n",
            "YLA75xNFKVU []\n",
            "[youtube] Extracting URL: https://www.youtube.com/watch?v=YLA75xNFKVU\n",
            "[youtube] YLA75xNFKVU: Downloading webpage\n",
            "[youtube] YLA75xNFKVU: Downloading android player API JSON\n",
            "[info] YLA75xNFKVU: Downloading 1 format(s): 248+251\n",
            "[info] There's no subtitles for the requested languages\n",
            "[youtube] Extracting URL: https://www.youtube.com/watch?v=YLA75xNFKVU\n",
            "[youtube] YLA75xNFKVU: Downloading webpage\n",
            "[youtube] YLA75xNFKVU: Downloading android player API JSON\n",
            "[info] YLA75xNFKVU: Downloading subtitles: en\n",
            "[info] YLA75xNFKVU: Downloading 1 format(s): 248+251\n",
            "[info] Writing video subtitles to: /content/TestFolder1/YLA75xNFKVU.en.vtt\n",
            "[download] Destination: /content/TestFolder1/YLA75xNFKVU.en.vtt\n",
            "[download] 100% of   56.99KiB in 00:00:00 at 278.67KiB/s\n",
            "Processing captions...\n",
            "100.00% elapsed: 0:00:00, remaining: 0:00:00"
          ]
        },
        {
          "output_type": "stream",
          "name": "stderr",
          "text": [
            "Opening /content/TestFolder2/data.1.json.gz for reading...\n",
            "Closed /content/TestFolder2/data.1.json.gz.\n",
            "\n",
            "  0%|          | 0/1 [00:00<?, ?it/s]\u001b[A"
          ]
        },
        {
          "output_type": "stream",
          "name": "stdout",
          "text": [
            "Input Video ID: YLA75xNFKVU\n"
          ]
        },
        {
          "output_type": "stream",
          "name": "stderr",
          "text": [
            "\n",
            "100%|██████████| 1/1 [00:00<00:00,  1.42it/s]"
          ]
        },
        {
          "output_type": "stream",
          "name": "stdout",
          "text": [
            "p1 [(62, 66), (153, 156)]\n",
            "p2 [(62, 66), (153, 156)]\n"
          ]
        },
        {
          "output_type": "stream",
          "name": "stderr",
          "text": [
            "\n"
          ]
        },
        {
          "output_type": "stream",
          "name": "stdout",
          "text": [
            "1/1 [==============================] - 0s 25ms/step\n",
            "ALL Available\n",
            "NLP: (62, 66)\n",
            "LSTM: (0, 0)\n",
            "DeiT (145, 163)\n",
            "\tPredicted=(0, 0),\n",
            "\tExpected=[[0, 0]]\n",
            "[youtube] Extracting URL: Hj5rT7LLHSk\n",
            "[youtube] Hj5rT7LLHSk: Downloading webpage\n",
            "[youtube] Hj5rT7LLHSk: Downloading android player API JSON\n",
            "Hj5rT7LLHSk []\n",
            "[youtube] Extracting URL: https://www.youtube.com/watch?v=Hj5rT7LLHSk\n",
            "[youtube] Hj5rT7LLHSk: Downloading webpage\n",
            "[youtube] Hj5rT7LLHSk: Downloading android player API JSON\n",
            "[info] Hj5rT7LLHSk: Downloading 1 format(s): 248+251\n",
            "[info] There's no subtitles for the requested languages\n",
            "[youtube] Extracting URL: https://www.youtube.com/watch?v=Hj5rT7LLHSk\n",
            "[youtube] Hj5rT7LLHSk: Downloading webpage\n",
            "[youtube] Hj5rT7LLHSk: Downloading android player API JSON\n",
            "[info] Hj5rT7LLHSk: Downloading subtitles: en\n",
            "[info] Hj5rT7LLHSk: Downloading 1 format(s): 248+251\n",
            "[info] Writing video subtitles to: /content/TestFolder1/Hj5rT7LLHSk.en.vtt\n",
            "[download] Destination: /content/TestFolder1/Hj5rT7LLHSk.en.vtt\n",
            "[download] 100% of   20.12KiB in 00:00:00 at 548.73KiB/s\n",
            "Processing captions...\n",
            "100.00% elapsed: 0:00:00, remaining: 0:00:00"
          ]
        },
        {
          "output_type": "stream",
          "name": "stderr",
          "text": [
            "Opening /content/TestFolder2/data.1.json.gz for reading...\n",
            "Closed /content/TestFolder2/data.1.json.gz.\n",
            "\n",
            "  0%|          | 0/1 [00:00<?, ?it/s]\u001b[A"
          ]
        },
        {
          "output_type": "stream",
          "name": "stdout",
          "text": [
            "Input Video ID: Hj5rT7LLHSk\n"
          ]
        },
        {
          "output_type": "stream",
          "name": "stderr",
          "text": [
            "\n",
            "100%|██████████| 1/1 [00:00<00:00,  2.74it/s]"
          ]
        },
        {
          "output_type": "stream",
          "name": "stdout",
          "text": [
            "p1 [(23, 30)]\n",
            "p2 [(23, 30)]\n"
          ]
        },
        {
          "output_type": "stream",
          "name": "stderr",
          "text": [
            "\n"
          ]
        },
        {
          "output_type": "stream",
          "name": "stdout",
          "text": [
            "NLP & CNN Available\n",
            "NLP: (23, 30)\n",
            "LSTM: None\n",
            "DeiT (85, 99)\n",
            "\tPredicted=(41, 50),\n",
            "\tExpected=[[0, 0]]\n",
            "[youtube] Extracting URL: N-3OcJmmmMM\n",
            "[youtube] N-3OcJmmmMM: Downloading webpage\n",
            "[youtube] N-3OcJmmmMM: Downloading android player API JSON\n",
            "N-3OcJmmmMM []\n",
            "[youtube] Extracting URL: https://www.youtube.com/watch?v=N-3OcJmmmMM\n",
            "[youtube] N-3OcJmmmMM: Downloading webpage\n",
            "[youtube] N-3OcJmmmMM: Downloading android player API JSON\n",
            "[info] N-3OcJmmmMM: Downloading 1 format(s): 303+251\n",
            "[info] There's no subtitles for the requested languages\n",
            "[youtube] Extracting URL: https://www.youtube.com/watch?v=N-3OcJmmmMM\n",
            "[youtube] N-3OcJmmmMM: Downloading webpage\n",
            "[youtube] N-3OcJmmmMM: Downloading android player API JSON\n",
            "[info] N-3OcJmmmMM: Downloading subtitles: en\n",
            "[info] N-3OcJmmmMM: Downloading 1 format(s): 303+251\n",
            "[info] Writing video subtitles to: /content/TestFolder1/N-3OcJmmmMM.en.vtt\n",
            "[download] Destination: /content/TestFolder1/N-3OcJmmmMM.en.vtt\n",
            "[download] 100% of   27.83KiB in 00:00:00 at 132.26KiB/s\n",
            "Processing captions...\n",
            "100.00% elapsed: 0:00:00, remaining: 0:00:00"
          ]
        },
        {
          "output_type": "stream",
          "name": "stderr",
          "text": [
            "Opening /content/TestFolder2/data.1.json.gz for reading...\n",
            "Closed /content/TestFolder2/data.1.json.gz.\n",
            "\n",
            "  0%|          | 0/1 [00:00<?, ?it/s]\u001b[A"
          ]
        },
        {
          "output_type": "stream",
          "name": "stdout",
          "text": [
            "Input Video ID: N-3OcJmmmMM\n"
          ]
        },
        {
          "output_type": "stream",
          "name": "stderr",
          "text": [
            "\n",
            "100%|██████████| 1/1 [00:00<00:00,  2.26it/s]"
          ]
        },
        {
          "output_type": "stream",
          "name": "stdout",
          "text": [
            "p1 [(0, 1), (23, 28), (34, 47)]\n",
            "p2 [(0, 1), (23, 28), (34, 47)]\n"
          ]
        },
        {
          "output_type": "stream",
          "name": "stderr",
          "text": [
            "\n"
          ]
        },
        {
          "output_type": "stream",
          "name": "stdout",
          "text": [
            "1/1 [==============================] - 0s 38ms/step\n",
            "ALL Available\n",
            "NLP: (34, 47)\n",
            "LSTM: (0, 0)\n",
            "DeiT (113, 127)\n",
            "\tPredicted=(0, 0),\n",
            "\tExpected=[[0, 0]]\n",
            "[youtube] Extracting URL: ijkziCzAbgY\n",
            "[youtube] ijkziCzAbgY: Downloading webpage\n",
            "[youtube] ijkziCzAbgY: Downloading android player API JSON\n",
            "[youtube] Extracting URL: yEpoL2HnRsg\n",
            "[youtube] yEpoL2HnRsg: Downloading webpage\n",
            "[youtube] yEpoL2HnRsg: Downloading android player API JSON\n",
            "[youtube] yEpoL2HnRsg: Downloading MPD manifest\n",
            "[youtube] Extracting URL: PLDRDj7IksU\n",
            "[youtube] PLDRDj7IksU: Downloading webpage\n",
            "[youtube] PLDRDj7IksU: Downloading android player API JSON\n",
            "[youtube] Extracting URL: K6R-WGOqjC0\n",
            "[youtube] K6R-WGOqjC0: Downloading webpage\n",
            "[youtube] K6R-WGOqjC0: Downloading android player API JSON\n",
            "[youtube] Extracting URL: jyYhZUkxRAo\n",
            "[youtube] jyYhZUkxRAo: Downloading webpage\n",
            "[youtube] jyYhZUkxRAo: Downloading android player API JSON\n",
            "[youtube] Extracting URL: 0FG8N5iA3nI\n",
            "[youtube] 0FG8N5iA3nI: Downloading webpage\n",
            "[youtube] 0FG8N5iA3nI: Downloading android player API JSON\n",
            "[youtube] Extracting URL: DPVkrNQ9Ync\n",
            "[youtube] DPVkrNQ9Ync: Downloading webpage\n",
            "[youtube] DPVkrNQ9Ync: Downloading android player API JSON\n",
            "DPVkrNQ9Ync []\n",
            "[youtube] Extracting URL: https://www.youtube.com/watch?v=DPVkrNQ9Ync\n",
            "[youtube] DPVkrNQ9Ync: Downloading webpage\n",
            "[youtube] DPVkrNQ9Ync: Downloading android player API JSON\n",
            "[info] DPVkrNQ9Ync: Downloading 1 format(s): 313+251\n",
            "[info] There's no subtitles for the requested languages\n",
            "[youtube] Extracting URL: https://www.youtube.com/watch?v=DPVkrNQ9Ync\n",
            "[youtube] DPVkrNQ9Ync: Downloading webpage\n",
            "[youtube] DPVkrNQ9Ync: Downloading android player API JSON\n",
            "[info] DPVkrNQ9Ync: Downloading subtitles: en\n",
            "[info] DPVkrNQ9Ync: Downloading 1 format(s): 313+251\n",
            "[info] Writing video subtitles to: /content/TestFolder1/DPVkrNQ9Ync.en.vtt\n",
            "[download] Destination: /content/TestFolder1/DPVkrNQ9Ync.en.vtt\n",
            "[download] 100% of   23.88KiB in 00:00:00 at 174.65KiB/s\n",
            "Processing captions...\n",
            "100.00% elapsed: 0:00:00, remaining: 0:00:00"
          ]
        },
        {
          "output_type": "stream",
          "name": "stderr",
          "text": [
            "Opening /content/TestFolder2/data.1.json.gz for reading...\n",
            "Closed /content/TestFolder2/data.1.json.gz.\n",
            "\n",
            "  0%|          | 0/1 [00:00<?, ?it/s]\u001b[A"
          ]
        },
        {
          "output_type": "stream",
          "name": "stdout",
          "text": [
            "Input Video ID: DPVkrNQ9Ync\n"
          ]
        },
        {
          "output_type": "stream",
          "name": "stderr",
          "text": [
            "\n",
            "100%|██████████| 1/1 [00:00<00:00,  2.64it/s]"
          ]
        },
        {
          "output_type": "stream",
          "name": "stdout",
          "text": [
            "p1 []\n",
            "p2 []\n"
          ]
        },
        {
          "output_type": "stream",
          "name": "stderr",
          "text": [
            "\n"
          ]
        },
        {
          "output_type": "stream",
          "name": "stdout",
          "text": [
            "1/1 [==============================] - 0s 29ms/step\n",
            "ALL Available\n",
            "NLP: (0, 0)\n",
            "LSTM: (0, 0)\n",
            "DeiT (4, 25)\n",
            "\tPredicted=(0, 0),\n",
            "\tExpected=[[0, 0]]\n",
            "[youtube] Extracting URL: k_xCyml6XZY\n",
            "[youtube] k_xCyml6XZY: Downloading webpage\n",
            "[youtube] k_xCyml6XZY: Downloading android player API JSON\n",
            "[youtube] k_xCyml6XZY: Downloading MPD manifest\n",
            "[youtube] Extracting URL: tWpqjnATBNw\n",
            "[youtube] tWpqjnATBNw: Downloading webpage\n",
            "[youtube] tWpqjnATBNw: Downloading android player API JSON\n",
            "[youtube] Extracting URL: WMZMbS1QyKI\n",
            "[youtube] WMZMbS1QyKI: Downloading webpage\n",
            "[youtube] WMZMbS1QyKI: Downloading android player API JSON\n",
            "[youtube] WMZMbS1QyKI: Downloading MPD manifest\n",
            "WMZMbS1QyKI []\n",
            "[youtube] Extracting URL: https://www.youtube.com/watch?v=WMZMbS1QyKI\n",
            "[youtube] WMZMbS1QyKI: Downloading webpage\n",
            "[youtube] WMZMbS1QyKI: Downloading android player API JSON\n",
            "[youtube] WMZMbS1QyKI: Downloading MPD manifest\n",
            "[info] WMZMbS1QyKI: Downloading subtitles: en-GB\n",
            "[info] WMZMbS1QyKI: Downloading 1 format(s): 248+251\n",
            "[info] Writing video subtitles to: /content/TestFolder1/WMZMbS1QyKI.en-GB.vtt\n",
            "[download] Destination: /content/TestFolder1/WMZMbS1QyKI.en-GB.vtt\n",
            "[download] 100% of    3.61KiB in 00:00:00 at 91.74KiB/s\n",
            "Processing captions...\n",
            "100.00% elapsed: 0:00:00, remaining: 0:00:00"
          ]
        },
        {
          "output_type": "stream",
          "name": "stderr",
          "text": [
            "Opening /content/TestFolder2/data.1.json.gz for reading...\n",
            "Closed /content/TestFolder2/data.1.json.gz.\n",
            "\n",
            "  0%|          | 0/1 [00:00<?, ?it/s]\u001b[A"
          ]
        },
        {
          "output_type": "stream",
          "name": "stdout",
          "text": [
            "Input Video ID: WMZMbS1QyKI\n"
          ]
        },
        {
          "output_type": "stream",
          "name": "stderr",
          "text": [
            "\n",
            "100%|██████████| 1/1 [00:00<00:00,  3.62it/s]"
          ]
        },
        {
          "output_type": "stream",
          "name": "stdout",
          "text": [
            "p1 []\n",
            "p2 []\n"
          ]
        },
        {
          "output_type": "stream",
          "name": "stderr",
          "text": [
            "\n"
          ]
        },
        {
          "output_type": "stream",
          "name": "stdout",
          "text": [
            "NLP & CNN Available\n",
            "NLP: (0, 0)\n",
            "LSTM: None\n",
            "DeiT (0, 0)\n",
            "\tPredicted=(0, 0),\n",
            "\tExpected=[[0, 0]]\n",
            "IOU: 0.6496115921115921\n",
            "Confusion matrix [[115344    920]\n",
            " [  1074    123]]\n",
            "Accuracy 0.9830241526974911\n",
            "Precision 0.11792905081495686\n",
            "Recall 0.10275689223057644\n",
            "[youtube] Extracting URL: oeqyiuteME8\n",
            "[youtube] oeqyiuteME8: Downloading webpage\n",
            "[youtube] oeqyiuteME8: Downloading android player API JSON\n",
            "[youtube] Extracting URL: zccZ_I0heNA\n",
            "[youtube] zccZ_I0heNA: Downloading webpage\n",
            "[youtube] zccZ_I0heNA: Downloading android player API JSON\n",
            "zccZ_I0heNA [[213.439, 282.003]]\n",
            "[youtube] Extracting URL: https://www.youtube.com/watch?v=zccZ_I0heNA\n",
            "[youtube] zccZ_I0heNA: Downloading webpage\n",
            "[youtube] zccZ_I0heNA: Downloading android player API JSON\n",
            "[info] zccZ_I0heNA: Downloading 1 format(s): 315+251\n",
            "[info] There's no subtitles for the requested languages\n",
            "[youtube] Extracting URL: https://www.youtube.com/watch?v=zccZ_I0heNA\n",
            "[youtube] zccZ_I0heNA: Downloading webpage\n",
            "[youtube] zccZ_I0heNA: Downloading android player API JSON\n",
            "[info] zccZ_I0heNA: Downloading subtitles: en\n",
            "[info] zccZ_I0heNA: Downloading 1 format(s): 315+251\n",
            "[info] Writing video subtitles to: /content/TestFolder1/zccZ_I0heNA.en.vtt\n",
            "[download] Destination: /content/TestFolder1/zccZ_I0heNA.en.vtt\n",
            "[download] 100% of   97.14KiB in 00:00:00 at 2.98MiB/s\n",
            "Processing captions...\n",
            "100.00% elapsed: 0:00:00, remaining: 0:00:00"
          ]
        },
        {
          "output_type": "stream",
          "name": "stderr",
          "text": [
            "Opening /content/TestFolder2/data.1.json.gz for reading...\n",
            "Closed /content/TestFolder2/data.1.json.gz.\n",
            "\n",
            "  0%|          | 0/1 [00:00<?, ?it/s]\u001b[A"
          ]
        },
        {
          "output_type": "stream",
          "name": "stdout",
          "text": [
            "Input Video ID: zccZ_I0heNA\n"
          ]
        },
        {
          "output_type": "stream",
          "name": "stderr",
          "text": [
            "\n",
            "100%|██████████| 1/1 [00:00<00:00,  1.02it/s]"
          ]
        },
        {
          "output_type": "stream",
          "name": "stdout",
          "text": [
            "p1 [(98, 102), (113, 117), (123, 133)]\n",
            "p2 [(98, 102), (113, 117), (123, 133)]\n"
          ]
        },
        {
          "output_type": "stream",
          "name": "stderr",
          "text": [
            "\n"
          ]
        },
        {
          "output_type": "stream",
          "name": "stdout",
          "text": [
            "1/1 [==============================] - 0s 28ms/step\n",
            "ALL Available\n",
            "NLP: (123, 133)\n",
            "LSTM: (0, 0)\n",
            "DeiT (592, 607)\n",
            "\tPredicted=(0, 0),\n",
            "\tExpected=[[213.439, 282.003]]\n",
            "[youtube] Extracting URL: 3cV_WR-zDmQ\n",
            "[youtube] 3cV_WR-zDmQ: Downloading webpage\n",
            "[youtube] 3cV_WR-zDmQ: Downloading android player API JSON\n"
          ]
        },
        {
          "output_type": "stream",
          "name": "stderr",
          "text": [
            "ERROR: [youtube] 3cV_WR-zDmQ: Video unavailable. This video is no longer available because the YouTube account associated with this video has been terminated.\n"
          ]
        },
        {
          "output_type": "stream",
          "name": "stdout",
          "text": [
            "[youtube] Extracting URL: eozyFTv3E2w\n",
            "[youtube] eozyFTv3E2w: Downloading webpage\n",
            "[youtube] eozyFTv3E2w: Downloading android player API JSON\n",
            "[youtube] Extracting URL: hqthFlN_pKA\n",
            "[youtube] hqthFlN_pKA: Downloading webpage\n",
            "[youtube] hqthFlN_pKA: Downloading android player API JSON\n",
            "hqthFlN_pKA []\n",
            "[youtube] Extracting URL: https://www.youtube.com/watch?v=hqthFlN_pKA\n",
            "[youtube] hqthFlN_pKA: Downloading webpage\n",
            "[youtube] hqthFlN_pKA: Downloading android player API JSON\n",
            "[info] hqthFlN_pKA: Downloading 1 format(s): 313+251\n",
            "[info] There's no subtitles for the requested languages\n",
            "[youtube] Extracting URL: https://www.youtube.com/watch?v=hqthFlN_pKA\n",
            "[youtube] hqthFlN_pKA: Downloading webpage\n",
            "[youtube] hqthFlN_pKA: Downloading android player API JSON\n",
            "[info] hqthFlN_pKA: Downloading subtitles: en\n",
            "[info] hqthFlN_pKA: Downloading 1 format(s): 313+251\n",
            "[info] Writing video subtitles to: /content/TestFolder1/hqthFlN_pKA.en.vtt\n",
            "[download] Destination: /content/TestFolder1/hqthFlN_pKA.en.vtt\n",
            "[download] 100% of   68.06KiB in 00:00:00 at 215.65KiB/s\n",
            "Processing captions...\n",
            "100.00% elapsed: 0:00:00, remaining: 0:00:00"
          ]
        },
        {
          "output_type": "stream",
          "name": "stderr",
          "text": [
            "Opening /content/TestFolder2/data.1.json.gz for reading...\n",
            "Closed /content/TestFolder2/data.1.json.gz.\n",
            "\n",
            "  0%|          | 0/1 [00:00<?, ?it/s]\u001b[A"
          ]
        },
        {
          "output_type": "stream",
          "name": "stdout",
          "text": [
            "Input Video ID: hqthFlN_pKA\n"
          ]
        },
        {
          "output_type": "stream",
          "name": "stderr",
          "text": [
            "\n",
            "100%|██████████| 1/1 [00:00<00:00,  1.26it/s]"
          ]
        },
        {
          "output_type": "stream",
          "name": "stdout",
          "text": [
            "p1 [(None, None)]\n",
            "p2 [(None, None)]\n"
          ]
        },
        {
          "output_type": "stream",
          "name": "stderr",
          "text": [
            "\n"
          ]
        },
        {
          "output_type": "stream",
          "name": "stdout",
          "text": [
            "1/1 [==============================] - 0s 25ms/step\n",
            "ALL Available\n",
            "NLP: (None, None)\n",
            "LSTM: (136, 146)\n",
            "DeiT (95, 112)\n",
            "\tPredicted=(0, 0),\n",
            "\tExpected=[[0, 0]]\n",
            "[youtube] Extracting URL: j0pYCLF73cA\n",
            "[youtube] j0pYCLF73cA: Downloading webpage\n",
            "[youtube] j0pYCLF73cA: Downloading android player API JSON\n",
            "j0pYCLF73cA [[573.544, 589.781]]\n",
            "[youtube] Extracting URL: https://www.youtube.com/watch?v=j0pYCLF73cA\n",
            "[youtube] j0pYCLF73cA: Downloading webpage\n",
            "[youtube] j0pYCLF73cA: Downloading android player API JSON\n",
            "[info] j0pYCLF73cA: Downloading 1 format(s): 303+251\n",
            "[info] There's no subtitles for the requested languages\n",
            "[youtube] Extracting URL: https://www.youtube.com/watch?v=j0pYCLF73cA\n",
            "[youtube] j0pYCLF73cA: Downloading webpage\n",
            "[youtube] j0pYCLF73cA: Downloading android player API JSON\n",
            "[info] j0pYCLF73cA: Downloading subtitles: en\n",
            "[info] j0pYCLF73cA: Downloading 1 format(s): 303+251\n",
            "[info] Writing video subtitles to: /content/TestFolder1/j0pYCLF73cA.en.vtt\n",
            "[download] Destination: /content/TestFolder1/j0pYCLF73cA.en.vtt\n",
            "[download] 100% of  101.44KiB in 00:00:00 at 2.35MiB/s\n",
            "Processing captions...\n",
            "100.00% elapsed: 0:00:00, remaining: 0:00:00"
          ]
        },
        {
          "output_type": "stream",
          "name": "stderr",
          "text": [
            "Opening /content/TestFolder2/data.1.json.gz for reading...\n",
            "Closed /content/TestFolder2/data.1.json.gz.\n",
            "\n",
            "  0%|          | 0/1 [00:00<?, ?it/s]\u001b[A"
          ]
        },
        {
          "output_type": "stream",
          "name": "stdout",
          "text": [
            "Input Video ID: j0pYCLF73cA\n"
          ]
        },
        {
          "output_type": "stream",
          "name": "stderr",
          "text": [
            "\n",
            "100%|██████████| 1/1 [00:01<00:00,  1.16s/it]"
          ]
        },
        {
          "output_type": "stream",
          "name": "stdout",
          "text": [
            "p1 [(211, 216)]\n",
            "p2 [(211, 216)]\n"
          ]
        },
        {
          "output_type": "stream",
          "name": "stderr",
          "text": [
            "\n"
          ]
        },
        {
          "output_type": "stream",
          "name": "stdout",
          "text": [
            "1/1 [==============================] - 0s 26ms/step\n",
            "ALL Available\n",
            "NLP: (211, 216)\n",
            "LSTM: (147, 182)\n",
            "DeiT (53, 67)\n",
            "\tPredicted=(0, 0),\n",
            "\tExpected=[[573.544, 589.781]]\n",
            "[youtube] Extracting URL: 3uOaBd19ylo\n",
            "[youtube] 3uOaBd19ylo: Downloading webpage\n",
            "[youtube] 3uOaBd19ylo: Downloading android player API JSON\n",
            "3uOaBd19ylo []\n",
            "[youtube] Extracting URL: https://www.youtube.com/watch?v=3uOaBd19ylo\n",
            "[youtube] 3uOaBd19ylo: Downloading webpage\n",
            "[youtube] 3uOaBd19ylo: Downloading android player API JSON\n",
            "[info] 3uOaBd19ylo: Downloading 1 format(s): 303+251\n",
            "[info] There's no subtitles for the requested languages\n",
            "[youtube] Extracting URL: https://www.youtube.com/watch?v=3uOaBd19ylo\n",
            "[youtube] 3uOaBd19ylo: Downloading webpage\n",
            "[youtube] 3uOaBd19ylo: Downloading android player API JSON\n",
            "[info] 3uOaBd19ylo: Downloading subtitles: en\n",
            "[info] 3uOaBd19ylo: Downloading 1 format(s): 303+251\n",
            "[info] Writing video subtitles to: /content/TestFolder1/3uOaBd19ylo.en.vtt\n",
            "[download] Destination: /content/TestFolder1/3uOaBd19ylo.en.vtt\n",
            "[download] 100% of   56.56KiB in 00:00:00 at 225.88KiB/s\n",
            "Processing captions...\n",
            "100.00% elapsed: 0:00:00, remaining: 0:00:00"
          ]
        },
        {
          "output_type": "stream",
          "name": "stderr",
          "text": [
            "Opening /content/TestFolder2/data.1.json.gz for reading...\n",
            "Closed /content/TestFolder2/data.1.json.gz.\n",
            "\n",
            "  0%|          | 0/1 [00:00<?, ?it/s]\u001b[A"
          ]
        },
        {
          "output_type": "stream",
          "name": "stdout",
          "text": [
            "Input Video ID: 3uOaBd19ylo\n"
          ]
        },
        {
          "output_type": "stream",
          "name": "stderr",
          "text": [
            "\n",
            "100%|██████████| 1/1 [00:00<00:00,  1.15it/s]"
          ]
        },
        {
          "output_type": "stream",
          "name": "stdout",
          "text": [
            "p1 [(0, 8)]\n",
            "p2 [(0, 8)]\n"
          ]
        },
        {
          "output_type": "stream",
          "name": "stderr",
          "text": [
            "\n"
          ]
        },
        {
          "output_type": "stream",
          "name": "stdout",
          "text": [
            "1/1 [==============================] - 0s 27ms/step\n",
            "ALL Available\n",
            "NLP: (0, 8)\n",
            "LSTM: (99, 212)\n",
            "DeiT (0, 0)\n",
            "\tPredicted=(0, 0),\n",
            "\tExpected=[[0, 0]]\n",
            "[youtube] Extracting URL: LBki5yEZY-s\n",
            "[youtube] LBki5yEZY-s: Downloading webpage\n",
            "[youtube] LBki5yEZY-s: Downloading android player API JSON\n",
            "[youtube] Extracting URL: AuIwkWJogaE\n",
            "[youtube] AuIwkWJogaE: Downloading webpage\n",
            "[youtube] AuIwkWJogaE: Downloading android player API JSON\n",
            "AuIwkWJogaE []\n",
            "[youtube] Extracting URL: https://www.youtube.com/watch?v=AuIwkWJogaE\n",
            "[youtube] AuIwkWJogaE: Downloading webpage\n",
            "[youtube] AuIwkWJogaE: Downloading android player API JSON\n",
            "[info] AuIwkWJogaE: Downloading 1 format(s): 303+251\n",
            "[info] There's no subtitles for the requested languages\n",
            "[youtube] Extracting URL: https://www.youtube.com/watch?v=AuIwkWJogaE\n",
            "[youtube] AuIwkWJogaE: Downloading webpage\n",
            "[youtube] AuIwkWJogaE: Downloading android player API JSON\n",
            "[info] AuIwkWJogaE: Downloading subtitles: en\n",
            "[info] AuIwkWJogaE: Downloading 1 format(s): 303+251\n",
            "[info] Writing video subtitles to: /content/TestFolder1/AuIwkWJogaE.en.vtt\n",
            "[download] Destination: /content/TestFolder1/AuIwkWJogaE.en.vtt\n",
            "[download] 100% of    4.01KiB in 00:00:00 at 153.57KiB/s\n",
            "Processing captions...\n",
            "100.00% elapsed: 0:00:00, remaining: 0:00:00"
          ]
        },
        {
          "output_type": "stream",
          "name": "stderr",
          "text": [
            "Opening /content/TestFolder2/data.1.json.gz for reading...\n",
            "Closed /content/TestFolder2/data.1.json.gz.\n",
            "\n",
            "  0%|          | 0/1 [00:00<?, ?it/s]\u001b[A"
          ]
        },
        {
          "output_type": "stream",
          "name": "stdout",
          "text": [
            "Input Video ID: AuIwkWJogaE\n"
          ]
        },
        {
          "output_type": "stream",
          "name": "stderr",
          "text": [
            "\r100%|██████████| 1/1 [00:00<00:00, 14.16it/s]"
          ]
        },
        {
          "output_type": "stream",
          "name": "stdout",
          "text": [
            "p1 []\n",
            "p2 []\n"
          ]
        },
        {
          "output_type": "stream",
          "name": "stderr",
          "text": [
            "\n"
          ]
        },
        {
          "output_type": "stream",
          "name": "stdout",
          "text": [
            "1/1 [==============================] - 0s 28ms/step\n",
            "ALL Available\n",
            "NLP: (0, 0)\n",
            "LSTM: (0, 0)\n",
            "DeiT (0, 0)\n",
            "\tPredicted=(0, 0),\n",
            "\tExpected=[[0, 0]]\n",
            "[youtube] Extracting URL: Uon0zoDGdGo\n",
            "[youtube] Uon0zoDGdGo: Downloading webpage\n",
            "[youtube] Uon0zoDGdGo: Downloading android player API JSON\n",
            "Uon0zoDGdGo []\n",
            "[youtube] Extracting URL: https://www.youtube.com/watch?v=Uon0zoDGdGo\n",
            "[youtube] Uon0zoDGdGo: Downloading webpage\n",
            "[youtube] Uon0zoDGdGo: Downloading android player API JSON\n",
            "[info] Uon0zoDGdGo: Downloading 1 format(s): 303+251\n",
            "[info] There's no subtitles for the requested languages\n",
            "[youtube] Extracting URL: https://www.youtube.com/watch?v=Uon0zoDGdGo\n",
            "[youtube] Uon0zoDGdGo: Downloading webpage\n",
            "[youtube] Uon0zoDGdGo: Downloading android player API JSON\n",
            "[info] Uon0zoDGdGo: Downloading subtitles: en\n",
            "[info] Uon0zoDGdGo: Downloading 1 format(s): 303+251\n",
            "[info] Writing video subtitles to: /content/TestFolder1/Uon0zoDGdGo.en.vtt\n",
            "[download] Destination: /content/TestFolder1/Uon0zoDGdGo.en.vtt\n",
            "[download] 100% of  127.22KiB in 00:00:00 at 454.72KiB/s\n",
            "Processing captions...\n",
            "100.00% elapsed: 0:00:00, remaining: 0:00:00"
          ]
        },
        {
          "output_type": "stream",
          "name": "stderr",
          "text": [
            "Opening /content/TestFolder2/data.1.json.gz for reading...\n",
            "Closed /content/TestFolder2/data.1.json.gz.\n",
            "\n",
            "  0%|          | 0/1 [00:00<?, ?it/s]\u001b[A"
          ]
        },
        {
          "output_type": "stream",
          "name": "stdout",
          "text": [
            "Input Video ID: Uon0zoDGdGo\n"
          ]
        },
        {
          "output_type": "stream",
          "name": "stderr",
          "text": [
            "\n",
            "100%|██████████| 1/1 [00:01<00:00,  1.33s/it]"
          ]
        },
        {
          "output_type": "stream",
          "name": "stdout",
          "text": [
            "p1 []\n",
            "p2 []\n"
          ]
        },
        {
          "output_type": "stream",
          "name": "stderr",
          "text": [
            "\n"
          ]
        },
        {
          "output_type": "stream",
          "name": "stdout",
          "text": [
            "1/1 [==============================] - 0s 25ms/step\n",
            "ALL Available\n",
            "NLP: (0, 0)\n",
            "LSTM: (380, 424)\n",
            "DeiT (0, 0)\n",
            "\tPredicted=(0, 0),\n",
            "\tExpected=[[0, 0]]\n",
            "[youtube] Extracting URL: 9TwnalK434g\n",
            "[youtube] 9TwnalK434g: Downloading webpage\n",
            "[youtube] 9TwnalK434g: Downloading android player API JSON\n",
            "[youtube] 9TwnalK434g: Downloading MPD manifest\n",
            "[youtube] Extracting URL: HBzLFsHa8lg\n",
            "[youtube] HBzLFsHa8lg: Downloading webpage\n",
            "[youtube] HBzLFsHa8lg: Downloading android player API JSON\n",
            "HBzLFsHa8lg []\n",
            "[youtube] Extracting URL: https://www.youtube.com/watch?v=HBzLFsHa8lg\n",
            "[youtube] HBzLFsHa8lg: Downloading webpage\n",
            "[youtube] HBzLFsHa8lg: Downloading android player API JSON\n",
            "[info] HBzLFsHa8lg: Downloading 1 format(s): 313+251\n",
            "[info] There's no subtitles for the requested languages\n",
            "[youtube] Extracting URL: https://www.youtube.com/watch?v=HBzLFsHa8lg\n",
            "[youtube] HBzLFsHa8lg: Downloading webpage\n",
            "[youtube] HBzLFsHa8lg: Downloading android player API JSON\n",
            "[info] HBzLFsHa8lg: Downloading subtitles: en\n",
            "[info] HBzLFsHa8lg: Downloading 1 format(s): 313+251\n",
            "[info] Writing video subtitles to: /content/TestFolder1/HBzLFsHa8lg.en.vtt\n",
            "[download] Destination: /content/TestFolder1/HBzLFsHa8lg.en.vtt\n",
            "[download] 100% of   61.46KiB in 00:00:00 at 1.14MiB/s\n",
            "Processing captions...\n",
            "100.00% elapsed: 0:00:00, remaining: 0:00:00"
          ]
        },
        {
          "output_type": "stream",
          "name": "stderr",
          "text": [
            "Opening /content/TestFolder2/data.1.json.gz for reading...\n",
            "Closed /content/TestFolder2/data.1.json.gz.\n",
            "\n",
            "  0%|          | 0/1 [00:00<?, ?it/s]\u001b[A"
          ]
        },
        {
          "output_type": "stream",
          "name": "stdout",
          "text": [
            "Input Video ID: HBzLFsHa8lg\n"
          ]
        },
        {
          "output_type": "stream",
          "name": "stderr",
          "text": [
            "\n",
            "100%|██████████| 1/1 [00:00<00:00,  1.28it/s]"
          ]
        },
        {
          "output_type": "stream",
          "name": "stdout",
          "text": [
            "p1 [(24, 27)]\n",
            "p2 [(24, 27)]\n"
          ]
        },
        {
          "output_type": "stream",
          "name": "stderr",
          "text": [
            "\n"
          ]
        },
        {
          "output_type": "stream",
          "name": "stdout",
          "text": [
            "1/1 [==============================] - 0s 26ms/step\n",
            "ALL Available\n",
            "NLP: (24, 27)\n",
            "LSTM: (244, 255)\n",
            "DeiT (325, 342)\n",
            "\tPredicted=(0, 0),\n",
            "\tExpected=[[0, 0]]\n",
            "[youtube] Extracting URL: 25LXW7c_v8I\n",
            "[youtube] 25LXW7c_v8I: Downloading webpage\n",
            "[youtube] 25LXW7c_v8I: Downloading android player API JSON\n",
            "25LXW7c_v8I []\n",
            "[youtube] Extracting URL: https://www.youtube.com/watch?v=25LXW7c_v8I\n",
            "[youtube] 25LXW7c_v8I: Downloading webpage\n",
            "[youtube] 25LXW7c_v8I: Downloading android player API JSON\n",
            "[info] 25LXW7c_v8I: Downloading 1 format(s): 303+251\n",
            "[info] There's no subtitles for the requested languages\n",
            "[youtube] Extracting URL: https://www.youtube.com/watch?v=25LXW7c_v8I\n",
            "[youtube] 25LXW7c_v8I: Downloading webpage\n",
            "[youtube] 25LXW7c_v8I: Downloading android player API JSON\n",
            "[info] 25LXW7c_v8I: Downloading subtitles: en\n",
            "[info] 25LXW7c_v8I: Downloading 1 format(s): 303+251\n",
            "[info] Writing video subtitles to: /content/TestFolder1/25LXW7c_v8I.en.vtt\n",
            "[download] Destination: /content/TestFolder1/25LXW7c_v8I.en.vtt\n",
            "[download] 100% of    884.00B in 00:00:00 at 4.30KiB/s\n",
            "Processing captions...\n",
            "100.00% elapsed: 0:00:00, remaining: 0:00:00"
          ]
        },
        {
          "output_type": "stream",
          "name": "stderr",
          "text": [
            "Opening /content/TestFolder2/data.1.json.gz for reading...\n",
            "Closed /content/TestFolder2/data.1.json.gz.\n",
            "\n",
            "  0%|          | 0/1 [00:00<?, ?it/s]\u001b[A"
          ]
        },
        {
          "output_type": "stream",
          "name": "stdout",
          "text": [
            "Input Video ID: 25LXW7c_v8I\n"
          ]
        },
        {
          "output_type": "stream",
          "name": "stderr",
          "text": [
            "\r100%|██████████| 1/1 [00:00<00:00, 19.64it/s]"
          ]
        },
        {
          "output_type": "stream",
          "name": "stdout",
          "text": [
            "p1 []\n",
            "p2 []\n"
          ]
        },
        {
          "output_type": "stream",
          "name": "stderr",
          "text": [
            "\n"
          ]
        },
        {
          "output_type": "stream",
          "name": "stdout",
          "text": [
            "NLP & CNN Available\n",
            "NLP: (0, 0)\n",
            "LSTM: None\n",
            "DeiT (0, 0)\n",
            "\tPredicted=(0, 0),\n",
            "\tExpected=[[0, 0]]\n",
            "[youtube] Extracting URL: 9G534iUOCVE\n",
            "[youtube] 9G534iUOCVE: Downloading webpage\n",
            "[youtube] 9G534iUOCVE: Downloading android player API JSON\n",
            "9G534iUOCVE []\n",
            "[youtube] Extracting URL: https://www.youtube.com/watch?v=9G534iUOCVE\n",
            "[youtube] 9G534iUOCVE: Downloading webpage\n",
            "[youtube] 9G534iUOCVE: Downloading android player API JSON\n",
            "[info] 9G534iUOCVE: Downloading 1 format(s): 247+251\n",
            "[info] There's no subtitles for the requested languages\n",
            "[youtube] Extracting URL: https://www.youtube.com/watch?v=9G534iUOCVE\n",
            "[youtube] 9G534iUOCVE: Downloading webpage\n",
            "[youtube] 9G534iUOCVE: Downloading android player API JSON\n",
            "[info] 9G534iUOCVE: Downloading subtitles: en\n",
            "[info] 9G534iUOCVE: Downloading 1 format(s): 247+251\n",
            "[info] Writing video subtitles to: /content/TestFolder1/9G534iUOCVE.en.vtt\n",
            "[download] Destination: /content/TestFolder1/9G534iUOCVE.en.vtt\n",
            "[download] 100% of   71.10KiB in 00:00:00 at 1.06MiB/s\n",
            "Processing captions...\n",
            "100.00% elapsed: 0:00:00, remaining: 0:00:00"
          ]
        },
        {
          "output_type": "stream",
          "name": "stderr",
          "text": [
            "Opening /content/TestFolder2/data.1.json.gz for reading...\n",
            "Closed /content/TestFolder2/data.1.json.gz.\n",
            "\n",
            "  0%|          | 0/1 [00:00<?, ?it/s]\u001b[A"
          ]
        },
        {
          "output_type": "stream",
          "name": "stdout",
          "text": [
            "Input Video ID: 9G534iUOCVE\n"
          ]
        },
        {
          "output_type": "stream",
          "name": "stderr",
          "text": [
            "\n",
            "100%|██████████| 1/1 [00:00<00:00,  1.30it/s]"
          ]
        },
        {
          "output_type": "stream",
          "name": "stdout",
          "text": [
            "p1 [(0, 10), (167, 171)]\n",
            "p2 [(0, 10), (167, 171)]\n"
          ]
        },
        {
          "output_type": "stream",
          "name": "stderr",
          "text": [
            "\n"
          ]
        },
        {
          "output_type": "stream",
          "name": "stdout",
          "text": [
            "NLP & CNN Available\n",
            "NLP: (0, 10)\n",
            "LSTM: None\n",
            "DeiT (118, 132)\n",
            "\tPredicted=(35, 46),\n",
            "\tExpected=[[0, 0]]\n",
            "[youtube] Extracting URL: WV8pVFPgwUg\n",
            "[youtube] WV8pVFPgwUg: Downloading webpage\n",
            "[youtube] WV8pVFPgwUg: Downloading android player API JSON\n",
            "[youtube] Extracting URL: qBZTakPYAlg\n",
            "[youtube] qBZTakPYAlg: Downloading webpage\n",
            "[youtube] qBZTakPYAlg: Downloading android player API JSON\n",
            "qBZTakPYAlg []\n",
            "[youtube] Extracting URL: https://www.youtube.com/watch?v=qBZTakPYAlg\n",
            "[youtube] qBZTakPYAlg: Downloading webpage\n",
            "[youtube] qBZTakPYAlg: Downloading android player API JSON\n",
            "[info] qBZTakPYAlg: Downloading 1 format(s): 303+251\n",
            "[info] There's no subtitles for the requested languages\n",
            "[youtube] Extracting URL: https://www.youtube.com/watch?v=qBZTakPYAlg\n",
            "[youtube] qBZTakPYAlg: Downloading webpage\n",
            "[youtube] qBZTakPYAlg: Downloading android player API JSON\n",
            "[info] qBZTakPYAlg: Downloading subtitles: en\n",
            "[info] qBZTakPYAlg: Downloading 1 format(s): 303+251\n",
            "[info] Writing video subtitles to: /content/TestFolder1/qBZTakPYAlg.en.vtt\n",
            "[download] Destination: /content/TestFolder1/qBZTakPYAlg.en.vtt\n",
            "[download] 100% of   50.10KiB in 00:00:00 at 1.31MiB/s\n",
            "Processing captions...\n",
            "100.00% elapsed: 0:00:00, remaining: 0:00:00"
          ]
        },
        {
          "output_type": "stream",
          "name": "stderr",
          "text": [
            "Opening /content/TestFolder2/data.1.json.gz for reading...\n",
            "Closed /content/TestFolder2/data.1.json.gz.\n",
            "\n",
            "  0%|          | 0/1 [00:00<?, ?it/s]\u001b[A"
          ]
        },
        {
          "output_type": "stream",
          "name": "stdout",
          "text": [
            "Input Video ID: qBZTakPYAlg\n"
          ]
        },
        {
          "output_type": "stream",
          "name": "stderr",
          "text": [
            "\n",
            "100%|██████████| 1/1 [00:01<00:00,  1.03s/it]"
          ]
        },
        {
          "output_type": "stream",
          "name": "stdout",
          "text": [
            "p1 [(None, None)]\n",
            "p2 [(None, None)]\n"
          ]
        },
        {
          "output_type": "stream",
          "name": "stderr",
          "text": [
            "\n"
          ]
        },
        {
          "output_type": "stream",
          "name": "stdout",
          "text": [
            "1/1 [==============================] - 0s 38ms/step\n",
            "ALL Available\n",
            "NLP: (None, None)\n",
            "LSTM: (242, 272)\n",
            "DeiT (0, 0)\n",
            "\tPredicted=(0, 0),\n",
            "\tExpected=[[0, 0]]\n",
            "IOU: 0.6596271284271285\n",
            "Confusion matrix [[120687    934]\n",
            " [  1162    130]]\n",
            "Accuracy 0.9829472879190972\n",
            "Precision 0.12218045112781954\n",
            "Recall 0.10061919504643962\n",
            "[youtube] Extracting URL: JdaDBHKerOQ\n",
            "[youtube] JdaDBHKerOQ: Downloading webpage\n",
            "[youtube] JdaDBHKerOQ: Downloading android player API JSON\n",
            "[youtube] Extracting URL: PVGQrE1bqHM\n",
            "[youtube] PVGQrE1bqHM: Downloading webpage\n",
            "[youtube] PVGQrE1bqHM: Downloading android player API JSON\n",
            "[youtube] Extracting URL: JpXTnV_ZKcQ\n",
            "[youtube] JpXTnV_ZKcQ: Downloading webpage\n",
            "[youtube] JpXTnV_ZKcQ: Downloading android player API JSON\n",
            "JpXTnV_ZKcQ []\n",
            "[youtube] Extracting URL: https://www.youtube.com/watch?v=JpXTnV_ZKcQ\n",
            "[youtube] JpXTnV_ZKcQ: Downloading webpage\n",
            "[youtube] JpXTnV_ZKcQ: Downloading android player API JSON\n",
            "[info] JpXTnV_ZKcQ: Downloading subtitles: en\n",
            "[info] JpXTnV_ZKcQ: Downloading 1 format(s): 248+251\n",
            "[info] Writing video subtitles to: /content/TestFolder1/JpXTnV_ZKcQ.en.vtt\n",
            "[download] Destination: /content/TestFolder1/JpXTnV_ZKcQ.en.vtt\n",
            "[download] 100% of    3.48KiB in 00:00:00 at 44.85KiB/s\n",
            "Processing captions...\n",
            "100.00% elapsed: 0:00:00, remaining: 0:00:00"
          ]
        },
        {
          "output_type": "stream",
          "name": "stderr",
          "text": [
            "Opening /content/TestFolder2/data.1.json.gz for reading...\n",
            "Closed /content/TestFolder2/data.1.json.gz.\n",
            "\n",
            "  0%|          | 0/1 [00:00<?, ?it/s]\u001b[A"
          ]
        },
        {
          "output_type": "stream",
          "name": "stdout",
          "text": [
            "Input Video ID: JpXTnV_ZKcQ\n"
          ]
        },
        {
          "output_type": "stream",
          "name": "stderr",
          "text": [
            "\n",
            "100%|██████████| 1/1 [00:00<00:00,  3.38it/s]"
          ]
        },
        {
          "output_type": "stream",
          "name": "stdout",
          "text": [
            "p1 [(0, 2), (12, 18), (21, 22)]\n",
            "p2 [(0, 2), (12, 18), (21, 22)]\n"
          ]
        },
        {
          "output_type": "stream",
          "name": "stderr",
          "text": [
            "\n"
          ]
        },
        {
          "output_type": "stream",
          "name": "stdout",
          "text": [
            "NLP & CNN Available\n",
            "NLP: (12, 18)\n",
            "LSTM: None\n",
            "DeiT (74, 89)\n",
            "\tPredicted=(30, 39),\n",
            "\tExpected=[[0, 0]]\n",
            "[youtube] Extracting URL: 9MmkQcRiuQ8\n",
            "[youtube] 9MmkQcRiuQ8: Downloading webpage\n",
            "[youtube] 9MmkQcRiuQ8: Downloading android player API JSON\n",
            "[youtube] Extracting URL: 0M4wjXNmiV4\n",
            "[youtube] 0M4wjXNmiV4: Downloading webpage\n",
            "[youtube] 0M4wjXNmiV4: Downloading android player API JSON\n",
            "[youtube] Extracting URL: pyb3cKrj1ZE\n",
            "[youtube] pyb3cKrj1ZE: Downloading webpage\n",
            "[youtube] pyb3cKrj1ZE: Downloading android player API JSON\n",
            "[youtube] Extracting URL: FNoIcv7k8JU\n",
            "[youtube] FNoIcv7k8JU: Downloading webpage\n",
            "[youtube] FNoIcv7k8JU: Downloading android player API JSON\n",
            "[youtube] Extracting URL: 0VeLzD1KOUU\n",
            "[youtube] 0VeLzD1KOUU: Downloading webpage\n",
            "[youtube] 0VeLzD1KOUU: Downloading android player API JSON\n",
            "[youtube] Extracting URL: ff8yvXw4rZ4\n",
            "[youtube] ff8yvXw4rZ4: Downloading webpage\n",
            "[youtube] ff8yvXw4rZ4: Downloading android player API JSON\n",
            "ff8yvXw4rZ4 []\n",
            "[youtube] Extracting URL: https://www.youtube.com/watch?v=ff8yvXw4rZ4\n",
            "[youtube] ff8yvXw4rZ4: Downloading webpage\n",
            "[youtube] ff8yvXw4rZ4: Downloading android player API JSON\n",
            "[info] ff8yvXw4rZ4: Downloading 1 format(s): 303+251\n",
            "[info] There's no subtitles for the requested languages\n",
            "[youtube] Extracting URL: https://www.youtube.com/watch?v=ff8yvXw4rZ4\n",
            "[youtube] ff8yvXw4rZ4: Downloading webpage\n",
            "[youtube] ff8yvXw4rZ4: Downloading android player API JSON\n",
            "[info] ff8yvXw4rZ4: Downloading subtitles: en\n",
            "[info] ff8yvXw4rZ4: Downloading 1 format(s): 303+251\n",
            "[info] Writing video subtitles to: /content/TestFolder1/ff8yvXw4rZ4.en.vtt\n",
            "[download] Destination: /content/TestFolder1/ff8yvXw4rZ4.en.vtt\n",
            "[download] 100% of   51.17KiB in 00:00:00 at 610.47KiB/s\n",
            "Processing captions...\n",
            "100.00% elapsed: 0:00:00, remaining: 0:00:00"
          ]
        },
        {
          "output_type": "stream",
          "name": "stderr",
          "text": [
            "Opening /content/TestFolder2/data.1.json.gz for reading...\n",
            "Closed /content/TestFolder2/data.1.json.gz.\n",
            "\n",
            "  0%|          | 0/1 [00:00<?, ?it/s]\u001b[A"
          ]
        },
        {
          "output_type": "stream",
          "name": "stdout",
          "text": [
            "Input Video ID: ff8yvXw4rZ4\n"
          ]
        },
        {
          "output_type": "stream",
          "name": "stderr",
          "text": [
            "\n",
            "100%|██████████| 1/1 [00:00<00:00,  1.97it/s]"
          ]
        },
        {
          "output_type": "stream",
          "name": "stdout",
          "text": [
            "p1 [(31, 35), (51, 55), (66, 71)]\n",
            "p2 [(31, 35), (51, 55), (66, 71)]\n"
          ]
        },
        {
          "output_type": "stream",
          "name": "stderr",
          "text": [
            "\n"
          ]
        },
        {
          "output_type": "stream",
          "name": "stdout",
          "text": [
            "NLP & CNN Available\n",
            "NLP: (66, 71)\n",
            "LSTM: None\n",
            "DeiT (66, 80)\n",
            "\tPredicted=(66, 73),\n",
            "\tExpected=[[0, 0]]\n",
            "[youtube] Extracting URL: 8Y_RQZAlJFE\n",
            "[youtube] 8Y_RQZAlJFE: Downloading webpage\n",
            "[youtube] 8Y_RQZAlJFE: Downloading android player API JSON\n",
            "[youtube] Extracting URL: PgJ9Tnu4bpM\n",
            "[youtube] PgJ9Tnu4bpM: Downloading webpage\n",
            "[youtube] PgJ9Tnu4bpM: Downloading android player API JSON\n",
            "PgJ9Tnu4bpM []\n",
            "[youtube] Extracting URL: https://www.youtube.com/watch?v=PgJ9Tnu4bpM\n",
            "[youtube] PgJ9Tnu4bpM: Downloading webpage\n",
            "[youtube] PgJ9Tnu4bpM: Downloading android player API JSON\n",
            "[info] PgJ9Tnu4bpM: Downloading subtitles: en-GB\n",
            "[info] PgJ9Tnu4bpM: Downloading 1 format(s): 248+251\n",
            "[info] Writing video subtitles to: /content/TestFolder1/PgJ9Tnu4bpM.en-GB.vtt\n",
            "[download] Destination: /content/TestFolder1/PgJ9Tnu4bpM.en-GB.vtt\n",
            "[download] 100% of    1.81KiB in 00:00:00 at 25.55KiB/s\n",
            "Processing captions...\n",
            "100.00% elapsed: 0:00:00, remaining: 0:00:00"
          ]
        },
        {
          "output_type": "stream",
          "name": "stderr",
          "text": [
            "Opening /content/TestFolder2/data.1.json.gz for reading...\n",
            "Closed /content/TestFolder2/data.1.json.gz.\n",
            "\n",
            "  0%|          | 0/1 [00:00<?, ?it/s]\u001b[A"
          ]
        },
        {
          "output_type": "stream",
          "name": "stdout",
          "text": [
            "Input Video ID: PgJ9Tnu4bpM\n"
          ]
        },
        {
          "output_type": "stream",
          "name": "stderr",
          "text": [
            "\n",
            "100%|██████████| 1/1 [00:00<00:00,  5.95it/s]"
          ]
        },
        {
          "output_type": "stream",
          "name": "stdout",
          "text": [
            "p1 []\n",
            "p2 []\n"
          ]
        },
        {
          "output_type": "stream",
          "name": "stderr",
          "text": [
            "\n"
          ]
        },
        {
          "output_type": "stream",
          "name": "stdout",
          "text": [
            "NLP & CNN Available\n",
            "NLP: (0, 0)\n",
            "LSTM: None\n",
            "DeiT (0, 0)\n",
            "\tPredicted=(0, 0),\n",
            "\tExpected=[[0, 0]]\n",
            "[youtube] Extracting URL: fWMX1jflcLU\n",
            "[youtube] fWMX1jflcLU: Downloading webpage\n",
            "[youtube] fWMX1jflcLU: Downloading android player API JSON\n"
          ]
        },
        {
          "output_type": "stream",
          "name": "stderr",
          "text": [
            "ERROR: [youtube] fWMX1jflcLU: Video unavailable\n"
          ]
        },
        {
          "output_type": "stream",
          "name": "stdout",
          "text": [
            "[youtube] Extracting URL: 7ZIZbhQONag\n",
            "[youtube] 7ZIZbhQONag: Downloading webpage\n",
            "[youtube] 7ZIZbhQONag: Downloading android player API JSON\n",
            "7ZIZbhQONag [[169.488, 233.075]]\n",
            "[youtube] Extracting URL: https://www.youtube.com/watch?v=7ZIZbhQONag\n",
            "[youtube] 7ZIZbhQONag: Downloading webpage\n",
            "[youtube] 7ZIZbhQONag: Downloading android player API JSON\n",
            "[info] 7ZIZbhQONag: Downloading 1 format(s): 315+251\n",
            "[info] There's no subtitles for the requested languages\n",
            "[youtube] Extracting URL: https://www.youtube.com/watch?v=7ZIZbhQONag\n",
            "[youtube] 7ZIZbhQONag: Downloading webpage\n",
            "[youtube] 7ZIZbhQONag: Downloading android player API JSON\n",
            "[info] 7ZIZbhQONag: Downloading subtitles: en\n",
            "[info] 7ZIZbhQONag: Downloading 1 format(s): 315+251\n",
            "[info] Writing video subtitles to: /content/TestFolder1/7ZIZbhQONag.en.vtt\n",
            "[download] Destination: /content/TestFolder1/7ZIZbhQONag.en.vtt\n",
            "[download] 100% of  107.59KiB in 00:00:00 at 423.62KiB/s\n",
            "Processing captions...\n",
            "100.00% elapsed: 0:00:00, remaining: 0:00:00"
          ]
        },
        {
          "output_type": "stream",
          "name": "stderr",
          "text": [
            "Opening /content/TestFolder2/data.1.json.gz for reading...\n",
            "Closed /content/TestFolder2/data.1.json.gz.\n",
            "\n",
            "  0%|          | 0/1 [00:00<?, ?it/s]\u001b[A"
          ]
        },
        {
          "output_type": "stream",
          "name": "stdout",
          "text": [
            "Input Video ID: 7ZIZbhQONag\n"
          ]
        },
        {
          "output_type": "stream",
          "name": "stderr",
          "text": [
            "\n",
            "100%|██████████| 1/1 [00:01<00:00,  1.18s/it]"
          ]
        },
        {
          "output_type": "stream",
          "name": "stdout",
          "text": [
            "p1 [(89, 92)]\n",
            "p2 [(89, 92)]\n"
          ]
        },
        {
          "output_type": "stream",
          "name": "stderr",
          "text": [
            "\n"
          ]
        },
        {
          "output_type": "stream",
          "name": "stdout",
          "text": [
            "1/1 [==============================] - 0s 44ms/step\n",
            "ALL Available\n",
            "NLP: (89, 92)\n",
            "LSTM: (0, 0)\n",
            "DeiT (0, 0)\n",
            "\tPredicted=(0, 0),\n",
            "\tExpected=[[169.488, 233.075]]\n",
            "[youtube] Extracting URL: 4xndYF6tb7w\n",
            "[youtube] 4xndYF6tb7w: Downloading webpage\n",
            "[youtube] 4xndYF6tb7w: Downloading android player API JSON\n",
            "4xndYF6tb7w []\n",
            "[youtube] Extracting URL: https://www.youtube.com/watch?v=4xndYF6tb7w\n",
            "[youtube] 4xndYF6tb7w: Downloading webpage\n",
            "[youtube] 4xndYF6tb7w: Downloading android player API JSON\n",
            "[info] 4xndYF6tb7w: Downloading 1 format(s): 308+251\n",
            "[info] There's no subtitles for the requested languages\n",
            "[youtube] Extracting URL: https://www.youtube.com/watch?v=4xndYF6tb7w\n",
            "[youtube] 4xndYF6tb7w: Downloading webpage\n",
            "[youtube] 4xndYF6tb7w: Downloading android player API JSON\n",
            "[info] 4xndYF6tb7w: Downloading subtitles: en\n",
            "[info] 4xndYF6tb7w: Downloading 1 format(s): 308+251\n",
            "[info] Writing video subtitles to: /content/TestFolder1/4xndYF6tb7w.en.vtt\n",
            "[download] Destination: /content/TestFolder1/4xndYF6tb7w.en.vtt\n",
            "[download] 100% of   40.90KiB in 00:00:00 at 1.10MiB/s\n",
            "Processing captions...\n",
            "100.00% elapsed: 0:00:00, remaining: 0:00:00"
          ]
        },
        {
          "output_type": "stream",
          "name": "stderr",
          "text": [
            "Opening /content/TestFolder2/data.1.json.gz for reading...\n",
            "Closed /content/TestFolder2/data.1.json.gz.\n",
            "\n",
            "  0%|          | 0/1 [00:00<?, ?it/s]\u001b[A"
          ]
        },
        {
          "output_type": "stream",
          "name": "stdout",
          "text": [
            "Input Video ID: 4xndYF6tb7w\n"
          ]
        },
        {
          "output_type": "stream",
          "name": "stderr",
          "text": [
            "\n",
            "100%|██████████| 1/1 [00:00<00:00,  1.07it/s]"
          ]
        },
        {
          "output_type": "stream",
          "name": "stdout",
          "text": [
            "p1 [(4, 10), (25, 31), (39, 56)]\n",
            "p2 [(4, 10), (25, 31), (39, 56)]\n"
          ]
        },
        {
          "output_type": "stream",
          "name": "stderr",
          "text": [
            "\n"
          ]
        },
        {
          "output_type": "stream",
          "name": "stdout",
          "text": [
            "NLP & CNN Available\n",
            "NLP: (39, 56)\n",
            "LSTM: None\n",
            "DeiT (74, 88)\n",
            "\tPredicted=(49, 65),\n",
            "\tExpected=[[0, 0]]\n",
            "[youtube] Extracting URL: KxcxJcKzgkg\n",
            "[youtube] KxcxJcKzgkg: Downloading webpage\n",
            "[youtube] KxcxJcKzgkg: Downloading android player API JSON\n",
            "[youtube] Extracting URL: LcS4MFqCajA\n",
            "[youtube] LcS4MFqCajA: Downloading webpage\n",
            "[youtube] LcS4MFqCajA: Downloading android player API JSON\n",
            "[youtube] Extracting URL: GbFuPV7l-Zg\n",
            "[youtube] GbFuPV7l-Zg: Downloading webpage\n",
            "[youtube] GbFuPV7l-Zg: Downloading android player API JSON\n",
            "[youtube] Extracting URL: 9TCkdvcfDg0\n",
            "[youtube] 9TCkdvcfDg0: Downloading webpage\n",
            "[youtube] 9TCkdvcfDg0: Downloading android player API JSON\n",
            "9TCkdvcfDg0 []\n",
            "[youtube] Extracting URL: https://www.youtube.com/watch?v=9TCkdvcfDg0\n",
            "[youtube] 9TCkdvcfDg0: Downloading webpage\n",
            "[youtube] 9TCkdvcfDg0: Downloading android player API JSON\n",
            "[info] 9TCkdvcfDg0: Downloading subtitles: en\n",
            "[info] 9TCkdvcfDg0: Downloading 1 format(s): 303+251\n",
            "[info] Writing video subtitles to: /content/TestFolder1/9TCkdvcfDg0.en.vtt\n",
            "[download] Destination: /content/TestFolder1/9TCkdvcfDg0.en.vtt\n",
            "[download] 100% of    9.08KiB in 00:00:00 at 109.85KiB/s\n",
            "Processing captions...\n",
            "100.00% elapsed: 0:00:00, remaining: 0:00:00"
          ]
        },
        {
          "output_type": "stream",
          "name": "stderr",
          "text": [
            "Opening /content/TestFolder2/data.1.json.gz for reading...\n",
            "Closed /content/TestFolder2/data.1.json.gz.\n",
            "\n",
            "  0%|          | 0/1 [00:00<?, ?it/s]\u001b[A"
          ]
        },
        {
          "output_type": "stream",
          "name": "stdout",
          "text": [
            "Input Video ID: 9TCkdvcfDg0\n"
          ]
        },
        {
          "output_type": "stream",
          "name": "stderr",
          "text": [
            "\n",
            "100%|██████████| 1/1 [00:00<00:00,  1.78it/s]"
          ]
        },
        {
          "output_type": "stream",
          "name": "stdout",
          "text": [
            "p1 [(0, 3)]\n",
            "p2 [(0, 3)]\n"
          ]
        },
        {
          "output_type": "stream",
          "name": "stderr",
          "text": [
            "\n"
          ]
        },
        {
          "output_type": "stream",
          "name": "stdout",
          "text": [
            "1/1 [==============================] - 0s 32ms/step\n",
            "ALL Available\n",
            "NLP: (0, 3)\n",
            "LSTM: (0, 0)\n",
            "DeiT (85, 99)\n",
            "\tPredicted=(0, 0),\n",
            "\tExpected=[[0, 0]]\n",
            "IOU: 0.6566671176046177\n",
            "Accuracy: [0.0, 0.0, 0.0, 0.0, 0.2, 0.0, 0.0, 0.0, 1.0, 0.0, 1.0, 1.0, 1.0, 0.0, 1.0, 1.0, 1.0, 0.0, 0.0, 0.0, 1.0, 0.0, 0.0, 1.0, 1.0, 0.0, 0.0, 0.0, 1.0, 1.0, 1.0, 0.0, 1.0, 0.0, 1.0, 0.0, 1.0, 0.0, 1.0, 1.0, 0.0, 1.0, 1.0, 1.0, 0.0, 0.0, 1.0, 0.09090909090909091, 1.0, 1.0, 1.0, 1.0, 0.0, 0.0, 0.0, 0.0, 1.0, 1.0, 0.0, 1.0, 0.0, 1.0, 0.0, 0.16666666666666666, 0.0, 0.3333333333333333, 0.0, 0.15384615384615385, 0.0, 1.0, 0.2, 1.0, 0.0, 0.0, 1.0, 0.0, 1.0, 1.0, 0.0, 1.0, 0.027777777777777776, 0.0, 1.0, 0.0, 1.0, 0.0, 1.0, 0.0, 1.0, 0.0, 1.0, 0.0, 1.0, 1.0, 1.0, 1.0, 1.0, 0.0, 0.0, 1.0, 1.0, 1.0, 0.0, 0.0, 0.0, 1.0, 1.0, 1.0, 0.0, 1.0, 1.0, 1.0, 0.0, 1.0, 1.0, 0.0, 0.0, 1.0, 0.0, 0.0, 0.0, 0.0, 0.0, 1.0, 1.0, 1.0, 0.0, 0.0, 1.0, 1.0, 1.0, 0.0, 1.0, 1.0, 1.0, 1.0, 1.0, 0.0, 0.0, 0.0, 0.0, 1.0, 1.0, 0.0, 1.0, 0.0, 1.0, 1.0, 1.0, 1.0, 0.0, 0.14285714285714285, 0.0, 0.0, 0.0, 0.0, 0.0, 0.0, 1.0, 0.0, 0.0, 1.0, 0.0, 0.0, 0.0, 0.0, 0.0, 0.0, 0.0, 0.0, 1.0, 0.0, 1.0, 0.0, 1.0, 0.0, 0.0, 1.0, 0.0, 0.0, 0.0, 0.0, 0.0, 1.0, 1.0, 1.0, 0.0, 1.0, 1.0, 1.0, 0.0, 1.0, 0.3333333333333333, 0.0, 0.0, 1.0, 0.0, 1.0, 0.0, 1.0, 1.0, 0.0, 0.0, 1.0, 0.0, 0.0, 0.14285714285714285, 0.0, 0.0, 0.0, 1.0, 0.0, 1.0, 0.0, 0.0, 0.0, 1.0, 0.0, 1.0, 1.0, 1.0, 1.0, 0.0, 1.0, 1.0, 0.0, 0.0, 0.0, 0.0, 1.0, 1.0, 0.0, 1.0, 0.0, 0.0, 1.0, 0.0, 1.0, 1.0, 1.0, 0.0, 1.0, 0.0, 1.0, 1.0, 1.0, 1.0, 1.0, 0.0, 1.0, 0.0, 0.0, 1.0, 0.0, 0.0, 1.0]\n",
            "Confusion matrix [[123181    970]\n",
            " [  1230    132]]\n",
            "Accuracy 0.9824719351780293\n",
            "Precision 0.11978221415607986\n",
            "Recall 0.09691629955947137\n"
          ]
        }
      ]
    }
  ]
}